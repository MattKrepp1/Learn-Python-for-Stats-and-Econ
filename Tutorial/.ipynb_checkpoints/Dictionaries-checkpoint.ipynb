{
 "cells": [
  {
   "cell_type": "markdown",
   "metadata": {},
   "source": [
    "# Dictionaries\n",
    "\n",
    "Dictionaries are the fundamental data structures that we will be working with in class. To create a dictionary, we use curly brackets ({}). Within the brackets, we define each entry in the dictionary with a key and the object that the key points to. Thus, the dictionary takes the form:\n",
    "\n",
    "> {key:obj}\n",
    "\n",
    "Let's create a dictionary with definitions of words"
   ]
  },
  {
   "cell_type": "code",
   "execution_count": 9,
   "metadata": {},
   "outputs": [
    {
     "data": {
      "text/plain": [
       "{'run': 'to move swiftly by foot', 'walk': 'to move slowly, leasurely by foot'}"
      ]
     },
     "execution_count": 9,
     "metadata": {},
     "output_type": "execute_result"
    }
   ],
   "source": [
    "dct = {}\n",
    "dct = {\"run\": \"to move swiftly by foot\",\n",
    "      \"walk\" : \"to move slowly, leasurely by foot\"}\n",
    "dct"
   ]
  },
  {
   "cell_type": "markdown",
   "metadata": {},
   "source": [
    "You can see the words and their definitions, but what if you wanted to include multiple definitions for each word. For this purpose, you will create a new dictionary for each entry. "
   ]
  },
  {
   "cell_type": "code",
   "execution_count": 11,
   "metadata": {},
   "outputs": [
    {
     "data": {
      "text/plain": [
       "{'run': {}, 'walk': {}}"
      ]
     },
     "execution_count": 11,
     "metadata": {},
     "output_type": "execute_result"
    }
   ],
   "source": [
    "dct = {\"run\":{},\n",
    "       \"walk\":{}}\n",
    "dct"
   ]
  },
  {
   "cell_type": "markdown",
   "metadata": {},
   "source": [
    "Next, let's include definitions for each word as a verb and as a noun."
   ]
  },
  {
   "cell_type": "code",
   "execution_count": 13,
   "metadata": {},
   "outputs": [
    {
     "data": {
      "text/plain": [
       "{'run': {'verb': 'to move swiftly by foot',\n",
       "  'noun': 'refers to a period of time while one was running'},\n",
       " 'walk': {'verb': 'to move slowly, leasurely by foot',\n",
       "  'noun': 'refers to a period of time while one was walking'}}"
      ]
     },
     "execution_count": 13,
     "metadata": {},
     "output_type": "execute_result"
    }
   ],
   "source": [
    "dct = {\"run\": {\"verb\":\"to move swiftly by foot\", \n",
    "               \"noun\":\"refers to a period of time while one was running\"},\n",
    "       \"walk\" :{\"verb\" : \"to move slowly, leasurely by foot\",\n",
    "                \"noun\": \"refers to a period of time while one was walking\"}}\n",
    "dct"
   ]
  },
  {
   "cell_type": "markdown",
   "metadata": {},
   "source": [
    "Since the second layer of keys in each dictionary is the same ({\"noun\" : def, \"verb\" : def}), the dataframe will automatically index the rows as \"noun\" and \"verb\"."
   ]
  },
  {
   "cell_type": "code",
   "execution_count": 14,
   "metadata": {},
   "outputs": [
    {
     "data": {
      "text/html": [
       "<div>\n",
       "<style scoped>\n",
       "    .dataframe tbody tr th:only-of-type {\n",
       "        vertical-align: middle;\n",
       "    }\n",
       "\n",
       "    .dataframe tbody tr th {\n",
       "        vertical-align: top;\n",
       "    }\n",
       "\n",
       "    .dataframe thead th {\n",
       "        text-align: right;\n",
       "    }\n",
       "</style>\n",
       "<table border=\"1\" class=\"dataframe\">\n",
       "  <thead>\n",
       "    <tr style=\"text-align: right;\">\n",
       "      <th></th>\n",
       "      <th>run</th>\n",
       "      <th>walk</th>\n",
       "    </tr>\n",
       "  </thead>\n",
       "  <tbody>\n",
       "    <tr>\n",
       "      <th>noun</th>\n",
       "      <td>refers to a period of time while one was running</td>\n",
       "      <td>refers to a period of time while one was walking</td>\n",
       "    </tr>\n",
       "    <tr>\n",
       "      <th>verb</th>\n",
       "      <td>to move swiftly by foot</td>\n",
       "      <td>to move slowly, leasurely by foot</td>\n",
       "    </tr>\n",
       "  </tbody>\n",
       "</table>\n",
       "</div>"
      ],
      "text/plain": [
       "                                                   run  \\\n",
       "noun  refers to a period of time while one was running   \n",
       "verb                           to move swiftly by foot   \n",
       "\n",
       "                                                  walk  \n",
       "noun  refers to a period of time while one was walking  \n",
       "verb                 to move slowly, leasurely by foot  "
      ]
     },
     "execution_count": 14,
     "metadata": {},
     "output_type": "execute_result"
    }
   ],
   "source": [
    "import pandas as pd\n",
    "df = pd.DataFrame(dct)\n",
    "df"
   ]
  }
 ],
 "metadata": {
  "kernelspec": {
   "display_name": "Python 3",
   "language": "python",
   "name": "python3"
  },
  "language_info": {
   "codemirror_mode": {
    "name": "ipython",
    "version": 3
   },
   "file_extension": ".py",
   "mimetype": "text/x-python",
   "name": "python",
   "nbconvert_exporter": "python",
   "pygments_lexer": "ipython3",
   "version": "3.7.6"
  }
 },
 "nbformat": 4,
 "nbformat_minor": 4
}
