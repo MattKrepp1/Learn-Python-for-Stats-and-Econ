{
 "cells": [
  {
   "cell_type": "markdown",
   "metadata": {},
   "source": [
    "# Saving plots using PdfPages\n",
    "\n",
    "In this tutorial, we create a parabola. On each consecutive page of the pdf, we plot a growing range of this parabola. As you cycle through  the pages, the parabola seems to grow"
   ]
  },
  {
   "cell_type": "code",
   "execution_count": 1,
   "metadata": {},
   "outputs": [],
   "source": [
    "import pandas as pd\n",
    "import matplotlib.pyplot as plt\n",
    "from matplotlib.backends.backend_pdf import PdfPages\n",
    "\n",
    "parabola = [x ** 2 for x in range(100)]\n",
    "pp = PdfPages(\"growingParabola.pdf\")\n",
    "\n",
    "for i in range(1, len(parabola)):\n",
    "    fig, ax = plt.subplots(figsize = (40,20))\n",
    "    ax.set_ylim(bottom = 0, top = parabola[-1])\n",
    "    ax.set_xlim(left = 0, right = len(parabola))\n",
    "    plt.plot(parabola[:i], linewidth = 5)\n",
    "    pp.savefig(fig, bbox_inches = \"tight\")\n",
    "    plt.close()  \n",
    "pp.close()"
   ]
  }
 ],
 "metadata": {
  "kernelspec": {
   "display_name": "Python 3",
   "language": "python",
   "name": "python3"
  },
  "language_info": {
   "codemirror_mode": {
    "name": "ipython",
    "version": 3
   },
   "file_extension": ".py",
   "mimetype": "text/x-python",
   "name": "python",
   "nbconvert_exporter": "python",
   "pygments_lexer": "ipython3",
   "version": "3.7.6"
  }
 },
 "nbformat": 4,
 "nbformat_minor": 4
}
