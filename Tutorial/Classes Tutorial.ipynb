{
 "cells": [
  {
   "cell_type": "code",
   "execution_count": 1,
   "metadata": {},
   "outputs": [],
   "source": [
    "class Arithmetic:\n",
    "    def __init__(self, name):\n",
    "        self.name = name\n",
    "        self.value = 100\n",
    "        \n",
    "    def add(self, *args):\n",
    "        total = 0\n",
    "        try:\n",
    "            for arg in args:\n",
    "                total += arg\n",
    "                \n",
    "            return total\n",
    "        except:\n",
    "            (\"pass ints or floats to add()\")\n",
    "\n",
    "    def multiply(self, *args):\n",
    "        product = 1\n",
    "        try:\n",
    "            for arg in args: \n",
    "                product *= arg\n",
    "            return product\n",
    "        except:\n",
    "            print(\"pass only int or float to multiply()\")\n",
    "    def power(self, base, exp):\n",
    "        try:\n",
    "            result = base ** exp\n",
    "            return result\n",
    "        except:\n",
    "            print(\"pass only int or float to power()\")"
   ]
  },
  {
   "cell_type": "code",
   "execution_count": 2,
   "metadata": {},
   "outputs": [
    {
     "name": "stdout",
     "output_type": "stream",
     "text": [
      "<__main__.Arithmetic object at 0x000001B282DE5388>\n",
      "10\n",
      "24\n",
      "81\n",
      "Instance of Arithmetic Class\n",
      "100\n",
      "{'name': 'Instance of Arithmetic Class', 'value': 100}\n"
     ]
    }
   ],
   "source": [
    "arithmetic = Arithmetic(\"Instance of Arithmetic Class\")\n",
    "print(arithmetic)\n",
    "print(arithmetic.add(1,2,3,4))\n",
    "print(arithmetic.multiply(1,2,3,4))\n",
    "print(arithmetic.power(3,4))\n",
    "print(arithmetic.name)\n",
    "print(arithmetic.value)\n",
    "print(arithmetic.__dict__)"
   ]
  }
 ],
 "metadata": {
  "kernelspec": {
   "display_name": "Python 3",
   "language": "python",
   "name": "python3"
  },
  "language_info": {
   "codemirror_mode": {
    "name": "ipython",
    "version": 3
   },
   "file_extension": ".py",
   "mimetype": "text/x-python",
   "name": "python",
   "nbconvert_exporter": "python",
   "pygments_lexer": "ipython3",
   "version": "3.7.6"
  }
 },
 "nbformat": 4,
 "nbformat_minor": 4
}
