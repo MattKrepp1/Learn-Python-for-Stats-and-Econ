{
 "cells": [
  {
   "cell_type": "markdown",
   "id": "518d0d02",
   "metadata": {},
   "source": [
    "# Introduction to _numpy_, _pandas_, and _matplotlib_"
   ]
  },
  {
   "cell_type": "code",
   "execution_count": 1,
   "id": "659a1558",
   "metadata": {},
   "outputs": [],
   "source": [
    "import numpy as np\n",
    "import pandas as pd\n",
    "import matplotlib.pyplot as plt"
   ]
  },
  {
   "cell_type": "code",
   "execution_count": 3,
   "id": "111d9fa3",
   "metadata": {},
   "outputs": [
    {
     "data": {
      "text/plain": [
       "(<module 'numpy' from 'C:\\\\ProgramData\\\\Anaconda3\\\\lib\\\\site-packages\\\\numpy\\\\__init__.py'>,\n",
       " <module 'pandas' from 'C:\\\\ProgramData\\\\Anaconda3\\\\lib\\\\site-packages\\\\pandas\\\\__init__.py'>,\n",
       " <module 'matplotlib.pyplot' from 'C:\\\\ProgramData\\\\Anaconda3\\\\lib\\\\site-packages\\\\matplotlib\\\\pyplot.py'>)"
      ]
     },
     "execution_count": 3,
     "metadata": {},
     "output_type": "execute_result"
    }
   ],
   "source": [
    "np, pd, plt"
   ]
  },
  {
   "cell_type": "markdown",
   "id": "b365a5bc",
   "metadata": {},
   "source": [
    "## numpy datatypes\n",
    "### float32"
   ]
  },
  {
   "cell_type": "code",
   "execution_count": 37,
   "id": "18401316",
   "metadata": {},
   "outputs": [
    {
     "data": {
      "text/plain": [
       "(1.7014118e+38, numpy.float32)"
      ]
     },
     "execution_count": 37,
     "metadata": {},
     "output_type": "execute_result"
    }
   ],
   "source": [
    "x = np.float32(2 ** 127)\n",
    "x, type(x)"
   ]
  },
  {
   "cell_type": "markdown",
   "id": "50f8262b",
   "metadata": {},
   "source": [
    "### float64"
   ]
  },
  {
   "cell_type": "code",
   "execution_count": 49,
   "id": "2b69df8d",
   "metadata": {},
   "outputs": [
    {
     "name": "stderr",
     "output_type": "stream",
     "text": [
      "C:\\Users\\JLCat\\AppData\\Local\\Temp\\ipykernel_22308\\3357549316.py:1: RuntimeWarning: overflow encountered in double_scalars\n",
      "  x = np.float64(2)**1024\n"
     ]
    },
    {
     "data": {
      "text/plain": [
       "(inf, numpy.float64)"
      ]
     },
     "execution_count": 49,
     "metadata": {},
     "output_type": "execute_result"
    }
   ],
   "source": [
    "x = np.float64(2)**1024\n",
    "x, type(x)"
   ]
  },
  {
   "cell_type": "markdown",
   "id": "4d08796a",
   "metadata": {},
   "source": [
    "### arrays have a fixed datatype"
   ]
  },
  {
   "cell_type": "code",
   "execution_count": 52,
   "id": "290edaa2",
   "metadata": {},
   "outputs": [
    {
     "data": {
      "text/plain": [
       "(array([1., 2., 3., 4., 5.]), numpy.ndarray, dtype('float64'))"
      ]
     },
     "execution_count": 52,
     "metadata": {},
     "output_type": "execute_result"
    }
   ],
   "source": [
    "lst = [1.,2.,3.,4.,5.]\n",
    "array = np.array(lst)\n",
    "array, type(array), array.dtype"
   ]
  },
  {
   "cell_type": "code",
   "execution_count": 63,
   "id": "454b167b",
   "metadata": {},
   "outputs": [
    {
     "data": {
      "text/plain": [
       "array([  0,  10,  20,  30,  40,  50,  60,  70,  80,  90, 100])"
      ]
     },
     "execution_count": 63,
     "metadata": {},
     "output_type": "execute_result"
    }
   ],
   "source": [
    "# np.arange creates array similar to how one would use a for loop // generator\n",
    "## to create a list\n",
    "start = 0\n",
    "end = 100\n",
    "interval = 10\n",
    "range_array = np.arange(start,end + 1, interval)\n",
    "range_array"
   ]
  },
  {
   "cell_type": "code",
   "execution_count": 64,
   "id": "fbf032e8",
   "metadata": {},
   "outputs": [
    {
     "data": {
      "text/plain": [
       "[0, 10, 20, 30, 40, 50, 60, 70, 80, 90, 100]"
      ]
     },
     "execution_count": 64,
     "metadata": {},
     "output_type": "execute_result"
    }
   ],
   "source": [
    "# before we were making lists in this manner\n",
    "range_list = [i for i in range(start,end + 1,interval)]\n",
    "range_list"
   ]
  },
  {
   "cell_type": "markdown",
   "id": "2eb5abe0",
   "metadata": {},
   "source": [
    "## two dimensional lists and arrays\n",
    "\n",
    "### Create two dimensional list"
   ]
  },
  {
   "cell_type": "code",
   "execution_count": 67,
   "id": "35986496",
   "metadata": {},
   "outputs": [
    {
     "data": {
      "text/plain": [
       "[[1, 2, 3], [4, 5, 6], [7, 8, 9]]"
      ]
     },
     "execution_count": 67,
     "metadata": {},
     "output_type": "execute_result"
    }
   ],
   "source": [
    "list_of_lists = [[1,2,3],[4,5,6],[7,8,9]]\n",
    "list_of_lists"
   ]
  },
  {
   "cell_type": "markdown",
   "id": "cdbe8032",
   "metadata": {},
   "source": [
    "## transform that two dimensional list to a \n",
    "##  two dimensional array"
   ]
  },
  {
   "cell_type": "code",
   "execution_count": 69,
   "id": "fee45716",
   "metadata": {},
   "outputs": [
    {
     "data": {
      "text/plain": [
       "array([[1, 2, 3],\n",
       "       [4, 5, 6],\n",
       "       [7, 8, 9]])"
      ]
     },
     "execution_count": 69,
     "metadata": {},
     "output_type": "execute_result"
    }
   ],
   "source": [
    "two_dim_array = np.array(list_of_lists)\n",
    "two_dim_array"
   ]
  },
  {
   "cell_type": "markdown",
   "id": "01fe6e70",
   "metadata": {},
   "source": [
    "### call the 0th row of the two_dim_array"
   ]
  },
  {
   "cell_type": "code",
   "execution_count": 92,
   "id": "106df333",
   "metadata": {},
   "outputs": [
    {
     "data": {
      "text/plain": [
       "array([1, 2, 3])"
      ]
     },
     "execution_count": 92,
     "metadata": {},
     "output_type": "execute_result"
    }
   ],
   "source": [
    "two_dim_array[0]"
   ]
  },
  {
   "cell_type": "markdown",
   "id": "ed7ad569",
   "metadata": {},
   "source": [
    "### call the 0th element of the 0th row"
   ]
  },
  {
   "cell_type": "code",
   "execution_count": 95,
   "id": "bab71868",
   "metadata": {},
   "outputs": [
    {
     "data": {
      "text/plain": [
       "1"
      ]
     },
     "execution_count": 95,
     "metadata": {},
     "output_type": "execute_result"
    }
   ],
   "source": [
    "two_dim_array[0][0]"
   ]
  },
  {
   "cell_type": "markdown",
   "id": "8a11cf7a",
   "metadata": {},
   "source": [
    "### call the 1st element of the 0th row"
   ]
  },
  {
   "cell_type": "code",
   "execution_count": 94,
   "id": "661878b5",
   "metadata": {},
   "outputs": [
    {
     "data": {
      "text/plain": [
       "2"
      ]
     },
     "execution_count": 94,
     "metadata": {},
     "output_type": "execute_result"
    }
   ],
   "source": [
    "two_dim_array[0][1]"
   ]
  },
  {
   "cell_type": "markdown",
   "id": "b7a681d0",
   "metadata": {},
   "source": [
    "### use a for loop to call the first index in the two_dim_array as $i$\n",
    "\n",
    "### calling two_dim_array$[i]$ will yield the $i^{th}$ row"
   ]
  },
  {
   "cell_type": "code",
   "execution_count": 98,
   "id": "76615695",
   "metadata": {},
   "outputs": [
    {
     "name": "stdout",
     "output_type": "stream",
     "text": [
      "0\n",
      "[1 2 3]\n",
      "1\n",
      "[4 5 6]\n",
      "2\n",
      "[7 8 9]\n"
     ]
    }
   ],
   "source": [
    "for i in range(len(two_dim_array)):\n",
    "    print(i)\n",
    "    print(two_dim_array[i])"
   ]
  },
  {
   "cell_type": "markdown",
   "id": "5de6a817",
   "metadata": {},
   "source": [
    "### passing the row to a second for loop will cycle through \n",
    "### the second (row) index as $j$. Calling row$[j]$ will yield \n",
    "### the $j^{th}$ value from the row\n"
   ]
  },
  {
   "cell_type": "code",
   "execution_count": 88,
   "id": "4affdab2",
   "metadata": {},
   "outputs": [
    {
     "name": "stdout",
     "output_type": "stream",
     "text": [
      "i j:\n",
      "0 0\n",
      "val: 1\n",
      "0 1\n",
      "val: 2\n",
      "0 2\n",
      "val: 3\n",
      "1 0\n",
      "val: 4\n",
      "1 1\n",
      "val: 5\n",
      "1 2\n",
      "val: 6\n",
      "2 0\n",
      "val: 7\n",
      "2 1\n",
      "val: 8\n",
      "2 2\n",
      "val: 9\n"
     ]
    }
   ],
   "source": [
    "print(\"i j:\")\n",
    "for i in range(len(two_dim_array)):\n",
    "    row = two_dim_array[i]\n",
    "    for j in range(len(row)):\n",
    "        print(i,j)\n",
    "        print(\"val:\", row[j])"
   ]
  },
  {
   "cell_type": "code",
   "execution_count": 99,
   "id": "9266fbe6",
   "metadata": {},
   "outputs": [
    {
     "name": "stdout",
     "output_type": "stream",
     "text": [
      "[1 2 3]\n",
      "1\n",
      "2\n",
      "3\n",
      "[4 5 6]\n",
      "4\n",
      "5\n",
      "6\n",
      "[7 8 9]\n",
      "7\n",
      "8\n",
      "9\n"
     ]
    }
   ],
   "source": [
    "for row in two_dim_array:\n",
    "    print(row)\n",
    "    for val in row:\n",
    "        print(val)\n"
   ]
  },
  {
   "cell_type": "markdown",
   "id": "3330c30e",
   "metadata": {},
   "source": [
    "## np.zeros(), np.ones(), np.empty()\n",
    "\n",
    "## np.zeros_like(e.g., list/array), np.ones_like(), np.empty_like()"
   ]
  },
  {
   "cell_type": "code",
   "execution_count": 101,
   "id": "efa6f35f",
   "metadata": {
    "scrolled": false
   },
   "outputs": [
    {
     "data": {
      "text/plain": [
       "array([[0., 0., 0., 0., 0., 0., 0., 0., 0., 0.],\n",
       "       [0., 0., 0., 0., 0., 0., 0., 0., 0., 0.],\n",
       "       [0., 0., 0., 0., 0., 0., 0., 0., 0., 0.],\n",
       "       [0., 0., 0., 0., 0., 0., 0., 0., 0., 0.],\n",
       "       [0., 0., 0., 0., 0., 0., 0., 0., 0., 0.],\n",
       "       [0., 0., 0., 0., 0., 0., 0., 0., 0., 0.],\n",
       "       [0., 0., 0., 0., 0., 0., 0., 0., 0., 0.],\n",
       "       [0., 0., 0., 0., 0., 0., 0., 0., 0., 0.],\n",
       "       [0., 0., 0., 0., 0., 0., 0., 0., 0., 0.],\n",
       "       [0., 0., 0., 0., 0., 0., 0., 0., 0., 0.]])"
      ]
     },
     "execution_count": 101,
     "metadata": {},
     "output_type": "execute_result"
    }
   ],
   "source": [
    "np.zeros((10,10))"
   ]
  },
  {
   "cell_type": "code",
   "execution_count": 103,
   "id": "35a6a1d1",
   "metadata": {},
   "outputs": [
    {
     "data": {
      "text/plain": [
       "array([[0., 0., 0., 0., 0., 0., 0., 0., 0., 0.],\n",
       "       [0., 0., 0., 0., 0., 0., 0., 0., 0., 0.],\n",
       "       [0., 0., 0., 0., 0., 0., 0., 0., 0., 0.],\n",
       "       [0., 0., 0., 0., 0., 0., 0., 0., 0., 0.],\n",
       "       [0., 0., 0., 0., 0., 0., 0., 0., 0., 0.],\n",
       "       [0., 0., 0., 0., 0., 0., 0., 0., 0., 0.],\n",
       "       [0., 0., 0., 0., 0., 0., 0., 0., 0., 0.],\n",
       "       [0., 0., 0., 0., 0., 0., 0., 0., 0., 0.],\n",
       "       [0., 0., 0., 0., 0., 0., 0., 0., 0., 0.],\n",
       "       [0., 0., 0., 0., 0., 0., 0., 0., 0., 0.]])"
      ]
     },
     "execution_count": 103,
     "metadata": {},
     "output_type": "execute_result"
    }
   ],
   "source": [
    "np.empty((10,10))"
   ]
  },
  {
   "cell_type": "code",
   "execution_count": 105,
   "id": "1875fd91",
   "metadata": {},
   "outputs": [
    {
     "data": {
      "text/plain": [
       "array([[1., 1., 1., 1., 1., 1., 1., 1., 1., 1.],\n",
       "       [1., 1., 1., 1., 1., 1., 1., 1., 1., 1.],\n",
       "       [1., 1., 1., 1., 1., 1., 1., 1., 1., 1.],\n",
       "       [1., 1., 1., 1., 1., 1., 1., 1., 1., 1.],\n",
       "       [1., 1., 1., 1., 1., 1., 1., 1., 1., 1.],\n",
       "       [1., 1., 1., 1., 1., 1., 1., 1., 1., 1.],\n",
       "       [1., 1., 1., 1., 1., 1., 1., 1., 1., 1.],\n",
       "       [1., 1., 1., 1., 1., 1., 1., 1., 1., 1.],\n",
       "       [1., 1., 1., 1., 1., 1., 1., 1., 1., 1.],\n",
       "       [1., 1., 1., 1., 1., 1., 1., 1., 1., 1.]])"
      ]
     },
     "execution_count": 105,
     "metadata": {},
     "output_type": "execute_result"
    }
   ],
   "source": [
    "np.ones((10,10))"
   ]
  },
  {
   "cell_type": "code",
   "execution_count": 108,
   "id": "3f904f9f",
   "metadata": {},
   "outputs": [
    {
     "data": {
      "text/plain": [
       "array([[0, 0, 0],\n",
       "       [0, 0, 0],\n",
       "       [0, 0, 0]])"
      ]
     },
     "execution_count": 108,
     "metadata": {},
     "output_type": "execute_result"
    }
   ],
   "source": [
    "l = list_of_lists\n",
    "np.zeros_like(l)"
   ]
  },
  {
   "cell_type": "code",
   "execution_count": 110,
   "id": "ddecae3b",
   "metadata": {},
   "outputs": [
    {
     "data": {
      "text/plain": [
       "array([[1, 1, 1],\n",
       "       [1, 1, 1],\n",
       "       [1, 1, 1]])"
      ]
     },
     "execution_count": 110,
     "metadata": {},
     "output_type": "execute_result"
    }
   ],
   "source": [
    "np.ones_like((l))"
   ]
  },
  {
   "cell_type": "code",
   "execution_count": 112,
   "id": "83138fae",
   "metadata": {},
   "outputs": [
    {
     "data": {
      "text/plain": [
       "array([[16843009, 16843009, 16843009],\n",
       "       [16843009, 16843009, 16843009],\n",
       "       [16843009, 16843009, 16843009]])"
      ]
     },
     "execution_count": 112,
     "metadata": {},
     "output_type": "execute_result"
    }
   ],
   "source": [
    "np.empty_like(l)"
   ]
  },
  {
   "cell_type": "markdown",
   "id": "6ffbb944",
   "metadata": {},
   "source": [
    "## log values"
   ]
  },
  {
   "cell_type": "code",
   "execution_count": 114,
   "id": "2004eac4",
   "metadata": {},
   "outputs": [
    {
     "data": {
      "text/plain": [
       "0.0"
      ]
     },
     "execution_count": 114,
     "metadata": {},
     "output_type": "execute_result"
    }
   ],
   "source": [
    "np.log(1)"
   ]
  },
  {
   "cell_type": "code",
   "execution_count": 116,
   "id": "a77639d8",
   "metadata": {},
   "outputs": [
    {
     "data": {
      "text/plain": [
       "1.0"
      ]
     },
     "execution_count": 116,
     "metadata": {},
     "output_type": "execute_result"
    }
   ],
   "source": [
    "np.log(np.e)"
   ]
  },
  {
   "cell_type": "code",
   "execution_count": 118,
   "id": "939b14f2",
   "metadata": {},
   "outputs": [
    {
     "data": {
      "text/plain": [
       "array([[0.        , 0.69314718, 1.09861229],\n",
       "       [1.38629436, 1.60943791, 1.79175947],\n",
       "       [1.94591015, 2.07944154, 2.19722458]])"
      ]
     },
     "execution_count": 118,
     "metadata": {},
     "output_type": "execute_result"
    }
   ],
   "source": [
    "np.log(two_dim_array)"
   ]
  },
  {
   "cell_type": "code",
   "execution_count": 120,
   "id": "54f1d07f",
   "metadata": {},
   "outputs": [
    {
     "data": {
      "text/plain": [
       "array([[0.        , 0.30103   , 0.47712125],\n",
       "       [0.60205999, 0.69897   , 0.77815125],\n",
       "       [0.84509804, 0.90308999, 0.95424251]])"
      ]
     },
     "execution_count": 120,
     "metadata": {},
     "output_type": "execute_result"
    }
   ],
   "source": [
    "np.log10(two_dim_array)"
   ]
  },
  {
   "cell_type": "code",
   "execution_count": 122,
   "id": "e35ec52a",
   "metadata": {},
   "outputs": [
    {
     "data": {
      "text/plain": [
       "(3.141592653589793, 2.718281828459045, 1.0, inf, nan)"
      ]
     },
     "execution_count": 122,
     "metadata": {},
     "output_type": "execute_result"
    }
   ],
   "source": [
    "pi = np.pi\n",
    "e = np.e\n",
    "lne = np.log(e)\n",
    "infinity = np.inf\n",
    "null_val = np.nan\n",
    "pi, e, lne, infinity, null_val"
   ]
  }
 ],
 "metadata": {
  "kernelspec": {
   "display_name": "Python 3 (ipykernel)",
   "language": "python",
   "name": "python3"
  },
  "language_info": {
   "codemirror_mode": {
    "name": "ipython",
    "version": 3
   },
   "file_extension": ".py",
   "mimetype": "text/x-python",
   "name": "python",
   "nbconvert_exporter": "python",
   "pygments_lexer": "ipython3",
   "version": "3.9.12"
  }
 },
 "nbformat": 4,
 "nbformat_minor": 5
}
