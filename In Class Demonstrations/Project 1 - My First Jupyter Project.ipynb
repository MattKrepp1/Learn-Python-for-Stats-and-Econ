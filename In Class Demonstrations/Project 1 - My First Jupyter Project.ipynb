{
 "cells": [
  {
   "cell_type": "markdown",
   "metadata": {},
   "source": [
    "# Project 1: My First Jupyter Project\n",
    "\n",
    "## Goal\n",
    "\n",
    "Create a dictionary that holds information concerning NDSU AAE Faculty\n",
    "\n",
    "* What is a dictinary?\n",
    "\n",
    "* Where do I get this info from?\n",
    "\n",
    "## What is a dictionary?\n",
    "\n",
    "A dictionary is a data structure that stores data objects that linked to keys. Data objects can be numbers (integers or floats), strings (\"text in quotations\"), dataframes, etc...\n",
    "\n",
    "What are keys?: Keys are inputs that link to a particular output.\n",
    "\n",
    "Dictionaries are the fundamental data structures that we will be working with in class. To create a dictionary, we use curly brackets ({}). Within the brackets, we define each entry in the dictionary with a key and the object that the key points to. Thus, the dictionary takes the form:\n",
    "\n",
    "> {key:obj}\n",
    "\n",
    "Let's create a dictionary with definitions of words:"
   ]
  },
  {
   "cell_type": "code",
   "execution_count": null,
   "metadata": {},
   "outputs": [],
   "source": [
    "dct = {}\n",
    "dct = {\"run\": \"to move swiftly by foot\",\n",
    "      \"walk\" : \"to move slowly, leasurely by foot\"}\n",
    "dct"
   ]
  },
  {
   "cell_type": "markdown",
   "metadata": {},
   "source": [
    "You can see the words and their definitions, but what if you wanted to include multiple definitions for each word. For this purpose, you will create a new dictionary for each entry. "
   ]
  },
  {
   "cell_type": "code",
   "execution_count": null,
   "metadata": {},
   "outputs": [],
   "source": [
    "dct = {\"run\":{},\n",
    "       \"walk\":{}}\n",
    "dct"
   ]
  },
  {
   "cell_type": "markdown",
   "metadata": {},
   "source": [
    "Next, let's include definitions for each word as a verb and as a noun."
   ]
  },
  {
   "cell_type": "code",
   "execution_count": null,
   "metadata": {},
   "outputs": [],
   "source": [
    "dct = {\"run\": {\"verb\":\"to move swiftly by foot\", \n",
    "               \"noun\":\"refers to a period of time while one was running\"},\n",
    "       \"walk\" :{\"verb\" : \"to move slowly, leasurely by foot\",\n",
    "                \"noun\": \"refers to a period of time while one was walking\"}}\n",
    "dct"
   ]
  },
  {
   "cell_type": "markdown",
   "metadata": {},
   "source": [
    "Since the second layer of keys in each dictionary is the same ({\"noun\" : def, \"verb\" : def}), the dataframe will automatically index the rows as \"noun\" and \"verb\"."
   ]
  },
  {
   "cell_type": "code",
   "execution_count": null,
   "metadata": {},
   "outputs": [],
   "source": [
    "import pandas as pd\n",
    "df = pd.DataFrame(dct)\n",
    "df"
   ]
  },
  {
   "cell_type": "markdown",
   "metadata": {},
   "source": [
    "Next, let's make a dictionary with entries for every student in class."
   ]
  },
  {
   "cell_type": "code",
   "execution_count": 23,
   "metadata": {},
   "outputs": [
    {
     "name": "stdout",
     "output_type": "stream",
     "text": [
      "{'Tyler': {'Age': 21, 'Interesting Fact': 'I am left-handed / ambidextrious!'}, 'Emmanuel': {'Age': 32, 'Interesting Fact': \"I have 7 degrees!!! And I'm earning the M.S. Data Analytics\"}, 'Amanda': {}, 'Logan': {'Age': 22, 'Interesting Fact': 'I fight fires!'}, 'Connor': {'Age': 21, 'Interesting Fact': 'I like to play tennis!'}, 'Dylan': {'Age': 21, 'Interesting Fact': 'I am a triplet!'}, 'Gwen': {'Age': 23, 'Interesting Fact': 'I bought my first cow when I was 10 years old!'}, 'Jack': {'Age': 21, 'Interesting Fact': 'I have never broken a bone!'}, 'Ben': {'Age': 23, 'Interesting Fact': 'I like basketball!'}, 'James': {'Age': 26, 'Interesting Fact': 'I am from Bejou!'}}\n"
     ]
    }
   ],
   "source": [
    "dct = {\"Tyler\": {},\n",
    "       \"Emmanuel\": {},\n",
    "       \"Amanda\":{}, \n",
    "       \"Logan\":{},\n",
    "       \"Connor\":{}, \n",
    "       \"Dylan\":{},\n",
    "       \"Gwen\":{}, \n",
    "       \"Jack\":{}, \n",
    "       \"Ben\":{},\n",
    "       \"James\":{}}\n",
    "\n",
    "dct[\"Tyler\"][\"Age\"] = 21\n",
    "dct[\"Tyler\"][\"Interesting Fact\"] = \"I am left-handed / ambidextrious!\"\n",
    "dct[\"Emmanuel\"][\"Age\"] = 32\n",
    "dct[\"Emmanuel\"][\"Interesting Fact\"] = \"I have 7 degrees!!! And I'm earning the M.S. Data Analytics\"\n",
    "dct[\"Dylan\"][\"Age\"] = 21\n",
    "dct[\"Dylan\"][\"Interesting Fact\"] = \"I am a triplet!\"\n",
    "dct[\"Jack\"][\"Age\"] = 21\n",
    "dct[\"Jack\"][\"Interesting Fact\"] = \"I have never broken a bone!\" \n",
    "dct[\"Logan\"][\"Age\"] = 22\n",
    "dct[\"Logan\"][\"Interesting Fact\"] = \"I fight fires!\"\n",
    "dct[\"Gwen\"][\"Age\"] = 23\n",
    "dct[\"Gwen\"][\"Interesting Fact\"] = \"I bought my first cow when I was 10 years old!\"\n",
    "dct[\"James\"][\"Age\"] = 26\n",
    "dct[\"James\"][\"Interesting Fact\"] = \"I am from Bejou!\"\n",
    "dct[\"Ben\"][\"Age\"] = 23\n",
    "dct[\"Ben\"][\"Interesting Fact\"] = \"I like basketball!\"\n",
    "dct[\"Connor\"][\"Age\"] = 21\n",
    "dct[\"Connor\"][\"Interesting Fact\"] = \"I like to play tennis!\"\n",
    "\n",
    "print(dct)"
   ]
  },
  {
   "cell_type": "code",
   "execution_count": 24,
   "metadata": {},
   "outputs": [
    {
     "data": {
      "text/html": [
       "<div>\n",
       "<style scoped>\n",
       "    .dataframe tbody tr th:only-of-type {\n",
       "        vertical-align: middle;\n",
       "    }\n",
       "\n",
       "    .dataframe tbody tr th {\n",
       "        vertical-align: top;\n",
       "    }\n",
       "\n",
       "    .dataframe thead th {\n",
       "        text-align: right;\n",
       "    }\n",
       "</style>\n",
       "<table border=\"1\" class=\"dataframe\">\n",
       "  <thead>\n",
       "    <tr style=\"text-align: right;\">\n",
       "      <th></th>\n",
       "      <th>Tyler</th>\n",
       "      <th>Emmanuel</th>\n",
       "      <th>Amanda</th>\n",
       "      <th>Logan</th>\n",
       "      <th>Connor</th>\n",
       "      <th>Dylan</th>\n",
       "      <th>Gwen</th>\n",
       "      <th>Jack</th>\n",
       "      <th>Ben</th>\n",
       "      <th>James</th>\n",
       "    </tr>\n",
       "  </thead>\n",
       "  <tbody>\n",
       "    <tr>\n",
       "      <th>Age</th>\n",
       "      <td>21</td>\n",
       "      <td>32</td>\n",
       "      <td>NaN</td>\n",
       "      <td>22</td>\n",
       "      <td>21</td>\n",
       "      <td>21</td>\n",
       "      <td>23</td>\n",
       "      <td>21</td>\n",
       "      <td>23</td>\n",
       "      <td>26</td>\n",
       "    </tr>\n",
       "    <tr>\n",
       "      <th>Interesting Fact</th>\n",
       "      <td>I am left-handed / ambidextrious!</td>\n",
       "      <td>I have 7 degrees!!! And I'm earning the M.S. D...</td>\n",
       "      <td>NaN</td>\n",
       "      <td>I fight fires!</td>\n",
       "      <td>I like to play tennis!</td>\n",
       "      <td>I am a triplet!</td>\n",
       "      <td>I bought my first cow when I was 10 years old!</td>\n",
       "      <td>I have never broken a bone!</td>\n",
       "      <td>I like basketball!</td>\n",
       "      <td>I am from Bejou!</td>\n",
       "    </tr>\n",
       "  </tbody>\n",
       "</table>\n",
       "</div>"
      ],
      "text/plain": [
       "                                              Tyler  \\\n",
       "Age                                              21   \n",
       "Interesting Fact  I am left-handed / ambidextrious!   \n",
       "\n",
       "                                                           Emmanuel  Amanda  \\\n",
       "Age                                                              32     NaN   \n",
       "Interesting Fact  I have 7 degrees!!! And I'm earning the M.S. D...     NaN   \n",
       "\n",
       "                           Logan                  Connor            Dylan  \\\n",
       "Age                           22                      21               21   \n",
       "Interesting Fact  I fight fires!  I like to play tennis!  I am a triplet!   \n",
       "\n",
       "                                                            Gwen  \\\n",
       "Age                                                           23   \n",
       "Interesting Fact  I bought my first cow when I was 10 years old!   \n",
       "\n",
       "                                         Jack                 Ben  \\\n",
       "Age                                        21                  23   \n",
       "Interesting Fact  I have never broken a bone!  I like basketball!   \n",
       "\n",
       "                             James  \n",
       "Age                             26  \n",
       "Interesting Fact  I am from Bejou!  "
      ]
     },
     "execution_count": 24,
     "metadata": {},
     "output_type": "execute_result"
    }
   ],
   "source": [
    "import pandas as pd\n",
    "df = pd.DataFrame(dct)\n",
    "df"
   ]
  },
  {
   "cell_type": "raw",
   "metadata": {},
   "source": [
    "Next we will create a faculty dictionary. This will save faculty names, urls of their websites, and other pertinent information."
   ]
  },
  {
   "cell_type": "code",
   "execution_count": null,
   "metadata": {},
   "outputs": [],
   "source": [
    "import pandas as pd\n",
    "faculty_dict =  {\"William Nganje\":{\"Website\":\"https://www.ndsu.edu/agecon/faculty/william_nganje/#c622350\", \n",
    "                                     \"Areas of Specialization\":\"Risk management; financial analysis; economics of obesity, food safety and food terrorism; experimental economics; and consumer choice theory\"\n",
    "                                     \"Bio\":\"NA\"},\n",
    "                  \"David Bullock\": {\"Website\":\n",
    "                                    \"Areas of Specialization\": \"Econometrics\"\n",
    "                      \"Bio\":\"Dr. David W. Bullock is a Research Associate Professor affiliated with the Center for Trading and Risk at NDSU.  His research interests include futures and options markets, over-the-counter derivatives, trading, risk management, agrifinance, Monte Carlo simulation, and Big Data applications in agriculture.  His academic research in option portfolio theory has been published in both the Journal of Economics and Business and the International Review of Economics and Finance.  Additionally, he was the primary contributor behind the AgriBank Insights publication series which won a National AgriMarketing Association (NAMA) award for the best company publication in 2016. Before coming to NDSU in January 2018, Dr. Bullock held numerous positions for over 25 years in the government and private sectors including the Senior Economist at AgriBank FCB – the regional Farm Credit System funding bank for the Upper Midwest region, Director of Research and Senior Foods Economist at Fortune 500 commodity risk management firm INTL FCStone Inc., the Senior Dairy Analyst at Informa Economics, a Risk Management Specialist with the Minnesota Department of Agriculture, and the Senior Economist at the Minneapolis Grain Exchange. David began his academic career as an Assistant Professor and Extension Marketing Economist at Montana State University after graduating from Iowa State University with a Ph.D. in agricultural economics with fields in agricultural price analysis and econometrics in 1989.  Prior to entering ISU, he received bachelor’s (1982) and master’s (1984) degrees in agricultural economics from Northwest Missouri State University. Dr. Bullock is originally from the small northwestern Missouri farming community of Lathrop which is located 40 miles north of the Kansas City metropolitan area.  While in high school, he served as a regional state Vice-President in the Future Farmers of America (FFA) during his senior year.\"\"\"}}\n",
    "\n",
    "faculty_df = pd.DataFrame(faculty_dict)"
   ]
  }
 ],
 "metadata": {
  "kernelspec": {
   "display_name": "Python 3",
   "language": "python",
   "name": "python3"
  },
  "language_info": {
   "codemirror_mode": {
    "name": "ipython",
    "version": 3
   },
   "file_extension": ".py",
   "mimetype": "text/x-python",
   "name": "python",
   "nbconvert_exporter": "python",
   "pygments_lexer": "ipython3",
   "version": "3.7.6"
  }
 },
 "nbformat": 4,
 "nbformat_minor": 4
}
