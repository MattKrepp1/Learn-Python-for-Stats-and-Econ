{
 "cells": [
  {
   "cell_type": "markdown",
   "id": "b204d1f0",
   "metadata": {},
   "source": [
    "# Project 2 - Working with Lists\n",
    "## Working with Lists\n",
    "\n",
    "\n",
    "|New Concepts | Description|\n",
    "| --- | --- |\n",
    "| Dynamic List | A dynamic list is encapsulated by brackets _([])_. A list is mutable. Elements can be added to or deleted from a list on the fly.|\n",
    "| List Concatenation | Two lists can be joined together in the same manner that strings are concatenated. |\n",
    "| List Indexing | Lists are indexed with the first element being indexed as zero and the last element as the length of (number of elements in) the list less one. Indexes are called using brackets – i.e., _lst[0]_ calls the 0th element in the list. |"
   ]
  },
  {
   "cell_type": "code",
   "execution_count": 1,
   "id": "628eff6f",
   "metadata": {},
   "outputs": [
    {
     "data": {
      "text/plain": [
       "([], list)"
      ]
     },
     "execution_count": 1,
     "metadata": {},
     "output_type": "execute_result"
    }
   ],
   "source": [
    "empty_list = []\n",
    "empty_list, type(empty_list)"
   ]
  },
  {
   "cell_type": "code",
   "execution_count": 2,
   "id": "640f5a01",
   "metadata": {},
   "outputs": [
    {
     "data": {
      "text/plain": [
       "([1, 2, 3, 4, 5], list)"
      ]
     },
     "execution_count": 2,
     "metadata": {},
     "output_type": "execute_result"
    }
   ],
   "source": [
    "int_list = [1,2,3,4,5]\n",
    "int_list, type(empty_list)"
   ]
  },
  {
   "cell_type": "code",
   "execution_count": 3,
   "id": "0e18bf99",
   "metadata": {},
   "outputs": [
    {
     "data": {
      "text/plain": [
       "([1.0, 2.0, 3.0, 4.0, 5.0], list)"
      ]
     },
     "execution_count": 3,
     "metadata": {},
     "output_type": "execute_result"
    }
   ],
   "source": [
    "float_list = [1.,2.,3.,4.,5.]\n",
    "float_list, type(float_list)"
   ]
  },
  {
   "cell_type": "code",
   "execution_count": 4,
   "id": "b6a971a3",
   "metadata": {},
   "outputs": [
    {
     "data": {
      "text/plain": [
       "(['Many words', 'impoverished meaning'], list)"
      ]
     },
     "execution_count": 4,
     "metadata": {},
     "output_type": "execute_result"
    }
   ],
   "source": [
    "string_list = [\"Many words\", \"impoverished meaning\"]\n",
    "string_list, type(string_list)"
   ]
  },
  {
   "cell_type": "code",
   "execution_count": 5,
   "id": "44a44c6e",
   "metadata": {},
   "outputs": [
    {
     "data": {
      "text/plain": [
       "([1, 2.0, 'Mix it up'], list)"
      ]
     },
     "execution_count": 5,
     "metadata": {},
     "output_type": "execute_result"
    }
   ],
   "source": [
    "mixed_list = [1, 2., \"Mix it up\"]\n",
    "mixed_list, type(mixed_list)\n"
   ]
  },
  {
   "cell_type": "markdown",
   "id": "292eeecd",
   "metadata": {},
   "source": [
    "## Concatenation: Lists"
   ]
  },
  {
   "cell_type": "code",
   "execution_count": 6,
   "id": "1a481fb8",
   "metadata": {},
   "outputs": [
    {
     "data": {
      "text/plain": [
       "[1, 2]"
      ]
     },
     "execution_count": 6,
     "metadata": {},
     "output_type": "execute_result"
    }
   ],
   "source": [
    "list1 = [1]\n",
    "list2 = [2]\n",
    "join_lists = list1 + list2\n",
    "join_lists"
   ]
  },
  {
   "cell_type": "code",
   "execution_count": 7,
   "id": "a623bd89",
   "metadata": {},
   "outputs": [
    {
     "data": {
      "text/plain": [
       "'12'"
      ]
     },
     "execution_count": 7,
     "metadata": {},
     "output_type": "execute_result"
    }
   ],
   "source": [
    "#similar to concatenating strings\n",
    "\n",
    "str1 = \"1\"\n",
    "str2 = \"2\"\n",
    "join_strs = str1 + str2\n",
    "join_strs"
   ]
  },
  {
   "cell_type": "markdown",
   "id": "3f6a976d",
   "metadata": {},
   "source": [
    "a for loop using in range will cycle through variable i from integer j to k - 1 by increments of l\n",
    "for i in range(j, k, l):\n",
    "\n",
    "    execute script"
   ]
  },
  {
   "cell_type": "code",
   "execution_count": 8,
   "id": "f5a74f9c",
   "metadata": {
    "scrolled": true
   },
   "outputs": [
    {
     "name": "stdout",
     "output_type": "stream",
     "text": [
      "1\n",
      "2\n",
      "3\n",
      "4\n",
      "5\n",
      "6\n",
      "7\n",
      "8\n",
      "9\n",
      "10\n",
      "11\n",
      "12\n",
      "13\n",
      "14\n",
      "15\n",
      "16\n",
      "17\n",
      "18\n",
      "19\n",
      "20\n",
      "21\n",
      "22\n",
      "23\n",
      "24\n",
      "25\n",
      "26\n",
      "27\n",
      "28\n",
      "29\n",
      "30\n",
      "31\n",
      "32\n",
      "33\n",
      "34\n",
      "35\n",
      "36\n",
      "37\n",
      "38\n",
      "39\n",
      "40\n",
      "41\n",
      "42\n",
      "43\n",
      "44\n",
      "45\n",
      "46\n",
      "47\n",
      "48\n",
      "49\n",
      "50\n",
      "51\n",
      "52\n",
      "53\n",
      "54\n",
      "55\n",
      "56\n",
      "57\n",
      "58\n",
      "59\n",
      "60\n",
      "61\n",
      "62\n",
      "63\n",
      "64\n",
      "65\n",
      "66\n",
      "67\n",
      "68\n",
      "69\n",
      "70\n",
      "71\n",
      "72\n",
      "73\n",
      "74\n",
      "75\n",
      "76\n",
      "77\n",
      "78\n",
      "79\n",
      "80\n",
      "81\n",
      "82\n",
      "83\n",
      "84\n",
      "85\n",
      "86\n",
      "87\n",
      "88\n",
      "89\n",
      "90\n",
      "91\n",
      "92\n",
      "93\n",
      "94\n",
      "95\n",
      "96\n",
      "97\n",
      "98\n",
      "99\n"
     ]
    }
   ],
   "source": [
    "for i in range(1, 10 ** 2):\n",
    "    print(i)"
   ]
  },
  {
   "cell_type": "code",
   "execution_count": 16,
   "id": "c18e5317",
   "metadata": {
    "scrolled": true
   },
   "outputs": [
    {
     "name": "stdout",
     "output_type": "stream",
     "text": [
      "1 1\n",
      "2 3\n",
      "3 6\n",
      "4 10\n",
      "5 15\n",
      "6 21\n",
      "7 28\n",
      "8 36\n",
      "9 45\n",
      "10 55\n",
      "11 66\n",
      "12 78\n",
      "13 91\n",
      "14 105\n",
      "15 120\n",
      "16 136\n",
      "17 153\n",
      "18 171\n",
      "19 190\n",
      "20 210\n",
      "21 231\n",
      "22 253\n",
      "23 276\n",
      "24 300\n",
      "25 325\n",
      "26 351\n",
      "27 378\n",
      "28 406\n",
      "29 435\n",
      "30 465\n",
      "31 496\n",
      "32 528\n",
      "33 561\n",
      "34 595\n",
      "35 630\n",
      "36 666\n",
      "37 703\n",
      "38 741\n",
      "39 780\n",
      "40 820\n",
      "41 861\n",
      "42 903\n",
      "43 946\n",
      "44 990\n",
      "45 1035\n",
      "46 1081\n",
      "47 1128\n",
      "48 1176\n",
      "49 1225\n",
      "50 1275\n",
      "51 1326\n",
      "52 1378\n",
      "53 1431\n",
      "54 1485\n",
      "55 1540\n",
      "56 1596\n",
      "57 1653\n",
      "58 1711\n",
      "59 1770\n",
      "60 1830\n",
      "61 1891\n",
      "62 1953\n",
      "63 2016\n",
      "64 2080\n",
      "65 2145\n",
      "66 2211\n",
      "67 2278\n",
      "68 2346\n",
      "69 2415\n",
      "70 2485\n",
      "71 2556\n",
      "72 2628\n",
      "73 2701\n",
      "74 2775\n",
      "75 2850\n",
      "76 2926\n",
      "77 3003\n",
      "78 3081\n",
      "79 3160\n",
      "80 3240\n",
      "81 3321\n",
      "82 3403\n",
      "83 3486\n",
      "84 3570\n",
      "85 3655\n",
      "86 3741\n",
      "87 3828\n",
      "88 3916\n",
      "89 4005\n",
      "90 4095\n",
      "91 4186\n",
      "92 4278\n",
      "93 4371\n",
      "94 4465\n",
      "95 4560\n",
      "96 4656\n",
      "97 4753\n",
      "98 4851\n",
      "99 4950\n",
      "100 5050\n"
     ]
    }
   ],
   "source": [
    "total = 0\n",
    "for i in range(1, 101):\n",
    "    total = total + i\n",
    "    print(i, total)"
   ]
  },
  {
   "cell_type": "code",
   "execution_count": 18,
   "id": "758c0322",
   "metadata": {
    "scrolled": true
   },
   "outputs": [
    {
     "name": "stdout",
     "output_type": "stream",
     "text": [
      "1 1\n",
      "3 4\n",
      "5 9\n",
      "7 16\n",
      "9 25\n",
      "11 36\n",
      "13 49\n",
      "15 64\n",
      "17 81\n",
      "19 100\n",
      "21 121\n",
      "23 144\n",
      "25 169\n",
      "27 196\n",
      "29 225\n",
      "31 256\n",
      "33 289\n",
      "35 324\n",
      "37 361\n",
      "39 400\n",
      "41 441\n",
      "43 484\n",
      "45 529\n",
      "47 576\n",
      "49 625\n",
      "51 676\n",
      "53 729\n",
      "55 784\n",
      "57 841\n",
      "59 900\n",
      "61 961\n",
      "63 1024\n",
      "65 1089\n",
      "67 1156\n",
      "69 1225\n",
      "71 1296\n",
      "73 1369\n",
      "75 1444\n",
      "77 1521\n",
      "79 1600\n",
      "81 1681\n",
      "83 1764\n",
      "85 1849\n",
      "87 1936\n",
      "89 2025\n",
      "91 2116\n",
      "93 2209\n",
      "95 2304\n",
      "97 2401\n",
      "99 2500\n"
     ]
    }
   ],
   "source": [
    "total = 0\n",
    "for i in range(1, 101, 2):\n",
    "    total = total + i\n",
    "    print(i, total)"
   ]
  },
  {
   "cell_type": "code",
   "execution_count": 15,
   "id": "58cf8703",
   "metadata": {},
   "outputs": [
    {
     "name": "stdout",
     "output_type": "stream",
     "text": [
      "543\n",
      "342\n",
      "6\n",
      "435\n",
      "543\n",
      "j False\n",
      "h False\n",
      "t False\n",
      "i False\n",
      "4 False\n",
      "k True\n",
      "3 False\n",
      "h False\n",
      "2 False\n",
      "u False\n",
      "3 False\n",
      "i False\n"
     ]
    }
   ],
   "source": [
    "list1 = [543,342,6,435,543]\n",
    "str1 = \"jhti4k3h2u3i\"\n",
    "\n",
    "for val in list1:\n",
    "    print(val)\n",
    "\n",
    "for string in str1:\n",
    "    print(string, string == \"k\")"
   ]
  }
 ],
 "metadata": {
  "kernelspec": {
   "display_name": "Python 3 (ipykernel)",
   "language": "python",
   "name": "python3"
  },
  "language_info": {
   "codemirror_mode": {
    "name": "ipython",
    "version": 3
   },
   "file_extension": ".py",
   "mimetype": "text/x-python",
   "name": "python",
   "nbconvert_exporter": "python",
   "pygments_lexer": "ipython3",
   "version": "3.9.12"
  }
 },
 "nbformat": 4,
 "nbformat_minor": 5
}
