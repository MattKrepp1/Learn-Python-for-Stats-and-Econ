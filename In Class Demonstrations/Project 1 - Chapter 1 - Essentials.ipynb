{
 "cells": [
  {
   "cell_type": "markdown",
   "id": "06aeeb9e",
   "metadata": {},
   "source": [
    "# Project 1 - Chapter 1 - Essentials"
   ]
  },
  {
   "cell_type": "code",
   "execution_count": 1,
   "id": "b6e8e3f5",
   "metadata": {},
   "outputs": [
    {
     "name": "stdout",
     "output_type": "stream",
     "text": [
      "Hello World!\n"
     ]
    }
   ],
   "source": [
    "print(\"Hello World!\")"
   ]
  },
  {
   "cell_type": "markdown",
   "id": "bba170b9",
   "metadata": {},
   "source": [
    "We just used the print function. Print will print whatever object is passed to it. We passed the string, \"Hello World!\", and it printed after the code.\n",
    "\n",
    "# Introduction to Jupyter\n",
    "\n",
    "This is the first program I have written in ECON 411/611. Next, we will start working string variables."
   ]
  },
  {
   "cell_type": "code",
   "execution_count": 2,
   "id": "e65e53c5",
   "metadata": {},
   "outputs": [
    {
     "name": "stdout",
     "output_type": "stream",
     "text": [
      "john nash\n"
     ]
    }
   ],
   "source": [
    "msg = \"john nash\"\n",
    "print(msg)"
   ]
  },
  {
   "cell_type": "markdown",
   "id": "f70a75db",
   "metadata": {},
   "source": [
    "Next, we are going to use the string methods to capitalize different letters.\n",
    "\n",
    "The method *.upper()* will make the string all caps, *.title()* will capitalize the first letters of each string."
   ]
  },
  {
   "cell_type": "code",
   "execution_count": 3,
   "id": "3004cc65",
   "metadata": {},
   "outputs": [
    {
     "name": "stdout",
     "output_type": "stream",
     "text": [
      "JOHN NASH\n",
      "John Nash\n"
     ]
    }
   ],
   "source": [
    "print(msg.upper())\n",
    "print(msg.title())"
   ]
  },
  {
   "cell_type": "markdown",
   "id": "e48f4da3",
   "metadata": {},
   "source": [
    "## String Concatenation\n",
    "\n",
    "You can concatenate string using the plus \"+\" sign. That means that you join them in order to create a single aggregate string."
   ]
  },
  {
   "cell_type": "code",
   "execution_count": 4,
   "id": "0657dd42",
   "metadata": {},
   "outputs": [
    {
     "name": "stdout",
     "output_type": "stream",
     "text": [
      "You thought it would be easy\n",
      "You thought it wouldn't be strange\n",
      "But then you started coding\n",
      "Things never were the same\n"
     ]
    }
   ],
   "source": [
    "line1 = \"You thought it would be easy\"\n",
    "line2 = \"You thought it wouldn't be strange\"\n",
    "line3 = \"But then you started coding\"\n",
    "line4 = \"Things never were the same\"\n",
    "\n",
    "print(line1)\n",
    "print(line2)\n",
    "print(line3)\n",
    "print(line4)"
   ]
  },
  {
   "cell_type": "code",
   "execution_count": 5,
   "id": "f1f81231",
   "metadata": {},
   "outputs": [
    {
     "name": "stdout",
     "output_type": "stream",
     "text": [
      "You thought it would be easyYou thought it wouldn't be strangeBut then you started codingThings never were the same\n"
     ]
    }
   ],
   "source": [
    "print(line1+line2+line3+line4)"
   ]
  },
  {
   "cell_type": "code",
   "execution_count": 6,
   "id": "3e152a5b",
   "metadata": {},
   "outputs": [
    {
     "name": "stdout",
     "output_type": "stream",
     "text": [
      "You thought it would be easyYou thought it wouldn't be strangeBut then you started codingThings never were the same\n"
     ]
    }
   ],
   "source": [
    "concat_strings = line1+line2+line3+line4\n",
    "print(concat_strings)"
   ]
  },
  {
   "cell_type": "markdown",
   "id": "ef7d5df1",
   "metadata": {},
   "source": [
    "The *sep* option in *print()* allows you to determine the character that will be printed in lieu of each comma."
   ]
  },
  {
   "cell_type": "code",
   "execution_count": 7,
   "id": "047b2a27",
   "metadata": {},
   "outputs": [
    {
     "name": "stdout",
     "output_type": "stream",
     "text": [
      "You thought it would be easy\n",
      "You thought it wouldn't be strange\n",
      "But then you started coding\n",
      "Things never were the same\n"
     ]
    }
   ],
   "source": [
    "print(line1,line2,line3,line4, sep = \"\\n\")"
   ]
  },
  {
   "cell_type": "markdown",
   "id": "928ade8c",
   "metadata": {},
   "source": [
    "By using the option, sep = \"\\n\", each comma is interpretted as a new line. This would be the same as adding \"\\n\" to every line."
   ]
  },
  {
   "cell_type": "code",
   "execution_count": 9,
   "id": "40da5d4c",
   "metadata": {},
   "outputs": [
    {
     "name": "stdout",
     "output_type": "stream",
     "text": [
      "You thought it would be easy\n",
      "You thought it wouldn't be strange\n",
      "But then you started coding\n",
      "Things never were the same\n",
      "\n"
     ]
    }
   ],
   "source": [
    "print(line1+\"\\n\", line2 + \"\\n\", line3 + \"\\n\", line4 + \"\\n\", sep = \"\")"
   ]
  },
  {
   "cell_type": "markdown",
   "id": "6e6c95ab",
   "metadata": {},
   "source": [
    "# Introducing Jupyter for Faria\n",
    "\n",
    "We went over basic introductory material yesterday, so catching up is a breeze!"
   ]
  },
  {
   "cell_type": "code",
   "execution_count": 10,
   "id": "d791572f",
   "metadata": {},
   "outputs": [
    {
     "name": "stdout",
     "output_type": "stream",
     "text": [
      "You thought it would be easy\n",
      "You thought it wouldn't be strange\n",
      "But then you started coding\n",
      "Things never were the same\n",
      "And now we are building for the future\n"
     ]
    }
   ],
   "source": [
    "line5 = \"And now we are building for the future\"\n",
    "\n",
    "print(line1, line2, line3, line4, line5, sep=\"\\n\")"
   ]
  },
  {
   "cell_type": "code",
   "execution_count": null,
   "id": "0d11af94",
   "metadata": {},
   "outputs": [],
   "source": []
  }
 ],
 "metadata": {
  "kernelspec": {
   "display_name": "Python 3",
   "language": "python",
   "name": "python3"
  },
  "language_info": {
   "codemirror_mode": {
    "name": "ipython",
    "version": 3
   },
   "file_extension": ".py",
   "mimetype": "text/x-python",
   "name": "python",
   "nbconvert_exporter": "python",
   "pygments_lexer": "ipython3",
   "version": "3.8.8"
  }
 },
 "nbformat": 4,
 "nbformat_minor": 5
}
