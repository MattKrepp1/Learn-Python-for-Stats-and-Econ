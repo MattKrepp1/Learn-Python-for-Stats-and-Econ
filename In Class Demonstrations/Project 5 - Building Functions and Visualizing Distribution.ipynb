{
 "cells": [
  {
   "cell_type": "markdown",
   "id": "cc86582b",
   "metadata": {},
   "source": [
    "## Building Functions"
   ]
  },
  {
   "cell_type": "code",
   "execution_count": 19,
   "id": "870940a9",
   "metadata": {},
   "outputs": [],
   "source": [
    "def total(list_obj):\n",
    "    total = 0\n",
    "    for val in list_obj:\n",
    "        total += val\n",
    "    return total\n",
    "\n",
    "def mean(list_obj):\n",
    "    n = len(list_obj)\n",
    "    mean_ = total(list_obj) / n\n",
    "    return mean_\n",
    "\n",
    "def median(list_obj):\n",
    "    n = len(list_obj)\n",
    "    # sort the values and take the middle value if the \n",
    "    #    list is of odd length\n",
    "    # or the mean of the two middle values if the list \n",
    "    #    of even length \n",
    "    list_obj = sorted(list_obj)\n",
    "    if n % 2 != 0:\n",
    "        # list length is odd\n",
    "        middle_index = int((n - 1) / 2)\n",
    "        median_ = list_obj[middle_index]\n",
    "    else:\n",
    "        upper_middle_index = int(n / 2)\n",
    "        lower_middle_index = upper_middle_index - 1\n",
    "        # pass slice with two middle values to mean()\n",
    "        median_ = mean(\n",
    "            list_object[lower_middle_index:upper_middle_index])\n",
    "    return median_\n",
    "\n",
    "def mode(list_obj):\n",
    "    max_count = 0\n",
    "    counter_dict = {}\n",
    "    for value in list_obj:\n",
    "        counter_dict[value] = 0\n",
    "    for value in list_obj:\n",
    "        counter_dict[value] += 1\n",
    "    count_list = list(counter_dict.values())\n",
    "    max_count = max(count_list)\n",
    "    mode_ = [key for key in counter_dict if counter_dict[key] == max_count]\n",
    "    \n",
    "    return mode_"
   ]
  },
  {
   "cell_type": "code",
   "execution_count": 20,
   "id": "1908f11f",
   "metadata": {},
   "outputs": [
    {
     "name": "stdout",
     "output_type": "stream",
     "text": [
      "total: 43\n",
      "mean: 6.142857142857143\n",
      "median: 6\n",
      "mode: [4]\n"
     ]
    }
   ],
   "source": [
    "lst = [4,5,6,7,8,9,4]\n",
    "\n",
    "print(\"total:\", total(lst))\n",
    "print(\"mean:\", mean(lst))\n",
    "print(\"median:\", median(lst))\n",
    "print(\"mode:\", mode(lst))"
   ]
  },
  {
   "cell_type": "code",
   "execution_count": null,
   "id": "93c20c82",
   "metadata": {},
   "outputs": [],
   "source": []
  }
 ],
 "metadata": {
  "kernelspec": {
   "display_name": "Python 3",
   "language": "python",
   "name": "python3"
  },
  "language_info": {
   "codemirror_mode": {
    "name": "ipython",
    "version": 3
   },
   "file_extension": ".py",
   "mimetype": "text/x-python",
   "name": "python",
   "nbconvert_exporter": "python",
   "pygments_lexer": "ipython3",
   "version": "3.8.8"
  }
 },
 "nbformat": 4,
 "nbformat_minor": 5
}
