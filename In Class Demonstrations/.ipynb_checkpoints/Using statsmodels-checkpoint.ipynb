{
 "cells": [
  {
   "cell_type": "code",
   "execution_count": 2,
   "metadata": {},
   "outputs": [
    {
     "name": "stderr",
     "output_type": "stream",
     "text": [
      "C:\\ProgramData\\Anaconda3\\lib\\site-packages\\ipykernel_launcher.py:15: SettingWithCopyWarning: \n",
      "A value is trying to be set on a copy of a slice from a DataFrame.\n",
      "Try using .loc[row_indexer,col_indexer] = value instead\n",
      "\n",
      "See the caveats in the documentation: http://pandas.pydata.org/pandas-docs/stable/indexing.html#indexing-view-versus-copy\n",
      "  from ipykernel import kernelapp as app\n"
     ]
    }
   ],
   "source": [
    "#statsmodelsOLS.py\n",
    "import pandas as pd\n",
    "import statsmodels.api as sm\n",
    "\n",
    "data = pd.read_csv(\"cleanedEconFreedomData.csv\", \n",
    "                   index_col = [\"Country Name\"])\n",
    "\n",
    "y_var = [\"5 Year GDP Growth Rate (%)\"]\n",
    "x_vars = [\"Gov't Expenditure % of GDP \", \"2017 Score\",\n",
    "         \"Population (Millions)\", \"Property Rights\", \n",
    "          \"Business Freedom\"]\n",
    "\n",
    "y = data[y_var]\n",
    "X = data[x_vars]\n",
    "X[\"Constant\"] = 1\n",
    "results = sm.OLS(y, X).fit()"
   ]
  },
  {
   "cell_type": "code",
   "execution_count": 8,
   "metadata": {},
   "outputs": [
    {
     "data": {
      "text/html": [
       "<table class=\"simpletable\">\n",
       "<caption>OLS Regression Results</caption>\n",
       "<tr>\n",
       "  <th>Dep. Variable:</th>    <td>5 Year GDP Growth Rate (%)</td> <th>  R-squared:         </th> <td>   0.210</td>\n",
       "</tr>\n",
       "<tr>\n",
       "  <th>Model:</th>                        <td>OLS</td>            <th>  Adj. R-squared:    </th> <td>   0.186</td>\n",
       "</tr>\n",
       "<tr>\n",
       "  <th>Method:</th>                  <td>Least Squares</td>       <th>  F-statistic:       </th> <td>   8.807</td>\n",
       "</tr>\n",
       "<tr>\n",
       "  <th>Date:</th>                  <td>Tue, 24 Nov 2020</td>      <th>  Prob (F-statistic):</th> <td>1.97e-07</td>\n",
       "</tr>\n",
       "<tr>\n",
       "  <th>Time:</th>                      <td>06:38:03</td>          <th>  Log-Likelihood:    </th> <td> -382.24</td>\n",
       "</tr>\n",
       "<tr>\n",
       "  <th>No. Observations:</th>           <td>   172</td>           <th>  AIC:               </th> <td>   776.5</td>\n",
       "</tr>\n",
       "<tr>\n",
       "  <th>Df Residuals:</th>               <td>   166</td>           <th>  BIC:               </th> <td>   795.4</td>\n",
       "</tr>\n",
       "<tr>\n",
       "  <th>Df Model:</th>                   <td>     5</td>           <th>                     </th>     <td> </td>   \n",
       "</tr>\n",
       "<tr>\n",
       "  <th>Covariance Type:</th>           <td>nonrobust</td>         <th>                     </th>     <td> </td>   \n",
       "</tr>\n",
       "</table>\n",
       "<table class=\"simpletable\">\n",
       "<tr>\n",
       "               <td></td>                  <th>coef</th>     <th>std err</th>      <th>t</th>      <th>P>|t|</th>  <th>[0.025</th>    <th>0.975]</th>  \n",
       "</tr>\n",
       "<tr>\n",
       "  <th>Gov't Expenditure % of GDP </th> <td>   -0.0742</td> <td>    0.020</td> <td>   -3.696</td> <td> 0.000</td> <td>   -0.114</td> <td>   -0.035</td>\n",
       "</tr>\n",
       "<tr>\n",
       "  <th>2017 Score</th>                  <td>    0.0137</td> <td>    0.040</td> <td>    0.345</td> <td> 0.731</td> <td>   -0.065</td> <td>    0.092</td>\n",
       "</tr>\n",
       "<tr>\n",
       "  <th>Population (Millions)</th>       <td>    0.0023</td> <td>    0.001</td> <td>    1.910</td> <td> 0.058</td> <td>-7.73e-05</td> <td>    0.005</td>\n",
       "</tr>\n",
       "<tr>\n",
       "  <th>Property Rights</th>             <td>   -0.0152</td> <td>    0.022</td> <td>   -0.701</td> <td> 0.484</td> <td>   -0.058</td> <td>    0.028</td>\n",
       "</tr>\n",
       "<tr>\n",
       "  <th>Business Freedom</th>            <td>   -0.0189</td> <td>    0.020</td> <td>   -0.938</td> <td> 0.349</td> <td>   -0.059</td> <td>    0.021</td>\n",
       "</tr>\n",
       "<tr>\n",
       "  <th>Constant</th>                    <td>    7.0252</td> <td>    1.780</td> <td>    3.946</td> <td> 0.000</td> <td>    3.511</td> <td>   10.540</td>\n",
       "</tr>\n",
       "</table>\n",
       "<table class=\"simpletable\">\n",
       "<tr>\n",
       "  <th>Omnibus:</th>       <td>21.501</td> <th>  Durbin-Watson:     </th> <td>   1.849</td>\n",
       "</tr>\n",
       "<tr>\n",
       "  <th>Prob(Omnibus):</th> <td> 0.000</td> <th>  Jarque-Bera (JB):  </th> <td>  58.329</td>\n",
       "</tr>\n",
       "<tr>\n",
       "  <th>Skew:</th>          <td>-0.456</td> <th>  Prob(JB):          </th> <td>2.16e-13</td>\n",
       "</tr>\n",
       "<tr>\n",
       "  <th>Kurtosis:</th>      <td> 5.703</td> <th>  Cond. No.          </th> <td>1.62e+03</td>\n",
       "</tr>\n",
       "</table><br/><br/>Warnings:<br/>[1] Standard Errors assume that the covariance matrix of the errors is correctly specified.<br/>[2] The condition number is large, 1.62e+03. This might indicate that there are<br/>strong multicollinearity or other numerical problems."
      ],
      "text/plain": [
       "<class 'statsmodels.iolib.summary.Summary'>\n",
       "\"\"\"\n",
       "                                OLS Regression Results                                \n",
       "======================================================================================\n",
       "Dep. Variable:     5 Year GDP Growth Rate (%)   R-squared:                       0.210\n",
       "Model:                                    OLS   Adj. R-squared:                  0.186\n",
       "Method:                         Least Squares   F-statistic:                     8.807\n",
       "Date:                        Tue, 24 Nov 2020   Prob (F-statistic):           1.97e-07\n",
       "Time:                                06:38:03   Log-Likelihood:                -382.24\n",
       "No. Observations:                         172   AIC:                             776.5\n",
       "Df Residuals:                             166   BIC:                             795.4\n",
       "Df Model:                                   5                                         \n",
       "Covariance Type:                    nonrobust                                         \n",
       "===============================================================================================\n",
       "                                  coef    std err          t      P>|t|      [0.025      0.975]\n",
       "-----------------------------------------------------------------------------------------------\n",
       "Gov't Expenditure % of GDP     -0.0742      0.020     -3.696      0.000      -0.114      -0.035\n",
       "2017 Score                      0.0137      0.040      0.345      0.731      -0.065       0.092\n",
       "Population (Millions)           0.0023      0.001      1.910      0.058   -7.73e-05       0.005\n",
       "Property Rights                -0.0152      0.022     -0.701      0.484      -0.058       0.028\n",
       "Business Freedom               -0.0189      0.020     -0.938      0.349      -0.059       0.021\n",
       "Constant                        7.0252      1.780      3.946      0.000       3.511      10.540\n",
       "==============================================================================\n",
       "Omnibus:                       21.501   Durbin-Watson:                   1.849\n",
       "Prob(Omnibus):                  0.000   Jarque-Bera (JB):               58.329\n",
       "Skew:                          -0.456   Prob(JB):                     2.16e-13\n",
       "Kurtosis:                       5.703   Cond. No.                     1.62e+03\n",
       "==============================================================================\n",
       "\n",
       "Warnings:\n",
       "[1] Standard Errors assume that the covariance matrix of the errors is correctly specified.\n",
       "[2] The condition number is large, 1.62e+03. This might indicate that there are\n",
       "strong multicollinearity or other numerical problems.\n",
       "\"\"\""
      ]
     },
     "execution_count": 8,
     "metadata": {},
     "output_type": "execute_result"
    }
   ],
   "source": [
    "results.summary()"
   ]
  },
  {
   "cell_type": "code",
   "execution_count": 15,
   "metadata": {},
   "outputs": [
    {
     "data": {
      "text/html": [
       "<div>\n",
       "<style scoped>\n",
       "    .dataframe tbody tr th:only-of-type {\n",
       "        vertical-align: middle;\n",
       "    }\n",
       "\n",
       "    .dataframe tbody tr th {\n",
       "        vertical-align: top;\n",
       "    }\n",
       "\n",
       "    .dataframe thead th {\n",
       "        text-align: right;\n",
       "    }\n",
       "</style>\n",
       "<table border=\"1\" class=\"dataframe\">\n",
       "  <thead>\n",
       "    <tr style=\"text-align: right;\">\n",
       "      <th></th>\n",
       "      <th>Beta Estimates</th>\n",
       "      <th>t-stats</th>\n",
       "      <th>p-values</th>\n",
       "      <th>Standard Errors</th>\n",
       "    </tr>\n",
       "  </thead>\n",
       "  <tbody>\n",
       "    <tr>\n",
       "      <th>Gov't Expenditure % of GDP</th>\n",
       "      <td>-0.074245</td>\n",
       "      <td>-3.696196</td>\n",
       "      <td>0.000297</td>\n",
       "      <td>0.020087</td>\n",
       "    </tr>\n",
       "    <tr>\n",
       "      <th>2017 Score</th>\n",
       "      <td>0.013710</td>\n",
       "      <td>0.344709</td>\n",
       "      <td>0.730749</td>\n",
       "      <td>0.039773</td>\n",
       "    </tr>\n",
       "    <tr>\n",
       "      <th>Population (Millions)</th>\n",
       "      <td>0.002312</td>\n",
       "      <td>1.910471</td>\n",
       "      <td>0.057796</td>\n",
       "      <td>0.001210</td>\n",
       "    </tr>\n",
       "    <tr>\n",
       "      <th>Property Rights</th>\n",
       "      <td>-0.015223</td>\n",
       "      <td>-0.701011</td>\n",
       "      <td>0.484278</td>\n",
       "      <td>0.021716</td>\n",
       "    </tr>\n",
       "    <tr>\n",
       "      <th>Business Freedom</th>\n",
       "      <td>-0.018931</td>\n",
       "      <td>-0.938365</td>\n",
       "      <td>0.349420</td>\n",
       "      <td>0.020174</td>\n",
       "    </tr>\n",
       "    <tr>\n",
       "      <th>Constant</th>\n",
       "      <td>7.025227</td>\n",
       "      <td>3.946466</td>\n",
       "      <td>0.000117</td>\n",
       "      <td>1.780131</td>\n",
       "    </tr>\n",
       "  </tbody>\n",
       "</table>\n",
       "</div>"
      ],
      "text/plain": [
       "                             Beta Estimates   t-stats  p-values  \\\n",
       "Gov't Expenditure % of GDP        -0.074245 -3.696196  0.000297   \n",
       "2017 Score                         0.013710  0.344709  0.730749   \n",
       "Population (Millions)              0.002312  1.910471  0.057796   \n",
       "Property Rights                   -0.015223 -0.701011  0.484278   \n",
       "Business Freedom                  -0.018931 -0.938365  0.349420   \n",
       "Constant                           7.025227  3.946466  0.000117   \n",
       "\n",
       "                             Standard Errors  \n",
       "Gov't Expenditure % of GDP          0.020087  \n",
       "2017 Score                          0.039773  \n",
       "Population (Millions)               0.001210  \n",
       "Property Rights                     0.021716  \n",
       "Business Freedom                    0.020174  \n",
       "Constant                            1.780131  "
      ]
     },
     "execution_count": 15,
     "metadata": {},
     "output_type": "execute_result"
    }
   ],
   "source": [
    "betaEstimates = results.params\n",
    "tStats = results.tvalues\n",
    "pValues = results.pvalues\n",
    "stdErrors = results.bse\n",
    "\n",
    "resultsDict = {\"Beta Estimates\" : betaEstimates,\n",
    "              \"t-stats\":tStats,\n",
    "              \"p-values\":pValues,\n",
    "              \"Standard Errors\": stdErrors}\n",
    "resultsDF = pd.DataFrame(resultsDict)\n",
    "resultsDF"
   ]
  },
  {
   "cell_type": "code",
   "execution_count": 16,
   "metadata": {},
   "outputs": [],
   "source": [
    "resultsDF.to_csv(\"statsmodelsOLSResults.csv\")"
   ]
  },
  {
   "cell_type": "code",
   "execution_count": 19,
   "metadata": {},
   "outputs": [
    {
     "data": {
      "text/plain": [
       "<matplotlib.axes._subplots.AxesSubplot at 0x2bd10c80348>"
      ]
     },
     "execution_count": 19,
     "metadata": {},
     "output_type": "execute_result"
    },
    {
     "data": {
      "image/png": "[encoded data removed]",
      "text/plain": [
       "<Figure size 864x576 with 1 Axes>"
      ]
     },
     "metadata": {
      "needs_background": "light"
     },
     "output_type": "display_data"
    }
   ],
   "source": [
    "import matplotlib.pyplot as plt\n",
    "\n",
    "predictor = results.predict()\n",
    "data[y_var[0] + \" Predictor\"] = predictor\n",
    "fig, ax = plt.subplots(figsize = (12, 8))\n",
    "plt.rcParams.update({\"font.size\": 18})\n",
    "data.plot.scatter(x = y_var[0], \n",
    "                  y = y_var[0] + \" Predictor\", ax = ax)"
   ]
  }
 ],
 "metadata": {
  "kernelspec": {
   "display_name": "Python 3",
   "language": "python",
   "name": "python3"
  },
  "language_info": {
   "codemirror_mode": {
    "name": "ipython",
    "version": 3
   },
   "file_extension": ".py",
   "mimetype": "text/x-python",
   "name": "python",
   "nbconvert_exporter": "python",
   "pygments_lexer": "ipython3",
   "version": "3.7.6"
  }
 },
 "nbformat": 4,
 "nbformat_minor": 4
}
