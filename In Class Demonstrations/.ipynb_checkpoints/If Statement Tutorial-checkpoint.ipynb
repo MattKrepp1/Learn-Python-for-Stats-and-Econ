{
 "cells": [
  {
   "cell_type": "markdown",
   "metadata": {},
   "source": [
    "If statements check if a statement is true. If the statement is true, then the block of contained by the if statement will be executed. If not, it will not be executed."
   ]
  },
  {
   "cell_type": "code",
   "execution_count": 5,
   "metadata": {},
   "outputs": [
    {
     "name": "stdout",
     "output_type": "stream",
     "text": [
      "True\n"
     ]
    }
   ],
   "source": [
    "x = True\n",
    "if x == True:\n",
    "    print(x)\n",
    "else:\n",
    "    print(\"x is not True\")"
   ]
  },
  {
   "cell_type": "code",
   "execution_count": 7,
   "metadata": {},
   "outputs": [
    {
     "name": "stdout",
     "output_type": "stream",
     "text": [
      "x is not True\n"
     ]
    }
   ],
   "source": [
    "x = False\n",
    "if x == True:\n",
    "    print(x)\n",
    "else:\n",
    "    print(\"x is not True\")"
   ]
  },
  {
   "cell_type": "code",
   "execution_count": 9,
   "metadata": {},
   "outputs": [
    {
     "name": "stdout",
     "output_type": "stream",
     "text": [
      "x is not True\n"
     ]
    }
   ],
   "source": [
    "x = 100\n",
    "if x == True:\n",
    "    print(x)\n",
    "else:\n",
    "    print(\"x is not True\")"
   ]
  },
  {
   "cell_type": "code",
   "execution_count": 18,
   "metadata": {},
   "outputs": [
    {
     "name": "stdout",
     "output_type": "stream",
     "text": [
      "x = 3 which is equal to 3\n"
     ]
    }
   ],
   "source": [
    "x = 3\n",
    "print(\"x =\", x, end=\" \")\n",
    "if x < 3:\n",
    "    print(\"which is less than 3\")\n",
    "if x == 3:\n",
    "    print(\"which is equal to 3\")\n",
    "if x > 3:\n",
    "    print(\"which is greater than 3\")"
   ]
  },
  {
   "cell_type": "code",
   "execution_count": 22,
   "metadata": {},
   "outputs": [
    {
     "name": "stdout",
     "output_type": "stream",
     "text": [
      "either x doesn't equal 3 or y doesn't equal 4\n"
     ]
    }
   ],
   "source": [
    "x = 2\n",
    "y = 4\n",
    "if x == 3 and y == 4:\n",
    "    print(\"x = 3 and y = 4\")\n",
    "else:\n",
    "    print(\"either x doesn't equal 3 or y doesn't equal 4\")"
   ]
  },
  {
   "cell_type": "code",
   "execution_count": 25,
   "metadata": {},
   "outputs": [
    {
     "name": "stdout",
     "output_type": "stream",
     "text": [
      "either x doesn't equal 3 and y doesn't equal 4\n"
     ]
    }
   ],
   "source": [
    "x = 2\n",
    "y = 5\n",
    "if x == 3 or y == 4:\n",
    "    print(\"x = 3 or y = 4, or both are true\")\n",
    "else:\n",
    "    print(\"both x does not equal 3 and y does not equal 4\")"
   ]
  }
 ],
 "metadata": {
  "kernelspec": {
   "display_name": "Python 3",
   "language": "python",
   "name": "python3"
  },
  "language_info": {
   "codemirror_mode": {
    "name": "ipython",
    "version": 3
   },
   "file_extension": ".py",
   "mimetype": "text/x-python",
   "name": "python",
   "nbconvert_exporter": "python",
   "pygments_lexer": "ipython3",
   "version": "3.7.6"
  }
 },
 "nbformat": 4,
 "nbformat_minor": 4
}
