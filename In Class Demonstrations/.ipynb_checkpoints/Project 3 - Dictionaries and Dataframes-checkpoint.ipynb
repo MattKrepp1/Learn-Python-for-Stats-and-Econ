{
 "cells": [
  {
   "cell_type": "markdown",
   "id": "6f8ed52e",
   "metadata": {},
   "source": [
    "# Dictionaries and DataFrames\n",
    "\n",
    "Today we are going build dictionaries. Dictionaries are datastructures that do not assume an index value for the data stored in the structures.\n",
    "\n",
    "Dictionaries take the general form:\n",
    "\n",
    "> my_dictionary = {key:obj}\n",
    "\n",
    "To call the object that is linked to the key, \n",
    "\n",
    "> *my_dictionary[key]* will output the object, *obj*."
   ]
  },
  {
   "cell_type": "code",
   "execution_count": 1,
   "id": "e71037a6",
   "metadata": {},
   "outputs": [
    {
     "data": {
      "text/plain": [
       "{}"
      ]
     },
     "execution_count": 1,
     "metadata": {},
     "output_type": "execute_result"
    }
   ],
   "source": [
    "dct = {}\n",
    "dct"
   ]
  },
  {
   "cell_type": "code",
   "execution_count": 2,
   "id": "f4625284",
   "metadata": {},
   "outputs": [
    {
     "data": {
      "text/plain": [
       "{'run': 'to move swiftly by foot',\n",
       " 'walk': 'to move slowly or leisurely by foot'}"
      ]
     },
     "execution_count": 2,
     "metadata": {},
     "output_type": "execute_result"
    }
   ],
   "source": [
    "dct = {\"run\":\"to move swiftly by foot\",\n",
    "        \"walk\": \"to move slowly or leisurely by foot\"}\n",
    "dct"
   ]
  },
  {
   "cell_type": "code",
   "execution_count": 3,
   "id": "d5cd3e54",
   "metadata": {},
   "outputs": [
    {
     "data": {
      "text/plain": [
       "{'run': {}, 'walk': {}}"
      ]
     },
     "execution_count": 3,
     "metadata": {},
     "output_type": "execute_result"
    }
   ],
   "source": [
    "dct = {\"run\":{},\n",
    "      \"walk\":{}}\n",
    "\n",
    "dct"
   ]
  },
  {
   "cell_type": "code",
   "execution_count": 4,
   "id": "2ea726ea",
   "metadata": {},
   "outputs": [
    {
     "data": {
      "text/plain": [
       "{'run': {'verb': 'to move swiftly by foot',\n",
       "  'noun': 'a period of time while one was running'},\n",
       " 'walk': {'verb': 'to move slowly or leisurely by foot',\n",
       "  'noun': 'a period of time while one was walking'}}"
      ]
     },
     "execution_count": 4,
     "metadata": {},
     "output_type": "execute_result"
    }
   ],
   "source": [
    "dct = {\"run\":{\n",
    "          \"verb\":\"to move swiftly by foot\",\n",
    "          \"noun\":\"a period of time while one was running\"},\n",
    "       \"walk\":{\n",
    "            \"verb\":\"to move slowly or leisurely by foot\",\n",
    "            \"noun\":\"a period of time while one was walking\"}\n",
    "      }\n",
    "dct"
   ]
  },
  {
   "cell_type": "code",
   "execution_count": 5,
   "id": "d41e2881",
   "metadata": {},
   "outputs": [
    {
     "data": {
      "text/html": [
       "<div>\n",
       "<style scoped>\n",
       "    .dataframe tbody tr th:only-of-type {\n",
       "        vertical-align: middle;\n",
       "    }\n",
       "\n",
       "    .dataframe tbody tr th {\n",
       "        vertical-align: top;\n",
       "    }\n",
       "\n",
       "    .dataframe thead th {\n",
       "        text-align: right;\n",
       "    }\n",
       "</style>\n",
       "<table border=\"1\" class=\"dataframe\">\n",
       "  <thead>\n",
       "    <tr style=\"text-align: right;\">\n",
       "      <th></th>\n",
       "      <th>run</th>\n",
       "      <th>walk</th>\n",
       "    </tr>\n",
       "  </thead>\n",
       "  <tbody>\n",
       "    <tr>\n",
       "      <th>verb</th>\n",
       "      <td>to move swiftly by foot</td>\n",
       "      <td>to move slowly or leisurely by foot</td>\n",
       "    </tr>\n",
       "    <tr>\n",
       "      <th>noun</th>\n",
       "      <td>a period of time while one was running</td>\n",
       "      <td>a period of time while one was walking</td>\n",
       "    </tr>\n",
       "  </tbody>\n",
       "</table>\n",
       "</div>"
      ],
      "text/plain": [
       "                                         run  \\\n",
       "verb                 to move swiftly by foot   \n",
       "noun  a period of time while one was running   \n",
       "\n",
       "                                        walk  \n",
       "verb     to move slowly or leisurely by foot  \n",
       "noun  a period of time while one was walking  "
      ]
     },
     "execution_count": 5,
     "metadata": {},
     "output_type": "execute_result"
    }
   ],
   "source": [
    "import pandas as pd\n",
    "df = pd.DataFrame(dct)\n",
    "df"
   ]
  },
  {
   "cell_type": "code",
   "execution_count": 6,
   "id": "e17fc36c",
   "metadata": {},
   "outputs": [
    {
     "data": {
      "text/plain": [
       "verb                   to move swiftly by foot\n",
       "noun    a period of time while one was running\n",
       "Name: run, dtype: object"
      ]
     },
     "execution_count": 6,
     "metadata": {},
     "output_type": "execute_result"
    }
   ],
   "source": [
    "# call a column in the df\n",
    "df[\"run\"]"
   ]
  },
  {
   "cell_type": "code",
   "execution_count": 7,
   "id": "677681d2",
   "metadata": {},
   "outputs": [
    {
     "data": {
      "text/plain": [
       "run                 to move swiftly by foot\n",
       "walk    to move slowly or leisurely by foot\n",
       "Name: verb, dtype: object"
      ]
     },
     "execution_count": 7,
     "metadata": {},
     "output_type": "execute_result"
    }
   ],
   "source": [
    "# call a row in the df\n",
    "df.loc[\"verb\"]"
   ]
  },
  {
   "cell_type": "code",
   "execution_count": 8,
   "id": "4e4b6d85",
   "metadata": {},
   "outputs": [
    {
     "data": {
      "text/plain": [
       "'to move swiftly by foot'"
      ]
     },
     "execution_count": 8,
     "metadata": {},
     "output_type": "execute_result"
    }
   ],
   "source": [
    "# call a particular cell\n",
    "df.loc[\"verb\", \"run\"]"
   ]
  },
  {
   "cell_type": "code",
   "execution_count": 9,
   "id": "d78aa409",
   "metadata": {},
   "outputs": [
    {
     "data": {
      "text/plain": [
       "{'Caden': {'Age': 19, 'Interesting Fact': 'Played hockey in highschool'},\n",
       " 'Jacob P': {'Age': 21,\n",
       "  'Interesting Fact': 'Dr. Caton thought my last name was Keterson'},\n",
       " 'Finnian': {'Age': 21, 'Interesting Fact': 'Wrestled in highschool'},\n",
       " 'Genesis': {'Age': 20, 'Interesting Fact': 'Tore both ACLs'},\n",
       " 'Sam': {'Age': 23, 'Interesting Fact': 'Favorite color beige'},\n",
       " 'Proma': {'Age': 24,\n",
       "  'Interesting Fact': 'Learned classical dancing for 10 years'},\n",
       " 'Zach': {'Age': 20,\n",
       "  'Interesting Fact': 'On the track and field team for long-distance'},\n",
       " 'Jacob R': {'Age': 20,\n",
       "  'Interesting Fact': 'Plays classic rock on the guitar'},\n",
       " 'Brandon': {'Age': 23,\n",
       "  'Interesting Fact': 'Used play baseball in highschool and other leagues'},\n",
       " 'Gabe': {'Age': 23,\n",
       "  'Interesting Fact': 'A double major MIS and Accounting for undergrad'},\n",
       " 'Drew': {'Age': 49,\n",
       "  'Interesting Fact': 'Was in the Air Force and freed Keiko (Free Willy)'},\n",
       " 'Isaac': {'Age': 21,\n",
       "  'Interesting Fact': 'Traveling to Europe in the Summer 2022'},\n",
       " 'Kodjo': {'Age': 30, 'Interesting Fact': 'Wife is a soldier!'}}"
      ]
     },
     "execution_count": 9,
     "metadata": {},
     "output_type": "execute_result"
    }
   ],
   "source": [
    "dct  = {\"Caden\":{\"Age\":19,\n",
    "                 \"Interesting Fact\":\"Played hockey in highschool\"},\n",
    "       \"Jacob P\":{\"Age\":21,\n",
    "                 \"Interesting Fact\":\"Dr. Caton thought my last name was Keterson\"},\n",
    "       \"Finnian\":{\"Age\":21,\n",
    "                 \"Interesting Fact\":\"Wrestled in highschool\"},\n",
    "       \"Genesis\":{\"Age\":20,\n",
    "                 \"Interesting Fact\":\"Tore both ACLs\"},\n",
    "       \"Sam\":{\"Age\":23,\n",
    "                 \"Interesting Fact\":\"Favorite color beige\"},\n",
    "       \"Proma\":{\"Age\":24,\n",
    "                 \"Interesting Fact\":\"Learned classical dancing for 10 years\"},\n",
    "       \"Zach\":{\"Age\":20,\n",
    "                 \"Interesting Fact\":\"On the track and field team for long-distance\"},\n",
    "       \"Jacob R\":{\"Age\":20,\n",
    "                 \"Interesting Fact\":\"Plays classic rock on the guitar\"},\n",
    "       \"Brandon\":{\"Age\":23,\n",
    "                 \"Interesting Fact\":\"Used play baseball in highschool and other leagues\"},\n",
    "       \"Gabe\":{\"Age\":23,\n",
    "                 \"Interesting Fact\":\"A double major MIS and Accounting for undergrad\"},\n",
    "       \"Drew\":{\"Age\":49,\n",
    "                 \"Interesting Fact\":\"Was in the Air Force and freed Keiko (Free Willy)\"},\n",
    "        \"Isaac\":{\"Age\":21,\n",
    "                 \"Interesting Fact\":\"Traveling to Europe in the Summer 2022\"},\n",
    "       \"Kodjo\":{\"Age\":30,\n",
    "                 \"Interesting Fact\":\"Wife is a soldier!\"}}\n",
    "dct"
   ]
  },
  {
   "cell_type": "code",
   "execution_count": 10,
   "id": "2c7288ff",
   "metadata": {},
   "outputs": [
    {
     "data": {
      "text/html": [
       "<div>\n",
       "<style scoped>\n",
       "    .dataframe tbody tr th:only-of-type {\n",
       "        vertical-align: middle;\n",
       "    }\n",
       "\n",
       "    .dataframe tbody tr th {\n",
       "        vertical-align: top;\n",
       "    }\n",
       "\n",
       "    .dataframe thead th {\n",
       "        text-align: right;\n",
       "    }\n",
       "</style>\n",
       "<table border=\"1\" class=\"dataframe\">\n",
       "  <thead>\n",
       "    <tr style=\"text-align: right;\">\n",
       "      <th></th>\n",
       "      <th>Age</th>\n",
       "      <th>Interesting Fact</th>\n",
       "    </tr>\n",
       "  </thead>\n",
       "  <tbody>\n",
       "    <tr>\n",
       "      <th>Caden</th>\n",
       "      <td>19</td>\n",
       "      <td>Played hockey in highschool</td>\n",
       "    </tr>\n",
       "    <tr>\n",
       "      <th>Jacob P</th>\n",
       "      <td>21</td>\n",
       "      <td>Dr. Caton thought my last name was Keterson</td>\n",
       "    </tr>\n",
       "    <tr>\n",
       "      <th>Finnian</th>\n",
       "      <td>21</td>\n",
       "      <td>Wrestled in highschool</td>\n",
       "    </tr>\n",
       "    <tr>\n",
       "      <th>Genesis</th>\n",
       "      <td>20</td>\n",
       "      <td>Tore both ACLs</td>\n",
       "    </tr>\n",
       "    <tr>\n",
       "      <th>Sam</th>\n",
       "      <td>23</td>\n",
       "      <td>Favorite color beige</td>\n",
       "    </tr>\n",
       "    <tr>\n",
       "      <th>Proma</th>\n",
       "      <td>24</td>\n",
       "      <td>Learned classical dancing for 10 years</td>\n",
       "    </tr>\n",
       "    <tr>\n",
       "      <th>Zach</th>\n",
       "      <td>20</td>\n",
       "      <td>On the track and field team for long-distance</td>\n",
       "    </tr>\n",
       "    <tr>\n",
       "      <th>Jacob R</th>\n",
       "      <td>20</td>\n",
       "      <td>Plays classic rock on the guitar</td>\n",
       "    </tr>\n",
       "    <tr>\n",
       "      <th>Brandon</th>\n",
       "      <td>23</td>\n",
       "      <td>Used play baseball in highschool and other lea...</td>\n",
       "    </tr>\n",
       "    <tr>\n",
       "      <th>Gabe</th>\n",
       "      <td>23</td>\n",
       "      <td>A double major MIS and Accounting for undergrad</td>\n",
       "    </tr>\n",
       "    <tr>\n",
       "      <th>Drew</th>\n",
       "      <td>49</td>\n",
       "      <td>Was in the Air Force and freed Keiko (Free Willy)</td>\n",
       "    </tr>\n",
       "    <tr>\n",
       "      <th>Isaac</th>\n",
       "      <td>21</td>\n",
       "      <td>Traveling to Europe in the Summer 2022</td>\n",
       "    </tr>\n",
       "    <tr>\n",
       "      <th>Kodjo</th>\n",
       "      <td>30</td>\n",
       "      <td>Wife is a soldier!</td>\n",
       "    </tr>\n",
       "  </tbody>\n",
       "</table>\n",
       "</div>"
      ],
      "text/plain": [
       "        Age                                   Interesting Fact\n",
       "Caden    19                        Played hockey in highschool\n",
       "Jacob P  21        Dr. Caton thought my last name was Keterson\n",
       "Finnian  21                             Wrestled in highschool\n",
       "Genesis  20                                     Tore both ACLs\n",
       "Sam      23                               Favorite color beige\n",
       "Proma    24             Learned classical dancing for 10 years\n",
       "Zach     20      On the track and field team for long-distance\n",
       "Jacob R  20                   Plays classic rock on the guitar\n",
       "Brandon  23  Used play baseball in highschool and other lea...\n",
       "Gabe     23    A double major MIS and Accounting for undergrad\n",
       "Drew     49  Was in the Air Force and freed Keiko (Free Willy)\n",
       "Isaac    21             Traveling to Europe in the Summer 2022\n",
       "Kodjo    30                                 Wife is a soldier!"
      ]
     },
     "execution_count": 10,
     "metadata": {},
     "output_type": "execute_result"
    }
   ],
   "source": [
    "# transpose a dataframe by calling df.T\n",
    "class_df = pd.DataFrame(dct).T\n",
    "class_df"
   ]
  },
  {
   "cell_type": "code",
   "execution_count": 11,
   "id": "e5598f25",
   "metadata": {},
   "outputs": [
    {
     "data": {
      "text/plain": [
       "Index(['Caden', 'Jacob P', 'Finnian', 'Genesis', 'Sam', 'Proma', 'Zach',\n",
       "       'Jacob R', 'Brandon', 'Gabe', 'Drew', 'Isaac', 'Kodjo'],\n",
       "      dtype='object')"
      ]
     },
     "execution_count": 11,
     "metadata": {},
     "output_type": "execute_result"
    }
   ],
   "source": [
    "class_df.index"
   ]
  },
  {
   "cell_type": "code",
   "execution_count": 12,
   "id": "4210d432",
   "metadata": {},
   "outputs": [
    {
     "data": {
      "text/plain": [
       "Caden      19\n",
       "Jacob P    21\n",
       "Finnian    21\n",
       "Genesis    20\n",
       "Sam        23\n",
       "Proma      24\n",
       "Zach       20\n",
       "Jacob R    20\n",
       "Brandon    23\n",
       "Gabe       23\n",
       "Drew       49\n",
       "Isaac      21\n",
       "Kodjo      30\n",
       "Name: Age, dtype: object"
      ]
     },
     "execution_count": 12,
     "metadata": {},
     "output_type": "execute_result"
    }
   ],
   "source": [
    "class_df[\"Age\"]"
   ]
  },
  {
   "cell_type": "code",
   "execution_count": 13,
   "id": "c02ca6b0",
   "metadata": {},
   "outputs": [
    {
     "data": {
      "text/plain": [
       "Caden                            Played hockey in highschool\n",
       "Jacob P          Dr. Caton thought my last name was Keterson\n",
       "Finnian                               Wrestled in highschool\n",
       "Genesis                                       Tore both ACLs\n",
       "Sam                                     Favorite color beige\n",
       "Proma                 Learned classical dancing for 10 years\n",
       "Zach           On the track and field team for long-distance\n",
       "Jacob R                     Plays classic rock on the guitar\n",
       "Brandon    Used play baseball in highschool and other lea...\n",
       "Gabe         A double major MIS and Accounting for undergrad\n",
       "Drew       Was in the Air Force and freed Keiko (Free Willy)\n",
       "Isaac                 Traveling to Europe in the Summer 2022\n",
       "Kodjo                                     Wife is a soldier!\n",
       "Name: Interesting Fact, dtype: object"
      ]
     },
     "execution_count": 13,
     "metadata": {},
     "output_type": "execute_result"
    }
   ],
   "source": [
    "class_df[\"Interesting Fact\"]"
   ]
  },
  {
   "cell_type": "code",
   "execution_count": 14,
   "id": "9793fd58",
   "metadata": {},
   "outputs": [
    {
     "data": {
      "text/plain": [
       "{'Caden': {'Age': 19, 'Interesting Fact': 'Played hockey in highschool'},\n",
       " 'Jacob P': {'Age': 21,\n",
       "  'Interesting Fact': 'Dr. Caton thought my last name was Keterson'},\n",
       " 'Finnian': {'Age': 21, 'Interesting Fact': 'Wrestled in highschool'},\n",
       " 'Genesis': {'Age': 20, 'Interesting Fact': 'Tore both ACLs'},\n",
       " 'Sam': {'Age': 23, 'Interesting Fact': 'Favorite color beige'},\n",
       " 'Proma': {'Age': 24,\n",
       "  'Interesting Fact': 'Learned classical dancing for 10 years'},\n",
       " 'Zach': {'Age': 20,\n",
       "  'Interesting Fact': 'On the track and field team for long-distance'},\n",
       " 'Jacob R': {'Age': 20,\n",
       "  'Interesting Fact': 'Plays classic rock on the guitar'},\n",
       " 'Brandon': {'Age': 23,\n",
       "  'Interesting Fact': 'Used play baseball in highschool and other leagues'},\n",
       " 'Gabe': {'Age': 23,\n",
       "  'Interesting Fact': 'A double major MIS and Accounting for undergrad'},\n",
       " 'Drew': {'Age': 49,\n",
       "  'Interesting Fact': 'Was in the Air Force and freed Keiko (Free Willy)'},\n",
       " 'Isaac': {'Age': 21,\n",
       "  'Interesting Fact': 'Traveling to Europe in the Summer 2022'},\n",
       " 'Kodjo': {'Age': 30, 'Interesting Fact': 'Wife is a soldier!'},\n",
       " 'Dr. Caton': {'Interesting Fact': 'I used to ride dirbikes'}}"
      ]
     },
     "execution_count": 14,
     "metadata": {},
     "output_type": "execute_result"
    }
   ],
   "source": [
    "dct[\"Dr. Caton\"] = {}\n",
    "dct[\"Dr. Caton\"][\"Interesting Fact\"] = \"I used to ride dirbikes\"\n",
    "dct"
   ]
  },
  {
   "cell_type": "code",
   "execution_count": 15,
   "id": "e9e23c39",
   "metadata": {},
   "outputs": [
    {
     "data": {
      "text/plain": [
       "{'Caden': {'Age': 19, 'Interesting Fact': 'Played hockey in highschool'},\n",
       " 'Jacob P': {'Age': 21,\n",
       "  'Interesting Fact': 'Dr. Caton thought my last name was Keterson'},\n",
       " 'Finnian': {'Age': 21, 'Interesting Fact': 'Wrestled in highschool'},\n",
       " 'Genesis': {'Age': 20, 'Interesting Fact': 'Tore both ACLs'},\n",
       " 'Sam': {'Age': 23, 'Interesting Fact': 'Favorite color beige'},\n",
       " 'Proma': {'Age': 24,\n",
       "  'Interesting Fact': 'Learned classical dancing for 10 years'},\n",
       " 'Zach': {'Age': 20,\n",
       "  'Interesting Fact': 'On the track and field team for long-distance'},\n",
       " 'Jacob R': {'Age': 20,\n",
       "  'Interesting Fact': 'Plays classic rock on the guitar'},\n",
       " 'Brandon': {'Age': 23,\n",
       "  'Interesting Fact': 'Used play baseball in highschool and other leagues'},\n",
       " 'Gabe': {'Age': 23,\n",
       "  'Interesting Fact': 'A double major MIS and Accounting for undergrad'},\n",
       " 'Drew': {'Age': 49,\n",
       "  'Interesting Fact': 'Was in the Air Force and freed Keiko (Free Willy)'},\n",
       " 'Isaac': {'Age': 21,\n",
       "  'Interesting Fact': 'Traveling to Europe in the Summer 2022'},\n",
       " 'Kodjo': {'Age': 30, 'Interesting Fact': 'Wife is a soldier!'},\n",
       " 'Dr. Caton': {'Interesting Fact': 'I used to ride dirbikes'},\n",
       " 'Joe Biden': {'Age': 78,\n",
       "  'Interesting Fact': 'Plays Mario Kart with his grandchildren',\n",
       "  'Job': 'President of the United States'}}"
      ]
     },
     "execution_count": 15,
     "metadata": {},
     "output_type": "execute_result"
    }
   ],
   "source": [
    "dct[\"Joe Biden\"] = {\"Age\":78,\n",
    "                    \"Interesting Fact\":\"Plays Mario Kart with his grandchildren\",\n",
    "                   \"Job\":\"President of the United States\"}\n",
    "dct"
   ]
  },
  {
   "cell_type": "code",
   "execution_count": 17,
   "id": "b42acd86",
   "metadata": {},
   "outputs": [
    {
     "data": {
      "text/html": [
       "<div>\n",
       "<style scoped>\n",
       "    .dataframe tbody tr th:only-of-type {\n",
       "        vertical-align: middle;\n",
       "    }\n",
       "\n",
       "    .dataframe tbody tr th {\n",
       "        vertical-align: top;\n",
       "    }\n",
       "\n",
       "    .dataframe thead th {\n",
       "        text-align: right;\n",
       "    }\n",
       "</style>\n",
       "<table border=\"1\" class=\"dataframe\">\n",
       "  <thead>\n",
       "    <tr style=\"text-align: right;\">\n",
       "      <th></th>\n",
       "      <th>Age</th>\n",
       "      <th>Interesting Fact</th>\n",
       "      <th>Job</th>\n",
       "    </tr>\n",
       "  </thead>\n",
       "  <tbody>\n",
       "    <tr>\n",
       "      <th>Caden</th>\n",
       "      <td>19</td>\n",
       "      <td>Played hockey in highschool</td>\n",
       "      <td>NaN</td>\n",
       "    </tr>\n",
       "    <tr>\n",
       "      <th>Jacob P</th>\n",
       "      <td>21</td>\n",
       "      <td>Dr. Caton thought my last name was Keterson</td>\n",
       "      <td>NaN</td>\n",
       "    </tr>\n",
       "    <tr>\n",
       "      <th>Finnian</th>\n",
       "      <td>21</td>\n",
       "      <td>Wrestled in highschool</td>\n",
       "      <td>NaN</td>\n",
       "    </tr>\n",
       "    <tr>\n",
       "      <th>Genesis</th>\n",
       "      <td>20</td>\n",
       "      <td>Tore both ACLs</td>\n",
       "      <td>NaN</td>\n",
       "    </tr>\n",
       "    <tr>\n",
       "      <th>Sam</th>\n",
       "      <td>23</td>\n",
       "      <td>Favorite color beige</td>\n",
       "      <td>NaN</td>\n",
       "    </tr>\n",
       "    <tr>\n",
       "      <th>Proma</th>\n",
       "      <td>24</td>\n",
       "      <td>Learned classical dancing for 10 years</td>\n",
       "      <td>NaN</td>\n",
       "    </tr>\n",
       "    <tr>\n",
       "      <th>Zach</th>\n",
       "      <td>20</td>\n",
       "      <td>On the track and field team for long-distance</td>\n",
       "      <td>NaN</td>\n",
       "    </tr>\n",
       "    <tr>\n",
       "      <th>Jacob R</th>\n",
       "      <td>20</td>\n",
       "      <td>Plays classic rock on the guitar</td>\n",
       "      <td>NaN</td>\n",
       "    </tr>\n",
       "    <tr>\n",
       "      <th>Brandon</th>\n",
       "      <td>23</td>\n",
       "      <td>Used play baseball in highschool and other lea...</td>\n",
       "      <td>NaN</td>\n",
       "    </tr>\n",
       "    <tr>\n",
       "      <th>Gabe</th>\n",
       "      <td>23</td>\n",
       "      <td>A double major MIS and Accounting for undergrad</td>\n",
       "      <td>NaN</td>\n",
       "    </tr>\n",
       "    <tr>\n",
       "      <th>Drew</th>\n",
       "      <td>49</td>\n",
       "      <td>Was in the Air Force and freed Keiko (Free Willy)</td>\n",
       "      <td>NaN</td>\n",
       "    </tr>\n",
       "    <tr>\n",
       "      <th>Isaac</th>\n",
       "      <td>21</td>\n",
       "      <td>Traveling to Europe in the Summer 2022</td>\n",
       "      <td>NaN</td>\n",
       "    </tr>\n",
       "    <tr>\n",
       "      <th>Kodjo</th>\n",
       "      <td>30</td>\n",
       "      <td>Wife is a soldier!</td>\n",
       "      <td>NaN</td>\n",
       "    </tr>\n",
       "    <tr>\n",
       "      <th>Dr. Caton</th>\n",
       "      <td>NaN</td>\n",
       "      <td>I used to ride dirbikes</td>\n",
       "      <td>NaN</td>\n",
       "    </tr>\n",
       "    <tr>\n",
       "      <th>Joe Biden</th>\n",
       "      <td>78</td>\n",
       "      <td>Plays Mario Kart with his grandchildren</td>\n",
       "      <td>President of the United States</td>\n",
       "    </tr>\n",
       "  </tbody>\n",
       "</table>\n",
       "</div>"
      ],
      "text/plain": [
       "           Age                                   Interesting Fact  \\\n",
       "Caden       19                        Played hockey in highschool   \n",
       "Jacob P     21        Dr. Caton thought my last name was Keterson   \n",
       "Finnian     21                             Wrestled in highschool   \n",
       "Genesis     20                                     Tore both ACLs   \n",
       "Sam         23                               Favorite color beige   \n",
       "Proma       24             Learned classical dancing for 10 years   \n",
       "Zach        20      On the track and field team for long-distance   \n",
       "Jacob R     20                   Plays classic rock on the guitar   \n",
       "Brandon     23  Used play baseball in highschool and other lea...   \n",
       "Gabe        23    A double major MIS and Accounting for undergrad   \n",
       "Drew        49  Was in the Air Force and freed Keiko (Free Willy)   \n",
       "Isaac       21             Traveling to Europe in the Summer 2022   \n",
       "Kodjo       30                                 Wife is a soldier!   \n",
       "Dr. Caton  NaN                            I used to ride dirbikes   \n",
       "Joe Biden   78            Plays Mario Kart with his grandchildren   \n",
       "\n",
       "                                      Job  \n",
       "Caden                                 NaN  \n",
       "Jacob P                               NaN  \n",
       "Finnian                               NaN  \n",
       "Genesis                               NaN  \n",
       "Sam                                   NaN  \n",
       "Proma                                 NaN  \n",
       "Zach                                  NaN  \n",
       "Jacob R                               NaN  \n",
       "Brandon                               NaN  \n",
       "Gabe                                  NaN  \n",
       "Drew                                  NaN  \n",
       "Isaac                                 NaN  \n",
       "Kodjo                                 NaN  \n",
       "Dr. Caton                             NaN  \n",
       "Joe Biden  President of the United States  "
      ]
     },
     "execution_count": 17,
     "metadata": {},
     "output_type": "execute_result"
    }
   ],
   "source": [
    "class_df = pd.DataFrame(dct).T\n",
    "class_df"
   ]
  },
  {
   "cell_type": "code",
   "execution_count": 19,
   "id": "342b58cd",
   "metadata": {},
   "outputs": [
    {
     "data": {
      "text/plain": [
       "Age                 object\n",
       "Interesting Fact    object\n",
       "Job                 object\n",
       "dtype: object"
      ]
     },
     "execution_count": 19,
     "metadata": {},
     "output_type": "execute_result"
    }
   ],
   "source": [
    "class_df.dtypes"
   ]
  },
  {
   "cell_type": "code",
   "execution_count": 23,
   "id": "c29abf10",
   "metadata": {},
   "outputs": [
    {
     "data": {
      "text/plain": [
       "{'William Nganje': {'Website': 'https://www.ndsu.edu/agecon/faculty/william_nganje/#c622350',\n",
       "  'Areas of Specialization': 'Risk management; financial analysis; economics of obesity, food safety and food terrorism; experimental economics; and consumer choice theory',\n",
       "  'Bio': 'NA'},\n",
       " 'David Bullock': {'Website': 'https://www.ndsu.edu/agecon/faculty/bullock/#c622728',\n",
       "  'Areas of Specialization': 'futures and options markets, over-the-counter derivatives, trading, risk management, agrifinance, Monte Carlo simulation, and Big Data',\n",
       "  'Bio': 'Dr. David W. Bullock is a Research Associate Professor affiliated with the Center for Trading and Risk at NDSU.  His research interests include futures and options markets, over-the-counter derivatives, trading, risk management, agrifinance, Monte Carlo simulation, and Big Data applications in agriculture.  His academic research in option portfolio theory has been published in both the Journal of Economics and Business and the International Review of Economics and Finance.  Additionally, he was the primary contributor behind the AgriBank Insights publication series which won a National AgriMarketing Association (NAMA) award for the best company publication in 2016. Before coming to NDSU in January 2018, Dr. Bullock held numerous positions for over 25 years in the government and private sectors including the Senior Economist at AgriBank FCB – the regional Farm Credit System funding bank for the Upper Midwest region, Director of Research and Senior Foods Economist at Fortune 500 commodity risk management firm INTL FCStone Inc., the Senior Dairy Analyst at Informa Economics, a Risk Management Specialist with the Minnesota Department of Agriculture, and the Senior Economist at the Minneapolis Grain Exchange. David began his academic career as an Assistant Professor and Extension Marketing Economist at Montana State University after graduating from Iowa State University with a Ph.D. in agricultural economics with fields in agricultural price analysis and econometrics in 1989.  Prior to entering ISU, he received bachelor’s (1982) and master’s (1984) degrees in agricultural economics from Northwest Missouri State University. Dr. Bullock is originally from the small northwestern Missouri farming community of Lathrop which is located 40 miles north of the Kansas City metropolitan area.  While in high school, he served as a regional state Vice-President in the Future Farmers of America (FFA) during his senior year.'},\n",
       " 'James Caton': {'Website': 'https://www.ndsu.edu/centers/pcpe/about/directory/james_caton/',\n",
       "  'Areas of Specialization': 'Entrepreneurship, Institutions, Macroeconomics, Computation',\n",
       "  'Bio': \"James Caton is a faculty fellow at the NDSU Center for the Study of Public Choice and Private Enterprise (PCPE) and an assistant professor in the NDSU Department of Agribusiness and Applied Economics. He teaches undergraduate courses in the areas of macroeconomics, international trade, and computation. He specializes in research related to entrepreneurship, agent-based computational economics, market process theory, and monetary economics. His research has been published in the Southern Economic Journal, Erasmus Journal for Philosophy and Economics, Journal of Entrepreneurship and Public Policy and other academic publications. He co-edited Macroeconomics, a two volume set of essays and primary sources that represent the core of macroeconomic thought. He is also a regular contributor to the American Institute for Economic Research's Sound Money Project, which conducts research and promotes awareness about monetary stability and financial privacy. He resides in Fargo with his wife, Ingrid, and their children.\"},\n",
       " 'David Englund': {'Website': 'https://www.ndsu.edu/agecon/faculty/englund/#c622903',\n",
       "  'Areas of Specialization': 'Teaches Economic Principles, Led NDSU NAMA to National Champions',\n",
       "  'Bio': 'David Englund is a lecturer in the department.  He came to the department with 16 years of teaching experience, having taught Principles of Microeconomics, Principles of Macroeconomics, Money and Banking, Consumer Behavior, Selected Topics in Business, and several other classes.  He also had 10 years’ experience advising student NAMA chapters, having been awarded the Outstanding Advisor of the Year for a Developing Chapter in 2002, and the Outstanding Advisor of the Year award in 2009.\\nDavid primarily teaches Survey of Economics, Principles of Microeconomics, Skills for Academic Success, Agricultural Marketing, and NAMA (co-teaches).  He joined the NAMA team in the 2014-2015 school year as a co-advisor and helped coach the student team to a 3rd place finish in the national student marketing plan competition at the national conference.\\nSome of David’s outside interests are jogging, photography, and writing fiction novels.  His latest release, Camouflaged Encounters has received positive reviews.'},\n",
       " 'Erik Hanson': {'Website': 'https://www.ndsu.edu/agecon/faculty/hanson/#c622905',\n",
       "  'Areas of Specialization': 'Ag Management, Ag Finance',\n",
       "  'Bio': 'Erik Hanson is an Assistant Professor in the Department of Agricultural and Applied Economics. He teaches courses on agribusiness management and agricultural finance. Erik completed his Ph.D. at the University of Minnesota in 2016. Prior to that, Erik completed a master’s degree at the University of Illinois (2013) and a bachelor’s degree at Minnesota State University Moorhead (2011).'},\n",
       " 'Ronald Haugen': {'Website': 'https://www.ndsu.edu/agecon/about_us/faculty/ron_haugen/#c654700',\n",
       "  'Areas of Specialization': 'Farm management including: crop budgets, crop insurance, farm programs, custom farm rates, land rents, machinery economics, commodity price projections and agricultural income taxes. ',\n",
       "  'Bio': 'Ron Haugen is an Extension Farm Management Specialist. He has been in the department since 1991. He computes the North Dakota Land Valuation Model.'},\n",
       " 'Robert Hearne': {'Website': 'https://www.ndsu.edu/agecon/faculty/hearne/#c622909',\n",
       "  'Areas of Specialization': 'water resources management institutions, water markets, protected area management, and the economic valuation of environmental goods and services.',\n",
       "  'Bio': 'Dr. Bob Hearne has been in the Department of Agribusiness and Applied Economics since 2002. He has professional experience in Europe, Asia, Latin America, and Asia.'},\n",
       " 'Jeremy Jackson': {'Website': 'https://www.ndsu.edu/centers/pcpe/about/directory/jeremy_jackson/',\n",
       "  'Areas of Specialization': 'public choice and the political economy; the social consequences of economic freedom; happiness and well-being; and philanthropy and nonprofits.',\n",
       "  'Bio': ' Jeremy Jackson is director of the Center for the Study of Public Choice and Private Enterprise, scholar at the Challey Institute for Global Innovation and Growth, and professor of economics in the Department of Agribusiness and Applied Economics at North Dakota State University.. He teaches undergraduate and graduate courses in the areas of microeconomics, public economics, and game theory and strategy. His research has been published in Applied Economics, The Independent Review, Public Choice, Contemporary Economic Policy, Journal of Happiness Studies, and other refereed and non-refereed sources. '},\n",
       " 'Siew Lim': {'Website': '', 'Areas of Specialization': '', 'Bio': ''},\n",
       " 'Raymond March': {'Website': '', 'Areas of Specialization': '', 'Bio': ''},\n",
       " 'Dragan Miljkovic': {'Website': '', 'Areas of Specialization': '', 'Bio': ''},\n",
       " 'Frayne Olson': {'Website': '', 'Areas of Specialization': '', 'Bio': ''},\n",
       " 'Bryon Parman': {'Website': '', 'Areas of Specialization': '', 'Bio': ''},\n",
       " 'Tim Petry': {'Website': '', 'Areas of Specialization': '', 'Bio': ''},\n",
       " 'Xudong Rao': {'Website': '', 'Areas of Specialization': '', 'Bio': ''},\n",
       " 'Veeshan Rayamajhee': {'Website': '',\n",
       "  'Areas of Specialization': '',\n",
       "  'Bio': ''},\n",
       " 'David Ripplinger': {'Website': '', 'Areas of Specialization': '', 'Bio': ''},\n",
       " 'David Roberts': {'Website': '', 'Areas of Specialization': '', 'Bio': ''},\n",
       " 'Kristi Schweiss': {'Website': '', 'Areas of Specialization': '', 'Bio': ''},\n",
       " 'Anupa Sharma': {'Website': '', 'Areas of Specialization': '', 'Bio': ''},\n",
       " 'Andrew Swenson': {'Website': '', 'Areas of Specialization': '', 'Bio': ''},\n",
       " 'Cheryl Wachenheim': {'Website': '',\n",
       "  'Areas of Specialization': '',\n",
       "  'Bio': ''},\n",
       " 'William Wilson': {'Website': '', 'Areas of Specialization': '', 'Bio': ''}}"
      ]
     },
     "execution_count": 23,
     "metadata": {},
     "output_type": "execute_result"
    }
   ],
   "source": [
    "faculty_dict = {\"William Nganje\":{\"Website\":\"https://www.ndsu.edu/agecon/faculty/william_nganje/#c622350\", \n",
    "                                     \"Areas of Specialization\":\"Risk management; financial analysis; economics of obesity, food safety and food terrorism; experimental economics; and consumer choice theory\",\n",
    "                                     \"Bio\":\"NA\"},\n",
    "                 \"David Bullock\": {\"Website\":\"https://www.ndsu.edu/agecon/faculty/bullock/#c622728\",\n",
    "                                    \"Areas of Specialization\": \"futures and options markets, over-the-counter derivatives, trading, risk management, agrifinance, Monte Carlo simulation, and Big Data\",\n",
    "                                    \"Bio\":\"Dr. David W. Bullock is a Research Associate Professor affiliated with the Center for Trading and Risk at NDSU.  His research interests include futures and options markets, over-the-counter derivatives, trading, risk management, agrifinance, Monte Carlo simulation, and Big Data applications in agriculture.  His academic research in option portfolio theory has been published in both the Journal of Economics and Business and the International Review of Economics and Finance.  Additionally, he was the primary contributor behind the AgriBank Insights publication series which won a National AgriMarketing Association (NAMA) award for the best company publication in 2016. Before coming to NDSU in January 2018, Dr. Bullock held numerous positions for over 25 years in the government and private sectors including the Senior Economist at AgriBank FCB – the regional Farm Credit System funding bank for the Upper Midwest region, Director of Research and Senior Foods Economist at Fortune 500 commodity risk management firm INTL FCStone Inc., the Senior Dairy Analyst at Informa Economics, a Risk Management Specialist with the Minnesota Department of Agriculture, and the Senior Economist at the Minneapolis Grain Exchange. David began his academic career as an Assistant Professor and Extension Marketing Economist at Montana State University after graduating from Iowa State University with a Ph.D. in agricultural economics with fields in agricultural price analysis and econometrics in 1989.  Prior to entering ISU, he received bachelor’s (1982) and master’s (1984) degrees in agricultural economics from Northwest Missouri State University. Dr. Bullock is originally from the small northwestern Missouri farming community of Lathrop which is located 40 miles north of the Kansas City metropolitan area.  While in high school, he served as a regional state Vice-President in the Future Farmers of America (FFA) during his senior year.\"},\n",
    "                 \"James Caton\": {\"Website\":\"https://www.ndsu.edu/centers/pcpe/about/directory/james_caton/\",\n",
    "                                 \"Areas of Specialization\": \"Entrepreneurship, Institutions, Macroeconomics, Computation\",\n",
    "                                 \"Bio\":\"James Caton is a faculty fellow at the NDSU Center for the Study of Public Choice and Private Enterprise (PCPE) and an assistant professor in the NDSU Department of Agribusiness and Applied Economics. He teaches undergraduate courses in the areas of macroeconomics, international trade, and computation. He specializes in research related to entrepreneurship, agent-based computational economics, market process theory, and monetary economics. His research has been published in the Southern Economic Journal, Erasmus Journal for Philosophy and Economics, Journal of Entrepreneurship and Public Policy and other academic publications. He co-edited Macroeconomics, a two volume set of essays and primary sources that represent the core of macroeconomic thought. He is also a regular contributor to the American Institute for Economic Research's Sound Money Project, which conducts research and promotes awareness about monetary stability and financial privacy. He resides in Fargo with his wife, Ingrid, and their children.\"},\n",
    "                 \"David Englund\": {\"Website\":\"https://www.ndsu.edu/agecon/faculty/englund/#c622903\",\n",
    "                                 \"Areas of Specialization\": \"Teaches Economic Principles, Led NDSU NAMA to National Champions\",\n",
    "                                 \"Bio\":\"David Englund is a lecturer in the department.  He came to the department with 16 years of teaching experience, having taught Principles of Microeconomics, Principles of Macroeconomics, Money and Banking, Consumer Behavior, Selected Topics in Business, and several other classes.  He also had 10 years’ experience advising student NAMA chapters, having been awarded the Outstanding Advisor of the Year for a Developing Chapter in 2002, and the Outstanding Advisor of the Year award in 2009.\\nDavid primarily teaches Survey of Economics, Principles of Microeconomics, Skills for Academic Success, Agricultural Marketing, and NAMA (co-teaches).  He joined the NAMA team in the 2014-2015 school year as a co-advisor and helped coach the student team to a 3rd place finish in the national student marketing plan competition at the national conference.\\nSome of David’s outside interests are jogging, photography, and writing fiction novels.  His latest release, Camouflaged Encounters has received positive reviews.\"},\n",
    "                 \"Erik Hanson\": {\"Website\":\"https://www.ndsu.edu/agecon/faculty/hanson/#c622905\",\n",
    "                                 \"Areas of Specialization\": \"Ag Management, Ag Finance\",\n",
    "                                 \"Bio\":\"Erik Hanson is an Assistant Professor in the Department of Agricultural and Applied Economics. He teaches courses on agribusiness management and agricultural finance. Erik completed his Ph.D. at the University of Minnesota in 2016. Prior to that, Erik completed a master’s degree at the University of Illinois (2013) and a bachelor’s degree at Minnesota State University Moorhead (2011).\"},\n",
    "                 \"Ronald Haugen\": {\"Website\":\"https://www.ndsu.edu/agecon/about_us/faculty/ron_haugen/#c654700\",\n",
    "                                 \"Areas of Specialization\": \"Farm management including: crop budgets, crop insurance, farm programs, custom farm rates, land rents, machinery economics, commodity price projections and agricultural income taxes. \",\n",
    "                                 \"Bio\":\"Ron Haugen is an Extension Farm Management Specialist. He has been in the department since 1991. He computes the North Dakota Land Valuation Model.\"},\n",
    "                 \"Robert Hearne\": {\"Website\":\"https://www.ndsu.edu/agecon/faculty/hearne/#c622909\",\n",
    "                                 \"Areas of Specialization\": \"water resources management institutions, water markets, protected area management, and the economic valuation of environmental goods and services.\",\n",
    "                                 \"Bio\":\"Dr. Bob Hearne has been in the Department of Agribusiness and Applied Economics since 2002. He has professional experience in Europe, Asia, Latin America, and Asia.\"},\n",
    "                 \"Jeremy Jackson\": {\"Website\":\"https://www.ndsu.edu/centers/pcpe/about/directory/jeremy_jackson/\",\n",
    "                                 \"Areas of Specialization\": \"public choice and the political economy; the social consequences of economic freedom; happiness and well-being; and philanthropy and nonprofits.\",\n",
    "                                 \"Bio\":\" Jeremy Jackson is director of the Center for the Study of Public Choice and Private Enterprise, scholar at the Challey Institute for Global Innovation and Growth, and professor of economics in the Department of Agribusiness and Applied Economics at North Dakota State University.. He teaches undergraduate and graduate courses in the areas of microeconomics, public economics, and game theory and strategy. His research has been published in Applied Economics, The Independent Review, Public Choice, Contemporary Economic Policy, Journal of Happiness Studies, and other refereed and non-refereed sources. \"},\n",
    "                 \"Siew Lim\": {\"Website\":\"\",\n",
    "                                 \"Areas of Specialization\": \"\",\n",
    "                                 \"Bio\":\"\"},\n",
    "                 \"Raymond March\": {\"Website\":\"\",\n",
    "                                 \"Areas of Specialization\": \"\",\n",
    "                                 \"Bio\":\"\"},\n",
    "                 \"Dragan Miljkovic\": {\"Website\":\"\",\n",
    "                                 \"Areas of Specialization\": \"\",\n",
    "                                 \"Bio\":\"\"},\n",
    "                 \"Frayne Olson\": {\"Website\":\"\",\n",
    "                                 \"Areas of Specialization\": \"\",\n",
    "                                 \"Bio\":\"\"},\n",
    "                 \"Bryon Parman\": {\"Website\":\"\",\n",
    "                                 \"Areas of Specialization\": \"\",\n",
    "                                 \"Bio\":\"\"},\n",
    "                 \"Tim Petry\": {\"Website\":\"\",\n",
    "                                 \"Areas of Specialization\": \"\",\n",
    "                                 \"Bio\":\"\"},\n",
    "                 \"Xudong Rao\": {\"Website\":\"\",\n",
    "                                 \"Areas of Specialization\": \"\",\n",
    "                                 \"Bio\":\"\"},\n",
    "                 \"Veeshan Rayamajhee\": {\"Website\":\"\",\n",
    "                                 \"Areas of Specialization\": \"\",\n",
    "                                 \"Bio\":\"\"},\n",
    "                 \"David Ripplinger\": {\"Website\":\"\",\n",
    "                                 \"Areas of Specialization\": \"\",\n",
    "                                 \"Bio\":\"\"},\n",
    "                 \"David Roberts\": {\"Website\":\"\",\n",
    "                                 \"Areas of Specialization\": \"\",\n",
    "                                 \"Bio\":\"\"},\n",
    "                 \"Kristi Schweiss\": {\"Website\":\"\",\n",
    "                                 \"Areas of Specialization\": \"\",\n",
    "                                 \"Bio\":\"\"},\n",
    "                 \"Anupa Sharma\": {\"Website\":\"\",\n",
    "                                 \"Areas of Specialization\": \"\",\n",
    "                                 \"Bio\":\"\"},\n",
    "                 \"Andrew Swenson\": {\"Website\":\"\",\n",
    "                                 \"Areas of Specialization\": \"\",\n",
    "                                 \"Bio\":\"\"},\n",
    "                 \"Cheryl Wachenheim\": {\"Website\":\"\",\n",
    "                                 \"Areas of Specialization\": \"\",\n",
    "                                 \"Bio\":\"\"},\n",
    "                 \"William Wilson\": {\"Website\":\"\",\n",
    "                                 \"Areas of Specialization\": \"\",\n",
    "                                 \"Bio\":\"\"},\n",
    "                }\n",
    "faculty_dict"
   ]
  },
  {
   "cell_type": "code",
   "execution_count": 25,
   "id": "c8b702a1",
   "metadata": {},
   "outputs": [
    {
     "data": {
      "text/html": [
       "<div>\n",
       "<style scoped>\n",
       "    .dataframe tbody tr th:only-of-type {\n",
       "        vertical-align: middle;\n",
       "    }\n",
       "\n",
       "    .dataframe tbody tr th {\n",
       "        vertical-align: top;\n",
       "    }\n",
       "\n",
       "    .dataframe thead th {\n",
       "        text-align: right;\n",
       "    }\n",
       "</style>\n",
       "<table border=\"1\" class=\"dataframe\">\n",
       "  <thead>\n",
       "    <tr style=\"text-align: right;\">\n",
       "      <th></th>\n",
       "      <th>Website</th>\n",
       "      <th>Areas of Specialization</th>\n",
       "      <th>Bio</th>\n",
       "    </tr>\n",
       "  </thead>\n",
       "  <tbody>\n",
       "    <tr>\n",
       "      <th>William Nganje</th>\n",
       "      <td>https://www.ndsu.edu/agecon/faculty/william_ng...</td>\n",
       "      <td>Risk management; financial analysis; economics...</td>\n",
       "      <td>NA</td>\n",
       "    </tr>\n",
       "    <tr>\n",
       "      <th>David Bullock</th>\n",
       "      <td>https://www.ndsu.edu/agecon/faculty/bullock/#c...</td>\n",
       "      <td>futures and options markets, over-the-counter ...</td>\n",
       "      <td>Dr. David W. Bullock is a Research Associate P...</td>\n",
       "    </tr>\n",
       "    <tr>\n",
       "      <th>James Caton</th>\n",
       "      <td>https://www.ndsu.edu/centers/pcpe/about/direct...</td>\n",
       "      <td>Entrepreneurship, Institutions, Macroeconomics...</td>\n",
       "      <td>James Caton is a faculty fellow at the NDSU Ce...</td>\n",
       "    </tr>\n",
       "    <tr>\n",
       "      <th>David Englund</th>\n",
       "      <td>https://www.ndsu.edu/agecon/faculty/englund/#c...</td>\n",
       "      <td>Teaches Economic Principles, Led NDSU NAMA to ...</td>\n",
       "      <td>David Englund is a lecturer in the department....</td>\n",
       "    </tr>\n",
       "    <tr>\n",
       "      <th>Erik Hanson</th>\n",
       "      <td>https://www.ndsu.edu/agecon/faculty/hanson/#c6...</td>\n",
       "      <td>Ag Management, Ag Finance</td>\n",
       "      <td>Erik Hanson is an Assistant Professor in the D...</td>\n",
       "    </tr>\n",
       "    <tr>\n",
       "      <th>Ronald Haugen</th>\n",
       "      <td>https://www.ndsu.edu/agecon/about_us/faculty/r...</td>\n",
       "      <td>Farm management including: crop budgets, crop ...</td>\n",
       "      <td>Ron Haugen is an Extension Farm Management Spe...</td>\n",
       "    </tr>\n",
       "    <tr>\n",
       "      <th>Robert Hearne</th>\n",
       "      <td>https://www.ndsu.edu/agecon/faculty/hearne/#c6...</td>\n",
       "      <td>water resources management institutions, water...</td>\n",
       "      <td>Dr. Bob Hearne has been in the Department of A...</td>\n",
       "    </tr>\n",
       "    <tr>\n",
       "      <th>Jeremy Jackson</th>\n",
       "      <td>https://www.ndsu.edu/centers/pcpe/about/direct...</td>\n",
       "      <td>public choice and the political economy; the s...</td>\n",
       "      <td>Jeremy Jackson is director of the Center for ...</td>\n",
       "    </tr>\n",
       "    <tr>\n",
       "      <th>Siew Lim</th>\n",
       "      <td></td>\n",
       "      <td></td>\n",
       "      <td></td>\n",
       "    </tr>\n",
       "    <tr>\n",
       "      <th>Raymond March</th>\n",
       "      <td></td>\n",
       "      <td></td>\n",
       "      <td></td>\n",
       "    </tr>\n",
       "    <tr>\n",
       "      <th>Dragan Miljkovic</th>\n",
       "      <td></td>\n",
       "      <td></td>\n",
       "      <td></td>\n",
       "    </tr>\n",
       "    <tr>\n",
       "      <th>Frayne Olson</th>\n",
       "      <td></td>\n",
       "      <td></td>\n",
       "      <td></td>\n",
       "    </tr>\n",
       "    <tr>\n",
       "      <th>Bryon Parman</th>\n",
       "      <td></td>\n",
       "      <td></td>\n",
       "      <td></td>\n",
       "    </tr>\n",
       "    <tr>\n",
       "      <th>Tim Petry</th>\n",
       "      <td></td>\n",
       "      <td></td>\n",
       "      <td></td>\n",
       "    </tr>\n",
       "    <tr>\n",
       "      <th>Xudong Rao</th>\n",
       "      <td></td>\n",
       "      <td></td>\n",
       "      <td></td>\n",
       "    </tr>\n",
       "    <tr>\n",
       "      <th>Veeshan Rayamajhee</th>\n",
       "      <td></td>\n",
       "      <td></td>\n",
       "      <td></td>\n",
       "    </tr>\n",
       "    <tr>\n",
       "      <th>David Ripplinger</th>\n",
       "      <td></td>\n",
       "      <td></td>\n",
       "      <td></td>\n",
       "    </tr>\n",
       "    <tr>\n",
       "      <th>David Roberts</th>\n",
       "      <td></td>\n",
       "      <td></td>\n",
       "      <td></td>\n",
       "    </tr>\n",
       "    <tr>\n",
       "      <th>Kristi Schweiss</th>\n",
       "      <td></td>\n",
       "      <td></td>\n",
       "      <td></td>\n",
       "    </tr>\n",
       "    <tr>\n",
       "      <th>Anupa Sharma</th>\n",
       "      <td></td>\n",
       "      <td></td>\n",
       "      <td></td>\n",
       "    </tr>\n",
       "    <tr>\n",
       "      <th>Andrew Swenson</th>\n",
       "      <td></td>\n",
       "      <td></td>\n",
       "      <td></td>\n",
       "    </tr>\n",
       "    <tr>\n",
       "      <th>Cheryl Wachenheim</th>\n",
       "      <td></td>\n",
       "      <td></td>\n",
       "      <td></td>\n",
       "    </tr>\n",
       "    <tr>\n",
       "      <th>William Wilson</th>\n",
       "      <td></td>\n",
       "      <td></td>\n",
       "      <td></td>\n",
       "    </tr>\n",
       "  </tbody>\n",
       "</table>\n",
       "</div>"
      ],
      "text/plain": [
       "                                                              Website  \\\n",
       "William Nganje      https://www.ndsu.edu/agecon/faculty/william_ng...   \n",
       "David Bullock       https://www.ndsu.edu/agecon/faculty/bullock/#c...   \n",
       "James Caton         https://www.ndsu.edu/centers/pcpe/about/direct...   \n",
       "David Englund       https://www.ndsu.edu/agecon/faculty/englund/#c...   \n",
       "Erik Hanson         https://www.ndsu.edu/agecon/faculty/hanson/#c6...   \n",
       "Ronald Haugen       https://www.ndsu.edu/agecon/about_us/faculty/r...   \n",
       "Robert Hearne       https://www.ndsu.edu/agecon/faculty/hearne/#c6...   \n",
       "Jeremy Jackson      https://www.ndsu.edu/centers/pcpe/about/direct...   \n",
       "Siew Lim                                                                \n",
       "Raymond March                                                           \n",
       "Dragan Miljkovic                                                        \n",
       "Frayne Olson                                                            \n",
       "Bryon Parman                                                            \n",
       "Tim Petry                                                               \n",
       "Xudong Rao                                                              \n",
       "Veeshan Rayamajhee                                                      \n",
       "David Ripplinger                                                        \n",
       "David Roberts                                                           \n",
       "Kristi Schweiss                                                         \n",
       "Anupa Sharma                                                            \n",
       "Andrew Swenson                                                          \n",
       "Cheryl Wachenheim                                                       \n",
       "William Wilson                                                          \n",
       "\n",
       "                                              Areas of Specialization  \\\n",
       "William Nganje      Risk management; financial analysis; economics...   \n",
       "David Bullock       futures and options markets, over-the-counter ...   \n",
       "James Caton         Entrepreneurship, Institutions, Macroeconomics...   \n",
       "David Englund       Teaches Economic Principles, Led NDSU NAMA to ...   \n",
       "Erik Hanson                                 Ag Management, Ag Finance   \n",
       "Ronald Haugen       Farm management including: crop budgets, crop ...   \n",
       "Robert Hearne       water resources management institutions, water...   \n",
       "Jeremy Jackson      public choice and the political economy; the s...   \n",
       "Siew Lim                                                                \n",
       "Raymond March                                                           \n",
       "Dragan Miljkovic                                                        \n",
       "Frayne Olson                                                            \n",
       "Bryon Parman                                                            \n",
       "Tim Petry                                                               \n",
       "Xudong Rao                                                              \n",
       "Veeshan Rayamajhee                                                      \n",
       "David Ripplinger                                                        \n",
       "David Roberts                                                           \n",
       "Kristi Schweiss                                                         \n",
       "Anupa Sharma                                                            \n",
       "Andrew Swenson                                                          \n",
       "Cheryl Wachenheim                                                       \n",
       "William Wilson                                                          \n",
       "\n",
       "                                                                  Bio  \n",
       "William Nganje                                                     NA  \n",
       "David Bullock       Dr. David W. Bullock is a Research Associate P...  \n",
       "James Caton         James Caton is a faculty fellow at the NDSU Ce...  \n",
       "David Englund       David Englund is a lecturer in the department....  \n",
       "Erik Hanson         Erik Hanson is an Assistant Professor in the D...  \n",
       "Ronald Haugen       Ron Haugen is an Extension Farm Management Spe...  \n",
       "Robert Hearne       Dr. Bob Hearne has been in the Department of A...  \n",
       "Jeremy Jackson       Jeremy Jackson is director of the Center for ...  \n",
       "Siew Lim                                                               \n",
       "Raymond March                                                          \n",
       "Dragan Miljkovic                                                       \n",
       "Frayne Olson                                                           \n",
       "Bryon Parman                                                           \n",
       "Tim Petry                                                              \n",
       "Xudong Rao                                                             \n",
       "Veeshan Rayamajhee                                                     \n",
       "David Ripplinger                                                       \n",
       "David Roberts                                                          \n",
       "Kristi Schweiss                                                        \n",
       "Anupa Sharma                                                           \n",
       "Andrew Swenson                                                         \n",
       "Cheryl Wachenheim                                                      \n",
       "William Wilson                                                         "
      ]
     },
     "execution_count": 25,
     "metadata": {},
     "output_type": "execute_result"
    }
   ],
   "source": [
    "pd.DataFrame(faculty_dict).T"
   ]
  }
 ],
 "metadata": {
  "kernelspec": {
   "display_name": "Python 3",
   "language": "python",
   "name": "python3"
  },
  "language_info": {
   "codemirror_mode": {
    "name": "ipython",
    "version": 3
   },
   "file_extension": ".py",
   "mimetype": "text/x-python",
   "name": "python",
   "nbconvert_exporter": "python",
   "pygments_lexer": "ipython3",
   "version": "3.8.8"
  }
 },
 "nbformat": 4,
 "nbformat_minor": 5
}
