{
 "cells": [
  {
   "cell_type": "markdown",
   "id": "3945b979",
   "metadata": {},
   "source": [
    "# Hello World"
   ]
  },
  {
   "cell_type": "code",
   "execution_count": 1,
   "id": "f8517b3f",
   "metadata": {},
   "outputs": [
    {
     "name": "stdout",
     "output_type": "stream",
     "text": [
      "Hello world!\n"
     ]
    }
   ],
   "source": [
    "print(\"Hello world!\")"
   ]
  },
  {
   "cell_type": "code",
   "execution_count": 4,
   "id": "6dea6988",
   "metadata": {},
   "outputs": [
    {
     "data": {
      "text/plain": [
       "str"
      ]
     },
     "execution_count": 4,
     "metadata": {},
     "output_type": "execute_result"
    }
   ],
   "source": [
    "type(\"Hello World\")"
   ]
  },
  {
   "cell_type": "markdown",
   "id": "d4c3d3d0",
   "metadata": {},
   "source": [
    "## Save \"Hello World\" as a variable"
   ]
  },
  {
   "cell_type": "code",
   "execution_count": 5,
   "id": "85e6a8da",
   "metadata": {},
   "outputs": [
    {
     "name": "stdout",
     "output_type": "stream",
     "text": [
      "Hello World\n"
     ]
    }
   ],
   "source": [
    "msg = \"Hello World\"\n",
    "print(msg)"
   ]
  },
  {
   "cell_type": "code",
   "execution_count": 6,
   "id": "5b47a8b2",
   "metadata": {},
   "outputs": [
    {
     "data": {
      "text/plain": [
       "str"
      ]
     },
     "execution_count": 6,
     "metadata": {},
     "output_type": "execute_result"
    }
   ],
   "source": [
    "type(msg)"
   ]
  },
  {
   "cell_type": "code",
   "execution_count": 12,
   "id": "365fd6f2",
   "metadata": {},
   "outputs": [
    {
     "name": "stdout",
     "output_type": "stream",
     "text": [
      "JOHN NASH\n"
     ]
    },
    {
     "data": {
      "text/plain": [
       "'John Nash'"
      ]
     },
     "execution_count": 12,
     "metadata": {},
     "output_type": "execute_result"
    }
   ],
   "source": [
    "msg = \"john nash\"\n",
    "\n",
    "# ALL CAPS\n",
    "msg_upper = msg.upper()\n",
    "print(msg_upper)\n",
    "# Capitalize The First Letter Of Each Word\n",
    "msg_title = msg.title()\n",
    "msg_title"
   ]
  },
  {
   "cell_type": "markdown",
   "id": "19069e87",
   "metadata": {},
   "source": [
    "# Concatenate\n",
    "\n",
    "To concatenate means to join together. To concatenate strings is to join to strings so that they form a single string."
   ]
  },
  {
   "cell_type": "code",
   "execution_count": 13,
   "id": "526ab029",
   "metadata": {},
   "outputs": [
    {
     "name": "stdout",
     "output_type": "stream",
     "text": [
      "A\n"
     ]
    }
   ],
   "source": [
    "print(\"A\")"
   ]
  },
  {
   "cell_type": "code",
   "execution_count": 15,
   "id": "9a47ad0e",
   "metadata": {},
   "outputs": [
    {
     "name": "stdout",
     "output_type": "stream",
     "text": [
      "B\n"
     ]
    }
   ],
   "source": [
    "print(\"B\")"
   ]
  },
  {
   "cell_type": "code",
   "execution_count": 19,
   "id": "abd263c4",
   "metadata": {},
   "outputs": [
    {
     "name": "stdout",
     "output_type": "stream",
     "text": [
      "AB\n"
     ]
    }
   ],
   "source": [
    "a = \"A\"\n",
    "b = \"B\"\n",
    "print(a + b)"
   ]
  },
  {
   "cell_type": "code",
   "execution_count": 4,
   "id": "02cc8ed7",
   "metadata": {},
   "outputs": [
    {
     "name": "stdout",
     "output_type": "stream",
     "text": [
      "1\t2\t3\t4\n",
      "You thought it would be easy\n",
      "You thought it wouldn't be strange\n",
      "But then you started coding\n",
      "Things never were the same\n"
     ]
    }
   ],
   "source": [
    "line1 = \"You thought it would be easy\"\n",
    "line2 = \"You thought it wouldn't be strange\"\n",
    "line3 = \"But then you started coding\"\n",
    "line4 = \"Things never were the same\"\n",
    "# print(line1 + line2 + line3 + line4)\n",
    "# print(line1 + \" \" + line2)\n",
    "\n",
    "# create a new line with \"\\n\"\n",
    "# print(line1 + \"\\n\" + line2)\n",
    "\n",
    "# use sep = \"string\" to insert a particular string between each object passed to pring \n",
    "print(1,2,3,4, sep = \"\\n\")\n",
    "print(line1, line2, line3, line4, sep = \"\\n\")\n",
    "\n",
    "\n",
    "\n",
    "\n",
    "\n",
    "\n",
    "\n"
   ]
  },
  {
   "cell_type": "markdown",
   "id": "1c61fd90",
   "metadata": {},
   "source": [
    "## Quotes within quotes"
   ]
  },
  {
   "cell_type": "code",
   "execution_count": 43,
   "id": "3ef23e9e",
   "metadata": {},
   "outputs": [
    {
     "name": "stdout",
     "output_type": "stream",
     "text": [
      "\"\n"
     ]
    }
   ],
   "source": [
    "print(\"\\\"\")"
   ]
  },
  {
   "cell_type": "code",
   "execution_count": 44,
   "id": "ce81ee19",
   "metadata": {},
   "outputs": [
    {
     "name": "stdout",
     "output_type": "stream",
     "text": [
      "\"\n"
     ]
    }
   ],
   "source": [
    "print('\"')"
   ]
  },
  {
   "cell_type": "markdown",
   "id": "4f18d708",
   "metadata": {},
   "source": [
    "# More String Methods"
   ]
  },
  {
   "cell_type": "code",
   "execution_count": 53,
   "id": "a913677b",
   "metadata": {},
   "outputs": [
    {
     "name": "stdout",
     "output_type": "stream",
     "text": [
      "      Look at all the spaces in the text!      \n"
     ]
    }
   ],
   "source": [
    "spaces = \"      Look at all the spaces in the text!      \"\n",
    "print(spaces)"
   ]
  },
  {
   "cell_type": "code",
   "execution_count": 54,
   "id": "3be0fcd1",
   "metadata": {},
   "outputs": [
    {
     "name": "stdout",
     "output_type": "stream",
     "text": [
      "Look at all the spaces in the text!      \n"
     ]
    }
   ],
   "source": [
    "# reomve space on far left\n",
    "print(spaces.lstrip())"
   ]
  },
  {
   "cell_type": "code",
   "execution_count": 55,
   "id": "4c2bff22",
   "metadata": {},
   "outputs": [
    {
     "name": "stdout",
     "output_type": "stream",
     "text": [
      "      Look at all the spaces in the text!\n"
     ]
    }
   ],
   "source": [
    "# remove space on far right\n",
    "print(spaces.rstrip())"
   ]
  },
  {
   "cell_type": "code",
   "execution_count": 56,
   "id": "bda8e17e",
   "metadata": {},
   "outputs": [
    {
     "name": "stdout",
     "output_type": "stream",
     "text": [
      "Look at all the spaces in the text!\n"
     ]
    }
   ],
   "source": [
    "# remove spaces on both sides\n",
    "print(spaces.strip())"
   ]
  },
  {
   "cell_type": "code",
   "execution_count": 57,
   "id": "e72aef06",
   "metadata": {},
   "outputs": [
    {
     "data": {
      "text/plain": [
       "'Lookatallthespacesinthetext!'"
      ]
     },
     "execution_count": 57,
     "metadata": {},
     "output_type": "execute_result"
    }
   ],
   "source": [
    "# remove all spaces\n",
    "print(spaces.replace(\" \", \"\"))"
   ]
  },
  {
   "cell_type": "code",
   "execution_count": 60,
   "id": "d3db56d9",
   "metadata": {},
   "outputs": [
    {
     "name": "stdout",
     "output_type": "stream",
     "text": [
      "Look at all the spaces in the text!\n"
     ]
    }
   ],
   "source": [
    "print(spaces.replace(\"      \", \"\"))"
   ]
  },
  {
   "cell_type": "code",
   "execution_count": 62,
   "id": "9d677875",
   "metadata": {},
   "outputs": [
    {
     "data": {
      "text/plain": [
       "'      Look at all the pace in the text!      '"
      ]
     },
     "execution_count": 62,
     "metadata": {},
     "output_type": "execute_result"
    }
   ],
   "source": [
    "spaces.replace(\"s\",\"\")"
   ]
  },
  {
   "cell_type": "markdown",
   "id": "2849c52d",
   "metadata": {},
   "source": [
    "# Working with numbers"
   ]
  },
  {
   "cell_type": "code",
   "execution_count": 65,
   "id": "23fa4657",
   "metadata": {},
   "outputs": [
    {
     "name": "stdout",
     "output_type": "stream",
     "text": [
      "1 1.0\n"
     ]
    }
   ],
   "source": [
    "print(1, 1.)"
   ]
  },
  {
   "cell_type": "code",
   "execution_count": 69,
   "id": "69bf1164",
   "metadata": {},
   "outputs": [
    {
     "name": "stdout",
     "output_type": "stream",
     "text": [
      "<class 'int'> <class 'float'> <class 'str'>\n",
      "1 1.0 1.\n"
     ]
    }
   ],
   "source": [
    "int1 = 1\n",
    "float1 = 1.\n",
    "str1 = \"1.\"\n",
    "print(type(int1), type(float1), type(str1))\n",
    "print(int1, float1, str1)"
   ]
  },
  {
   "cell_type": "code",
   "execution_count": 71,
   "id": "735eaf70",
   "metadata": {},
   "outputs": [
    {
     "name": "stdout",
     "output_type": "stream",
     "text": [
      "<class 'int'> 2\n"
     ]
    }
   ],
   "source": [
    "int2 = int1 + int1\n",
    "print(type(int2), int2)"
   ]
  },
  {
   "cell_type": "markdown",
   "id": "f835b109",
   "metadata": {},
   "source": [
    "Summing an int and a float yields a float"
   ]
  },
  {
   "cell_type": "code",
   "execution_count": 74,
   "id": "40eaa925",
   "metadata": {},
   "outputs": [
    {
     "name": "stdout",
     "output_type": "stream",
     "text": [
      "<class 'float'> 2.0\n"
     ]
    }
   ],
   "source": [
    "float2 = int1 + float1\n",
    "print(type(float2), float2)"
   ]
  },
  {
   "cell_type": "code",
   "execution_count": null,
   "id": "cc734a92",
   "metadata": {},
   "outputs": [],
   "source": [
    "## If you attempt to sum an int or flaot with a string, an error results"
   ]
  },
  {
   "cell_type": "code",
   "execution_count": 77,
   "id": "cafb1b50",
   "metadata": {},
   "outputs": [
    {
     "ename": "TypeError",
     "evalue": "unsupported operand type(s) for +: 'int' and 'str'",
     "output_type": "error",
     "traceback": [
      "\u001b[1;31m---------------------------------------------------------------------------\u001b[0m",
      "\u001b[1;31mTypeError\u001b[0m                                 Traceback (most recent call last)",
      "Input \u001b[1;32mIn [77]\u001b[0m, in \u001b[0;36m<cell line: 1>\u001b[1;34m()\u001b[0m\n\u001b[1;32m----> 1\u001b[0m \u001b[43mint1\u001b[49m\u001b[43m \u001b[49m\u001b[38;5;241;43m+\u001b[39;49m\u001b[43m \u001b[49m\u001b[43mstr1\u001b[49m\n",
      "\u001b[1;31mTypeError\u001b[0m: unsupported operand type(s) for +: 'int' and 'str'"
     ]
    }
   ],
   "source": [
    "int1 + str1\n"
   ]
  },
  {
   "cell_type": "code",
   "execution_count": null,
   "id": "762e44ce",
   "metadata": {},
   "outputs": [],
   "source": [
    "## Transform value to string"
   ]
  },
  {
   "cell_type": "code",
   "execution_count": 85,
   "id": "12325d37",
   "metadata": {},
   "outputs": [
    {
     "data": {
      "text/plain": [
       "'1.01.'"
      ]
     },
     "execution_count": 85,
     "metadata": {},
     "output_type": "execute_result"
    }
   ],
   "source": [
    "str11 = str(float1) + str1\n",
    "str11"
   ]
  },
  {
   "cell_type": "code",
   "execution_count": 86,
   "id": "3acc4c2e",
   "metadata": {},
   "outputs": [
    {
     "data": {
      "text/plain": [
       "2.0"
      ]
     },
     "execution_count": 86,
     "metadata": {},
     "output_type": "execute_result"
    }
   ],
   "source": [
    "float2 = float(str1) + float1\n",
    "float2"
   ]
  },
  {
   "cell_type": "code",
   "execution_count": 84,
   "id": "463b4f73",
   "metadata": {},
   "outputs": [
    {
     "name": "stdout",
     "output_type": "stream",
     "text": [
      "012345678910111213141516171819\n"
     ]
    }
   ],
   "source": [
    "total = \"\"\n",
    "for i in range(20):\n",
    "    total  = total + str(i)\n",
    "print(total)"
   ]
  }
 ],
 "metadata": {
  "kernelspec": {
   "display_name": "Python 3 (ipykernel)",
   "language": "python",
   "name": "python3"
  },
  "language_info": {
   "codemirror_mode": {
    "name": "ipython",
    "version": 3
   },
   "file_extension": ".py",
   "mimetype": "text/x-python",
   "name": "python",
   "nbconvert_exporter": "python",
   "pygments_lexer": "ipython3",
   "version": "3.9.12"
  }
 },
 "nbformat": 4,
 "nbformat_minor": 5
}
