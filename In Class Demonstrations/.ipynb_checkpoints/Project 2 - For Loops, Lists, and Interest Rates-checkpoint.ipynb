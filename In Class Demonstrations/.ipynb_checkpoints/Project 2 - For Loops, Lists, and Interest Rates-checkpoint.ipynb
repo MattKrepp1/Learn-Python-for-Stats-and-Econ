{
 "cells": [
  {
   "cell_type": "markdown",
   "metadata": {},
   "source": [
    "# For Loops: Interest Rates\n",
    "\n",
    "In this lesson we are going to learn what for loops are, how to work with them, and apply them to better understand interest rates and other programming concepts.\n",
    "\n",
    "## For Loops\n",
    "\n",
    "For loops are of structure: \n",
    "> for i in range(n)\n",
    ">\n",
    "> for i in range(start, end + 1, interval)\n",
    "\n",
    "Let's create some for loops!"
   ]
  },
  {
   "cell_type": "code",
   "execution_count": 1,
   "metadata": {},
   "outputs": [
    {
     "name": "stdout",
     "output_type": "stream",
     "text": [
      "10, 11, 12, 13, 14, 15, 16, 17, 18, 19, 20, 21, 22, 23, 24, 25, 26, 27, 28, 29, 30, 31, 32, 33, 34, 35, 36, 37, 38, 39, 40, 41, 42, 43, 44, 45, 46, 47, 48, 49, 50, 51, 52, 53, 54, 55, 56, 57, 58, 59, 60, 61, 62, 63, 64, 65, 66, 67, 68, 69, 70, 71, 72, 73, 74, 75, 76, 77, 78, 79, 80, 81, 82, 83, 84, 85, 86, 87, 88, 89, 90, 91, 92, 93, 94, 95, 96, 97, 98, 99, "
     ]
    }
   ],
   "source": [
    "# counting with a for loop\n",
    "\n",
    "for i in range(10, 100):\n",
    "    print(i, end = \", \") # by default, end = \"\\n\"\n",
    "    "
   ]
  },
  {
   "cell_type": "code",
   "execution_count": 2,
   "metadata": {},
   "outputs": [
    {
     "name": "stdout",
     "output_type": "stream",
     "text": [
      "10, 11, 12, 13, 14, 15, 16, 17, 18, 19, 20, 21, 22, 23, 24, 25, 26, 27, 28, 29, 30, 31, 32, 33, 34, 35, 36, 37, 38, 39, 40, 41, 42, 43, 44, 45, 46, 47, 48, 49, 50, 51, 52, 53, 54, 55, 56, 57, 58, 59, 60, 61, 62, 63, 64, 65, 66, 67, 68, 69, 70, 71, 72, 73, 74, 75, 76, 77, 78, 79, 80, 81, 82, 83, 84, 85, 86, 87, 88, 89, 90, 91, 92, 93, 94, 95, 96, 97, 98, 99, 100, "
     ]
    }
   ],
   "source": [
    "range_list = list(range(10,101))\n",
    "for i in range_list:\n",
    "    print(i, end = \", \")"
   ]
  },
  {
   "cell_type": "markdown",
   "metadata": {},
   "source": [
    "Code above was made live in class, next is from the project notes"
   ]
  },
  {
   "cell_type": "code",
   "execution_count": 3,
   "metadata": {},
   "outputs": [
    {
     "name": "stdout",
     "output_type": "stream",
     "text": [
      "lst1:\n",
      "[0, 1, 2, 3, 4, 5]\n",
      "lst2:\n",
      "[0, 1, 2, 3, 4, 5]\n",
      "lst3:\n",
      "[0, 1, 2, 3, 4, 5, 6, 7, 8, 9, 10, 11, 12, 13, 14, 15, 16, 17, 18, 19, 20, 21, 22, 23, 24, 25, 26, 27, 28, 29, 30, 31, 32, 33, 34, 35, 36, 37, 38, 39, 40, 41, 42, 43, 44, 45, 46, 47, 48, 49, 50, 51, 52, 53, 54, 55, 56, 57, 58, 59, 60, 61, 62, 63, 64, 65, 66, 67, 68, 69, 70, 71, 72, 73, 74, 75, 76, 77, 78, 79, 80, 81, 82, 83, 84, 85, 86, 87, 88, 89, 90, 91, 92, 93, 94, 95, 96, 97, 98, 99, 100]\n",
      "lst4:\n",
      "[0, 2, 4, 6, 8, 10, 12, 14, 16, 18, 20, 22, 24, 26, 28, 30, 32, 34, 36, 38, 40, 42, 44, 46, 48, 50, 52, 54, 56, 58, 60, 62, 64, 66, 68, 70, 72, 74, 76, 78, 80, 82, 84, 86, 88, 90, 92, 94, 96, 98, 100]\n",
      "lst5:\n",
      "[0, 2, 4, 6, 8, 10, 12, 14, 16, 18, 20, 22, 24, 26, 28, 30, 32, 34, 36, 38, 40, 42, 44, 46, 48, 50, 52, 54, 56, 58, 60, 62, 64, 66, 68, 70, 72, 74, 76, 78, 80, 82, 84, 86, 88, 90, 92, 94, 96, 98, 100]\n",
      "lst6:\n",
      "[50, 48, 46, 44, 42, 40, 38, 36, 34, 32, 30, 28, 26, 24, 22, 20, 18, 16, 14, 12, 10, 8, 6, 4, 2, 0]\n"
     ]
    }
   ],
   "source": [
    "# create a list by entering values individually\n",
    "lst1 = [0,1,2,3,4,5]\n",
    "# create a list using list(range())\n",
    "lst2 = list(range(6))\n",
    "\n",
    "# Create empty list and fill using a for loop\n",
    "lst3 = []\n",
    "# count by ones to 100\n",
    "for i in range(101):\n",
    "    lst3.append(i)\n",
    "\n",
    "lst4 = []\n",
    "# count by twos\n",
    "for i in range(0, 101, 2):\n",
    "    lst4.append(i)\n",
    "\n",
    "# create list counting by twos using list(range())\n",
    "lst5 = list(range(0,101,2))\n",
    "# counting backward\n",
    "lst6 = list(range(50, -1, -2))\n",
    "print(\"lst1:\", lst1, sep = \"\\n\")\n",
    "print(\"lst2:\", lst2, sep = \"\\n\")\n",
    "print(\"lst3:\", lst3, sep = \"\\n\")\n",
    "print(\"lst4:\", lst4, sep = \"\\n\")\n",
    "print(\"lst5:\", lst5, sep = \"\\n\")\n",
    "print(\"lst6:\", lst6, sep = \"\\n\")"
   ]
  },
  {
   "cell_type": "markdown",
   "metadata": {},
   "source": [
    "Let's compare .append() .insert():\n",
    "> The equivalent of lst.append(obj) is lst.insert(-1, obj)"
   ]
  },
  {
   "cell_type": "code",
   "execution_count": 4,
   "metadata": {},
   "outputs": [
    {
     "name": "stdout",
     "output_type": "stream",
     "text": [
      "1\n",
      "10\n",
      "100 100\n",
      "99 99\n",
      "98 98\n"
     ]
    }
   ],
   "source": [
    "lst7 = []\n",
    "# create list of numbers from 0 to 100\n",
    "for i in range(101):\n",
    "    lst7.insert(i, i)\n",
    "# You can call the value at some index (location) in the list by calling \n",
    "# lst[#]\n",
    "print(lst7[1])\n",
    "print(lst7[10])\n",
    "# identify very last index with -1\n",
    "print(lst7[-1], lst7[100])\n",
    "print(lst7[-2], lst7[99])\n",
    "print(lst7[-3], lst7[98])"
   ]
  },
  {
   "cell_type": "markdown",
   "metadata": {},
   "source": [
    " We can create a list that counts backward without using a for loop that counts backward"
   ]
  },
  {
   "cell_type": "code",
   "execution_count": 5,
   "metadata": {},
   "outputs": [
    {
     "name": "stdout",
     "output_type": "stream",
     "text": [
      "[100, 99, 98, 97, 96, 95, 94, 93, 92, 91, 90, 89, 88, 87, 86, 85, 84, 83, 82, 81, 80, 79, 78, 77, 76, 75, 74, 73, 72, 71, 70, 69, 68, 67, 66, 65, 64, 63, 62, 61, 60, 59, 58, 57, 56, 55, 54, 53, 52, 51, 50, 49, 48, 47, 46, 45, 44, 43, 42, 41, 40, 39, 38, 37, 36, 35, 34, 33, 32, 31, 30, 29, 28, 27, 26, 25, 24, 23, 22, 21, 20, 19, 18, 17, 16, 15, 14, 13, 12, 11, 10, 9, 8, 7, 6, 5, 4, 3, 2, 1, 0]\n"
     ]
    }
   ],
   "source": [
    "# Create a list of numbers that counts backward from 100 to 0\n",
    "lst8 = []\n",
    "for i in range(101):\n",
    "    lst8.insert(0, i)\n",
    "print(lst8)"
   ]
  },
  {
   "cell_type": "markdown",
   "metadata": {},
   "source": [
    "Maybe you do not know the length of a list. You can use len(lst) to count the length of a list."
   ]
  },
  {
   "cell_type": "code",
   "execution_count": 6,
   "metadata": {},
   "outputs": [
    {
     "name": "stdout",
     "output_type": "stream",
     "text": [
      "len lst1: 6\n",
      "len lst2: 6\n",
      "len lst3: 101\n",
      "len lst4: 51\n",
      "len lst5: 51\n",
      "len lst6: 26\n",
      "len lst7: 101\n",
      "len lst8: 101\n",
      "0, 1, 2, 3, 4, 5, "
     ]
    }
   ],
   "source": [
    "len_lst1 = len(lst1)\n",
    "len_lst2 = len(lst2)\n",
    "len_lst3 = len(lst3)\n",
    "len_lst4 = len(lst4)\n",
    "len_lst5 = len(lst5)\n",
    "len_lst6 = len(lst6)\n",
    "len_lst7 = len(lst7)\n",
    "len_lst8 = len(lst8)\n",
    "\n",
    "print(\"len lst1:\", len_lst1)\n",
    "print(\"len lst2:\", len_lst2)\n",
    "print(\"len lst3:\", len_lst3)\n",
    "print(\"len lst4:\", len_lst4)\n",
    "print(\"len lst5:\", len_lst5)\n",
    "print(\"len lst6:\", len_lst6)\n",
    "print(\"len lst7:\", len_lst7)\n",
    "print(\"len lst8:\", len_lst8)\n",
    "\n",
    "for i in range(len(lst1)):\n",
    "    print(lst1[i], end = \", \")"
   ]
  },
  {
   "cell_type": "markdown",
   "metadata": {},
   "source": [
    "### Transforming Dictionaries to Pandas Dataframes\n",
    "\n",
    "Dictionaries of two forms can be transformed into pandas dataframes. A dictionary can have 1 layer of keys, each of which point to a list:\n",
    "\n",
    "dct = {\"key1\":list1,\n",
    "        \"key2:list2,\n",
    "        \"key3:list3}\n",
    "This results in a dataframe where the keys are interepreted as column names and the list indices are interpreted as row numbers."
   ]
  },
  {
   "cell_type": "code",
   "execution_count": 7,
   "metadata": {},
   "outputs": [
    {
     "data": {
      "text/plain": [
       "{'list1': [1, 2, 3, 4, 5],\n",
       " 'list2': [1, 4, 9, 16, 25],\n",
       " 'list3': [1, 4, 6, 3, 5]}"
      ]
     },
     "execution_count": 7,
     "metadata": {},
     "output_type": "execute_result"
    }
   ],
   "source": [
    "dct = {\"list1\": [1,2,3,4,5],\n",
    "      \"list2\":[1 ** 2, 2 ** 2, 3 ** 2, 4 ** 2, 5 ** 2],\n",
    "      \"list3\":[1,4,6,3,5]}\n",
    "dct"
   ]
  },
  {
   "cell_type": "code",
   "execution_count": 8,
   "metadata": {},
   "outputs": [
    {
     "data": {
      "text/html": [
       "<div>\n",
       "<style scoped>\n",
       "    .dataframe tbody tr th:only-of-type {\n",
       "        vertical-align: middle;\n",
       "    }\n",
       "\n",
       "    .dataframe tbody tr th {\n",
       "        vertical-align: top;\n",
       "    }\n",
       "\n",
       "    .dataframe thead th {\n",
       "        text-align: right;\n",
       "    }\n",
       "</style>\n",
       "<table border=\"1\" class=\"dataframe\">\n",
       "  <thead>\n",
       "    <tr style=\"text-align: right;\">\n",
       "      <th></th>\n",
       "      <th>list1</th>\n",
       "      <th>list2</th>\n",
       "      <th>list3</th>\n",
       "    </tr>\n",
       "  </thead>\n",
       "  <tbody>\n",
       "    <tr>\n",
       "      <th>0</th>\n",
       "      <td>1</td>\n",
       "      <td>1</td>\n",
       "      <td>1</td>\n",
       "    </tr>\n",
       "    <tr>\n",
       "      <th>1</th>\n",
       "      <td>2</td>\n",
       "      <td>4</td>\n",
       "      <td>4</td>\n",
       "    </tr>\n",
       "    <tr>\n",
       "      <th>2</th>\n",
       "      <td>3</td>\n",
       "      <td>9</td>\n",
       "      <td>6</td>\n",
       "    </tr>\n",
       "    <tr>\n",
       "      <th>3</th>\n",
       "      <td>4</td>\n",
       "      <td>16</td>\n",
       "      <td>3</td>\n",
       "    </tr>\n",
       "    <tr>\n",
       "      <th>4</th>\n",
       "      <td>5</td>\n",
       "      <td>25</td>\n",
       "      <td>5</td>\n",
       "    </tr>\n",
       "  </tbody>\n",
       "</table>\n",
       "</div>"
      ],
      "text/plain": [
       "   list1  list2  list3\n",
       "0      1      1      1\n",
       "1      2      4      4\n",
       "2      3      9      6\n",
       "3      4     16      3\n",
       "4      5     25      5"
      ]
     },
     "execution_count": 8,
     "metadata": {},
     "output_type": "execute_result"
    }
   ],
   "source": [
    "import pandas as pd\n",
    "df = pd.DataFrame(dct)\n",
    "df"
   ]
  },
  {
   "cell_type": "markdown",
   "metadata": {},
   "source": [
    "The other way to create a dataframe using a dictionary is to create dictionary of dictionaries:\n",
    "\n",
    "dct = {\"key1:{ind0:elem0,\n",
    "              ind1:elem1,\n",
    "              ind2:elem2,\n",
    "              ind3:elem3,\n",
    "              ind4:elem4},\n",
    "       \"key2 :{. . .}}"
   ]
  },
  {
   "cell_type": "code",
   "execution_count": 9,
   "metadata": {},
   "outputs": [
    {
     "data": {
      "text/plain": [
       "{'list1': {0: 0, 1: 1, 2: 2, 3: 3, 4: 4},\n",
       " 'list2': {0: 1, 1: 4, 2: 9, 3: 16, 4: 25},\n",
       " 'list3': {0: 4, 1: 5, 2: 7, 3: 5, 4: 8}}"
      ]
     },
     "execution_count": 9,
     "metadata": {},
     "output_type": "execute_result"
    }
   ],
   "source": [
    "#dct = {\"key1:{ind0:elem0,\n",
    "#              ind1:elem1,\n",
    "#              ind2:elem2,\n",
    "#              ind3:elem3,\n",
    "#              ind4:elem4},\n",
    "#       \"key2 :{. . .}}\n",
    "dct = {\"list1\":{i:i for i in range(5)},\n",
    "      \"list2\": {0:1**2,\n",
    "               1:2**2,\n",
    "               2:3**2,\n",
    "               3:4**2,\n",
    "               4:5**2},\n",
    "      \"list3\": {0:4,\n",
    "                1:5,\n",
    "                2:7,\n",
    "                3:5,\n",
    "                4:8}\n",
    "      }\n",
    "dct"
   ]
  },
  {
   "cell_type": "code",
   "execution_count": 10,
   "metadata": {},
   "outputs": [
    {
     "data": {
      "text/html": [
       "<div>\n",
       "<style scoped>\n",
       "    .dataframe tbody tr th:only-of-type {\n",
       "        vertical-align: middle;\n",
       "    }\n",
       "\n",
       "    .dataframe tbody tr th {\n",
       "        vertical-align: top;\n",
       "    }\n",
       "\n",
       "    .dataframe thead th {\n",
       "        text-align: right;\n",
       "    }\n",
       "</style>\n",
       "<table border=\"1\" class=\"dataframe\">\n",
       "  <thead>\n",
       "    <tr style=\"text-align: right;\">\n",
       "      <th></th>\n",
       "      <th>list1</th>\n",
       "      <th>list2</th>\n",
       "      <th>list3</th>\n",
       "    </tr>\n",
       "  </thead>\n",
       "  <tbody>\n",
       "    <tr>\n",
       "      <th>0</th>\n",
       "      <td>0</td>\n",
       "      <td>1</td>\n",
       "      <td>4</td>\n",
       "    </tr>\n",
       "    <tr>\n",
       "      <th>1</th>\n",
       "      <td>1</td>\n",
       "      <td>4</td>\n",
       "      <td>5</td>\n",
       "    </tr>\n",
       "    <tr>\n",
       "      <th>2</th>\n",
       "      <td>2</td>\n",
       "      <td>9</td>\n",
       "      <td>7</td>\n",
       "    </tr>\n",
       "    <tr>\n",
       "      <th>3</th>\n",
       "      <td>3</td>\n",
       "      <td>16</td>\n",
       "      <td>5</td>\n",
       "    </tr>\n",
       "    <tr>\n",
       "      <th>4</th>\n",
       "      <td>4</td>\n",
       "      <td>25</td>\n",
       "      <td>8</td>\n",
       "    </tr>\n",
       "  </tbody>\n",
       "</table>\n",
       "</div>"
      ],
      "text/plain": [
       "   list1  list2  list3\n",
       "0      0      1      4\n",
       "1      1      4      5\n",
       "2      2      9      7\n",
       "3      3     16      5\n",
       "4      4     25      8"
      ]
     },
     "execution_count": 10,
     "metadata": {},
     "output_type": "execute_result"
    }
   ],
   "source": [
    "df = pd.DataFrame(dct)\n",
    "df"
   ]
  },
  {
   "cell_type": "markdown",
   "metadata": {},
   "source": [
    "## Calculating Interest Earned\n",
    "\n",
    "Let's calculate interest payments and FV with python script.\n",
    "\n",
    "$FV = PV(1+r)^t$\n",
    "\n",
    "$r = (\\frac{FV}{PV})^{1/t}-1$\n",
    "\n",
    "You can python like a calculator. And conveniently, you can define variables before using them in an equation. This is the strategy that we take in solving for the above equation.\n",
    "\n",
    "Suppose that two years after you place 1000 dollars in a deposit account, the value o the deposit grows to 1200 dollars. Build python script that calculates the annual interest rate."
   ]
  },
  {
   "cell_type": "code",
   "execution_count": 11,
   "metadata": {},
   "outputs": [
    {
     "data": {
      "text/plain": [
       "0.09544511501033215"
      ]
     },
     "execution_count": 11,
     "metadata": {},
     "output_type": "execute_result"
    }
   ],
   "source": [
    "FV = 1200\n",
    "PV = 1000\n",
    "t = 2\n",
    "r = (FV / PV) ** (1 / t) - 1\n",
    "r"
   ]
  },
  {
   "cell_type": "markdown",
   "metadata": {},
   "source": [
    "Let's test this result to make sure that $PV(1+r)^t$ yields the correct FV."
   ]
  },
  {
   "cell_type": "code",
   "execution_count": 12,
   "metadata": {},
   "outputs": [
    {
     "data": {
      "text/plain": [
       "1199.9999999999998"
      ]
     },
     "execution_count": 12,
     "metadata": {},
     "output_type": "execute_result"
    }
   ],
   "source": [
    "FV_test = PV * (1 + r) ** t\n",
    "FV_test"
   ]
  },
  {
   "cell_type": "markdown",
   "metadata": {},
   "source": [
    "Interest can be compounded annually (once per year) or it can be compounded more than once. If the interest is compounded more than once annually,  in the present equation we divide the interest by the number times compounded, $n$, and we multiply the number of years, $t$, by $n$.\n",
    "\n",
    "$FV = PV(1+\\frac{r}{n})^{tn}$\n",
    "\n",
    "Next, create a dictionary that records the value of $1000 after a year of collecting interest over different rates of compounding."
   ]
  },
  {
   "cell_type": "code",
   "execution_count": 13,
   "metadata": {},
   "outputs": [
    {
     "data": {
      "text/plain": [
       "{'annual': 1100.0,\n",
       " 'semi-annual': 1102.5,\n",
       " 'quarterly': 1103.81,\n",
       " 'monthly': 1104.71,\n",
       " 'weekly': 1105.06,\n",
       " 'daily': 1105.16}"
      ]
     },
     "execution_count": 13,
     "metadata": {},
     "output_type": "execute_result"
    }
   ],
   "source": [
    "# use dictionary to define how many times interest is compounded\n",
    "compounding_def = {\"annual\":1,\n",
    "                  \"semi-annual\":2,\n",
    "                  \"quarterly\":4,\n",
    "                  \"monthly\":12,\n",
    "                  \"weekly\":52,\n",
    "                  \"daily\":365}\n",
    "\n",
    "PV = 1000\n",
    "r = 0.1\n",
    "t = 1\n",
    "#compound interest at rate of 10%\n",
    "# 10% == 0.1\n",
    "# create dictionary to hold the results\n",
    "compounding_interest = {}\n",
    "\n",
    "# for var1, var2 in dict.items()\n",
    "# for key1, obj1 in dict.items()\n",
    "for period_name, n in compounding_def.items():\n",
    "    # use round(val, #decimals) to round value to a specified # of decimals\n",
    "    compounding_interest[period_name] = round(PV * (1 + r / n) ** (t * n), 2)\n",
    "compounding_interest"
   ]
  },
  {
   "cell_type": "code",
   "execution_count": 14,
   "metadata": {},
   "outputs": [
    {
     "data": {
      "text/plain": [
       "dict_items([('annual', 1), ('semi-annual', 2), ('quarterly', 4), ('monthly', 12), ('weekly', 52), ('daily', 365)])"
      ]
     },
     "execution_count": 14,
     "metadata": {},
     "output_type": "execute_result"
    }
   ],
   "source": [
    "compounding_def.items()"
   ]
  },
  {
   "cell_type": "code",
   "execution_count": 15,
   "metadata": {},
   "outputs": [
    {
     "name": "stdout",
     "output_type": "stream",
     "text": [
      "annual 1\n",
      "semi-annual 2\n",
      "quarterly 4\n",
      "monthly 12\n",
      "weekly 52\n",
      "daily 365\n"
     ]
    }
   ],
   "source": [
    "for key, val in compounding_def.items():\n",
    "    print(key, val)"
   ]
  },
  {
   "cell_type": "code",
   "execution_count": 16,
   "metadata": {},
   "outputs": [
    {
     "name": "stdout",
     "output_type": "stream",
     "text": [
      "annual 1\n",
      "semi-annual 2\n",
      "quarterly 4\n",
      "monthly 12\n",
      "weekly 52\n",
      "daily 365\n"
     ]
    }
   ],
   "source": [
    "for key in compounding_def:\n",
    "    print(key, compounding_def[key])"
   ]
  },
  {
   "cell_type": "code",
   "execution_count": 17,
   "metadata": {},
   "outputs": [
    {
     "data": {
      "text/plain": [
       "{'1%': {'annual': 1020.1,\n",
       "  'semi-annual': 1020.15,\n",
       "  'quarterly': 1020.18,\n",
       "  'monthly': 1020.19,\n",
       "  'weekly': 1020.2,\n",
       "  'daily': 1020.2},\n",
       " '2%': {'annual': 1040.4,\n",
       "  'semi-annual': 1040.6,\n",
       "  'quarterly': 1040.71,\n",
       "  'monthly': 1040.78,\n",
       "  'weekly': 1040.8,\n",
       "  'daily': 1040.81},\n",
       " '3%': {'annual': 1060.9,\n",
       "  'semi-annual': 1061.36,\n",
       "  'quarterly': 1061.6,\n",
       "  'monthly': 1061.76,\n",
       "  'weekly': 1061.82,\n",
       "  'daily': 1061.83},\n",
       " '4%': {'annual': 1081.6,\n",
       "  'semi-annual': 1082.43,\n",
       "  'quarterly': 1082.86,\n",
       "  'monthly': 1083.14,\n",
       "  'weekly': 1083.25,\n",
       "  'daily': 1083.28},\n",
       " '5%': {'annual': 1102.5,\n",
       "  'semi-annual': 1103.81,\n",
       "  'quarterly': 1104.49,\n",
       "  'monthly': 1104.94,\n",
       "  'weekly': 1105.12,\n",
       "  'daily': 1105.16},\n",
       " '6%': {'annual': 1123.6,\n",
       "  'semi-annual': 1125.51,\n",
       "  'quarterly': 1126.49,\n",
       "  'monthly': 1127.16,\n",
       "  'weekly': 1127.42,\n",
       "  'daily': 1127.49},\n",
       " '7%': {'annual': 1144.9,\n",
       "  'semi-annual': 1147.52,\n",
       "  'quarterly': 1148.88,\n",
       "  'monthly': 1149.81,\n",
       "  'weekly': 1150.17,\n",
       "  'daily': 1150.26},\n",
       " '8%': {'annual': 1166.4,\n",
       "  'semi-annual': 1169.86,\n",
       "  'quarterly': 1171.66,\n",
       "  'monthly': 1172.89,\n",
       "  'weekly': 1173.37,\n",
       "  'daily': 1173.49},\n",
       " '9%': {'annual': 1188.1,\n",
       "  'semi-annual': 1192.52,\n",
       "  'quarterly': 1194.83,\n",
       "  'monthly': 1196.41,\n",
       "  'weekly': 1197.03,\n",
       "  'daily': 1197.19},\n",
       " '10%': {'annual': 1210.0,\n",
       "  'semi-annual': 1215.51,\n",
       "  'quarterly': 1218.4,\n",
       "  'monthly': 1220.39,\n",
       "  'weekly': 1221.17,\n",
       "  'daily': 1221.37},\n",
       " '11%': {'annual': 1232.1,\n",
       "  'semi-annual': 1238.82,\n",
       "  'quarterly': 1242.38,\n",
       "  'monthly': 1244.83,\n",
       "  'weekly': 1245.79,\n",
       "  'daily': 1246.04},\n",
       " '12%': {'annual': 1254.4,\n",
       "  'semi-annual': 1262.48,\n",
       "  'quarterly': 1266.77,\n",
       "  'monthly': 1269.73,\n",
       "  'weekly': 1270.9,\n",
       "  'daily': 1271.2},\n",
       " '13%': {'annual': 1276.9,\n",
       "  'semi-annual': 1286.47,\n",
       "  'quarterly': 1291.58,\n",
       "  'monthly': 1295.12,\n",
       "  'weekly': 1296.51,\n",
       "  'daily': 1296.87},\n",
       " '14%': {'annual': 1299.6,\n",
       "  'semi-annual': 1310.8,\n",
       "  'quarterly': 1316.81,\n",
       "  'monthly': 1320.99,\n",
       "  'weekly': 1322.63,\n",
       "  'daily': 1323.06},\n",
       " '15%': {'annual': 1322.5,\n",
       "  'semi-annual': 1335.47,\n",
       "  'quarterly': 1342.47,\n",
       "  'monthly': 1347.35,\n",
       "  'weekly': 1349.28,\n",
       "  'daily': 1349.78},\n",
       " '16%': {'annual': 1345.6,\n",
       "  'semi-annual': 1360.49,\n",
       "  'quarterly': 1368.57,\n",
       "  'monthly': 1374.22,\n",
       "  'weekly': 1376.45,\n",
       "  'daily': 1377.03},\n",
       " '17%': {'annual': 1368.9,\n",
       "  'semi-annual': 1385.86,\n",
       "  'quarterly': 1395.11,\n",
       "  'monthly': 1401.6,\n",
       "  'weekly': 1404.17,\n",
       "  'daily': 1404.84},\n",
       " '18%': {'annual': 1392.4,\n",
       "  'semi-annual': 1411.58,\n",
       "  'quarterly': 1422.1,\n",
       "  'monthly': 1429.5,\n",
       "  'weekly': 1432.44,\n",
       "  'daily': 1433.2},\n",
       " '19%': {'annual': 1416.1,\n",
       "  'semi-annual': 1437.66,\n",
       "  'quarterly': 1449.55,\n",
       "  'monthly': 1457.94,\n",
       "  'weekly': 1461.27,\n",
       "  'daily': 1462.14},\n",
       " '20%': {'annual': 1440.0,\n",
       "  'semi-annual': 1464.1,\n",
       "  'quarterly': 1477.46,\n",
       "  'monthly': 1486.91,\n",
       "  'weekly': 1490.68,\n",
       "  'daily': 1491.66}}"
      ]
     },
     "execution_count": 17,
     "metadata": {},
     "output_type": "execute_result"
    }
   ],
   "source": [
    "compounding_def = {\"annual\":1,\n",
    "                   \"semi-annual\":2,\n",
    "                   \"quarterly\":4,\n",
    "                   \"monthly\":12,\n",
    "                   \"weekly\":52,\n",
    "                   \"daily\":365\n",
    "                  }\n",
    "# create variables\n",
    "PV = 1000\n",
    "t = 2\n",
    "# use generator function to create list of interest rates\n",
    "# from 1 to 20\n",
    "rates = [i for i in range(1,21)]\n",
    "compounding_interest = {}\n",
    "for rate in rates:\n",
    "    r = rate / 100\n",
    "    rate = str(rate)+\"%\"\n",
    "    compounding_interest[rate] = {}\n",
    "    for period_name, n in compounding_def.items():\n",
    "        compounding_interest[rate][period_name] = round(PV * (1 + r / n) ** (t * n), 2)\n",
    "compounding_interest        "
   ]
  },
  {
   "cell_type": "code",
   "execution_count": 18,
   "metadata": {},
   "outputs": [
    {
     "data": {
      "text/html": [
       "<div>\n",
       "<style scoped>\n",
       "    .dataframe tbody tr th:only-of-type {\n",
       "        vertical-align: middle;\n",
       "    }\n",
       "\n",
       "    .dataframe tbody tr th {\n",
       "        vertical-align: top;\n",
       "    }\n",
       "\n",
       "    .dataframe thead th {\n",
       "        text-align: right;\n",
       "    }\n",
       "</style>\n",
       "<table border=\"1\" class=\"dataframe\">\n",
       "  <thead>\n",
       "    <tr style=\"text-align: right;\">\n",
       "      <th></th>\n",
       "      <th>1%</th>\n",
       "      <th>2%</th>\n",
       "      <th>3%</th>\n",
       "      <th>4%</th>\n",
       "      <th>5%</th>\n",
       "      <th>6%</th>\n",
       "      <th>7%</th>\n",
       "      <th>8%</th>\n",
       "      <th>9%</th>\n",
       "      <th>10%</th>\n",
       "      <th>11%</th>\n",
       "      <th>12%</th>\n",
       "      <th>13%</th>\n",
       "      <th>14%</th>\n",
       "      <th>15%</th>\n",
       "      <th>16%</th>\n",
       "      <th>17%</th>\n",
       "      <th>18%</th>\n",
       "      <th>19%</th>\n",
       "      <th>20%</th>\n",
       "    </tr>\n",
       "  </thead>\n",
       "  <tbody>\n",
       "    <tr>\n",
       "      <th>annual</th>\n",
       "      <td>1020.10</td>\n",
       "      <td>1040.40</td>\n",
       "      <td>1060.90</td>\n",
       "      <td>1081.60</td>\n",
       "      <td>1102.50</td>\n",
       "      <td>1123.60</td>\n",
       "      <td>1144.90</td>\n",
       "      <td>1166.40</td>\n",
       "      <td>1188.10</td>\n",
       "      <td>1210.00</td>\n",
       "      <td>1232.10</td>\n",
       "      <td>1254.40</td>\n",
       "      <td>1276.90</td>\n",
       "      <td>1299.60</td>\n",
       "      <td>1322.50</td>\n",
       "      <td>1345.60</td>\n",
       "      <td>1368.90</td>\n",
       "      <td>1392.40</td>\n",
       "      <td>1416.10</td>\n",
       "      <td>1440.00</td>\n",
       "    </tr>\n",
       "    <tr>\n",
       "      <th>daily</th>\n",
       "      <td>1020.20</td>\n",
       "      <td>1040.81</td>\n",
       "      <td>1061.83</td>\n",
       "      <td>1083.28</td>\n",
       "      <td>1105.16</td>\n",
       "      <td>1127.49</td>\n",
       "      <td>1150.26</td>\n",
       "      <td>1173.49</td>\n",
       "      <td>1197.19</td>\n",
       "      <td>1221.37</td>\n",
       "      <td>1246.04</td>\n",
       "      <td>1271.20</td>\n",
       "      <td>1296.87</td>\n",
       "      <td>1323.06</td>\n",
       "      <td>1349.78</td>\n",
       "      <td>1377.03</td>\n",
       "      <td>1404.84</td>\n",
       "      <td>1433.20</td>\n",
       "      <td>1462.14</td>\n",
       "      <td>1491.66</td>\n",
       "    </tr>\n",
       "    <tr>\n",
       "      <th>monthly</th>\n",
       "      <td>1020.19</td>\n",
       "      <td>1040.78</td>\n",
       "      <td>1061.76</td>\n",
       "      <td>1083.14</td>\n",
       "      <td>1104.94</td>\n",
       "      <td>1127.16</td>\n",
       "      <td>1149.81</td>\n",
       "      <td>1172.89</td>\n",
       "      <td>1196.41</td>\n",
       "      <td>1220.39</td>\n",
       "      <td>1244.83</td>\n",
       "      <td>1269.73</td>\n",
       "      <td>1295.12</td>\n",
       "      <td>1320.99</td>\n",
       "      <td>1347.35</td>\n",
       "      <td>1374.22</td>\n",
       "      <td>1401.60</td>\n",
       "      <td>1429.50</td>\n",
       "      <td>1457.94</td>\n",
       "      <td>1486.91</td>\n",
       "    </tr>\n",
       "    <tr>\n",
       "      <th>quarterly</th>\n",
       "      <td>1020.18</td>\n",
       "      <td>1040.71</td>\n",
       "      <td>1061.60</td>\n",
       "      <td>1082.86</td>\n",
       "      <td>1104.49</td>\n",
       "      <td>1126.49</td>\n",
       "      <td>1148.88</td>\n",
       "      <td>1171.66</td>\n",
       "      <td>1194.83</td>\n",
       "      <td>1218.40</td>\n",
       "      <td>1242.38</td>\n",
       "      <td>1266.77</td>\n",
       "      <td>1291.58</td>\n",
       "      <td>1316.81</td>\n",
       "      <td>1342.47</td>\n",
       "      <td>1368.57</td>\n",
       "      <td>1395.11</td>\n",
       "      <td>1422.10</td>\n",
       "      <td>1449.55</td>\n",
       "      <td>1477.46</td>\n",
       "    </tr>\n",
       "    <tr>\n",
       "      <th>semi-annual</th>\n",
       "      <td>1020.15</td>\n",
       "      <td>1040.60</td>\n",
       "      <td>1061.36</td>\n",
       "      <td>1082.43</td>\n",
       "      <td>1103.81</td>\n",
       "      <td>1125.51</td>\n",
       "      <td>1147.52</td>\n",
       "      <td>1169.86</td>\n",
       "      <td>1192.52</td>\n",
       "      <td>1215.51</td>\n",
       "      <td>1238.82</td>\n",
       "      <td>1262.48</td>\n",
       "      <td>1286.47</td>\n",
       "      <td>1310.80</td>\n",
       "      <td>1335.47</td>\n",
       "      <td>1360.49</td>\n",
       "      <td>1385.86</td>\n",
       "      <td>1411.58</td>\n",
       "      <td>1437.66</td>\n",
       "      <td>1464.10</td>\n",
       "    </tr>\n",
       "    <tr>\n",
       "      <th>weekly</th>\n",
       "      <td>1020.20</td>\n",
       "      <td>1040.80</td>\n",
       "      <td>1061.82</td>\n",
       "      <td>1083.25</td>\n",
       "      <td>1105.12</td>\n",
       "      <td>1127.42</td>\n",
       "      <td>1150.17</td>\n",
       "      <td>1173.37</td>\n",
       "      <td>1197.03</td>\n",
       "      <td>1221.17</td>\n",
       "      <td>1245.79</td>\n",
       "      <td>1270.90</td>\n",
       "      <td>1296.51</td>\n",
       "      <td>1322.63</td>\n",
       "      <td>1349.28</td>\n",
       "      <td>1376.45</td>\n",
       "      <td>1404.17</td>\n",
       "      <td>1432.44</td>\n",
       "      <td>1461.27</td>\n",
       "      <td>1490.68</td>\n",
       "    </tr>\n",
       "  </tbody>\n",
       "</table>\n",
       "</div>"
      ],
      "text/plain": [
       "                  1%       2%       3%       4%       5%       6%       7%  \\\n",
       "annual       1020.10  1040.40  1060.90  1081.60  1102.50  1123.60  1144.90   \n",
       "daily        1020.20  1040.81  1061.83  1083.28  1105.16  1127.49  1150.26   \n",
       "monthly      1020.19  1040.78  1061.76  1083.14  1104.94  1127.16  1149.81   \n",
       "quarterly    1020.18  1040.71  1061.60  1082.86  1104.49  1126.49  1148.88   \n",
       "semi-annual  1020.15  1040.60  1061.36  1082.43  1103.81  1125.51  1147.52   \n",
       "weekly       1020.20  1040.80  1061.82  1083.25  1105.12  1127.42  1150.17   \n",
       "\n",
       "                  8%       9%      10%      11%      12%      13%      14%  \\\n",
       "annual       1166.40  1188.10  1210.00  1232.10  1254.40  1276.90  1299.60   \n",
       "daily        1173.49  1197.19  1221.37  1246.04  1271.20  1296.87  1323.06   \n",
       "monthly      1172.89  1196.41  1220.39  1244.83  1269.73  1295.12  1320.99   \n",
       "quarterly    1171.66  1194.83  1218.40  1242.38  1266.77  1291.58  1316.81   \n",
       "semi-annual  1169.86  1192.52  1215.51  1238.82  1262.48  1286.47  1310.80   \n",
       "weekly       1173.37  1197.03  1221.17  1245.79  1270.90  1296.51  1322.63   \n",
       "\n",
       "                 15%      16%      17%      18%      19%      20%  \n",
       "annual       1322.50  1345.60  1368.90  1392.40  1416.10  1440.00  \n",
       "daily        1349.78  1377.03  1404.84  1433.20  1462.14  1491.66  \n",
       "monthly      1347.35  1374.22  1401.60  1429.50  1457.94  1486.91  \n",
       "quarterly    1342.47  1368.57  1395.11  1422.10  1449.55  1477.46  \n",
       "semi-annual  1335.47  1360.49  1385.86  1411.58  1437.66  1464.10  \n",
       "weekly       1349.28  1376.45  1404.17  1432.44  1461.27  1490.68  "
      ]
     },
     "execution_count": 18,
     "metadata": {},
     "output_type": "execute_result"
    }
   ],
   "source": [
    "compounding_interest_df = pd.DataFrame(compounding_interest)\n",
    "compounding_interest_df"
   ]
  },
  {
   "cell_type": "code",
   "execution_count": 19,
   "metadata": {},
   "outputs": [
    {
     "data": {
      "text/html": [
       "<div>\n",
       "<style scoped>\n",
       "    .dataframe tbody tr th:only-of-type {\n",
       "        vertical-align: middle;\n",
       "    }\n",
       "\n",
       "    .dataframe tbody tr th {\n",
       "        vertical-align: top;\n",
       "    }\n",
       "\n",
       "    .dataframe thead th {\n",
       "        text-align: right;\n",
       "    }\n",
       "</style>\n",
       "<table border=\"1\" class=\"dataframe\">\n",
       "  <thead>\n",
       "    <tr style=\"text-align: right;\">\n",
       "      <th></th>\n",
       "      <th>annual</th>\n",
       "      <th>daily</th>\n",
       "      <th>monthly</th>\n",
       "      <th>quarterly</th>\n",
       "      <th>semi-annual</th>\n",
       "      <th>weekly</th>\n",
       "    </tr>\n",
       "  </thead>\n",
       "  <tbody>\n",
       "    <tr>\n",
       "      <th>1%</th>\n",
       "      <td>1020.1</td>\n",
       "      <td>1020.20</td>\n",
       "      <td>1020.19</td>\n",
       "      <td>1020.18</td>\n",
       "      <td>1020.15</td>\n",
       "      <td>1020.20</td>\n",
       "    </tr>\n",
       "    <tr>\n",
       "      <th>2%</th>\n",
       "      <td>1040.4</td>\n",
       "      <td>1040.81</td>\n",
       "      <td>1040.78</td>\n",
       "      <td>1040.71</td>\n",
       "      <td>1040.60</td>\n",
       "      <td>1040.80</td>\n",
       "    </tr>\n",
       "    <tr>\n",
       "      <th>3%</th>\n",
       "      <td>1060.9</td>\n",
       "      <td>1061.83</td>\n",
       "      <td>1061.76</td>\n",
       "      <td>1061.60</td>\n",
       "      <td>1061.36</td>\n",
       "      <td>1061.82</td>\n",
       "    </tr>\n",
       "    <tr>\n",
       "      <th>4%</th>\n",
       "      <td>1081.6</td>\n",
       "      <td>1083.28</td>\n",
       "      <td>1083.14</td>\n",
       "      <td>1082.86</td>\n",
       "      <td>1082.43</td>\n",
       "      <td>1083.25</td>\n",
       "    </tr>\n",
       "    <tr>\n",
       "      <th>5%</th>\n",
       "      <td>1102.5</td>\n",
       "      <td>1105.16</td>\n",
       "      <td>1104.94</td>\n",
       "      <td>1104.49</td>\n",
       "      <td>1103.81</td>\n",
       "      <td>1105.12</td>\n",
       "    </tr>\n",
       "    <tr>\n",
       "      <th>6%</th>\n",
       "      <td>1123.6</td>\n",
       "      <td>1127.49</td>\n",
       "      <td>1127.16</td>\n",
       "      <td>1126.49</td>\n",
       "      <td>1125.51</td>\n",
       "      <td>1127.42</td>\n",
       "    </tr>\n",
       "    <tr>\n",
       "      <th>7%</th>\n",
       "      <td>1144.9</td>\n",
       "      <td>1150.26</td>\n",
       "      <td>1149.81</td>\n",
       "      <td>1148.88</td>\n",
       "      <td>1147.52</td>\n",
       "      <td>1150.17</td>\n",
       "    </tr>\n",
       "    <tr>\n",
       "      <th>8%</th>\n",
       "      <td>1166.4</td>\n",
       "      <td>1173.49</td>\n",
       "      <td>1172.89</td>\n",
       "      <td>1171.66</td>\n",
       "      <td>1169.86</td>\n",
       "      <td>1173.37</td>\n",
       "    </tr>\n",
       "    <tr>\n",
       "      <th>9%</th>\n",
       "      <td>1188.1</td>\n",
       "      <td>1197.19</td>\n",
       "      <td>1196.41</td>\n",
       "      <td>1194.83</td>\n",
       "      <td>1192.52</td>\n",
       "      <td>1197.03</td>\n",
       "    </tr>\n",
       "    <tr>\n",
       "      <th>10%</th>\n",
       "      <td>1210.0</td>\n",
       "      <td>1221.37</td>\n",
       "      <td>1220.39</td>\n",
       "      <td>1218.40</td>\n",
       "      <td>1215.51</td>\n",
       "      <td>1221.17</td>\n",
       "    </tr>\n",
       "    <tr>\n",
       "      <th>11%</th>\n",
       "      <td>1232.1</td>\n",
       "      <td>1246.04</td>\n",
       "      <td>1244.83</td>\n",
       "      <td>1242.38</td>\n",
       "      <td>1238.82</td>\n",
       "      <td>1245.79</td>\n",
       "    </tr>\n",
       "    <tr>\n",
       "      <th>12%</th>\n",
       "      <td>1254.4</td>\n",
       "      <td>1271.20</td>\n",
       "      <td>1269.73</td>\n",
       "      <td>1266.77</td>\n",
       "      <td>1262.48</td>\n",
       "      <td>1270.90</td>\n",
       "    </tr>\n",
       "    <tr>\n",
       "      <th>13%</th>\n",
       "      <td>1276.9</td>\n",
       "      <td>1296.87</td>\n",
       "      <td>1295.12</td>\n",
       "      <td>1291.58</td>\n",
       "      <td>1286.47</td>\n",
       "      <td>1296.51</td>\n",
       "    </tr>\n",
       "    <tr>\n",
       "      <th>14%</th>\n",
       "      <td>1299.6</td>\n",
       "      <td>1323.06</td>\n",
       "      <td>1320.99</td>\n",
       "      <td>1316.81</td>\n",
       "      <td>1310.80</td>\n",
       "      <td>1322.63</td>\n",
       "    </tr>\n",
       "    <tr>\n",
       "      <th>15%</th>\n",
       "      <td>1322.5</td>\n",
       "      <td>1349.78</td>\n",
       "      <td>1347.35</td>\n",
       "      <td>1342.47</td>\n",
       "      <td>1335.47</td>\n",
       "      <td>1349.28</td>\n",
       "    </tr>\n",
       "    <tr>\n",
       "      <th>16%</th>\n",
       "      <td>1345.6</td>\n",
       "      <td>1377.03</td>\n",
       "      <td>1374.22</td>\n",
       "      <td>1368.57</td>\n",
       "      <td>1360.49</td>\n",
       "      <td>1376.45</td>\n",
       "    </tr>\n",
       "    <tr>\n",
       "      <th>17%</th>\n",
       "      <td>1368.9</td>\n",
       "      <td>1404.84</td>\n",
       "      <td>1401.60</td>\n",
       "      <td>1395.11</td>\n",
       "      <td>1385.86</td>\n",
       "      <td>1404.17</td>\n",
       "    </tr>\n",
       "    <tr>\n",
       "      <th>18%</th>\n",
       "      <td>1392.4</td>\n",
       "      <td>1433.20</td>\n",
       "      <td>1429.50</td>\n",
       "      <td>1422.10</td>\n",
       "      <td>1411.58</td>\n",
       "      <td>1432.44</td>\n",
       "    </tr>\n",
       "    <tr>\n",
       "      <th>19%</th>\n",
       "      <td>1416.1</td>\n",
       "      <td>1462.14</td>\n",
       "      <td>1457.94</td>\n",
       "      <td>1449.55</td>\n",
       "      <td>1437.66</td>\n",
       "      <td>1461.27</td>\n",
       "    </tr>\n",
       "    <tr>\n",
       "      <th>20%</th>\n",
       "      <td>1440.0</td>\n",
       "      <td>1491.66</td>\n",
       "      <td>1486.91</td>\n",
       "      <td>1477.46</td>\n",
       "      <td>1464.10</td>\n",
       "      <td>1490.68</td>\n",
       "    </tr>\n",
       "  </tbody>\n",
       "</table>\n",
       "</div>"
      ],
      "text/plain": [
       "     annual    daily  monthly  quarterly  semi-annual   weekly\n",
       "1%   1020.1  1020.20  1020.19    1020.18      1020.15  1020.20\n",
       "2%   1040.4  1040.81  1040.78    1040.71      1040.60  1040.80\n",
       "3%   1060.9  1061.83  1061.76    1061.60      1061.36  1061.82\n",
       "4%   1081.6  1083.28  1083.14    1082.86      1082.43  1083.25\n",
       "5%   1102.5  1105.16  1104.94    1104.49      1103.81  1105.12\n",
       "6%   1123.6  1127.49  1127.16    1126.49      1125.51  1127.42\n",
       "7%   1144.9  1150.26  1149.81    1148.88      1147.52  1150.17\n",
       "8%   1166.4  1173.49  1172.89    1171.66      1169.86  1173.37\n",
       "9%   1188.1  1197.19  1196.41    1194.83      1192.52  1197.03\n",
       "10%  1210.0  1221.37  1220.39    1218.40      1215.51  1221.17\n",
       "11%  1232.1  1246.04  1244.83    1242.38      1238.82  1245.79\n",
       "12%  1254.4  1271.20  1269.73    1266.77      1262.48  1270.90\n",
       "13%  1276.9  1296.87  1295.12    1291.58      1286.47  1296.51\n",
       "14%  1299.6  1323.06  1320.99    1316.81      1310.80  1322.63\n",
       "15%  1322.5  1349.78  1347.35    1342.47      1335.47  1349.28\n",
       "16%  1345.6  1377.03  1374.22    1368.57      1360.49  1376.45\n",
       "17%  1368.9  1404.84  1401.60    1395.11      1385.86  1404.17\n",
       "18%  1392.4  1433.20  1429.50    1422.10      1411.58  1432.44\n",
       "19%  1416.1  1462.14  1457.94    1449.55      1437.66  1461.27\n",
       "20%  1440.0  1491.66  1486.91    1477.46      1464.10  1490.68"
      ]
     },
     "execution_count": 19,
     "metadata": {},
     "output_type": "execute_result"
    }
   ],
   "source": [
    "compounding_interest_df.T"
   ]
  }
 ],
 "metadata": {
  "kernelspec": {
   "display_name": "Python 3",
   "language": "python",
   "name": "python3"
  },
  "language_info": {
   "codemirror_mode": {
    "name": "ipython",
    "version": 3
   },
   "file_extension": ".py",
   "mimetype": "text/x-python",
   "name": "python",
   "nbconvert_exporter": "python",
   "pygments_lexer": "ipython3",
   "version": "3.7.6"
  }
 },
 "nbformat": 4,
 "nbformat_minor": 4
}
