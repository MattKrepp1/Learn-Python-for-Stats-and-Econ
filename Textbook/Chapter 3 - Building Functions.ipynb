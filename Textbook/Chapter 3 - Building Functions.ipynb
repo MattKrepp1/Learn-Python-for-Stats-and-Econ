{
 "cells": [
  {
   "cell_type": "markdown",
   "metadata": {},
   "source": [
    "# Chapter 3: Building Functions\n",
    "\n",
    "Often we are performing statistical operations over a large dataset. It can be difficult to understand the meaning conveyed by these measures. Learning to program presents an opportunity to better understand how functions work. In this chapter we will create some basic statistical functions and compare their output to the functions built into python. By creating the function, you will understand the meaning of summation signs. Computing these statistics by hand would be a laborious process and expensive in terms of time. Once a function is constructed, it can be employed to calculate statistics in a fraction of the time.\n",
    "\n",
    "## Building a Function\n",
    "\n",
    "| New Concepts | Description |\n",
    "| --- | --- |\n",
    "| _return obj_ from function | Functions may return an object to be saved if a variable is defined by the function i.e., var1 = function(obj1, obj2, . . .)|\n",
    "\n",
    "So far, we have built programs on the fly. For purposes of pedagogy, this is fine. As you develop your skills, you want to form good practices. This includes the building of functions for repeated use as well as the building of classes. This chapter we will concentrate on functions. Build all of your functions in the same file, _statsFunctions.py_.\n",
    "\n",
    "In python, functions take the form:"
   ]
  },
  {
   "cell_type": "code",
   "execution_count": null,
   "metadata": {
    "nbval-ignore-output": true,
    "tags": [
     "nbval-ignore-output"
    ]
   },
   "outputs": [],
   "source": [
    "def function_name(object1, object2, objectn):\n",
    "    <operations>"
   ]
  },
  {
   "cell_type": "markdown",
   "metadata": {},
   "source": [
    "If the function allows, you will pass an object by calling it in the parentheses that follow the function name. The first function that we build will be the total() function. We define the function algebraically as the sum of all values in a list of length j:\n",
    "\n",
    "$\\sum_{i=0}^{n-1} x_{i}$\n",
    "\n",
    "Since lists indices start with the integer 0, we will write our functions as starting with _i = 0_ and process elements to the index of value _n - 1_. Since the range function in Python automatically counts to one less than the value identified, the for-loop used will take the form:"
   ]
  },
  {
   "cell_type": "code",
   "execution_count": 2,
   "metadata": {
    "nbval-ignore-output": true
   },
   "outputs": [],
   "source": [
    "n=0\n",
    "for values in range(n):\n",
    "    n += 1"
   ]
  },
  {
   "cell_type": "markdown",
   "metadata": {},
   "source": [
    "We will use it to return the sum of values in a list. After building this, we will pass a list to the function:"
   ]
  },
  {
   "cell_type": "code",
   "execution_count": 3,
   "metadata": {},
   "outputs": [
    {
     "name": "stdout",
     "output_type": "stream",
     "text": [
      "45\n",
      "199\n"
     ]
    }
   ],
   "source": [
    "#statsFunctions.py\n",
    "def total(list_obj):\n",
    "    total = 0\n",
    "    n = len(list_obj)\n",
    "    for i in range(n):\n",
    "        total += list_obj[i]\n",
    "    return total\n",
    "\n",
    "list1 = [3, 6, 9, 12, 15]\n",
    "list2 = [i ** 2 for i in range(3,9)]\n",
    "total_list1 = total(list1)\n",
    "total_list2 = total(list2)\n",
    "print(total_list1)\n",
    "print(total_list2)"
   ]
  },
  {
   "cell_type": "markdown",
   "metadata": {},
   "source": [
    "The total() function is a simple function that will be used in many of the other functions that we write. You can find this and other functions from this chapter in [statsFunctions.py](https://github.com/jlcatonjr/Learn-Python-for-Stats-and-Econ/tree/master/Chapter%203).\n",
    "\n",
    "## Statistical Functions\n",
    "| New Concepts | Description |\n",
    "| --- | --- |\n",
    "| Operators e.g., _!=_, _%&nbsp;_, _+=_, _\\*\\*_ | The operator != tests whether the values on either side of the operator are equal; _a % b_ returns the remainder of $a / b$; _a += b_ sets a equal to $a + b$; _a ** b_ raises a to the b power ($a^b$). |\n",
    "| Dictionary | A dictionary is a datastructure that uses keys instead of index values. Each unique key references an object linked to that key. |\n",
    "| Dictionary Methods e.g., _dct.values()_ | dct.values() returns a list of the objects that are referenced by the dictionaries keys.|\n",
    "| Default Function Values | Function may assume a default value for values passed to it. e.g., _def function(val1 = 0, val2 = 2, …)_ | \n",
    "\n",
    "### Average Statistics\n",
    "\n",
    "We define the mean of a set of numbers:\n",
    "$\\frac{\\sum_{i=0}^{n-1} x_{i}} {n}$\n",
    "\n",
    "The top part of the function is the same as the notation that represents the sum of a list of numbers. Thus, in mean(), we call total() and divide the result by the length of the list.  Then, we use the function to calculate value and save that value as an object:"
   ]
  },
  {
   "cell_type": "code",
   "execution_count": 4,
   "metadata": {},
   "outputs": [
    {
     "name": "stdout",
     "output_type": "stream",
     "text": [
      "mean_list1: 9.0\n",
      "mean_list2: 33.166666666666664\n"
     ]
    }
   ],
   "source": [
    "#statsFunctions.py\n",
    "#. . . \n",
    "def mean(list_obj):\n",
    "    n = len(list_obj)\n",
    "    mean_ = total(list_obj) / n\n",
    "    return mean_\n",
    "\n",
    "# . . . \n",
    "mean_list1 = mean(list1)\n",
    "mean_list2 = mean(list2)\n",
    "print(\"mean_list1:\", mean_list1)\n",
    "print(\"mean_list2:\", mean_list2)"
   ]
  },
  {
   "cell_type": "markdown",
   "metadata": {},
   "source": [
    "Now that we have set up total and mean functions, we are ready to calculate \n",
    "other core statistical values: \n",
    "\n",
    "1. median\n",
    "2. mode\n",
    "3. variance\n",
    "4. standard deviation\n",
    "5. covariance\n",
    "6. correlation\n",
    "\n",
    "Statistical values provide information about the shape and structure of data. These values are aggregates as they sum some characteristic from the dataset, and transform it to a value representative of the whole dataset. Above, we have  already calculated the mean, now we shall calculate the other average values, median and mode. \n",
    "\n",
    "The median is defined is the middle most number in a list. In a list of odd length, this is straightforward to find. We divide the length of the list plus one by two. To identify if a list is odd or even, we divide the list by 2 using  the _%&nbsp;_ sign. This will call the remainder. If the remainder does not equal (_!=_) zero, then the list of odd length. If the remainder is 0, then the list is of even length. If the list is of even length, we take the average of the two middle terms:"
   ]
  },
  {
   "cell_type": "code",
   "execution_count": 5,
   "metadata": {},
   "outputs": [
    {
     "name": "stdout",
     "output_type": "stream",
     "text": [
      "median_list1: 9\n",
      "median_list2: 30.5\n"
     ]
    }
   ],
   "source": [
    "#statsFunctions.py \n",
    "#. . .\n",
    "def median(list_obj):\n",
    "    n = len(list_obj)\n",
    "    list_obj = sorted(list_obj)\n",
    "    #lists of even length divided by 2 have reminder 0\n",
    "    if n % 2 != 0:\n",
    "        #list length is odd\n",
    "        middle_index = int((n - 1) / 2)\n",
    "        median_ = list_obj[middle_index]\n",
    "    else:\n",
    "        upper_middle_index = int(n / 2)\n",
    "        lower_middle_index = upper_middle_index - 1\n",
    "        # pass slice with two middle values to mean()\n",
    "        median_ = mean(list_obj[lower_middle_index : upper_middle_index + 1])\n",
    "        \n",
    "    return median_\n",
    "# . . . \n",
    "median_list1 = median(list1)\n",
    "median_list2 = median(list2)\n",
    "print(\"median_list1:\", median_list1)\n",
    "print(\"median_list2:\", median_list2)"
   ]
  },
  {
   "cell_type": "markdown",
   "metadata": {},
   "source": [
    "The mode of a list is defined as the number that appears the most in the list. In order to quickly and cleanly identify the mode, we are going to use a new data structure: the dictionary. The dictionary is like a list, but elements are called by a key, not by elements from an ordered set of index numbers. We are going to use the values from the list passed to the function as keys. Every time a value is passed, the dictionary will indicate that it has appeared an additional time by adding one to the value pointed to by the key. We will pass the lists that we used in the previous exercises:"
   ]
  },
  {
   "cell_type": "code",
   "execution_count": 6,
   "metadata": {},
   "outputs": [
    {
     "name": "stdout",
     "output_type": "stream",
     "text": [
      "mode_list1: [3, 6, 9, 12, 15]\n",
      "mode_list2: [9, 16, 25, 36, 49, 64]\n"
     ]
    }
   ],
   "source": [
    "#statsFunctions.py\n",
    "# . . .\n",
    "def mode(list_obj):\n",
    "    # use to record value(s) that appear most times\n",
    "    max_count = 0\n",
    "    # use to count occurrences of each value in list\n",
    "    counter_dict = {}\n",
    "    for value in list_obj:\n",
    "        # count for each value should start at 0\n",
    "        counter_dict[value] = 0\n",
    "    for value in list_obj:\n",
    "        # add on to the count of the value for each occurrence in list_obj\n",
    "        counter_dict[value] += 1\n",
    "    # make a list of the value (not keys) from the dictionary\n",
    "    count_list = list(counter_dict.values())\n",
    "    # and find the max value\n",
    "    max_count = max(count_list)\n",
    "    # use a generator to make a list of the values (keys) whose number of \n",
    "    # occurences in the list match max_count\n",
    "    mode_ = [key for key in counter_dict if counter_dict[key] == max_count]\n",
    "    \n",
    "    return mode_\n",
    "\n",
    "# . . .\n",
    "mode_list1 = mode(list1)\n",
    "mode_list2 = mode(list2)\n",
    "print(\"mode_list1:\", mode_list1)\n",
    "print(\"mode_list2:\", mode_list2)"
   ]
  },
  {
   "cell_type": "markdown",
   "metadata": {},
   "source": [
    "Note that instead of using the command for _i in range(n)_, the command for value in list_obj is used. The first command counts from 0 to _j&nbsp;_ using _i&nbsp;_ and can be used to call elements in the list of interest by passing _i&nbsp;_ in the form *list_obj[i]*. In the cases above, we called the values directly, passing them to *counter_dict* to count the number of times each value appears in a list, first initializing the dictionary by setting to 0 the value linked to each key. Then we add 1 for each time that a value appears. We identify that maximum number of times a value appears by taking the maximum value in *count_list*, which is simply a list of the values held by *counter_dict*. Once the *count_list* is created, identify the maximum value of the list and collect keys that point to that value in *counter_dict* by comparing each the value linked to each key to the *max_count*.\n",
    "\n",
    "### Statistics Describing Distributions\n",
    "\n",
    "Average values do not provide a robust description of the data. An average does not tell us the shape of a distribution. In this section, we will build functions to calculate statistics describing distribution of variables and their relationships. The first of these is the variance of a list of numbers.\n",
    "\n",
    "We define population variance as:\n",
    "\n",
    "$var_{pop} = \\frac{\\sum_{i=0}^{n-1} (x_{i} - x_{mean})^2} {n}$\n",
    "\n",
    "When we are dealing with a sample, which is a subset of a population of observations, then we divide by (n - 1) to unbias the calculation.\n",
    "\n",
    "$var_{samp} = \\frac{\\sum_{i=0}^{n-1} (x_{i} - x_{mean})^2} {n - 1}$\n",
    "\n",
    "We will first build functions that calculate a population's variance and standard deviation. We will include an option for calculating sample variance and sample standard deviation."
   ]
  },
  {
   "cell_type": "code",
   "execution_count": 7,
   "metadata": {},
   "outputs": [
    {
     "name": "stdout",
     "output_type": "stream",
     "text": [
      "variance_list1: 18.0\n",
      "variance_list2: 359.1388888888889\n"
     ]
    }
   ],
   "source": [
    "def variance(list_obj, sample = False):\n",
    "    # popvar(list) = sum((xi - list_mean)**2) / n for all xi in list\n",
    "    # save mean value of list\n",
    "    list_mean = mean(list_obj)\n",
    "    # use n to calculate average of sum squared diffs\n",
    "    n = len(list_obj)\n",
    "    # create value we can add squared diffs to\n",
    "    sum_sq_diff = 0\n",
    "    for val in list_obj:\n",
    "        # adds each squared diff to sum_sq_diff\n",
    "        sum_sq_diff += (val - list_mean) ** 2\n",
    "    if sample == False:\n",
    "        # normalize result by dividing by n\n",
    "        variance_ = sum_sq_diff / n\n",
    "    else:\n",
    "        # for samples, normalize by dividing by (n-1)\n",
    "        variance_ = sum_sq_diff / (n - 1)\n",
    "    \n",
    "    return variance_\n",
    "\n",
    "# . . . \n",
    "variance_list1 = variance(list1)\n",
    "variance_list2 = variance(list2)\n",
    "print(\"variance_list1:\", variance_list1)\n",
    "print(\"variance_list2:\", variance_list2)"
   ]
  },
  {
   "cell_type": "markdown",
   "metadata": {},
   "source": [
    "We include an option to identify sample variance in lines 72 through 74. We can call the sample variance by adding the following in the script:"
   ]
  },
  {
   "cell_type": "code",
   "execution_count": 8,
   "metadata": {},
   "outputs": [
    {
     "name": "stdout",
     "output_type": "stream",
     "text": [
      "sample_variance_list1: 22.5\n",
      "sample_variance_list2: 430.9666666666667\n"
     ]
    }
   ],
   "source": [
    "sample_variance_list1 = variance(list1, sample = True)\n",
    "sample_variance_list2 = variance(list2, sample = True)\n",
    "print(\"sample_variance_list1:\", sample_variance_list1)\n",
    "print(\"sample_variance_list2:\", sample_variance_list2)"
   ]
  },
  {
   "cell_type": "markdown",
   "metadata": {},
   "source": [
    "From a list’s variance, we also calculate its standard deviation as the square root of the variance.\n",
    "\n",
    "$SD = \\sqrt{var}$\n",
    "\n",
    "This is true for both the population and sample standard deviations. The function and its employment are listed below:"
   ]
  },
  {
   "cell_type": "code",
   "execution_count": 9,
   "metadata": {},
   "outputs": [
    {
     "name": "stdout",
     "output_type": "stream",
     "text": [
      "SD_list1: 4.242640687119285\n",
      "SD_list2: 18.950960104672504\n",
      "sample_SD_list1: 4.743416490252569\n",
      "sample_SD_list2: 20.75973667141919\n"
     ]
    }
   ],
   "source": [
    "#statsFunctions.py\n",
    "# . . .\n",
    "def SD(list_obj, sample = False):\n",
    "    # Standard deviation is the square root of variance\n",
    "    SD_ = variance(list_obj, sample) ** (1/2)\n",
    "    \n",
    "    return SD_\n",
    "\n",
    "# . . . \n",
    "SD_list1 = SD(list1)\n",
    "SD_list2 = SD(list2)\n",
    "print(\"SD_list1:\", SD_list1)\n",
    "print(\"SD_list2:\", SD_list2)\n",
    "sample_SD_list1 = SD(list1, sample = True)\n",
    "sample_SD_list2 = SD(list2, sample = True)\n",
    "print(\"sample_SD_list1:\", sample_SD_list1)\n",
    "print(\"sample_SD_list2:\", sample_SD_list2)"
   ]
  },
  {
   "cell_type": "markdown",
   "metadata": {},
   "source": [
    "We have left to build function for covariance and, correlation, skewness and kurtosis. Covariance measures the average relationship between two variables. Correlation normalizes the covariance statistic a fraction between 0 and 1.\n",
    "\n",
    "To calculate covariance, we multiply the sum of the product of the difference between the observed value and the mean of each list for value _i = 1_ through _n = number of observations_:\n",
    "\n",
    "$cov_{pop}(x,y) = \\frac{\\sum_{i=0}^{n-1} (x_{i} - x_{mean})(y_{i} - y_{mean})} {n}$\n",
    "\n",
    "We pass two lists through the covariance() function. As with the _variance()_ and _stdev()_ functions, we can take the sample-covariance.\n",
    "\n",
    "$cov_{sample}(x,y) = \\frac{\\sum_{i=0}^{n-1} (x_{i} - x_{mean})(y_{i} - y_{mean})} {n - 1}$\n",
    "\n",
    "In order for covariance to be calculated, it is required that the lists passed to the function are of equal length. So we check this condition with an if statment:"
   ]
  },
  {
   "cell_type": "code",
   "execution_count": 10,
   "metadata": {},
   "outputs": [
    {
     "name": "stdout",
     "output_type": "stream",
     "text": [
      "List lengths are not equal\n",
      "List1: 5\n",
      "List2: 6\n",
      "population_cov: None\n",
      "List lengths are not equal\n",
      "List1: 5\n",
      "List2: 6\n",
      "sample_cov: None\n"
     ]
    }
   ],
   "source": [
    "#statsFunctions.py\n",
    "\n",
    "def covariance(list_obj1, list_obj2, sample = False):\n",
    "    # determine the mean of each list\n",
    "    mean1 = mean(list_obj1)\n",
    "    mean2 = mean(list_obj2)\n",
    "    # instantiate a variable holding the value of 0; this will be used to \n",
    "    # sum the values generated in the for loop below\n",
    "    cov = 0\n",
    "    n1 = len(list_obj1)\n",
    "    n2 = len(list_obj2)\n",
    "    # check list lengths are equal\n",
    "    if n1 == n2:\n",
    "        n = n1\n",
    "        # sum the product of the differences\n",
    "        for i in range(n1):\n",
    "            cov += (list_obj1[i] - mean1) * (list_obj2[i] - mean2)\n",
    "        if sample == False:\n",
    "            cov = cov / n\n",
    "        # account for sample by dividing by one less than number of elements in list\n",
    "        else:\n",
    "            cov = cov / (n - 1)\n",
    "        # return covariance\n",
    "        return cov\n",
    "    else:\n",
    "        print(\"List lengths are not equal\")\n",
    "        print(\"List1:\", n1)\n",
    "        print(\"List2:\", n2)\n",
    "    \n",
    "# . . . \n",
    "population_cov = covariance(list1, list2)\n",
    "print(\"population_cov:\", population_cov)\n",
    "sample_cov = covariance(list1, list2, sample = True)\n",
    "print(\"sample_cov:\", sample_cov)            "
   ]
  },
  {
   "cell_type": "markdown",
   "metadata": {},
   "source": [
    "The list lengths are not equal. Let's shorten list2 so that it has 5 elements:"
   ]
  },
  {
   "cell_type": "code",
   "execution_count": 11,
   "metadata": {},
   "outputs": [
    {
     "name": "stdout",
     "output_type": "stream",
     "text": [
      "population_cov: 60.0\n",
      "sample_cov: 75.0\n"
     ]
    }
   ],
   "source": [
    "list2 = [i ** 2 for i in range(3,8)]\n",
    "population_cov = covariance(list1, list2)\n",
    "print(\"population_cov:\", population_cov)\n",
    "sample_cov = covariance(list1, list2, sample = True)\n",
    "print(\"sample_cov:\", sample_cov) "
   ]
  },
  {
   "cell_type": "markdown",
   "metadata": {},
   "source": [
    "We can transform the covariance into a correlation value by dividing by the product of the standard deviations. \n",
    "\n",
    "$corr_{pop}(x,y) = \\frac{cov_{pop}(x, y)} {\\sigma_x \\sigma_y}$\n",
    "\n",
    "We thus divide the average sum of the product of the errors for each variable by the product standard deviations. This normalizes the covariance, providing an easily interpretable value between 0 and 1. The correlation() function that we build will make use of the covariance() function that we have already constructed as well as the stdev() function."
   ]
  },
  {
   "cell_type": "code",
   "execution_count": 12,
   "metadata": {},
   "outputs": [
    {
     "name": "stdout",
     "output_type": "stream",
     "text": [
      "corr_1_2: 0.9930726528736967\n"
     ]
    }
   ],
   "source": [
    "#statsFunctions.py\n",
    "# . . .\n",
    "def correlation(list_obj1, list_obj2):\n",
    "    # corr(x,y) = cov(x, y) / (SD(x) * SD(y))\n",
    "    cov = covariance(list_obj1, list_obj2)\n",
    "    SD1 = SD(list_obj1)\n",
    "    SD2 = SD(list_obj2)\n",
    "    corr = cov / (SD1 * SD2)\n",
    "    return corr\n",
    "\n",
    "# . . . \n",
    "corr_1_2 = correlation(list1, list2)\n",
    "print(\"corr_1_2:\", corr_1_2)"
   ]
  },
  {
   "cell_type": "markdown",
   "metadata": {},
   "source": [
    "Not all distributions are normal, so we need statistics that reflect differences in shapes between distributions.\n",
    "\n",
    "Skewness is a measure of asymmetry of a population of data about the mean. It is the expected value of the cube of the standard deviation.\n",
    "\n",
    "$skew_{pop}(x,y) = \\frac{\\sum_{i=0}^{n-1}{(x_{i} - x_{mean})^3}} {n\\sigma^3}$\n",
    "\n",
    "\n",
    "$skew_{sample}(x,y) = \\frac{\\sum_{i=0}^{n-1}{(x_{i} - x_{mean})^3}} {(n-1)(n-2)\\sigma^3}$\n",
    "\n",
    "Asymmetry in distribution exists due either the existence of long or fat tails. If a tail is long, this means that it contains values that are relatively far from the mean value of the data. If a tail is fat, there exists a greater number of observations whose values are relatively far from the mean than is predicted by a normal distribution. Skewness may sometimes be thought of as the direction which a distribution leans. This can be due to the existence of asymmetric fat tails, long tails, or both. For example, if a distribution includes a long tail on the right side, but is normal otherwise, it is said to have a positive skew. The same can be said of a distribution with a fat right tail. Skewness can be ambiguous concerning the shape of the distribution. If a distribution has a fat right tail and a long left tail that is not fat, it is possible that its skewness will be zero, even though the shape of the distribution is asymmetric."
   ]
  },
  {
   "cell_type": "code",
   "execution_count": 13,
   "metadata": {},
   "outputs": [
    {
     "name": "stdout",
     "output_type": "stream",
     "text": [
      "population_skew_list1: 44.167680000000004\n",
      "population_skew_list2: 2154.70016\n",
      "sample_skew_list1: 0.6326870114840893\n",
      "sample_skew_list2: 0.824429305041913\n"
     ]
    }
   ],
   "source": [
    "#statsFunctions.py\n",
    "# . . . \n",
    "def skewness(list_obj, sample = False):\n",
    "    mean_ = mean(list_obj)\n",
    "    SD_ = SD(list_obj, sample)\n",
    "    skew = 0\n",
    "    n = len(list_obj)\n",
    "    for val in list_obj:\n",
    "        skew += (val - mean_) ** 3\n",
    "        skew = skew / n if not sample else n * skew / ((n - 1)*(n - 1) * SD_ ** 3)\n",
    "        \n",
    "    return skew\n",
    "\n",
    "# . . . \n",
    "population_skew_list1 = skewness(list1, sample = False)\n",
    "population_skew_list2 = skewness(list2, sample = False)\n",
    "print(\"population_skew_list1:\", population_skew_list1)\n",
    "print(\"population_skew_list2:\", population_skew_list2)\n",
    "sample_skew_list1 = skewness(list1, sample = True)\n",
    "sample_skew_list2 = skewness(list2, sample = True)\n",
    "print(\"sample_skew_list1:\", sample_skew_list1)\n",
    "print(\"sample_skew_list2:\", sample_skew_list2)"
   ]
  },
  {
   "cell_type": "markdown",
   "metadata": {},
   "source": [
    "Kurtosis is an absolute measure of the weight of outliers. While skewness describes the ‘lean’ of a distribution, kurtosis describes the weight of a distribution that is held in the tails. Kurtosis is the sum of the standard deviation of each observation raised to the fourth power. As with the other statistical values, kurtosis can be taken for a population and for a sample.\n",
    "\n",
    "$kurt_{pop} = \\frac{\\sum_{i=0}^{n-1} (x_{i} - x_{mean})^4} {n\\sigma^4}$\n",
    "\n",
    "$kurt_{sample} = \\frac{n(n+1)\\sum_{i=0}^{n-1} (x_{i} - x_{mean})^4} {(n - 1)(n - 2)( n - 3)\\sigma^4} - \\frac{3(n - 1)^2}{(n - 2)(n - 3)}$\n",
    "\n",
    "If an observation is less than one standard deviation from the mean, its value will be relatively insignificant compared to in observation that is relatively farther from the mean."
   ]
  },
  {
   "cell_type": "code",
   "execution_count": 14,
   "metadata": {},
   "outputs": [
    {
     "name": "stdout",
     "output_type": "stream",
     "text": [
      "population_kurt_list1: 1.7000000000000004\n",
      "population_kurt_list2: 1.7528272819579145\n",
      "sample_kurt_list1: 5.6\n",
      "sample_kurt_list2: 6.022618255663312\n"
     ]
    }
   ],
   "source": [
    "#statsFunctions.py\n",
    "# . . .\n",
    "def kurtosis(list_obj, sample = False):\n",
    "    mean_ = mean(list_obj)\n",
    "    kurt = 0\n",
    "    SD_ = SD(list_obj, sample)\n",
    "    n = len(list_obj)\n",
    "    for x in list_obj:\n",
    "        kurt += (x - mean_) ** 4\n",
    "    kurt = kurt / (n * SD_ ** 4) if not sample else  n * (n + 1) * kurt / \\\n",
    "    ((n - 1) * (n - 2) * (SD_ ** 4)) - (3 *(n - 1) ** 2) / ((n - 2) * (n - 3))\n",
    "    \n",
    "    return kurt\n",
    "\n",
    "# . . .\n",
    "population_kurt_list1 = kurtosis(list1)\n",
    "population_kurt_list2 = kurtosis(list2)\n",
    "print(\"population_kurt_list1:\", population_kurt_list1)\n",
    "print(\"population_kurt_list2:\", population_kurt_list2)\n",
    "sample_kurt_list1 = kurtosis(list1, sample = True)  \n",
    "sample_kurt_list2 = kurtosis(list2, sample = True)  \n",
    "print(\"sample_kurt_list1:\", sample_kurt_list1)  \n",
    "print(\"sample_kurt_list2:\", sample_kurt_list2)\n"
   ]
  },
  {
   "cell_type": "markdown",
   "metadata": {},
   "source": [
    "## Using a Nested Dictionary to Organize Statistics\n",
    "\n",
    "| New Concepts | Descripton |\n",
    "| --- | --- |\n",
    "| Filling dictionary with for loop | When a dictionary is called in a for loop in the form, for key in dct, the for loop will iterate through dct.keys().|\n",
    "\n",
    "Using a dictionary, we can cleanly organizes the statistics that we have generated. Create a new script that includes all of the functions that we created in the previous lesson. We will use the same two lists that we previously created. \n",
    "\n",
    "Next create a dictionary named stats_dict that will hold not only these lists, but also statistics associated with the lists. At the top level, the dictionary will have two keys: 1 and 2, referring to list1 and list2, respectively. In the lext layer, we will first save the appropriate list identified by each top layer key (i.e., 1 or 2) under the second layer key of “list”."
   ]
  },
  {
   "cell_type": "code",
   "execution_count": 15,
   "metadata": {},
   "outputs": [],
   "source": [
    "#statsFunctions.py\n",
    "# . . .  \n",
    "### Build a nested dictionary with lists ###  \n",
    "stats_dict = {}  \n",
    "# 1 refers to list1 and attributes associated with it  \n",
    "stats_dict[1] = {}  \n",
    "stats_dict[1][\"list\"] = list1  \n",
    "# 2 refers to list2 and attributes associated with it  \n",
    "stats_dict[2] = {}  \n",
    "stats_dict[2][\"list\"] = list2  "
   ]
  },
  {
   "cell_type": "markdown",
   "metadata": {},
   "source": [
    "Now that the dictionary has been created, the keys of the stats_dict by typing the following command in the console:"
   ]
  },
  {
   "cell_type": "code",
   "execution_count": 16,
   "metadata": {},
   "outputs": [
    {
     "data": {
      "text/plain": [
       "dict_keys([1, 2])"
      ]
     },
     "execution_count": 16,
     "metadata": {},
     "output_type": "execute_result"
    }
   ],
   "source": [
    "stats_dict.keys()"
   ]
  },
  {
   "cell_type": "markdown",
   "metadata": {},
   "source": [
    "We see that stats_dict has two keys: 1 and 2. These each have been linked to their own dictionaries, thus creating a dictionary of dictionaries. Next, we will use a for loop to call these keys and create entries of each appropriate statistic (population) for the lists saved in the dictionary."
   ]
  },
  {
   "cell_type": "code",
   "execution_count": 17,
   "metadata": {},
   "outputs": [
    {
     "name": "stdout",
     "output_type": "stream",
     "text": [
      "{1: {'list': [3, 6, 9, 12, 15], 'total': 45, 'mean': 9.0, 'median': 9, 'mode': [3, 6, 9, 12, 15], 'variance': 18.0, 'standard deviation': 4.242640687119285, 'skewness': 44.167680000000004, 'kurtosis': 1.7000000000000004}, 2: {'list': [9, 16, 25, 36, 49], 'total': 135, 'mean': 27.0, 'median': 25, 'mode': [9, 16, 25, 36, 49], 'variance': 202.8, 'standard deviation': 14.24078649513432, 'skewness': 2154.70016, 'kurtosis': 1.7528272819579145}}\n"
     ]
    }
   ],
   "source": [
    "# for loop will call keys from stats_dict (i.e., first 1, and then 2)  \n",
    "for key in stats_dict:  \n",
    "    # save the list associated with key as lst; this will be easier to access  \n",
    "    lst = stats_dict[key][\"list\"]  \n",
    "    # use the functions to calculate each statistic and save in stats_dict[key]  \n",
    "    stats_dict[key][\"total\"] = total(lst)  \n",
    "    stats_dict[key][\"mean\"] = mean(lst)  \n",
    "    stats_dict[key][\"median\"] = median(lst)  \n",
    "    stats_dict[key][\"mode\"] = mode(lst)  \n",
    "    stats_dict[key][\"variance\"] = variance(lst)  \n",
    "    stats_dict[key][\"standard deviation\"] = SD(lst)    \n",
    "    stats_dict[key][\"skewness\"] = skewness(lst)  \n",
    "    stats_dict[key][\"kurtosis\"] = kurtosis(lst)  \n",
    "  \n",
    "print(stats_dict)  \n"
   ]
  },
  {
   "cell_type": "markdown",
   "metadata": {},
   "source": [
    "### Exercises\n",
    "1. Create a list of random numbers between 0 and 100 whose length is 1000. (Hint: import random; search \"python random\" to learn more about the library.)\n",
    "\n",
    "2. Use the variance function from the textbook to find the variance of this list. Assume that the list represent a population in whole. \n",
    "\n",
    "3. Create a 9 more lists of the same length whose elements are random numbers between 0 and 100. Use a nested dictionary to house and identify these lists. Keys for the first layer should be the numbers 1 through 10. Lists should be stored using a second key as follows: dict_name[index][\"list\"]. Index represents the particular integer key between 1 and 10 as noted above.\n",
    "\n",
    "4. Find the variance of each list and store it as follows: dict_name[index][\"variance\"].\n",
    "\n",
    "5. At the end of chapter 2, we used for loops to find min and max values. Create a min() function and max() function and pass the values from the list in question 1 to each of these to determine the min and max values in that list.\n",
    "\n",
    "6. Explain why it might be advantageous to create a function instead of building all commands from scratch as you create a script.\n",
    "\n",
    "### Exploration:\n",
    "1. Visit the Python Essentials lesson from Sargent and Stachurski. Complete exercise 3. Pass 3 other sentences to the function that you create. Include a paragraph that explains in detail how the function operates\n",
    "\n",
    "2. Visit the Python Essentials lesson from Sargent and Stachurski. Complete exercise 4. Pass 3 pairs of unique lists to the function. Include a paragraph explaining in detail how the function operates, including explanation for a solution that uses set().\n",
    "\n"
   ]
  }
 ],
 "metadata": {
  "celltoolbar": "Tags",
  "kernelspec": {
   "display_name": "Python 3",
   "language": "python",
   "name": "python3"
  },
  "language_info": {
   "codemirror_mode": {
    "name": "ipython",
    "version": 3
   },
   "file_extension": ".py",
   "mimetype": "text/x-python",
   "name": "python",
   "nbconvert_exporter": "python",
   "pygments_lexer": "ipython3",
   "version": "3.7.3"
  }
 },
 "nbformat": 4,
 "nbformat_minor": 2
}
