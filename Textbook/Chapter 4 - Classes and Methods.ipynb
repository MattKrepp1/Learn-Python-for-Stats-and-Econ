{
 "cells": [
  {
   "cell_type": "markdown",
   "metadata": {},
   "source": [
    "# Chapter 4: Classes and Methods\n",
    "\n",
    "So far, we have dealt only with functions. Functions are convenient because they generalize some exercise given a certain type of input. In the last chapter we created a function that takes the mean value of a list of elements. It may be useful to create a function that is not owned by a class if you are in a hurry, but it is better to develop a habit of building class objects whenever you think you might want to reuse the functions that we have made. To take advantage of a function while scripting in a different file, we can import the file and instantiate a class object that owns these functions. When a function is owned by a class, we refer to this as a method. In this chapter, you will learn how to create a class with methods.\n",
    "\n",
    "## Arithmetic Class\n",
    "\n",
    "| New Concepts | Description |\n",
    "| --- | --- |\n",
    "| Class | Classes are the fundamental element of object oriented programming. Classes provide a template that defines instances of the class. Objects that are instances of a class share attributes defined by the constructor, in addition to other attributes they may share. |\n",
    "| function(. . ., \\*args) | Passing \\*args to a function treats the passed arguments as a tuple and performs a specified operation upon the tuple’s elements. |\n",
    "\n",
    "It is useful to build a class with a collection of related objects. We will start by building a class that performs basic arthimetic operations. It will include the functions \"add\", \"multiply\", and \"power\". Before we make any methods, however, we must initialize the class as an object itself.\n",
    "\n",
    "We start by building the Arithmetic class and describing its __init__ function. This function will be called automatically upon the creation of an instance of the class. The init function will create an object that can be called at any time. \n",
    "\n",
    "Be sure to place the class at the top of file, just after you import any libraries that you plan to use. Copy the text below to build your first class."
   ]
  },
  {
   "cell_type": "code",
   "execution_count": 7,
   "metadata": {},
   "outputs": [],
   "source": [
    "#arithmetic.py\n",
    "# you may ignore import jdc, used to split class development\n",
    "# other cells that edits a class will include the magic command %% add_to\n",
    "import jdc\n",
    "\n",
    "class Arithmetic():\n",
    "    def __init__(self):\n",
    "        pass"
   ]
  },
  {
   "cell_type": "markdown",
   "metadata": {},
   "source": [
    "We can create an object that is an instance of the class. At the bottom of the script, add:"
   ]
  },
  {
   "cell_type": "code",
   "execution_count": 2,
   "metadata": {},
   "outputs": [
    {
     "name": "stdout",
     "output_type": "stream",
     "text": [
      "<__main__.Arithmetic object at 0x0000022F00CAF470>\n"
     ]
    }
   ],
   "source": [
    "arithmetic = Arithmetic()\n",
    "print(arithmetic)"
   ]
  },
  {
   "cell_type": "markdown",
   "metadata": {},
   "source": [
    "Following the instance of the  Arithmetic class with a ‘.’ enables the calling of objects owned by the class.\n",
    "\n",
    "Next, let's create the _add()_ method."
   ]
  },
  {
   "cell_type": "code",
   "execution_count": 8,
   "metadata": {},
   "outputs": [],
   "source": [
    "%%add_to Arithmetic\n",
    "#arithmetic.py\n",
    "# . . . \n",
    "def add(self, *args):  \n",
    "    try:  \n",
    "        total = 0  \n",
    "        for arg in args:  \n",
    "            total += arg  \n",
    "        return total  \n",
    "\n",
    "    except:  \n",
    "        print(\"Pass int or float to add()\")\n",
    "\n",
    "# make sure you define arithmetic below the script constructing the class \n",
    "arithmetic = Arithmetic()"
   ]
  },
  {
   "cell_type": "markdown",
   "metadata": {},
   "source": [
    "To account for inputs that cannot be processed, the method begins with try. This will return an error message in cases where integers or floats may not be passed to the method.\n",
    "\n",
    "The _add()_ method passes two arguments: self and \\*args. Self is always implicitly passed to a method, so you will only pass one arguments that will be interpreted as part \\*args. The \\*args command accepts an undefined number of arguments. It is returned within the function as a tuple that includes the values  passed to add. Using a for-loop, each of the values can be called individually from the tuple. We create a list from the arguments passed using a generator function, summing the list. \n",
    "\n",
    "Pass values to the add method as noted below"
   ]
  },
  {
   "cell_type": "code",
   "execution_count": 9,
   "metadata": {},
   "outputs": [
    {
     "name": "stdout",
     "output_type": "stream",
     "text": [
      "55\n"
     ]
    }
   ],
   "source": [
    "#aritmetic.py\n",
    "# . . . \n",
    "print(arithmetic.add(1,2,3,4,5,6,7,8,9,10))"
   ]
  },
  {
   "cell_type": "markdown",
   "metadata": {},
   "source": [
    "We will add two more functions to our class: the multiply and power functions. As with the addition class, we will create a multiply class that multiplies an unspecified number of arguments. "
   ]
  },
  {
   "cell_type": "code",
   "execution_count": 13,
   "metadata": {},
   "outputs": [],
   "source": [
    "%%add_to Arithmetic\n",
    "#arithmetic.py\n",
    "# . . . \n",
    "def multiply(self, *args):\n",
    "    product = 1\n",
    "    try:\n",
    "        for arg in args:\n",
    "            product *= arg\n",
    "        return product\n",
    "    except:\n",
    "        print(\"Pass only int or float to multiply()\")\n",
    "\n",
    "# make sure you define arithmetic below the script constructing the class \n",
    "arithmetic = Arithmetic()"
   ]
  },
  {
   "cell_type": "code",
   "execution_count": 14,
   "metadata": {},
   "outputs": [
    {
     "name": "stdout",
     "output_type": "stream",
     "text": [
      "24\n"
     ]
    }
   ],
   "source": [
    "# . . .\n",
    "print(arithmetic.multiply(2,3,4))"
   ]
  },
  {
   "cell_type": "markdown",
   "metadata": {},
   "source": [
    "The last method we will create is the exponent function. This one is straight-forward. Pass a base and an exponent to _.power()_ to yield the result a value, a, where $a=Base^{exponent}.$"
   ]
  },
  {
   "cell_type": "code",
   "execution_count": 16,
   "metadata": {},
   "outputs": [],
   "source": [
    "%%add_to Arithmetic\n",
    "#arithmetic.py\n",
    "# . . . \n",
    "def power(self, base, exponent):\n",
    "    try:\n",
    "        value = base ** exponent\n",
    "        return value\n",
    "    except:\n",
    "        print(\"Pass int or flaot for base and exponent\")\n",
    "\n",
    "# make sure you define arithmetic below the script constructing the class \n",
    "arithmetic = Arithmetic()"
   ]
  },
  {
   "cell_type": "code",
   "execution_count": 17,
   "metadata": {},
   "outputs": [
    {
     "name": "stdout",
     "output_type": "stream",
     "text": [
      "8\n"
     ]
    }
   ],
   "source": [
    "# . . .\n",
    "print(arithmetic.power(2,3))"
   ]
  },
  {
   "cell_type": "markdown",
   "metadata": {},
   "source": [
    "## Stats Class\n",
    "Now that you are comfortable with classes, we can build a Stats() class. This will integrate of the core stats functions that we built in the last chapter. We will be making use of this function when we build a program to run ordinary least squares regression, so make sure that this is well ordered.\n",
    "\n",
    "Since we have already built the stats functions, I have included the script  below and run each function once to check that the class is in working order. Note that everytime a function owned by the Stats() class is called, the program must first call \"self\". This calls the objects itself. We follow self with \n",
    "\".function-name\". For example, the mean function must call the total function. It does so with the command \"self.total(listObj)\".\n",
    "\n",
    "After creating stats.py with the Stats class, we will import stats using another python script in the same folder.\n"
   ]
  },
  {
   "cell_type": "code",
   "execution_count": 18,
   "metadata": {},
   "outputs": [],
   "source": [
    "#stats.py\n",
    "class stats():\n",
    "    def __init__(self):\n",
    "        print(\"You created an instance of stats()\")\n",
    "        \n",
    "    def total(self, list_obj):\n",
    "        total = 0\n",
    "        n = len(list_obj)\n",
    "        for i in range(n):\n",
    "            total += list_obj[i]\n",
    "        return total\n",
    "    \n",
    "    def mean(self, list_obj):\n",
    "        n = len(list_obj)\n",
    "        mean_ = self.total(list_obj) / n\n",
    "        return mean_ \n",
    "    \n",
    "    def median(self, list_obj):\n",
    "        n = len(list_obj)\n",
    "        list_obj = sorted(list_obj)\n",
    "        # lists of even length divided by 2 have a remainder\n",
    "        if n % 2 != 0:\n",
    "            # list length is odd\n",
    "            middle_index = int((n - 1) / 2)\n",
    "            median_ = list_obj[middle_index]\n",
    "        else:\n",
    "            upper_middle_index = int(n / 2)\n",
    "            lower_middle_index = upper_middle_index - 1\n",
    "            # pass slice with two middle values to self.mean()\n",
    "            median_ = self.mean(list_obj[lower_middle_index : upper_middle_index + 1])\n",
    "        \n",
    "        return median_\n",
    "    \n",
    "    def mode(self, list_obj):\n",
    "        # use to record value(s) that appear most times\n",
    "        max_count = 0\n",
    "        # use to count occurrences of each value in list\n",
    "        counter_dict = {}\n",
    "        for value in list_obj:\n",
    "            # count for each value should start at 0\n",
    "            counter_dict[value] = 0\n",
    "        for value in list_obj:\n",
    "            # add on to the count of the value for each occurrence in list_obj\n",
    "            counter_dict[value] += 1\n",
    "        # make a list of the value (not keys) from the dictionary\n",
    "        count_list = list(counter_dict.values())\n",
    "        # and find the max value\n",
    "        max_count = max(count_list)\n",
    "        # use a generator to make a list of the values (keys) whose number of \n",
    "        # occurences in the list match max_count\n",
    "        mode_ = [key for key in counter_dict if counter_dict[key] == max_count]\n",
    "\n",
    "        return mode_\n",
    "    \n",
    "    def variance(self, list_obj, sample = False):\n",
    "\n",
    "        # popvar(list) = sum((xi - list_mean)**2) / n for all xi in list\n",
    "        # save mean value of list\n",
    "        list_mean = self.mean(list_obj)\n",
    "        # use n to calculate average of sum squared diffs\n",
    "        n = len(list_obj)\n",
    "        # create value we can add squared diffs to\n",
    "        sum_sq_diff = 0\n",
    "        for val in list_obj:\n",
    "            # adds each squared diff to sum_sq_diff\n",
    "            sum_sq_diff += (val - list_mean) ** 2\n",
    "        if sample == False:\n",
    "            # normalize result by dividing by n\n",
    "            variance_ = sum_sq_diff / n\n",
    "        else:\n",
    "            # for samples, normalize by dividing by (n-1)\n",
    "            variance_ = sum_sq_diff / (n - 1)\n",
    "\n",
    "        return variance_\n",
    "    \n",
    "    def SD(self, list_obj, sample = False):\n",
    "        SD_ = self.variance(list_obj, sample) ** (1/2)\n",
    "        \n",
    "        return SD_\n",
    "    \n",
    "    def covariance(self, list_obj1, list_obj2, sample = False):\n",
    "        # determine the mean of each list\n",
    "        mean1 = self.mean(list_obj1)\n",
    "        mean2 = self.mean(list_obj2)\n",
    "        # instantiate a variable holding the value of 0; this will be used to \n",
    "        # sum the values generated in the for loop below\n",
    "        cov = 0\n",
    "        n1 = len(list_obj1)\n",
    "        n2 = len(list_obj2)\n",
    "        # check list lengths are equal\n",
    "        if n1 == n2:\n",
    "            n = n1\n",
    "            # sum the product of the differences\n",
    "            for i in range(n1):\n",
    "                cov += (list_obj1[i] - mean1) * (list_obj2[i] - mean2)\n",
    "            if sample == False:\n",
    "                cov = cov / n\n",
    "            # account for sample by dividing by one less than number of elements in list\n",
    "            else:\n",
    "                cov = cov / (n - 1)\n",
    "            # return covariance\n",
    "            return cov\n",
    "        else:\n",
    "            print(\"List lengths are not equal\")\n",
    "            print(\"List1:\", n1)\n",
    "            print(\"List2:\", n2)\n",
    "\n",
    "    def correlation(self, list_obj1, list_obj2):\n",
    "        # corr(x,y) = cov(x, y) / (SD(x) * SD(y))\n",
    "        cov = self.covariance(list_obj1, list_obj2)\n",
    "        SD1 = self.SD(list_obj1)\n",
    "        SD2 = self.SD(list_obj2)\n",
    "        corr = cov / (SD1 * SD2)\n",
    "        \n",
    "        return corr\n",
    "    \n",
    "    def skewness(self, list_obj, sample = False):\n",
    "        mean_ = self.mean(list_obj)\n",
    "        SD_ = self.SD(list_obj, sample)\n",
    "        skew = 0\n",
    "        n = len(list_obj)\n",
    "        for val in list_obj:\n",
    "            skew += (val - mean_) ** 3\n",
    "            skew = skew / n if not sample else n * skew / ((n - 1)*(n - 1) * SD_ ** 3)\n",
    "\n",
    "        return skew\n",
    "    \n",
    "    def kurtosis(self, list_obj, sample = False):\n",
    "        mean_ = self.mean(list_obj)\n",
    "        kurt = 0\n",
    "        SD_ = self.SD(list_obj, sample)\n",
    "        n = len(list_obj)\n",
    "        for x in list_obj:\n",
    "            kurt += (x - mean_) ** 4\n",
    "        kurt = kurt / (n * SD_ ** 4) if not sample else  n * (n + 1) * kurt / \\\n",
    "        ((n - 1) * (n - 2) * (SD_ ** 4)) - (3 *(n - 1) ** 2) / ((n - 2) * (n - 3))\n",
    "\n",
    "        return kurt"
   ]
  },
  {
   "cell_type": "markdown",
   "metadata": {},
   "source": [
    "We will import stats.py using a separate script called importStats.py. Once this script is imported, call the class *stats()* and name the instance *stats_lib*."
   ]
  },
  {
   "cell_type": "code",
   "execution_count": 19,
   "metadata": {},
   "outputs": [
    {
     "name": "stdout",
     "output_type": "stream",
     "text": [
      "You created an instance of stats()\n"
     ]
    }
   ],
   "source": [
    "import stats\n",
    "\n",
    "stats_lib = stats.stats()"
   ]
  },
  {
   "cell_type": "code",
   "execution_count": 20,
   "metadata": {},
   "outputs": [
    {
     "name": "stdout",
     "output_type": "stream",
     "text": [
      "sum list1 and list2 180\n",
      "mean list1 and list2 18.0\n",
      "median list1 and list2 13.5\n",
      "mode of list1 and list2 [9]\n",
      "variance of list1 and list2 191.4\n",
      "standard deviation of list1 and list2 13.83473888441701\n",
      "covariance of list1 and list2 (separate) 60.0\n",
      "correlation of list1 and list2 (separate) 0.9930726528736967\n",
      "skewness of list1 and list2 3037.7548520445002\n",
      "kurtosis of list1 and list2 3.048466504849597\n"
     ]
    }
   ],
   "source": [
    "list1 = [3, 6, 9, 12, 15]\n",
    "list2 = [i ** 2 for i in range(3, 8)]\n",
    "print(\"sum list1 and list2\", stats_lib.total(list1 + list2))  \n",
    "print(\"mean list1 and list2\", stats_lib.mean(list1 + list2))  \n",
    "print(\"median list1 and list2\", stats_lib.median(list1 + list2))  \n",
    "print(\"mode of list1 and list2\", stats_lib.mode(list1 + list2))  \n",
    "print(\"variance of list1 and list2\", stats_lib.variance(list1 + list2))  \n",
    "print(\"standard deviation of list1 and list2\", stats_lib.SD(list1 + list2))  \n",
    "print(\"covariance of list1 and list2 (separate)\", \n",
    "          stats_lib.covariance(list1, list2))  \n",
    "print(\"correlation of list1 and list2 (separate)\", \n",
    "          stats_lib.correlation(list1, list2))  \n",
    "print(\"skewness of list1 and list2\", stats_lib.skewness(list1 + list2))  \n",
    "print(\"kurtosis of list1 and list2\", stats_lib.kurtosis(list1 + list2))  "
   ]
  },
  {
   "cell_type": "markdown",
   "metadata": {},
   "source": [
    "### Exercises\n",
    "1. Create a function that calculates the length of a list without using len()  and returns this value. Create a list and pass it to the function to find its length.\n",
    "2. Create a function that performs dot multiplication on two vectors (lists) – such that if list1 = [x1,x2,x3] and list2 = [y1,y2,y3],  dot_product_list1_list2 = [x1y1, x2y2, x3y3] – and returns this list. Pass two lists of the same length to this function.\n",
    "3. In a single line, pass two lists of the same length to the function from question 2 and pass the instance of that function to the function from question 1. What is the length of dot_product_list1_list2?\n",
    "4. Create two unique lists using generator functions and pass them to the function created in question 2.\n",
    "5. Create a function that checks the types of elements in a list. For example, if a list contains a string, an integer, and a float, this function should  return a list that contains identifies these three types: [str, int, float].\n",
    "6. In a single line, pass a list with at least 4 different types to the function from question 5 and pass the result to the funciton measuring length. \n",
    "7. Create a class that houses each of the functions (now methods) that you have created. Create an instance of that class and use each of the methods from the class.\n",
    "\n",
    "### Exploration\n",
    "1. Visit OOP II: Building Classes lesson from Sargent and Stachurski and  duplicate \"Example: A Consumer Class\". Following this, pass different values to the class methods and return the value of agent wealth using *object.\\_\\_dict\\_\\_* write a paragraph explaining the script and the results.\n",
    "\n",
    "2. Visit OOP II: Building Classes lesson from Sargent and Stachurski and duplicate \"Example: The Solow Growth Model\". Following this, pass different values for each of the parameters and show how the output changes. Write a paragraph explaining the script and your findings.\n"
   ]
  }
 ],
 "metadata": {
  "kernelspec": {
   "display_name": "Python 3",
   "language": "python",
   "name": "python3"
  },
  "language_info": {
   "codemirror_mode": {
    "name": "ipython",
    "version": 3
   },
   "file_extension": ".py",
   "mimetype": "text/x-python",
   "name": "python",
   "nbconvert_exporter": "python",
   "pygments_lexer": "ipython3",
   "version": "3.7.3"
  }
 },
 "nbformat": 4,
 "nbformat_minor": 2
}
