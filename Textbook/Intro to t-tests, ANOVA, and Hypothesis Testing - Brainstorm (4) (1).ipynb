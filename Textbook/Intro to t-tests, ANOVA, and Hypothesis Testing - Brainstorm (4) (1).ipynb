{
 "cells": [
  {
   "cell_type": "markdown",
   "id": "4f9d86c1",
   "metadata": {},
   "source": [
    "# Incomplete Data \n",
    "\n",
    "Creating accurate predictions is one of the most valuable skills in the job market today. Statisticians, economists, and data scientists use data gathered from specific populations in order to make predictions about what behaviors are likely to occur in the future, or what the truth is about what has already occured. Through computational and statistical techniques, we can make _statistical inferences_ to draw conclusions from data that are often incomplete.\n",
    "\n",
    "As far as estimations of parameters that already exist, having full population data would mean that our questions about that population are answered. But because the cost of gathering full population would, usually, outweigh the benefit of having perfectly accurate data, we are okay with using incomplete samples to make inferences. "
   ]
  },
  {
   "cell_type": "markdown",
   "id": "00a3f826",
   "metadata": {},
   "source": [
    "Suppose that your company has decided to implement a new marketing campaign and needs help from you, their data scientist, to analyze it. They randomly select 20 stores to be pilot stores for the new program. After one month they compare revenues of the randomly selected 20 stores, shown below.\n",
    "\n",
    "**Your company wishes to know if the new marketing campaign resulted in a higher average monthly revenues than their company average of $120,000 per month** \n",
    "\n",
    "These data have been randomly generated. But in the spirit of this chapter, the population from which they were generated should remain unknown. "
   ]
  },
  {
   "cell_type": "markdown",
   "id": "d2ec47aa",
   "metadata": {},
   "source": [
    "\n",
    "|Pilot Store Revenues |\n",
    "|---------------------|\n",
    "|     \\$121,646       |\n",
    "|     \\$104,134       |\n",
    "|     \\$185,416       |\n",
    "|     \\$186,476       |\n",
    "|     \\$81,705        |\n",
    "|     \\$149,316       |\n",
    "|     \\$139,109       |\n",
    "|     \\$116,402       |\n",
    "|     \\$127,047       |\n",
    "|     \\$122,271       |\n",
    "|     \\$89,780        |\n",
    "|     \\$166,073       |\n",
    "|     \\$126,825       |\n",
    "|     \\$89,819        |\n",
    "|     \\$94,316        |\n",
    "|     \\$151,898       |\n",
    "|     \\$118,038       |\n",
    "|     \\$39,741        |\n",
    "|     \\$143,032       |\n",
    "|     \\$104,177       |                          "
   ]
  },
  {
   "cell_type": "code",
   "execution_count": 1,
   "id": "ced80df2",
   "metadata": {},
   "outputs": [
    {
     "data": {
      "text/html": [
       "<div>\n",
       "<style scoped>\n",
       "    .dataframe tbody tr th:only-of-type {\n",
       "        vertical-align: middle;\n",
       "    }\n",
       "\n",
       "    .dataframe tbody tr th {\n",
       "        vertical-align: top;\n",
       "    }\n",
       "\n",
       "    .dataframe thead th {\n",
       "        text-align: right;\n",
       "    }\n",
       "</style>\n",
       "<table border=\"1\" class=\"dataframe\">\n",
       "  <thead>\n",
       "    <tr style=\"text-align: right;\">\n",
       "      <th></th>\n",
       "      <th>0</th>\n",
       "      <th>1</th>\n",
       "      <th>2</th>\n",
       "      <th>3</th>\n",
       "      <th>4</th>\n",
       "      <th>5</th>\n",
       "      <th>6</th>\n",
       "      <th>7</th>\n",
       "      <th>8</th>\n",
       "      <th>9</th>\n",
       "      <th>10</th>\n",
       "      <th>11</th>\n",
       "      <th>12</th>\n",
       "      <th>13</th>\n",
       "      <th>14</th>\n",
       "      <th>15</th>\n",
       "      <th>16</th>\n",
       "      <th>17</th>\n",
       "      <th>18</th>\n",
       "      <th>19</th>\n",
       "    </tr>\n",
       "  </thead>\n",
       "  <tbody>\n",
       "    <tr>\n",
       "      <th>Pilot Store Revenues</th>\n",
       "      <td>121648</td>\n",
       "      <td>104134</td>\n",
       "      <td>185416</td>\n",
       "      <td>186478</td>\n",
       "      <td>81705</td>\n",
       "      <td>149316</td>\n",
       "      <td>139109</td>\n",
       "      <td>116402</td>\n",
       "      <td>127047</td>\n",
       "      <td>122271</td>\n",
       "      <td>89780</td>\n",
       "      <td>166073</td>\n",
       "      <td>126825</td>\n",
       "      <td>89819</td>\n",
       "      <td>94316</td>\n",
       "      <td>151898</td>\n",
       "      <td>118038</td>\n",
       "      <td>39741</td>\n",
       "      <td>143032</td>\n",
       "      <td>104177</td>\n",
       "    </tr>\n",
       "  </tbody>\n",
       "</table>\n",
       "</div>"
      ],
      "text/plain": [
       "                          0       1       2       3      4       5       6   \\\n",
       "Pilot Store Revenues  121648  104134  185416  186478  81705  149316  139109   \n",
       "\n",
       "                          7       8       9      10      11      12     13  \\\n",
       "Pilot Store Revenues  116402  127047  122271  89780  166073  126825  89819   \n",
       "\n",
       "                         14      15      16     17      18      19  \n",
       "Pilot Store Revenues  94316  151898  118038  39741  143032  104177  "
      ]
     },
     "execution_count": 1,
     "metadata": {},
     "output_type": "execute_result"
    }
   ],
   "source": [
    "import numpy as np\n",
    "import pandas as pd\n",
    "\n",
    "#Copy-and-paste these data to a dataframe to be analyzed:\n",
    "revenues_df = pd.DataFrame([\n",
    "    121648, 104134, 185416, 186478, 81705, 149316, 139109, 116402, 127047,\n",
    "    122271, 89780, 166073, 126825, 89819, 94316, 151898, 118038, 39741, 143032,\n",
    "    104177\n",
    "],\n",
    "                           columns=[\"Pilot Store Revenues\"])\n",
    "revenues_df.T"
   ]
  },
  {
   "cell_type": "markdown",
   "id": "d546cb57",
   "metadata": {},
   "source": [
    "You could do a quick calculation on these to see if the revenues were different, but in statistics it is acknowledged that some variation can happen randomly, not due to real differences. If the company had one-half of it's stores try the new marketing campaign, you would have near-perfect data to compare revenues between the pilot and non-pilot stores. But, the risk your comapny would take by implementing an unproven marketing campaign to half of it's stores is too high a price to pay for perfect data. Luckily, through statistical inference, we can make a very accurate prediction about how the new marketing campaign would work if it was spread to many more stores, and if it was more effective than the current marketing strategy for your company. \n",
    "\n",
    "To start, you formulate your __hypotheses__. These are mutually exclusive, falsifiable statements. Only one can be true, and one of them will be true. We create these two hypotheses: \n",
    "\n",
    "- The _null_ hypothesis $H_o$: The true means of the the sample populations do not differ.\n",
    "- The _alternate_ hypothesis $H_a$: The true means of the sample populations do differ.\n",
    "\n",
    "### 4 Steps of Hypothesis Testing\n",
    "\n",
    "All hypotheses are tested using a four-step process:\n",
    "\n",
    "1. State the two hypotheses so that only one can be right. \n",
    "2. Formulate an analysis plan, which outlines how the data will be evaluated.\n",
    "3. Carry out the plan and physically analyze the sample data.\n",
    "4. Analyze the results and either reject the null hypothesis, or state that the null hypothesis is plausible, given the data.\n",
    "\n",
    "Hypothesis testing can be done mentally. It would be burdensome to have to state your _null_ and _alternate_ hypotheses, and run through these four steps explicitly every time you made a predictive computer model. The point is that in means testing, there is a clear process and result that deliniates \"Yes, the true means of these samples are different\" and \"No, they're not significantly different\"\n",
    "\n",
    "In the case of us determining the efficacy of our company's marketing campaign, these are our hypotheses: \n",
    "\n",
    "- $H_o$: There is no difference between the two group's avergage revenue. \n",
    "- $H_a$: The pilot stores have a higher mean revenue than the control stores. \n",
    "\n",
    "We will evaluate these hypotheses using statistical techniques that offer us an informed decision. "
   ]
  },
  {
   "cell_type": "markdown",
   "id": "1798798c",
   "metadata": {},
   "source": [
    "<span style=\"color:red\">\n",
    "    <font size = \"20\">\n",
    " Not sure if this is our best example but I changed the random data to be drawn from a normally distributed population. Could work.\n",
    "        "
   ]
  },
  {
   "cell_type": "markdown",
   "id": "920713b0",
   "metadata": {},
   "source": [
    "## Measures of Central Tendency and Dispersion\n",
    "##### Mean, Median, Mode , and Degrees of Freedom\n",
    "For a given dataset, useful descriptive statistics of central tendency include mean, median, and mode, which we built as functions in chapter 3. \n",
    "- The **Mean** gives the expected value for a given data point by summing all of the observations and dividing by the number of them. \n",
    "    - The population mean is denoted as $\\mu$. This is if we have all of the data from our population of interest. \n",
    "    - If $\\mu$ is unknown(which is more common), and we have only a _sample_ of data drawn randomly from a population, we use $\\bar{X}$ as an _estimator_ of $\\mu$. One must keep in mind that each sample mean $\\bar{x_i}$ drawn from the same population is likely to vary; consequently, some degree of uncertainty is involved with $\\bar{X}$\n",
    "        - Note that $\\bar{X}$ refers to the *random variable* representing the mean of a sample, which could take on any *individual* values $\\bar{x_i}$, due to sampling uncertainty. $x_i$ (without the bar) is an individual datapoint. In both cases, $i$ represents an integer denoting the current iteration of the value at $i = 1,2,3,...$.\n",
    "    <h3 align=\"center\">\n",
    "    <font size=\"4\">\n",
    "         $\\bar{X} = \\frac{1}{n}\\sum_{i=1}^nx_i$\n",
    "    </font>\n",
    "    </h3> \n",
    "    \n",
    "    \n",
    "- The degree to which $\\bar{X}$, and any statistical population parameter estimator produced from a sample, is allowed to vary, is the **Degrees of Freedom** of the sample. This is the number of independent pieces of information that go into the estimate of a parameter(sample size $n$), minus the number of parameters used as intermediate steps in the estimation of the parameter itself. So if we estimate $\\bar{x}$ once: \n",
    "    <h3 align=\"center\">\n",
    "    <font size=\"4\">\n",
    "        $ df = n - 1$\n",
    "    </font>\n",
    "    </h3> \n",
    "    \n",
    "    \n",
    "- The **Median** is less sensitive to outliers than mean; it is the value in the middle of the dataset\n",
    "- The **Mode** is the value which occurs the most in the dataset, in a distribution it is the top of the curve \n",
    "     - _Consider this : in 2020, the real **Median** personal income in the United States was \\$35,805, and the real **Mean** personal income was \\$53,996. Why might these measures be so different?_"
   ]
  },
  {
   "cell_type": "code",
   "execution_count": 2,
   "id": "1eedcf89",
   "metadata": {},
   "outputs": [
    {
     "name": "stdout",
     "output_type": "stream",
     "text": [
      "Pilot mean:  122861.25 \n",
      " Pilot median:  121959.5\n"
     ]
    }
   ],
   "source": [
    "from datlib.stats import *\n",
    "\n",
    "# using our previously built functions to find means\n",
    "pilot_stores_mean = mean(revenues_df[\"Pilot Store Revenues\"])\n",
    "\n",
    "# medians\n",
    "pilot_stores_median = median(revenues_df[\"Pilot Store Revenues\"])\n",
    "\n",
    "print(\"Pilot mean: \", pilot_stores_mean, \"\\n Pilot median: \",\n",
    "      pilot_stores_median)\n",
    "# mode not applicable because each value in our data appears once"
   ]
  },
  {
   "cell_type": "markdown",
   "id": "3cca8f82",
   "metadata": {},
   "source": [
    "###### Variance, Standard Deviation, and Standard Error\n",
    "After knowing where the center of a dataset lies, the next important measure is one that tells us how spread out the data is. We will cover Variance, Standard Deviation, and Standard Error. \n",
    "\n",
    "- **Variance** quantifies the amount of variability around the mean of a dataset by adding together the square of the distance of each individual observation of $x$ from its sample mean $\\bar{x}$. It is denoted $\\sigma^2$ if population-level data (mean $\\mu$) is known and $s^2$ if it is a sample from an unfamiliar population: \n",
    "<h3 align=\"center\">\n",
    "    <font size=\"4\">\n",
    "        $ s^2 = \\frac{1}{(n-1)}\\sum_{i=1}^n (x_i - \\bar{x})^2$\n",
    "    </font>\n",
    "    </h3> \n",
    "    \n",
    "    \n",
    "- **Standard Deviation** is the positive square root of the variance for a set of data. It is used much more often in data analysis than variance, primarily because it has the same units of measurement as the mean. It corrects the squaring of individual observations deviations from the mean done when calculating variance. It is denoted $s$ when working with a sample with an unknown population mean $\\mu$. $s$ is an _estimator_ of $\\sigma$, which is standard deviation when $\\mu$ is known: \n",
    "<h3 align=\"center\">\n",
    "    <font size=\"4\">\n",
    "        $ s = \\sqrt{s^2}$\n",
    "    </font>\n",
    "    </h3> \n",
    "\n",
    "\n",
    "- **Standard Error** describes how likely a given random sample mean $\\bar{x_i}$ is to deviate from the population mean $\\mu$. It is the standard deviation of the probability distribution for the random variable $\\bar{X}$, which represents all possible samples of a single given sample size $n$. As $n$ increases, $\\bar{X}$ can be expected to deviate less from $\\mu$, so standard error decreases. Because population standard deviation $\\sigma$ is rarely given, we again use an _estimator_ for standard error, denoted $s_\\bar{x}$. Populational data has no standard error as $\\mu$ can only take on a single value. \n",
    "<h3 align=\"center\">\n",
    "    <font size=\"4\">\n",
    "        $ s_\\bar{x} = \\frac{s}{\\sqrt{n}}$\n",
    "    </font>\n",
    "    </h3> \n",
    "\n"
   ]
  },
  {
   "cell_type": "code",
   "execution_count": 3,
   "id": "71ee707d",
   "metadata": {},
   "outputs": [
    {
     "name": "stdout",
     "output_type": "stream",
     "text": [
      "Pilot Stores Data: \n",
      "Variance: 1286575296\n",
      "SD: 35868\n",
      "SE: 8020\n"
     ]
    }
   ],
   "source": [
    "from datlib.stats import *\n",
    "import numpy as np\n",
    "\n",
    "\n",
    "def var(lst):\n",
    "    df = len(lst) - 1\n",
    "    x_bar = mean(lst)\n",
    "    squared_deviations = 0\n",
    "    for i in range(len(lst)):\n",
    "        squared_deviations += (lst[i] - x_bar)**2\n",
    "    return (1 / df) * (squared_deviations)\n",
    "\n",
    "\n",
    "def SD(lst):\n",
    "    df = len(lst) - 1\n",
    "    x_bar = mean(lst)\n",
    "    squared_deviations = 0\n",
    "    for i in range(len(lst)):\n",
    "        squared_deviations += (lst[i] - x_bar)**2\n",
    "    return np.sqrt(\n",
    "        (1 / df) * (squared_deviations))  # take square root of variance\n",
    "\n",
    "\n",
    "def SE(lst):\n",
    "    n = len(lst)\n",
    "    standard_error = SD(lst) / (n**(1 / 2))\n",
    "    return standard_error\n",
    "\n",
    "\n",
    "pilot_variance = var(revenues_df[\"Pilot Store Revenues\"])\n",
    "\n",
    "pilot_SD = SD(revenues_df[\"Pilot Store Revenues\"])\n",
    "\n",
    "pilot_SE = SE(revenues_df[\"Pilot Store Revenues\"])\n",
    "\n",
    "print(\"Pilot Stores Data: \\nVariance: \" + str(int(pilot_variance)) + \"\\nSD: \" +\n",
    "      str(int(pilot_SD)) + \"\\nSE: \" + str(int(pilot_SE)))"
   ]
  },
  {
   "cell_type": "code",
   "execution_count": 4,
   "id": "38de272e",
   "metadata": {},
   "outputs": [
    {
     "name": "stdout",
     "output_type": "stream",
     "text": [
      "Pilot Store Revenues    8020.521482\n",
      "dtype: float64 \n",
      " Pilot Store Revenues    35868.862496\n",
      "dtype: float64 \n",
      " Pilot Store Revenues    1.286575e+09\n",
      "dtype: float64\n"
     ]
    }
   ],
   "source": [
    "# cross check with pandas function\n",
    "print(revenues_df.sem(), \"\\n\", revenues_df.std(), '\\n',\n",
    "      revenues_df.var())"
   ]
  },
  {
   "cell_type": "markdown",
   "id": "402c877a",
   "metadata": {},
   "source": [
    "## Distributions\n",
    "### Normal Distribution \n",
    "Normal Distribution, also known as Gaussian distribution, is ubiquitous in Data Science and economic phenomena. You will encounter it for most predictive models you create. It is one of the assumptions of many computational algorithms.\n",
    "\n",
    "A normal distribution has a bell-shaped density curve described by its mean $\\mu$ and standard deviation $\\sigma$. The density curve is symmetrical(skewness of 0), centered about its mean, with its spread determined by its standard deviation showing that data near the mean are more frequent in occurrence than data far from the mean. Roughly 68% of the observations in a normal distribution will occur within one standard deviations of the distribution's mean. \n",
    "\n",
    "#### Standard Normal Distribution\n",
    "\n",
    "A **Standard Normal Distribution** is defined as a normal distribution with $\\mu = 0$ and $\\sigma = 1$. \n",
    "\n",
    "__Probability__ takes on a value from 0 to 1, with a probability of 0 for an event meaning that it would never occur in infinite samples, a probability of 0.5 means that in a sufficiently large number of trials, half of the trials would result in success, and a probability of 1 meaning that the number of successes in a trial would be equal to the number of attempts. \n",
    "\n",
    "__Probability Distributions__ display all of the possible values that a _random variable_ $X$ could take on on the x-axis, and the corresponding probability of that value on the y-axis. Hence, the area under the probability distribution will always be equal to one. \n",
    "   - The random variable $\\bar{X}$, which represents the the mean of a sample drawn from a larger population, defines a _**sampling distribution**_, which gives all values possible for $\\bar{X}$, $\\bar{x_i}$, and the probability of that value occuring. This sampling distribution takes on a standard deviation of $\\frac{s}{\\sqrt(n)}$, otherwise known as the **standard error.** \n",
    "\n",
    "Distributions can be described by: \n",
    "- Their mean, $\\mu$(or $\\bar{x}$ for sampling distributions), which is the average value of the dataset.  \n",
    "- Their standard deviation, $\\sigma$, which determines how flat the curve is, and how densely the data clusters around the mean(SE for sampling distributions).\n",
    "- Skewness, $S_{KP}$, which refers to a distortion or asymmetry of a distribution. \n",
    "- Kurtosis, $k$, which describes how much of the distribution lays in its tails. \n",
    "\n",
    "We should view the sampling distributions of $\\bar{X}$ and $S^2$ as the mechanisms from\n",
    "which we will be able to make inferences on the parameters $\\mu$ and $\\sigma^2$. The sampling distribution of $\\bar{X}$ with sample size $n$ is the distribution that results when an experiment is conducted over and over (always with sample size $n$) and the many values of $\\bar{X}$ result. This sampling distribution, then, describes the variability of sample averages around the population mean $\\mu$ . In the case of our store revenues, knowledge of the sampling distribution of $\\bar{X}$ arms us\n",
    "with the knowledge of a “typical” discrepancy between an observed $\\bar{x}$ value and\n",
    "true $\\mu$. The same principle applies in the case of the distribution of $s^2$. The sampling distribution produces information about the variability of $s^2$ values around\n",
    "$\\sigma^2$ in repeated experiments. \n",
    "\n",
    "As an example of a normal distribution, we plot a histogram of month-to-month unemployment changes in the US since 1970. "
   ]
  },
  {
   "cell_type": "code",
   "execution_count": 24,
   "id": "f40d3b55",
   "metadata": {},
   "outputs": [],
   "source": [
    "import pandas_datareader as web\n",
    "import pandas as pd\n",
    "import datetime as dt\n",
    "import scipy.stats as stats\n",
    "import matplotlib.ticker as mtick\n",
    "import matplotlib.pyplot as plt\n",
    "import numpy as np\n",
    "from scipy.stats import t"
   ]
  },
  {
   "cell_type": "code",
   "execution_count": 6,
   "id": "4312db02",
   "metadata": {},
   "outputs": [],
   "source": [
    "start = dt.datetime(1970, 1, 1)\n",
    "end = dt.datetime.today()\n",
    "\n",
    "gdp = web.DataReader('GDP', 'fred', start, end)"
   ]
  },
  {
   "cell_type": "code",
   "execution_count": 7,
   "id": "c7c2e7a0",
   "metadata": {},
   "outputs": [],
   "source": [
    "unemployment_rate = web.DataReader('UNRATE', 'fred', start, end)"
   ]
  },
  {
   "cell_type": "code",
   "execution_count": 102,
   "id": "e3923d47",
   "metadata": {
    "scrolled": false
   },
   "outputs": [
    {
     "name": "stderr",
     "output_type": "stream",
     "text": [
      "<ipython-input-102-3f994d4e4edf>:16: UserWarning: FixedFormatter should only be used together with FixedLocator\n",
      "  ax.set_xticklabels([str(round(x,1)) + \"%\" for x in xvals])\n",
      "<ipython-input-102-3f994d4e4edf>:18: UserWarning: FixedFormatter should only be used together with FixedLocator\n",
      "  ax.set_yticklabels([str(round(y,1)) + \"%\" for y in yvals])\n"
     ]
    },
    {
     "data": {
      "image/png": "[encoded data removed]",
      "text/plain": [
       "<Figure size 1440x720 with 1 Axes>"
      ]
     },
     "metadata": {
      "needs_background": "light"
     },
     "output_type": "display_data"
    }
   ],
   "source": [
    "fig, ax = plt.subplots(figsize=(20, 10))\n",
    "unrate = unemployment_rate[[\"UNRATE\"]].diff()[1:]\n",
    "# unrate[\"UNRATE\"].plot.density(ax = ax)\n",
    "unrate[\"UNRATE\"].plot.hist(bins=100, ax=ax, alpha=.5, \n",
    "            label=\"Unemployment Rate\",\n",
    "              legend = False,\n",
    "              density = True)\n",
    "x = unrate.mean()\n",
    "std = unrate.std()\n",
    "\n",
    "\n",
    "x = np.linspace(t.ppf(0.01, 3), t.ppf(0.99, 3), 100)\n",
    "ax.plot(x, t.pdf(x, 1000) * 100, lw=3, alpha=1, color = 'r',  label='Standard Normal Distribution')\n",
    "\n",
    "xvals = ax.get_xticks()\n",
    "ax.set_xticklabels([str(round(x,1)) + \"%\" for x in xvals])\n",
    "yvals = ax.get_yticks()\n",
    "ax.set_yticklabels([str(round(y,1)) + \"%\" for y in yvals])\n",
    "\n",
    "\n",
    "# plt.axvline(x, label=\"mean = \" + str(x * 100) + '%', linestyle='--', c='r')\n",
    "\n",
    "\n",
    "\n",
    "\n",
    "ax.set_xbound(lower=-2.5, upper=2.5)\n",
    "plt.title(\"Distribution of month-to-month percent changes in unemployment since 1970\")\n",
    "plt.show()"
   ]
  },
  {
   "cell_type": "code",
   "execution_count": 77,
   "id": "c3bdcb84",
   "metadata": {},
   "outputs": [
    {
     "data": {
      "text/plain": [
       "UNRATE    0.476495\n",
       "dtype: float64"
      ]
     },
     "execution_count": 77,
     "metadata": {},
     "output_type": "execute_result"
    }
   ],
   "source": [
    "unrate.std()"
   ]
  },
  {
   "cell_type": "code",
   "execution_count": 66,
   "id": "5b2e1237",
   "metadata": {},
   "outputs": [
    {
     "data": {
      "text/plain": [
       "[<matplotlib.lines.Line2D at 0x22d4ac19c40>]"
      ]
     },
     "execution_count": 66,
     "metadata": {},
     "output_type": "execute_result"
    },
    {
     "data": {
      "image/png": "[encoded data removed]",
      "text/plain": [
       "<Figure size 1440x720 with 1 Axes>"
      ]
     },
     "metadata": {
      "needs_background": "light"
     },
     "output_type": "display_data"
    }
   ],
   "source": [
    "fig, ax = plt.subplots(figsize=(20, 10))\n",
    "x = np.linspace(t.ppf(0.01, 3), t.ppf(0.99, 3), 100)\n",
    "ax.plot(x, t.pdf(x, 1000) * 100, lw=3, alpha=1, color = 'r',  label='Standard Normal Distribution')"
   ]
  },
  {
   "cell_type": "code",
   "execution_count": 65,
   "id": "b7697f4b",
   "metadata": {},
   "outputs": [
    {
     "data": {
      "text/plain": [
       "array([-4.54070286, -4.44897149, -4.35724012, -4.26550875, -4.17377738,\n",
       "       -4.082046  , -3.99031463, -3.89858326, -3.80685189, -3.71512052,\n",
       "       -3.62338915, -3.53165778, -3.43992641, -3.34819504, -3.25646367,\n",
       "       -3.1647323 , -3.07300092, -2.98126955, -2.88953818, -2.79780681,\n",
       "       -2.70607544, -2.61434407, -2.5226127 , -2.43088133, -2.33914996,\n",
       "       -2.24741859, -2.15568722, -2.06395584, -1.97222447, -1.8804931 ,\n",
       "       -1.78876173, -1.69703036, -1.60529899, -1.51356762, -1.42183625,\n",
       "       -1.33010488, -1.23837351, -1.14664214, -1.05491077, -0.96317939,\n",
       "       -0.87144802, -0.77971665, -0.68798528, -0.59625391, -0.50452254,\n",
       "       -0.41279117, -0.3210598 , -0.22932843, -0.13759706, -0.04586569,\n",
       "        0.04586569,  0.13759706,  0.22932843,  0.3210598 ,  0.41279117,\n",
       "        0.50452254,  0.59625391,  0.68798528,  0.77971665,  0.87144802,\n",
       "        0.96317939,  1.05491077,  1.14664214,  1.23837351,  1.33010488,\n",
       "        1.42183625,  1.51356762,  1.60529899,  1.69703036,  1.78876173,\n",
       "        1.8804931 ,  1.97222447,  2.06395584,  2.15568722,  2.24741859,\n",
       "        2.33914996,  2.43088133,  2.5226127 ,  2.61434407,  2.70607544,\n",
       "        2.79780681,  2.88953818,  2.98126955,  3.07300092,  3.1647323 ,\n",
       "        3.25646367,  3.34819504,  3.43992641,  3.53165778,  3.62338915,\n",
       "        3.71512052,  3.80685189,  3.89858326,  3.99031463,  4.082046  ,\n",
       "        4.17377738,  4.26550875,  4.35724012,  4.44897149,  4.54070286])"
      ]
     },
     "execution_count": 65,
     "metadata": {},
     "output_type": "execute_result"
    }
   ],
   "source": [
    "x"
   ]
  },
  {
   "cell_type": "markdown",
   "id": "d4685022",
   "metadata": {},
   "source": [
    "<span style=\"color:red\">\n",
    "    <font size = \"5\">\n",
    "This is a nice demonstration of a normal distribution\n",
    "        </span>"
   ]
  },
  {
   "cell_type": "markdown",
   "id": "88825e58",
   "metadata": {},
   "source": [
    "As we can see, a given change in unemployment from month to month since 1970 is normally distributed with a very slightly positive mean of 0.27%. Had we pulled the data in 2019, the mean would've been negative, but the still slightly higher-than-usual unemployment rate resulting from 2020-2021 causes our overall mean to be positive. \n",
    "\n",
    "In addition, we can show that our revenue data sampling distribution roughly follows a normal distribution: "
   ]
  },
  {
   "cell_type": "code",
   "execution_count": 39,
   "id": "94a116d8",
   "metadata": {},
   "outputs": [
    {
     "data": {
      "text/plain": [
       "<AxesSubplot:ylabel='Frequency'>"
      ]
     },
     "execution_count": 39,
     "metadata": {},
     "output_type": "execute_result"
    },
    {
     "data": {
      "image/png": "[encoded data removed]",
      "text/plain": [
       "<Figure size 864x576 with 1 Axes>"
      ]
     },
     "metadata": {
      "needs_background": "light"
     },
     "output_type": "display_data"
    }
   ],
   "source": [
    "fig, ax = plt.subplots(figsize = (12,8))\n",
    "revenues_df['Pilot Store Revenues'].plot.hist(bins=5)"
   ]
  },
  {
   "cell_type": "markdown",
   "id": "aab9e8b8",
   "metadata": {},
   "source": [
    "# Comparisons of Means\n",
    "\n",
    "When dealing with a population of known parameters $\\mu$ and $\\sigma^2$, we can take any mean $\\bar{X}$ gotten from a sample and determine the likelihood that the sample came from out known population, or a population with same mean as our known population. We do this using a z-score: \n",
    "<h3 align=\"center\">\n",
    "    <font size=\"5\">\n",
    "        $ z = \\frac{\\bar{X} - \\mu}{\\sigma}$\n",
    "    </font>\n",
    "</h3>\n",
    "\n",
    "### Central Limit Theorem:\n",
    "\n",
    "\n",
    "If $\\bar{X}$ is the mean of a random sample of size $n$ taken\n",
    "from a population with mean $\\mu$ and finite variance $\\sigma^2$, then the limiting form of\n",
    "the distribution of\n",
    "<h3 align=\"center\">\n",
    "    <font size=\"5\">\n",
    "        $ z = \\frac{\\bar{X} - \\mu}{\\frac{\\sigma}{\\sqrt{n}}}$\n",
    "    </font>\n",
    "</h3>\n",
    "\n",
    " as $\\lim_{n \\to \\infty}$, is the *standard normal distribution* \n",
    " \n",
    "The gotten _z-score_ tells us how many standard deviations our sample mean $\\bar{X}$ is from our population mean $\\mu$.\n",
    " \n",
    " The normal approximation for $\\bar{X}$ will generally be good if $n$ ≥ 30, provided the population distribution is not terribly skewed. If $n$ < 30, the approximation is good only if the population is not too different from a normal distribution and, as stated above, if the population is known to be normal, the sampling distribution of $\\bar{X}$ will follow a normal distribution exactly, no matter how small the size of the samples.\n",
    "\n",
    "\n",
    "So, for any sample with $n$ > 30, $\\bar{x}$ can be substituted for $\\mu$ and $s$ can be substituted for $\\sigma$\n",
    " \n",
    "This Z-test asunes that we have access to the population standard deviation and mean _or_ that $n$ is large enough (>30) for $s^2$ and $\\bar{x}$ to be used as a reliable estimate for $\\sigma^2$ and $\\mu$. When these conditions do not hold, and we do not have a large enough sample or sufficient population data, we need another estimator.  \n",
    " \n",
    "\n",
    "The __T-test__ is used when we are dealing with a population of unknown distribution, and would like to compare a given sample mean to one of three options: \n",
    "\n",
    "- **One Sample T-test:** The one sample t test compares the mean of your sample data to a known value. For example, you might want to know how your sample mean compares to the population mean, like our value of 120,000 for average mothly store revenue\n",
    "<h3 align=\"center\">\n",
    "    <font size=\"7\">\n",
    "        $ t = \\frac{\\bar{X} - \\mu}{\\frac{s}{\\sqrt{n}}}$\n",
    "    </font>\n",
    "    </h3> \n",
    "\n",
    "- **Independent Samples T-test:** The The independent samples t test (also called the unpaired samples t test) is the most common form of the T test. It helps you to compare the means of two sets of data. This would be useful if we wanted to compare revenues with a sample from a different store franchise than our own. \n",
    "<h3 align=\"center\">\n",
    "    <font size=\"7\">\n",
    "        $ t = \\frac{(\\bar{x_1}-\\bar{x_2})-(\\mu_1 - \\mu_2)}{\\sqrt{(s^2)_p[(1/n_1)+(1/n_2)]}}$\n",
    "    </font>\n",
    "    </h3> \n",
    "- **Paired Samples T-test:** A paired t test (also called a correlated pairs t-test, a paired samples t test or dependent samples t test) is where you run a t test on dependent samples. Dependent samples are essentially connected — they are tests on the same person or thing. This would be useful if we chose a random sample of stores and measured their mean revenues before and after implementation of the new marketing campaign as our two means. For ths test, new terms are used, $\\bar{d}$,  $\\delta$, and $s_d$. $\\bar{d}$ represents the average difference between $x_i1$ and $x_i2$, $s_d$ is the standard error of $\\bar{d}$, and  $\\delta$ is the hypothesized difference value being tested between the two means. It is usually 0.  \n",
    "<h3 align=\"center\">\n",
    "    <font size=\"10\">\n",
    "        $ t = \\frac{\\bar{d} - \\delta}{\\frac{s_d}{\\sqrt{n}}}$\n",
    "    </font>\n",
    "    </h3> \n",
    "    \n",
    "Where...\n",
    "<h3 align=\"center\">\n",
    "    <font size=\"3\">\n",
    "        $ \\bar{d} = \\sum_{i=1}^{n} d_i$\n",
    "    </font>\n",
    "    </h3> \n",
    "And...\n",
    "<h3 align=\"center\">\n",
    "    <font size=\"3\">\n",
    "        $ s_d = \\sqrt{\\frac{\\sum_{i=1}^{n} (d_i-\\bar{d})^2}{n-1}}$\n",
    "    </font>\n",
    "    </h3> \n",
    "\n",
    "<span style=\"color:red\">\n",
    "    <font size = \"5\">\n",
    "Progress as of 11/15\n",
    "        </span>\n",
    "    \n",
    "### T Distributions\n",
    "All of the t-distributions below are normal distributions. As the degrees of freedom increases past 30 or so, the distribution becomes the _standard normal distribution_, which has a standard deviation of 1 and mean of 0, and we use z-scores to analyze this. \n",
    "\n",
    "__The $t$ value tells us how many standard deviations away from the mean our sample sits on a $t$ distribution of the _differences_ of these two means, where the mean of the distribution is zero.__\n",
    "The t-distribution changes based on sample size, as increased sample size allows for higher _degrees of freedom_, which are defined for two samples as: \n",
    "\n",
    "- $df = (N_1 + N_2)  – 2$\n",
    "\n",
    "And for a single sample as: \n",
    "\n",
    "- $df = N - 1$\n"
   ]
  },
  {
   "cell_type": "code",
   "execution_count": null,
   "id": "539efb64",
   "metadata": {},
   "outputs": [],
   "source": [
    "\n",
    "import scipy.stats as stats\n",
    "import matplotlib.pyplot as plt\n",
    "\n",
    "fig, ax = plt.subplots(figsize=(15, 8))\n",
    "t_df = [1, 2, 3, 4, 5, 10, 20]\n",
    "for df in t_df:\n",
    "    x = np.linspace(t.ppf(0.01, 3), t.ppf(0.99, 3), 1000)\n",
    "    ax.plot(x, t.pdf(x, df), '-', lw=1, alpha=df/20,  label = \"df: \"+ str(df), color='k')\n",
    "x = np.linspace(t.ppf(0.01, 3), t.ppf(0.99, 3), 100)\n",
    "ax.plot(x, t.pdf(x, 1000), lw=3, alpha=1, color = 'r',  label='Standard Normal Distribution')\n",
    "plt.rcParams.update({\"font.size\": 15})\n",
    "ax.set_ylabel(\"Probability of t-score\")\n",
    "ax.set_xlabel(\"Standard Deviations away from mean( this varies as the distributions have different SD's)\")\n",
    "plt.title(\"T-distribution with varying degrees of freedom\")\n",
    "ax.set_xticklabels(labels = \"\")\n",
    "plt.legend()"
   ]
  },
  {
   "cell_type": "markdown",
   "id": "54ce4403",
   "metadata": {},
   "source": [
    "### T-distribution p-value\n",
    "\n",
    "As we can see, a lower sample size, and hence a lower degrees of freedom, leads to a lower probaility that our t-score is near 0 when our population means are the same, because more random variation is likely when the sample size is so low. The point of a t-score is to determine if the difference in the two means of the samples is too drastic for the true population means to be the same. As we approacch 30 with our degrees of freedom, the graph doesnt change much, and this is a standard normal distribution, which the z-score uses. That is why we use z-score for large sample sizes. \n",
    "\n",
    "Once we get our t-score based on the t-distribution, shown on the x-axis of the above graph, we get a corresponding __p-value__, shown on the y-axis. This value is the probability of our gotten t-value if the true means were the same. \n",
    "\n",
    "- If the corresponding p-value from our t-value is too low, we choose to __reject the null hypothesis $H_o$__, and say that our samples come from different populations who's means are different. This is a \"statistically significant\" result. \n",
    "\n",
    "\n",
    "- If the p-value is sufficiently high, we __fail to reject the null hypothesis $H_o$__, and say that there is a high enough chance that the samples came from populations with the same means. This is a \"statistically insignificant\" result. \n",
    "\n",
    "\n",
    "- The value at which a non-significant result becomes a significant one is called the __*critical value*__, denoted $\\alpha$, and is most commonly 0.05. For a two-tailed t-test, where we want to know if one sample is either significantly higher or lower than the other, we will choose to reject $H_o$ if our t-value falls within the outer 2.5% of our distribution(.025*2 = .05), which would result in a p-value of less thanm .05 for a two-tailed t-test. \n",
    "\n",
    "Let's return to our example of company starting salary to see if we can make an educated inference about whether or not one company actually has a higher starting salary than the other. "
   ]
  },
  {
   "cell_type": "code",
   "execution_count": null,
   "id": "ea8e76d3",
   "metadata": {},
   "outputs": [],
   "source": [
    "import pandas as pd\n",
    "\n",
    "# create dataframe to store randomly collected salary data\n",
    "salary_data = pd.DataFrame()\n",
    "a = salary_data[\"Company A\"] = [\n",
    "    100, 146, 138, 126, 125, 129, 110, 123, 155, 106\n",
    "]\n",
    "b = salary_data[\"Company B\"] = [\n",
    "    118, 145, 139, 118, 106, 121, 109, 106, 131, 139\n",
    "]\n",
    "salary_data"
   ]
  },
  {
   "cell_type": "code",
   "execution_count": null,
   "id": "afef8be1",
   "metadata": {},
   "outputs": [],
   "source": [
    "stats.ttest_ind(a, b, alternative=\"two-sided\")"
   ]
  },
  {
   "cell_type": "markdown",
   "id": "d23fcdcf",
   "metadata": {},
   "source": [
    "Our test gave us results of $t = 0.363$ and $p = 0.721$. \n",
    "\n",
    "\n",
    "This tells us: \n",
    "- This result was only 0.363 standard deviations from the mean of the t-distribution, which is very close. \n",
    "- There is a 0.721 probability that this result would occur if the true difference between the sample means was zero. This is very high and means that we fail to reject our null hypothesis that the mean salary of the two companies is probably the same or close to it. \n"
   ]
  },
  {
   "cell_type": "markdown",
   "id": "5f36cea4",
   "metadata": {},
   "source": [
    "# ANOVA "
   ]
  },
  {
   "cell_type": "code",
   "execution_count": null,
   "id": "4a8da99d",
   "metadata": {},
   "outputs": [],
   "source": []
  },
  {
   "cell_type": "code",
   "execution_count": null,
   "id": "c1a4fb65",
   "metadata": {},
   "outputs": [],
   "source": []
  },
  {
   "cell_type": "code",
   "execution_count": null,
   "id": "2b24bc48",
   "metadata": {},
   "outputs": [],
   "source": []
  },
  {
   "cell_type": "code",
   "execution_count": null,
   "id": "90e2121f",
   "metadata": {},
   "outputs": [],
   "source": []
  },
  {
   "cell_type": "code",
   "execution_count": null,
   "id": "13beed18",
   "metadata": {},
   "outputs": [],
   "source": []
  }
 ],
 "metadata": {
  "kernelspec": {
   "display_name": "Python 3 (ipykernel)",
   "language": "python",
   "name": "python3"
  },
  "language_info": {
   "codemirror_mode": {
    "name": "ipython",
    "version": 3
   },
   "file_extension": ".py",
   "mimetype": "text/x-python",
   "name": "python",
   "nbconvert_exporter": "python",
   "pygments_lexer": "ipython3",
   "version": "3.9.12"
  }
 },
 "nbformat": 4,
 "nbformat_minor": 5
}
