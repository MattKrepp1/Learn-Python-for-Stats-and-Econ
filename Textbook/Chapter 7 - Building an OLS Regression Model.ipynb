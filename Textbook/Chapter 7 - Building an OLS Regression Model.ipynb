{
 "cells": [
  {
   "cell_type": "markdown",
   "metadata": {
    "hideCode": false,
    "hidePrompt": false
   },
   "source": [
    "# Chapter 7: Building an OLS Regression Model\n",
    "\n",
    "Having built statistics functions, we are now ready to build a function for regression analysis. We will start by building the an regression. We will use linear algebra to estimate parameters that minimize the sum of the squared errors. This is an ordinary least squares regression. \n",
    "\n",
    "An OLS regression with one exogenous variable takes the form. \n",
    "\n",
    "$y = \\alpha + \\beta_1x_1 + \\mu $\n",
    "\n",
    "$\\beta_0 = \\alpha + \\mu$\n",
    "\n",
    "We merge the error term, which represents bias in the data, with alpha to yield the constant, $\\beta_0$. This is necessary since OLS assumes an unbiased estimator where:\n",
    "\n",
    "$\\sum_{i=0}^{n-1} e_{i}=0$\n",
    "\n",
    "Each estimate of a point created from a particular observation takes the form.\n",
    "\n",
    "$y_i = \\beta_0 + \\beta_1x_{1,i} + e_i$\n",
    "\n",
    "This can be generalized to include k exogenous variables:\n",
    "\n",
    "$y_i = \\beta_0 + (\\sum_{j=1}^{k} \\beta_jx_{i,j}) + e_i$\n",
    "\n",
    "Ideally, we want to form a prediction where, on average, the right-hand side of the equation  yields the correct value on the left-hand side. When we perform an OLS regression, we form a predictor that minimizes the sum of the distance between each predicted value and the observed value drawn from the data. For example, if the prediction for a particular value of y is 8, and the actual value is 10, the error of the prediction is -2 and the squared error is 4.\n",
    "\n",
    "To find the function that minimizes the sum squared errors, we will use matrix algebra, also known as linear algebra. For those unfamiliar, the next section uses the numpy library to perform matrix operations. For clarity, we will review the linear algebra functions that we will use with simple examples.\n",
    "\n",
    "## Linear Algebra for OLS\n",
    "\n",
    "We solve the following function for a vector of beta values ($\\beta$), constants whose values represent estimates of the effect of variables in the set **_X_** on the selected endogenously generate variable $y$. The matrix **_X_** also includes a vector of ones used to estimate the constant $\\beta_0$.\n",
    "\n",
    "$\\beta = (X'X)^{-1}X'Y$\n",
    "\n",
    "$Y =$ Observations for Endogenous Variable\n",
    "\n",
    "$X =$ Observations for Exogenous Variables\n",
    "\n",
    "$X' =$ $X$-transpose\n",
    "\n",
    "$(X'X)^{-1} =$ Inverse of $X'X$\n",
    "\n",
    "### Inverting a Matrix\n",
    "\n",
    "In reviewing the linear equation for estimating $\\beta$, we confront two unique operations worth understanding. Included in these are some key concepts in linear algebra, including the identity matrix $I$ and linear independence. The best way to understand these concepts is by working with some sample vectors. Consider the matrix $X$ consisting of vectors $x_0$,$x_1$,…,$x_{n-1}$,$x_n$. We must check that these vectors are linearly independent. We do this by joining $X$ with an identity matrix and thus create:\n",
    "\n",
    "$A = [XI]$\n",
    "\n",
    "We transform this to show that the product of $A$ and $X^{-1}$ is equal to the product of and an identity matrix, $I$ and $X^{-1}$\n",
    "\n",
    "$AX^{-1} = [XI]X^{-1}$\n",
    "\n",
    "$AX^{-1} = [IX^{-1}]$\n",
    "\n",
    "Let us solve for $AX^{-1}$ using the following vectors for $X$. \n",
    "\n",
    "$\\begin{equation*}\n",
    "X = \\begin{bmatrix}\n",
    "1 & 2 & 1 \\\\\n",
    "4 & 1 & 5 \\\\\n",
    "6 & 8 & 6\n",
    "\\end{bmatrix}\n",
    "\\end{equation*}$\n",
    "\n",
    "Concatenate a 3 X 3 identity matrix on the left of $X$:\n",
    "\n",
    "$\\begin{equation*}\n",
    "I = \\begin{bmatrix}\n",
    "1 & 0 & 0 \\\\\n",
    "0 & 1 & 0 \\\\\n",
    "0 & 0 & 1\n",
    "\\end{bmatrix}\n",
    "\\end{equation*}$\n",
    "\n",
    "$\\begin{equation*}\n",
    "[XI] = \\begin{bmatrix}\n",
    "1 & 2 & 1 & 1 & 0 & 0 \\\\\n",
    "4 & 1 & 5 & 0 & 1 & 0 \\\\\n",
    "6 & 8 & 6 & 0 & 0 & 1\n",
    "\\end{bmatrix}\n",
    "\\end{equation*}$\n",
    "\n",
    "If we perform row operations on $A$ to transform $X$ in $[XI]$ into $I$, then we $I$ will be transformed into $X^{-1}$:\n",
    "\n",
    "$\\begin{equation*}\n",
    "[XI] = \\begin{bmatrix}\n",
    "1 & 2 & 1 & 1 & 0 & 0 \\\\\n",
    "4 & 1 & 5 & 0 & 1 & 0 \\\\\n",
    "6 & 8 & 6 & 0 & 0 & 1\n",
    "\\end{bmatrix}\n",
    "\\end{equation*}$\n",
    "\n",
    "\n",
    "\n",
    "\n",
    "$\\begin{equation*}\n",
    "r_2 - 4r_1:\\begin{bmatrix}\n",
    "1 & 2 & 1 & 1 & 0 & 0 \\\\\n",
    "0 & -7 & 1 & -4 & 1 & 0 \\\\\n",
    "6 & 8 & 6 & 0 & 0 & 1\n",
    "\\end{bmatrix}\n",
    "\\end{equation*}$\n",
    "\n",
    "\n",
    "$\\begin{equation*}\n",
    "r_3 - 6r_1:\\begin{bmatrix}\n",
    "1 & 2 & 1 & 1 & 0 & 0 \\\\\n",
    "0 & -7 & 1 & -4 & 1 & 0 \\\\\n",
    "0 & -4 & 0 & -6 & 0 & 1\n",
    "\\end{bmatrix}\n",
    "\\end{equation*}$\n",
    "\n",
    "\n",
    "$\\begin{equation*}\n",
    "r_2 \\leftrightarrow r_3:\\begin{bmatrix}\n",
    "1 & 2 & 1 & 1 & 0 & 0 \\\\\n",
    "0 & -4 & 0 & -6 & 0 & 1\\\\\n",
    "0 & -7 & 1 & -4 & 1 & 0 \n",
    "\\end{bmatrix}\n",
    "\\end{equation*}$\n",
    "\n",
    "$\\begin{equation*}\n",
    "r_2/{-4}:\\begin{bmatrix}\n",
    "1 & 2 & 1 & 1 & 0 & 0 \\\\\n",
    "0 & 1 & 0 & 3/2 & 0 & -1/4\\\\\n",
    "0 & -7 & 1 & -4 & 1 & 0 \n",
    "\\end{bmatrix}\n",
    "\\end{equation*}$\n",
    "\n",
    "$\\begin{equation*}\n",
    "r_3 + 7r_2:\\begin{bmatrix}\n",
    "1 & 2 & 1 & 1 & 0 & 0 \\\\\n",
    "0 & 1 & 0 & 3/2 & 0 & -1/4\\\\\n",
    "0 & 0 & 1 & 13/2 & 1 & -7/4 \n",
    "\\end{bmatrix}\n",
    "\\end{equation*}$\n",
    "\n",
    "$\\begin{equation*}\n",
    "r_1 + -2r_2 - r_3:\\begin{bmatrix}\n",
    "1 & 0 & 0 & -17/2 & -1 & 9/4 \\\\\n",
    "0 & 1 & 0 & 3/2 & 0 & -1/4\\\\\n",
    "0 & 0 & 1 & 13/2 & 1 & -7/4 \n",
    "\\end{bmatrix}\n",
    "\\end{equation*}$\n",
    "\n",
    "$\\begin{equation*}\n",
    "IX^{-1}=\\begin{bmatrix}\n",
    "1 & 0 & 0 & -8.5 & -1 & 2.25 \\\\\n",
    "0 & 1 & 0 & 1.5 & 0 & -0.25\\\\\n",
    "0 & 0 & 1 & 6.5 & 1 & -1.75 \n",
    "\\end{bmatrix}\n",
    "\\end{equation*}$\n",
    "\n",
    "$\\begin{equation*}\n",
    "X^{-1}=\\begin{bmatrix}\n",
    "-8.5 & -1 & 2.25 \\\\\n",
    "1.5 & 0 & -0.25\\\\\n",
    "6.5 & 1 & -1.75 \n",
    "\\end{bmatrix}\n",
    "\\end{equation*}$\n",
    "\n",
    "By transforming $X$ in matrix $XI$ into an identity matrix, we transform the $I$ matrix into $X^{-1}$. This also confirms that the vectors comprising X are independent, meaning that one vector in the set comprising $X$ cannot be formed from the combination and or transformation of the others. A fundamental assumption of regression analysis is that data generated from factors believed to determine the y-values are independent of one another.\n",
    "\n",
    "### Linear Algebra in _numpy_\n",
    "\n",
    "We can check this using linear algebra functions in numpy. We start by creating numpy arrays that we will transform into vectors in the second step. "
   ]
  },
  {
   "cell_type": "code",
   "execution_count": 1,
   "metadata": {
    "hideCode": false,
    "hidePrompt": false
   },
   "outputs": [
    {
     "name": "stdout",
     "output_type": "stream",
     "text": [
      "Array 1:\n",
      "[1 2 1]\n",
      "Array 2:\n",
      "[4 1 5]\n",
      "Array 3:\n",
      "[6 8 6]\n"
     ]
    }
   ],
   "source": [
    "#invertMatrix.py\n",
    "import numpy as np\n",
    "# create array to be transformed into vectors\n",
    "x1 = np.array([1,2,1])\n",
    "x2 = np.array([4,1,5])\n",
    "x3 = np.array([6,8,6])\n",
    "print(\"Array 1:\", x1, sep=\"\\n\")\n",
    "print(\"Array 2:\", x2, sep=\"\\n\")\n",
    "print(\"Array 3:\", x3, sep=\"\\n\")"
   ]
  },
  {
   "cell_type": "markdown",
   "metadata": {
    "hideCode": false,
    "hidePrompt": false
   },
   "source": [
    "Next, transform these arrays into row vectors using _matrix()_."
   ]
  },
  {
   "cell_type": "code",
   "execution_count": 2,
   "metadata": {
    "hideCode": false,
    "hidePrompt": false
   },
   "outputs": [
    {
     "name": "stdout",
     "output_type": "stream",
     "text": [
      "Vector 1\n",
      "[[1 2 1]]\n",
      "Vector 2\n",
      "[[4 1 5]]\n",
      "Vector 3\n",
      "[[6 8 6]]\n"
     ]
    }
   ],
   "source": [
    "x1 = np.matrix(x1)\n",
    "x2 = np.matrix(x2)\n",
    "x3 = np.matrix(x3)\n",
    "print(\"Vector 1\", x1, sep=\"\\n\")\n",
    "print(\"Vector 2\", x2, sep=\"\\n\")\n",
    "print(\"Vector 3\", x3, sep=\"\\n\")"
   ]
  },
  {
   "cell_type": "markdown",
   "metadata": {
    "hideCode": false,
    "hidePrompt": false
   },
   "source": [
    "Join them using the _concatenate()_ function. We define _axis=0_ to stack each row on upon the next:"
   ]
  },
  {
   "cell_type": "code",
   "execution_count": 3,
   "metadata": {
    "hideCode": false,
    "hidePrompt": false
   },
   "outputs": [
    {
     "name": "stdout",
     "output_type": "stream",
     "text": [
      "X:\n",
      "[[1 2 1]\n",
      " [4 1 5]\n",
      " [6 8 6]]\n"
     ]
    }
   ],
   "source": [
    "X = np.concatenate((x1, x2, x3), axis = 0)\n",
    "print(\"X:\", X, sep=\"\\n\")"
   ]
  },
  {
   "cell_type": "markdown",
   "metadata": {
    "hideCode": false,
    "hidePrompt": false
   },
   "source": [
    "Finally, we can invert the matrix that we have made using _.getI()_."
   ]
  },
  {
   "cell_type": "code",
   "execution_count": 4,
   "metadata": {
    "hideCode": false,
    "hidePrompt": false
   },
   "outputs": [
    {
     "name": "stdout",
     "output_type": "stream",
     "text": [
      "X Inverse:\n",
      "[[-8.5000000e+00 -1.0000000e+00  2.2500000e+00]\n",
      " [ 1.5000000e+00 -7.6861594e-17 -2.5000000e-01]\n",
      " [ 6.5000000e+00  1.0000000e+00 -1.7500000e+00]]\n"
     ]
    }
   ],
   "source": [
    "X_inverse = X.getI()\n",
    "print(\"X Inverse:\", X_inverse, sep = \"\\n\")"
   ]
  },
  {
   "cell_type": "markdown",
   "metadata": {
    "hideCode": false,
    "hidePrompt": false
   },
   "source": [
    "These values are not rounded, so interpretation of the inverted matrix could be more intuitive. We use the _round()_ method from the _numpy_ module to round values to two places."
   ]
  },
  {
   "cell_type": "code",
   "execution_count": 5,
   "metadata": {
    "hideCode": false,
    "hidePrompt": false
   },
   "outputs": [
    {
     "name": "stdout",
     "output_type": "stream",
     "text": [
      "X Inverse:\n",
      "[[-8.5  -1.    2.25]\n",
      " [ 1.5  -0.   -0.25]\n",
      " [ 6.5   1.   -1.75]]\n"
     ]
    }
   ],
   "source": [
    "X_inverse = np.round(X.getI(), 2)\n",
    "print(\"X Inverse:\", X_inverse, sep = \"\\n\")"
   ]
  },
  {
   "cell_type": "markdown",
   "metadata": {
    "hideCode": false,
    "hidePrompt": false
   },
   "source": [
    "## Building a Regression Function\n",
    "\n",
    "Now that we have learned the necessary operations, we can create a regression function. Recall that we estimate the vector of beta parameters for each variable with the equation:\n",
    "\n",
    "$\\beta = (X'X)^{-1}X'Y$\n",
    "\n",
    "In order to estimate the parameters, we will need to import data, define the dependent variable and independent variables, and transform these into matrix objects. We will use one py file to write a regression function and another to write the script that calls the regression function. Let’s start by importing the data that we saved in the previous chapter."
   ]
  },
  {
   "cell_type": "code",
   "execution_count": 6,
   "metadata": {
    "hideCode": false,
    "hidePrompt": false
   },
   "outputs": [],
   "source": [
    "#econFreedomRegression.py\n",
    "import pandas as pd\n",
    "\n",
    "# We will create this file in chapter 8. If you don't want to work ahead,\n",
    "# Just download it from the repository\n",
    "data = pd.read_csv(\"fraserDataWithRGDPPC.csv\", index_col = [0,1], parse_dates = True)"
   ]
  },
  {
   "cell_type": "markdown",
   "metadata": {
    "hideCode": false,
    "hidePrompt": false
   },
   "source": [
    "After importing the data, we print it to be sure that we have imported correctly. The first part of the results should match the output below. \n",
    "\n",
    "In the console, enter:"
   ]
  },
  {
   "cell_type": "code",
   "execution_count": 7,
   "metadata": {},
   "outputs": [
    {
     "data": {
      "text/html": [
       "<div>\n",
       "<style scoped>\n",
       "    .dataframe tbody tr th:only-of-type {\n",
       "        vertical-align: middle;\n",
       "    }\n",
       "\n",
       "    .dataframe tbody tr th {\n",
       "        vertical-align: top;\n",
       "    }\n",
       "\n",
       "    .dataframe thead th {\n",
       "        text-align: right;\n",
       "    }\n",
       "</style>\n",
       "<table border=\"1\" class=\"dataframe\">\n",
       "  <thead>\n",
       "    <tr style=\"text-align: right;\">\n",
       "      <th></th>\n",
       "      <th></th>\n",
       "      <th>EFW</th>\n",
       "      <th>Size of Government</th>\n",
       "      <th>Legal System &amp; Property Rights</th>\n",
       "      <th>Sound Money</th>\n",
       "      <th>Freedom to trade internationally</th>\n",
       "      <th>Regulation</th>\n",
       "      <th>RGDP Per Capita</th>\n",
       "    </tr>\n",
       "    <tr>\n",
       "      <th>ISO_Code</th>\n",
       "      <th>Year</th>\n",
       "      <th></th>\n",
       "      <th></th>\n",
       "      <th></th>\n",
       "      <th></th>\n",
       "      <th></th>\n",
       "      <th></th>\n",
       "      <th></th>\n",
       "    </tr>\n",
       "  </thead>\n",
       "  <tbody>\n",
       "    <tr>\n",
       "      <th rowspan=\"5\" valign=\"top\">ALB</th>\n",
       "      <th>2017-01-01</th>\n",
       "      <td>7.673511</td>\n",
       "      <td>7.528167</td>\n",
       "      <td>5.064907</td>\n",
       "      <td>9.648271</td>\n",
       "      <td>8.343863</td>\n",
       "      <td>7.782349</td>\n",
       "      <td>NaN</td>\n",
       "    </tr>\n",
       "    <tr>\n",
       "      <th>2016-01-01</th>\n",
       "      <td>7.637742</td>\n",
       "      <td>7.875862</td>\n",
       "      <td>5.071814</td>\n",
       "      <td>9.553657</td>\n",
       "      <td>8.214900</td>\n",
       "      <td>7.472476</td>\n",
       "      <td>11285.0</td>\n",
       "    </tr>\n",
       "    <tr>\n",
       "      <th>2015-01-01</th>\n",
       "      <td>7.639666</td>\n",
       "      <td>7.904257</td>\n",
       "      <td>5.003489</td>\n",
       "      <td>9.585625</td>\n",
       "      <td>8.109118</td>\n",
       "      <td>7.595838</td>\n",
       "      <td>10947.0</td>\n",
       "    </tr>\n",
       "    <tr>\n",
       "      <th>2014-01-01</th>\n",
       "      <td>7.586769</td>\n",
       "      <td>7.882037</td>\n",
       "      <td>4.666740</td>\n",
       "      <td>9.629320</td>\n",
       "      <td>8.208630</td>\n",
       "      <td>7.547119</td>\n",
       "      <td>10703.0</td>\n",
       "    </tr>\n",
       "    <tr>\n",
       "      <th>2013-01-01</th>\n",
       "      <td>7.389525</td>\n",
       "      <td>7.807904</td>\n",
       "      <td>4.543782</td>\n",
       "      <td>9.690942</td>\n",
       "      <td>7.705771</td>\n",
       "      <td>7.199224</td>\n",
       "      <td>10138.0</td>\n",
       "    </tr>\n",
       "    <tr>\n",
       "      <th>...</th>\n",
       "      <th>...</th>\n",
       "      <td>...</td>\n",
       "      <td>...</td>\n",
       "      <td>...</td>\n",
       "      <td>...</td>\n",
       "      <td>...</td>\n",
       "      <td>...</td>\n",
       "      <td>...</td>\n",
       "    </tr>\n",
       "    <tr>\n",
       "      <th rowspan=\"5\" valign=\"top\">ZWE</th>\n",
       "      <th>2000-01-01</th>\n",
       "      <td>4.299839</td>\n",
       "      <td>5.365058</td>\n",
       "      <td>4.662445</td>\n",
       "      <td>2.891166</td>\n",
       "      <td>3.224735</td>\n",
       "      <td>5.355792</td>\n",
       "      <td>2696.0</td>\n",
       "    </tr>\n",
       "    <tr>\n",
       "      <th>1995-01-01</th>\n",
       "      <td>5.518614</td>\n",
       "      <td>6.418859</td>\n",
       "      <td>5.138131</td>\n",
       "      <td>4.915293</td>\n",
       "      <td>5.839664</td>\n",
       "      <td>5.423290</td>\n",
       "      <td>2841.0</td>\n",
       "    </tr>\n",
       "    <tr>\n",
       "      <th>1990-01-01</th>\n",
       "      <td>4.516140</td>\n",
       "      <td>5.108843</td>\n",
       "      <td>3.439437</td>\n",
       "      <td>5.664840</td>\n",
       "      <td>4.689623</td>\n",
       "      <td>3.953668</td>\n",
       "      <td>3265.0</td>\n",
       "    </tr>\n",
       "    <tr>\n",
       "      <th>1985-01-01</th>\n",
       "      <td>4.226841</td>\n",
       "      <td>5.026250</td>\n",
       "      <td>2.633492</td>\n",
       "      <td>6.305850</td>\n",
       "      <td>3.161743</td>\n",
       "      <td>4.207229</td>\n",
       "      <td>3615.0</td>\n",
       "    </tr>\n",
       "    <tr>\n",
       "      <th>1980-01-01</th>\n",
       "      <td>4.054740</td>\n",
       "      <td>6.322625</td>\n",
       "      <td>1.379602</td>\n",
       "      <td>6.343342</td>\n",
       "      <td>3.277015</td>\n",
       "      <td>3.280637</td>\n",
       "      <td>4003.0</td>\n",
       "    </tr>\n",
       "  </tbody>\n",
       "</table>\n",
       "<p>3030 rows × 7 columns</p>\n",
       "</div>"
      ],
      "text/plain": [
       "                          EFW  Size of Government  \\\n",
       "ISO_Code Year                                       \n",
       "ALB      2017-01-01  7.673511            7.528167   \n",
       "         2016-01-01  7.637742            7.875862   \n",
       "         2015-01-01  7.639666            7.904257   \n",
       "         2014-01-01  7.586769            7.882037   \n",
       "         2013-01-01  7.389525            7.807904   \n",
       "...                       ...                 ...   \n",
       "ZWE      2000-01-01  4.299839            5.365058   \n",
       "         1995-01-01  5.518614            6.418859   \n",
       "         1990-01-01  4.516140            5.108843   \n",
       "         1985-01-01  4.226841            5.026250   \n",
       "         1980-01-01  4.054740            6.322625   \n",
       "\n",
       "                     Legal System & Property Rights  Sound Money  \\\n",
       "ISO_Code Year                                                      \n",
       "ALB      2017-01-01                        5.064907     9.648271   \n",
       "         2016-01-01                        5.071814     9.553657   \n",
       "         2015-01-01                        5.003489     9.585625   \n",
       "         2014-01-01                        4.666740     9.629320   \n",
       "         2013-01-01                        4.543782     9.690942   \n",
       "...                                             ...          ...   \n",
       "ZWE      2000-01-01                        4.662445     2.891166   \n",
       "         1995-01-01                        5.138131     4.915293   \n",
       "         1990-01-01                        3.439437     5.664840   \n",
       "         1985-01-01                        2.633492     6.305850   \n",
       "         1980-01-01                        1.379602     6.343342   \n",
       "\n",
       "                     Freedom to trade internationally  Regulation  \\\n",
       "ISO_Code Year                                                       \n",
       "ALB      2017-01-01                          8.343863    7.782349   \n",
       "         2016-01-01                          8.214900    7.472476   \n",
       "         2015-01-01                          8.109118    7.595838   \n",
       "         2014-01-01                          8.208630    7.547119   \n",
       "         2013-01-01                          7.705771    7.199224   \n",
       "...                                               ...         ...   \n",
       "ZWE      2000-01-01                          3.224735    5.355792   \n",
       "         1995-01-01                          5.839664    5.423290   \n",
       "         1990-01-01                          4.689623    3.953668   \n",
       "         1985-01-01                          3.161743    4.207229   \n",
       "         1980-01-01                          3.277015    3.280637   \n",
       "\n",
       "                     RGDP Per Capita  \n",
       "ISO_Code Year                         \n",
       "ALB      2017-01-01              NaN  \n",
       "         2016-01-01          11285.0  \n",
       "         2015-01-01          10947.0  \n",
       "         2014-01-01          10703.0  \n",
       "         2013-01-01          10138.0  \n",
       "...                              ...  \n",
       "ZWE      2000-01-01           2696.0  \n",
       "         1995-01-01           2841.0  \n",
       "         1990-01-01           3265.0  \n",
       "         1985-01-01           3615.0  \n",
       "         1980-01-01           4003.0  \n",
       "\n",
       "[3030 rows x 7 columns]"
      ]
     },
     "execution_count": 7,
     "metadata": {},
     "output_type": "execute_result"
    }
   ],
   "source": [
    "data"
   ]
  },
  {
   "cell_type": "markdown",
   "metadata": {},
   "source": [
    "We are interested in understanding the impact of economic freedom on real income growth. Real GDP per capita for any country is serially correlated across time, so we will want to remove the trend by using the growth rate of real GDP per capita. The growth rate is also autocorrelated so we will want to include a lag term."
   ]
  },
  {
   "cell_type": "markdown",
   "metadata": {},
   "source": [
    "We will also take the difference of the index measures to understand how a _change_ in a measure of economic freedom marginally adjusts the growth rate of income upward or downward. To account for this, we will difference the data we have imported. Then, we will calculate the growth rate of real GDP per capita.\n",
    "\n",
    "First, for each country we will need to include all dates with observations in the full data set even if there are no observations for that country. This will allows us to make sure that a difference is not taken between to non-consecutive years."
   ]
  },
  {
   "cell_type": "code",
   "execution_count": 8,
   "metadata": {
    "hideCode": false,
    "hidePrompt": false
   },
   "outputs": [],
   "source": [
    "years = np.array(sorted(list(set(data.index.get_level_values(\"Year\")))))\n",
    "years = pd.date_range(years[0], years[-2], freq = \"AS\")\n",
    "countries = sorted(list(set(data.index.get_level_values(\"ISO_Code\"))))\n",
    "index_names = list(data.index.names)\n",
    "multi_index = pd.MultiIndex.from_product([countries, years[:-1]], names = data.index.names)\n",
    "data = data.reindex(multi_index)\n",
    "\n",
    "data[\"RGDP Per Capita Lag\"] = data.groupby(\"ISO_Code\")[\"RGDP Per Capita\"].shift()"
   ]
  },
  {
   "cell_type": "markdown",
   "metadata": {},
   "source": [
    "Next, difference the data and then calculate the real GDP growth rate for each country"
   ]
  },
  {
   "cell_type": "code",
   "execution_count": 9,
   "metadata": {},
   "outputs": [
    {
     "data": {
      "text/html": [
       "<div>\n",
       "<style scoped>\n",
       "    .dataframe tbody tr th:only-of-type {\n",
       "        vertical-align: middle;\n",
       "    }\n",
       "\n",
       "    .dataframe tbody tr th {\n",
       "        vertical-align: top;\n",
       "    }\n",
       "\n",
       "    .dataframe thead th {\n",
       "        text-align: right;\n",
       "    }\n",
       "</style>\n",
       "<table border=\"1\" class=\"dataframe\">\n",
       "  <thead>\n",
       "    <tr style=\"text-align: right;\">\n",
       "      <th></th>\n",
       "      <th></th>\n",
       "      <th>EFW</th>\n",
       "      <th>Size of Government</th>\n",
       "      <th>Legal System &amp; Property Rights</th>\n",
       "      <th>Sound Money</th>\n",
       "      <th>Freedom to trade internationally</th>\n",
       "      <th>Regulation</th>\n",
       "      <th>RGDP Per Capita</th>\n",
       "      <th>RGDP Per Capita Lag</th>\n",
       "    </tr>\n",
       "    <tr>\n",
       "      <th>ISO_Code</th>\n",
       "      <th>Year</th>\n",
       "      <th></th>\n",
       "      <th></th>\n",
       "      <th></th>\n",
       "      <th></th>\n",
       "      <th></th>\n",
       "      <th></th>\n",
       "      <th></th>\n",
       "      <th></th>\n",
       "    </tr>\n",
       "  </thead>\n",
       "  <tbody>\n",
       "    <tr>\n",
       "      <th rowspan=\"5\" valign=\"top\">AGO</th>\n",
       "      <th>1970-01-01</th>\n",
       "      <td>NaN</td>\n",
       "      <td>NaN</td>\n",
       "      <td>NaN</td>\n",
       "      <td>NaN</td>\n",
       "      <td>NaN</td>\n",
       "      <td>NaN</td>\n",
       "      <td>NaN</td>\n",
       "      <td>NaN</td>\n",
       "    </tr>\n",
       "    <tr>\n",
       "      <th>1971-01-01</th>\n",
       "      <td>NaN</td>\n",
       "      <td>NaN</td>\n",
       "      <td>NaN</td>\n",
       "      <td>NaN</td>\n",
       "      <td>NaN</td>\n",
       "      <td>NaN</td>\n",
       "      <td>NaN</td>\n",
       "      <td>NaN</td>\n",
       "    </tr>\n",
       "    <tr>\n",
       "      <th>1972-01-01</th>\n",
       "      <td>NaN</td>\n",
       "      <td>NaN</td>\n",
       "      <td>NaN</td>\n",
       "      <td>NaN</td>\n",
       "      <td>NaN</td>\n",
       "      <td>NaN</td>\n",
       "      <td>NaN</td>\n",
       "      <td>NaN</td>\n",
       "    </tr>\n",
       "    <tr>\n",
       "      <th>1973-01-01</th>\n",
       "      <td>NaN</td>\n",
       "      <td>NaN</td>\n",
       "      <td>NaN</td>\n",
       "      <td>NaN</td>\n",
       "      <td>NaN</td>\n",
       "      <td>NaN</td>\n",
       "      <td>NaN</td>\n",
       "      <td>NaN</td>\n",
       "    </tr>\n",
       "    <tr>\n",
       "      <th>1974-01-01</th>\n",
       "      <td>NaN</td>\n",
       "      <td>NaN</td>\n",
       "      <td>NaN</td>\n",
       "      <td>NaN</td>\n",
       "      <td>NaN</td>\n",
       "      <td>NaN</td>\n",
       "      <td>NaN</td>\n",
       "      <td>NaN</td>\n",
       "    </tr>\n",
       "    <tr>\n",
       "      <th>...</th>\n",
       "      <th>...</th>\n",
       "      <td>...</td>\n",
       "      <td>...</td>\n",
       "      <td>...</td>\n",
       "      <td>...</td>\n",
       "      <td>...</td>\n",
       "      <td>...</td>\n",
       "      <td>...</td>\n",
       "      <td>...</td>\n",
       "    </tr>\n",
       "    <tr>\n",
       "      <th rowspan=\"5\" valign=\"top\">ZWE</th>\n",
       "      <th>2011-01-01</th>\n",
       "      <td>0.468524</td>\n",
       "      <td>-0.089482</td>\n",
       "      <td>0.117425</td>\n",
       "      <td>2.137198</td>\n",
       "      <td>0.458951</td>\n",
       "      <td>-0.281474</td>\n",
       "      <td>0.063158</td>\n",
       "      <td>0.072235</td>\n",
       "    </tr>\n",
       "    <tr>\n",
       "      <th>2012-01-01</th>\n",
       "      <td>0.127751</td>\n",
       "      <td>0.245839</td>\n",
       "      <td>0.069279</td>\n",
       "      <td>1.269544</td>\n",
       "      <td>-0.234468</td>\n",
       "      <td>-0.711440</td>\n",
       "      <td>0.071287</td>\n",
       "      <td>0.063158</td>\n",
       "    </tr>\n",
       "    <tr>\n",
       "      <th>2013-01-01</th>\n",
       "      <td>0.275532</td>\n",
       "      <td>-0.345364</td>\n",
       "      <td>-0.437177</td>\n",
       "      <td>1.516788</td>\n",
       "      <td>0.456781</td>\n",
       "      <td>0.186630</td>\n",
       "      <td>0.109673</td>\n",
       "      <td>0.071287</td>\n",
       "    </tr>\n",
       "    <tr>\n",
       "      <th>2014-01-01</th>\n",
       "      <td>0.335754</td>\n",
       "      <td>0.108060</td>\n",
       "      <td>0.039756</td>\n",
       "      <td>1.071268</td>\n",
       "      <td>0.320035</td>\n",
       "      <td>0.139653</td>\n",
       "      <td>-0.002221</td>\n",
       "      <td>0.109673</td>\n",
       "    </tr>\n",
       "    <tr>\n",
       "      <th>2015-01-01</th>\n",
       "      <td>0.562852</td>\n",
       "      <td>-0.030393</td>\n",
       "      <td>0.204776</td>\n",
       "      <td>0.213380</td>\n",
       "      <td>-0.229403</td>\n",
       "      <td>2.655899</td>\n",
       "      <td>-0.021146</td>\n",
       "      <td>-0.002221</td>\n",
       "    </tr>\n",
       "  </tbody>\n",
       "</table>\n",
       "<p>7452 rows × 8 columns</p>\n",
       "</div>"
      ],
      "text/plain": [
       "                          EFW  Size of Government  \\\n",
       "ISO_Code Year                                       \n",
       "AGO      1970-01-01       NaN                 NaN   \n",
       "         1971-01-01       NaN                 NaN   \n",
       "         1972-01-01       NaN                 NaN   \n",
       "         1973-01-01       NaN                 NaN   \n",
       "         1974-01-01       NaN                 NaN   \n",
       "...                       ...                 ...   \n",
       "ZWE      2011-01-01  0.468524           -0.089482   \n",
       "         2012-01-01  0.127751            0.245839   \n",
       "         2013-01-01  0.275532           -0.345364   \n",
       "         2014-01-01  0.335754            0.108060   \n",
       "         2015-01-01  0.562852           -0.030393   \n",
       "\n",
       "                     Legal System & Property Rights  Sound Money  \\\n",
       "ISO_Code Year                                                      \n",
       "AGO      1970-01-01                             NaN          NaN   \n",
       "         1971-01-01                             NaN          NaN   \n",
       "         1972-01-01                             NaN          NaN   \n",
       "         1973-01-01                             NaN          NaN   \n",
       "         1974-01-01                             NaN          NaN   \n",
       "...                                             ...          ...   \n",
       "ZWE      2011-01-01                        0.117425     2.137198   \n",
       "         2012-01-01                        0.069279     1.269544   \n",
       "         2013-01-01                       -0.437177     1.516788   \n",
       "         2014-01-01                        0.039756     1.071268   \n",
       "         2015-01-01                        0.204776     0.213380   \n",
       "\n",
       "                     Freedom to trade internationally  Regulation  \\\n",
       "ISO_Code Year                                                       \n",
       "AGO      1970-01-01                               NaN         NaN   \n",
       "         1971-01-01                               NaN         NaN   \n",
       "         1972-01-01                               NaN         NaN   \n",
       "         1973-01-01                               NaN         NaN   \n",
       "         1974-01-01                               NaN         NaN   \n",
       "...                                               ...         ...   \n",
       "ZWE      2011-01-01                          0.458951   -0.281474   \n",
       "         2012-01-01                         -0.234468   -0.711440   \n",
       "         2013-01-01                          0.456781    0.186630   \n",
       "         2014-01-01                          0.320035    0.139653   \n",
       "         2015-01-01                         -0.229403    2.655899   \n",
       "\n",
       "                     RGDP Per Capita  RGDP Per Capita Lag  \n",
       "ISO_Code Year                                              \n",
       "AGO      1970-01-01              NaN                  NaN  \n",
       "         1971-01-01              NaN                  NaN  \n",
       "         1972-01-01              NaN                  NaN  \n",
       "         1973-01-01              NaN                  NaN  \n",
       "         1974-01-01              NaN                  NaN  \n",
       "...                              ...                  ...  \n",
       "ZWE      2011-01-01         0.063158             0.072235  \n",
       "         2012-01-01         0.071287             0.063158  \n",
       "         2013-01-01         0.109673             0.071287  \n",
       "         2014-01-01        -0.002221             0.109673  \n",
       "         2015-01-01        -0.021146            -0.002221  \n",
       "\n",
       "[7452 rows x 8 columns]"
      ]
     },
     "execution_count": 9,
     "metadata": {},
     "output_type": "execute_result"
    }
   ],
   "source": [
    "diff_data = data.groupby(\"ISO_Code\").diff()\n",
    "diff_data[\"RGDP Per Capita\"] = data.groupby(\n",
    "    \"ISO_Code\")[\"RGDP Per Capita\"].pct_change().replace(to_replace=0,value = np.nan)\n",
    "diff_data[\"RGDP Per Capita Lag\"] = data.groupby(\n",
    "    \"ISO_Code\")[\"RGDP Per Capita Lag\"].pct_change().replace(to_replace=0,value = np.nan)\n",
    "\n",
    "diff_data"
   ]
  },
  {
   "cell_type": "markdown",
   "metadata": {
    "hideCode": false,
    "hidePrompt": false
   },
   "source": [
    "Next we will create the _regression.py_ file. This will contain the regression program that we will call from _econFreedomRegression.py_. For now, import pandas and build the class as demonstrated below."
   ]
  },
  {
   "cell_type": "code",
   "execution_count": 10,
   "metadata": {
    "hideCode": false,
    "hidePrompt": false
   },
   "outputs": [
    {
     "ename": "ModuleNotFoundError",
     "evalue": "No module named 'jdc'",
     "output_type": "error",
     "traceback": [
      "\u001b[1;31m---------------------------------------------------------------------------\u001b[0m",
      "\u001b[1;31mModuleNotFoundError\u001b[0m                       Traceback (most recent call last)",
      "Input \u001b[1;32mIn [10]\u001b[0m, in \u001b[0;36m<cell line: 4>\u001b[1;34m()\u001b[0m\n\u001b[0;32m      1\u001b[0m \u001b[38;5;66;03m#regression.py  \u001b[39;00m\n\u001b[0;32m      2\u001b[0m \u001b[38;5;66;03m# you may ignore import jdc, used to split class development\u001b[39;00m\n\u001b[0;32m      3\u001b[0m \u001b[38;5;66;03m# other cells that edits a class will include the magic command %% add_to\u001b[39;00m\n\u001b[1;32m----> 4\u001b[0m \u001b[38;5;28;01mimport\u001b[39;00m \u001b[38;5;21;01mjdc\u001b[39;00m\n\u001b[0;32m      5\u001b[0m \u001b[38;5;28;01mimport\u001b[39;00m \u001b[38;5;21;01mpandas\u001b[39;00m \u001b[38;5;28;01mas\u001b[39;00m \u001b[38;5;21;01mpd\u001b[39;00m  \n\u001b[0;32m      6\u001b[0m \u001b[38;5;28;01mimport\u001b[39;00m \u001b[38;5;21;01mcopy\u001b[39;00m\n",
      "\u001b[1;31mModuleNotFoundError\u001b[0m: No module named 'jdc'"
     ]
    }
   ],
   "source": [
    "#regression.py  \n",
    "# you may ignore import jdc, used to split class development\n",
    "# other cells that edits a class will include the magic command %% add_to\n",
    "import jdc\n",
    "import pandas as pd  \n",
    "import copy\n",
    "import stats\n",
    "\n",
    "class Regression:  \n",
    "    def __init__(self):  \n",
    "        pass\n",
    "          \n",
    "    def OLS(self, reg_name, data, y_name, beta_names, \n",
    "            min_val = 0,  \n",
    "                max_val = None, constant = True):  \n",
    "        self.min_val = min_val  \n",
    "        if max_val != None:  \n",
    "            self.max_val = max_val  \n",
    "        else:  \n",
    "            self.max_val = len(data)  \n",
    "        self.reg_name = reg_name  \n",
    "        self.y_name = y_name  \n",
    "        self.beta_names = copy.copy(beta_names)\n",
    "        self.data = data.copy()  \n",
    "        if constant:  \n",
    "            self.add_constant()  \n",
    "  \n",
    "    def add_constant(self):  \n",
    "        self.data[\"Constant\"] = 1  \n",
    "        self.beta_names.append(\"Constant\")  "
   ]
  },
  {
   "cell_type": "markdown",
   "metadata": {
    "hideCode": false,
    "hidePrompt": false
   },
   "source": [
    "We start by importing pandas, and the stats py file that we have already saved in the same folder. We create two methods inside of the Regression class. First is the *\\_\\_init\\_\\_* method. This will create an instance of Stats that will be called later. Second is the regress method. This is our primary method, from which all the necessary steps for preparing data and running a regression will be called. \n",
    "\n",
    "The OLS method passes several objects. First is reg_name, which is a string that be included in the regression summary ouput. Data is the pandas data frame used for the regression. Next are the names of the variables we wish to regress: *y_name* is the name of the dependent variable and *x_names* is a list that includes the names of variables that we wish to regress. *min_val* and *max_val* are the starting and ending index values for the regression. \n",
    "\n",
    "OLS includes the option to include a constant. If *constant = True*, then a column of ones is added to the data. This column will be used to estimate a constant that determines at what value the fitted line or curve crosses the y-axis. Increase or decrease in this value shift the line up or down, respectively."
   ]
  },
  {
   "cell_type": "code",
   "execution_count": null,
   "metadata": {
    "hideCode": false,
    "hidePrompt": false,
    "tags": [
     "nbcal-ignore-output",
     "outputs-hidden"
    ]
   },
   "outputs": [],
   "source": [
    "#econFreedomRegression\n",
    "import pandas as pd\n",
    "from regression import Regression\n",
    "# . . . "
   ]
  },
  {
   "cell_type": "markdown",
   "metadata": {},
   "source": [
    "At the bottom of the code, be sure to create an instance of the Regression class"
   ]
  },
  {
   "cell_type": "code",
   "execution_count": null,
   "metadata": {
    "hideCode": false,
    "hidePrompt": false,
    "hide_input": true
   },
   "outputs": [],
   "source": [
    "reg = Regression()"
   ]
  },
  {
   "cell_type": "markdown",
   "metadata": {
    "hideCode": false,
    "hidePrompt": false
   },
   "source": [
    "Now that we have created an instance of the Regression class, we can use the stats"
   ]
  },
  {
   "cell_type": "code",
   "execution_count": null,
   "metadata": {
    "hideCode": false,
    "hidePrompt": false
   },
   "outputs": [],
   "source": [
    "reg"
   ]
  },
  {
   "cell_type": "markdown",
   "metadata": {
    "hideCode": false,
    "hidePrompt": false
   },
   "source": [
    "A standard OLS regression assumes that the equation it is estimating will include a constant. We must therefore include a the option to include a constant, or not, in the estimation. To do this, we add a column of ones that will be used to estimate a constant value for our equation. This column of ones is identified by the column name, _“Constant”_.\n",
    "\n",
    "To see the effect of this addition, we can print the data after we have called the regression function from our object that is an instance of the Regression class. We will choose to print the _“Constant”_ column.\n",
    "\n",
    "### Selecting Variables\n",
    "\n",
    "We may ask how different types of freedom toend to affect prosperity within a nation. The Heritage Index of Economic Freedom provides different measures to rate freedom and the rule of law within a country. We use these to predict GDP per capita in each country. Below, is the script that will be used to run a regression. One indicator of the quality of explanatory power provided by an exogenous variable is it’s ability to maintain a steady value in terms of its estimated effect on the endogenous variable as well as its statistical significance. We will return to this discussion once the regression class is completed."
   ]
  },
  {
   "cell_type": "code",
   "execution_count": null,
   "metadata": {
    "hideCode": false,
    "hidePrompt": false
   },
   "outputs": [],
   "source": [
    "#econFreedomRegression.py\n",
    "# . . .\n",
    "\n",
    "y_var = [\"RGDP Per Capita\"]\n",
    "x_vars = [\"Size of Government\", \n",
    "          \"Legal System & Property Rights\", \n",
    "          \"Sound Money\",\n",
    "          \"Freedom to trade internationally\",\n",
    "          \"Regulation\",\n",
    "          \"RGDP Per Capita Lag\"]\n",
    "\n",
    "reg.OLS(\"RGDP Per Capita\", diff_data.dropna(axis = 0, how = \"any\"), y_var, x_vars)"
   ]
  },
  {
   "cell_type": "markdown",
   "metadata": {
    "hideCode": false,
    "hidePrompt": false
   },
   "source": [
    "We will run the above script to check our progress as we develop the Regression class. For now, execute the script. In the console, print the data again and you will notice the last columnm, labeled _\"Constant\"_ , includes a column of ones:"
   ]
  },
  {
   "cell_type": "code",
   "execution_count": null,
   "metadata": {
    "hideCode": false,
    "hidePrompt": false
   },
   "outputs": [],
   "source": [
    "reg.data"
   ]
  },
  {
   "cell_type": "markdown",
   "metadata": {
    "hideCode": false,
    "hidePrompt": false
   },
   "source": [
    "Next we will create the regression.py file. This will contain the regression program that we will call from _econFreedomRegression.py_. For now, import pandas and build the class as demonstrated below.\n",
    "\n",
    "First, we must estimate the beta vector, $\\beta$ and use this to estimate predicted values of y:\n",
    "\n",
    "$y ̂ = X\\beta$\n",
    ":"
   ]
  },
  {
   "cell_type": "code",
   "execution_count": null,
   "metadata": {
    "hideCode": false,
    "hidePrompt": false
   },
   "outputs": [],
   "source": [
    "%%add_to Regression\n",
    "#regression.py\n",
    "import numpy as np\n",
    "# . . . \n",
    "def OLS(self, reg_name, data, y_name, beta_names, min_val = 0,  \n",
    "            max_val = None, constant = True):  \n",
    "    self.min_val = min_val  \n",
    "    if max_val != None:  \n",
    "        self.max_val = max_val  \n",
    "    else:  \n",
    "        self.max_val = len(data)  \n",
    "    self.reg_name = reg_name  \n",
    "    self.y_name = y_name  \n",
    "    self.beta_names = copy.copy(beta_names)\n",
    "    self.data = data.copy()  \n",
    "    if constant:  \n",
    "        self.add_constant()  \n",
    "    self.build_matrices()\n",
    "    self.estimate_betas_and_yhat()\n",
    "    \n",
    "def build_matrices(self):  \n",
    "    # Transform dataframes to matrices  \n",
    "    self.y = np.matrix(self.data[self.y_name][self.min_val:self.max_val])  \n",
    "    # create a k X n nested list containg vectors for each exogenous var  \n",
    "    self.X = np.matrix(self.data[self.beta_names])  \n",
    "    self.X_transpose = np.matrix(self.X).getT()  \n",
    "    # (X'X)**-1  \n",
    "    X_transp_X = np.matmul(self.X_transpose, self.X)  \n",
    "    self.X_transp_X_inv = X_transp_X.getI()  \n",
    "    # X'y  \n",
    "    self.X_transp_y = np.matmul(self.X_transpose, self.y)  \n",
    "\n",
    "def estimate_betas_and_yhat(self):  \n",
    "    # betas = (X'X)**-1 * X'y  \n",
    "    self.betas = np.matmul(self.X_transp_X_inv, self.X_transp_y)  \n",
    "    # y-hat = X * betas  \n",
    "    self.y_hat = np.matmul(self.X, self.betas)  \n",
    "    # Create a column that holds y-hat values  \n",
    "    self.data[self.y_name[0] + \" estimator\"] = \\\n",
    "        [i.item(0) for i in self.y_hat]  \n",
    "    # create a table that holds the estimated coefficient  \n",
    "    # this will also be used to store SEs, t-stats,and p-values  \n",
    "    self.estimates = pd.DataFrame(self.betas, index = self.beta_names,  \n",
    "                                  columns = [\"Coefficient\"])  \n",
    "    # identify y variable in index  \n",
    "    self.estimates.index.name = \"y = \" + self.y_name[0]"
   ]
  },
  {
   "cell_type": "markdown",
   "metadata": {
    "hideCode": false,
    "hidePrompt": false
   },
   "source": [
    "From the _econFreedomRegression.py_ file, lets execute the regress function that we have extended. Executing it will generate the data frame of coefficient estimates. In the console enter:"
   ]
  },
  {
   "cell_type": "code",
   "execution_count": null,
   "metadata": {
    "hideCode": false,
    "hidePrompt": false,
    "hide_input": true,
    "scrolled": true
   },
   "outputs": [],
   "source": [
    "#econFreedomRegression.py\n",
    "# . . .\n",
    "reg = Regression()\n",
    "# . . .\n",
    "reg.OLS(\"GDP per Capita\", diff_data.dropna(axis = 0, how = \"any\"), y_var, x_vars)\n",
    "reg.__dict__"
   ]
  },
  {
   "cell_type": "code",
   "execution_count": null,
   "metadata": {
    "hideCode": false,
    "hidePrompt": false
   },
   "outputs": [],
   "source": [
    "reg.estimates"
   ]
  },
  {
   "cell_type": "markdown",
   "metadata": {
    "hideCode": false,
    "hidePrompt": false
   },
   "source": [
    "We have calculated beta values for each independent variable, meaning that we estimated the average effect of a change in each independent variable upon the dependent variable. While this is useful, we have not yet measured the statistical significance of these estimations; neither have we determined the explanatory power of our particular regression.\n",
    "\n",
    "Our regression has estimated predicted values for our dependent variable given the values of the independent variables for each observation. Together, these estimations for an array of predicted values that we will refer to as $y ̂ $. We will refer to individual predicted values as ($y_i$) ̂. We will also refer to the mean value of observations of our dependent variable as $y ̅ $ and individual observed values of our dependent variable as $y_i$. These values will be use to estimate the sum of squares due to regression ($SSR$), sum of squared errors ($SSE$), and the total sum of squares ($SST$). By comparing the estimated $y$ values, the observed $y$ values, and the mean of $y$, we will estimate the standard error for each coefficient and other values that estimate convey the significance of the estimation.\n",
    "\n",
    "We define these values as follows:\n",
    "\n",
    "$SSR = \\sum_{i=0}^{n} (y ̂ _{i} - y ̅ )^2$\n",
    "\n",
    "$SSE = \\sum_{i=0}^{n} (y_{i} - y ̂ _{i})^2$\n",
    "\n",
    "$SST = \\sum_{i=0}^{n} (y_{i} - y ̅ _{i})^2$\n",
    "\n",
    "It happens that the sum of the squared distances between the estimated values and mean of observed values and the squared distances between the observed and estimated values add up to the sum of the squared distances between the observed values and the mean of observed values. We indicate this as:\n",
    "\n",
    "$SST = SSR + SSE$\n",
    "\n",
    "The script below will estimate these statistics. It calls the sum_square_stats method from the which is passed in the calculate_regression_stats method."
   ]
  },
  {
   "cell_type": "code",
   "execution_count": null,
   "metadata": {
    "hideCode": false,
    "hidePrompt": false
   },
   "outputs": [],
   "source": [
    "%%add_to Regression\n",
    "#regression.py\n",
    "# . . . \n",
    "def OLS(self, reg_name, data, y_name, beta_names, min_val = 0,  \n",
    "            max_val = None, constant = True):  \n",
    "    self.min_val = min_val  \n",
    "    if max_val != None:  \n",
    "        self.max_val = max_val  \n",
    "    else:  \n",
    "        self.max_val = len(data)  \n",
    "    self.reg_name = reg_name  \n",
    "    self.y_name = y_name  \n",
    "    self.beta_names = copy.copy(beta_names)\n",
    "    self.data = data.copy()  \n",
    "    if constant:  \n",
    "        self.add_constant()  \n",
    "    self.build_matrices()\n",
    "    self.estimate_betas_and_yhat()\n",
    "    self.calculate_regression_stats()\n",
    "\n",
    "def calculate_regression_stats(self):  \n",
    "    self.sum_square_stats()  \n",
    "\n",
    "def sum_square_stats(self):  \n",
    "    ssr_list = []  \n",
    "    sse_list = []  \n",
    "    sst_list = []  \n",
    "    mean_y = stats.mean(self.y).item(0)  \n",
    "    for i in range(len(self.y)):  \n",
    "        # ssr is sum of squared distances between the estimated y values  \n",
    "        # (y-hat) and the average of y values (y-bar)  \n",
    "        yhat_i = self.y_hat[i]  \n",
    "        y_i = self.y[i]  \n",
    "        r = yhat_i - mean_y  \n",
    "        e = y_i - yhat_i  \n",
    "        t = y_i - mean_y  \n",
    "        ssr_list.append((r) ** 2)  \n",
    "        sse_list.append((e) ** 2)  \n",
    "        sst_list.append((t) ** 2)  \n",
    "\n",
    "    # call item - call value instead of matrix  \n",
    "    self.ssr = stats.total(ssr_list).item(0)  \n",
    "    self.sse = stats.total(sse_list).item(0)  \n",
    "    self.sst = stats.total(sst_list).item(0)  \n"
   ]
  },
  {
   "cell_type": "code",
   "execution_count": null,
   "metadata": {
    "hideCode": false,
    "hidePrompt": false,
    "hide_input": true
   },
   "outputs": [],
   "source": [
    "#econFreedomRegression.py\n",
    "# . . .\n",
    "reg = Regression()\n",
    "# . . .\n",
    "reg.OLS(\"GDP per Capita\", diff_data.dropna(axis = 0, how = \"any\"), y_var, x_vars)"
   ]
  },
  {
   "cell_type": "markdown",
   "metadata": {
    "hideCode": false,
    "hidePrompt": false
   },
   "source": [
    "The elements of the lists created are actually matrices, so we select the element in the matrix by calling _.item(0)_ after summing each list with _total()_.\n",
    "\n",
    "Now, the regression method will allow us to call the *SSR*, *SSE*, and *SST* values. These will be used to calculate the measures commonly associated with a regression such as r-squared and estimator variance. In the console enter:\n"
   ]
  },
  {
   "cell_type": "code",
   "execution_count": null,
   "metadata": {
    "hideCode": false,
    "hidePrompt": false
   },
   "outputs": [],
   "source": [
    "print(reg.ssr, reg.sse, reg.sst)"
   ]
  },
  {
   "cell_type": "markdown",
   "metadata": {
    "hideCode": false,
    "hidePrompt": false
   },
   "source": [
    "With the sum of squared errors calculated, the next step is to calculate the estimator variance and use this to construct the covariance matrix. The covariance matrix is used to derive the standard errors and related statistics for each estimated coefficient.\n",
    "\n",
    "We estimate the variance of the error term of the estimator for the dependent variable. \n",
    "\n",
    "$\\sigma^2 = \\frac{SSE}{n-k}$\n",
    "\n",
    "$n = $number of observations\n",
    "\n",
    "$k = $number of independent variables\n",
    "\n",
    "An increase in the number of exogenous variables tends ot increase the fit of a model. By dividing the $SSE$ by degrees of freedom, $n-k$ , improvements in fit that result from increases in the number of variables are offset in part by a reduction in degrees of freedom. \n",
    "\n",
    "Finally, we calculate the covariance matrix:\n",
    "\n",
    "$\\sigma^2 (X'X)^{-1}$\n"
   ]
  },
  {
   "cell_type": "code",
   "execution_count": null,
   "metadata": {
    "hideCode": false,
    "hidePrompt": false
   },
   "outputs": [],
   "source": [
    "%%add_to Regression\n",
    "#regression.py\n",
    "# . . . \n",
    "def calculate_regression_stats(self):\n",
    "    self.sum_square_stats()\n",
    "    self.calculate_degrees_of_freedom()\n",
    "    self.calculate_estimator_variance()\n",
    "    self.calculate_covariance_matrix()\n",
    "\n",
    "def calculate_degrees_of_freedom(self):  \n",
    "    # Degrees of freedom compares the number of observations to the number  \n",
    "    # of exogenous variables used to form the prediction  \n",
    "    self.lost_degrees_of_freedom = len(self.estimates)  \n",
    "    self.num_obs = self.max_val + 1 - self.min_val  \n",
    "    self.degrees_of_freedom = self.num_obs - self.lost_degrees_of_freedom  \n",
    "         \n",
    "def calculate_estimator_variance(self):  \n",
    "    # estimator variance is the sse normalized by the degrees of freedom  \n",
    "    # thus, estimator variance increases as the number of exogenous  \n",
    "    # variables used in estimation increases(i.e., as degrees of freedom   \n",
    "    # fall)  \n",
    "    self.estimator_variance = self.sse / self.degrees_of_freedom  \n",
    "\n",
    "def calculate_covariance_matrix(self):  \n",
    "    # Covariance matrix will be used to estimate standard errors for  \n",
    "    # each coefficient.  \n",
    "    # estimator variance * (X'X)**-1  \n",
    "    self.cov_matrix = float(self.estimator_variance) * self.X_transp_X_inv  \n",
    "    self.cov_matrix = pd.DataFrame(self.cov_matrix,  \n",
    "                                   columns = self.beta_names,  \n",
    "                                   index = self.beta_names)"
   ]
  },
  {
   "cell_type": "code",
   "execution_count": null,
   "metadata": {
    "hideCode": false,
    "hidePrompt": false,
    "hide_input": true
   },
   "outputs": [],
   "source": [
    "reg = Regression()\n",
    "reg.OLS(\"GDP per Capita\", diff_data.dropna(axis = 0, how = \"any\"), y_var, x_vars)"
   ]
  },
  {
   "cell_type": "markdown",
   "metadata": {
    "hideCode": false,
    "hidePrompt": false
   },
   "source": [
    "In the final method, calculate_covariance_matrix, the estiamtor variance is used to calculate the estimator covariance matrix. We will view this table by creating a csv. Enter the following command into the console:"
   ]
  },
  {
   "cell_type": "code",
   "execution_count": null,
   "metadata": {
    "hideCode": false,
    "hidePrompt": false
   },
   "outputs": [],
   "source": [
    "reg.cov_matrix.to_csv(\"regCovMatrix.csv\")\n",
    "reg.cov_matrix"
   ]
  },
  {
   "cell_type": "markdown",
   "metadata": {
    "hideCode": false,
    "hidePrompt": false
   },
   "source": [
    "The diagonals of the covariance matrix represent the squared standard errors for each exogenous variable. The standard error what we will use to calculate t-statistics and p-values. The t-statisitic of a coefficient is found by comparing the size of the estimated coefficient to its standard error:\n",
    "\n",
    "$tstat_{\\beta_i}=\\frac{\\beta_i}{SE_{\\beta_i}}$\n",
    "\n",
    "The larger the coefficient compared to the error, the more reliable is the statistic, as implied by a large t-stat. We draw the p-value associated with a particular t-stat from a table in light of the degrees of freedom associated with the regression. The p-values provides a rating of the estimate in light of the t-stat together with the number of degrees of freedom."
   ]
  },
  {
   "cell_type": "code",
   "execution_count": null,
   "metadata": {},
   "outputs": [],
   "source": [
    "#regression.py\n",
    "from scipy.stats import t, f\n",
    "# . . . "
   ]
  },
  {
   "cell_type": "code",
   "execution_count": null,
   "metadata": {
    "hideCode": false,
    "hidePrompt": false
   },
   "outputs": [],
   "source": [
    "%%add_to Regression\n",
    "# . . . \n",
    "def calculate_regression_stats(self):\n",
    "    self.sum_square_stats()\n",
    "    self.calculate_degrees_of_freedom()\n",
    "    self.calculate_estimator_variance()\n",
    "    self.calculate_covariance_matrix()\n",
    "    self.calculate_t_p_error_stats()\n",
    "    \n",
    "def calculate_t_p_error_stats(self):\n",
    "    ratings = [.05, .01, .001]  \n",
    "    results = self.estimates  \n",
    "    stat_sig_names = [\"SE\", \"t-stat\", \"p-value\"]  \n",
    "    # create space in data frame for SE, t, and p  \n",
    "    for stat_name in stat_sig_names:  \n",
    "        results[stat_name] = np.nan  \n",
    "    # generate statistic for each variable  \n",
    "    for var in self.beta_names:  \n",
    "        # SE ** 2 of coefficient is found in the diagonal of cov_matrix  \n",
    "        results.loc[var][\"SE\"] = self.cov_matrix[var][var] ** (1/2)  \n",
    "\n",
    "        # t-stat = Coef / SE  \n",
    "        results.loc[var][\"t-stat\"] = \\\n",
    "            results[\"Coefficient\"][var] / results[\"SE\"][var]  \n",
    "        # p-values is estimated using a table that transforms t-value in   \n",
    "        # light of degrees of freedom  \n",
    "        results.loc[var][\"p-value\"] = np.round(t.sf(np.abs(results.\\\n",
    "                   loc[var][\"t-stat\"]), self.degrees_of_freedom + 1) * 2, 5)  \n",
    "    # values for significances will be blank unless p-values < .05  \n",
    "    # pandas does not allow np.nan values or default blank strings to   \n",
    "    # be replaced   \n",
    "    significance = [\"\" for i in range(len(self.beta_names))]  \n",
    "    for i in range(len(self.beta_names)):  \n",
    "        var = self.beta_names[i]  \n",
    "        for val in ratings:  \n",
    "            if results.loc[var][\"p-value\"] < val:  \n",
    "                significance[i] = significance[i]  + \"*\"  \n",
    "    results[\"signficance\"] = significance"
   ]
  },
  {
   "cell_type": "code",
   "execution_count": null,
   "metadata": {
    "hideCode": false,
    "hidePrompt": false,
    "hide_input": true
   },
   "outputs": [],
   "source": [
    "reg = Regression()\n",
    "reg.OLS(\"GDP per Capita\", diff_data.dropna(axis = 0, how = \"any\"), y_var, x_vars)"
   ]
  },
  {
   "cell_type": "markdown",
   "metadata": {
    "hideCode": false,
    "hidePrompt": false
   },
   "source": [
    " The standard errors, t-statistics and p-values are saved in the same dataframe as the coefficient estimates. Call them with the command:"
   ]
  },
  {
   "cell_type": "code",
   "execution_count": null,
   "metadata": {
    "hideCode": false,
    "hidePrompt": false
   },
   "outputs": [],
   "source": [
    "reg.estimates.to_csv(\"estimates.csv\")\n",
    "reg.estimates"
   ]
  },
  {
   "cell_type": "markdown",
   "metadata": {
    "hideCode": false,
    "hidePrompt": false
   },
   "source": [
    "Next we will use the statistics that we have calculated to build the mean squared error (MSE), the square root of the mean squared error, R2, and F-stat. \n",
    "\n",
    "The variance term will be used to help us calculate other values. First we estimate the square root of the mean squared error. Since the mean squared error is the variance of the estimator, this means we simply take the square root the variance term\n",
    "\n",
    "$rootMSE = \\sqrt{\\sigma^2}$\n",
    "\n",
    "The square-root of the MSE provides a more readily interpretable estimate of the estimator variance, showing the average distance of predicted values from actual values, corrected for the number of independent variables. \n",
    "\n",
    "We also estimate the R2 value. This value indicates the explanator power of the regression\n",
    "\n",
    "$R^2 = \\frac{SSR}{SST}$\n",
    "\n",
    "This compares the average squared distance between the predicted values and the average value against the average squared distance between observed values and average values. Ordinary least squares regression minimizes the squared distance between the predicted value and the average value. If values are perfectly predicted, then the SSR would equal the SST. Usually, the SSR is less than the SST. It will never be greater than the SST.\n",
    "\n",
    "Finally we calculate the F-statistic, commonly referred to as the F-stat:\n",
    "\n",
    "$ F =\\frac{\\frac{SST - SSE}{K - 1}}{\\frac{SSE}{N - K}}$\n",
    "\n",
    "The F-statistic tests the likelihood of whether or not the values of our estimated parameters are all zero:\n",
    "\n",
    "$\\beta_1 = \\beta_2 = . . . = \\beta_{n-1} = \\beta_n$ \n",
    "\n",
    "We check the difference between the SST and SSE divided by the number of independent variables used in the regression less one. We divide this value by the mean squared error. "
   ]
  },
  {
   "cell_type": "code",
   "execution_count": null,
   "metadata": {},
   "outputs": [],
   "source": []
  },
  {
   "cell_type": "code",
   "execution_count": null,
   "metadata": {
    "hideCode": false,
    "hidePrompt": false
   },
   "outputs": [],
   "source": [
    "%%add_to Regression\n",
    "#regression.py\n",
    "# . . . \n",
    "def calculate_regression_stats(self):  \n",
    "    self.sum_square_stats()  \n",
    "    self.calculate_degrees_of_freedom()  \n",
    "    self.calculate_estimator_variance()  \n",
    "    self.calculate_covariance_matrix()  \n",
    "    self.calculate_t_p_error_stats()  \n",
    "    self.calculate_root_MSE()  \n",
    "    self.calculate_rsquared()  \n",
    "    self.calculate_fstat()  \n",
    "    self.build_stats_DF()\n",
    "#. . . \n",
    "def calculate_root_MSE(self):  \n",
    "    self.root_mse = self.estimator_variance ** (1/2)  \n",
    "\n",
    "def calculate_rsquared(self):  \n",
    "    self.r_sq = self.ssr / self.sst  \n",
    "\n",
    "def calculate_fstat(self):  \n",
    "    self.f_stat = (self.sst - self.sse) / (self.lost_degrees_of_freedom\\\n",
    "                  - 1) / self.estimator_variance  \n",
    "def build_stats_DF(self):  \n",
    "    stats_dict = {\"r**2\":[self.r_sq],  \n",
    "                 \"f-stat\":[self.f_stat],   \n",
    "                 \"Est Var\":[self.estimator_variance],  \n",
    "                 \"rootMSE\":[self.root_mse],  \n",
    "                 \"SSE\":[self.sse],  \n",
    "                 \"SSR\":[self.ssr],   \n",
    "                 \"SST\":[self.sst],  \n",
    "                 \"Obs.\":[int(self.num_obs)],   \n",
    "                 \"DOF\":[int(self.degrees_of_freedom)]}  \n",
    "    self.stats_DF = pd.DataFrame(stats_dict)\n",
    "    self.stats_DF = self.stats_DF.rename(index={0:\"Estimation Statistics\"})\n",
    "    self.stats_DF = self.stats_DF.T    "
   ]
  },
  {
   "cell_type": "code",
   "execution_count": null,
   "metadata": {
    "hideCode": false,
    "hidePrompt": false,
    "hide_input": true
   },
   "outputs": [],
   "source": [
    "reg = Regression()\n",
    "reg.OLS(\"GDP per Capita\", diff_data.dropna(axis = 0, how = \"any\"), y_var, x_vars)"
   ]
  },
  {
   "cell_type": "markdown",
   "metadata": {
    "hideCode": false,
    "hidePrompt": false
   },
   "source": [
    "Be sure to call the function at the end of the *calculate_regression_stats()* method. Then, save *stats_DF* as a csv with the command: "
   ]
  },
  {
   "cell_type": "code",
   "execution_count": null,
   "metadata": {
    "hideCode": false,
    "hidePrompt": false
   },
   "outputs": [],
   "source": [
    "reg.stats_DF.to_csv(\"reg_stats.csv\")\n",
    "reg.stats_DF"
   ]
  },
  {
   "cell_type": "markdown",
   "metadata": {},
   "source": [
    "You have successfully created a program that runs completes OLS regression and organizes statistics from this regression!\n",
    "\n",
    "## Tests and Adjustments\n",
    "\n",
    "In addition to the essential elements that you have included in the regression method, some other evaluative critieria is in order. We will include calculate the adjusted r-squared as well as joint f-tests. The first of these is used to offset the increase in the r-squared value that otherwise occurs when exogenous variables are added to a regression. It is possible that the addition of irrevelevant variables appear to increase goodness-of-fit.\n",
    "\n",
    "For similar purposes, we will include the joint F-test. This compares the explanatory power of two regressions, revealing whether or not the inclusion of additional variables is actually improving explanatory power of the regression. \n",
    "\n",
    "### Adjusted R-Squared\n",
    "Although the $R^2$ is a useful measure to understand the quality of the explanation provided by the selected exogenous variables. Recall that:\n",
    "\n",
    "$R^2 = \\frac{SSR}{SST}$\n",
    "\n",
    "\n",
    "Notice that as the degrees of freedom decrease, the numerator necessarily decreases as well. Although it is not always appropriate to use the adjusted $R^2$, it is often useful to help gauge whether or not a marginal addition of a variable improves explanatory power of a regression.\n",
    "\n",
    "${R^2}_{Adjusted} = 1 - \\frac{\\frac{SSE}{n - k}}{\\frac{SST}{n-1}}$\n"
   ]
  },
  {
   "cell_type": "code",
   "execution_count": null,
   "metadata": {},
   "outputs": [],
   "source": [
    "%%add_to Regression\n",
    "#regression.py\n",
    "# . . . \n",
    "def calculate_rsquared(self):  \n",
    "    self.r_sq = self.ssr / self.sst\n",
    "    self.adj_r_sq = 1 - self.sse / self.degrees_of_freedom / (self.sst\\\n",
    "        / (self.num_obs - 1))  \n",
    "\n",
    "def build_stats_DF(self):  \n",
    "    stats_dict = {\"r**2\":[self.r_sq],  \n",
    "                 \"Adj. r**2\":[self.adj_r_sq],\n",
    "                 \"f-stat\":[self.f_stat],   \n",
    "                 \"Est Var\":[self.estimator_variance],  \n",
    "                 \"rootMSE\":[self.root_mse],  \n",
    "                 \"SSE\":[self.sse],  \n",
    "                 \"SSR\":[self.ssr],   \n",
    "                 \"SST\":[self.sst],  \n",
    "                 \"Obs.\":[int(self.num_obs)],   \n",
    "                 \"DOF\":[int(self.degrees_of_freedom)]}  \n",
    "    self.stats_DF = pd.DataFrame(stats_dict)\n",
    "    self.stats_DF = self.stats_DF.rename(index={0:\"Estimation Statistics\"})\n",
    "    self.stats_DF = self.stats_DF.T"
   ]
  },
  {
   "cell_type": "code",
   "execution_count": null,
   "metadata": {},
   "outputs": [],
   "source": [
    "reg = Regression()\n",
    "reg.OLS(\"GDP per Capita\", diff_data.dropna(axis = 0, how = \"any\"), y_var, x_vars)"
   ]
  },
  {
   "cell_type": "markdown",
   "metadata": {},
   "source": [
    "Now *stats_DF* includes the adjusted $R^2$:"
   ]
  },
  {
   "cell_type": "code",
   "execution_count": null,
   "metadata": {},
   "outputs": [],
   "source": [
    "reg.stats_DF"
   ]
  },
  {
   "cell_type": "markdown",
   "metadata": {},
   "source": [
    "### Joint F-test\n",
    "\n",
    "Just as the adjusted r-squared allows for a more effective comparison of regressions that have varying numbers of variables, so too does the joint f-test. In order to compare regressions, we must save results from at least two compareable regression. To save results, we create a dictionary name *reg_history* and save this using the method, *save_output*."
   ]
  },
  {
   "cell_type": "code",
   "execution_count": null,
   "metadata": {},
   "outputs": [],
   "source": [
    "%%add_to Regression\n",
    "#regression.py  \n",
    "# . . . \n",
    "def __init__(self):  \n",
    "    self.reg_history = {}  \n",
    "\n",
    "def OLS(self, reg_name, data, y_name, beta_names, min_val = 0,  \n",
    "            max_val = None, constant = True):  \n",
    "    self.min_val = min_val  \n",
    "    if max_val != None:  \n",
    "        self.max_val = max_val  \n",
    "    else:  \n",
    "        self.max_val = len(data)  \n",
    "    self.reg_name = reg_name  \n",
    "    self.y_name = y_name  \n",
    "    self.beta_names = copy.copy(beta_names)\n",
    "    self.data = data.copy()  \n",
    "    if constant:  \n",
    "        self.add_constant()  \n",
    "    self.build_matrices()\n",
    "    self.estimate_betas_and_yhat()\n",
    "    self.calculate_regression_stats()\n",
    "    self.save_output()\n",
    "    \n",
    "def save_output(self):  \n",
    "    self.reg_history[self.reg_name] = {\"Reg Stats\": self.stats_DF.copy(),  \n",
    "                                    \"Estimates\": self.estimates.copy(),  \n",
    "                                    \"Cov Matrix\":self.cov_matrix.copy(),\n",
    "                                    \"Data\":self.data.copy()}"
   ]
  },
  {
   "cell_type": "markdown",
   "metadata": {},
   "source": [
    "By saving the regression statistics, estimates, and covariance matrix in a dictionary with a unique key that is the string passed as *self.reg_name* for the regression, results from multiple regression can be called. This is required for running a *joint_f_test()*, which is supposed to estimate whether or not the addition of an exogenous variable in a regression actually improves the explantory power of the regression.\n",
    "\n",
    "The joint f-test compares a restricted and unrestricted regression. The unrestricted regression uses the same exogenous variables as the restricted regression, and adds at least one more exogenous variable to be used to estimate values of y. The joint f-test checks whether, the betas values of the exogenous variables included in the unretricted regression are different than zero.\n",
    "\n",
    "To check, we calculate the joint F-statistic:\n",
    "\n",
    "$ F = \\frac{\\frac{SSE_r - SSE_u}{k_r - k_u}}{\\frac{SSE_u}{n - k_u}}$\n",
    "\n",
    "If the p-values associated with this f-statistic indicates statistical significance, then at least one of the additional variables improve the explanatory power of the regression."
   ]
  },
  {
   "cell_type": "code",
   "execution_count": null,
   "metadata": {},
   "outputs": [],
   "source": [
    "%%add_to Regression\n",
    "def joint_f_test(self, reg1_name, reg2_name):  \n",
    "    # identify data for each regression  \n",
    "    reg1 = self.reg_history[reg1_name]  \n",
    "    reg2 = self.reg_history[reg2_name]  \n",
    "    # identify beta estimates for each regression to draw variables  \n",
    "    reg1_estimates = reg1[\"Estimates\"]          \n",
    "    reg2_estimates = reg2[\"Estimates\"]  \n",
    "    # name of y_var is saved as estimates index name  \n",
    "    reg1_y_name = reg1_estimates.index.name  \n",
    "    reg2_y_name = reg2_estimates.index.name  \n",
    "    num_obs1 = reg1[\"Reg Stats\"].loc[\"Obs.\"][0]  \n",
    "    num_obs2 = reg2[\"Reg Stats\"].loc[\"Obs.\"][0]  \n",
    "    # check that the f-stat is measuring restriction, not for diff data sets\n",
    "    if num_obs1 != num_obs2:   \n",
    "        self.joint_f_error()  \n",
    "    if reg1_y_name == reg2_y_name:          \n",
    "        restr_reg = reg1 if \\\n",
    "            len(reg1_estimates.index) < len(reg2_estimates.index) else reg2 \n",
    "        unrestr_reg = reg2 if restr_reg is reg1 else reg1  \n",
    "        restr_var_names = restr_reg[\"Estimates\"].index  \n",
    "        unrestr_var_names = unrestr_reg[\"Estimates\"].index  \n",
    "    # identify statistics for each regression  \n",
    "    restr_reg = restr_reg if False not in \\\n",
    "            [key in unrestr_var_names for key in restr_var_names] else None\n",
    "    if restr_reg == None:  \n",
    "        self.joint_f_error()  \n",
    "    else:  \n",
    "        sser = restr_reg[\"Reg Stats\"].loc[\"SSE\"][0]  \n",
    "        sseu = unrestr_reg[\"Reg Stats\"].loc[\"SSE\"][0]  \n",
    "        dofr = restr_reg[\"Reg Stats\"].loc[\"DOF\"][0]       \n",
    "        dofu = unrestr_reg[\"Reg Stats\"].loc[\"DOF\"][0]  \n",
    "        dfn = dofr - dofu  \n",
    "        dfd = dofu - 1  \n",
    "        f_stat = ((sser - sseu) / (dfn)) / (sseu / (dfd))  \n",
    "        f_crit_val = 1 - f.cdf(f_stat,dfn = dfn, dfd = dfd)  \n",
    "        #make dictionary?  \n",
    "        f_test_label = \"h_0:\"  \n",
    "        for key in unrestr_var_names:  \n",
    "            if key not in restr_var_names:  \n",
    "                 f_test_label = f_test_label + str(key) + \" == \"  \n",
    "        f_test_label = f_test_label + \"0\"  \n",
    "        res_dict = {\"f-stat\":[f_stat],  \n",
    "                    \"p-value\":[f_crit_val],  \n",
    "                    \"dfn\":[dfn],  \n",
    "                    \"dfd\":[dfd]}  \n",
    "        res_DF = pd.DataFrame(res_dict)  \n",
    "        res_DF = res_DF.rename(index={0:\"\"})  \n",
    "        res_DF = res_DF.T  \n",
    "        res_DF.index.name = f_test_label  \n",
    "\n",
    "        return res_DF  \n",
    "\n",
    "def joint_f_error(self):  \n",
    "        print(\"Regressions not comparable for joint F-test\")  \n",
    "        return None  "
   ]
  },
  {
   "cell_type": "markdown",
   "metadata": {},
   "source": [
    "### Call the Joint F-Test\n",
    "\n",
    "Having constructed a method to run the joint F-test, we first need to define the restricted and unrestricted regressoin. The restricted regression will have only two variables: *“Property Rights”* and *\"Public Debt (% of GDP)\"*. These two variables are the only exogenous variables from the earlier regression that were significant. We will compare the regression that we ran, the unrestricted regression, with this restricted regression. Name each regression accordingly, then call the *joint_f_test()* using the names for each regression. The program is distinguish automoticallly which is restricted and which is unrestricted. Since the results of the test are saved in a dataframe, we can save the results as a csv."
   ]
  },
  {
   "cell_type": "code",
   "execution_count": null,
   "metadata": {},
   "outputs": [],
   "source": [
    "#EconFreedomRegression.py\n",
    "# . . . \n",
    "reg = Regression()  "
   ]
  },
  {
   "cell_type": "code",
   "execution_count": null,
   "metadata": {},
   "outputs": [],
   "source": [
    "y_var = [\"RGDP Per Capita\"]  \n",
    "x_vars_unrestricted = [\"Size of Government\", \n",
    "          \"Legal System & Property Rights\", \n",
    "          \"Sound Money\",\n",
    "          \"Freedom to trade internationally\",\n",
    "          \"Regulation\",\n",
    "          \"RGDP Per Capita Lag\"]\n",
    "x_vars_restricted = [\"Size of Government\", \n",
    "          \"Legal System & Property Rights\", \n",
    "          \"Sound Money\",\n",
    "          \"Freedom to trade internationally\",\n",
    "          \"Regulation\"]\n",
    "\n",
    "reg.OLS(\"RGDP Per Capita Unrestricted\", diff_data.dropna(axis = 0, how = \"any\"), y_var, x_vars_unrestricted)  \n",
    "reg.OLS(\"RGDP Per Capita Restricted\", diff_data.dropna(axis = 0, how = \"any\"), y_var, x_vars_restricted)  \n",
    "  \n",
    "joint_f_test = reg.joint_f_test(\"RGDP Per Capita Unrestricted\",   \n",
    "                                \"RGDP Per Capita Restricted\")  \n",
    "joint_f_test.to_csv(\"Joint F_test; y = \" + reg.y_name[0] + \"; \" +\\\n",
    "                    joint_f_test.index.name + \".csv\")\n",
    "joint_f_test"
   ]
  },
  {
   "cell_type": "markdown",
   "metadata": {},
   "source": [
    "The test indicates that the null-hypothesis, that the variable *\"Public Debt (% of GDP)\"* exhibits a consistent effect different than zero, holds since the p-value generated by the test is less than 0.05. \n",
    "\n",
    "## Visualizing Regression Results\n",
    "\n",
    "To get the most value out of a regression function requires not only tables for statistics. Visualizations that compare observations to estimates form the regression are a powerful means of presenting results. Since we have already generated estimations for y_hat, this simply requires the plotting of y values against values of exogenous variables. On the same plot, do the same for estimator (*yhat*) values.\n",
    "\n",
    "In the next section we will use a for loop to compare the predicted values of the y variable with observed values in a scatter plot. Each plot will include the y-values on the veritcal axis and the values of an exogenous variable on the y axis. "
   ]
  },
  {
   "cell_type": "code",
   "execution_count": null,
   "metadata": {
    "scrolled": false
   },
   "outputs": [],
   "source": [
    "#econFreedomRegression.py\n",
    "# . . . \n",
    "import matplotlib.pyplot as plt\n",
    "\n",
    "def plot_scatter_with_estimator(title, data, x_vars, y_var):  \n",
    "    # set default font size  \n",
    "    plt.rcParams.update({\"font.size\": 19})  \n",
    "    # use a for loop to call each exogenous variable  \n",
    "    y = y_var[0]  \n",
    "    for x in x_vars:  \n",
    "        # prepare a figure with the predictor. We will use ax to specify that  \n",
    "        # the plots are in the same figure  \n",
    "        fig, ax = plt.subplots(figsize = (12, 8))  \n",
    "        # labels will be in a legend  \n",
    "        y_label1 = \"Estimate\"  \n",
    "        y_label2 = \"Observation\"  \n",
    "        # plot the estimated value  \n",
    "        data.plot.scatter(x = x, y = y + \" estimator\", ax = ax, c = \"r\",  \n",
    "                          s = 10, label = y_label1, legend = False)  \n",
    "        # erase the y-axis label so that \"estimator\" is not present  \n",
    "        # the y-label will reappear when the observations are plotted  \n",
    "        plt.ylabel(\"\")  \n",
    "        data.plot.scatter(x = x, y = y, ax = ax, s = 10, label = y_label2,  \n",
    "                          legend = False)  \n",
    "        # call the legend, place atop the image on the left  \n",
    "        # bbox_to_anchor used to specify exact placement of label  \n",
    "        plt.legend(loc = \"upper left\", labels = [y_label1, y_label2],   \n",
    "                   bbox_to_anchor = (0, 1.17))  \n",
    "        plt.title(title)\n",
    "        # remove lines marking units on the axis  \n",
    "        ax.xaxis.set_ticks_position('none')  \n",
    "        ax.yaxis.set_ticks_position('none')  \n",
    "        plt.show()  \n",
    "        plt.close()  \n",
    "# . . . \n",
    "y_var = [\"RGDP Per Capita\"]  \n",
    "x_vars_unrestricted = [\"Size of Government\", \n",
    "          \"Legal System & Property Rights\", \n",
    "          \"Sound Money\",\n",
    "          \"Freedom to trade internationally\",\n",
    "          \"Regulation\",\n",
    "          \"RGDP Per Capita Lag\"]\n",
    "x_vars_restricted = [\"Size of Government\", \n",
    "          \"Legal System & Property Rights\", \n",
    "          \"Sound Money\",\n",
    "          \"Freedom to trade internationally\",\n",
    "          \"Regulation\"]\n",
    "reg.OLS(\"RGDP Per Capita Unrestricted\", diff_data.dropna(axis = 0, how = \"any\"), y_var, x_vars_unrestricted)\n",
    "reg.OLS(\"RGDP Per Capita Restricted\", diff_data.dropna(axis = 0, how = \"any\"), y_var, x_vars_restricted)  \n",
    "reg_name = \"RGDP Per Capita Unrestricted\"\n",
    "plot_scatter_with_estimator(\"Unrestricted\", reg.reg_history[reg_name]\\\n",
    "                            [\"Data\"], x_vars, y_var)\n",
    "reg_name = \"RGDP Per Capita Restricted\"\n",
    "plot_scatter_with_estimator(\"Restricted\", reg.reg_history[reg_name]\\\n",
    "                            [\"Data\"], x_vars, y_var)"
   ]
  },
  {
   "cell_type": "markdown",
   "metadata": {},
   "source": [
    "The visualization generated by this script allow for a comparison of estimates of y-variable generated from a set of observed values to the actual values that were part of the observations."
   ]
  },
  {
   "cell_type": "markdown",
   "metadata": {},
   "source": [
    "### Exercise:\n",
    "\n",
    "1.\tRun an OLS regression using a different set of data. Use the regression class created in this chapter. Print the results.\n",
    "2.\tCreate scatter plots of the observation and predicted values as demonstrated at the end of this chapter.\n",
    "3.\tUse the numpy libraries log function to log some or all value in your data. Print the columns of data that have been logged. (hint: pass the appropriate list of keys to the dataframe, data[[key1,key2,key3…]])\n",
    "4.\tRun the same regression again. Print the results. How has the significance changed?\n",
    "5.\tPlot the new results using scatter plots as in question 2.\n",
    "6.\tCreate 2 unique visualizations of the results using matplotlib (e.g., time series predicted values and observations, plots with more than 2 variables represented such as 3D plane or changing size of dots, a plot comparing results of the logged and unlogged regression, etc…). For visualization ideas visit the [matplotlib website](https://matplotlib.org/examples/).\n"
   ]
  }
 ],
 "metadata": {
  "celltoolbar": "Tags",
  "hide_code_all_hidden": false,
  "kernelspec": {
   "display_name": "Python 3 (ipykernel)",
   "language": "python",
   "name": "python3"
  },
  "language_info": {
   "codemirror_mode": {
    "name": "ipython",
    "version": 3
   },
   "file_extension": ".py",
   "mimetype": "text/x-python",
   "name": "python",
   "nbconvert_exporter": "python",
   "pygments_lexer": "ipython3",
   "version": "3.9.12"
  }
 },
 "nbformat": 4,
 "nbformat_minor": 2
}
