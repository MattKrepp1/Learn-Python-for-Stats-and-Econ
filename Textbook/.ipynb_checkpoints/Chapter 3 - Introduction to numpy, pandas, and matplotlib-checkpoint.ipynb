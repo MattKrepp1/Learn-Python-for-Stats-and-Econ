{
 "cells": [
  {
   "cell_type": "markdown",
   "metadata": {},
   "source": [
    "# Introduction to _numpy_, _pandas_, and _matplotlib_\n",
    "\n",
    "In addition to lists and dictionaries, there exists data structures from the numpy and pandas libraries that you should be aware of. The numpy library uses structures that are more efficient than dynamic lists. Pandas, which uses numpy, helps to organize data in tables. Dataframes from pandas can also be used to make data visualization in matplotlib a breeze.\n",
    "\n",
    "## numpy\n",
    "\n",
    "| New Concepts | Description |\n",
    "| --- | --- |\n",
    "| _numpy_ | The numpy package provides data structures including arrays and linear algebra matrices, as well as  efficient calculation processes. |\n",
    "| _numpy_ methods | np.array(), np.arange(), np.zeros(), np.ones(), np.zeros_like(), np.ones_like(), np.empty_like() | \n",
    "| two-dimensional lists and arrays | Lists that hold other lists and arrays that hold other arrays are multi-dimensional. We will work with two dimensional arrays in this section.|\n",
    "\n",
    "### Arrays\n",
    "\n",
    "Lists in Python do not need to be cast a particular type of object such as float, string, or object. This makes programming in Python relatively simple. Lists in Python are dynamic, meaning that they are not fixed in size. This comes with the drawback that execution time is slower than it otherwise could be. \n",
    "\n",
    "Although it is a library in Python, numpy functions are programmed in C++. The numpy library solves this problem by creating arrays that contain data types that are values. These include integers and a variety of floats. Both of these aspects contribute to a substantial increase in efficiency for computation performed using numby arrays instead of dynamic lists. \n",
    "\n",
    "There are a number of ways to create a numpy array. The easiest is simply to convert a python list using the command array. "
   ]
  },
  {
   "cell_type": "code",
   "execution_count": 1,
   "metadata": {},
   "outputs": [
    {
     "name": "stdout",
     "output_type": "stream",
     "text": [
      "[1 2 3 4 5]\n"
     ]
    }
   ],
   "source": [
    "#numpyArray.py\n",
    "import numpy as np\n",
    "\n",
    "array = np.array([1, 2, 3, 4, 5])\n",
    "print(array)"
   ]
  },
  {
   "cell_type": "markdown",
   "metadata": {},
   "source": [
    "We have created an array of 32-bit integers. We can check the data type by calling the attribute _.dtype_ after the array object"
   ]
  },
  {
   "cell_type": "code",
   "execution_count": 2,
   "metadata": {},
   "outputs": [
    {
     "name": "stdout",
     "output_type": "stream",
     "text": [
      "int32\n"
     ]
    }
   ],
   "source": [
    "print(array.dtype)"
   ]
  },
  {
   "cell_type": "markdown",
   "metadata": {},
   "source": [
    "If we include a decimal point with any single value, the type will change to a float."
   ]
  },
  {
   "cell_type": "code",
   "execution_count": 3,
   "metadata": {},
   "outputs": [
    {
     "name": "stdout",
     "output_type": "stream",
     "text": [
      "[1. 2. 3. 4. 5.]\n",
      "float64\n"
     ]
    }
   ],
   "source": [
    "#numpyArrayFloat.py\n",
    "import numpy as np\n",
    "\n",
    "array = np.array([1, 2., 3, 4, 5])\n",
    "print(array)\n",
    "print(array.dtype)"
   ]
  },
  {
   "cell_type": "markdown",
   "metadata": {},
   "source": [
    "Numpy also includes command that allow you to quickly make arrays of 1) a range of numbers, 2) zeros, and 3) ones. \n",
    "\n",
    "The _arange()_ takes the input (_start_, _end + 1_, _interval_). If only one number is entered, it assumes that the start of the range is 0. If two numbers are entered, the first number represents the start of the range. The highest values input into the array will be one less than the second number. Below we create an array with range [0,100]"
   ]
  },
  {
   "cell_type": "code",
   "execution_count": 4,
   "metadata": {},
   "outputs": [
    {
     "name": "stdout",
     "output_type": "stream",
     "text": [
      "[  0   1   2   3   4   5   6   7   8   9  10  11  12  13  14  15  16  17\n",
      "  18  19  20  21  22  23  24  25  26  27  28  29  30  31  32  33  34  35\n",
      "  36  37  38  39  40  41  42  43  44  45  46  47  48  49  50  51  52  53\n",
      "  54  55  56  57  58  59  60  61  62  63  64  65  66  67  68  69  70  71\n",
      "  72  73  74  75  76  77  78  79  80  81  82  83  84  85  86  87  88  89\n",
      "  90  91  92  93  94  95  96  97  98  99 100]\n"
     ]
    }
   ],
   "source": [
    "#numpyInstantArrays.py\n",
    "import numpy as np\n",
    "\n",
    "range_array = np.arange(0,101)\n",
    "print(range_array)"
   ]
  },
  {
   "cell_type": "markdown",
   "metadata": {},
   "source": [
    "We can create another array using the same range, but this time let’s count by two."
   ]
  },
  {
   "cell_type": "code",
   "execution_count": 5,
   "metadata": {},
   "outputs": [
    {
     "name": "stdout",
     "output_type": "stream",
     "text": [
      "[  0   2   4   6   8  10  12  14  16  18  20  22  24  26  28  30  32  34\n",
      "  36  38  40  42  44  46  48  50  52  54  56  58  60  62  64  66  68  70\n",
      "  72  74  76  78  80  82  84  86  88  90  92  94  96  98 100]\n"
     ]
    }
   ],
   "source": [
    "range_array2 = np.arange(0,101,2)\n",
    "print(range_array2)"
   ]
  },
  {
   "cell_type": "markdown",
   "metadata": {},
   "source": [
    "So far, we have only worked with lists of one dimension. Lists in Python may have multiple dimension. Below we create a two dimensional list:"
   ]
  },
  {
   "cell_type": "code",
   "execution_count": 6,
   "metadata": {},
   "outputs": [
    {
     "name": "stdout",
     "output_type": "stream",
     "text": [
      "[[1, 2, 3, 4], [2, 3, 4, 5]]\n"
     ]
    }
   ],
   "source": [
    "#twoDimensionalListAndNumpyArray.py\n",
    "import numpy as np\n",
    "\n",
    "two_dim_list = [[1, 2, 3, 4], [2, 3, 4, 5]]\n",
    "print(two_dim_list)"
   ]
  },
  {
   "cell_type": "markdown",
   "metadata": {},
   "source": [
    "This is a list of lists. This can be read as a list with two elements. Those two elements are both list with four elements that are integers. We can print each of these lists in two_dim_list by using a for loop:"
   ]
  },
  {
   "cell_type": "code",
   "execution_count": 7,
   "metadata": {},
   "outputs": [
    {
     "name": "stdout",
     "output_type": "stream",
     "text": [
      "[1, 2, 3, 4]\n",
      "[2, 3, 4, 5]\n"
     ]
    }
   ],
   "source": [
    "for i in range(len(two_dim_list)):\n",
    "    print(two_dim_list[i])"
   ]
  },
  {
   "cell_type": "markdown",
   "metadata": {},
   "source": [
    "The elements from each of these lists can be called individually by using to index values: the first value calls the list in two_dim_list, the second value calls an element form that list. We call each element by using an additional for loop:"
   ]
  },
  {
   "cell_type": "code",
   "execution_count": 8,
   "metadata": {},
   "outputs": [
    {
     "name": "stdout",
     "output_type": "stream",
     "text": [
      "[1, 2, 3, 4]\n",
      "1\n",
      "2\n",
      "3\n",
      "4\n",
      "[2, 3, 4, 5]\n",
      "2\n",
      "3\n",
      "4\n",
      "5\n"
     ]
    }
   ],
   "source": [
    "for i in range(len(two_dim_list)):\n",
    "    print(two_dim_list[i])\n",
    "    for j in range(len(two_dim_list[i])):\n",
    "        print(two_dim_list[i][j])"
   ]
  },
  {
   "cell_type": "markdown",
   "metadata": {},
   "source": [
    "This list of integers can be passed to a function in the numpy library to create a two-dimensional array. In the same manner that we create a one-dimensional array:"
   ]
  },
  {
   "cell_type": "code",
   "execution_count": 9,
   "metadata": {},
   "outputs": [
    {
     "name": "stdout",
     "output_type": "stream",
     "text": [
      "[[1 2 3 4]\n",
      " [2 3 4 5]]\n"
     ]
    }
   ],
   "source": [
    "two_dim_array = np.array(two_dim_list)\n",
    "print(two_dim_array)"
   ]
  },
  {
   "cell_type": "markdown",
   "metadata": {},
   "source": [
    "We can print this function and its elements using the same structure that we used for _two_dim_list_."
   ]
  },
  {
   "cell_type": "code",
   "execution_count": 10,
   "metadata": {},
   "outputs": [
    {
     "name": "stdout",
     "output_type": "stream",
     "text": [
      "[1 2 3 4]\n",
      "1\n",
      "2\n",
      "3\n",
      "4\n",
      "[2 3 4 5]\n",
      "2\n",
      "3\n",
      "4\n",
      "5\n"
     ]
    }
   ],
   "source": [
    "for i in range(len(two_dim_array)):\n",
    "    print(two_dim_array[i])\n",
    "    for j in range(len(two_dim_array[i])):\n",
    "        print(two_dim_array[i][j])"
   ]
  },
  {
   "cell_type": "markdown",
   "metadata": {},
   "source": [
    "Two dimensional arrays can be useful for working with multiple variables. For the most part, we will work with dictionaries and dataframes, but it is useful to understand how data is structured and called using a two dimensional array.\n",
    "\n",
    "Data in an array can be entered for each individual element. Entry of data into an array comprised of zeros helps to illustrate the point. We will enter new values into the second element of the zeroth list ([0][2]), the zeroth element of the first list ([1][0], and the second element of the second list [2][2]:"
   ]
  },
  {
   "cell_type": "code",
   "execution_count": 11,
   "metadata": {},
   "outputs": [
    {
     "name": "stdout",
     "output_type": "stream",
     "text": [
      "Original Array:\n",
      "[[0. 0. 0.]\n",
      " [0. 0. 0.]\n",
      " [0. 0. 0.]]\n",
      "Updated Array:\n",
      "[[0. 0. 9.]\n",
      " [7. 0. 0.]\n",
      " [0. 0. 3.]]\n"
     ]
    }
   ],
   "source": [
    "#enterValuesInArray.py\n",
    "import numpy as np\n",
    "\n",
    "array = np.zeros((3, 3))\n",
    "print(\"Original Array:\", array, sep = \"\\n\")\n",
    "\n",
    "array[0][2] = 9\n",
    "array[1][0] = 7\n",
    "array[2][2] = 3\n",
    "print(\"Updated Array:\", array, sep = \"\\n\")"
   ]
  },
  {
   "cell_type": "markdown",
   "metadata": {},
   "source": [
    "There are several functions that operate like the zeros function. For example, _np.ones()_ return an array of ones and _np.empty()_ returns an array of random values. Similar functions create an array of the same dimension as the one passed. For example, a 3X3 array passed to *np.zeros_like()* will create a 3X3 array of zeros. We test several of these functions below:"
   ]
  },
  {
   "cell_type": "code",
   "execution_count": 12,
   "metadata": {},
   "outputs": [
    {
     "name": "stdout",
     "output_type": "stream",
     "text": [
      "list_of_lists:\n",
      "[[1, 2, 3], [4, 5, 6], [7, 8, 9]]\n",
      "array_of_arrays:\n",
      "[[1 2 3]\n",
      " [4 5 6]\n",
      " [7 8 9]]\n",
      "zeros_like_array:\n",
      "[[0 0 0]\n",
      " [0 0 0]\n",
      " [0 0 0]]\n",
      "ones_like_array:\n",
      "[[1 1 1]\n",
      " [1 1 1]\n",
      " [1 1 1]]\n",
      "empty_like_array:\n",
      "[[-1094753040         617   538970665]\n",
      " [ 1634541600  1684368243  1920098655]\n",
      " [  170424673   538976288  1633951776]]\n"
     ]
    }
   ],
   "source": [
    "#zerosOnesAndLike.py  \n",
    "import numpy as np  \n",
    "list_of_lists = [[1,2,3], [4,5,6], [7,8,9]]  \n",
    "array_of_arrays = np.array(list_of_lists)  \n",
    "zeros_like_array = np.zeros_like(list_of_lists)  \n",
    "ones_like_array = np.ones_like(list_of_lists)  \n",
    "empty_like_array = np.empty_like(list_of_lists)  \n",
    " \n",
    "print(\"list_of_lists:\", list_of_lists, sep=\"\\n\")  \n",
    "print(\"array_of_arrays:\", array_of_arrays, sep=\"\\n\")  \n",
    "print(\"zeros_like_array:\", zeros_like_array, sep=\"\\n\")  \n",
    "print(\"ones_like_array:\", ones_like_array, sep=\"\\n\")  \n",
    "print(\"empty_like_array:\", empty_like_array, sep=\"\\n\")  "
   ]
  },
  {
   "cell_type": "markdown",
   "metadata": {},
   "source": [
    "### Useful Methods and Values\n",
    "\n",
    "| New Concepts | Description |\n",
    "| --- | --- |\n",
    "| More _numpy_ Methods | _np.log()_, _np.log10()_ |\n",
    "| _numpy_ Values| _np.pi_, _np.e_, _np.inf_, _np.nan_ |\n",
    "\n",
    "Numpy has a number of special functions and values that may be useful depending on your purpose. We will cover a few of these. We encourage to take a look at the [full list](https://docs.scipy.org/doc/numpy/reference/routines.math.html).\n",
    "\n",
    "It is helpful to be aware of this list of functions, keeping in mind that implementing them is simple if you know where to find them.\n",
    "\n",
    "Below, we call several functions that may be useful when working with data. In particular, _np.ln()_ and _np.log()_ are useful for working with data that is subject to a trend. Changes in logged values approximate rates of change as compared to change in the unit of analysis."
   ]
  },
  {
   "cell_type": "code",
   "execution_count": 13,
   "metadata": {},
   "outputs": [
    {
     "name": "stdout",
     "output_type": "stream",
     "text": [
      "[    0   100   200   300   400   500   600   700   800   900  1000  1100\n",
      "  1200  1300  1400  1500  1600  1700  1800  1900  2000  2100  2200  2300\n",
      "  2400  2500  2600  2700  2800  2900  3000  3100  3200  3300  3400  3500\n",
      "  3600  3700  3800  3900  4000  4100  4200  4300  4400  4500  4600  4700\n",
      "  4800  4900  5000  5100  5200  5300  5400  5500  5600  5700  5800  5900\n",
      "  6000  6100  6200  6300  6400  6500  6600  6700  6800  6900  7000  7100\n",
      "  7200  7300  7400  7500  7600  7700  7800  7900  8000  8100  8200  8300\n",
      "  8400  8500  8600  8700  8800  8900  9000  9100  9200  9300  9400  9500\n",
      "  9600  9700  9800  9900 10000]\n",
      "[      -inf 4.60517019 5.29831737 5.70378247 5.99146455 6.2146081\n",
      " 6.39692966 6.55108034 6.68461173 6.80239476 6.90775528 7.00306546\n",
      " 7.09007684 7.17011954 7.24422752 7.31322039 7.37775891 7.43838353\n",
      " 7.49554194 7.54960917 7.60090246 7.64969262 7.69621264 7.7406644\n",
      " 7.78322402 7.82404601 7.86326672 7.90100705 7.9373747  7.97246602\n",
      " 8.00636757 8.03915739 8.07090609 8.10167775 8.13153071 8.16051825\n",
      " 8.18868912 8.2160881  8.24275635 8.26873183 8.29404964 8.31874225\n",
      " 8.3428398  8.3663703  8.38935982 8.41183268 8.43381158 8.45531779\n",
      " 8.4763712  8.49699048 8.51719319 8.53699582 8.5564139  8.5754621\n",
      " 8.59415423 8.61250337 8.63052188 8.64822145 8.6656132  8.68270763\n",
      " 8.69951475 8.71604405 8.73230457 8.74830491 8.76405327 8.77955746\n",
      " 8.79482493 8.80986281 8.82467789 8.83927669 8.85366543 8.86785006\n",
      " 8.88183631 8.89562963 8.90923528 8.9226583  8.93590353 8.94897561\n",
      " 8.96187901 8.97461804 8.98719682 8.99961934 9.01188943 9.02401079\n",
      " 9.03598698 9.04782144 9.05951748 9.0710783  9.082507   9.09380656\n",
      " 9.10497986 9.11602969 9.12695876 9.13776968 9.14846497 9.15904708\n",
      " 9.16951838 9.17988116 9.19013766 9.20029004 9.21034037]\n",
      "[      -inf 2.         2.30103    2.47712125 2.60205999 2.69897\n",
      " 2.77815125 2.84509804 2.90308999 2.95424251 3.         3.04139269\n",
      " 3.07918125 3.11394335 3.14612804 3.17609126 3.20411998 3.23044892\n",
      " 3.25527251 3.2787536  3.30103    3.32221929 3.34242268 3.36172784\n",
      " 3.38021124 3.39794001 3.41497335 3.43136376 3.44715803 3.462398\n",
      " 3.47712125 3.49136169 3.50514998 3.51851394 3.53147892 3.54406804\n",
      " 3.5563025  3.56820172 3.5797836  3.59106461 3.60205999 3.61278386\n",
      " 3.62324929 3.63346846 3.64345268 3.65321251 3.66275783 3.67209786\n",
      " 3.68124124 3.69019608 3.69897    3.70757018 3.71600334 3.72427587\n",
      " 3.73239376 3.74036269 3.74818803 3.75587486 3.76342799 3.77085201\n",
      " 3.77815125 3.78532984 3.79239169 3.79934055 3.80617997 3.81291336\n",
      " 3.81954394 3.8260748  3.83250891 3.83884909 3.84509804 3.85125835\n",
      " 3.8573325  3.86332286 3.86923172 3.87506126 3.88081359 3.88649073\n",
      " 3.8920946  3.89762709 3.90308999 3.90848502 3.91381385 3.91907809\n",
      " 3.92427929 3.92941893 3.93449845 3.93951925 3.94448267 3.94939001\n",
      " 3.95424251 3.95904139 3.96378783 3.96848295 3.97312785 3.97772361\n",
      " 3.98227123 3.98677173 3.99122608 3.99563519 4.        ]\n"
     ]
    },
    {
     "name": "stderr",
     "output_type": "stream",
     "text": [
      "C:\\Users\\JLCat\\AppData\\Local\\Temp\\ipykernel_33840\\846863434.py:5: RuntimeWarning: divide by zero encountered in log\n",
      "  ln_vals = np.log(vals)\n",
      "C:\\Users\\JLCat\\AppData\\Local\\Temp\\ipykernel_33840\\846863434.py:6: RuntimeWarning: divide by zero encountered in log10\n",
      "  log10_vals = np.log10(vals)\n"
     ]
    }
   ],
   "source": [
    "#numpyLogs.py\n",
    "import numpy as np\n",
    "\n",
    "vals = np.arange(0, 10001, 100)\n",
    "ln_vals = np.log(vals)\n",
    "log10_vals = np.log10(vals)\n",
    "print(vals)\n",
    "print(ln_vals)\n",
    "print(log10_vals)"
   ]
  },
  {
   "cell_type": "markdown",
   "metadata": {},
   "source": [
    "You can ignore the warnings generated in the console since for our purposes, a value of _-inf_ is informative rather than problematic. Notice that changes in the logged values are much more gradual than changes in the values from the original array. This will be useful when we visualize and analyze data.\n",
    "\n",
    "Numpy also provides values of special constants such as π. Below, we call a few of these values that will probably be useful to know at some point:"
   ]
  },
  {
   "cell_type": "code",
   "execution_count": 14,
   "metadata": {},
   "outputs": [
    {
     "name": "stdout",
     "output_type": "stream",
     "text": [
      "pi = 3.141592653589793\n",
      "e = 2.718281828459045\n",
      "ln(e) = 1.0\n",
      "infinity = inf\n",
      "null_val = nan\n"
     ]
    }
   ],
   "source": [
    "#specialValuesInNumpy.py\n",
    "import numpy as np\n",
    "\n",
    "pi = np.pi\n",
    "e = np.e\n",
    "lne = np.log(e)\n",
    "infinity = np.inf\n",
    "null_val = np.nan\n",
    "print(\"pi =\", pi)\n",
    "print(\"e =\", e)\n",
    "print(\"ln(e) =\", lne)\n",
    "print(\"infinity =\", infinity)\n",
    "print(\"null_val =\", null_val)"
   ]
  },
  {
   "cell_type": "markdown",
   "metadata": {},
   "source": [
    "As with the list of functions, it is worthwhile to commit to memory the commands for special values that you expect to use in your work. See [documentation](https://docs.scipy.org/doc/numpy/reference/constants.html) for a full list of constants.\n",
    "\n",
    "### Indexing\n",
    "\n",
    "| New Concepts | Description |\n",
    "| --- | --- |\n",
    "| Boolean Indexing | _numpy_ allows a boolean array to be generate in light of a truth condition; e.g., _array > 2_. The resultant array returns boolean values in that identify whether elements meet the condition or do not. The boolean array generated can be used to identify the subset of the original array that meets the condition. |\n",
    "\n",
    "The _numpy_ library allows users to select a subset of values in light of a particular criteria. In order to accomplish this, we would need to nest for loops and if functions to construct an array. In the following examples, we will create similar output using commands that are native to Python and those that are created using the numpy library.\n",
    "\n",
    "Suppose that you want to construct an array of even numbers. The following command would suffice:\n"
   ]
  },
  {
   "cell_type": "code",
   "execution_count": 15,
   "metadata": {},
   "outputs": [
    {
     "name": "stdout",
     "output_type": "stream",
     "text": [
      "[0, 2, 4, 6, 8, 10, 12, 14, 16, 18, 20, 22, 24, 26, 28, 30, 32, 34, 36, 38, 40, 42, 44, 46, 48, 50, 52, 54, 56, 58, 60, 62, 64, 66, 68, 70, 72, 74, 76, 78, 80, 82, 84, 86, 88, 90, 92, 94, 96, 98]\n"
     ]
    }
   ],
   "source": [
    "#evenNumbers.py\n",
    "even_nums = [i for i in range(100) if i % 2 == 0]\n",
    "print(even_nums)"
   ]
  },
  {
   "cell_type": "markdown",
   "metadata": {},
   "source": [
    "We create an array of even numbers using a generator function. The use of a generator function is concise. It tells python to record every value I from 0 to 99 that has a remainder of zero when divided by 2. We can accomplish the same task using a numpy array."
   ]
  },
  {
   "cell_type": "code",
   "execution_count": 16,
   "metadata": {},
   "outputs": [
    {
     "name": "stdout",
     "output_type": "stream",
     "text": [
      "[ 0  1  2  3  4  5  6  7  8  9 10 11 12 13 14 15 16 17 18 19 20 21 22 23\n",
      " 24 25 26 27 28 29 30 31 32 33 34 35 36 37 38 39 40 41 42 43 44 45 46 47\n",
      " 48 49 50 51 52 53 54 55 56 57 58 59 60 61 62 63 64 65 66 67 68 69 70 71\n",
      " 72 73 74 75 76 77 78 79 80 81 82 83 84 85 86 87 88 89 90 91 92 93 94 95\n",
      " 96 97 98 99]\n",
      "[ True False  True False  True False  True False  True False  True False\n",
      "  True False  True False  True False  True False  True False  True False\n",
      "  True False  True False  True False  True False  True False  True False\n",
      "  True False  True False  True False  True False  True False  True False\n",
      "  True False  True False  True False  True False  True False  True False\n",
      "  True False  True False  True False  True False  True False  True False\n",
      "  True False  True False  True False  True False  True False  True False\n",
      "  True False  True False  True False  True False  True False  True False\n",
      "  True False  True False]\n",
      "[ 0  2  4  6  8 10 12 14 16 18 20 22 24 26 28 30 32 34 36 38 40 42 44 46\n",
      " 48 50 52 54 56 58 60 62 64 66 68 70 72 74 76 78 80 82 84 86 88 90 92 94\n",
      " 96 98]\n"
     ]
    }
   ],
   "source": [
    "even_nums = np.arange(100)\n",
    "print(even_nums)\n",
    "index_array = even_nums % 2 == 0\n",
    "print(index_array)\n",
    "even_nums = even_nums[index_array]\n",
    "print(even_nums)"
   ]
  },
  {
   "cell_type": "markdown",
   "metadata": {},
   "source": [
    "Passing a constraint to the index returns an array whose values satisfy the constraint. In this case, only values divisible by 2 are returned.\n",
    "\n",
    "You probably won’t be looking for even numbers in your data. You may want to only include data that fits some minimum or maximum criteria. In the next example, we will produce random numbers and include only those numbers whose values satisfy a minimum constraint."
   ]
  },
  {
   "cell_type": "code",
   "execution_count": 17,
   "metadata": {},
   "outputs": [
    {
     "name": "stdout",
     "output_type": "stream",
     "text": [
      "rand_list values: [8.389146017776696, 0.8107704527468307, 1.3692802566499729, 8.535495758748468, 3.9211110810843506, 0.5034072989906158, 2.7740781467749285, 1.5480727465003796, 2.6108011862378264, 5.732951623005475]\n",
      "rand_list values > 3: [8.389146017776696, 8.535495758748468, 3.9211110810843506, 5.732951623005475]\n"
     ]
    }
   ],
   "source": [
    "#booleanIndexing.py\n",
    "import random\n",
    "\n",
    "rand_list = [random.random() * 10 for i in range(10)]\n",
    "print(\"rand_list values:\", rand_list)\n",
    "rand_list = [i for i in rand_list if i > 3]\n",
    "print(\"rand_list values > 3:\", rand_list)"
   ]
  },
  {
   "cell_type": "markdown",
   "metadata": {},
   "source": [
    "We could have produced the same output by adding the if statement to the end of the for loop in the previous generator function. We would not, however, been able to see the full range of values produced. \n",
    "\n",
    "We follow the same procedure as before to produce a numpy array whose values satisfy the constraint of being greater than 3. "
   ]
  },
  {
   "cell_type": "code",
   "execution_count": 18,
   "metadata": {},
   "outputs": [
    {
     "name": "stdout",
     "output_type": "stream",
     "text": [
      "rand_array: [-13.62053718   5.07491236  -3.82863153  -5.11860147 -13.4149938\n",
      "  14.24040441  20.11849016]\n",
      "rand_array > 3: [ 5.07491236 14.24040441 20.11849016]\n"
     ]
    }
   ],
   "source": [
    "#booleanIndexing.py\n",
    "# . . \n",
    "import numpy as np\n",
    "#. . .\n",
    "\n",
    "rand_array = np.random.randn(7) * 10\n",
    "print(\"rand_array:\", rand_array)\n",
    "print(\"rand_array > 3:\", rand_array[rand_array > 3])"
   ]
  },
  {
   "cell_type": "markdown",
   "metadata": {},
   "source": [
    "## _pandas_\n",
    "\n",
    "### Dictionaries\n",
    "\n",
    "| New Concepts | Description |\n",
    "| --- | --- |\n",
    "| generators (more) | Generators can be used to cycle through keys in a dictionary or even to instantiate a dictionary without crowding the script with several lines of repetative text |\n",
    "\n",
    "Numpy enables efficient computation, however, organizing data is a challenge if one is using only structures from numpy. One way of organizing data is to use a dictionary. While dictionaries are capable of holding any kind of object, they are especially well suited for managing data. Instead of creating multi-dimensional arrays to hold data, a dictionary allows us to enter a single vector of data and to pair this vector with a name. The name is the key that calls the vector.\n",
    "\n",
    "The pandas library operates like a dictionary with special structure and functions. To show this, we will create a dictionary with data from numpy arrays."
   ]
  },
  {
   "cell_type": "code",
   "execution_count": 19,
   "metadata": {},
   "outputs": [
    {
     "name": "stdout",
     "output_type": "stream",
     "text": [
      "{'0 to 9': array([0, 1, 2, 3, 4, 5, 6, 7, 8, 9]), 'ones': array([1., 1., 1., 1., 1., 1., 1., 1., 1., 1.]), 'zeros': array([0., 0., 0., 0., 0., 0., 0., 0., 0., 0.])}\n"
     ]
    }
   ],
   "source": [
    "#dataDict.py\n",
    "import numpy as np\n",
    "\n",
    "data_dict = {\"0 to 9\" : np.arange(10),\n",
    "            \"ones\" : np.ones(10),\n",
    "            \"zeros\" : np.zeros(10)}\n",
    "print(data_dict)"
   ]
  },
  {
   "cell_type": "markdown",
   "metadata": {},
   "source": [
    "Printing the dictionary shows the data attached to the key. This does not look very well organized. Let’s see what happens if we call each key indvidiually and print the output."
   ]
  },
  {
   "cell_type": "code",
   "execution_count": 20,
   "metadata": {},
   "outputs": [
    {
     "name": "stdout",
     "output_type": "stream",
     "text": [
      "[array([0, 1, 2, 3, 4, 5, 6, 7, 8, 9]), array([1., 1., 1., 1., 1., 1., 1., 1., 1., 1.]), array([0., 0., 0., 0., 0., 0., 0., 0., 0., 0.])]\n"
     ]
    }
   ],
   "source": [
    "print([data_dict[key] for key in data_dict])"
   ]
  },
  {
   "cell_type": "markdown",
   "metadata": {},
   "source": [
    "Ths result did not improve the readability of the output. And the keys disappeared! \n",
    "\n",
    "Let’s use the print function to clean up the presentation. We will use a generator function to print each key and the array that it calls in *data_dict*."
   ]
  },
  {
   "cell_type": "code",
   "execution_count": 21,
   "metadata": {},
   "outputs": [
    {
     "name": "stdout",
     "output_type": "stream",
     "text": [
      "['0 to 9 [0 1 2 3 4 5 6 7 8 9]', 'ones [1. 1. 1. 1. 1. 1. 1. 1. 1. 1.]', 'zeros [0. 0. 0. 0. 0. 0. 0. 0. 0. 0.]']\n"
     ]
    }
   ],
   "source": [
    "print([key + \" \" + str(data_dict[key]) for key in data_dict])"
   ]
  },
  {
   "cell_type": "markdown",
   "metadata": {},
   "source": [
    "We can also call only a portion of each array by calling a slice of it. Alter the string passed to print() by adding a slice, _[5:10]_."
   ]
  },
  {
   "cell_type": "code",
   "execution_count": 22,
   "metadata": {},
   "outputs": [
    {
     "name": "stdout",
     "output_type": "stream",
     "text": [
      "['0 to 9 [5 6 7 8 9]', 'ones [1. 1. 1. 1. 1.]', 'zeros [0. 0. 0. 0. 0.]']\n"
     ]
    }
   ],
   "source": [
    "print([key + \" \" + str(data_dict[key][5:10]) for key in data_dict])"
   ]
  },
  {
   "cell_type": "markdown",
   "metadata": {},
   "source": [
    "### DataFrame\n",
    "| New Concepts | Description |\n",
    "| --- | --- |\n",
    "| _pandas_ | Pandas is the most popular data structure library in python. Its dataframes are particularly popular as they contain many of the same attributes as dictionaries and provide substantially m ore functionality. |\n",
    "| _pandas_ data structures | _pd.Series()_, _pd.DataFrame()_ |\n",
    "\n",
    "Dictionaries are useful for organizing data, however, presentation of data could be improved. The pandas library retains all of the structural advantages of a dictionary. It also improves organization by simplifying processes required for calling and storing data, as well as improving visualization of the data structure. \n",
    "\n",
    "The pandas libraries includes _Series()_ and _DataFrame()_, which call data structures. _Series()_ can store a single column of data with and index and a column name. _DataFrame()_ can hold multiple vectors of data, each called by a key that serves to name the vector of data. \n",
    "\n",
    "You can pass a dictionary with a single vector to either a _Series()_ or a _DataFrame()_. Typically, _DataFrame()_ serve the same purpose as _Series()_. According to the _pandas_ API, “Can be thought of as a dict-like container for _Series_ objects.” A DataFrame adds the benefit of a key that is used to call the series:"
   ]
  },
  {
   "cell_type": "code",
   "execution_count": 23,
   "metadata": {},
   "outputs": [
    {
     "name": "stdout",
     "output_type": "stream",
     "text": [
      "0    0\n",
      "1    1\n",
      "2    2\n",
      "3    3\n",
      "4    4\n",
      "5    5\n",
      "6    6\n",
      "7    7\n",
      "8    8\n",
      "9    9\n",
      "dtype: int32\n"
     ]
    }
   ],
   "source": [
    "#pandasSeriesVsDataFrame.py\n",
    "import numpy as np\n",
    "import pandas as pd\n",
    "\n",
    "data_series = pd.Series(np.arange(10))\n",
    "print(data_series)"
   ]
  },
  {
   "cell_type": "markdown",
   "metadata": {},
   "source": [
    "We can pass only an array to _Series()_ since the data structure has no label to identify the column of data generated. _pandas_ provides the _DataFrame_ data structure to organize data sets. Each column of the _DataFrame_ is a series that is tied to a column name.\n",
    "\n",
    "A _DataFrame_ is structured liked like a dictionary. In fact, it is often convenient to construct a DataFrame using a dictionary."
   ]
  },
  {
   "cell_type": "code",
   "execution_count": 24,
   "metadata": {},
   "outputs": [
    {
     "name": "stdout",
     "output_type": "stream",
     "text": [
      "{'range': array([0, 1, 2, 3, 4, 5, 6, 7, 8, 9])}\n",
      "   range\n",
      "0      0\n",
      "1      1\n",
      "2      2\n",
      "3      3\n",
      "4      4\n",
      "5      5\n",
      "6      6\n",
      "7      7\n",
      "8      8\n",
      "9      9\n"
     ]
    }
   ],
   "source": [
    "data_dict = {\"range\" : np.arange(10)}\n",
    "data_DF = pd.DataFrame(data_dict)\n",
    "print(data_dict)\n",
    "print(data_DF)"
   ]
  },
  {
   "cell_type": "markdown",
   "metadata": {},
   "source": [
    "Values in a _DataFrame_ are typically called by key and index. Calling dataDF[“range”] will return the _Series_ identified by that key. The data will not be preceded by the key at the top of the column, however the Series will identified as the name of the _Series_:"
   ]
  },
  {
   "cell_type": "code",
   "execution_count": 25,
   "metadata": {},
   "outputs": [
    {
     "name": "stdout",
     "output_type": "stream",
     "text": [
      "0    0\n",
      "1    1\n",
      "2    2\n",
      "3    3\n",
      "4    4\n",
      "5    5\n",
      "6    6\n",
      "7    7\n",
      "8    8\n",
      "9    9\n",
      "Name: range, dtype: int32\n"
     ]
    }
   ],
   "source": [
    "print(data_DF[\"range\"])"
   ]
  },
  {
   "cell_type": "markdown",
   "metadata": {},
   "source": [
    "As with the dictionary, we can call a slice of the DataFrame. This can be done one of two ways. Either call the desired column or columns and follow with the index values."
   ]
  },
  {
   "cell_type": "code",
   "execution_count": 26,
   "metadata": {},
   "outputs": [
    {
     "name": "stdout",
     "output_type": "stream",
     "text": [
      "5    5\n",
      "6    6\n",
      "7    7\n",
      "8    8\n",
      "Name: range, dtype: int32\n"
     ]
    }
   ],
   "source": [
    "print(data_DF[\"range\"][5:9])"
   ]
  },
  {
   "cell_type": "markdown",
   "metadata": {},
   "source": [
    "You may also use the loc command, which allows you to call the index without calling a particular column."
   ]
  },
  {
   "cell_type": "code",
   "execution_count": 27,
   "metadata": {},
   "outputs": [
    {
     "name": "stdout",
     "output_type": "stream",
     "text": [
      "   range\n",
      "5      5\n",
      "6      6\n",
      "7      7\n",
      "8      8\n",
      "9      9\n"
     ]
    }
   ],
   "source": [
    "print(data_DF.loc[5:9])"
   ]
  },
  {
   "cell_type": "markdown",
   "metadata": {},
   "source": [
    "### Using a Dictionary to Specify a DataFrame's Index\n",
    "\n",
    "When you save arrays in a dictionary, they do not include any particular index. Instead, pandas creates a general index from 0 to one less than the length of the array. If you do not need a particular index, this can work. \n",
    "\n",
    "It is often useful to create a dictionary and identify each value of interest individually. If you are a macroeconomist, you may, for example, collect data for “GDP”, “Real GDP”, the “Price Level”, and the quantity of “Money” (each key is in quotes). Below, we prepare a dictionary with values for years from 1990 to 2018.\n"
   ]
  },
  {
   "cell_type": "code",
   "execution_count": 28,
   "metadata": {},
   "outputs": [
    {
     "name": "stdout",
     "output_type": "stream",
     "text": [
      "{'GDP': {1990: 3349.434257035452, 1991: 6534.998850427724, 1992: 9512.569959490596, 1993: 5455.767253712746, 1994: 6019.139496889468, 1995: 6744.636808562765, 1996: 4816.911806197713, 1997: 7703.189028841061, 1998: 4282.358273683246, 1999: 8982.335276631815, 2000: 3619.586804437511, 2001: 5232.838545061917, 2002: 9984.990451187972, 2003: 8162.361993386246, 2004: 9603.313837468215, 2005: 5540.470536186441, 2006: 1841.4908339020087, 2007: 8334.640419263655, 2008: 5613.271004579622, 2009: 4537.05053549204, 2010: 3457.7264605608193, 2011: 3583.140528595835, 2012: 3452.7334979438874, 2013: 5843.494142630357, 2014: 684.2013546537196, 2015: 2370.12458776346, 2016: 9122.214724367548, 2017: 5059.599722981954}, 'Money': {1990: 9462.267877066799, 1991: 514.6547703725846, 1992: 8422.828303403368, 1993: 2899.6914222335467, 1994: 2826.3138189799542, 1995: 7609.533876032511, 1996: 4441.011787381849, 1997: 5883.703487990761, 1998: 869.1124454710886, 1999: 9579.39129148244, 2000: 6167.715517213915, 2001: 6565.118139802782, 2002: 4242.315362662351, 2003: 2408.216592312282, 2004: 7679.170679439992, 2005: 9549.587884491544, 2006: 8970.655815950722, 2007: 7603.8716264742325, 2008: 1395.2300685508933, 2009: 2237.017015207694, 2010: 9332.203221131569, 2011: 1250.8155619965544, 2012: 526.754289535436, 2013: 5866.295164062406, 2014: 3510.8957741765544, 2015: 2078.8361714160287, 2016: 6563.456562466221, 2017: 1732.5914613300363}, 'Real GDP': {1990: 9324.817792810569, 1991: 7759.979728226609, 1992: 6964.1756800048715, 1993: 9010.226340786869, 1994: 7922.429928567405, 1995: 3183.7178979677437, 1996: 2132.221357092086, 1997: 5546.361124775539, 1998: 2141.995282487311, 1999: 8790.111815454531, 2000: 3473.328505436275, 2001: 4270.821579959035, 2002: 9021.59836577828, 2003: 6658.74507758815, 2004: 3516.6776315938896, 2005: 8570.3301270859, 2006: 4255.530881350762, 2007: 730.147242521394, 2008: 2003.717486321096, 2009: 9638.769882823082, 2010: 2371.147673077809, 2011: 3389.18225648429, 2012: 1479.3145329247925, 2013: 883.4424357869264, 2014: 3797.2588645645956, 2015: 1727.414248130924, 2016: 4239.357301062926, 2017: 8570.824716772195}, 'Price Level': {1990: 4476.391233251167, 1991: 8708.978865784278, 1992: 2573.4328532476325, 1993: 3585.5295497519733, 1994: 6588.127497454511, 1995: 4840.280822333267, 1996: 474.3411813480447, 1997: 4922.435779938558, 1998: 892.8793428437332, 1999: 3362.885483062933, 2000: 9221.263565977999, 2001: 3307.2832957982278, 2002: 6965.630947695046, 2003: 3080.61224957898, 2004: 4078.935247727854, 2005: 2699.743295987573, 2006: 2342.6167558984366, 2007: 2752.497927008505, 2008: 4812.049028708133, 2009: 6082.435460777018, 2010: 8179.40760393578, 2011: 8720.835117935856, 2012: 8042.5423921318, 2013: 5115.8943318736065, 2014: 5288.921722604406, 2015: 4290.718803279676, 2016: 1787.3380642340019, 2017: 415.57694952948367}}\n"
     ]
    }
   ],
   "source": [
    "#dictWithIndexAndKey.py\n",
    "import pandas as pd\n",
    "import numpy as np\n",
    "import random\n",
    "\n",
    "macro_dict = {\"GDP\" : {},\n",
    "             \"Money\" : {},\n",
    "             \"Real GDP\" : {},\n",
    "             \"Price Level\" : {}}\n",
    "\n",
    "for key in macro_dict:\n",
    "    for i in range(1990, 2018):\n",
    "        macro_dict[key][i] = np.random.random() * 10000\n",
    "\n",
    "print(macro_dict)"
   ]
  },
  {
   "cell_type": "markdown",
   "metadata": {},
   "source": [
    "Simply passing this to _DataFrame()_ will create a DataFrame that uses the years as indexers:"
   ]
  },
  {
   "cell_type": "code",
   "execution_count": 29,
   "metadata": {},
   "outputs": [
    {
     "name": "stdout",
     "output_type": "stream",
     "text": [
      "              GDP        Money     Real GDP  Price Level\n",
      "1990  3349.434257  9462.267877  9324.817793  4476.391233\n",
      "1991  6534.998850   514.654770  7759.979728  8708.978866\n",
      "1992  9512.569959  8422.828303  6964.175680  2573.432853\n",
      "1993  5455.767254  2899.691422  9010.226341  3585.529550\n",
      "1994  6019.139497  2826.313819  7922.429929  6588.127497\n",
      "1995  6744.636809  7609.533876  3183.717898  4840.280822\n",
      "1996  4816.911806  4441.011787  2132.221357   474.341181\n",
      "1997  7703.189029  5883.703488  5546.361125  4922.435780\n",
      "1998  4282.358274   869.112445  2141.995282   892.879343\n",
      "1999  8982.335277  9579.391291  8790.111815  3362.885483\n",
      "2000  3619.586804  6167.715517  3473.328505  9221.263566\n",
      "2001  5232.838545  6565.118140  4270.821580  3307.283296\n",
      "2002  9984.990451  4242.315363  9021.598366  6965.630948\n",
      "2003  8162.361993  2408.216592  6658.745078  3080.612250\n",
      "2004  9603.313837  7679.170679  3516.677632  4078.935248\n",
      "2005  5540.470536  9549.587884  8570.330127  2699.743296\n",
      "2006  1841.490834  8970.655816  4255.530881  2342.616756\n",
      "2007  8334.640419  7603.871626   730.147243  2752.497927\n",
      "2008  5613.271005  1395.230069  2003.717486  4812.049029\n",
      "2009  4537.050535  2237.017015  9638.769883  6082.435461\n",
      "2010  3457.726461  9332.203221  2371.147673  8179.407604\n",
      "2011  3583.140529  1250.815562  3389.182256  8720.835118\n",
      "2012  3452.733498   526.754290  1479.314533  8042.542392\n",
      "2013  5843.494143  5866.295164   883.442436  5115.894332\n",
      "2014   684.201355  3510.895774  3797.258865  5288.921723\n",
      "2015  2370.124588  2078.836171  1727.414248  4290.718803\n",
      "2016  9122.214724  6563.456562  4239.357301  1787.338064\n",
      "2017  5059.599723  1732.591461  8570.824717   415.576950\n"
     ]
    }
   ],
   "source": [
    "macro_DF = pd.DataFrame(macro_dict)  \n",
    "print(macro_DF)\n"
   ]
  },
  {
   "cell_type": "markdown",
   "metadata": {},
   "source": [
    "Once the _DataFrame_ has been created, it is easy to create new values using data from the existing _DataFrame_. For example, the velocity of money is calculated as the quantity of money divided by GDP (these are random values, but let’s assume that they are real). We create a new column in the _DataFrame_:"
   ]
  },
  {
   "cell_type": "code",
   "execution_count": 30,
   "metadata": {},
   "outputs": [
    {
     "name": "stdout",
     "output_type": "stream",
     "text": [
      "              GDP        Money     Real GDP  Price Level   Velocity\n",
      "1990  3349.434257  9462.267877  9324.817793  4476.391233   0.353978\n",
      "1991  6534.998850   514.654770  7759.979728  8708.978866  12.697830\n",
      "1992  9512.569959  8422.828303  6964.175680  2573.432853   1.129380\n",
      "1993  5455.767254  2899.691422  9010.226341  3585.529550   1.881499\n",
      "1994  6019.139497  2826.313819  7922.429929  6588.127497   2.129678\n",
      "1995  6744.636809  7609.533876  3183.717898  4840.280822   0.886340\n",
      "1996  4816.911806  4441.011787  2132.221357   474.341181   1.084643\n",
      "1997  7703.189029  5883.703488  5546.361125  4922.435780   1.309242\n",
      "1998  4282.358274   869.112445  2141.995282   892.879343   4.927278\n",
      "1999  8982.335277  9579.391291  8790.111815  3362.885483   0.937673\n",
      "2000  3619.586804  6167.715517  3473.328505  9221.263566   0.586860\n",
      "2001  5232.838545  6565.118140  4270.821580  3307.283296   0.797067\n",
      "2002  9984.990451  4242.315363  9021.598366  6965.630948   2.353665\n",
      "2003  8162.361993  2408.216592  6658.745078  3080.612250   3.389380\n",
      "2004  9603.313837  7679.170679  3516.677632  4078.935248   1.250567\n",
      "2005  5540.470536  9549.587884  8570.330127  2699.743296   0.580179\n",
      "2006  1841.490834  8970.655816  4255.530881  2342.616756   0.205279\n",
      "2007  8334.640419  7603.871626   730.147243  2752.497927   1.096105\n",
      "2008  5613.271005  1395.230069  2003.717486  4812.049029   4.023187\n",
      "2009  4537.050535  2237.017015  9638.769883  6082.435461   2.028170\n",
      "2010  3457.726461  9332.203221  2371.147673  8179.407604   0.370516\n",
      "2011  3583.140529  1250.815562  3389.182256  8720.835118   2.864643\n",
      "2012  3452.733498   526.754290  1479.314533  8042.542392   6.554733\n",
      "2013  5843.494143  5866.295164   883.442436  5115.894332   0.996113\n",
      "2014   684.201355  3510.895774  3797.258865  5288.921723   0.194879\n",
      "2015  2370.124588  2078.836171  1727.414248  4290.718803   1.140121\n",
      "2016  9122.214724  6563.456562  4239.357301  1787.338064   1.389849\n",
      "2017  5059.599723  1732.591461  8570.824717   415.576950   2.920250\n"
     ]
    }
   ],
   "source": [
    "macro_DF[\"Velocity\"] = macro_DF[\"GDP\"] / macro_DF[\"Money\"]\n",
    "print(macro_DF)"
   ]
  },
  {
   "cell_type": "markdown",
   "metadata": {},
   "source": [
    "As with the previous example, we can call a slice of this _DataFrame_ using _.loc()_. The following command calls data from 1995 to 2000:"
   ]
  },
  {
   "cell_type": "code",
   "execution_count": 31,
   "metadata": {},
   "outputs": [
    {
     "data": {
      "text/html": [
       "<div>\n",
       "<style scoped>\n",
       "    .dataframe tbody tr th:only-of-type {\n",
       "        vertical-align: middle;\n",
       "    }\n",
       "\n",
       "    .dataframe tbody tr th {\n",
       "        vertical-align: top;\n",
       "    }\n",
       "\n",
       "    .dataframe thead th {\n",
       "        text-align: right;\n",
       "    }\n",
       "</style>\n",
       "<table border=\"1\" class=\"dataframe\">\n",
       "  <thead>\n",
       "    <tr style=\"text-align: right;\">\n",
       "      <th></th>\n",
       "      <th>GDP</th>\n",
       "      <th>Money</th>\n",
       "      <th>Real GDP</th>\n",
       "      <th>Price Level</th>\n",
       "      <th>Velocity</th>\n",
       "    </tr>\n",
       "  </thead>\n",
       "  <tbody>\n",
       "    <tr>\n",
       "      <th>1995</th>\n",
       "      <td>6744.636809</td>\n",
       "      <td>7609.533876</td>\n",
       "      <td>3183.717898</td>\n",
       "      <td>4840.280822</td>\n",
       "      <td>0.886340</td>\n",
       "    </tr>\n",
       "    <tr>\n",
       "      <th>1996</th>\n",
       "      <td>4816.911806</td>\n",
       "      <td>4441.011787</td>\n",
       "      <td>2132.221357</td>\n",
       "      <td>474.341181</td>\n",
       "      <td>1.084643</td>\n",
       "    </tr>\n",
       "    <tr>\n",
       "      <th>1997</th>\n",
       "      <td>7703.189029</td>\n",
       "      <td>5883.703488</td>\n",
       "      <td>5546.361125</td>\n",
       "      <td>4922.435780</td>\n",
       "      <td>1.309242</td>\n",
       "    </tr>\n",
       "    <tr>\n",
       "      <th>1998</th>\n",
       "      <td>4282.358274</td>\n",
       "      <td>869.112445</td>\n",
       "      <td>2141.995282</td>\n",
       "      <td>892.879343</td>\n",
       "      <td>4.927278</td>\n",
       "    </tr>\n",
       "    <tr>\n",
       "      <th>1999</th>\n",
       "      <td>8982.335277</td>\n",
       "      <td>9579.391291</td>\n",
       "      <td>8790.111815</td>\n",
       "      <td>3362.885483</td>\n",
       "      <td>0.937673</td>\n",
       "    </tr>\n",
       "    <tr>\n",
       "      <th>2000</th>\n",
       "      <td>3619.586804</td>\n",
       "      <td>6167.715517</td>\n",
       "      <td>3473.328505</td>\n",
       "      <td>9221.263566</td>\n",
       "      <td>0.586860</td>\n",
       "    </tr>\n",
       "  </tbody>\n",
       "</table>\n",
       "</div>"
      ],
      "text/plain": [
       "              GDP        Money     Real GDP  Price Level  Velocity\n",
       "1995  6744.636809  7609.533876  3183.717898  4840.280822  0.886340\n",
       "1996  4816.911806  4441.011787  2132.221357   474.341181  1.084643\n",
       "1997  7703.189029  5883.703488  5546.361125  4922.435780  1.309242\n",
       "1998  4282.358274   869.112445  2141.995282   892.879343  4.927278\n",
       "1999  8982.335277  9579.391291  8790.111815  3362.885483  0.937673\n",
       "2000  3619.586804  6167.715517  3473.328505  9221.263566  0.586860"
      ]
     },
     "execution_count": 31,
     "metadata": {},
     "output_type": "execute_result"
    }
   ],
   "source": [
    "macro_DF.loc[1995:2000]"
   ]
  },
  {
   "cell_type": "markdown",
   "metadata": {},
   "source": [
    "You may choose to call only a slice of a particular column. This may be accomplished in one of two ways. The column name may be called before or after _.loc[]_. Thus, we can call the same slice for only Real GDP using:"
   ]
  },
  {
   "cell_type": "code",
   "execution_count": 32,
   "metadata": {},
   "outputs": [
    {
     "data": {
      "text/plain": [
       "1995    3183.717898\n",
       "1996    2132.221357\n",
       "1997    5546.361125\n",
       "1998    2141.995282\n",
       "1999    8790.111815\n",
       "2000    3473.328505\n",
       "Name: Real GDP, dtype: float64"
      ]
     },
     "execution_count": 32,
     "metadata": {},
     "output_type": "execute_result"
    }
   ],
   "source": [
    "macro_DF[\"Real GDP\"].loc[1995:2000]"
   ]
  },
  {
   "cell_type": "markdown",
   "metadata": {},
   "source": [
    "or"
   ]
  },
  {
   "cell_type": "code",
   "execution_count": 33,
   "metadata": {},
   "outputs": [
    {
     "data": {
      "text/plain": [
       "1995    3183.717898\n",
       "1996    2132.221357\n",
       "1997    5546.361125\n",
       "1998    2141.995282\n",
       "1999    8790.111815\n",
       "2000    3473.328505\n",
       "Name: Real GDP, dtype: float64"
      ]
     },
     "execution_count": 33,
     "metadata": {},
     "output_type": "execute_result"
    }
   ],
   "source": [
    "macro_DF.loc[1995:2000][\"Real GDP\"]"
   ]
  },
  {
   "cell_type": "markdown",
   "metadata": {},
   "source": [
    "Now that we have familiarized ourselves with basic commands for working with pandas, we are ready to work with real data. In the next chapter we import and clean data.\n",
    "\n",
    "## matplotlib\n",
    "\n",
    "| New Concepts | Description |\n",
    "| --- | --- | \n",
    "| _matplotlib_ | Python’s most popular data visualization library |\n",
    "| _matplotlib.pyplot_ methods | _plt.plot()_, _plt.scatter()_, _plt.figure()_, _plt.show()_, _plt.close()_, _plt.rcParams()_, _plt.title()_, _plt.legend()_ |\n",
    "| _matplotlib_ wrapper for _pandas_ | The pandas library can communicate directly with matplotlib using a wrapper. This allows matplotlib commands to be called from a pandas data frame. |\n",
    "| _pd.DataFrame()_ methods and attributes | _.keys()_, _.items()_, _.vals_ |\n",
    "\n",
    "We can use _matplotlib_ to plot the data that was just created working from the same script. There is more than one way to plot data. Pandas provides a convenient wrapper that uses _matplotlib.pyplot.plot()_ and similar commands with the command:"
   ]
  },
  {
   "cell_type": "code",
   "execution_count": 34,
   "metadata": {
    "tags": [
     "nbval-ignore-output"
    ]
   },
   "outputs": [
    {
     "data": {
      "text/plain": [
       "<AxesSubplot:>"
      ]
     },
     "execution_count": 34,
     "metadata": {},
     "output_type": "execute_result"
    },
    {
     "data": {
      "image/png": "[encoded data removed]",
      "text/plain": [
       "<Figure size 432x288 with 1 Axes>"
      ]
     },
     "metadata": {
      "needs_background": "light"
     },
     "output_type": "display_data"
    }
   ],
   "source": [
    "macro_DF.plot()"
   ]
  },
  {
   "cell_type": "markdown",
   "metadata": {},
   "source": [
    "Below we build plots using the matplotlib wrapper from pandas."
   ]
  },
  {
   "cell_type": "code",
   "execution_count": 35,
   "metadata": {},
   "outputs": [
    {
     "data": {
      "text/plain": [
       "<AxesSubplot:>"
      ]
     },
     "execution_count": 35,
     "metadata": {},
     "output_type": "execute_result"
    },
    {
     "data": {
      "image/png": "[encoded data removed]",
      "text/plain": [
       "<Figure size 432x288 with 1 Axes>"
      ]
     },
     "metadata": {
      "needs_background": "light"
     },
     "output_type": "display_data"
    }
   ],
   "source": [
    "import matplotlib.pyplot as plt\n",
    "%matplotlib inline\n",
    "macro_DF.plot.line(legend = \"best\")"
   ]
  },
  {
   "cell_type": "markdown",
   "metadata": {},
   "source": [
    "Since the values that we are using are most random, the graph is a bit cluttered. This means that there is no good place within the graph to place the legend. It may help to create graphs for each key one at a time. For this, we will use a for loop that calls each key (i.e., column name) one at a time. For each key called, we can plot the data associated with the key in a single graph."
   ]
  },
  {
   "cell_type": "code",
   "execution_count": 36,
   "metadata": {},
   "outputs": [
    {
     "data": {
      "image/png": "[encoded data removed]",
      "text/plain": [
       "<Figure size 432x288 with 1 Axes>"
      ]
     },
     "metadata": {
      "needs_background": "light"
     },
     "output_type": "display_data"
    },
    {
     "data": {
      "image/png": "[encoded data removed]",
      "text/plain": [
       "<Figure size 432x288 with 1 Axes>"
      ]
     },
     "metadata": {
      "needs_background": "light"
     },
     "output_type": "display_data"
    },
    {
     "data": {
      "image/png": "[encoded data removed]",
      "text/plain": [
       "<Figure size 432x288 with 1 Axes>"
      ]
     },
     "metadata": {
      "needs_background": "light"
     },
     "output_type": "display_data"
    },
    {
     "data": {
      "image/png": "[encoded data removed]",
      "text/plain": [
       "<Figure size 432x288 with 1 Axes>"
      ]
     },
     "metadata": {
      "needs_background": "light"
     },
     "output_type": "display_data"
    },
    {
     "data": {
      "image/png": "[encoded data removed]",
      "text/plain": [
       "<Figure size 432x288 with 1 Axes>"
      ]
     },
     "metadata": {
      "needs_background": "light"
     },
     "output_type": "display_data"
    }
   ],
   "source": [
    "for key in macro_DF:\n",
    "    macro_DF[key].plot.line()\n",
    "    plt.title(key, fontsize = 20)\n",
    "    plt.show()\n",
    "    plt.close()"
   ]
  },
  {
   "cell_type": "markdown",
   "metadata": {},
   "source": [
    "### Plotting the Distribution of Income\n",
    "\n",
    "The statistics that we refer to above are typically learned in the context of probability distributions. The mean, variance, skewness, and kurtosis are the moments of the distribution. We will consider probability distributions, but it will be helpful to start simply by visualizing the distribution of data without concern for these statistics.The statistics are meaningful, but they are not especially intuitive someone with little background in math. \n",
    "\n",
    "A data visualization can provide this intuition. We know, for instance that the mean household income in the United States in 2020 was around $67,500$. But more interesting: how many households made over $100,000? How many were in poverty? \n",
    "\n",
    "For our first visualization, we will plot income levels to see how the US's income distribution looks. The data are contained in the excel file \"hinc06.xlsx\", avaliable at [The US Census Bureau](https://www.census.gov/data/tables/time-series/demo/income-poverty/cps-hinc.html)"
   ]
  },
  {
   "cell_type": "code",
   "execution_count": 37,
   "metadata": {},
   "outputs": [],
   "source": [
    "income_data = pd.read_excel(\"https://www2.census.gov/programs-surveys/cps/tables/hinc-06/2019/hinc06.xls\", header=[7])\n",
    "income_data = income_data.rename(columns = {\"Unnamed: 0\": \"Household Income\"})"
   ]
  },
  {
   "cell_type": "markdown",
   "metadata": {},
   "source": [
    "Let's make the numbers easier to read by making the units in terms of millions of people instead of thousands."
   ]
  },
  {
   "cell_type": "code",
   "execution_count": 38,
   "metadata": {},
   "outputs": [
    {
     "data": {
      "text/plain": [
       "1    0.000\n",
       "2    4.283\n",
       "3    3.337\n",
       "4    5.510\n",
       "5    5.772\n",
       "Name: Number, dtype: float64"
      ]
     },
     "execution_count": 38,
     "metadata": {},
     "output_type": "execute_result"
    }
   ],
   "source": [
    "income = income_data[\"Number\"][1:-1].div(1000)\n",
    "income.iloc[0] = 0\n",
    "income.head()"
   ]
  },
  {
   "cell_type": "markdown",
   "metadata": {},
   "source": [
    "We first create a list of our income \"buckets\", 5,000 dollars each, plus 200 and 250, which will be the x-axis for our visualization: "
   ]
  },
  {
   "cell_type": "code",
   "execution_count": 39,
   "metadata": {},
   "outputs": [
    {
     "name": "stdout",
     "output_type": "stream",
     "text": [
      "['0k', '5k', '10k', '15k', '20k', '25k', '30k', '35k', '40k', '45k', '50k', '55k', '60k', '65k', '70k', '75k', '80k', '85k', '90k', '95k', '100k', '105k', '110k', '115k', '120k', '125k', '130k', '135k', '140k', '145k', '150k', '155k', '160k', '165k', '170k', '175k', '180k', '185k', '190k', '195k', '200k', '250k', '250k+']\n"
     ]
    }
   ],
   "source": [
    "income_levels = list(range(0, 201, 5))\n",
    "income_levels.append(250)\n",
    "income_levels = [str(i) + \"k\" for i in income_levels]\n",
    "income_levels.append(\"250k+\")\n",
    "print(income_levels)"
   ]
  },
  {
   "cell_type": "code",
   "execution_count": 40,
   "metadata": {},
   "outputs": [
    {
     "data": {
      "text/html": [
       "<div>\n",
       "<style scoped>\n",
       "    .dataframe tbody tr th:only-of-type {\n",
       "        vertical-align: middle;\n",
       "    }\n",
       "\n",
       "    .dataframe tbody tr th {\n",
       "        vertical-align: top;\n",
       "    }\n",
       "\n",
       "    .dataframe thead th {\n",
       "        text-align: right;\n",
       "    }\n",
       "</style>\n",
       "<table border=\"1\" class=\"dataframe\">\n",
       "  <thead>\n",
       "    <tr style=\"text-align: right;\">\n",
       "      <th></th>\n",
       "      <th>Households in Bracket</th>\n",
       "      <th>Cumulative</th>\n",
       "    </tr>\n",
       "    <tr>\n",
       "      <th>Income Level</th>\n",
       "      <th></th>\n",
       "      <th></th>\n",
       "    </tr>\n",
       "  </thead>\n",
       "  <tbody>\n",
       "    <tr>\n",
       "      <th>0k</th>\n",
       "      <td>0.000</td>\n",
       "      <td>0.000</td>\n",
       "    </tr>\n",
       "    <tr>\n",
       "      <th>5k</th>\n",
       "      <td>4.283</td>\n",
       "      <td>4.283</td>\n",
       "    </tr>\n",
       "    <tr>\n",
       "      <th>10k</th>\n",
       "      <td>3.337</td>\n",
       "      <td>7.620</td>\n",
       "    </tr>\n",
       "    <tr>\n",
       "      <th>15k</th>\n",
       "      <td>5.510</td>\n",
       "      <td>13.130</td>\n",
       "    </tr>\n",
       "    <tr>\n",
       "      <th>20k</th>\n",
       "      <td>5.772</td>\n",
       "      <td>18.902</td>\n",
       "    </tr>\n",
       "  </tbody>\n",
       "</table>\n",
       "</div>"
      ],
      "text/plain": [
       "              Households in Bracket  Cumulative\n",
       "Income Level                                   \n",
       "0k                            0.000       0.000\n",
       "5k                            4.283       4.283\n",
       "10k                           3.337       7.620\n",
       "15k                           5.510      13.130\n",
       "20k                           5.772      18.902"
      ]
     },
     "execution_count": 40,
     "metadata": {},
     "output_type": "execute_result"
    }
   ],
   "source": [
    "income_data = pd.DataFrame({\"Income Level\":np.array(income_levels),\n",
    "                           \"Households in Bracket\":income})\n",
    "income_data[\"Cumulative\"] = income_data[\"Households in Bracket\"].cumsum()\n",
    "income_data = income_data.fillna(0).set_index(\"Income Level\")\n",
    "income_data.head()"
   ]
  },
  {
   "cell_type": "code",
   "execution_count": 41,
   "metadata": {},
   "outputs": [
    {
     "data": {
      "text/html": [
       "<div>\n",
       "<style scoped>\n",
       "    .dataframe tbody tr th:only-of-type {\n",
       "        vertical-align: middle;\n",
       "    }\n",
       "\n",
       "    .dataframe tbody tr th {\n",
       "        vertical-align: top;\n",
       "    }\n",
       "\n",
       "    .dataframe thead th {\n",
       "        text-align: right;\n",
       "    }\n",
       "</style>\n",
       "<table border=\"1\" class=\"dataframe\">\n",
       "  <thead>\n",
       "    <tr style=\"text-align: right;\">\n",
       "      <th></th>\n",
       "      <th>Households in Bracket</th>\n",
       "      <th>Cumulative</th>\n",
       "      <th>% in Bracket</th>\n",
       "      <th>Cumulative %</th>\n",
       "    </tr>\n",
       "    <tr>\n",
       "      <th>Income Level</th>\n",
       "      <th></th>\n",
       "      <th></th>\n",
       "      <th></th>\n",
       "      <th></th>\n",
       "    </tr>\n",
       "  </thead>\n",
       "  <tbody>\n",
       "    <tr>\n",
       "      <th>0k</th>\n",
       "      <td>0.000</td>\n",
       "      <td>0.000</td>\n",
       "      <td>0.000000</td>\n",
       "      <td>0.000</td>\n",
       "    </tr>\n",
       "    <tr>\n",
       "      <th>5k</th>\n",
       "      <td>4.283</td>\n",
       "      <td>4.283</td>\n",
       "      <td>3.330974</td>\n",
       "      <td>3.331</td>\n",
       "    </tr>\n",
       "    <tr>\n",
       "      <th>10k</th>\n",
       "      <td>3.337</td>\n",
       "      <td>7.620</td>\n",
       "      <td>2.595251</td>\n",
       "      <td>5.926</td>\n",
       "    </tr>\n",
       "    <tr>\n",
       "      <th>15k</th>\n",
       "      <td>5.510</td>\n",
       "      <td>13.130</td>\n",
       "      <td>4.285237</td>\n",
       "      <td>10.211</td>\n",
       "    </tr>\n",
       "    <tr>\n",
       "      <th>20k</th>\n",
       "      <td>5.772</td>\n",
       "      <td>18.902</td>\n",
       "      <td>4.488999</td>\n",
       "      <td>14.700</td>\n",
       "    </tr>\n",
       "    <tr>\n",
       "      <th>25k</th>\n",
       "      <td>5.672</td>\n",
       "      <td>24.574</td>\n",
       "      <td>4.411227</td>\n",
       "      <td>19.112</td>\n",
       "    </tr>\n",
       "    <tr>\n",
       "      <th>30k</th>\n",
       "      <td>5.469</td>\n",
       "      <td>30.043</td>\n",
       "      <td>4.253350</td>\n",
       "      <td>23.365</td>\n",
       "    </tr>\n",
       "    <tr>\n",
       "      <th>35k</th>\n",
       "      <td>5.822</td>\n",
       "      <td>35.865</td>\n",
       "      <td>4.527885</td>\n",
       "      <td>27.893</td>\n",
       "    </tr>\n",
       "    <tr>\n",
       "      <th>40k</th>\n",
       "      <td>5.404</td>\n",
       "      <td>41.269</td>\n",
       "      <td>4.202798</td>\n",
       "      <td>32.096</td>\n",
       "    </tr>\n",
       "    <tr>\n",
       "      <th>45k</th>\n",
       "      <td>5.195</td>\n",
       "      <td>46.464</td>\n",
       "      <td>4.040255</td>\n",
       "      <td>36.136</td>\n",
       "    </tr>\n",
       "    <tr>\n",
       "      <th>50k</th>\n",
       "      <td>4.839</td>\n",
       "      <td>51.303</td>\n",
       "      <td>3.763387</td>\n",
       "      <td>39.899</td>\n",
       "    </tr>\n",
       "    <tr>\n",
       "      <th>55k</th>\n",
       "      <td>5.300</td>\n",
       "      <td>56.603</td>\n",
       "      <td>4.121915</td>\n",
       "      <td>44.021</td>\n",
       "    </tr>\n",
       "    <tr>\n",
       "      <th>60k</th>\n",
       "      <td>4.417</td>\n",
       "      <td>61.020</td>\n",
       "      <td>3.435189</td>\n",
       "      <td>47.456</td>\n",
       "    </tr>\n",
       "    <tr>\n",
       "      <th>65k</th>\n",
       "      <td>4.604</td>\n",
       "      <td>65.624</td>\n",
       "      <td>3.580622</td>\n",
       "      <td>51.037</td>\n",
       "    </tr>\n",
       "    <tr>\n",
       "      <th>70k</th>\n",
       "      <td>3.999</td>\n",
       "      <td>69.623</td>\n",
       "      <td>3.110102</td>\n",
       "      <td>54.147</td>\n",
       "    </tr>\n",
       "    <tr>\n",
       "      <th>75k</th>\n",
       "      <td>3.795</td>\n",
       "      <td>73.418</td>\n",
       "      <td>2.951447</td>\n",
       "      <td>57.099</td>\n",
       "    </tr>\n",
       "    <tr>\n",
       "      <th>80k</th>\n",
       "      <td>3.950</td>\n",
       "      <td>77.368</td>\n",
       "      <td>3.071994</td>\n",
       "      <td>60.171</td>\n",
       "    </tr>\n",
       "    <tr>\n",
       "      <th>85k</th>\n",
       "      <td>3.349</td>\n",
       "      <td>80.717</td>\n",
       "      <td>2.604584</td>\n",
       "      <td>62.775</td>\n",
       "    </tr>\n",
       "    <tr>\n",
       "      <th>90k</th>\n",
       "      <td>3.064</td>\n",
       "      <td>83.781</td>\n",
       "      <td>2.382934</td>\n",
       "      <td>65.158</td>\n",
       "    </tr>\n",
       "    <tr>\n",
       "      <th>95k</th>\n",
       "      <td>3.102</td>\n",
       "      <td>86.883</td>\n",
       "      <td>2.412487</td>\n",
       "      <td>67.571</td>\n",
       "    </tr>\n",
       "    <tr>\n",
       "      <th>100k</th>\n",
       "      <td>2.581</td>\n",
       "      <td>89.464</td>\n",
       "      <td>2.007295</td>\n",
       "      <td>69.578</td>\n",
       "    </tr>\n",
       "    <tr>\n",
       "      <th>105k</th>\n",
       "      <td>2.866</td>\n",
       "      <td>92.330</td>\n",
       "      <td>2.228945</td>\n",
       "      <td>71.807</td>\n",
       "    </tr>\n",
       "    <tr>\n",
       "      <th>110k</th>\n",
       "      <td>2.449</td>\n",
       "      <td>94.779</td>\n",
       "      <td>1.904636</td>\n",
       "      <td>73.712</td>\n",
       "    </tr>\n",
       "    <tr>\n",
       "      <th>115k</th>\n",
       "      <td>2.318</td>\n",
       "      <td>97.097</td>\n",
       "      <td>1.802755</td>\n",
       "      <td>75.514</td>\n",
       "    </tr>\n",
       "    <tr>\n",
       "      <th>120k</th>\n",
       "      <td>1.971</td>\n",
       "      <td>99.068</td>\n",
       "      <td>1.532886</td>\n",
       "      <td>77.047</td>\n",
       "    </tr>\n",
       "    <tr>\n",
       "      <th>125k</th>\n",
       "      <td>2.004</td>\n",
       "      <td>101.072</td>\n",
       "      <td>1.558551</td>\n",
       "      <td>78.606</td>\n",
       "    </tr>\n",
       "    <tr>\n",
       "      <th>130k</th>\n",
       "      <td>1.780</td>\n",
       "      <td>102.852</td>\n",
       "      <td>1.384341</td>\n",
       "      <td>79.990</td>\n",
       "    </tr>\n",
       "    <tr>\n",
       "      <th>135k</th>\n",
       "      <td>1.678</td>\n",
       "      <td>104.530</td>\n",
       "      <td>1.305014</td>\n",
       "      <td>81.295</td>\n",
       "    </tr>\n",
       "    <tr>\n",
       "      <th>140k</th>\n",
       "      <td>1.426</td>\n",
       "      <td>105.956</td>\n",
       "      <td>1.109029</td>\n",
       "      <td>82.404</td>\n",
       "    </tr>\n",
       "    <tr>\n",
       "      <th>145k</th>\n",
       "      <td>1.414</td>\n",
       "      <td>107.370</td>\n",
       "      <td>1.099696</td>\n",
       "      <td>83.504</td>\n",
       "    </tr>\n",
       "    <tr>\n",
       "      <th>150k</th>\n",
       "      <td>1.316</td>\n",
       "      <td>108.686</td>\n",
       "      <td>1.023479</td>\n",
       "      <td>84.527</td>\n",
       "    </tr>\n",
       "    <tr>\n",
       "      <th>155k</th>\n",
       "      <td>1.492</td>\n",
       "      <td>110.178</td>\n",
       "      <td>1.160358</td>\n",
       "      <td>85.688</td>\n",
       "    </tr>\n",
       "    <tr>\n",
       "      <th>160k</th>\n",
       "      <td>0.978</td>\n",
       "      <td>111.156</td>\n",
       "      <td>0.760610</td>\n",
       "      <td>86.448</td>\n",
       "    </tr>\n",
       "    <tr>\n",
       "      <th>165k</th>\n",
       "      <td>1.161</td>\n",
       "      <td>112.317</td>\n",
       "      <td>0.902933</td>\n",
       "      <td>87.351</td>\n",
       "    </tr>\n",
       "    <tr>\n",
       "      <th>170k</th>\n",
       "      <td>0.970</td>\n",
       "      <td>113.287</td>\n",
       "      <td>0.754388</td>\n",
       "      <td>88.106</td>\n",
       "    </tr>\n",
       "    <tr>\n",
       "      <th>175k</th>\n",
       "      <td>0.905</td>\n",
       "      <td>114.192</td>\n",
       "      <td>0.703836</td>\n",
       "      <td>88.809</td>\n",
       "    </tr>\n",
       "    <tr>\n",
       "      <th>180k</th>\n",
       "      <td>0.835</td>\n",
       "      <td>115.027</td>\n",
       "      <td>0.649396</td>\n",
       "      <td>89.459</td>\n",
       "    </tr>\n",
       "    <tr>\n",
       "      <th>185k</th>\n",
       "      <td>0.772</td>\n",
       "      <td>115.799</td>\n",
       "      <td>0.600400</td>\n",
       "      <td>90.059</td>\n",
       "    </tr>\n",
       "    <tr>\n",
       "      <th>190k</th>\n",
       "      <td>0.686</td>\n",
       "      <td>116.485</td>\n",
       "      <td>0.533516</td>\n",
       "      <td>90.593</td>\n",
       "    </tr>\n",
       "    <tr>\n",
       "      <th>195k</th>\n",
       "      <td>0.584</td>\n",
       "      <td>117.069</td>\n",
       "      <td>0.454188</td>\n",
       "      <td>91.047</td>\n",
       "    </tr>\n",
       "    <tr>\n",
       "      <th>200k</th>\n",
       "      <td>0.565</td>\n",
       "      <td>117.634</td>\n",
       "      <td>0.439412</td>\n",
       "      <td>91.486</td>\n",
       "    </tr>\n",
       "    <tr>\n",
       "      <th>250k</th>\n",
       "      <td>4.572</td>\n",
       "      <td>122.206</td>\n",
       "      <td>3.555735</td>\n",
       "      <td>95.042</td>\n",
       "    </tr>\n",
       "    <tr>\n",
       "      <th>250k+</th>\n",
       "      <td>6.375</td>\n",
       "      <td>128.581</td>\n",
       "      <td>4.957964</td>\n",
       "      <td>100.000</td>\n",
       "    </tr>\n",
       "  </tbody>\n",
       "</table>\n",
       "</div>"
      ],
      "text/plain": [
       "              Households in Bracket  Cumulative  % in Bracket  Cumulative %\n",
       "Income Level                                                               \n",
       "0k                            0.000       0.000      0.000000         0.000\n",
       "5k                            4.283       4.283      3.330974         3.331\n",
       "10k                           3.337       7.620      2.595251         5.926\n",
       "15k                           5.510      13.130      4.285237        10.211\n",
       "20k                           5.772      18.902      4.488999        14.700\n",
       "25k                           5.672      24.574      4.411227        19.112\n",
       "30k                           5.469      30.043      4.253350        23.365\n",
       "35k                           5.822      35.865      4.527885        27.893\n",
       "40k                           5.404      41.269      4.202798        32.096\n",
       "45k                           5.195      46.464      4.040255        36.136\n",
       "50k                           4.839      51.303      3.763387        39.899\n",
       "55k                           5.300      56.603      4.121915        44.021\n",
       "60k                           4.417      61.020      3.435189        47.456\n",
       "65k                           4.604      65.624      3.580622        51.037\n",
       "70k                           3.999      69.623      3.110102        54.147\n",
       "75k                           3.795      73.418      2.951447        57.099\n",
       "80k                           3.950      77.368      3.071994        60.171\n",
       "85k                           3.349      80.717      2.604584        62.775\n",
       "90k                           3.064      83.781      2.382934        65.158\n",
       "95k                           3.102      86.883      2.412487        67.571\n",
       "100k                          2.581      89.464      2.007295        69.578\n",
       "105k                          2.866      92.330      2.228945        71.807\n",
       "110k                          2.449      94.779      1.904636        73.712\n",
       "115k                          2.318      97.097      1.802755        75.514\n",
       "120k                          1.971      99.068      1.532886        77.047\n",
       "125k                          2.004     101.072      1.558551        78.606\n",
       "130k                          1.780     102.852      1.384341        79.990\n",
       "135k                          1.678     104.530      1.305014        81.295\n",
       "140k                          1.426     105.956      1.109029        82.404\n",
       "145k                          1.414     107.370      1.099696        83.504\n",
       "150k                          1.316     108.686      1.023479        84.527\n",
       "155k                          1.492     110.178      1.160358        85.688\n",
       "160k                          0.978     111.156      0.760610        86.448\n",
       "165k                          1.161     112.317      0.902933        87.351\n",
       "170k                          0.970     113.287      0.754388        88.106\n",
       "175k                          0.905     114.192      0.703836        88.809\n",
       "180k                          0.835     115.027      0.649396        89.459\n",
       "185k                          0.772     115.799      0.600400        90.059\n",
       "190k                          0.686     116.485      0.533516        90.593\n",
       "195k                          0.584     117.069      0.454188        91.047\n",
       "200k                          0.565     117.634      0.439412        91.486\n",
       "250k                          4.572     122.206      3.555735        95.042\n",
       "250k+                         6.375     128.581      4.957964       100.000"
      ]
     },
     "execution_count": 41,
     "metadata": {},
     "output_type": "execute_result"
    }
   ],
   "source": [
    "total_households = income_data[\"Households in Bracket\"].sum().round(3)\n",
    "income_data[\"% in Bracket\"] = income_data[\"Households in Bracket\"].div(\n",
    "    total_households).mul(100)\n",
    "income_data[\"Cumulative %\"] = income_data[\"% in Bracket\"].cumsum().round(3)\n",
    "income_data"
   ]
  },
  {
   "cell_type": "code",
   "execution_count": 42,
   "metadata": {},
   "outputs": [
    {
     "data": {
      "text/plain": [
       "Text(0.5, 1.0, 'Mean: $67,500\\nIncome Distribution in the United States')"
      ]
     },
     "execution_count": 42,
     "metadata": {},
     "output_type": "execute_result"
    },
    {
     "data": {
      "image/png": "[encoded data removed]",
      "text/plain": [
       "<Figure size 1080x504 with 2 Axes>"
      ]
     },
     "metadata": {
      "needs_background": "light"
     },
     "output_type": "display_data"
    }
   ],
   "source": [
    "plt.rcParams.update({\"font.size\" : 16})\n",
    "fig, ax = plt.subplots(figsize = (15, 7))\n",
    "plot_df = income_data.dropna()\n",
    "plot_df.plot.bar( \n",
    "                                 y=[\"% in Bracket\",\"Cumulative %\"],\n",
    "                                 secondary_y = \"Cumulative %\", \n",
    "                                 fill=True, \n",
    "                                 alpha=.75, \n",
    "                                 width = .99,\n",
    "    legend = True,\n",
    "                                 ax=ax)\n",
    "\n",
    "# set x labels to show income bins and add 250k+ bin\n",
    "x_ticklabels = [\"$\" + str(x) for x in plot_df.index]\n",
    "\n",
    "# mean income per capita is 67.5k, exactly halfway between 65k and 70k\n",
    "ax.set_xticklabels(x_ticklabels)\n",
    "index = list(plot_df.index).index(\"65k\")\n",
    "ax.axvline(index + .5, linewidth = 15, color = \"C3\", alpha = .5, label = \"Mean\")\n",
    "ax.set_title(\"Mean: $67,500\\nIncome Distribution in the United States\")"
   ]
  },
  {
   "cell_type": "code",
   "execution_count": 43,
   "metadata": {},
   "outputs": [
    {
     "name": "stderr",
     "output_type": "stream",
     "text": [
      "C:\\Users\\JLCat\\AppData\\Local\\Temp\\ipykernel_33840\\2776560253.py:6: SettingWithCopyWarning: \n",
      "A value is trying to be set on a copy of a slice from a DataFrame\n",
      "\n",
      "See the caveats in the documentation: https://pandas.pydata.org/pandas-docs/stable/user_guide/indexing.html#returning-a-view-versus-a-copy\n",
      "  income_25k_bin.loc[\"250k+\"] = income_data.iloc[-1]\n",
      "C:\\Users\\JLCat\\AppData\\Local\\Temp\\ipykernel_33840\\2776560253.py:8: SettingWithCopyWarning: \n",
      "A value is trying to be set on a copy of a slice from a DataFrame.\n",
      "Try using .loc[row_indexer,col_indexer] = value instead\n",
      "\n",
      "See the caveats in the documentation: https://pandas.pydata.org/pandas-docs/stable/user_guide/indexing.html#returning-a-view-versus-a-copy\n",
      "  income_25k_bin[\"Households in Bracket\"] = income_25k_bin[\n",
      "C:\\Users\\JLCat\\AppData\\Local\\Temp\\ipykernel_33840\\2776560253.py:12: SettingWithCopyWarning: \n",
      "A value is trying to be set on a copy of a slice from a DataFrame.\n",
      "Try using .loc[row_indexer,col_indexer] = value instead\n",
      "\n",
      "See the caveats in the documentation: https://pandas.pydata.org/pandas-docs/stable/user_guide/indexing.html#returning-a-view-versus-a-copy\n",
      "  income_25k_bin[\"% in Bracket\"] = income_25k_bin[\"Households in Bracket\"].div(\n"
     ]
    },
    {
     "data": {
      "text/html": [
       "<div>\n",
       "<style scoped>\n",
       "    .dataframe tbody tr th:only-of-type {\n",
       "        vertical-align: middle;\n",
       "    }\n",
       "\n",
       "    .dataframe tbody tr th {\n",
       "        vertical-align: top;\n",
       "    }\n",
       "\n",
       "    .dataframe thead th {\n",
       "        text-align: right;\n",
       "    }\n",
       "</style>\n",
       "<table border=\"1\" class=\"dataframe\">\n",
       "  <thead>\n",
       "    <tr style=\"text-align: right;\">\n",
       "      <th></th>\n",
       "      <th>Households in Bracket</th>\n",
       "      <th>Cumulative</th>\n",
       "      <th>% in Bracket</th>\n",
       "      <th>Cumulative %</th>\n",
       "    </tr>\n",
       "    <tr>\n",
       "      <th>Income Level</th>\n",
       "      <th></th>\n",
       "      <th></th>\n",
       "      <th></th>\n",
       "      <th></th>\n",
       "    </tr>\n",
       "  </thead>\n",
       "  <tbody>\n",
       "    <tr>\n",
       "      <th>0k</th>\n",
       "      <td>0.000</td>\n",
       "      <td>0.000</td>\n",
       "      <td>0.000000</td>\n",
       "      <td>0.000</td>\n",
       "    </tr>\n",
       "    <tr>\n",
       "      <th>25k</th>\n",
       "      <td>24.574</td>\n",
       "      <td>24.574</td>\n",
       "      <td>19.111688</td>\n",
       "      <td>19.112</td>\n",
       "    </tr>\n",
       "    <tr>\n",
       "      <th>50k</th>\n",
       "      <td>26.729</td>\n",
       "      <td>51.303</td>\n",
       "      <td>20.787675</td>\n",
       "      <td>39.899</td>\n",
       "    </tr>\n",
       "    <tr>\n",
       "      <th>75k</th>\n",
       "      <td>22.115</td>\n",
       "      <td>73.418</td>\n",
       "      <td>17.199275</td>\n",
       "      <td>57.099</td>\n",
       "    </tr>\n",
       "    <tr>\n",
       "      <th>100k</th>\n",
       "      <td>16.046</td>\n",
       "      <td>89.464</td>\n",
       "      <td>12.479293</td>\n",
       "      <td>69.578</td>\n",
       "    </tr>\n",
       "    <tr>\n",
       "      <th>125k</th>\n",
       "      <td>11.608</td>\n",
       "      <td>101.072</td>\n",
       "      <td>9.027772</td>\n",
       "      <td>78.606</td>\n",
       "    </tr>\n",
       "    <tr>\n",
       "      <th>150k</th>\n",
       "      <td>7.614</td>\n",
       "      <td>108.686</td>\n",
       "      <td>5.921559</td>\n",
       "      <td>84.527</td>\n",
       "    </tr>\n",
       "    <tr>\n",
       "      <th>175k</th>\n",
       "      <td>5.506</td>\n",
       "      <td>114.192</td>\n",
       "      <td>4.282126</td>\n",
       "      <td>88.809</td>\n",
       "    </tr>\n",
       "    <tr>\n",
       "      <th>200k</th>\n",
       "      <td>3.442</td>\n",
       "      <td>117.634</td>\n",
       "      <td>2.676912</td>\n",
       "      <td>91.486</td>\n",
       "    </tr>\n",
       "    <tr>\n",
       "      <th>250k+</th>\n",
       "      <td>10.947</td>\n",
       "      <td>128.581</td>\n",
       "      <td>8.513700</td>\n",
       "      <td>100.000</td>\n",
       "    </tr>\n",
       "  </tbody>\n",
       "</table>\n",
       "</div>"
      ],
      "text/plain": [
       "              Households in Bracket  Cumulative  % in Bracket  Cumulative %\n",
       "Income Level                                                               \n",
       "0k                            0.000       0.000      0.000000         0.000\n",
       "25k                          24.574      24.574     19.111688        19.112\n",
       "50k                          26.729      51.303     20.787675        39.899\n",
       "75k                          22.115      73.418     17.199275        57.099\n",
       "100k                         16.046      89.464     12.479293        69.578\n",
       "125k                         11.608     101.072      9.027772        78.606\n",
       "150k                          7.614     108.686      5.921559        84.527\n",
       "175k                          5.506     114.192      4.282126        88.809\n",
       "200k                          3.442     117.634      2.676912        91.486\n",
       "250k+                        10.947     128.581      8.513700       100.000"
      ]
     },
     "execution_count": 43,
     "metadata": {},
     "output_type": "execute_result"
    }
   ],
   "source": [
    "# build a distribution of income with 25k bins instead of 5k bins\n",
    "# start by counting by through rows by 5s in the original dataframe \n",
    "income_25k_bin = income_data.loc[::5]\n",
    "# we were missing the final row with 250k+, so add this in the last row\n",
    "# we created a new row using df.loc[new_row_name]\n",
    "income_25k_bin.loc[\"250k+\"] = income_data.iloc[-1]\n",
    "# redefine the marginal bins by taking the difference of the cumulative bins\n",
    "income_25k_bin[\"Households in Bracket\"] = income_25k_bin[\n",
    "    \"Cumulative\"].diff().fillna(0)\n",
    "# the information from the % in Bracket column was incorrect. So, we \n",
    "#  recalculate this using the new Households in Bracket data\n",
    "income_25k_bin[\"% in Bracket\"] = income_25k_bin[\"Households in Bracket\"].div(\n",
    "    total_households).mul(100)\n",
    "income_25k_bin"
   ]
  },
  {
   "cell_type": "code",
   "execution_count": 44,
   "metadata": {},
   "outputs": [
    {
     "name": "stderr",
     "output_type": "stream",
     "text": [
      "C:\\Users\\JLCat\\AppData\\Local\\Temp\\ipykernel_33840\\329401990.py:14: UserWarning: FixedFormatter should only be used together with FixedLocator\n",
      "  ax.set_yticklabels(y1_ticklabels)\n"
     ]
    },
    {
     "data": {
      "text/plain": [
       "Text(0.5, 1.0, 'Income Distribution in the United States')"
      ]
     },
     "execution_count": 44,
     "metadata": {},
     "output_type": "execute_result"
    },
    {
     "data": {
      "image/png": "[encoded data removed]",
      "text/plain": [
       "<Figure size 1080x720 with 2 Axes>"
      ]
     },
     "metadata": {
      "needs_background": "light"
     },
     "output_type": "display_data"
    }
   ],
   "source": [
    "plt.rcParams.update({\"font.size\" : 20})\n",
    "plot_df = income_25k_bin[[\"% in Bracket\", \"Cumulative %\"]].iloc[1:]\n",
    "fig, ax = plt.subplots(figsize = (15, 10))\n",
    "plot_df.plot.bar(secondary_y = \"Cumulative %\",\n",
    "                 width = .99, \n",
    "                 alpha = .75,\n",
    "                 color = [\"C0\",\"C1\"],\n",
    "                 ax = ax)\n",
    "\n",
    "x_ticklabels = [\"$\" + str(x) for x in plot_df.index]\n",
    "ax.set_xticklabels(x_ticklabels)\n",
    "\n",
    "y1_ticklabels = [str(y) + \"%\" for y in ax.get_yticks()]\n",
    "ax.set_yticklabels(y1_ticklabels)\n",
    "ax.set_title(\"Income Distribution in the United States\")"
   ]
  },
  {
   "cell_type": "markdown",
   "metadata": {},
   "source": [
    "What other feature would be useful to include in these functions? What about parameters for different font sizes, size and colors of points and lines in scatter plots?\n",
    "\n",
    "### Exercises:\n",
    "\n",
    "1. Create an array with (100) elements using np.arange()\n",
    "\n",
    "2. Create two numpy arrays whose values are neither all 0 or 1. Multiply the two arrays and save the result i.e., result = array1 * array2.\n",
    "\n",
    "3. Create a dictionary where each key points to a unique numpy array. All arrays should be of the same length. Then transform that dictionary into a pandas dataframe.\n",
    "\n",
    "4. Import a data set for your project in pandas. You may use whatever means you prefer to import the data. Print the dataframe.\n",
    "\n",
    "5. Create a new column of data derived from the data that you have already imported. hint: this may be a ratio or whatever transformation that you think would be useful...\n",
    "\n",
    "6. Use a for loop to print individually each column in the dataframe.\n",
    "\n",
    "7. Create a function that plots 2 to 3 different variables from the dataframe. The function may look something like \"def plot_data(df,names, etc...). Each plot should include a legend and title.\n",
    "\n",
    "8. Create a bar graph plot using the data you have imported.\n",
    "\n",
    "9. On any of the graphs you have created, change the font size, axis labels, tick labels, color, linewidth, and so forth. Adjust these parameters to make the visualization aesthetically appealing..\n"
   ]
  },
  {
   "cell_type": "code",
   "execution_count": null,
   "metadata": {},
   "outputs": [],
   "source": []
  }
 ],
 "metadata": {
  "celltoolbar": "Tags",
  "kernelspec": {
   "display_name": "Python 3 (ipykernel)",
   "language": "python",
   "name": "python3"
  },
  "language_info": {
   "codemirror_mode": {
    "name": "ipython",
    "version": 3
   },
   "file_extension": ".py",
   "mimetype": "text/x-python",
   "name": "python",
   "nbconvert_exporter": "python",
   "pygments_lexer": "ipython3",
   "version": "3.9.12"
  }
 },
 "nbformat": 4,
 "nbformat_minor": 2
}
