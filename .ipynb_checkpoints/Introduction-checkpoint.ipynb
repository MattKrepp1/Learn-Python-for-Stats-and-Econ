{
 "cells": [
  {
   "cell_type": "markdown",
   "metadata": {},
   "source": [
    "# Learn Python for Economic Computation: A Crash Course\n",
    "\n",
    "by\n",
    "\n",
    "James Caton\n",
    "\n",
    "Cameron Harwick\n",
    "\n",
    "\n",
    "### Table of Contents\n",
    "\n",
    "\n",
    "Introduction\n",
    "\n",
    "Chapter 1: The Essentials\n",
    "\n",
    "Chapter 2: Working with Lists\n",
    "\n",
    "Chapter 3: Building Functions\n",
    "\n",
    "Chapter 4: Classes and Methods\n",
    "\n",
    "Chapter 5: Introduction to numpy, pandas, and matplotlib\n",
    "\n",
    "Chapter 6: Importing, Cleaning, and Analyzing Data\n",
    "\n",
    "Chapter 7: Building an OLS Regression Model\n",
    "\n",
    "Chapter 8: Advanced Data Analysis\n",
    "\n",
    "\n",
    "## Introduction: Learn Python for Economic Computation\n",
    "\n",
    "More than ever, programming skills are essential for professional success. This is true whether your work is in business or in academia. Further, programming is often not enough. You must also be able to work with statistical software or libraries. While many books exist to teach you how to program, there are none that I know of that do a good job of providing training in statistic and econometrics while also providing good programming habits.\n",
    "\n",
    "The Beginning\n",
    "\n",
    "I first began programming in 2014. I wanted to have a strong grasp of the fundamental pieces of programming before I moved on to complex structures. I did not want to learn to use libraries without understanding the fundamentals of Python. I started out with Python, but since I was interested in agent-based modeling, I spent more time working with NetLogo. The use of objects in NetLogo is limited in comparison to languages like Java and Python. Still, it provided a good starting point to learn the basics of scripting, of functions (methods), and the use and interaction of objects. With the help of a friend and many hours spent exploring Python with small projects, I grew comfortable with the language. The building blocks I learned in the process will be used to help you grow comfortable with Python as well.\n",
    "\n",
    "In what follows, you will learn how to install Python quickly and easily. You will learn how to work with objects and functions that are essential to data management and statistical programming. These include working with basic math functions, lists, dictionaries, tuples, if-statements, \"for-loops\", classes, and reading and writing files in Python. As we develop understanding of the core interface, we will also build a statistical packages.\n",
    "\n",
    "Why Python?\n",
    "\n",
    "You may wonder why you should learn Python as compared to R or MATLAB. Although R and MATLAB are both powerful, they are not well-suited for general purpose programming in the way that Java or C++ are. Python does meet this criterion. Python is intuitive, not differing as much as R from the syntax and structure of traditional programming languages. If you learn Python for data analysis, you \n",
    "will also have a head-start on programming for other purposes like web design, natural language processing, graphical user interfaces, and so on. By the time you finish this book, you will be well prepared to develop a practice that includes a broad set of applications.\n",
    "\n",
    "Installation\n",
    "\n",
    "In this book, we will use Python 3. All examples will be generated from Spyder, the Integrated Development Environment provided in Anaconda. Download the Anaconda package at:\n",
    "\n",
    "> https://www.anaconda.com/distribution/#download-section\n",
    "\n",
    "Download the latest installer for Python 3. If you know your system is 64-bit, choose the 64-bit installer. Otherwise, choose the 32-bit installer. If you have not installed Python on your system before, check the option “Add Anaconda to the system Path environment variable. This option is “Not recommended” by the installation as it gives Anaconda preference over previously installed software. For our purposes, this should not be a problem. Once you have completed the installation, if you would like to install any package, open the command line (in Windows this is PowerShell) and type conda install package-name where package-name is replaced with the package you wish to install. For example, you can install numpy with conda install numpy. If a package is not available in Anaconda, you can install it using pip install package-name. The latest version of Anaconda will recognize a library installed in this manner. It is sometimes possible to install unofficial releases of packages with Anaconda, but this will not be necessary for the material covered. Unless otherwise specified, the packages we will be using are included in with the Anaconda installation.\n",
    "\n",
    "When you are ready to build your first program, open Spyder. You can find it by using the search function for your operating system. I recommend that you place it somewhere on your desktop or pin it to your taskbar.\n",
    "\n",
    "Python Scripts\n",
    "As you follow along with the book, you may prefer to view the .py scripts in your text editor. All scripts can be found at [the github](https://github.com/jlcatonjr/Learn-Python-for-Stats-and-Econ) for this book."
   ]
  }
 ],
 "metadata": {
  "kernelspec": {
   "display_name": "Python 3",
   "language": "python",
   "name": "python3"
  },
  "language_info": {
   "codemirror_mode": {
    "name": "ipython",
    "version": 3
   },
   "file_extension": ".py",
   "mimetype": "text/x-python",
   "name": "python",
   "nbconvert_exporter": "python",
   "pygments_lexer": "ipython3",
   "version": "3.7.5"
  }
 },
 "nbformat": 4,
 "nbformat_minor": 2
}
