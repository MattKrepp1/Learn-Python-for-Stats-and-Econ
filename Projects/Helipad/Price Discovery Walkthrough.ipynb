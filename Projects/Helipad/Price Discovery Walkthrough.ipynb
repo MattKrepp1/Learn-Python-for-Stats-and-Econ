{
 "cells": [
  {
   "cell_type": "code",
   "execution_count": 1,
   "metadata": {},
   "outputs": [],
   "source": [
    "from helipad import Helipad\n",
    "from helipad.utility import CobbDouglas\n",
    "from math import sqrt, exp, floor\n",
    "import random\n",
    "\n",
    "heli = Helipad()\n",
    "heli.name = \"Price Discovery\""
   ]
  },
  {
   "cell_type": "markdown",
   "metadata": {},
   "source": [
    "Define the order othat the agents will be called in\n",
    "\n",
    "options\n",
    "\n",
    "* random: call agents randomly\n",
    "\n",
    "* linear: call agents in order they were instantiated\n",
    "\n",
    "* match: call agents randomly and pair randomly\n",
    "\n",
    "* order() allows for explicitly defined order of agents\n",
    "\n",
    "* stages can allow for lists of agents to be called multiple times within a period (step)"
   ]
  },
  {
   "cell_type": "code",
   "execution_count": 2,
   "metadata": {},
   "outputs": [],
   "source": [
    "heli.order  = \"match\""
   ]
  },
  {
   "cell_type": "markdown",
   "metadata": {},
   "source": [
    "Helipad.addParameter( str name, str title, str type, str|bool|num|list dflt, dict|list opts = {}, bool runtime = True, func callback = None, str desc = None)\n",
    "\n",
    "1. Set exogenous parameters.\n",
    "\n",
    "2. Name will be used to refer to the parameter. It is the name of the parameter.\n",
    "\n",
    "3. Title will be the title of the slider (or other widget) in the cpanel\n",
    "\n",
    "4. \"slider\"  chooses the type of widget.\n",
    "    Parameters could be hidden.\n",
    "\n",
    "5. _dflt_ sets the initial value of the parameter.\n",
    "\n",
    "6. _opts_ sets the bounds and step of the slider. "
   ]
  },
  {
   "cell_type": "code",
   "execution_count": 3,
   "metadata": {},
   "outputs": [],
   "source": [
    "heli.addParameter(\"ratio\", \"Log Endowment Ratio\", \"slider\", \n",
    "                  dflt = 0, opts = {\"low\": -3, \"high\":3, \"step\":.5})"
   ]
  },
  {
   "cell_type": "code",
   "execution_count": 4,
   "metadata": {},
   "outputs": [],
   "source": [
    "#heli.launchCpanel()"
   ]
  },
  {
   "cell_type": "markdown",
   "metadata": {},
   "source": [
    "Everything above Log Endowment Ratio is the default template for Cpanel. You can see that Log Endowment Ratio is a slider with range that we specified.\n",
    "\n",
    "Next, create "
   ]
  },
  {
   "cell_type": "code",
   "execution_count": 5,
   "metadata": {},
   "outputs": [],
   "source": [
    "# keyword to change to num instead agents\n",
    "# next, target values on the default slider for Number of Agents\n",
    "# makes sure that slider moves in incriments of 2\n",
    "heli.params[\"agents_agent\"].opts[\"step\"] = 2\n",
    "# and make sure that the slider's lowest value is 2 \n",
    "heli.params[\"agents_agent\"].opts[\"low\"] = 2"
   ]
  },
  {
   "cell_type": "markdown",
   "metadata": {},
   "source": [
    "Now the Cpanel will reflect the change in the Number of Agents slider. Scroll the slider to see that moves in incriments of 2 and has a minimum value of 2."
   ]
  },
  {
   "cell_type": "code",
   "execution_count": 6,
   "metadata": {},
   "outputs": [],
   "source": [
    "#heli.launchCpanel()"
   ]
  },
  {
   "cell_type": "markdown",
   "metadata": {},
   "source": [
    "Next we will define the goods that each agent owns and the distributions that determine agent allocation."
   ]
  },
  {
   "cell_type": "code",
   "execution_count": 7,
   "metadata": {},
   "outputs": [
    {
     "name": "stderr",
     "output_type": "stream",
     "text": [
      "C:\\ProgramData\\Anaconda3\\lib\\site-packages\\ipykernel_launcher.py:2: UserWarning: Parameter 'ratio' already defined. Overriding…\n",
      "  \n"
     ]
    },
    {
     "data": {
      "text/plain": [
       "<helipad.helpers.Item at 0x187a6b86c48>"
      ]
     },
     "execution_count": 7,
     "metadata": {},
     "output_type": "execute_result"
    }
   ],
   "source": [
    "heli.addParameter(\"ratio\", \"Log Endowment Ratio\", \"slider\", \n",
    "                  dflt = 0, opts = {\"low\": -3, \"high\":3, \"step\":.5})\n",
    "\n",
    "# keyword to change to num instead agents\n",
    "# next, target values on the default slider for Number of Agents\n",
    "# makes sure that slider moves in incriments of 2\n",
    "heli.params[\"agents_agent\"].opts[\"step\"] = 2\n",
    "# and make sure that the slider's lowest value is 2 \n",
    "heli.params[\"agents_agent\"].opts[\"low\"] = 2\n",
    "\n",
    "max_shmoo = 1000\n",
    "# addGood(name, color, endowment)\n",
    "heli.addGood(\"shmoo\", \"11CC00\", lambda breed: random.randint(1,max_shmoo))\n",
    "\n",
    "# floor rounds value down\n",
    "# exp(param) raises e to the param power \n",
    "heli.addGood(\"soma\", \"CC0000\", \n",
    "            endowment =  lambda breed: random.randint(\n",
    "                1, floor(exp(heli.param(\"ratio\")) * max_shmoo)))\n"
   ]
  },
  {
   "cell_type": "markdown",
   "metadata": {},
   "source": [
    "So far, no agents have been created. We will continue defining agent attributes. Next, define agent utility functions using @heli.hook. @heli is a decorator. A decorator is a function that passes a function to another function.\n",
    "\n",
    "We are using hook to define attributes and/or methods that are automatically called when agents are instantiated.\n",
    "\n",
    "call hook method and pass agentInit() to the hook method.\n",
    "\n",
    "Hook is a method of heli that allows you to \n",
    "\n",
    "Before we call agent Init, it is essentially blank. This is how give agents special characteristics aside from their endowment."
   ]
  },
  {
   "cell_type": "code",
   "execution_count": 8,
   "metadata": {},
   "outputs": [],
   "source": [
    "# agentInit() already exists, we are further defining for our model\n",
    "@heli.hook\n",
    "def agentInit(agent, model):\n",
    "    agent.utility = CobbDouglas([\"shmoo\", \"soma\"])"
   ]
  },
  {
   "cell_type": "code",
   "execution_count": 9,
   "metadata": {},
   "outputs": [],
   "source": [
    "@heli.hook\n",
    "def match(agents, primitive, model, stage):\n",
    "    # agent 0 and agent 1 calculate their utility\n",
    "    u1e = agents[0].utility.calculate(agents[0].stocks)\n",
    "    u2e = agents[1].utility.calculate(agents[1].stocks)\n",
    "    \n",
    "    # Get the endpoints of the contract curve\n",
    "    # Contract curve isn't linear unless the CD function\n",
    "    cc1Soma = u1e * (sum([a.stocks['soma'] for a in agents])/sum(\n",
    "        [a.stocks['shmoo'] for a in agents])) ** 0.5\n",
    "    # note: draw exponent from model instead of mannually choosing it\n",
    "    cc2Soma = sum([a.stocks['soma'] for a in agents]) - u2e  * (\n",
    "        sum([a.stocks['soma'] for a in agents])/sum(\n",
    "            [a.stocks['shmoo'] for a in agents])) ** 0.5\n",
    "    cc1Shmoo = sum([a.stocks['shmoo'] for a in agents])/sum(\n",
    "        [a.stocks['soma'] for a in agents]) * cc1Soma\n",
    "    cc2Shmoo = sum([a.stocks['shmoo'] for a in agents])/sum(\n",
    "        [a.stocks['soma'] for a in agents]) * cc2Soma\n",
    "    \n",
    "    # Calculate demand: choopse a random point on the contract curve\n",
    "    \t#Do the trades\n",
    "    \n",
    "    min_trade_quantity = 0.1\n",
    "    if abs(somaDemand) > min_trade_quantity and abs(shmooDemand) > min_trade_quantity:\n",
    "        # agent.trade(partner, payment_good, q_payment, receive_good, q_receive) \n",
    "        agents[0].trade(agents[1], 'soma', -somaDemand, 'shmoo', shmooDemand)\n",
    "        agents[0].lastPrice = -somaDemand/shmooDemand\n",
    "        agents[1].lastPrice = -somaDemand/shmooDemand\n",
    "    else:\n",
    "        agents[0].lastPrice = None\n",
    "        agents[1].lastPrice = None\n",
    "\n",
    "    # Calculate new utility levels\n",
    "    agents[0].utils = agents[0].utility.calculate(\n",
    "        agents[0].stocks)\n",
    "    agents[1].utils = agents[1].utility.calculate(\n",
    "        agents[1].stocks)"
   ]
  },
  {
   "cell_type": "markdown",
   "metadata": {},
   "source": [
    "Next, collect data"
   ]
  },
  {
   "cell_type": "code",
   "execution_count": 10,
   "metadata": {},
   "outputs": [],
   "source": [
    "#heli.data.addReporter(name, reporter_function,\n",
    "heli.data.addReporter('ssprice', \n",
    "  heli.data.agentReporter('lastPrice', 'agent', stat='gmean',\n",
    "      percentiles=[0,100]))\n",
    "\n",
    "# stat option: 'mean', 'sum', 'gmean' (for geometric mean), \n",
    "# 'std' (for standard deviation), or 'percentile-nn'"
   ]
  },
  {
   "cell_type": "markdown",
   "metadata": {},
   "source": [
    "Next let's plot the data"
   ]
  },
  {
   "cell_type": "code",
   "execution_count": 11,
   "metadata": {},
   "outputs": [
    {
     "data": {
      "text/plain": [
       "<helipad.helpers.Item at 0x187a6b7d408>"
      ]
     },
     "execution_count": 11,
     "metadata": {},
     "output_type": "execute_result"
    }
   ],
   "source": [
    "# addPlot(name, title, logscale, selected)\n",
    "heli.addPlot(\"price\", \"Price\", logscale = True, selected = True)\n",
    "heli.addSeries(\"price\", \"ssprice\", \"Soma/Shmoo Price\", \"119900\")"
   ]
  },
  {
   "cell_type": "code",
   "execution_count": 12,
   "metadata": {},
   "outputs": [],
   "source": [
    "#Stop the model when we're basically equilibrated\n",
    "def stopCondition(model):\n",
    "\treturn model.t > 1 and model.data.getLast('demand-shmoo') < 20 and model.data.getLast('demand-soma') < 20\n",
    "heli.param('stopafter', stopCondition)\n",
    "\n",
    "for p in ['demand', 'utility']: heli.plots[p].active(True)\n",
    "heli.param('updateEvery', 1)\n"
   ]
  },
  {
   "cell_type": "code",
   "execution_count": 13,
   "metadata": {},
   "outputs": [
    {
     "data": {
      "application/vnd.jupyter.widget-view+json": {
       "model_id": "263fe100a9454757a977b627dba68cd3",
       "version_major": 2,
       "version_minor": 0
      },
      "text/plain": [
       "HTML(value='<style type=\"text/css\">/* The color indicator on per-item parameters */\\n\\n.helipad_circle {\\n\\the…"
      ]
     },
     "metadata": {},
     "output_type": "display_data"
    },
    {
     "data": {
      "application/vnd.jupyter.widget-view+json": {
       "model_id": "9a1da98aa1c948ec99170eecd512d12b",
       "version_major": 2,
       "version_minor": 0
      },
      "text/plain": [
       "HBox(children=(Checkbox(value=True, description='Stop on period', description_tooltip='', disabled=True, layou…"
      ]
     },
     "metadata": {},
     "output_type": "display_data"
    },
    {
     "data": {
      "application/vnd.jupyter.widget-view+json": {
       "model_id": "3c3f7814a497414fb27578e47f21525e",
       "version_major": 2,
       "version_minor": 0
      },
      "text/plain": [
       "HBox(children=(Checkbox(value=False, description='CSV?', description_tooltip='', layout=Layout(width='150px'),…"
      ]
     },
     "metadata": {},
     "output_type": "display_data"
    },
    {
     "data": {
      "application/vnd.jupyter.widget-view+json": {
       "model_id": "81ca8be9d52c4a5eacf96265d8be9945",
       "version_major": 2,
       "version_minor": 0
      },
      "text/plain": [
       "HBox(children=(IntSlider(value=0, description='Refresh Every __ Periods', description_tooltip='', max=9, reado…"
      ]
     },
     "metadata": {},
     "output_type": "display_data"
    },
    {
     "data": {
      "application/vnd.jupyter.widget-view+json": {
       "model_id": "9c77ac2be24d43069d52dad62da5e696",
       "version_major": 2,
       "version_minor": 0
      },
      "text/plain": [
       "interactive(children=(IntSlider(value=50, description='Number of Agents', description_tooltip='', min=2, step=…"
      ]
     },
     "metadata": {},
     "output_type": "display_data"
    },
    {
     "data": {
      "application/vnd.jupyter.widget-view+json": {
       "model_id": "395d7579c7874deb9b363600109335b7",
       "version_major": 2,
       "version_minor": 0
      },
      "text/plain": [
       "interactive(children=(FloatSlider(value=0.0, description='Log Endowment Ratio', description_tooltip='', max=3.…"
      ]
     },
     "metadata": {},
     "output_type": "display_data"
    },
    {
     "data": {
      "application/vnd.jupyter.widget-view+json": {
       "model_id": "0ece6412af914ec090848094d960299c",
       "version_major": 2,
       "version_minor": 0
      },
      "text/plain": [
       "Accordion(children=(HBox(children=(interactive(children=(Checkbox(value=True, description='Demand', descriptio…"
      ]
     },
     "metadata": {},
     "output_type": "display_data"
    },
    {
     "data": {
      "application/vnd.jupyter.widget-view+json": {
       "model_id": "f8411711b9384392a2aec4a6f2daf346",
       "version_major": 2,
       "version_minor": 0
      },
      "text/plain": [
       "Label(value='After setting parameter values, run launchPlots() or start() to start the model.', _dom_classes=(…"
      ]
     },
     "metadata": {},
     "output_type": "display_data"
    }
   ],
   "source": [
    "heli.launchCpanel()"
   ]
  },
  {
   "cell_type": "code",
   "execution_count": 14,
   "metadata": {},
   "outputs": [
    {
     "data": {
      "application/vnd.jupyter.widget-view+json": {
       "model_id": "5e5c024e9d604fa5833dd3f16c701882",
       "version_major": 2,
       "version_minor": 0
      },
      "text/plain": [
       "HBox(children=(runButton(description='Pause', icon='pause', style=ButtonStyle()), progressBar(value=0.0, max=1…"
      ]
     },
     "metadata": {},
     "output_type": "display_data"
    },
    {
     "name": "stderr",
     "output_type": "stream",
     "text": [
      "Task exception was never retrieved\n",
      "future: <Task finished coro=<Helipad.run() done, defined at C:\\ProgramData\\Anaconda3\\lib\\site-packages\\helipad\\model.py:462> exception=NameError(\"name 'somaDemand' is not defined\")>\n",
      "Traceback (most recent call last):\n",
      "  File \"C:\\ProgramData\\Anaconda3\\lib\\site-packages\\helipad\\model.py\", line 465, in run\n",
      "    t = self.step()\n",
      "  File \"C:\\ProgramData\\Anaconda3\\lib\\site-packages\\helipad\\model.py\", line 447, in step\n",
      "    self.doHooks([prim+'Match', 'match'], [agents, prim, self, self.stage])\n",
      "  File \"C:\\ProgramData\\Anaconda3\\lib\\site-packages\\helipad\\model.py\", line 377, in doHooks\n",
      "    r = self.doHooks(f, args)\n",
      "  File \"C:\\ProgramData\\Anaconda3\\lib\\site-packages\\helipad\\model.py\", line 382, in doHooks\n",
      "    for f in self.hooks[place]: r = f(*args)\n",
      "  File \"<ipython-input-9-b23196b18e6f>\", line 24, in match\n",
      "    if abs(somaDemand) > min_trade_quantity and abs(shmooDemand) > min_trade_quantity:\n",
      "NameError: name 'somaDemand' is not defined\n"
     ]
    }
   ],
   "source": [
    "\n",
    "heli.launchPlots()"
   ]
  }
 ],
 "metadata": {
  "kernelspec": {
   "display_name": "Python 3",
   "language": "python",
   "name": "python3"
  },
  "language_info": {
   "codemirror_mode": {
    "name": "ipython",
    "version": 3
   },
   "file_extension": ".py",
   "mimetype": "text/x-python",
   "name": "python",
   "nbconvert_exporter": "python",
   "pygments_lexer": "ipython3",
   "version": "3.7.6"
  }
 },
 "nbformat": 4,
 "nbformat_minor": 4
}
