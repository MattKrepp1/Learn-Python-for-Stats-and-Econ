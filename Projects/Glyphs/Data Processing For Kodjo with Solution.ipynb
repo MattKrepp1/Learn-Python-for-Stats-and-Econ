{
 "cells": [
  {
   "cell_type": "code",
   "execution_count": 1,
   "metadata": {},
   "outputs": [
    {
     "data": {
      "text/plain": [
       "['Article_title',\n",
       " 'Article_link',\n",
       " 'General_outcome',\n",
       " 'General_outcome (1,0)',\n",
       " 'Desc_general_outcome',\n",
       " 'Daily_intake',\n",
       " 'Descr_daily_intake',\n",
       " 'Health_outcome',\n",
       " 'Descr_health_outcome',\n",
       " 'Environmental_outcome',\n",
       " 'Descr_environmental_outcome',\n",
       " 'Fund_source',\n",
       " 'Fund_Source',\n",
       " 'Author_affiliation',\n",
       " 'Loc_authors',\n",
       " 'Loc_experiment',\n",
       " 'Year',\n",
       " 'Journal',\n",
       " 'Loc_journal',\n",
       " 'Loc_editor_journal',\n",
       " 'Current Impact_Factor',\n",
       " 'Impact_F_Publishing_Year',\n",
       " 'Num_Citations']"
      ]
     },
     "execution_count": 1,
     "metadata": {},
     "output_type": "execute_result"
    }
   ],
   "source": [
    "import pandas as pd\n",
    "import numpy as np\n",
    "import matplotlib.pyplot as plt\n",
    "\n",
    "# import the xlsx file\n",
    "data = pd.read_excel(\"Cleaned Data.xlsx\", sheet_name = \"Data\")\n",
    "list(data.keys())"
   ]
  },
  {
   "cell_type": "code",
   "execution_count": 2,
   "metadata": {},
   "outputs": [],
   "source": [
    "# remove extraneous spaces and standardize capitalization\n",
    "strip_cols = [\"Fund_source\", \"Fund_Source\", \"Loc_authors\",\"Loc_experiment\", \n",
    "              \"Loc_journal\", \"Loc_editor_journal\"]\n",
    "for key in strip_cols:\n",
    "    data[key] = data[key].str.strip().str.upper()"
   ]
  },
  {
   "cell_type": "code",
   "execution_count": 3,
   "metadata": {},
   "outputs": [
    {
     "name": "stderr",
     "output_type": "stream",
     "text": [
      "<ipython-input-3-3a35d3532438>:4: SettingWithCopyWarning: \n",
      "A value is trying to be set on a copy of a slice from a DataFrame\n",
      "\n",
      "See the caveats in the documentation: https://pandas.pydata.org/pandas-docs/stable/user_guide/indexing.html#returning-a-view-versus-a-copy\n",
      "  data[outcome][data[outcome].str.strip().str.title()==\"Yes\"] = 1\n",
      "<ipython-input-3-3a35d3532438>:5: SettingWithCopyWarning: \n",
      "A value is trying to be set on a copy of a slice from a DataFrame\n",
      "\n",
      "See the caveats in the documentation: https://pandas.pydata.org/pandas-docs/stable/user_guide/indexing.html#returning-a-view-versus-a-copy\n",
      "  data[outcome][data[outcome].str.strip().str.title()==\"No\"] = 0\n",
      "<ipython-input-3-3a35d3532438>:11: SettingWithCopyWarning: \n",
      "A value is trying to be set on a copy of a slice from a DataFrame\n",
      "\n",
      "See the caveats in the documentation: https://pandas.pydata.org/pandas-docs/stable/user_guide/indexing.html#returning-a-view-versus-a-copy\n",
      "  data[\"General_outcome\"][data[\"Health_outcome\"] ==1] = 1\n",
      "<ipython-input-3-3a35d3532438>:12: SettingWithCopyWarning: \n",
      "A value is trying to be set on a copy of a slice from a DataFrame\n",
      "\n",
      "See the caveats in the documentation: https://pandas.pydata.org/pandas-docs/stable/user_guide/indexing.html#returning-a-view-versus-a-copy\n",
      "  data[\"General_outcome\"][data[\"Environmental_outcome\"] ==1] = 1\n"
     ]
    }
   ],
   "source": [
    "#transform outcomes to indicator variables\n",
    "outcomes = [\"Health_outcome\", \"Environmental_outcome\"]\n",
    "for outcome in outcomes:\n",
    "    data[outcome][data[outcome].str.strip().str.title()==\"Yes\"] = 1\n",
    "    data[outcome][data[outcome].str.strip().str.title()==\"No\"] = 0\n",
    "    data[outcome].fillna(0, inplace = True)\n",
    "    \n",
    "# create column that combines environmental and health outcomes\n",
    "# if value from either column is 1, entry in Either_outcome is 1, else 0\n",
    "data[\"General_outcome\"] = 0\n",
    "data[\"General_outcome\"][data[\"Health_outcome\"] ==1] = 1\n",
    "data[\"General_outcome\"][data[\"Environmental_outcome\"] ==1] = 1"
   ]
  },
  {
   "cell_type": "code",
   "execution_count": 4,
   "metadata": {},
   "outputs": [],
   "source": [
    "def create_indicators(data, column_names):\n",
    "\n",
    "    # create a dictionary with the set of possible responses for each heading in the headings list\n",
    "    indicator_responses = {heading : sorted(list(set(data[heading]))) for heading in headings}\n",
    "\n",
    "    # cycle through the heading and possible responses\n",
    "    for heading, responses in indicator_responses.items():\n",
    "\n",
    "        # for each possible response, create a new column\n",
    "        for response in responses:\n",
    "            # make all values in that column 0 by default\n",
    "            data[response] = 0\n",
    "            # identify the subset of data where the data in the row matches response\n",
    "            # make values in that column 1 if their response matches the response \n",
    "            # in the original column of data\n",
    "            data[response][data[heading] == response] = 1\n"
   ]
  },
  {
   "cell_type": "code",
   "execution_count": 7,
   "metadata": {},
   "outputs": [
    {
     "name": "stderr",
     "output_type": "stream",
     "text": [
      "<ipython-input-7-3691c9ef0b28>:6: SettingWithCopyWarning: \n",
      "A value is trying to be set on a copy of a slice from a DataFrame\n",
      "\n",
      "See the caveats in the documentation: https://pandas.pydata.org/pandas-docs/stable/user_guide/indexing.html#returning-a-view-versus-a-copy\n",
      "  data[source][data[\"Fund_Source\"].str.contains(source)]=1\n"
     ]
    },
    {
     "data": {
      "text/html": [
       "<div>\n",
       "<style scoped>\n",
       "    .dataframe tbody tr th:only-of-type {\n",
       "        vertical-align: middle;\n",
       "    }\n",
       "\n",
       "    .dataframe tbody tr th {\n",
       "        vertical-align: top;\n",
       "    }\n",
       "\n",
       "    .dataframe thead th {\n",
       "        text-align: right;\n",
       "    }\n",
       "</style>\n",
       "<table border=\"1\" class=\"dataframe\">\n",
       "  <thead>\n",
       "    <tr style=\"text-align: right;\">\n",
       "      <th></th>\n",
       "      <th>Fund_Source</th>\n",
       "      <th>Public</th>\n",
       "      <th>Private</th>\n",
       "      <th>University</th>\n",
       "      <th>International</th>\n",
       "      <th>Research</th>\n",
       "    </tr>\n",
       "  </thead>\n",
       "  <tbody>\n",
       "    <tr>\n",
       "      <th>0</th>\n",
       "      <td>Public</td>\n",
       "      <td>1</td>\n",
       "      <td>0</td>\n",
       "      <td>0</td>\n",
       "      <td>0</td>\n",
       "      <td>0</td>\n",
       "    </tr>\n",
       "    <tr>\n",
       "      <th>1</th>\n",
       "      <td>Public</td>\n",
       "      <td>1</td>\n",
       "      <td>0</td>\n",
       "      <td>0</td>\n",
       "      <td>0</td>\n",
       "      <td>0</td>\n",
       "    </tr>\n",
       "    <tr>\n",
       "      <th>2</th>\n",
       "      <td></td>\n",
       "      <td>0</td>\n",
       "      <td>0</td>\n",
       "      <td>0</td>\n",
       "      <td>0</td>\n",
       "      <td>0</td>\n",
       "    </tr>\n",
       "    <tr>\n",
       "      <th>3</th>\n",
       "      <td>Private</td>\n",
       "      <td>0</td>\n",
       "      <td>1</td>\n",
       "      <td>0</td>\n",
       "      <td>0</td>\n",
       "      <td>0</td>\n",
       "    </tr>\n",
       "    <tr>\n",
       "      <th>4</th>\n",
       "      <td>Public</td>\n",
       "      <td>1</td>\n",
       "      <td>0</td>\n",
       "      <td>0</td>\n",
       "      <td>0</td>\n",
       "      <td>0</td>\n",
       "    </tr>\n",
       "    <tr>\n",
       "      <th>...</th>\n",
       "      <td>...</td>\n",
       "      <td>...</td>\n",
       "      <td>...</td>\n",
       "      <td>...</td>\n",
       "      <td>...</td>\n",
       "      <td>...</td>\n",
       "    </tr>\n",
       "    <tr>\n",
       "      <th>498</th>\n",
       "      <td>None</td>\n",
       "      <td>0</td>\n",
       "      <td>0</td>\n",
       "      <td>0</td>\n",
       "      <td>0</td>\n",
       "      <td>0</td>\n",
       "    </tr>\n",
       "    <tr>\n",
       "      <th>499</th>\n",
       "      <td>Public</td>\n",
       "      <td>1</td>\n",
       "      <td>0</td>\n",
       "      <td>0</td>\n",
       "      <td>0</td>\n",
       "      <td>0</td>\n",
       "    </tr>\n",
       "    <tr>\n",
       "      <th>500</th>\n",
       "      <td>Public</td>\n",
       "      <td>1</td>\n",
       "      <td>0</td>\n",
       "      <td>0</td>\n",
       "      <td>0</td>\n",
       "      <td>0</td>\n",
       "    </tr>\n",
       "    <tr>\n",
       "      <th>501</th>\n",
       "      <td>None</td>\n",
       "      <td>0</td>\n",
       "      <td>0</td>\n",
       "      <td>0</td>\n",
       "      <td>0</td>\n",
       "      <td>0</td>\n",
       "    </tr>\n",
       "    <tr>\n",
       "      <th>502</th>\n",
       "      <td>Public And University</td>\n",
       "      <td>1</td>\n",
       "      <td>0</td>\n",
       "      <td>1</td>\n",
       "      <td>0</td>\n",
       "      <td>0</td>\n",
       "    </tr>\n",
       "  </tbody>\n",
       "</table>\n",
       "<p>503 rows × 6 columns</p>\n",
       "</div>"
      ],
      "text/plain": [
       "               Fund_Source  Public  Private  University  International  \\\n",
       "0                   Public       1        0           0              0   \n",
       "1                   Public       1        0           0              0   \n",
       "2                                0        0           0              0   \n",
       "3                  Private       0        1           0              0   \n",
       "4                   Public       1        0           0              0   \n",
       "..                     ...     ...      ...         ...            ...   \n",
       "498                   None       0        0           0              0   \n",
       "499                 Public       1        0           0              0   \n",
       "500                 Public       1        0           0              0   \n",
       "501                   None       0        0           0              0   \n",
       "502  Public And University       1        0           1              0   \n",
       "\n",
       "     Research  \n",
       "0           0  \n",
       "1           0  \n",
       "2           0  \n",
       "3           0  \n",
       "4           0  \n",
       "..        ...  \n",
       "498         0  \n",
       "499         0  \n",
       "500         0  \n",
       "501         0  \n",
       "502         0  \n",
       "\n",
       "[503 rows x 6 columns]"
      ]
     },
     "execution_count": 7,
     "metadata": {},
     "output_type": "execute_result"
    }
   ],
   "source": [
    "funding_sources = [\"Public\", \"Private\", \"University\", \"International\", \"Research\"]\n",
    "data[\"Fund_Source\"].fillna(\"\", inplace = True)\n",
    "data[\"Fund_Source\"] = data[\"Fund_Source\"].str.title()\n",
    "for source in funding_sources:\n",
    "    data[source] = 0\n",
    "    data[source][data[\"Fund_Source\"].str.contains(source)]=1\n",
    "data[[\"Fund_Source\"]+funding_sources ]"
   ]
  },
  {
   "cell_type": "code",
   "execution_count": null,
   "metadata": {},
   "outputs": [],
   "source": [
    "nations = list(set(data[\"Loc_experiment\"]))\n",
    "remove_pairs = [\"BELGIUM & GERMANY\", \"ITALY & NETHERLANDS\", \"CANADA & USA\", \"UK & USA\"]\n",
    "for pair in remove_pairs:\n",
    "    nations.remove(pair)\n",
    "for nation in nations:\n",
    "    data[nation] = 0\n",
    "    data[nation][data[\"Loc_experiment\"].str.contains(nation)]=1\n",
    "data"
   ]
  },
  {
   "cell_type": "code",
   "execution_count": null,
   "metadata": {},
   "outputs": [],
   "source": [
    "project_types = ('Public',\n",
    " 'Private',\n",
    " 'University',\n",
    " 'International',\n",
    " 'Research')\n",
    "for key in project_types:\n",
    "    print(key, data[key].sum(), data[data[key] == 1][\"General_outcome\"].mean())\n",
    "\n"
   ]
  },
  {
   "cell_type": "code",
   "execution_count": null,
   "metadata": {},
   "outputs": [],
   "source": [
    "years = list(set(data[\"Year\"]))\n",
    "for year in years:\n",
    "    data[year] = 0\n",
    "    data[year][data[\"Year\"] == year] = 1"
   ]
  },
  {
   "cell_type": "code",
   "execution_count": null,
   "metadata": {},
   "outputs": [],
   "source": [
    "data.to_excel(\"dataWithSomeReformatting.xlsx\")"
   ]
  },
  {
   "cell_type": "code",
   "execution_count": null,
   "metadata": {},
   "outputs": [],
   "source": [
    "plt.rcParams[\"font.size\"] = 35\n",
    "fig,ax =plt.subplots(figsize = (30,20))\n",
    "data.plot.scatter(x=\"Num_Citations\", y = \"General_outcome\", alpha=.2, ax=ax)\n",
    "ax.scatter(x = data[\"Num_Citations\"][data[\"General_outcome\"]==1].mean(), y=1, s = 250, c = \"C3\")\n",
    "ax.scatter(x = data[\"Num_Citations\"][data[\"General_outcome\"]==0].mean(), y=0, s = 250, c = \"C3\")"
   ]
  },
  {
   "cell_type": "code",
   "execution_count": null,
   "metadata": {},
   "outputs": [],
   "source": [
    "fig,ax =plt.subplots(figsize = (30,20))\n",
    "data[\"Num_Citations\"][data[\"General_outcome\"]==1].plot.hist(alpha = .7,\n",
    "                                                           color = \"C0\", ax = ax, bins = 50,\n",
    "                                                          label = \"Adverse Results\")\n",
    "data[\"Num_Citations\"][data[\"General_outcome\"]==0].plot.hist(alpha = .7, color = \"C3\", ax = ax, \n",
    "                                                           bins = 25, label = \"No Adverse Results\")\n",
    "plt.legend()\n",
    "plt.title(\"Num_Citations\")"
   ]
  },
  {
   "cell_type": "code",
   "execution_count": null,
   "metadata": {},
   "outputs": [],
   "source": [
    "fig,ax =plt.subplots(figsize = (30,20))\n",
    "data.plot.scatter(x=\"Current Impact_Factor\", y = \"General_outcome\", alpha=.2, ax=ax)\n",
    "ax.scatter(x = data[\"Current Impact_Factor\"][data[\"General_outcome\"]==1].mean(), y=1, s = 250, c = \"C3\")\n",
    "ax.scatter(x = data[\"Current Impact_Factor\"][data[\"General_outcome\"]==0].mean(), y=0, s = 250, c = \"C3\")"
   ]
  },
  {
   "cell_type": "code",
   "execution_count": null,
   "metadata": {},
   "outputs": [],
   "source": [
    "fig,ax =plt.subplots(figsize = (30,20))\n",
    "data[\"Current Impact_Factor\"][data[\"General_outcome\"]==1].plot.hist(alpha = .7,\n",
    "                                                           color = \"C0\", ax = ax, bins = 40,\n",
    "                                                          label = \"Adverse Results\")\n",
    "data[\"Current Impact_Factor\"][data[\"General_outcome\"]==0].plot.hist(alpha = .7, color = \"C3\", ax = ax, \n",
    "                                                           bins = 38, label = \"No Adverse Results\")\n",
    "plt.legend()\n",
    "plt.title(\"Current Impact_Factor\")"
   ]
  },
  {
   "cell_type": "code",
   "execution_count": null,
   "metadata": {},
   "outputs": [],
   "source": [
    "fig,ax =plt.subplots(figsize = (30,20))\n",
    "data.plot.scatter(x=\"Year\", y = \"General_outcome\", alpha =.1, ax=ax)"
   ]
  },
  {
   "cell_type": "code",
   "execution_count": null,
   "metadata": {},
   "outputs": [],
   "source": [
    "# set view options to show entire dataframe\n",
    "pd.set_option(\"max_rows\", len(data.index))\n",
    "pd.set_option(\"max_columns\", len(data.columns))"
   ]
  },
  {
   "cell_type": "code",
   "execution_count": null,
   "metadata": {},
   "outputs": [],
   "source": [
    "# show results by country\n",
    "outcomes_by_country = data.groupby(\"Loc_experiment\").mean()[[\"General_outcome\"]]\n",
    "outcomes_by_country[\"num_obs\"] = data[\"Loc_experiment\"].value_counts()\n",
    "\n",
    "# sort by number of observations\n",
    "outcomes_by_country.sort_values(\"num_obs\", ascending = False)"
   ]
  },
  {
   "cell_type": "code",
   "execution_count": null,
   "metadata": {},
   "outputs": [],
   "source": [
    "# sort by average of \"Either_outcome\"\n",
    "outcomes_by_country.sort_values(\"General_outcome\", ascending = False)"
   ]
  },
  {
   "cell_type": "code",
   "execution_count": null,
   "metadata": {},
   "outputs": [],
   "source": [
    "data.groupby(\"Journal\").mean()[[]]"
   ]
  },
  {
   "cell_type": "code",
   "execution_count": null,
   "metadata": {},
   "outputs": [],
   "source": [
    "# Average Outcome by Journal - Sort by number of observations\n",
    "outcomes_by_journal = data.groupby(\"Journal\").mean()[[\"General_outcome\"]]\n",
    "outcomes_by_journal[\"num_obs\"] = data[\"Journal\"].value_counts()\n",
    "outcomes_by_journal.sort_values(\"num_obs\", ascending = False)"
   ]
  },
  {
   "cell_type": "code",
   "execution_count": null,
   "metadata": {
    "scrolled": true
   },
   "outputs": [],
   "source": [
    "### Kodjo start here 09232021\n",
    "#journals = [list of journals to include]\n",
    "# add to this list...\n",
    "journals = [\"Ecotoxicology and Environmental Safety\"]\n",
    "# Average Outcome by Journal - Sort by number of observations\n",
    "top_journal_data = data[data[\"Journal\"].isin(journals)]\n",
    "data_before_2010 = top_journal_data[top_journal_data[\"Year\"] < 2010]\n",
    "data_after_2010 = top_journal_data[top_journal_data[\"Year\"] >= 2010]\n",
    "\n",
    "top_journal_data\n",
    "# data_after_2010 = data[data[\"Year\"] >= 2010]\n",
    "\n",
    "# outcomes_by_journal_before_2010 = data_before_2010.groupby(\"Journal\").mean()[[\"General_outcome\"]]\n",
    "# outcomes_by_journal_before_2010[\"num_obs\"] = data_before_2010[\"Journal\"].value_counts()\n",
    "# outcomes_by_journal_before_2010.sort_values(\"num_obs\", ascending = False)\n",
    "\n",
    "# # make dataframe with data from after 2010\n",
    "# outcomes_by_journal_after_2010 = data_after_2010.groupby(\"Journal\").mean()[[\"General_outcome\"]]\n",
    "# outcomes_by_journal_after_2010[\"num_obs\"] = data_after_2010[\"Journal\"].value_counts()\n",
    "# outcomes_by_journal_after_2010.sort_values(\"num_obs\", ascending = False)\n"
   ]
  },
  {
   "cell_type": "code",
   "execution_count": null,
   "metadata": {},
   "outputs": [],
   "source": [
    "fig, ax = plt.subplots(figsize = (25,10))\n",
    "plt.title(\"Average Outcome by Journal\")\n",
    "ax.set_ylabel('Size: # Articles from Journal')\n",
    "ax.set_yticks([])\n",
    "ax.scatter(x = outcomes_by_journal_before_2010[\"General_outcome\"], y = [0] * len(outcomes_by_journal_before_2010.index), \n",
    "            s = outcomes_by_journal_before_2010[\"num_obs\"]*300, alpha = .3)\n",
    "ax.scatter(x = outcomes_by_journal_after_2010[\"General_outcome\"], y = [0] * len(outcomes_by_journal_after_2010.index), \n",
    "            s = outcomes_by_journal_after_2010[\"num_obs\"]*300, alpha = .3, color = \"C1\")\n",
    "\n",
    "# plot data after 2010 on same ax "
   ]
  },
  {
   "cell_type": "code",
   "execution_count": null,
   "metadata": {},
   "outputs": [],
   "source": [
    "# Average Outcome by Journal - Sort by Average Outcome\n",
    "outcomes_by_journal.sort_values(\"General_outcome\", ascending = False)"
   ]
  },
  {
   "cell_type": "code",
   "execution_count": null,
   "metadata": {},
   "outputs": [],
   "source": [
    "# Average Outcome Value by Fund_Source\n",
    "outcome_by_funding_agg = data.groupby(\"Fund_Source\").mean()[[\"General_outcome\"]]\n",
    "outcome_by_funding_agg[\"num_obs\"] =data[\"Fund_Source\"].value_counts()\n",
    "outcome_by_funding_agg.sort_values(\"General_outcome\", ascending = False)"
   ]
  },
  {
   "cell_type": "code",
   "execution_count": null,
   "metadata": {},
   "outputs": [],
   "source": [
    "# Average Outcome Value by Fund_source\n",
    "outcomes_by_funding_particular = data.groupby(\"Fund_source\").mean()[[\"General_outcome\"]]\n",
    "outcomes_by_funding_particular[\"num_obs\"] = data[\"Fund_source\"].value_counts()\n",
    "outcomes_by_funding_particular"
   ]
  },
  {
   "cell_type": "code",
   "execution_count": null,
   "metadata": {},
   "outputs": [],
   "source": [
    "import random\n",
    "fig, ax = plt.subplots(figsize = (25,10))\n",
    "plt.title(\"Average Outcome by Experiment Location\")\n",
    "ax.set_ylabel('Size: # Articles with \\nExperiment in Location')\n",
    "ax.set_yticks([])\n",
    "plt.scatter(x = outcomes_by_country[\"General_outcome\"], y = [0] * len(outcomes_by_country.index), \n",
    "            s = outcomes_by_country[\"num_obs\"]*300, alpha = .3)\n",
    "\n",
    "index= list(outcomes_by_country.sort_values(\"num_obs\", ascending = False).index)\n",
    "index = index[:10]\n",
    "for ix in index:\n",
    "    ax.text(outcomes_by_country[\"General_outcome\"].loc[ix], 0, ix[:3], ha = \"center\" , va = \"center\", fontsize = 15)#-.004 + random.random()* 0.008,ix[:3], ha=\"center\", fontsize = 15)"
   ]
  },
  {
   "cell_type": "markdown",
   "metadata": {},
   "source": [
    "# Kodjo, I have grouped outcomes by country and year, and compared outcomes from each country to the mean outcomes forom the dataset that we have compiled.\n",
    "\n",
    "# I have also included a list of journals, make similar visualizations with data accourding to each journal."
   ]
  },
  {
   "cell_type": "code",
   "execution_count": null,
   "metadata": {},
   "outputs": [],
   "source": [
    "data[data[\"USA\"] ==1].groupby(\"Year\").count()\n"
   ]
  },
  {
   "cell_type": "code",
   "execution_count": null,
   "metadata": {},
   "outputs": [],
   "source": [
    "# positive results by year\n",
    "data[data[\"USA\"] ==1].groupby(\"Year\").sum()[\"General_outcome\"]\n"
   ]
  },
  {
   "cell_type": "code",
   "execution_count": null,
   "metadata": {},
   "outputs": [],
   "source": [
    "# negative results by year\n",
    "data[data[\"USA\"] ==1].groupby(\"Year\").count()[\"General_outcome\"].sub(data[data[\"USA\"] ==1].groupby(\"Year\").sum()[\"General_outcome\"])\n"
   ]
  },
  {
   "cell_type": "code",
   "execution_count": null,
   "metadata": {},
   "outputs": [],
   "source": [
    "countries = sorted(nations)\n",
    "years = sorted(list(set(data[\"Year\"])))\n"
   ]
  },
  {
   "cell_type": "code",
   "execution_count": null,
   "metadata": {},
   "outputs": [],
   "source": [
    "country = \"ARGENTINA\"\n",
    "fig, ax = plt.subplots(figsize =(20,14))\n",
    "other_countries = [c for c in countries if c != country]\n",
    "data.groupby(\"Year\").mean()[\"General_outcome\"].plot.line(color = \"k\", linewidth = 10, alpha = .3, ax = ax)\n",
    "data[data[country] == 1].groupby(\"Year\").mean()[\"General_outcome\"].plot.line(linewidth = 10, ax = ax)\n",
    "\n",
    "\n",
    "#     mean_outcomes[country].plot.line(linewidth = 10, ax = ax)\n",
    "for c in other_countries:\n",
    "    data[data[c] == 1].groupby(\"Year\").mean()[\"General_outcome\"].plot.line(ls = \" \", \n",
    "                                                                           marker = \".\", \n",
    "                                                                           markersize = 30, \n",
    "                                                                           linewidth = 5, \n",
    "                                                                           color = \"k\", \n",
    "                                                                           alpha = .2, \n",
    "                                                                           ax = ax)\n",
    "plt.title(country)\n",
    "plt.show()\n",
    "plt.close()"
   ]
  },
  {
   "cell_type": "code",
   "execution_count": null,
   "metadata": {
    "scrolled": true
   },
   "outputs": [],
   "source": [
    "for country in countries:\n",
    "    fig, ax = plt.subplots(figsize =(20,14))\n",
    "    other_countries = [c for c in countries if c != country]\n",
    "    data.groupby(\"Year\").mean()[\"General_outcome\"].plot.line(color = \"k\", linewidth = 10, alpha = .3, ax = ax)\n",
    "    data[data[country] == 1].groupby(\"Year\").mean()[\"General_outcome\"].plot.line(linewidth = 10, ax = ax)\n",
    "    \n",
    "\n",
    "#     mean_outcomes[country].plot.line(linewidth = 10, ax = ax)\n",
    "    for c in other_countries:\n",
    "        data[data[c] == 1].groupby(\"Year\").mean()[\"General_outcome\"].plot.line(ls = \" \", marker = \".\", markersize = 30, linewidth = 5, color = \"k\", alpha = .2, ax = ax)\n",
    "    plt.title(country)\n",
    "    plt.show()\n",
    "    plt.close()\n"
   ]
  },
  {
   "cell_type": "code",
   "execution_count": null,
   "metadata": {
    "scrolled": true
   },
   "outputs": [],
   "source": [
    "journals = list(set(data[\"Journal\"]))\n",
    "years = sorted(list(set(data[\"Year\"])))\n",
    "data.groupby([\"Journal\",\"Year\"]).mean()[\"General_outcome\"]\n"
   ]
  },
  {
   "cell_type": "code",
   "execution_count": null,
   "metadata": {},
   "outputs": [],
   "source": []
  }
 ],
 "metadata": {
  "kernelspec": {
   "display_name": "Python 3",
   "language": "python",
   "name": "python3"
  },
  "language_info": {
   "codemirror_mode": {
    "name": "ipython",
    "version": 3
   },
   "file_extension": ".py",
   "mimetype": "text/x-python",
   "name": "python",
   "nbconvert_exporter": "python",
   "pygments_lexer": "ipython3",
   "version": "3.8.8"
  }
 },
 "nbformat": 4,
 "nbformat_minor": 4
}
