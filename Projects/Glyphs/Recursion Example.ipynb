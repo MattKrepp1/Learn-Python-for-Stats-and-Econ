{
 "cells": [
  {
   "cell_type": "code",
   "execution_count": 22,
   "metadata": {},
   "outputs": [
    {
     "name": "stdout",
     "output_type": "stream",
     "text": [
      "['A']\n",
      "['A', 'B']\n",
      "['A', 'B', 'C']\n",
      "['A', 'B', 'C', 'D']\n",
      "['A', 'B', 'D']\n",
      "['A', 'B', 'D', 'C']\n",
      "['A', 'C']\n",
      "['A', 'C', 'B']\n",
      "['A', 'C', 'B', 'D']\n",
      "['A', 'C', 'D']\n",
      "['A', 'C', 'D', 'B']\n",
      "['A', 'D']\n",
      "['A', 'D', 'B']\n",
      "['A', 'D', 'B', 'C']\n",
      "['A', 'D', 'C']\n",
      "['A', 'D', 'C', 'B']\n",
      "['B']\n",
      "['B', 'A']\n",
      "['B', 'A', 'C']\n",
      "['B', 'A', 'C', 'D']\n",
      "['B', 'A', 'D']\n",
      "['B', 'A', 'D', 'C']\n",
      "['B', 'C']\n",
      "['B', 'C', 'A']\n",
      "['B', 'C', 'A', 'D']\n",
      "['B', 'C', 'D']\n",
      "['B', 'C', 'D', 'A']\n",
      "['B', 'D']\n",
      "['B', 'D', 'A']\n",
      "['B', 'D', 'A', 'C']\n",
      "['B', 'D', 'C']\n",
      "['B', 'D', 'C', 'A']\n",
      "['C']\n",
      "['C', 'A']\n",
      "['C', 'A', 'B']\n",
      "['C', 'A', 'B', 'D']\n",
      "['C', 'A', 'D']\n",
      "['C', 'A', 'D', 'B']\n",
      "['C', 'B']\n",
      "['C', 'B', 'A']\n",
      "['C', 'B', 'A', 'D']\n",
      "['C', 'B', 'D']\n",
      "['C', 'B', 'D', 'A']\n",
      "['C', 'D']\n",
      "['C', 'D', 'A']\n",
      "['C', 'D', 'A', 'B']\n",
      "['C', 'D', 'B']\n",
      "['C', 'D', 'B', 'A']\n",
      "['D']\n",
      "['D', 'A']\n",
      "['D', 'A', 'B']\n",
      "['D', 'A', 'B', 'C']\n",
      "['D', 'A', 'C']\n",
      "['D', 'A', 'C', 'B']\n",
      "['D', 'B']\n",
      "['D', 'B', 'A']\n",
      "['D', 'B', 'A', 'C']\n",
      "['D', 'B', 'C']\n",
      "['D', 'B', 'C', 'A']\n",
      "['D', 'C']\n",
      "['D', 'C', 'A']\n",
      "['D', 'C', 'A', 'B']\n",
      "['D', 'C', 'B']\n",
      "['D', 'C', 'B', 'A']\n"
     ]
    }
   ],
   "source": [
    "import copy\n",
    "def cycle_vars(unused_vars, used_vars):\n",
    "    for z in unused_vars:\n",
    "        used_vs = copy.copy(used_vars)\n",
    "        used_vs.append(z)\n",
    "        remaining_unused = copy.copy(unused_vars)\n",
    "        remaining_unused.remove(z)\n",
    "        print(used_vs)\n",
    "        cycle_vars(remaining_unused, used_vs)\n",
    "        \n",
    "lst = [\"A\", \"B\", \"C\", \"D\"]\n",
    "cycle_vars(lst, used_vars = [])\n",
    "\n",
    "        "
   ]
  },
  {
   "cell_type": "code",
   "execution_count": null,
   "metadata": {},
   "outputs": [],
   "source": []
  }
 ],
 "metadata": {
  "kernelspec": {
   "display_name": "Python 3",
   "language": "python",
   "name": "python3"
  },
  "language_info": {
   "codemirror_mode": {
    "name": "ipython",
    "version": 3
   },
   "file_extension": ".py",
   "mimetype": "text/x-python",
   "name": "python",
   "nbconvert_exporter": "python",
   "pygments_lexer": "ipython3",
   "version": "3.8.5"
  }
 },
 "nbformat": 4,
 "nbformat_minor": 4
}
