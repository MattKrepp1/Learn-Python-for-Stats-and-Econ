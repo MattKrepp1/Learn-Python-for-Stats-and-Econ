{
 "cells": [
  {
   "cell_type": "markdown",
   "metadata": {},
   "source": [
    "# Aggregate Demand\n",
    "\n",
    "Macroeconomics is the study of all economic activity. This includes complexities that arise in the course of production and exchange. It also includes analysis using statistics that represent the sum of all economic activity or activity in different sectors and of different kinds.\n",
    "Although data reflecting economic activity cannot be reduced to aggregates without losing information, aggregates themselves contain information that is unavailable at the level of analysis of particular events or of particular firms or sectors. Consideration of aggregate values allows one to consider the details of macroeconomic equilibrium, as well as macroeconomic disequilibrium. \n",
    "\n",
    "## The Money Market and the Goods Market\n",
    "\n",
    "The equation of exchange is a golden key that unlocks the secrets of the macroeconomy. It links changes in the money market to changes in the market for non-money goods, and vice versa, by defining aggregate demand as $MV$. The aggregate demand curve assume a given level of expenditures. This value is defined across different combinations of $P$ and $y$. As the value of $P$ increases, the value of $y$ falls, thereby maintaining the given value of total expenditures.\n",
    "In this chapter, we will use the equation of exchange to understand how changes in the goods market lead to changes in the market for non-money goods.  For simplicity sake, we will assume that there is only one good that acts as money. We will discuss in a later chapter that analysis can include other moneys.\n",
    "\n",
    "> Figure 1: Market for Non-money Goods\n",
    "\n",
    "In the previous chapter we used the equation of exchange to define changes the supply of money that can result from changes in demand for money. For the sake of simplicity, we start with a market whose supply of money is perfectly inelastic, as compared with a commodity money whose supply is upward sloping. A perfectly inelastic money supply allows us to consider money as a choice variable, much as base money is the result of the policy of a monetary authority. Changes in the price of money will therefore not affect the quantity of money supplied to the market. With a perfectly inelastic quantity of money, $M$, is not a function of demand for money . Changes in demand for money impact the price of money and, therefore, the price level. \n",
    "\n",
    "Aside from exogenous changes in supply, we will focus on the effect of changes in portfolio demand, $k$, for money. Recall that this is the inverse of the average velocity of money:\n",
    "\n",
    ">k=\\frac{1}{V}\n",
    "\n",
    "A change in the quantity of money or a change in portfolio demand for money will shift in aggregate demand, thereby shifting the price level in the long-run.\n",
    "\n",
    "Try working witht the plot yourself!"
   ]
  },
  {
   "cell_type": "code",
   "execution_count": 2,
   "metadata": {},
   "outputs": [
    {
     "data": {
      "application/javascript": [
       "/* Put everything inside the global mpl namespace */\n",
       "window.mpl = {};\n",
       "\n",
       "\n",
       "mpl.get_websocket_type = function() {\n",
       "    if (typeof(WebSocket) !== 'undefined') {\n",
       "        return WebSocket;\n",
       "    } else if (typeof(MozWebSocket) !== 'undefined') {\n",
       "        return MozWebSocket;\n",
       "    } else {\n",
       "        alert('Your browser does not have WebSocket support. ' +\n",
       "              'Please try Chrome, Safari or Firefox ≥ 6. ' +\n",
       "              'Firefox 4 and 5 are also supported but you ' +\n",
       "              'have to enable WebSockets in about:config.');\n",
       "    };\n",
       "}\n",
       "\n",
       "mpl.figure = function(figure_id, websocket, ondownload, parent_element) {\n",
       "    this.id = figure_id;\n",
       "\n",
       "    this.ws = websocket;\n",
       "\n",
       "    this.supports_binary = (this.ws.binaryType != undefined);\n",
       "\n",
       "    if (!this.supports_binary) {\n",
       "        var warnings = document.getElementById(\"mpl-warnings\");\n",
       "        if (warnings) {\n",
       "            warnings.style.display = 'block';\n",
       "            warnings.textContent = (\n",
       "                \"This browser does not support binary websocket messages. \" +\n",
       "                    \"Performance may be slow.\");\n",
       "        }\n",
       "    }\n",
       "\n",
       "    this.imageObj = new Image();\n",
       "\n",
       "    this.context = undefined;\n",
       "    this.message = undefined;\n",
       "    this.canvas = undefined;\n",
       "    this.rubberband_canvas = undefined;\n",
       "    this.rubberband_context = undefined;\n",
       "    this.format_dropdown = undefined;\n",
       "\n",
       "    this.image_mode = 'full';\n",
       "\n",
       "    this.root = $('<div/>');\n",
       "    this._root_extra_style(this.root)\n",
       "    this.root.attr('style', 'display: inline-block');\n",
       "\n",
       "    $(parent_element).append(this.root);\n",
       "\n",
       "    this._init_header(this);\n",
       "    this._init_canvas(this);\n",
       "    this._init_toolbar(this);\n",
       "\n",
       "    var fig = this;\n",
       "\n",
       "    this.waiting = false;\n",
       "\n",
       "    this.ws.onopen =  function () {\n",
       "            fig.send_message(\"supports_binary\", {value: fig.supports_binary});\n",
       "            fig.send_message(\"send_image_mode\", {});\n",
       "            if (mpl.ratio != 1) {\n",
       "                fig.send_message(\"set_dpi_ratio\", {'dpi_ratio': mpl.ratio});\n",
       "            }\n",
       "            fig.send_message(\"refresh\", {});\n",
       "        }\n",
       "\n",
       "    this.imageObj.onload = function() {\n",
       "            if (fig.image_mode == 'full') {\n",
       "                // Full images could contain transparency (where diff images\n",
       "                // almost always do), so we need to clear the canvas so that\n",
       "                // there is no ghosting.\n",
       "                fig.context.clearRect(0, 0, fig.canvas.width, fig.canvas.height);\n",
       "            }\n",
       "            fig.context.drawImage(fig.imageObj, 0, 0);\n",
       "        };\n",
       "\n",
       "    this.imageObj.onunload = function() {\n",
       "        fig.ws.close();\n",
       "    }\n",
       "\n",
       "    this.ws.onmessage = this._make_on_message_function(this);\n",
       "\n",
       "    this.ondownload = ondownload;\n",
       "}\n",
       "\n",
       "mpl.figure.prototype._init_header = function() {\n",
       "    var titlebar = $(\n",
       "        '<div class=\"ui-dialog-titlebar ui-widget-header ui-corner-all ' +\n",
       "        'ui-helper-clearfix\"/>');\n",
       "    var titletext = $(\n",
       "        '<div class=\"ui-dialog-title\" style=\"width: 100%; ' +\n",
       "        'text-align: center; padding: 3px;\"/>');\n",
       "    titlebar.append(titletext)\n",
       "    this.root.append(titlebar);\n",
       "    this.header = titletext[0];\n",
       "}\n",
       "\n",
       "\n",
       "\n",
       "mpl.figure.prototype._canvas_extra_style = function(canvas_div) {\n",
       "\n",
       "}\n",
       "\n",
       "\n",
       "mpl.figure.prototype._root_extra_style = function(canvas_div) {\n",
       "\n",
       "}\n",
       "\n",
       "mpl.figure.prototype._init_canvas = function() {\n",
       "    var fig = this;\n",
       "\n",
       "    var canvas_div = $('<div/>');\n",
       "\n",
       "    canvas_div.attr('style', 'position: relative; clear: both; outline: 0');\n",
       "\n",
       "    function canvas_keyboard_event(event) {\n",
       "        return fig.key_event(event, event['data']);\n",
       "    }\n",
       "\n",
       "    canvas_div.keydown('key_press', canvas_keyboard_event);\n",
       "    canvas_div.keyup('key_release', canvas_keyboard_event);\n",
       "    this.canvas_div = canvas_div\n",
       "    this._canvas_extra_style(canvas_div)\n",
       "    this.root.append(canvas_div);\n",
       "\n",
       "    var canvas = $('<canvas/>');\n",
       "    canvas.addClass('mpl-canvas');\n",
       "    canvas.attr('style', \"left: 0; top: 0; z-index: 0; outline: 0\")\n",
       "\n",
       "    this.canvas = canvas[0];\n",
       "    this.context = canvas[0].getContext(\"2d\");\n",
       "\n",
       "    var backingStore = this.context.backingStorePixelRatio ||\n",
       "\tthis.context.webkitBackingStorePixelRatio ||\n",
       "\tthis.context.mozBackingStorePixelRatio ||\n",
       "\tthis.context.msBackingStorePixelRatio ||\n",
       "\tthis.context.oBackingStorePixelRatio ||\n",
       "\tthis.context.backingStorePixelRatio || 1;\n",
       "\n",
       "    mpl.ratio = (window.devicePixelRatio || 1) / backingStore;\n",
       "\n",
       "    var rubberband = $('<canvas/>');\n",
       "    rubberband.attr('style', \"position: absolute; left: 0; top: 0; z-index: 1;\")\n",
       "\n",
       "    var pass_mouse_events = true;\n",
       "\n",
       "    canvas_div.resizable({\n",
       "        start: function(event, ui) {\n",
       "            pass_mouse_events = false;\n",
       "        },\n",
       "        resize: function(event, ui) {\n",
       "            fig.request_resize(ui.size.width, ui.size.height);\n",
       "        },\n",
       "        stop: function(event, ui) {\n",
       "            pass_mouse_events = true;\n",
       "            fig.request_resize(ui.size.width, ui.size.height);\n",
       "        },\n",
       "    });\n",
       "\n",
       "    function mouse_event_fn(event) {\n",
       "        if (pass_mouse_events)\n",
       "            return fig.mouse_event(event, event['data']);\n",
       "    }\n",
       "\n",
       "    rubberband.mousedown('button_press', mouse_event_fn);\n",
       "    rubberband.mouseup('button_release', mouse_event_fn);\n",
       "    // Throttle sequential mouse events to 1 every 20ms.\n",
       "    rubberband.mousemove('motion_notify', mouse_event_fn);\n",
       "\n",
       "    rubberband.mouseenter('figure_enter', mouse_event_fn);\n",
       "    rubberband.mouseleave('figure_leave', mouse_event_fn);\n",
       "\n",
       "    canvas_div.on(\"wheel\", function (event) {\n",
       "        event = event.originalEvent;\n",
       "        event['data'] = 'scroll'\n",
       "        if (event.deltaY < 0) {\n",
       "            event.step = 1;\n",
       "        } else {\n",
       "            event.step = -1;\n",
       "        }\n",
       "        mouse_event_fn(event);\n",
       "    });\n",
       "\n",
       "    canvas_div.append(canvas);\n",
       "    canvas_div.append(rubberband);\n",
       "\n",
       "    this.rubberband = rubberband;\n",
       "    this.rubberband_canvas = rubberband[0];\n",
       "    this.rubberband_context = rubberband[0].getContext(\"2d\");\n",
       "    this.rubberband_context.strokeStyle = \"#000000\";\n",
       "\n",
       "    this._resize_canvas = function(width, height) {\n",
       "        // Keep the size of the canvas, canvas container, and rubber band\n",
       "        // canvas in synch.\n",
       "        canvas_div.css('width', width)\n",
       "        canvas_div.css('height', height)\n",
       "\n",
       "        canvas.attr('width', width * mpl.ratio);\n",
       "        canvas.attr('height', height * mpl.ratio);\n",
       "        canvas.attr('style', 'width: ' + width + 'px; height: ' + height + 'px;');\n",
       "\n",
       "        rubberband.attr('width', width);\n",
       "        rubberband.attr('height', height);\n",
       "    }\n",
       "\n",
       "    // Set the figure to an initial 600x600px, this will subsequently be updated\n",
       "    // upon first draw.\n",
       "    this._resize_canvas(600, 600);\n",
       "\n",
       "    // Disable right mouse context menu.\n",
       "    $(this.rubberband_canvas).bind(\"contextmenu\",function(e){\n",
       "        return false;\n",
       "    });\n",
       "\n",
       "    function set_focus () {\n",
       "        canvas.focus();\n",
       "        canvas_div.focus();\n",
       "    }\n",
       "\n",
       "    window.setTimeout(set_focus, 100);\n",
       "}\n",
       "\n",
       "mpl.figure.prototype._init_toolbar = function() {\n",
       "    var fig = this;\n",
       "\n",
       "    var nav_element = $('<div/>');\n",
       "    nav_element.attr('style', 'width: 100%');\n",
       "    this.root.append(nav_element);\n",
       "\n",
       "    // Define a callback function for later on.\n",
       "    function toolbar_event(event) {\n",
       "        return fig.toolbar_button_onclick(event['data']);\n",
       "    }\n",
       "    function toolbar_mouse_event(event) {\n",
       "        return fig.toolbar_button_onmouseover(event['data']);\n",
       "    }\n",
       "\n",
       "    for(var toolbar_ind in mpl.toolbar_items) {\n",
       "        var name = mpl.toolbar_items[toolbar_ind][0];\n",
       "        var tooltip = mpl.toolbar_items[toolbar_ind][1];\n",
       "        var image = mpl.toolbar_items[toolbar_ind][2];\n",
       "        var method_name = mpl.toolbar_items[toolbar_ind][3];\n",
       "\n",
       "        if (!name) {\n",
       "            // put a spacer in here.\n",
       "            continue;\n",
       "        }\n",
       "        var button = $('<button/>');\n",
       "        button.addClass('ui-button ui-widget ui-state-default ui-corner-all ' +\n",
       "                        'ui-button-icon-only');\n",
       "        button.attr('role', 'button');\n",
       "        button.attr('aria-disabled', 'false');\n",
       "        button.click(method_name, toolbar_event);\n",
       "        button.mouseover(tooltip, toolbar_mouse_event);\n",
       "\n",
       "        var icon_img = $('<span/>');\n",
       "        icon_img.addClass('ui-button-icon-primary ui-icon');\n",
       "        icon_img.addClass(image);\n",
       "        icon_img.addClass('ui-corner-all');\n",
       "\n",
       "        var tooltip_span = $('<span/>');\n",
       "        tooltip_span.addClass('ui-button-text');\n",
       "        tooltip_span.html(tooltip);\n",
       "\n",
       "        button.append(icon_img);\n",
       "        button.append(tooltip_span);\n",
       "\n",
       "        nav_element.append(button);\n",
       "    }\n",
       "\n",
       "    var fmt_picker_span = $('<span/>');\n",
       "\n",
       "    var fmt_picker = $('<select/>');\n",
       "    fmt_picker.addClass('mpl-toolbar-option ui-widget ui-widget-content');\n",
       "    fmt_picker_span.append(fmt_picker);\n",
       "    nav_element.append(fmt_picker_span);\n",
       "    this.format_dropdown = fmt_picker[0];\n",
       "\n",
       "    for (var ind in mpl.extensions) {\n",
       "        var fmt = mpl.extensions[ind];\n",
       "        var option = $(\n",
       "            '<option/>', {selected: fmt === mpl.default_extension}).html(fmt);\n",
       "        fmt_picker.append(option);\n",
       "    }\n",
       "\n",
       "    // Add hover states to the ui-buttons\n",
       "    $( \".ui-button\" ).hover(\n",
       "        function() { $(this).addClass(\"ui-state-hover\");},\n",
       "        function() { $(this).removeClass(\"ui-state-hover\");}\n",
       "    );\n",
       "\n",
       "    var status_bar = $('<span class=\"mpl-message\"/>');\n",
       "    nav_element.append(status_bar);\n",
       "    this.message = status_bar[0];\n",
       "}\n",
       "\n",
       "mpl.figure.prototype.request_resize = function(x_pixels, y_pixels) {\n",
       "    // Request matplotlib to resize the figure. Matplotlib will then trigger a resize in the client,\n",
       "    // which will in turn request a refresh of the image.\n",
       "    this.send_message('resize', {'width': x_pixels, 'height': y_pixels});\n",
       "}\n",
       "\n",
       "mpl.figure.prototype.send_message = function(type, properties) {\n",
       "    properties['type'] = type;\n",
       "    properties['figure_id'] = this.id;\n",
       "    this.ws.send(JSON.stringify(properties));\n",
       "}\n",
       "\n",
       "mpl.figure.prototype.send_draw_message = function() {\n",
       "    if (!this.waiting) {\n",
       "        this.waiting = true;\n",
       "        this.ws.send(JSON.stringify({type: \"draw\", figure_id: this.id}));\n",
       "    }\n",
       "}\n",
       "\n",
       "\n",
       "mpl.figure.prototype.handle_save = function(fig, msg) {\n",
       "    var format_dropdown = fig.format_dropdown;\n",
       "    var format = format_dropdown.options[format_dropdown.selectedIndex].value;\n",
       "    fig.ondownload(fig, format);\n",
       "}\n",
       "\n",
       "\n",
       "mpl.figure.prototype.handle_resize = function(fig, msg) {\n",
       "    var size = msg['size'];\n",
       "    if (size[0] != fig.canvas.width || size[1] != fig.canvas.height) {\n",
       "        fig._resize_canvas(size[0], size[1]);\n",
       "        fig.send_message(\"refresh\", {});\n",
       "    };\n",
       "}\n",
       "\n",
       "mpl.figure.prototype.handle_rubberband = function(fig, msg) {\n",
       "    var x0 = msg['x0'] / mpl.ratio;\n",
       "    var y0 = (fig.canvas.height - msg['y0']) / mpl.ratio;\n",
       "    var x1 = msg['x1'] / mpl.ratio;\n",
       "    var y1 = (fig.canvas.height - msg['y1']) / mpl.ratio;\n",
       "    x0 = Math.floor(x0) + 0.5;\n",
       "    y0 = Math.floor(y0) + 0.5;\n",
       "    x1 = Math.floor(x1) + 0.5;\n",
       "    y1 = Math.floor(y1) + 0.5;\n",
       "    var min_x = Math.min(x0, x1);\n",
       "    var min_y = Math.min(y0, y1);\n",
       "    var width = Math.abs(x1 - x0);\n",
       "    var height = Math.abs(y1 - y0);\n",
       "\n",
       "    fig.rubberband_context.clearRect(\n",
       "        0, 0, fig.canvas.width / mpl.ratio, fig.canvas.height / mpl.ratio);\n",
       "\n",
       "    fig.rubberband_context.strokeRect(min_x, min_y, width, height);\n",
       "}\n",
       "\n",
       "mpl.figure.prototype.handle_figure_label = function(fig, msg) {\n",
       "    // Updates the figure title.\n",
       "    fig.header.textContent = msg['label'];\n",
       "}\n",
       "\n",
       "mpl.figure.prototype.handle_cursor = function(fig, msg) {\n",
       "    var cursor = msg['cursor'];\n",
       "    switch(cursor)\n",
       "    {\n",
       "    case 0:\n",
       "        cursor = 'pointer';\n",
       "        break;\n",
       "    case 1:\n",
       "        cursor = 'default';\n",
       "        break;\n",
       "    case 2:\n",
       "        cursor = 'crosshair';\n",
       "        break;\n",
       "    case 3:\n",
       "        cursor = 'move';\n",
       "        break;\n",
       "    }\n",
       "    fig.rubberband_canvas.style.cursor = cursor;\n",
       "}\n",
       "\n",
       "mpl.figure.prototype.handle_message = function(fig, msg) {\n",
       "    fig.message.textContent = msg['message'];\n",
       "}\n",
       "\n",
       "mpl.figure.prototype.handle_draw = function(fig, msg) {\n",
       "    // Request the server to send over a new figure.\n",
       "    fig.send_draw_message();\n",
       "}\n",
       "\n",
       "mpl.figure.prototype.handle_image_mode = function(fig, msg) {\n",
       "    fig.image_mode = msg['mode'];\n",
       "}\n",
       "\n",
       "mpl.figure.prototype.updated_canvas_event = function() {\n",
       "    // Called whenever the canvas gets updated.\n",
       "    this.send_message(\"ack\", {});\n",
       "}\n",
       "\n",
       "// A function to construct a web socket function for onmessage handling.\n",
       "// Called in the figure constructor.\n",
       "mpl.figure.prototype._make_on_message_function = function(fig) {\n",
       "    return function socket_on_message(evt) {\n",
       "        if (evt.data instanceof Blob) {\n",
       "            /* FIXME: We get \"Resource interpreted as Image but\n",
       "             * transferred with MIME type text/plain:\" errors on\n",
       "             * Chrome.  But how to set the MIME type?  It doesn't seem\n",
       "             * to be part of the websocket stream */\n",
       "            evt.data.type = \"image/png\";\n",
       "\n",
       "            /* Free the memory for the previous frames */\n",
       "            if (fig.imageObj.src) {\n",
       "                (window.URL || window.webkitURL).revokeObjectURL(\n",
       "                    fig.imageObj.src);\n",
       "            }\n",
       "\n",
       "            fig.imageObj.src = (window.URL || window.webkitURL).createObjectURL(\n",
       "                evt.data);\n",
       "            fig.updated_canvas_event();\n",
       "            fig.waiting = false;\n",
       "            return;\n",
       "        }\n",
       "        else if (typeof evt.data === 'string' && evt.data.slice(0, 21) == \"data:image/png;base64\") {\n",
       "            fig.imageObj.src = evt.data;\n",
       "            fig.updated_canvas_event();\n",
       "            fig.waiting = false;\n",
       "            return;\n",
       "        }\n",
       "\n",
       "        var msg = JSON.parse(evt.data);\n",
       "        var msg_type = msg['type'];\n",
       "\n",
       "        // Call the  \"handle_{type}\" callback, which takes\n",
       "        // the figure and JSON message as its only arguments.\n",
       "        try {\n",
       "            var callback = fig[\"handle_\" + msg_type];\n",
       "        } catch (e) {\n",
       "            console.log(\"No handler for the '\" + msg_type + \"' message type: \", msg);\n",
       "            return;\n",
       "        }\n",
       "\n",
       "        if (callback) {\n",
       "            try {\n",
       "                // console.log(\"Handling '\" + msg_type + \"' message: \", msg);\n",
       "                callback(fig, msg);\n",
       "            } catch (e) {\n",
       "                console.log(\"Exception inside the 'handler_\" + msg_type + \"' callback:\", e, e.stack, msg);\n",
       "            }\n",
       "        }\n",
       "    };\n",
       "}\n",
       "\n",
       "// from http://stackoverflow.com/questions/1114465/getting-mouse-location-in-canvas\n",
       "mpl.findpos = function(e) {\n",
       "    //this section is from http://www.quirksmode.org/js/events_properties.html\n",
       "    var targ;\n",
       "    if (!e)\n",
       "        e = window.event;\n",
       "    if (e.target)\n",
       "        targ = e.target;\n",
       "    else if (e.srcElement)\n",
       "        targ = e.srcElement;\n",
       "    if (targ.nodeType == 3) // defeat Safari bug\n",
       "        targ = targ.parentNode;\n",
       "\n",
       "    // jQuery normalizes the pageX and pageY\n",
       "    // pageX,Y are the mouse positions relative to the document\n",
       "    // offset() returns the position of the element relative to the document\n",
       "    var x = e.pageX - $(targ).offset().left;\n",
       "    var y = e.pageY - $(targ).offset().top;\n",
       "\n",
       "    return {\"x\": x, \"y\": y};\n",
       "};\n",
       "\n",
       "/*\n",
       " * return a copy of an object with only non-object keys\n",
       " * we need this to avoid circular references\n",
       " * http://stackoverflow.com/a/24161582/3208463\n",
       " */\n",
       "function simpleKeys (original) {\n",
       "  return Object.keys(original).reduce(function (obj, key) {\n",
       "    if (typeof original[key] !== 'object')\n",
       "        obj[key] = original[key]\n",
       "    return obj;\n",
       "  }, {});\n",
       "}\n",
       "\n",
       "mpl.figure.prototype.mouse_event = function(event, name) {\n",
       "    var canvas_pos = mpl.findpos(event)\n",
       "\n",
       "    if (name === 'button_press')\n",
       "    {\n",
       "        this.canvas.focus();\n",
       "        this.canvas_div.focus();\n",
       "    }\n",
       "\n",
       "    var x = canvas_pos.x * mpl.ratio;\n",
       "    var y = canvas_pos.y * mpl.ratio;\n",
       "\n",
       "    this.send_message(name, {x: x, y: y, button: event.button,\n",
       "                             step: event.step,\n",
       "                             guiEvent: simpleKeys(event)});\n",
       "\n",
       "    /* This prevents the web browser from automatically changing to\n",
       "     * the text insertion cursor when the button is pressed.  We want\n",
       "     * to control all of the cursor setting manually through the\n",
       "     * 'cursor' event from matplotlib */\n",
       "    event.preventDefault();\n",
       "    return false;\n",
       "}\n",
       "\n",
       "mpl.figure.prototype._key_event_extra = function(event, name) {\n",
       "    // Handle any extra behaviour associated with a key event\n",
       "}\n",
       "\n",
       "mpl.figure.prototype.key_event = function(event, name) {\n",
       "\n",
       "    // Prevent repeat events\n",
       "    if (name == 'key_press')\n",
       "    {\n",
       "        if (event.which === this._key)\n",
       "            return;\n",
       "        else\n",
       "            this._key = event.which;\n",
       "    }\n",
       "    if (name == 'key_release')\n",
       "        this._key = null;\n",
       "\n",
       "    var value = '';\n",
       "    if (event.ctrlKey && event.which != 17)\n",
       "        value += \"ctrl+\";\n",
       "    if (event.altKey && event.which != 18)\n",
       "        value += \"alt+\";\n",
       "    if (event.shiftKey && event.which != 16)\n",
       "        value += \"shift+\";\n",
       "\n",
       "    value += 'k';\n",
       "    value += event.which.toString();\n",
       "\n",
       "    this._key_event_extra(event, name);\n",
       "\n",
       "    this.send_message(name, {key: value,\n",
       "                             guiEvent: simpleKeys(event)});\n",
       "    return false;\n",
       "}\n",
       "\n",
       "mpl.figure.prototype.toolbar_button_onclick = function(name) {\n",
       "    if (name == 'download') {\n",
       "        this.handle_save(this, null);\n",
       "    } else {\n",
       "        this.send_message(\"toolbar_button\", {name: name});\n",
       "    }\n",
       "};\n",
       "\n",
       "mpl.figure.prototype.toolbar_button_onmouseover = function(tooltip) {\n",
       "    this.message.textContent = tooltip;\n",
       "};\n",
       "mpl.toolbar_items = [[\"Home\", \"Reset original view\", \"fa fa-home icon-home\", \"home\"], [\"Back\", \"Back to previous view\", \"fa fa-arrow-left icon-arrow-left\", \"back\"], [\"Forward\", \"Forward to next view\", \"fa fa-arrow-right icon-arrow-right\", \"forward\"], [\"\", \"\", \"\", \"\"], [\"Pan\", \"Pan axes with left mouse, zoom with right\", \"fa fa-arrows icon-move\", \"pan\"], [\"Zoom\", \"Zoom to rectangle\", \"fa fa-square-o icon-check-empty\", \"zoom\"], [\"\", \"\", \"\", \"\"], [\"Download\", \"Download plot\", \"fa fa-floppy-o icon-save\", \"download\"]];\n",
       "\n",
       "mpl.extensions = [\"eps\", \"jpeg\", \"pdf\", \"png\", \"ps\", \"raw\", \"svg\", \"tif\"];\n",
       "\n",
       "mpl.default_extension = \"png\";var comm_websocket_adapter = function(comm) {\n",
       "    // Create a \"websocket\"-like object which calls the given IPython comm\n",
       "    // object with the appropriate methods. Currently this is a non binary\n",
       "    // socket, so there is still some room for performance tuning.\n",
       "    var ws = {};\n",
       "\n",
       "    ws.close = function() {\n",
       "        comm.close()\n",
       "    };\n",
       "    ws.send = function(m) {\n",
       "        //console.log('sending', m);\n",
       "        comm.send(m);\n",
       "    };\n",
       "    // Register the callback with on_msg.\n",
       "    comm.on_msg(function(msg) {\n",
       "        //console.log('receiving', msg['content']['data'], msg);\n",
       "        // Pass the mpl event to the overridden (by mpl) onmessage function.\n",
       "        ws.onmessage(msg['content']['data'])\n",
       "    });\n",
       "    return ws;\n",
       "}\n",
       "\n",
       "mpl.mpl_figure_comm = function(comm, msg) {\n",
       "    // This is the function which gets called when the mpl process\n",
       "    // starts-up an IPython Comm through the \"matplotlib\" channel.\n",
       "\n",
       "    var id = msg.content.data.id;\n",
       "    // Get hold of the div created by the display call when the Comm\n",
       "    // socket was opened in Python.\n",
       "    var element = $(\"#\" + id);\n",
       "    var ws_proxy = comm_websocket_adapter(comm)\n",
       "\n",
       "    function ondownload(figure, format) {\n",
       "        window.open(figure.imageObj.src);\n",
       "    }\n",
       "\n",
       "    var fig = new mpl.figure(id, ws_proxy,\n",
       "                           ondownload,\n",
       "                           element.get(0));\n",
       "\n",
       "    // Call onopen now - mpl needs it, as it is assuming we've passed it a real\n",
       "    // web socket which is closed, not our websocket->open comm proxy.\n",
       "    ws_proxy.onopen();\n",
       "\n",
       "    fig.parent_element = element.get(0);\n",
       "    fig.cell_info = mpl.find_output_cell(\"<div id='\" + id + \"'></div>\");\n",
       "    if (!fig.cell_info) {\n",
       "        console.error(\"Failed to find cell for figure\", id, fig);\n",
       "        return;\n",
       "    }\n",
       "\n",
       "    var output_index = fig.cell_info[2]\n",
       "    var cell = fig.cell_info[0];\n",
       "\n",
       "};\n",
       "\n",
       "mpl.figure.prototype.handle_close = function(fig, msg) {\n",
       "    var width = fig.canvas.width/mpl.ratio\n",
       "    fig.root.unbind('remove')\n",
       "\n",
       "    // Update the output cell to use the data from the current canvas.\n",
       "    fig.push_to_output();\n",
       "    var dataURL = fig.canvas.toDataURL();\n",
       "    // Re-enable the keyboard manager in IPython - without this line, in FF,\n",
       "    // the notebook keyboard shortcuts fail.\n",
       "    IPython.keyboard_manager.enable()\n",
       "    $(fig.parent_element).html('<img src=\"' + dataURL + '\" width=\"' + width + '\">');\n",
       "    fig.close_ws(fig, msg);\n",
       "}\n",
       "\n",
       "mpl.figure.prototype.close_ws = function(fig, msg){\n",
       "    fig.send_message('closing', msg);\n",
       "    // fig.ws.close()\n",
       "}\n",
       "\n",
       "mpl.figure.prototype.push_to_output = function(remove_interactive) {\n",
       "    // Turn the data on the canvas into data in the output cell.\n",
       "    var width = this.canvas.width/mpl.ratio\n",
       "    var dataURL = this.canvas.toDataURL();\n",
       "    this.cell_info[1]['text/html'] = '<img src=\"' + dataURL + '\" width=\"' + width + '\">';\n",
       "}\n",
       "\n",
       "mpl.figure.prototype.updated_canvas_event = function() {\n",
       "    // Tell IPython that the notebook contents must change.\n",
       "    IPython.notebook.set_dirty(true);\n",
       "    this.send_message(\"ack\", {});\n",
       "    var fig = this;\n",
       "    // Wait a second, then push the new image to the DOM so\n",
       "    // that it is saved nicely (might be nice to debounce this).\n",
       "    setTimeout(function () { fig.push_to_output() }, 1000);\n",
       "}\n",
       "\n",
       "mpl.figure.prototype._init_toolbar = function() {\n",
       "    var fig = this;\n",
       "\n",
       "    var nav_element = $('<div/>');\n",
       "    nav_element.attr('style', 'width: 100%');\n",
       "    this.root.append(nav_element);\n",
       "\n",
       "    // Define a callback function for later on.\n",
       "    function toolbar_event(event) {\n",
       "        return fig.toolbar_button_onclick(event['data']);\n",
       "    }\n",
       "    function toolbar_mouse_event(event) {\n",
       "        return fig.toolbar_button_onmouseover(event['data']);\n",
       "    }\n",
       "\n",
       "    for(var toolbar_ind in mpl.toolbar_items){\n",
       "        var name = mpl.toolbar_items[toolbar_ind][0];\n",
       "        var tooltip = mpl.toolbar_items[toolbar_ind][1];\n",
       "        var image = mpl.toolbar_items[toolbar_ind][2];\n",
       "        var method_name = mpl.toolbar_items[toolbar_ind][3];\n",
       "\n",
       "        if (!name) { continue; };\n",
       "\n",
       "        var button = $('<button class=\"btn btn-default\" href=\"#\" title=\"' + name + '\"><i class=\"fa ' + image + ' fa-lg\"></i></button>');\n",
       "        button.click(method_name, toolbar_event);\n",
       "        button.mouseover(tooltip, toolbar_mouse_event);\n",
       "        nav_element.append(button);\n",
       "    }\n",
       "\n",
       "    // Add the status bar.\n",
       "    var status_bar = $('<span class=\"mpl-message\" style=\"text-align:right; float: right;\"/>');\n",
       "    nav_element.append(status_bar);\n",
       "    this.message = status_bar[0];\n",
       "\n",
       "    // Add the close button to the window.\n",
       "    var buttongrp = $('<div class=\"btn-group inline pull-right\"></div>');\n",
       "    var button = $('<button class=\"btn btn-mini btn-primary\" href=\"#\" title=\"Stop Interaction\"><i class=\"fa fa-power-off icon-remove icon-large\"></i></button>');\n",
       "    button.click(function (evt) { fig.handle_close(fig, {}); } );\n",
       "    button.mouseover('Stop Interaction', toolbar_mouse_event);\n",
       "    buttongrp.append(button);\n",
       "    var titlebar = this.root.find($('.ui-dialog-titlebar'));\n",
       "    titlebar.prepend(buttongrp);\n",
       "}\n",
       "\n",
       "mpl.figure.prototype._root_extra_style = function(el){\n",
       "    var fig = this\n",
       "    el.on(\"remove\", function(){\n",
       "\tfig.close_ws(fig, {});\n",
       "    });\n",
       "}\n",
       "\n",
       "mpl.figure.prototype._canvas_extra_style = function(el){\n",
       "    // this is important to make the div 'focusable\n",
       "    el.attr('tabindex', 0)\n",
       "    // reach out to IPython and tell the keyboard manager to turn it's self\n",
       "    // off when our div gets focus\n",
       "\n",
       "    // location in version 3\n",
       "    if (IPython.notebook.keyboard_manager) {\n",
       "        IPython.notebook.keyboard_manager.register_events(el);\n",
       "    }\n",
       "    else {\n",
       "        // location in version 2\n",
       "        IPython.keyboard_manager.register_events(el);\n",
       "    }\n",
       "\n",
       "}\n",
       "\n",
       "mpl.figure.prototype._key_event_extra = function(event, name) {\n",
       "    var manager = IPython.notebook.keyboard_manager;\n",
       "    if (!manager)\n",
       "        manager = IPython.keyboard_manager;\n",
       "\n",
       "    // Check for shift+enter\n",
       "    if (event.shiftKey && event.which == 13) {\n",
       "        this.canvas_div.blur();\n",
       "        // select the cell after this one\n",
       "        var index = IPython.notebook.find_cell_index(this.cell_info[0]);\n",
       "        IPython.notebook.select(index + 1);\n",
       "    }\n",
       "}\n",
       "\n",
       "mpl.figure.prototype.handle_save = function(fig, msg) {\n",
       "    fig.ondownload(fig, null);\n",
       "}\n",
       "\n",
       "\n",
       "mpl.find_output_cell = function(html_output) {\n",
       "    // Return the cell and output element which can be found *uniquely* in the notebook.\n",
       "    // Note - this is a bit hacky, but it is done because the \"notebook_saving.Notebook\"\n",
       "    // IPython event is triggered only after the cells have been serialised, which for\n",
       "    // our purposes (turning an active figure into a static one), is too late.\n",
       "    var cells = IPython.notebook.get_cells();\n",
       "    var ncells = cells.length;\n",
       "    for (var i=0; i<ncells; i++) {\n",
       "        var cell = cells[i];\n",
       "        if (cell.cell_type === 'code'){\n",
       "            for (var j=0; j<cell.output_area.outputs.length; j++) {\n",
       "                var data = cell.output_area.outputs[j];\n",
       "                if (data.data) {\n",
       "                    // IPython >= 3 moved mimebundle to data attribute of output\n",
       "                    data = data.data;\n",
       "                }\n",
       "                if (data['text/html'] == html_output) {\n",
       "                    return [cell, data, j];\n",
       "                }\n",
       "            }\n",
       "        }\n",
       "    }\n",
       "}\n",
       "\n",
       "// Register the function which deals with the matplotlib target/channel.\n",
       "// The kernel may be null if the page has been refreshed.\n",
       "if (IPython.notebook.kernel != null) {\n",
       "    IPython.notebook.kernel.comm_manager.register_target('matplotlib', mpl.mpl_figure_comm);\n",
       "}\n"
      ],
      "text/plain": [
       "<IPython.core.display.Javascript object>"
      ]
     },
     "metadata": {},
     "output_type": "display_data"
    },
    {
     "data": {
      "text/html": [
       "<img src=\"data:image/png;base64,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\" width=\"800\">"
      ],
      "text/plain": [
       "<IPython.core.display.HTML object>"
      ]
     },
     "metadata": {},
     "output_type": "display_data"
    },
    {
     "data": {
      "application/vnd.jupyter.widget-view+json": {
       "model_id": "e6b87574b4a741ebbf97d6f5cdfceccc",
       "version_major": 2,
       "version_minor": 0
      },
      "text/plain": [
       "interactive(children=(IntSlider(value=1000, description='M', max=2000, min=100, step=10), FloatSlider(value=12…"
      ]
     },
     "metadata": {},
     "output_type": "display_data"
    }
   ],
   "source": [
    "%matplotlib notebook\n",
    "from livePlot import *\n",
    "plot = livePlot()"
   ]
  },
  {
   "cell_type": "markdown",
   "metadata": {},
   "source": [
    "\n",
    "## Long-run Dynamics\n",
    "\n",
    "The distinction between long-run and short-run is critical for understanding dynamics that develop between the money market and the non-money goods market. In the long-run, the price level fully reflects changes in $AD$, whether the shift in $AD$ is a result of a change in $M$ or a change in $V$. In the short-run, changes in real income absorb changes in $AD$. While long-run changes are essentially inevitable, short-run changes do not ever need to occur. If they are observed, they occur only in the short-run.[1] After investigating long-run dynamics, we will consider short-run dynamics.\n",
    "\n",
    "### Case 1: Aggregate Demand Increases\n",
    "\n",
    "> Figure 2: Aggregate Demand Increases\n",
    "\n",
    "An increase in $AD$ represents an increase in the value of total expenditures across the economy (Figure 2). By definition, this value of total expenditures matches the value of nominal income. In the long-run, an increase in $AD$ will lift the price level from $P_0$ to $P_1$. Notice that this results in an increase in nominal income from a value of $P_0y_0$ to $P_1y_0$. This increase in nominal income does not entail an increase in real income in the long-run. This would only happen if the long-run aggregate supply shifted to the right and would be represented by a $y_1$ whose value is greater than $y_0$.\n",
    "\n",
    "> Figure 3: Decrease in Supply of Money\n",
    "\n",
    "The increase in $AD$ can come from one of two sources: either an increase in the quantity of money, $M$, or an increase in portfolio demand, $k$. We will consider the more intuitive case of an increase in $M$ first. If the increase in the quantity of money occurs when the economy is already in equilibrium, the shift will most obviously change the price of money, $P_m$. Since $P_m=\\frac{1}{P}$, the a change in the average price of money is simply the corollary to amovement of the price level in the opposite direction.\n",
    "\n",
    "The increase in the quantity of money represents a movement along the demand curve. This demand curve includes both portfolio demand, $k$, and transactions demand, $Py$. For now, we assume that these sources of demand remain constant. Thus, the increase from $M_0$ to $M_1$ translates directly to a fall in $P_m$ from $P_{m_0}$ to $P_{m_1}$.\n",
    "\n",
    "> Figure 4: Decrease in Portfolio Demand for Money\n",
    "\n",
    "Only a shift in $k$ represents an inverse change in portfolio demand as $k$ represents the portion of the money stock that individuals choose to hold throughout the period under consideration. Since $k$ is the inverse of $V$, so long as $V$ is greater than 1, then $k$ is a fraction less than 1. As with the increase in $M$, a fall in $k$ leads to a fall in the $P_m$ from $P_{m_0}$ to $P_{m_1}$. This coincides with an increase in $P$ from $P_0$ to $P_1$. Thus, a fall in the value of money is tantamount to a rise in the price level. This fall in the price level means that the new value of nominal income, $P_1y_0$ is less than the old value, $P_0y_0$.\n",
    "\n",
    "# Case 2: Aggregate Demand Falls\n",
    "\n",
    "> Figure 5: Increase in AD\n",
    "\n",
    "A fall in $AD$ represents an decrease in the value of total expenditures across the economy (Figure 6). This results in a fall in nominal income. In the long-run, an fall in $AD$ will depress the price level from $P_0$ to $P_1$. Notice that this results in a decrease in nominal income from a value of $P_0y_0$ to $P_1y_0$. The long-run level of real income, $y_0$, remains unaffected. Just as a rise in $M$ increases $AD$, a fall in $AD$ may occur due to a shrinking of the money stock. With less money in the economy, the previous equilibrium level of prices could only be sustained if individuals tended to decrease their cash holdings in response. For clarity, we consider cases where only one of the variables comprising aggregate demand changes.\n",
    "\n",
    "> Figure 6: Increase in Supply of Money\n",
    ">\n",
    "> Figure 7: Increase in Portfolio Demand for Money\n",
    "\n",
    "$AD$ may also fall due to an increase in demand to hold money. This increase in portfolio demand for money, $k$, is the same as a fall in the average velocity of money, $V$. An increase in demand to hold money leaves less money available for expenditure. This exerts a negative influence on prices and, necessarily, a positive influence on the price of money. Just as with a fall in the money supply, the equilibrium price of money rises from $P_{M_0}$ to $P_{M_1}$.\n",
    "\n",
    "## Short-run Dynamics: Excess Supply and Excess Demand\n",
    "\n",
    "The short-run is defined by any period of time that real income responds to changes in aggregate demand. The short-run is defined by a short-run aggregate supply ($SRAS$) is perfectly elastic. This means that it is horizontal, set at the value of the initial price level.  We assume that in the short-run, quantities adjust before the price level. In the long-run, any value of $y$ that is less than $y_0$ is less than the full potential that can be produced in the long-run. Any value of yy that is greater than $y_0$ cannot be sustained as it would demand that producers sustain real losses as input prices are bid upward. An scess demand for goods imply an excess supply of money and excess supply of goods implies an excess demand for money.\n",
    "\n",
    "It is not necessary that the short-run outcome actually occur. If forward looking agents expect that there will be a change in total expenditures and that this change will affect the price of particular goods, they may adjust these prices downward in expectation of the price change. However, there are cases where investors may be less willing to realize a loss by the sale of a home, such as might occur in the real estate market during a recession. Homeowners that have purchased their home with a mortgage will likely avoid such a sale if the value of the home falls below what is owed on the mortgage. In situations like this, assets that would otherwise be sold may remain unsold, leading to a fall in real income. This will be discussed in greater detail in the discussion of business cycles in a later chapter.\n",
    "\n",
    "### Case 1: Excess Supply of Money and Excess Demand for Goods\n",
    "\n",
    "> Figure 8: Increase in AD: Excess Demand for Goods\n",
    "\n",
    "If aggregate demand increases, the immediate effect will be for consumers to purchase goods at a rate that is not sustainable. If producers do not recognize this fact immediately, they may increase the quantity of goods produced. To the extent that prices rise as factor costs are bid up, the total value of production will be constrained compared to if the price level remained static.\n",
    "\n",
    "The excess supply of goods at price level $P_0$, defined by $y_t - y_0$, necessarily implies an excess demand for money. This occurs either by an increase in the quantity of money supplied to the market or by a relinquishing of money held on reserve by economic actors. The first instance is represented by an increase in the money stock. The latter instance is represented by a fall in portfolio demand for money, which is equivalent to a rise in velocity. As the quantity of money increase from $M_0$ to $M_1$, individuals find themselves holding more money than they desire at given prices. As individuals spend money, price of goods begin to rise on average as signified by an increase in the price level. Since the price of money, $P_M$, is the inverse of the price level, $P$, a rise in the price level indicates a fall in the price of money. Once the price of money falls from $P_{M_0}$ to $P_{M_1}$, the excess supply of money is offset.\n",
    "\n",
    "> Figure 9: Increase in Supply of Money: Excess Supply of Money\n",
    "> Figure 10: Decrease in Portfolio Demand for Money: Excess Supply of Money\n",
    "\n",
    "Nearly the same proces occurs when there is a fall in portfolio demand for money. Since consumers are willing to spend a greater of share of their income, they can increase their consumption of goods to the extent that prices do not rise in response to the new expenditure. At the given price level, $P_0$, consumers desire to hold less money. The difference between $M_0$ and $M_t$ represents the excess balances that consumers plan to spend. As these funds are spent, the price level moves from $P_0$ to $P_1$ and the price of money falls from $P_{M_0}$ to $P_{M_1}$. The fall in the value of money moves the quantity of money demanded back to an equilibrium where the quantity demanded of money matches the quantity supplied.\n",
    "\n",
    "### Case 2: Excess Demand for Money and Excess Supply of Goods\n",
    "\n",
    "> Figure 11: Decrease in AD: Excess Supply of Goods\n",
    "\n",
    "In the short-run, a fall in aggregate demand leads to a scenario where not all goods available in the market are purchased. If producers do not instantly respond to the change in prices, there will be more goods produced than can be purchased given the quantity of money available to be spent at the initial price level, $P_0$. \n",
    "\n",
    "The excess supply of goods is represented by the difference of $y_0$ and $y_t$. The fall in expenditures that drive the shift from $AD_0$ to $AD_1$ must occur either due to a fall in the quantity of money or a fall in the velocity of money which is equivalently an increase in portfolio demand for money. In the case the supply of money falls, agents must adjust their planned expenditures to account for the fall in the quantity of available funds. At $P_{M_0}$ the quantity of money demanded, $M_0$, is greater than the available quantity of money, $M_1$. If their demand to hold money does not change, this must occur by a fall expenditures so long as the price of money does not increase from $P_{M_0}$ to $P_{M_1}$P in response to the fall in supply of money.\n",
    "\n",
    "> Figure 12: Decrease in Supply of Money: Excess Demand for Money\n",
    "> Figure 13: Increase in Portfolio Demand for Money: Excess Demand for Money\n",
    "\n",
    "The same fall in aggregate demand may occur as a result of an increase in demand to hold money on reserve. This increase in portfolio demand leads to an increase in the price of money in the long-run. Before prices respond to the change in demand for money, individuals will demand to hold more money than will allow for the clearing of the goods market. The excess demand for money, $M_t - M_0$, exactly matches the value of goods that remain unsold $y_0 - y_t$.\n",
    "\n",
    "## Aggregate Demand Driven Business Cycles\n",
    "\n",
    "Aggregate Demand Driven Business Cycles\n",
    "Excess demand and excess supplies play a fundamental role in explain macroeconomic fluctuations. Presuming that the economy produces a steady-state level of income and capital, deviations from these levels represent either an inflationary boom or a deflationary recession. Neither of these outcomes are necessary by a change in aggregate demand. Only in cases where prices are slow to adjust to changes in the money market will such macroeconomic disequilibrium occur. \n",
    "\n",
    "> Figure 13: RGNP and Increasing Central Bank Demand for Gold\n",
    "\n",
    "This phenomenon occurred in an extreme manner during the Great Depression as many central banks their gold holdings without also increasing the quantity of central bank notes in circulation. The result was a fall in real income and substantial deflation, both of which occurred at an international scale. While there were many other factors, which include policies that disrupted credit, labor, and goods markets, the disruption of money markets by central banks was a feature of the Great Depression and is commonly a driving force of relatively extreme economic depressions.\n",
    "\n",
    "## Factors Unexplained by Aggregate Analysis\n",
    "\n",
    "Although aggregate analysis provides a powerful description of the macroeconomy, it does not capture many elements that are at play in the economic process. Consider the effects of money creation. There may result an economic boom due to a confusion between real and nominal profits. Producers, especially those who receive the new money first, will invest in expectation of earning increased profits. Some early producers may succeed in this endeavor, but as more producers enter the market, the price of production inputs are bid up. \n",
    "\n",
    "The expected increase in profits by investors often leads to construction of productive factors that  would otherwise not be created. Since we live in a world of scarcity, this means that productive processes that are producing goods that consumers truly value will not be created. The creation of new capital that is the result of this misallocation cannot be cheaply reversed. The process of readjustment of the capital structure may result in depression, or it may  result in the sustained production of relatively lower level of real income due to the misallocation of productive factors that will remain in use even after being repriced once the boom has slowed. \n",
    "\n",
    "Although aggregate analysis fails to capture this, this does not mean that the aggregate factors are not exerting force on the economic system. Macroeconomic forces described here are always at play. There are simply other factors that impact economic activity alongside these macroeconomic factors.\n",
    "\n",
    "# Conclusion\n",
    "\n",
    "Aggregate demand is defined as total expenditures. The value of real income that can be derived from these expenditures changes inversely to the price level. The economy tends to be subject to equillibrating forces such that the price level moves to a level that enables the production and purchase of level of output that is sustainable in the long-run. Deviance from the equilibrium price level represent movements away from the sustainable level of output and can drive macroeconomic fluctuations.\n",
    "\n",
    "## Footnotes \n",
    "\n",
    "[1] In reality, short-run effects can impact the capital structure, thereby influencing the production structure in different markets and leading the lasting equilibrium structure that is relatively inefficient compared to cases where the capital structure is not distorted by $AD$ shocks."
   ]
  }
 ],
 "metadata": {
  "kernelspec": {
   "display_name": "Python 3",
   "language": "python",
   "name": "python3"
  },
  "language_info": {
   "codemirror_mode": {
    "name": "ipython",
    "version": 3
   },
   "file_extension": ".py",
   "mimetype": "text/x-python",
   "name": "python",
   "nbconvert_exporter": "python",
   "pygments_lexer": "ipython3",
   "version": "3.7.6"
  },
  "widgets": {
   "application/vnd.jupyter.widget-state+json": {
    "state": {
     "01722fde7f1e4726a767fdd9d3a00602": {
      "model_module": "@jupyter-widgets/base",
      "model_module_version": "1.2.0",
      "model_name": "LayoutModel",
      "state": {}
     },
     "02c53153eb5d45688642be50ccb18f34": {
      "model_module": "@jupyter-widgets/controls",
      "model_module_version": "1.5.0",
      "model_name": "FloatSliderModel",
      "state": {
       "description": "V",
       "layout": "IPY_MODEL_24ce228b7aa845b2b417ecf164703bb2",
       "max": 16,
       "min": 0.8,
       "step": 0.1,
       "style": "IPY_MODEL_2b35c4a39df9401b9b1a05aa88eba7ca",
       "value": 12
      }
     },
     "031544f030c449098b36d0928fcc7eca": {
      "model_module": "@jupyter-widgets/controls",
      "model_module_version": "1.5.0",
      "model_name": "SliderStyleModel",
      "state": {
       "description_width": ""
      }
     },
     "03b56f4dee7f406baa11706ca0be8c7c": {
      "model_module": "@jupyter-widgets/base",
      "model_module_version": "1.2.0",
      "model_name": "LayoutModel",
      "state": {}
     },
     "0426472a84cc41ca963a04c7a20d0532": {
      "model_module": "@jupyter-widgets/base",
      "model_module_version": "1.2.0",
      "model_name": "LayoutModel",
      "state": {}
     },
     "0684197412b84bd2951101024aab8d27": {
      "model_module": "@jupyter-widgets/controls",
      "model_module_version": "1.5.0",
      "model_name": "IntSliderModel",
      "state": {
       "description": "y0",
       "layout": "IPY_MODEL_3040f6c3e4224cec8c86c5e4935a74ed",
       "max": 1000,
       "min": 250,
       "step": 5,
       "style": "IPY_MODEL_cf4703dc555c4bed891a8e7989c20195",
       "value": 250
      }
     },
     "06d5959ce78b47b8a028698746abfd81": {
      "model_module": "@jupyter-widgets/base",
      "model_module_version": "1.2.0",
      "model_name": "LayoutModel",
      "state": {}
     },
     "0833cae91c824a499bd1bf37420688fb": {
      "model_module": "@jupyter-widgets/controls",
      "model_module_version": "1.5.0",
      "model_name": "IntSliderModel",
      "state": {
       "description": "y0",
       "layout": "IPY_MODEL_2dbe69c1d3b04801b6b178cd9be47e0e",
       "max": 1000,
       "min": 250,
       "step": 5,
       "style": "IPY_MODEL_f188c2d1121c4a559b25a316605bd558",
       "value": 550
      }
     },
     "08cd0337ff1f49c68055ff1209621d27": {
      "model_module": "@jupyter-widgets/controls",
      "model_module_version": "1.5.0",
      "model_name": "SliderStyleModel",
      "state": {
       "description_width": ""
      }
     },
     "0bbcc7350b6343d5a9bf1534226a2b59": {
      "model_module": "@jupyter-widgets/base",
      "model_module_version": "1.2.0",
      "model_name": "LayoutModel",
      "state": {}
     },
     "0bfaff8aeebd46f4b1934270dc5821f4": {
      "model_module": "@jupyter-widgets/controls",
      "model_module_version": "1.5.0",
      "model_name": "SliderStyleModel",
      "state": {
       "description_width": ""
      }
     },
     "0cd357ed6a744cf4aafb15596e2d95a0": {
      "model_module": "@jupyter-widgets/controls",
      "model_module_version": "1.5.0",
      "model_name": "IntSliderModel",
      "state": {
       "description": "M",
       "layout": "IPY_MODEL_20a81c9c72bb4dd590cf7e7bd304bd96",
       "max": 2000,
       "min": 100,
       "step": 10,
       "style": "IPY_MODEL_6db52190285a4e33bfcc5048fba69e15",
       "value": 1000
      }
     },
     "0f9873ea044c4cd0b84bca0f63392f23": {
      "model_module": "@jupyter-widgets/controls",
      "model_module_version": "1.5.0",
      "model_name": "SliderStyleModel",
      "state": {
       "description_width": ""
      }
     },
     "0fbc15984e384b869dc3e8f4e15e17c7": {
      "model_module": "@jupyter-widgets/base",
      "model_module_version": "1.2.0",
      "model_name": "LayoutModel",
      "state": {}
     },
     "0ff87625c54d4d628aa6be7e90ec3d7b": {
      "model_module": "@jupyter-widgets/controls",
      "model_module_version": "1.5.0",
      "model_name": "SliderStyleModel",
      "state": {
       "description_width": ""
      }
     },
     "103e8cfb466d4caeb1f03d1a76755ec1": {
      "model_module": "@jupyter-widgets/controls",
      "model_module_version": "1.5.0",
      "model_name": "IntSliderModel",
      "state": {
       "description": "M",
       "layout": "IPY_MODEL_dc94f9a67770485593550c2c1f4a5c42",
       "max": 2000,
       "min": 100,
       "step": 10,
       "style": "IPY_MODEL_aebe0385024f49e599f85c6d74f08bd9",
       "value": 1330
      }
     },
     "128841b01a2a436d86a2157757da67fc": {
      "model_module": "@jupyter-widgets/base",
      "model_module_version": "1.2.0",
      "model_name": "LayoutModel",
      "state": {}
     },
     "155032d3a7a34297acdee78f41deb17d": {
      "model_module": "@jupyter-widgets/controls",
      "model_module_version": "1.5.0",
      "model_name": "IntSliderModel",
      "state": {
       "description": "y0",
       "layout": "IPY_MODEL_3517dcbec79a40eb91f2de3eabbaae0a",
       "max": 1000,
       "min": 250,
       "step": 5,
       "style": "IPY_MODEL_aafde4ddd907429e89d4f25f032e0191",
       "value": 250
      }
     },
     "1821cc80c03548e4a10c5d3cd10555ca": {
      "model_module": "@jupyter-widgets/controls",
      "model_module_version": "1.5.0",
      "model_name": "FloatSliderModel",
      "state": {
       "description": "V",
       "layout": "IPY_MODEL_03b56f4dee7f406baa11706ca0be8c7c",
       "max": 16,
       "min": 2,
       "step": 0.1,
       "style": "IPY_MODEL_63d0faf74f944c7b846e8af9b8c69f0a",
       "value": 12
      }
     },
     "189aa44d9e4c4c93b53d41301a090dcb": {
      "model_module": "@jupyter-widgets/base",
      "model_module_version": "1.2.0",
      "model_name": "LayoutModel",
      "state": {}
     },
     "1a911c16ec9c4781984b86658caa7c88": {
      "model_module": "@jupyter-widgets/controls",
      "model_module_version": "1.5.0",
      "model_name": "VBoxModel",
      "state": {
       "_dom_classes": [
        "widget-interact"
       ],
       "children": [
        "IPY_MODEL_d257c31226b0447aa2ae805339056610",
        "IPY_MODEL_64ab2db96e7b4511a26cac6aee684dd1",
        "IPY_MODEL_8e020db6efff4e758915d876c87b5613",
        "IPY_MODEL_c34300f22580441da1cff26ebfd100da"
       ],
       "layout": "IPY_MODEL_3223965bd9104096909906bd6e3488cf"
      }
     },
     "1d835be9021749f3927f75ef2b656149": {
      "model_module": "@jupyter-widgets/base",
      "model_module_version": "1.2.0",
      "model_name": "LayoutModel",
      "state": {}
     },
     "1db02c5639c14fb8b9cd2fac9eaf5bfd": {
      "model_module": "@jupyter-widgets/base",
      "model_module_version": "1.2.0",
      "model_name": "LayoutModel",
      "state": {}
     },
     "20a81c9c72bb4dd590cf7e7bd304bd96": {
      "model_module": "@jupyter-widgets/base",
      "model_module_version": "1.2.0",
      "model_name": "LayoutModel",
      "state": {}
     },
     "2476126508084a04b25656723c8cfe40": {
      "model_module": "@jupyter-widgets/base",
      "model_module_version": "1.2.0",
      "model_name": "LayoutModel",
      "state": {}
     },
     "24ce228b7aa845b2b417ecf164703bb2": {
      "model_module": "@jupyter-widgets/base",
      "model_module_version": "1.2.0",
      "model_name": "LayoutModel",
      "state": {}
     },
     "25c1de1f92bc464aa920bf5bced0e029": {
      "model_module": "@jupyter-widgets/controls",
      "model_module_version": "1.5.0",
      "model_name": "SliderStyleModel",
      "state": {
       "description_width": ""
      }
     },
     "27065ce0e1974bb3a52c430b7bac8ee7": {
      "model_module": "@jupyter-widgets/controls",
      "model_module_version": "1.5.0",
      "model_name": "FloatSliderModel",
      "state": {
       "description": "V",
       "layout": "IPY_MODEL_29f2326241344862b0540d40521ccce0",
       "max": 16,
       "min": 0.8,
       "step": 0.1,
       "style": "IPY_MODEL_a9a0ab712ffc4662a944d1796a69b624",
       "value": 12
      }
     },
     "287cd367abd94c6992bb09daa472b211": {
      "model_module": "@jupyter-widgets/base",
      "model_module_version": "1.2.0",
      "model_name": "LayoutModel",
      "state": {}
     },
     "2903054e93b643d1bf1cc6ff652f200d": {
      "model_module": "@jupyter-widgets/controls",
      "model_module_version": "1.5.0",
      "model_name": "SliderStyleModel",
      "state": {
       "description_width": ""
      }
     },
     "294c934efe674a1fa043b3ea676a34af": {
      "model_module": "@jupyter-widgets/output",
      "model_module_version": "1.0.0",
      "model_name": "OutputModel",
      "state": {
       "layout": "IPY_MODEL_8befc19f6cdf4e79baa11028ec661ad2"
      }
     },
     "297491fb0d1f4bcbaf6bcc533c42b858": {
      "model_module": "@jupyter-widgets/base",
      "model_module_version": "1.2.0",
      "model_name": "LayoutModel",
      "state": {}
     },
     "29f2326241344862b0540d40521ccce0": {
      "model_module": "@jupyter-widgets/base",
      "model_module_version": "1.2.0",
      "model_name": "LayoutModel",
      "state": {}
     },
     "2a8bc1c76c3d44ddbc14726f5f0b2399": {
      "model_module": "@jupyter-widgets/controls",
      "model_module_version": "1.5.0",
      "model_name": "IntSliderModel",
      "state": {
       "description": "y0",
       "layout": "IPY_MODEL_b77b73236d5944548c8a7da5b7f69097",
       "max": 1000,
       "min": 250,
       "step": 5,
       "style": "IPY_MODEL_e1b0573952fd48b0b950b8bda76d667a",
       "value": 250
      }
     },
     "2ab33c1d074541888c555755e2f5395a": {
      "model_module": "@jupyter-widgets/base",
      "model_module_version": "1.2.0",
      "model_name": "LayoutModel",
      "state": {}
     },
     "2b35c4a39df9401b9b1a05aa88eba7ca": {
      "model_module": "@jupyter-widgets/controls",
      "model_module_version": "1.5.0",
      "model_name": "SliderStyleModel",
      "state": {
       "description_width": ""
      }
     },
     "2dbe69c1d3b04801b6b178cd9be47e0e": {
      "model_module": "@jupyter-widgets/base",
      "model_module_version": "1.2.0",
      "model_name": "LayoutModel",
      "state": {}
     },
     "3040f6c3e4224cec8c86c5e4935a74ed": {
      "model_module": "@jupyter-widgets/base",
      "model_module_version": "1.2.0",
      "model_name": "LayoutModel",
      "state": {}
     },
     "31530e0024a6446893712c29c5dc9734": {
      "model_module": "@jupyter-widgets/base",
      "model_module_version": "1.2.0",
      "model_name": "LayoutModel",
      "state": {}
     },
     "3223965bd9104096909906bd6e3488cf": {
      "model_module": "@jupyter-widgets/base",
      "model_module_version": "1.2.0",
      "model_name": "LayoutModel",
      "state": {}
     },
     "34607a382c21449885b50ff5a2ed975f": {
      "model_module": "@jupyter-widgets/base",
      "model_module_version": "1.2.0",
      "model_name": "LayoutModel",
      "state": {}
     },
     "3517dcbec79a40eb91f2de3eabbaae0a": {
      "model_module": "@jupyter-widgets/base",
      "model_module_version": "1.2.0",
      "model_name": "LayoutModel",
      "state": {}
     },
     "3978787f1fe74913aaea2ea9a68a46cf": {
      "model_module": "@jupyter-widgets/base",
      "model_module_version": "1.2.0",
      "model_name": "LayoutModel",
      "state": {}
     },
     "3b605a1e7fa64a3c80e2278d093bfbff": {
      "model_module": "@jupyter-widgets/controls",
      "model_module_version": "1.5.0",
      "model_name": "FloatSliderModel",
      "state": {
       "description": "V",
       "layout": "IPY_MODEL_6c31d49480de431896c5fad51710c7fc",
       "max": 16,
       "min": 2,
       "step": 0.1,
       "style": "IPY_MODEL_bc3af383510349f39c5bf695f47cf52e",
       "value": 8.6
      }
     },
     "3b72653a77f043eb939004aff6944efb": {
      "model_module": "@jupyter-widgets/base",
      "model_module_version": "1.2.0",
      "model_name": "LayoutModel",
      "state": {}
     },
     "3db11db4052746efa4669cca1ba24ca3": {
      "model_module": "@jupyter-widgets/controls",
      "model_module_version": "1.5.0",
      "model_name": "IntSliderModel",
      "state": {
       "description": "M",
       "layout": "IPY_MODEL_eb4e885672e94373a3b8455278e87b26",
       "max": 2000,
       "min": 250,
       "step": 10,
       "style": "IPY_MODEL_4b106964302345a7826953866cfa30f4",
       "value": 1000
      }
     },
     "3fc71e17d8cd4291b0762f12ae0e74f7": {
      "model_module": "@jupyter-widgets/controls",
      "model_module_version": "1.5.0",
      "model_name": "SliderStyleModel",
      "state": {
       "description_width": ""
      }
     },
     "41eb5a321cd345529f854b3378f53ab4": {
      "model_module": "@jupyter-widgets/base",
      "model_module_version": "1.2.0",
      "model_name": "LayoutModel",
      "state": {}
     },
     "42cce5055a144abdade2a98035d2248d": {
      "model_module": "@jupyter-widgets/base",
      "model_module_version": "1.2.0",
      "model_name": "LayoutModel",
      "state": {}
     },
     "45b1c93e7ed94e35b321d0cd0563a0cd": {
      "model_module": "@jupyter-widgets/controls",
      "model_module_version": "1.5.0",
      "model_name": "IntSliderModel",
      "state": {
       "description": "y0",
       "layout": "IPY_MODEL_6276135cb658418f9759412a614cc30c",
       "max": 1000,
       "min": 50,
       "step": 5,
       "style": "IPY_MODEL_031544f030c449098b36d0928fcc7eca",
       "value": 50
      }
     },
     "46c3334759ea41f296f5b83ecdb0f5f4": {
      "model_module": "@jupyter-widgets/base",
      "model_module_version": "1.2.0",
      "model_name": "LayoutModel",
      "state": {}
     },
     "4731307daed142148f87fd037c130a3e": {
      "model_module": "@jupyter-widgets/controls",
      "model_module_version": "1.5.0",
      "model_name": "FloatSliderModel",
      "state": {
       "description": "V",
       "layout": "IPY_MODEL_b748c101385b421bb3fff14238f3d5fc",
       "max": 16,
       "min": 0.8,
       "step": 0.1,
       "style": "IPY_MODEL_9929e3afb149459d8339abcac719b0d9",
       "value": 16
      }
     },
     "47bedbeb64dc4ad098682f400b774134": {
      "model_module": "@jupyter-widgets/controls",
      "model_module_version": "1.5.0",
      "model_name": "SliderStyleModel",
      "state": {
       "description_width": ""
      }
     },
     "493dc50d0d984d2bb1b8cf68135625d7": {
      "model_module": "@jupyter-widgets/controls",
      "model_module_version": "1.5.0",
      "model_name": "VBoxModel",
      "state": {
       "_dom_classes": [
        "widget-interact"
       ],
       "children": [
        "IPY_MODEL_df7c2cee885a4030a71694b9b432d9d9",
        "IPY_MODEL_27065ce0e1974bb3a52c430b7bac8ee7",
        "IPY_MODEL_ca44ad27c46749378897d0ae18503d7a",
        "IPY_MODEL_dd13fd0e2d4746e58715f143e27b85b3"
       ],
       "layout": "IPY_MODEL_e1b4728375364dafab45e1beb81b4065"
      }
     },
     "49bc77407cfe483ba8a9efac15215441": {
      "model_module": "@jupyter-widgets/base",
      "model_module_version": "1.2.0",
      "model_name": "LayoutModel",
      "state": {}
     },
     "4a6746987bb14553a22e117f2bd66ae3": {
      "model_module": "@jupyter-widgets/controls",
      "model_module_version": "1.5.0",
      "model_name": "FloatSliderModel",
      "state": {
       "description": "V",
       "layout": "IPY_MODEL_a0b11c6248324d289a9ad769efc20453",
       "max": 16,
       "min": 0.8,
       "step": 0.1,
       "style": "IPY_MODEL_2903054e93b643d1bf1cc6ff652f200d",
       "value": 12
      }
     },
     "4b106964302345a7826953866cfa30f4": {
      "model_module": "@jupyter-widgets/controls",
      "model_module_version": "1.5.0",
      "model_name": "SliderStyleModel",
      "state": {
       "description_width": ""
      }
     },
     "4cc63c8968b34ccc8e0ff6c1faab3db7": {
      "model_module": "@jupyter-widgets/base",
      "model_module_version": "1.2.0",
      "model_name": "LayoutModel",
      "state": {}
     },
     "4f76d6cba4224bc9bc49c7b319c9054d": {
      "model_module": "@jupyter-widgets/controls",
      "model_module_version": "1.5.0",
      "model_name": "SliderStyleModel",
      "state": {
       "description_width": ""
      }
     },
     "4f8f6e6585104be29afad18aedabcfbd": {
      "model_module": "@jupyter-widgets/controls",
      "model_module_version": "1.5.0",
      "model_name": "VBoxModel",
      "state": {
       "_dom_classes": [
        "widget-interact"
       ],
       "children": [
        "IPY_MODEL_886cf9fe558744338713d7e1fda61b03",
        "IPY_MODEL_3b605a1e7fa64a3c80e2278d093bfbff",
        "IPY_MODEL_0833cae91c824a499bd1bf37420688fb",
        "IPY_MODEL_d58f8107f81b4a1db4f65fb91669c47f"
       ],
       "layout": "IPY_MODEL_49bc77407cfe483ba8a9efac15215441"
      }
     },
     "4faa0e69c3944031af28243a6c2cb838": {
      "model_module": "@jupyter-widgets/controls",
      "model_module_version": "1.5.0",
      "model_name": "IntSliderModel",
      "state": {
       "description": "y0",
       "layout": "IPY_MODEL_4cc63c8968b34ccc8e0ff6c1faab3db7",
       "max": 1000,
       "min": 250,
       "step": 5,
       "style": "IPY_MODEL_beab4cac0f874a0da4d5e81ce23127c0",
       "value": 250
      }
     },
     "52a99af8ac4f4cc88ff6133b32793c0c": {
      "model_module": "@jupyter-widgets/base",
      "model_module_version": "1.2.0",
      "model_name": "LayoutModel",
      "state": {}
     },
     "52c01293ca1546239ba901da85df142f": {
      "model_module": "@jupyter-widgets/output",
      "model_module_version": "1.0.0",
      "model_name": "OutputModel",
      "state": {
       "layout": "IPY_MODEL_dbc7d1bac8344c0aa0affbbfa51938e0"
      }
     },
     "52fba609c70a4513b5f8896980a5dd91": {
      "model_module": "@jupyter-widgets/base",
      "model_module_version": "1.2.0",
      "model_name": "LayoutModel",
      "state": {}
     },
     "53f8ef40c39241f4a22e8eb47ccde0b2": {
      "model_module": "@jupyter-widgets/controls",
      "model_module_version": "1.5.0",
      "model_name": "VBoxModel",
      "state": {
       "_dom_classes": [
        "widget-interact"
       ],
       "children": [
        "IPY_MODEL_b23f96b5c9034a9ba8133869e0ecf009",
        "IPY_MODEL_f98fd46f2bf5490388683a1db8ed0062",
        "IPY_MODEL_4faa0e69c3944031af28243a6c2cb838",
        "IPY_MODEL_cc9bdbc5ac9540b9ba207dc7655b42d7"
       ],
       "layout": "IPY_MODEL_d15bec5610154b83bbb0fcb958be3026"
      }
     },
     "54a4e78e32034147921199336392169c": {
      "model_module": "@jupyter-widgets/controls",
      "model_module_version": "1.5.0",
      "model_name": "SliderStyleModel",
      "state": {
       "description_width": ""
      }
     },
     "55170df18abe4f5f97112a0e4d83d51d": {
      "model_module": "@jupyter-widgets/base",
      "model_module_version": "1.2.0",
      "model_name": "LayoutModel",
      "state": {}
     },
     "5bef57869bf44e4492561d0c61c2be03": {
      "model_module": "@jupyter-widgets/controls",
      "model_module_version": "1.5.0",
      "model_name": "SliderStyleModel",
      "state": {
       "description_width": ""
      }
     },
     "5da8c92ad3754919aeb79454fb23ddfb": {
      "model_module": "@jupyter-widgets/base",
      "model_module_version": "1.2.0",
      "model_name": "LayoutModel",
      "state": {}
     },
     "60f9bd4195f546b8a7210ae7189d4a51": {
      "model_module": "@jupyter-widgets/controls",
      "model_module_version": "1.5.0",
      "model_name": "SliderStyleModel",
      "state": {
       "description_width": ""
      }
     },
     "6276135cb658418f9759412a614cc30c": {
      "model_module": "@jupyter-widgets/base",
      "model_module_version": "1.2.0",
      "model_name": "LayoutModel",
      "state": {}
     },
     "628d1045dde84584bb24be7fec0e9778": {
      "model_module": "@jupyter-widgets/base",
      "model_module_version": "1.2.0",
      "model_name": "LayoutModel",
      "state": {}
     },
     "63d0faf74f944c7b846e8af9b8c69f0a": {
      "model_module": "@jupyter-widgets/controls",
      "model_module_version": "1.5.0",
      "model_name": "SliderStyleModel",
      "state": {
       "description_width": ""
      }
     },
     "63f9d901c7794a858b89f51741352ea6": {
      "model_module": "@jupyter-widgets/base",
      "model_module_version": "1.2.0",
      "model_name": "LayoutModel",
      "state": {}
     },
     "64ab2db96e7b4511a26cac6aee684dd1": {
      "model_module": "@jupyter-widgets/controls",
      "model_module_version": "1.5.0",
      "model_name": "FloatSliderModel",
      "state": {
       "description": "V",
       "layout": "IPY_MODEL_b74fb1b45b0a4f37ad2d62ce14dc9e32",
       "max": 16,
       "min": 2,
       "step": 0.1,
       "style": "IPY_MODEL_a2a0bdb894644e019f8e5dbd9fbbf105",
       "value": 12
      }
     },
     "64d7c9f811a94f2886b3418926abfc62": {
      "model_module": "@jupyter-widgets/controls",
      "model_module_version": "1.5.0",
      "model_name": "FloatSliderModel",
      "state": {
       "description": "V",
       "layout": "IPY_MODEL_297491fb0d1f4bcbaf6bcc533c42b858",
       "max": 16,
       "min": 2,
       "step": 0.1,
       "style": "IPY_MODEL_5bef57869bf44e4492561d0c61c2be03",
       "value": 12
      }
     },
     "6507fe6bb4c846e7946f4edebe3460fc": {
      "model_module": "@jupyter-widgets/base",
      "model_module_version": "1.2.0",
      "model_name": "LayoutModel",
      "state": {}
     },
     "66591c52d1494ce6a8781f5c41bd49e9": {
      "model_module": "@jupyter-widgets/controls",
      "model_module_version": "1.5.0",
      "model_name": "IntSliderModel",
      "state": {
       "description": "M",
       "layout": "IPY_MODEL_41eb5a321cd345529f854b3378f53ab4",
       "max": 2000,
       "min": 250,
       "step": 10,
       "style": "IPY_MODEL_4f76d6cba4224bc9bc49c7b319c9054d",
       "value": 950
      }
     },
     "6857d4bb340d4832ab562b133d3bb9f9": {
      "model_module": "@jupyter-widgets/controls",
      "model_module_version": "1.5.0",
      "model_name": "FloatSliderModel",
      "state": {
       "description": "V",
       "layout": "IPY_MODEL_8adb7e6ac67f4845bd7e12b132ea29c0",
       "max": 16,
       "min": 2,
       "step": 0.1,
       "style": "IPY_MODEL_8a075aa4842d4bd08120e348e2082e65",
       "value": 12
      }
     },
     "6a0efb26fe374dce94765d555c41c2ae": {
      "model_module": "@jupyter-widgets/base",
      "model_module_version": "1.2.0",
      "model_name": "LayoutModel",
      "state": {}
     },
     "6ab42dfa2ae144418c9afb12c542ee27": {
      "model_module": "@jupyter-widgets/controls",
      "model_module_version": "1.5.0",
      "model_name": "VBoxModel",
      "state": {
       "_dom_classes": [
        "widget-interact"
       ],
       "children": [
        "IPY_MODEL_3db11db4052746efa4669cca1ba24ca3",
        "IPY_MODEL_64d7c9f811a94f2886b3418926abfc62",
        "IPY_MODEL_155032d3a7a34297acdee78f41deb17d",
        "IPY_MODEL_f658215027f04cb2ba75123d2eceb6b2"
       ],
       "layout": "IPY_MODEL_2476126508084a04b25656723c8cfe40"
      }
     },
     "6b04253dc2204833b1a08d045fe1f624": {
      "model_module": "@jupyter-widgets/controls",
      "model_module_version": "1.5.0",
      "model_name": "SliderStyleModel",
      "state": {
       "description_width": ""
      }
     },
     "6c31d49480de431896c5fad51710c7fc": {
      "model_module": "@jupyter-widgets/base",
      "model_module_version": "1.2.0",
      "model_name": "LayoutModel",
      "state": {}
     },
     "6db52190285a4e33bfcc5048fba69e15": {
      "model_module": "@jupyter-widgets/controls",
      "model_module_version": "1.5.0",
      "model_name": "SliderStyleModel",
      "state": {
       "description_width": ""
      }
     },
     "6ddee12c9c5444188dff2710a985bbf2": {
      "model_module": "@jupyter-widgets/base",
      "model_module_version": "1.2.0",
      "model_name": "LayoutModel",
      "state": {}
     },
     "7022e275f6a8476c8dfc47337bed3cf4": {
      "model_module": "@jupyter-widgets/output",
      "model_module_version": "1.0.0",
      "model_name": "OutputModel",
      "state": {
       "layout": "IPY_MODEL_3978787f1fe74913aaea2ea9a68a46cf"
      }
     },
     "73987a3146664bdb8d6f39d6088f6410": {
      "model_module": "@jupyter-widgets/base",
      "model_module_version": "1.2.0",
      "model_name": "LayoutModel",
      "state": {}
     },
     "762792f8cad6430ea47ff331eb8cfaaf": {
      "model_module": "@jupyter-widgets/output",
      "model_module_version": "1.0.0",
      "model_name": "OutputModel",
      "state": {
       "layout": "IPY_MODEL_0fbc15984e384b869dc3e8f4e15e17c7"
      }
     },
     "765d6ba078c74bc78ad0cf2f36356b2a": {
      "model_module": "@jupyter-widgets/controls",
      "model_module_version": "1.5.0",
      "model_name": "FloatSliderModel",
      "state": {
       "description": "V",
       "layout": "IPY_MODEL_0426472a84cc41ca963a04c7a20d0532",
       "max": 16,
       "min": 2,
       "step": 0.1,
       "style": "IPY_MODEL_60f9bd4195f546b8a7210ae7189d4a51",
       "value": 12
      }
     },
     "77a664a15f134b948d00629883887c8d": {
      "model_module": "@jupyter-widgets/base",
      "model_module_version": "1.2.0",
      "model_name": "LayoutModel",
      "state": {}
     },
     "7a4500d1ca184e30a9ec2149b9ea627c": {
      "model_module": "@jupyter-widgets/controls",
      "model_module_version": "1.5.0",
      "model_name": "SliderStyleModel",
      "state": {
       "description_width": ""
      }
     },
     "7a48af3b7aef42d087dff18e6bd9c464": {
      "model_module": "@jupyter-widgets/controls",
      "model_module_version": "1.5.0",
      "model_name": "VBoxModel",
      "state": {
       "_dom_classes": [
        "widget-interact"
       ],
       "children": [
        "IPY_MODEL_beeb58fe989a4f06b78180a34690f0e1",
        "IPY_MODEL_6857d4bb340d4832ab562b133d3bb9f9",
        "IPY_MODEL_0684197412b84bd2951101024aab8d27",
        "IPY_MODEL_7f184b32b04b4f07b41260537ea79e54"
       ],
       "layout": "IPY_MODEL_ba6d77c3cb0c4cedbfd63eb3873040ea"
      }
     },
     "7dabf9a317124183b271a8aa0895cd1e": {
      "model_module": "@jupyter-widgets/output",
      "model_module_version": "1.0.0",
      "model_name": "OutputModel",
      "state": {
       "layout": "IPY_MODEL_189aa44d9e4c4c93b53d41301a090dcb"
      }
     },
     "7f184b32b04b4f07b41260537ea79e54": {
      "model_module": "@jupyter-widgets/output",
      "model_module_version": "1.0.0",
      "model_name": "OutputModel",
      "state": {
       "layout": "IPY_MODEL_876575ed45394224a6209776b4d95840"
      }
     },
     "8102e93f0f24435fb5b3d4cf283b5804": {
      "model_module": "@jupyter-widgets/controls",
      "model_module_version": "1.5.0",
      "model_name": "VBoxModel",
      "state": {
       "_dom_classes": [
        "widget-interact"
       ],
       "children": [
        "IPY_MODEL_c1acee4afdc246d294ef898bd16facdc",
        "IPY_MODEL_955fedd2e1654e57b340d468f4fe8498",
        "IPY_MODEL_d50758d2abc14f798bbdc4d33c7ca91e",
        "IPY_MODEL_c87eb3e3100c4c92a4a8d664d3044307"
       ],
       "layout": "IPY_MODEL_6ddee12c9c5444188dff2710a985bbf2"
      }
     },
     "83de49a7bb0d4cbd8e9ab4a4538612f3": {
      "model_module": "@jupyter-widgets/controls",
      "model_module_version": "1.5.0",
      "model_name": "VBoxModel",
      "state": {
       "_dom_classes": [
        "widget-interact"
       ],
       "children": [
        "IPY_MODEL_e7ee727a023c4198a2a4d3d0e393b4d9",
        "IPY_MODEL_765d6ba078c74bc78ad0cf2f36356b2a",
        "IPY_MODEL_e547f03643054f538738dc888489be9d",
        "IPY_MODEL_c455c9d51c7f4bc3912e1295cb3afa7f"
       ],
       "layout": "IPY_MODEL_77a664a15f134b948d00629883887c8d"
      }
     },
     "876575ed45394224a6209776b4d95840": {
      "model_module": "@jupyter-widgets/base",
      "model_module_version": "1.2.0",
      "model_name": "LayoutModel",
      "state": {}
     },
     "87751c76cb4049ef97e6e58f31ea5982": {
      "model_module": "@jupyter-widgets/base",
      "model_module_version": "1.2.0",
      "model_name": "LayoutModel",
      "state": {}
     },
     "886cf9fe558744338713d7e1fda61b03": {
      "model_module": "@jupyter-widgets/controls",
      "model_module_version": "1.5.0",
      "model_name": "IntSliderModel",
      "state": {
       "description": "M",
       "layout": "IPY_MODEL_34607a382c21449885b50ff5a2ed975f",
       "max": 2000,
       "min": 250,
       "step": 10,
       "style": "IPY_MODEL_0ff87625c54d4d628aa6be7e90ec3d7b",
       "value": 1510
      }
     },
     "8a075aa4842d4bd08120e348e2082e65": {
      "model_module": "@jupyter-widgets/controls",
      "model_module_version": "1.5.0",
      "model_name": "SliderStyleModel",
      "state": {
       "description_width": ""
      }
     },
     "8adb7e6ac67f4845bd7e12b132ea29c0": {
      "model_module": "@jupyter-widgets/base",
      "model_module_version": "1.2.0",
      "model_name": "LayoutModel",
      "state": {}
     },
     "8befc19f6cdf4e79baa11028ec661ad2": {
      "model_module": "@jupyter-widgets/base",
      "model_module_version": "1.2.0",
      "model_name": "LayoutModel",
      "state": {}
     },
     "8d7791d412ce40bab330824504a15821": {
      "model_module": "@jupyter-widgets/controls",
      "model_module_version": "1.5.0",
      "model_name": "IntSliderModel",
      "state": {
       "description": "M",
       "layout": "IPY_MODEL_73987a3146664bdb8d6f39d6088f6410",
       "max": 2000,
       "min": 100,
       "step": 10,
       "style": "IPY_MODEL_e090d75bce5a443facb8e65f3edaec56",
       "value": 1000
      }
     },
     "8e020db6efff4e758915d876c87b5613": {
      "model_module": "@jupyter-widgets/controls",
      "model_module_version": "1.5.0",
      "model_name": "IntSliderModel",
      "state": {
       "description": "y0",
       "layout": "IPY_MODEL_63f9d901c7794a858b89f51741352ea6",
       "max": 1000,
       "min": 250,
       "step": 5,
       "style": "IPY_MODEL_c13762c5c5a449ffb1f7e3f1063ed5c9",
       "value": 250
      }
     },
     "93be7e2b0e7f47ab9604136135d79e2b": {
      "model_module": "@jupyter-widgets/controls",
      "model_module_version": "1.5.0",
      "model_name": "SliderStyleModel",
      "state": {
       "description_width": ""
      }
     },
     "955fedd2e1654e57b340d468f4fe8498": {
      "model_module": "@jupyter-widgets/controls",
      "model_module_version": "1.5.0",
      "model_name": "FloatSliderModel",
      "state": {
       "description": "V",
       "layout": "IPY_MODEL_31530e0024a6446893712c29c5dc9734",
       "max": 16,
       "min": 0.8,
       "step": 0.1,
       "style": "IPY_MODEL_a009d05e07524fd39f8340a0a2885907",
       "value": 12
      }
     },
     "9698579ee81d411685da58328f31f9fd": {
      "model_module": "@jupyter-widgets/controls",
      "model_module_version": "1.5.0",
      "model_name": "SliderStyleModel",
      "state": {
       "description_width": ""
      }
     },
     "9841dae8eea6473f91ddf63f054fc138": {
      "model_module": "@jupyter-widgets/controls",
      "model_module_version": "1.5.0",
      "model_name": "VBoxModel",
      "state": {
       "_dom_classes": [
        "widget-interact"
       ],
       "children": [
        "IPY_MODEL_0cd357ed6a744cf4aafb15596e2d95a0",
        "IPY_MODEL_f7945f6317a34acb9fe5a06743183a9d",
        "IPY_MODEL_a0d9708040da414dabd7eabd8a06e9a7",
        "IPY_MODEL_7dabf9a317124183b271a8aa0895cd1e"
       ],
       "layout": "IPY_MODEL_5da8c92ad3754919aeb79454fb23ddfb"
      }
     },
     "9929e3afb149459d8339abcac719b0d9": {
      "model_module": "@jupyter-widgets/controls",
      "model_module_version": "1.5.0",
      "model_name": "SliderStyleModel",
      "state": {
       "description_width": ""
      }
     },
     "9c5b4eeda9c24ac99947cd50f931cf3d": {
      "model_module": "@jupyter-widgets/base",
      "model_module_version": "1.2.0",
      "model_name": "LayoutModel",
      "state": {}
     },
     "9e920d46f319469fb11978be95aed64c": {
      "model_module": "@jupyter-widgets/controls",
      "model_module_version": "1.5.0",
      "model_name": "SliderStyleModel",
      "state": {
       "description_width": ""
      }
     },
     "9f170c583adb4d81bac766ca62254036": {
      "model_module": "@jupyter-widgets/base",
      "model_module_version": "1.2.0",
      "model_name": "LayoutModel",
      "state": {}
     },
     "a009d05e07524fd39f8340a0a2885907": {
      "model_module": "@jupyter-widgets/controls",
      "model_module_version": "1.5.0",
      "model_name": "SliderStyleModel",
      "state": {
       "description_width": ""
      }
     },
     "a0b11c6248324d289a9ad769efc20453": {
      "model_module": "@jupyter-widgets/base",
      "model_module_version": "1.2.0",
      "model_name": "LayoutModel",
      "state": {}
     },
     "a0d9708040da414dabd7eabd8a06e9a7": {
      "model_module": "@jupyter-widgets/controls",
      "model_module_version": "1.5.0",
      "model_name": "IntSliderModel",
      "state": {
       "description": "y0",
       "layout": "IPY_MODEL_c55ae050b6b74f33bb7ca8876b8ae617",
       "max": 1000,
       "min": 50,
       "step": 5,
       "style": "IPY_MODEL_25c1de1f92bc464aa920bf5bced0e029",
       "value": 50
      }
     },
     "a2a0bdb894644e019f8e5dbd9fbbf105": {
      "model_module": "@jupyter-widgets/controls",
      "model_module_version": "1.5.0",
      "model_name": "SliderStyleModel",
      "state": {
       "description_width": ""
      }
     },
     "a40ad48c698943c885ec32755a9d60fe": {
      "model_module": "@jupyter-widgets/controls",
      "model_module_version": "1.5.0",
      "model_name": "IntSliderModel",
      "state": {
       "description": "y0",
       "layout": "IPY_MODEL_01722fde7f1e4726a767fdd9d3a00602",
       "max": 1000,
       "min": 50,
       "step": 5,
       "style": "IPY_MODEL_9e920d46f319469fb11978be95aed64c",
       "value": 485
      }
     },
     "a6900206e75b45e09a2e2ee6a009839c": {
      "model_module": "@jupyter-widgets/controls",
      "model_module_version": "1.5.0",
      "model_name": "SliderStyleModel",
      "state": {
       "description_width": ""
      }
     },
     "a9a0ab712ffc4662a944d1796a69b624": {
      "model_module": "@jupyter-widgets/controls",
      "model_module_version": "1.5.0",
      "model_name": "SliderStyleModel",
      "state": {
       "description_width": ""
      }
     },
     "aafde4ddd907429e89d4f25f032e0191": {
      "model_module": "@jupyter-widgets/controls",
      "model_module_version": "1.5.0",
      "model_name": "SliderStyleModel",
      "state": {
       "description_width": ""
      }
     },
     "ab5e269e99a841369381f17a31577d7c": {
      "model_module": "@jupyter-widgets/base",
      "model_module_version": "1.2.0",
      "model_name": "LayoutModel",
      "state": {}
     },
     "ae4c08f102084384b7c1ab8892491841": {
      "model_module": "@jupyter-widgets/controls",
      "model_module_version": "1.5.0",
      "model_name": "VBoxModel",
      "state": {
       "_dom_classes": [
        "widget-interact"
       ],
       "children": [
        "IPY_MODEL_cba2d9b6bb114371b2f25b7db102f9ef",
        "IPY_MODEL_fae5601dcccf40d8ae246d905799b183",
        "IPY_MODEL_45b1c93e7ed94e35b321d0cd0563a0cd",
        "IPY_MODEL_ed2f12908b0e40d59edf0e7e6efd5c77"
       ],
       "layout": "IPY_MODEL_cfa04a5e4d4040aea94d2ab1c93dc7f5"
      }
     },
     "aebe0385024f49e599f85c6d74f08bd9": {
      "model_module": "@jupyter-widgets/controls",
      "model_module_version": "1.5.0",
      "model_name": "SliderStyleModel",
      "state": {
       "description_width": ""
      }
     },
     "aefd472098004357b486fe94c90dc9c2": {
      "model_module": "@jupyter-widgets/base",
      "model_module_version": "1.2.0",
      "model_name": "LayoutModel",
      "state": {}
     },
     "b181433014d4469badae671dab15a954": {
      "model_module": "@jupyter-widgets/controls",
      "model_module_version": "1.5.0",
      "model_name": "IntSliderModel",
      "state": {
       "description": "y0",
       "layout": "IPY_MODEL_06d5959ce78b47b8a028698746abfd81",
       "max": 1000,
       "min": 50,
       "step": 5,
       "style": "IPY_MODEL_e320293c996949548d99a7eca547bef9",
       "value": 495
      }
     },
     "b23f96b5c9034a9ba8133869e0ecf009": {
      "model_module": "@jupyter-widgets/controls",
      "model_module_version": "1.5.0",
      "model_name": "IntSliderModel",
      "state": {
       "description": "M",
       "layout": "IPY_MODEL_42cce5055a144abdade2a98035d2248d",
       "max": 2000,
       "min": 250,
       "step": 10,
       "style": "IPY_MODEL_54a4e78e32034147921199336392169c",
       "value": 1000
      }
     },
     "b373d8f3f0d5456fb545e7603c0fbc0a": {
      "model_module": "@jupyter-widgets/controls",
      "model_module_version": "1.5.0",
      "model_name": "VBoxModel",
      "state": {
       "_dom_classes": [
        "widget-interact"
       ],
       "children": [
        "IPY_MODEL_fb5b00b9494f4ce8b4fea35fb8e528d5",
        "IPY_MODEL_02c53153eb5d45688642be50ccb18f34",
        "IPY_MODEL_ca30e82190734e6fa1a8af111d8e73c0",
        "IPY_MODEL_52c01293ca1546239ba901da85df142f"
       ],
       "layout": "IPY_MODEL_52a99af8ac4f4cc88ff6133b32793c0c"
      }
     },
     "b748c101385b421bb3fff14238f3d5fc": {
      "model_module": "@jupyter-widgets/base",
      "model_module_version": "1.2.0",
      "model_name": "LayoutModel",
      "state": {}
     },
     "b74fb1b45b0a4f37ad2d62ce14dc9e32": {
      "model_module": "@jupyter-widgets/base",
      "model_module_version": "1.2.0",
      "model_name": "LayoutModel",
      "state": {}
     },
     "b77b73236d5944548c8a7da5b7f69097": {
      "model_module": "@jupyter-widgets/base",
      "model_module_version": "1.2.0",
      "model_name": "LayoutModel",
      "state": {}
     },
     "b7f643eedd304d0fb278793ba59bb0d7": {
      "model_module": "@jupyter-widgets/controls",
      "model_module_version": "1.5.0",
      "model_name": "SliderStyleModel",
      "state": {
       "description_width": ""
      }
     },
     "b81d874ba92345d2b2286d3e8c29df16": {
      "model_module": "@jupyter-widgets/base",
      "model_module_version": "1.2.0",
      "model_name": "LayoutModel",
      "state": {}
     },
     "ba4ccf5a891c45e89ae8c76e84df1377": {
      "model_module": "@jupyter-widgets/base",
      "model_module_version": "1.2.0",
      "model_name": "LayoutModel",
      "state": {}
     },
     "ba6d77c3cb0c4cedbfd63eb3873040ea": {
      "model_module": "@jupyter-widgets/base",
      "model_module_version": "1.2.0",
      "model_name": "LayoutModel",
      "state": {}
     },
     "bc3af383510349f39c5bf695f47cf52e": {
      "model_module": "@jupyter-widgets/controls",
      "model_module_version": "1.5.0",
      "model_name": "SliderStyleModel",
      "state": {
       "description_width": ""
      }
     },
     "beab4cac0f874a0da4d5e81ce23127c0": {
      "model_module": "@jupyter-widgets/controls",
      "model_module_version": "1.5.0",
      "model_name": "SliderStyleModel",
      "state": {
       "description_width": ""
      }
     },
     "beeb58fe989a4f06b78180a34690f0e1": {
      "model_module": "@jupyter-widgets/controls",
      "model_module_version": "1.5.0",
      "model_name": "IntSliderModel",
      "state": {
       "description": "M",
       "layout": "IPY_MODEL_e0e77434780d4c07a8601fe9dbe0ffe0",
       "max": 2000,
       "min": 250,
       "step": 10,
       "style": "IPY_MODEL_0bfaff8aeebd46f4b1934270dc5821f4",
       "value": 1000
      }
     },
     "c0b4af68733b43be904f3d3f85f5cfa7": {
      "model_module": "@jupyter-widgets/controls",
      "model_module_version": "1.5.0",
      "model_name": "SliderStyleModel",
      "state": {
       "description_width": ""
      }
     },
     "c13762c5c5a449ffb1f7e3f1063ed5c9": {
      "model_module": "@jupyter-widgets/controls",
      "model_module_version": "1.5.0",
      "model_name": "SliderStyleModel",
      "state": {
       "description_width": ""
      }
     },
     "c1acee4afdc246d294ef898bd16facdc": {
      "model_module": "@jupyter-widgets/controls",
      "model_module_version": "1.5.0",
      "model_name": "IntSliderModel",
      "state": {
       "description": "M",
       "layout": "IPY_MODEL_287cd367abd94c6992bb09daa472b211",
       "max": 2000,
       "min": 100,
       "step": 10,
       "style": "IPY_MODEL_0f9873ea044c4cd0b84bca0f63392f23",
       "value": 1000
      }
     },
     "c34300f22580441da1cff26ebfd100da": {
      "model_module": "@jupyter-widgets/output",
      "model_module_version": "1.0.0",
      "model_name": "OutputModel",
      "state": {
       "layout": "IPY_MODEL_f71a36c1202049fd895699395ba5ad87"
      }
     },
     "c455c9d51c7f4bc3912e1295cb3afa7f": {
      "model_module": "@jupyter-widgets/output",
      "model_module_version": "1.0.0",
      "model_name": "OutputModel",
      "state": {
       "layout": "IPY_MODEL_fdf7c9ad43a34cb49788a2487f7cafb5"
      }
     },
     "c55ae050b6b74f33bb7ca8876b8ae617": {
      "model_module": "@jupyter-widgets/base",
      "model_module_version": "1.2.0",
      "model_name": "LayoutModel",
      "state": {}
     },
     "c7ce90fb2d74453a86ce76372ced4936": {
      "model_module": "@jupyter-widgets/base",
      "model_module_version": "1.2.0",
      "model_name": "LayoutModel",
      "state": {}
     },
     "c87eb3e3100c4c92a4a8d664d3044307": {
      "model_module": "@jupyter-widgets/output",
      "model_module_version": "1.0.0",
      "model_name": "OutputModel",
      "state": {
       "layout": "IPY_MODEL_628d1045dde84584bb24be7fec0e9778"
      }
     },
     "ca30e82190734e6fa1a8af111d8e73c0": {
      "model_module": "@jupyter-widgets/controls",
      "model_module_version": "1.5.0",
      "model_name": "IntSliderModel",
      "state": {
       "description": "y0",
       "layout": "IPY_MODEL_ab5e269e99a841369381f17a31577d7c",
       "max": 1000,
       "min": 50,
       "step": 5,
       "style": "IPY_MODEL_9698579ee81d411685da58328f31f9fd",
       "value": 50
      }
     },
     "ca44ad27c46749378897d0ae18503d7a": {
      "model_module": "@jupyter-widgets/controls",
      "model_module_version": "1.5.0",
      "model_name": "IntSliderModel",
      "state": {
       "description": "y0",
       "layout": "IPY_MODEL_0bbcc7350b6343d5a9bf1534226a2b59",
       "max": 1000,
       "min": 50,
       "step": 5,
       "style": "IPY_MODEL_08cd0337ff1f49c68055ff1209621d27",
       "value": 580
      }
     },
     "cba2d9b6bb114371b2f25b7db102f9ef": {
      "model_module": "@jupyter-widgets/controls",
      "model_module_version": "1.5.0",
      "model_name": "IntSliderModel",
      "state": {
       "description": "M",
       "layout": "IPY_MODEL_55170df18abe4f5f97112a0e4d83d51d",
       "max": 2000,
       "min": 100,
       "step": 10,
       "style": "IPY_MODEL_6b04253dc2204833b1a08d045fe1f624",
       "value": 1000
      }
     },
     "cc9bdbc5ac9540b9ba207dc7655b42d7": {
      "model_module": "@jupyter-widgets/output",
      "model_module_version": "1.0.0",
      "model_name": "OutputModel",
      "state": {
       "layout": "IPY_MODEL_1db02c5639c14fb8b9cd2fac9eaf5bfd"
      }
     },
     "cf4703dc555c4bed891a8e7989c20195": {
      "model_module": "@jupyter-widgets/controls",
      "model_module_version": "1.5.0",
      "model_name": "SliderStyleModel",
      "state": {
       "description_width": ""
      }
     },
     "cfa04a5e4d4040aea94d2ab1c93dc7f5": {
      "model_module": "@jupyter-widgets/base",
      "model_module_version": "1.2.0",
      "model_name": "LayoutModel",
      "state": {}
     },
     "d15bec5610154b83bbb0fcb958be3026": {
      "model_module": "@jupyter-widgets/base",
      "model_module_version": "1.2.0",
      "model_name": "LayoutModel",
      "state": {}
     },
     "d257c31226b0447aa2ae805339056610": {
      "model_module": "@jupyter-widgets/controls",
      "model_module_version": "1.5.0",
      "model_name": "IntSliderModel",
      "state": {
       "description": "M",
       "layout": "IPY_MODEL_ba4ccf5a891c45e89ae8c76e84df1377",
       "max": 2000,
       "min": 250,
       "step": 10,
       "style": "IPY_MODEL_3fc71e17d8cd4291b0762f12ae0e74f7",
       "value": 1000
      }
     },
     "d50758d2abc14f798bbdc4d33c7ca91e": {
      "model_module": "@jupyter-widgets/controls",
      "model_module_version": "1.5.0",
      "model_name": "IntSliderModel",
      "state": {
       "description": "y0",
       "layout": "IPY_MODEL_6a0efb26fe374dce94765d555c41c2ae",
       "max": 1000,
       "min": 50,
       "step": 5,
       "style": "IPY_MODEL_c0b4af68733b43be904f3d3f85f5cfa7",
       "value": 50
      }
     },
     "d58f8107f81b4a1db4f65fb91669c47f": {
      "model_module": "@jupyter-widgets/output",
      "model_module_version": "1.0.0",
      "model_name": "OutputModel",
      "state": {
       "layout": "IPY_MODEL_3b72653a77f043eb939004aff6944efb"
      }
     },
     "dbc7d1bac8344c0aa0affbbfa51938e0": {
      "model_module": "@jupyter-widgets/base",
      "model_module_version": "1.2.0",
      "model_name": "LayoutModel",
      "state": {}
     },
     "dc94f9a67770485593550c2c1f4a5c42": {
      "model_module": "@jupyter-widgets/base",
      "model_module_version": "1.2.0",
      "model_name": "LayoutModel",
      "state": {}
     },
     "dd13fd0e2d4746e58715f143e27b85b3": {
      "model_module": "@jupyter-widgets/output",
      "model_module_version": "1.0.0",
      "model_name": "OutputModel",
      "state": {
       "layout": "IPY_MODEL_c7ce90fb2d74453a86ce76372ced4936"
      }
     },
     "ddfbd15e22b14699b878d674c8243f27": {
      "model_module": "@jupyter-widgets/base",
      "model_module_version": "1.2.0",
      "model_name": "LayoutModel",
      "state": {}
     },
     "df7c2cee885a4030a71694b9b432d9d9": {
      "model_module": "@jupyter-widgets/controls",
      "model_module_version": "1.5.0",
      "model_name": "IntSliderModel",
      "state": {
       "description": "M",
       "layout": "IPY_MODEL_ddfbd15e22b14699b878d674c8243f27",
       "max": 2000,
       "min": 100,
       "step": 10,
       "style": "IPY_MODEL_7a4500d1ca184e30a9ec2149b9ea627c",
       "value": 2000
      }
     },
     "e090d75bce5a443facb8e65f3edaec56": {
      "model_module": "@jupyter-widgets/controls",
      "model_module_version": "1.5.0",
      "model_name": "SliderStyleModel",
      "state": {
       "description_width": ""
      }
     },
     "e0e77434780d4c07a8601fe9dbe0ffe0": {
      "model_module": "@jupyter-widgets/base",
      "model_module_version": "1.2.0",
      "model_name": "LayoutModel",
      "state": {}
     },
     "e0eeedb6f58742b2bb808d4ff0690b86": {
      "model_module": "@jupyter-widgets/controls",
      "model_module_version": "1.5.0",
      "model_name": "SliderStyleModel",
      "state": {
       "description_width": ""
      }
     },
     "e1b0573952fd48b0b950b8bda76d667a": {
      "model_module": "@jupyter-widgets/controls",
      "model_module_version": "1.5.0",
      "model_name": "SliderStyleModel",
      "state": {
       "description_width": ""
      }
     },
     "e1b4728375364dafab45e1beb81b4065": {
      "model_module": "@jupyter-widgets/base",
      "model_module_version": "1.2.0",
      "model_name": "LayoutModel",
      "state": {}
     },
     "e320293c996949548d99a7eca547bef9": {
      "model_module": "@jupyter-widgets/controls",
      "model_module_version": "1.5.0",
      "model_name": "SliderStyleModel",
      "state": {
       "description_width": ""
      }
     },
     "e547f03643054f538738dc888489be9d": {
      "model_module": "@jupyter-widgets/controls",
      "model_module_version": "1.5.0",
      "model_name": "IntSliderModel",
      "state": {
       "description": "y0",
       "layout": "IPY_MODEL_1d835be9021749f3927f75ef2b656149",
       "max": 1000,
       "min": 250,
       "step": 5,
       "style": "IPY_MODEL_e0eeedb6f58742b2bb808d4ff0690b86",
       "value": 250
      }
     },
     "e6b87574b4a741ebbf97d6f5cdfceccc": {
      "model_module": "@jupyter-widgets/controls",
      "model_module_version": "1.5.0",
      "model_name": "VBoxModel",
      "state": {
       "_dom_classes": [
        "widget-interact"
       ],
       "children": [
        "IPY_MODEL_8d7791d412ce40bab330824504a15821",
        "IPY_MODEL_4a6746987bb14553a22e117f2bd66ae3",
        "IPY_MODEL_b181433014d4469badae671dab15a954",
        "IPY_MODEL_294c934efe674a1fa043b3ea676a34af"
       ],
       "layout": "IPY_MODEL_aefd472098004357b486fe94c90dc9c2"
      }
     },
     "e7ee727a023c4198a2a4d3d0e393b4d9": {
      "model_module": "@jupyter-widgets/controls",
      "model_module_version": "1.5.0",
      "model_name": "IntSliderModel",
      "state": {
       "description": "M",
       "layout": "IPY_MODEL_9f170c583adb4d81bac766ca62254036",
       "max": 2000,
       "min": 250,
       "step": 10,
       "style": "IPY_MODEL_a6900206e75b45e09a2e2ee6a009839c",
       "value": 1000
      }
     },
     "eb4e885672e94373a3b8455278e87b26": {
      "model_module": "@jupyter-widgets/base",
      "model_module_version": "1.2.0",
      "model_name": "LayoutModel",
      "state": {}
     },
     "ebbcd98eb306424492b1910f43a34b22": {
      "model_module": "@jupyter-widgets/controls",
      "model_module_version": "1.5.0",
      "model_name": "SliderStyleModel",
      "state": {
       "description_width": ""
      }
     },
     "ed2f12908b0e40d59edf0e7e6efd5c77": {
      "model_module": "@jupyter-widgets/output",
      "model_module_version": "1.0.0",
      "model_name": "OutputModel",
      "state": {
       "layout": "IPY_MODEL_b81d874ba92345d2b2286d3e8c29df16"
      }
     },
     "ed3ed0bb24844391a7316e80d2cc39b1": {
      "model_module": "@jupyter-widgets/controls",
      "model_module_version": "1.5.0",
      "model_name": "VBoxModel",
      "state": {
       "_dom_classes": [
        "widget-interact"
       ],
       "children": [
        "IPY_MODEL_66591c52d1494ce6a8781f5c41bd49e9",
        "IPY_MODEL_1821cc80c03548e4a10c5d3cd10555ca",
        "IPY_MODEL_2a8bc1c76c3d44ddbc14726f5f0b2399",
        "IPY_MODEL_7022e275f6a8476c8dfc47337bed3cf4"
       ],
       "layout": "IPY_MODEL_128841b01a2a436d86a2157757da67fc"
      }
     },
     "f188c2d1121c4a559b25a316605bd558": {
      "model_module": "@jupyter-widgets/controls",
      "model_module_version": "1.5.0",
      "model_name": "SliderStyleModel",
      "state": {
       "description_width": ""
      }
     },
     "f658215027f04cb2ba75123d2eceb6b2": {
      "model_module": "@jupyter-widgets/output",
      "model_module_version": "1.0.0",
      "model_name": "OutputModel",
      "state": {
       "layout": "IPY_MODEL_87751c76cb4049ef97e6e58f31ea5982"
      }
     },
     "f71a36c1202049fd895699395ba5ad87": {
      "model_module": "@jupyter-widgets/base",
      "model_module_version": "1.2.0",
      "model_name": "LayoutModel",
      "state": {}
     },
     "f7945f6317a34acb9fe5a06743183a9d": {
      "model_module": "@jupyter-widgets/controls",
      "model_module_version": "1.5.0",
      "model_name": "FloatSliderModel",
      "state": {
       "description": "V",
       "layout": "IPY_MODEL_46c3334759ea41f296f5b83ecdb0f5f4",
       "max": 16,
       "min": 0.8,
       "step": 0.1,
       "style": "IPY_MODEL_b7f643eedd304d0fb278793ba59bb0d7",
       "value": 12
      }
     },
     "f98fd46f2bf5490388683a1db8ed0062": {
      "model_module": "@jupyter-widgets/controls",
      "model_module_version": "1.5.0",
      "model_name": "FloatSliderModel",
      "state": {
       "description": "V",
       "layout": "IPY_MODEL_2ab33c1d074541888c555755e2f5395a",
       "max": 16,
       "min": 2,
       "step": 0.1,
       "style": "IPY_MODEL_47bedbeb64dc4ad098682f400b774134",
       "value": 12
      }
     },
     "fae5601dcccf40d8ae246d905799b183": {
      "model_module": "@jupyter-widgets/controls",
      "model_module_version": "1.5.0",
      "model_name": "FloatSliderModel",
      "state": {
       "description": "V",
       "layout": "IPY_MODEL_9c5b4eeda9c24ac99947cd50f931cf3d",
       "max": 16,
       "min": 0.8,
       "step": 0.1,
       "style": "IPY_MODEL_ebbcd98eb306424492b1910f43a34b22",
       "value": 12
      }
     },
     "fb5b00b9494f4ce8b4fea35fb8e528d5": {
      "model_module": "@jupyter-widgets/controls",
      "model_module_version": "1.5.0",
      "model_name": "IntSliderModel",
      "state": {
       "description": "M",
       "layout": "IPY_MODEL_52fba609c70a4513b5f8896980a5dd91",
       "max": 2000,
       "min": 100,
       "step": 10,
       "style": "IPY_MODEL_93be7e2b0e7f47ab9604136135d79e2b",
       "value": 1000
      }
     },
     "fc53b97bbf4246a282a3b0749f98510b": {
      "model_module": "@jupyter-widgets/controls",
      "model_module_version": "1.5.0",
      "model_name": "VBoxModel",
      "state": {
       "_dom_classes": [
        "widget-interact"
       ],
       "children": [
        "IPY_MODEL_103e8cfb466d4caeb1f03d1a76755ec1",
        "IPY_MODEL_4731307daed142148f87fd037c130a3e",
        "IPY_MODEL_a40ad48c698943c885ec32755a9d60fe",
        "IPY_MODEL_762792f8cad6430ea47ff331eb8cfaaf"
       ],
       "layout": "IPY_MODEL_6507fe6bb4c846e7946f4edebe3460fc"
      }
     },
     "fdf7c9ad43a34cb49788a2487f7cafb5": {
      "model_module": "@jupyter-widgets/base",
      "model_module_version": "1.2.0",
      "model_name": "LayoutModel",
      "state": {}
     }
    },
    "version_major": 2,
    "version_minor": 0
   }
  }
 },
 "nbformat": 4,
 "nbformat_minor": 4
}
