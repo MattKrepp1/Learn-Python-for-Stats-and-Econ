{
 "cells": [
  {
   "cell_type": "markdown",
   "metadata": {},
   "source": [
    "# Aggregate Demand\n",
    "\n",
    "Macroeconomics is the study of all economic activity. This includes complexities that arise in the course of production and exchange. It also includes analysis using statistics that represent the sum of all economic activity or activity in different sectors and of different kinds.\n",
    "Although data reflecting economic activity cannot be reduced to aggregates without losing information, aggregates themselves contain information that is unavailable at the level of analysis of particular events or of particular firms or sectors. Consideration of aggregate values allows one to consider the details of macroeconomic equilibrium, as well as macroeconomic disequilibrium. \n",
    "\n",
    "## The Money Market and the Goods Market\n",
    "\n",
    "The equation of exchange is a golden key that unlocks the secrets of the macroeconomy. It links changes in the money market to changes in the market for non-money goods, and vice versa, by defining aggregate demand as $MV$. The aggregate demand curve assume a given level of expenditures. This value is defined across different combinations of $P$ and $y$. As the value of $P$ increases, the value of $y$ falls, thereby maintaining the given value of total expenditures.\n",
    "In this chapter, we will use the equation of exchange to understand how changes in the goods market lead to changes in the market for non-money goods.  For simplicity sake, we will assume that there is only one good that acts as money. We will discuss in a later chapter that analysis can include other moneys.\n",
    "\n",
    "> Figure 1: Market for Non-money Goods\n",
    "\n",
    "In the previous chapter we used the equation of exchange to define changes the supply of money that can result from changes in demand for money. For the sake of simplicity, we start with a market whose supply of money is perfectly inelastic, as compared with a commodity money whose supply is upward sloping. A perfectly inelastic money supply allows us to consider money as a choice variable, much as base money is the result of the policy of a monetary authority. Changes in the price of money will therefore not affect the quantity of money supplied to the market. With a perfectly inelastic quantity of money, $M$, is not a function of demand for money . Changes in demand for money impact the price of money and, therefore, the price level. \n",
    "\n",
    "Aside from exogenous changes in supply, we will focus on the effect of changes in portfolio demand, $k$, for money. Recall that this is the inverse of the average velocity of money:\n",
    "\n",
    ">$k=\\frac{1}{V}$\n",
    "\n",
    "A change in the quantity of money or a change in portfolio demand for money will shift in aggregate demand, thereby shifting the price level in the long-run.\n",
    "\n",
    "Try working witht the plot yourself!"
   ]
  },
  {
   "cell_type": "code",
   "execution_count": 1,
   "metadata": {},
   "outputs": [
    {
     "data": {
      "application/javascript": [
       "/* Put everything inside the global mpl namespace */\n",
       "/* global mpl */\n",
       "window.mpl = {};\n",
       "\n",
       "mpl.get_websocket_type = function () {\n",
       "    if (typeof WebSocket !== 'undefined') {\n",
       "        return WebSocket;\n",
       "    } else if (typeof MozWebSocket !== 'undefined') {\n",
       "        return MozWebSocket;\n",
       "    } else {\n",
       "        alert(\n",
       "            'Your browser does not have WebSocket support. ' +\n",
       "                'Please try Chrome, Safari or Firefox ≥ 6. ' +\n",
       "                'Firefox 4 and 5 are also supported but you ' +\n",
       "                'have to enable WebSockets in about:config.'\n",
       "        );\n",
       "    }\n",
       "};\n",
       "\n",
       "mpl.figure = function (figure_id, websocket, ondownload, parent_element) {\n",
       "    this.id = figure_id;\n",
       "\n",
       "    this.ws = websocket;\n",
       "\n",
       "    this.supports_binary = this.ws.binaryType !== undefined;\n",
       "\n",
       "    if (!this.supports_binary) {\n",
       "        var warnings = document.getElementById('mpl-warnings');\n",
       "        if (warnings) {\n",
       "            warnings.style.display = 'block';\n",
       "            warnings.textContent =\n",
       "                'This browser does not support binary websocket messages. ' +\n",
       "                'Performance may be slow.';\n",
       "        }\n",
       "    }\n",
       "\n",
       "    this.imageObj = new Image();\n",
       "\n",
       "    this.context = undefined;\n",
       "    this.message = undefined;\n",
       "    this.canvas = undefined;\n",
       "    this.rubberband_canvas = undefined;\n",
       "    this.rubberband_context = undefined;\n",
       "    this.format_dropdown = undefined;\n",
       "\n",
       "    this.image_mode = 'full';\n",
       "\n",
       "    this.root = document.createElement('div');\n",
       "    this.root.setAttribute('style', 'display: inline-block');\n",
       "    this._root_extra_style(this.root);\n",
       "\n",
       "    parent_element.appendChild(this.root);\n",
       "\n",
       "    this._init_header(this);\n",
       "    this._init_canvas(this);\n",
       "    this._init_toolbar(this);\n",
       "\n",
       "    var fig = this;\n",
       "\n",
       "    this.waiting = false;\n",
       "\n",
       "    this.ws.onopen = function () {\n",
       "        fig.send_message('supports_binary', { value: fig.supports_binary });\n",
       "        fig.send_message('send_image_mode', {});\n",
       "        if (fig.ratio !== 1) {\n",
       "            fig.send_message('set_dpi_ratio', { dpi_ratio: fig.ratio });\n",
       "        }\n",
       "        fig.send_message('refresh', {});\n",
       "    };\n",
       "\n",
       "    this.imageObj.onload = function () {\n",
       "        if (fig.image_mode === 'full') {\n",
       "            // Full images could contain transparency (where diff images\n",
       "            // almost always do), so we need to clear the canvas so that\n",
       "            // there is no ghosting.\n",
       "            fig.context.clearRect(0, 0, fig.canvas.width, fig.canvas.height);\n",
       "        }\n",
       "        fig.context.drawImage(fig.imageObj, 0, 0);\n",
       "    };\n",
       "\n",
       "    this.imageObj.onunload = function () {\n",
       "        fig.ws.close();\n",
       "    };\n",
       "\n",
       "    this.ws.onmessage = this._make_on_message_function(this);\n",
       "\n",
       "    this.ondownload = ondownload;\n",
       "};\n",
       "\n",
       "mpl.figure.prototype._init_header = function () {\n",
       "    var titlebar = document.createElement('div');\n",
       "    titlebar.classList =\n",
       "        'ui-dialog-titlebar ui-widget-header ui-corner-all ui-helper-clearfix';\n",
       "    var titletext = document.createElement('div');\n",
       "    titletext.classList = 'ui-dialog-title';\n",
       "    titletext.setAttribute(\n",
       "        'style',\n",
       "        'width: 100%; text-align: center; padding: 3px;'\n",
       "    );\n",
       "    titlebar.appendChild(titletext);\n",
       "    this.root.appendChild(titlebar);\n",
       "    this.header = titletext;\n",
       "};\n",
       "\n",
       "mpl.figure.prototype._canvas_extra_style = function (_canvas_div) {};\n",
       "\n",
       "mpl.figure.prototype._root_extra_style = function (_canvas_div) {};\n",
       "\n",
       "mpl.figure.prototype._init_canvas = function () {\n",
       "    var fig = this;\n",
       "\n",
       "    var canvas_div = (this.canvas_div = document.createElement('div'));\n",
       "    canvas_div.setAttribute(\n",
       "        'style',\n",
       "        'border: 1px solid #ddd;' +\n",
       "            'box-sizing: content-box;' +\n",
       "            'clear: both;' +\n",
       "            'min-height: 1px;' +\n",
       "            'min-width: 1px;' +\n",
       "            'outline: 0;' +\n",
       "            'overflow: hidden;' +\n",
       "            'position: relative;' +\n",
       "            'resize: both;'\n",
       "    );\n",
       "\n",
       "    function on_keyboard_event_closure(name) {\n",
       "        return function (event) {\n",
       "            return fig.key_event(event, name);\n",
       "        };\n",
       "    }\n",
       "\n",
       "    canvas_div.addEventListener(\n",
       "        'keydown',\n",
       "        on_keyboard_event_closure('key_press')\n",
       "    );\n",
       "    canvas_div.addEventListener(\n",
       "        'keyup',\n",
       "        on_keyboard_event_closure('key_release')\n",
       "    );\n",
       "\n",
       "    this._canvas_extra_style(canvas_div);\n",
       "    this.root.appendChild(canvas_div);\n",
       "\n",
       "    var canvas = (this.canvas = document.createElement('canvas'));\n",
       "    canvas.classList.add('mpl-canvas');\n",
       "    canvas.setAttribute('style', 'box-sizing: content-box;');\n",
       "\n",
       "    this.context = canvas.getContext('2d');\n",
       "\n",
       "    var backingStore =\n",
       "        this.context.backingStorePixelRatio ||\n",
       "        this.context.webkitBackingStorePixelRatio ||\n",
       "        this.context.mozBackingStorePixelRatio ||\n",
       "        this.context.msBackingStorePixelRatio ||\n",
       "        this.context.oBackingStorePixelRatio ||\n",
       "        this.context.backingStorePixelRatio ||\n",
       "        1;\n",
       "\n",
       "    this.ratio = (window.devicePixelRatio || 1) / backingStore;\n",
       "    if (this.ratio !== 1) {\n",
       "        fig.send_message('set_dpi_ratio', { dpi_ratio: this.ratio });\n",
       "    }\n",
       "\n",
       "    var rubberband_canvas = (this.rubberband_canvas = document.createElement(\n",
       "        'canvas'\n",
       "    ));\n",
       "    rubberband_canvas.setAttribute(\n",
       "        'style',\n",
       "        'box-sizing: content-box; position: absolute; left: 0; top: 0; z-index: 1;'\n",
       "    );\n",
       "\n",
       "    // Apply a ponyfill if ResizeObserver is not implemented by browser.\n",
       "    if (this.ResizeObserver === undefined) {\n",
       "        if (window.ResizeObserver !== undefined) {\n",
       "            this.ResizeObserver = window.ResizeObserver;\n",
       "        } else {\n",
       "            var obs = _JSXTOOLS_RESIZE_OBSERVER({});\n",
       "            this.ResizeObserver = obs.ResizeObserver;\n",
       "        }\n",
       "    }\n",
       "\n",
       "    this.resizeObserverInstance = new this.ResizeObserver(function (entries) {\n",
       "        var nentries = entries.length;\n",
       "        for (var i = 0; i < nentries; i++) {\n",
       "            var entry = entries[i];\n",
       "            var width, height;\n",
       "            if (entry.contentBoxSize) {\n",
       "                if (entry.contentBoxSize instanceof Array) {\n",
       "                    // Chrome 84 implements new version of spec.\n",
       "                    width = entry.contentBoxSize[0].inlineSize;\n",
       "                    height = entry.contentBoxSize[0].blockSize;\n",
       "                } else {\n",
       "                    // Firefox implements old version of spec.\n",
       "                    width = entry.contentBoxSize.inlineSize;\n",
       "                    height = entry.contentBoxSize.blockSize;\n",
       "                }\n",
       "            } else {\n",
       "                // Chrome <84 implements even older version of spec.\n",
       "                width = entry.contentRect.width;\n",
       "                height = entry.contentRect.height;\n",
       "            }\n",
       "\n",
       "            // Keep the size of the canvas and rubber band canvas in sync with\n",
       "            // the canvas container.\n",
       "            if (entry.devicePixelContentBoxSize) {\n",
       "                // Chrome 84 implements new version of spec.\n",
       "                canvas.setAttribute(\n",
       "                    'width',\n",
       "                    entry.devicePixelContentBoxSize[0].inlineSize\n",
       "                );\n",
       "                canvas.setAttribute(\n",
       "                    'height',\n",
       "                    entry.devicePixelContentBoxSize[0].blockSize\n",
       "                );\n",
       "            } else {\n",
       "                canvas.setAttribute('width', width * fig.ratio);\n",
       "                canvas.setAttribute('height', height * fig.ratio);\n",
       "            }\n",
       "            canvas.setAttribute(\n",
       "                'style',\n",
       "                'width: ' + width + 'px; height: ' + height + 'px;'\n",
       "            );\n",
       "\n",
       "            rubberband_canvas.setAttribute('width', width);\n",
       "            rubberband_canvas.setAttribute('height', height);\n",
       "\n",
       "            // And update the size in Python. We ignore the initial 0/0 size\n",
       "            // that occurs as the element is placed into the DOM, which should\n",
       "            // otherwise not happen due to the minimum size styling.\n",
       "            if (width != 0 && height != 0) {\n",
       "                fig.request_resize(width, height);\n",
       "            }\n",
       "        }\n",
       "    });\n",
       "    this.resizeObserverInstance.observe(canvas_div);\n",
       "\n",
       "    function on_mouse_event_closure(name) {\n",
       "        return function (event) {\n",
       "            return fig.mouse_event(event, name);\n",
       "        };\n",
       "    }\n",
       "\n",
       "    rubberband_canvas.addEventListener(\n",
       "        'mousedown',\n",
       "        on_mouse_event_closure('button_press')\n",
       "    );\n",
       "    rubberband_canvas.addEventListener(\n",
       "        'mouseup',\n",
       "        on_mouse_event_closure('button_release')\n",
       "    );\n",
       "    // Throttle sequential mouse events to 1 every 20ms.\n",
       "    rubberband_canvas.addEventListener(\n",
       "        'mousemove',\n",
       "        on_mouse_event_closure('motion_notify')\n",
       "    );\n",
       "\n",
       "    rubberband_canvas.addEventListener(\n",
       "        'mouseenter',\n",
       "        on_mouse_event_closure('figure_enter')\n",
       "    );\n",
       "    rubberband_canvas.addEventListener(\n",
       "        'mouseleave',\n",
       "        on_mouse_event_closure('figure_leave')\n",
       "    );\n",
       "\n",
       "    canvas_div.addEventListener('wheel', function (event) {\n",
       "        if (event.deltaY < 0) {\n",
       "            event.step = 1;\n",
       "        } else {\n",
       "            event.step = -1;\n",
       "        }\n",
       "        on_mouse_event_closure('scroll')(event);\n",
       "    });\n",
       "\n",
       "    canvas_div.appendChild(canvas);\n",
       "    canvas_div.appendChild(rubberband_canvas);\n",
       "\n",
       "    this.rubberband_context = rubberband_canvas.getContext('2d');\n",
       "    this.rubberband_context.strokeStyle = '#000000';\n",
       "\n",
       "    this._resize_canvas = function (width, height, forward) {\n",
       "        if (forward) {\n",
       "            canvas_div.style.width = width + 'px';\n",
       "            canvas_div.style.height = height + 'px';\n",
       "        }\n",
       "    };\n",
       "\n",
       "    // Disable right mouse context menu.\n",
       "    this.rubberband_canvas.addEventListener('contextmenu', function (_e) {\n",
       "        event.preventDefault();\n",
       "        return false;\n",
       "    });\n",
       "\n",
       "    function set_focus() {\n",
       "        canvas.focus();\n",
       "        canvas_div.focus();\n",
       "    }\n",
       "\n",
       "    window.setTimeout(set_focus, 100);\n",
       "};\n",
       "\n",
       "mpl.figure.prototype._init_toolbar = function () {\n",
       "    var fig = this;\n",
       "\n",
       "    var toolbar = document.createElement('div');\n",
       "    toolbar.classList = 'mpl-toolbar';\n",
       "    this.root.appendChild(toolbar);\n",
       "\n",
       "    function on_click_closure(name) {\n",
       "        return function (_event) {\n",
       "            return fig.toolbar_button_onclick(name);\n",
       "        };\n",
       "    }\n",
       "\n",
       "    function on_mouseover_closure(tooltip) {\n",
       "        return function (event) {\n",
       "            if (!event.currentTarget.disabled) {\n",
       "                return fig.toolbar_button_onmouseover(tooltip);\n",
       "            }\n",
       "        };\n",
       "    }\n",
       "\n",
       "    fig.buttons = {};\n",
       "    var buttonGroup = document.createElement('div');\n",
       "    buttonGroup.classList = 'mpl-button-group';\n",
       "    for (var toolbar_ind in mpl.toolbar_items) {\n",
       "        var name = mpl.toolbar_items[toolbar_ind][0];\n",
       "        var tooltip = mpl.toolbar_items[toolbar_ind][1];\n",
       "        var image = mpl.toolbar_items[toolbar_ind][2];\n",
       "        var method_name = mpl.toolbar_items[toolbar_ind][3];\n",
       "\n",
       "        if (!name) {\n",
       "            /* Instead of a spacer, we start a new button group. */\n",
       "            if (buttonGroup.hasChildNodes()) {\n",
       "                toolbar.appendChild(buttonGroup);\n",
       "            }\n",
       "            buttonGroup = document.createElement('div');\n",
       "            buttonGroup.classList = 'mpl-button-group';\n",
       "            continue;\n",
       "        }\n",
       "\n",
       "        var button = (fig.buttons[name] = document.createElement('button'));\n",
       "        button.classList = 'mpl-widget';\n",
       "        button.setAttribute('role', 'button');\n",
       "        button.setAttribute('aria-disabled', 'false');\n",
       "        button.addEventListener('click', on_click_closure(method_name));\n",
       "        button.addEventListener('mouseover', on_mouseover_closure(tooltip));\n",
       "\n",
       "        var icon_img = document.createElement('img');\n",
       "        icon_img.src = '_images/' + image + '.png';\n",
       "        icon_img.srcset = '_images/' + image + '_large.png 2x';\n",
       "        icon_img.alt = tooltip;\n",
       "        button.appendChild(icon_img);\n",
       "\n",
       "        buttonGroup.appendChild(button);\n",
       "    }\n",
       "\n",
       "    if (buttonGroup.hasChildNodes()) {\n",
       "        toolbar.appendChild(buttonGroup);\n",
       "    }\n",
       "\n",
       "    var fmt_picker = document.createElement('select');\n",
       "    fmt_picker.classList = 'mpl-widget';\n",
       "    toolbar.appendChild(fmt_picker);\n",
       "    this.format_dropdown = fmt_picker;\n",
       "\n",
       "    for (var ind in mpl.extensions) {\n",
       "        var fmt = mpl.extensions[ind];\n",
       "        var option = document.createElement('option');\n",
       "        option.selected = fmt === mpl.default_extension;\n",
       "        option.innerHTML = fmt;\n",
       "        fmt_picker.appendChild(option);\n",
       "    }\n",
       "\n",
       "    var status_bar = document.createElement('span');\n",
       "    status_bar.classList = 'mpl-message';\n",
       "    toolbar.appendChild(status_bar);\n",
       "    this.message = status_bar;\n",
       "};\n",
       "\n",
       "mpl.figure.prototype.request_resize = function (x_pixels, y_pixels) {\n",
       "    // Request matplotlib to resize the figure. Matplotlib will then trigger a resize in the client,\n",
       "    // which will in turn request a refresh of the image.\n",
       "    this.send_message('resize', { width: x_pixels, height: y_pixels });\n",
       "};\n",
       "\n",
       "mpl.figure.prototype.send_message = function (type, properties) {\n",
       "    properties['type'] = type;\n",
       "    properties['figure_id'] = this.id;\n",
       "    this.ws.send(JSON.stringify(properties));\n",
       "};\n",
       "\n",
       "mpl.figure.prototype.send_draw_message = function () {\n",
       "    if (!this.waiting) {\n",
       "        this.waiting = true;\n",
       "        this.ws.send(JSON.stringify({ type: 'draw', figure_id: this.id }));\n",
       "    }\n",
       "};\n",
       "\n",
       "mpl.figure.prototype.handle_save = function (fig, _msg) {\n",
       "    var format_dropdown = fig.format_dropdown;\n",
       "    var format = format_dropdown.options[format_dropdown.selectedIndex].value;\n",
       "    fig.ondownload(fig, format);\n",
       "};\n",
       "\n",
       "mpl.figure.prototype.handle_resize = function (fig, msg) {\n",
       "    var size = msg['size'];\n",
       "    if (size[0] !== fig.canvas.width || size[1] !== fig.canvas.height) {\n",
       "        fig._resize_canvas(size[0], size[1], msg['forward']);\n",
       "        fig.send_message('refresh', {});\n",
       "    }\n",
       "};\n",
       "\n",
       "mpl.figure.prototype.handle_rubberband = function (fig, msg) {\n",
       "    var x0 = msg['x0'] / fig.ratio;\n",
       "    var y0 = (fig.canvas.height - msg['y0']) / fig.ratio;\n",
       "    var x1 = msg['x1'] / fig.ratio;\n",
       "    var y1 = (fig.canvas.height - msg['y1']) / fig.ratio;\n",
       "    x0 = Math.floor(x0) + 0.5;\n",
       "    y0 = Math.floor(y0) + 0.5;\n",
       "    x1 = Math.floor(x1) + 0.5;\n",
       "    y1 = Math.floor(y1) + 0.5;\n",
       "    var min_x = Math.min(x0, x1);\n",
       "    var min_y = Math.min(y0, y1);\n",
       "    var width = Math.abs(x1 - x0);\n",
       "    var height = Math.abs(y1 - y0);\n",
       "\n",
       "    fig.rubberband_context.clearRect(\n",
       "        0,\n",
       "        0,\n",
       "        fig.canvas.width / fig.ratio,\n",
       "        fig.canvas.height / fig.ratio\n",
       "    );\n",
       "\n",
       "    fig.rubberband_context.strokeRect(min_x, min_y, width, height);\n",
       "};\n",
       "\n",
       "mpl.figure.prototype.handle_figure_label = function (fig, msg) {\n",
       "    // Updates the figure title.\n",
       "    fig.header.textContent = msg['label'];\n",
       "};\n",
       "\n",
       "mpl.figure.prototype.handle_cursor = function (fig, msg) {\n",
       "    var cursor = msg['cursor'];\n",
       "    switch (cursor) {\n",
       "        case 0:\n",
       "            cursor = 'pointer';\n",
       "            break;\n",
       "        case 1:\n",
       "            cursor = 'default';\n",
       "            break;\n",
       "        case 2:\n",
       "            cursor = 'crosshair';\n",
       "            break;\n",
       "        case 3:\n",
       "            cursor = 'move';\n",
       "            break;\n",
       "    }\n",
       "    fig.rubberband_canvas.style.cursor = cursor;\n",
       "};\n",
       "\n",
       "mpl.figure.prototype.handle_message = function (fig, msg) {\n",
       "    fig.message.textContent = msg['message'];\n",
       "};\n",
       "\n",
       "mpl.figure.prototype.handle_draw = function (fig, _msg) {\n",
       "    // Request the server to send over a new figure.\n",
       "    fig.send_draw_message();\n",
       "};\n",
       "\n",
       "mpl.figure.prototype.handle_image_mode = function (fig, msg) {\n",
       "    fig.image_mode = msg['mode'];\n",
       "};\n",
       "\n",
       "mpl.figure.prototype.handle_history_buttons = function (fig, msg) {\n",
       "    for (var key in msg) {\n",
       "        if (!(key in fig.buttons)) {\n",
       "            continue;\n",
       "        }\n",
       "        fig.buttons[key].disabled = !msg[key];\n",
       "        fig.buttons[key].setAttribute('aria-disabled', !msg[key]);\n",
       "    }\n",
       "};\n",
       "\n",
       "mpl.figure.prototype.handle_navigate_mode = function (fig, msg) {\n",
       "    if (msg['mode'] === 'PAN') {\n",
       "        fig.buttons['Pan'].classList.add('active');\n",
       "        fig.buttons['Zoom'].classList.remove('active');\n",
       "    } else if (msg['mode'] === 'ZOOM') {\n",
       "        fig.buttons['Pan'].classList.remove('active');\n",
       "        fig.buttons['Zoom'].classList.add('active');\n",
       "    } else {\n",
       "        fig.buttons['Pan'].classList.remove('active');\n",
       "        fig.buttons['Zoom'].classList.remove('active');\n",
       "    }\n",
       "};\n",
       "\n",
       "mpl.figure.prototype.updated_canvas_event = function () {\n",
       "    // Called whenever the canvas gets updated.\n",
       "    this.send_message('ack', {});\n",
       "};\n",
       "\n",
       "// A function to construct a web socket function for onmessage handling.\n",
       "// Called in the figure constructor.\n",
       "mpl.figure.prototype._make_on_message_function = function (fig) {\n",
       "    return function socket_on_message(evt) {\n",
       "        if (evt.data instanceof Blob) {\n",
       "            /* FIXME: We get \"Resource interpreted as Image but\n",
       "             * transferred with MIME type text/plain:\" errors on\n",
       "             * Chrome.  But how to set the MIME type?  It doesn't seem\n",
       "             * to be part of the websocket stream */\n",
       "            evt.data.type = 'image/png';\n",
       "\n",
       "            /* Free the memory for the previous frames */\n",
       "            if (fig.imageObj.src) {\n",
       "                (window.URL || window.webkitURL).revokeObjectURL(\n",
       "                    fig.imageObj.src\n",
       "                );\n",
       "            }\n",
       "\n",
       "            fig.imageObj.src = (window.URL || window.webkitURL).createObjectURL(\n",
       "                evt.data\n",
       "            );\n",
       "            fig.updated_canvas_event();\n",
       "            fig.waiting = false;\n",
       "            return;\n",
       "        } else if (\n",
       "            typeof evt.data === 'string' &&\n",
       "            evt.data.slice(0, 21) === 'data:image/png;base64'\n",
       "        ) {\n",
       "            fig.imageObj.src = evt.data;\n",
       "            fig.updated_canvas_event();\n",
       "            fig.waiting = false;\n",
       "            return;\n",
       "        }\n",
       "\n",
       "        var msg = JSON.parse(evt.data);\n",
       "        var msg_type = msg['type'];\n",
       "\n",
       "        // Call the  \"handle_{type}\" callback, which takes\n",
       "        // the figure and JSON message as its only arguments.\n",
       "        try {\n",
       "            var callback = fig['handle_' + msg_type];\n",
       "        } catch (e) {\n",
       "            console.log(\n",
       "                \"No handler for the '\" + msg_type + \"' message type: \",\n",
       "                msg\n",
       "            );\n",
       "            return;\n",
       "        }\n",
       "\n",
       "        if (callback) {\n",
       "            try {\n",
       "                // console.log(\"Handling '\" + msg_type + \"' message: \", msg);\n",
       "                callback(fig, msg);\n",
       "            } catch (e) {\n",
       "                console.log(\n",
       "                    \"Exception inside the 'handler_\" + msg_type + \"' callback:\",\n",
       "                    e,\n",
       "                    e.stack,\n",
       "                    msg\n",
       "                );\n",
       "            }\n",
       "        }\n",
       "    };\n",
       "};\n",
       "\n",
       "// from http://stackoverflow.com/questions/1114465/getting-mouse-location-in-canvas\n",
       "mpl.findpos = function (e) {\n",
       "    //this section is from http://www.quirksmode.org/js/events_properties.html\n",
       "    var targ;\n",
       "    if (!e) {\n",
       "        e = window.event;\n",
       "    }\n",
       "    if (e.target) {\n",
       "        targ = e.target;\n",
       "    } else if (e.srcElement) {\n",
       "        targ = e.srcElement;\n",
       "    }\n",
       "    if (targ.nodeType === 3) {\n",
       "        // defeat Safari bug\n",
       "        targ = targ.parentNode;\n",
       "    }\n",
       "\n",
       "    // pageX,Y are the mouse positions relative to the document\n",
       "    var boundingRect = targ.getBoundingClientRect();\n",
       "    var x = e.pageX - (boundingRect.left + document.body.scrollLeft);\n",
       "    var y = e.pageY - (boundingRect.top + document.body.scrollTop);\n",
       "\n",
       "    return { x: x, y: y };\n",
       "};\n",
       "\n",
       "/*\n",
       " * return a copy of an object with only non-object keys\n",
       " * we need this to avoid circular references\n",
       " * http://stackoverflow.com/a/24161582/3208463\n",
       " */\n",
       "function simpleKeys(original) {\n",
       "    return Object.keys(original).reduce(function (obj, key) {\n",
       "        if (typeof original[key] !== 'object') {\n",
       "            obj[key] = original[key];\n",
       "        }\n",
       "        return obj;\n",
       "    }, {});\n",
       "}\n",
       "\n",
       "mpl.figure.prototype.mouse_event = function (event, name) {\n",
       "    var canvas_pos = mpl.findpos(event);\n",
       "\n",
       "    if (name === 'button_press') {\n",
       "        this.canvas.focus();\n",
       "        this.canvas_div.focus();\n",
       "    }\n",
       "\n",
       "    var x = canvas_pos.x * this.ratio;\n",
       "    var y = canvas_pos.y * this.ratio;\n",
       "\n",
       "    this.send_message(name, {\n",
       "        x: x,\n",
       "        y: y,\n",
       "        button: event.button,\n",
       "        step: event.step,\n",
       "        guiEvent: simpleKeys(event),\n",
       "    });\n",
       "\n",
       "    /* This prevents the web browser from automatically changing to\n",
       "     * the text insertion cursor when the button is pressed.  We want\n",
       "     * to control all of the cursor setting manually through the\n",
       "     * 'cursor' event from matplotlib */\n",
       "    event.preventDefault();\n",
       "    return false;\n",
       "};\n",
       "\n",
       "mpl.figure.prototype._key_event_extra = function (_event, _name) {\n",
       "    // Handle any extra behaviour associated with a key event\n",
       "};\n",
       "\n",
       "mpl.figure.prototype.key_event = function (event, name) {\n",
       "    // Prevent repeat events\n",
       "    if (name === 'key_press') {\n",
       "        if (event.which === this._key) {\n",
       "            return;\n",
       "        } else {\n",
       "            this._key = event.which;\n",
       "        }\n",
       "    }\n",
       "    if (name === 'key_release') {\n",
       "        this._key = null;\n",
       "    }\n",
       "\n",
       "    var value = '';\n",
       "    if (event.ctrlKey && event.which !== 17) {\n",
       "        value += 'ctrl+';\n",
       "    }\n",
       "    if (event.altKey && event.which !== 18) {\n",
       "        value += 'alt+';\n",
       "    }\n",
       "    if (event.shiftKey && event.which !== 16) {\n",
       "        value += 'shift+';\n",
       "    }\n",
       "\n",
       "    value += 'k';\n",
       "    value += event.which.toString();\n",
       "\n",
       "    this._key_event_extra(event, name);\n",
       "\n",
       "    this.send_message(name, { key: value, guiEvent: simpleKeys(event) });\n",
       "    return false;\n",
       "};\n",
       "\n",
       "mpl.figure.prototype.toolbar_button_onclick = function (name) {\n",
       "    if (name === 'download') {\n",
       "        this.handle_save(this, null);\n",
       "    } else {\n",
       "        this.send_message('toolbar_button', { name: name });\n",
       "    }\n",
       "};\n",
       "\n",
       "mpl.figure.prototype.toolbar_button_onmouseover = function (tooltip) {\n",
       "    this.message.textContent = tooltip;\n",
       "};\n",
       "\n",
       "///////////////// REMAINING CONTENT GENERATED BY embed_js.py /////////////////\n",
       "// prettier-ignore\n",
       "var _JSXTOOLS_RESIZE_OBSERVER=function(A){var t,i=new WeakMap,n=new WeakMap,a=new WeakMap,r=new WeakMap,o=new Set;function s(e){if(!(this instanceof s))throw new TypeError(\"Constructor requires 'new' operator\");i.set(this,e)}function h(){throw new TypeError(\"Function is not a constructor\")}function c(e,t,i,n){e=0 in arguments?Number(arguments[0]):0,t=1 in arguments?Number(arguments[1]):0,i=2 in arguments?Number(arguments[2]):0,n=3 in arguments?Number(arguments[3]):0,this.right=(this.x=this.left=e)+(this.width=i),this.bottom=(this.y=this.top=t)+(this.height=n),Object.freeze(this)}function d(){t=requestAnimationFrame(d);var s=new WeakMap,p=new Set;o.forEach((function(t){r.get(t).forEach((function(i){var r=t instanceof window.SVGElement,o=a.get(t),d=r?0:parseFloat(o.paddingTop),f=r?0:parseFloat(o.paddingRight),l=r?0:parseFloat(o.paddingBottom),u=r?0:parseFloat(o.paddingLeft),g=r?0:parseFloat(o.borderTopWidth),m=r?0:parseFloat(o.borderRightWidth),w=r?0:parseFloat(o.borderBottomWidth),b=u+f,F=d+l,v=(r?0:parseFloat(o.borderLeftWidth))+m,W=g+w,y=r?0:t.offsetHeight-W-t.clientHeight,E=r?0:t.offsetWidth-v-t.clientWidth,R=b+v,z=F+W,M=r?t.width:parseFloat(o.width)-R-E,O=r?t.height:parseFloat(o.height)-z-y;if(n.has(t)){var k=n.get(t);if(k[0]===M&&k[1]===O)return}n.set(t,[M,O]);var S=Object.create(h.prototype);S.target=t,S.contentRect=new c(u,d,M,O),s.has(i)||(s.set(i,[]),p.add(i)),s.get(i).push(S)}))})),p.forEach((function(e){i.get(e).call(e,s.get(e),e)}))}return s.prototype.observe=function(i){if(i instanceof window.Element){r.has(i)||(r.set(i,new Set),o.add(i),a.set(i,window.getComputedStyle(i)));var n=r.get(i);n.has(this)||n.add(this),cancelAnimationFrame(t),t=requestAnimationFrame(d)}},s.prototype.unobserve=function(i){if(i instanceof window.Element&&r.has(i)){var n=r.get(i);n.has(this)&&(n.delete(this),n.size||(r.delete(i),o.delete(i))),n.size||r.delete(i),o.size||cancelAnimationFrame(t)}},A.DOMRectReadOnly=c,A.ResizeObserver=s,A.ResizeObserverEntry=h,A}; // eslint-disable-line\n",
       "mpl.toolbar_items = [[\"Home\", \"Reset original view\", \"fa fa-home icon-home\", \"home\"], [\"Back\", \"Back to previous view\", \"fa fa-arrow-left icon-arrow-left\", \"back\"], [\"Forward\", \"Forward to next view\", \"fa fa-arrow-right icon-arrow-right\", \"forward\"], [\"\", \"\", \"\", \"\"], [\"Pan\", \"Left button pans, Right button zooms\\nx/y fixes axis, CTRL fixes aspect\", \"fa fa-arrows icon-move\", \"pan\"], [\"Zoom\", \"Zoom to rectangle\\nx/y fixes axis, CTRL fixes aspect\", \"fa fa-square-o icon-check-empty\", \"zoom\"], [\"\", \"\", \"\", \"\"], [\"Download\", \"Download plot\", \"fa fa-floppy-o icon-save\", \"download\"]];\n",
       "\n",
       "mpl.extensions = [\"eps\", \"jpeg\", \"pdf\", \"png\", \"ps\", \"raw\", \"svg\", \"tif\"];\n",
       "\n",
       "mpl.default_extension = \"png\";/* global mpl */\n",
       "\n",
       "var comm_websocket_adapter = function (comm) {\n",
       "    // Create a \"websocket\"-like object which calls the given IPython comm\n",
       "    // object with the appropriate methods. Currently this is a non binary\n",
       "    // socket, so there is still some room for performance tuning.\n",
       "    var ws = {};\n",
       "\n",
       "    ws.close = function () {\n",
       "        comm.close();\n",
       "    };\n",
       "    ws.send = function (m) {\n",
       "        //console.log('sending', m);\n",
       "        comm.send(m);\n",
       "    };\n",
       "    // Register the callback with on_msg.\n",
       "    comm.on_msg(function (msg) {\n",
       "        //console.log('receiving', msg['content']['data'], msg);\n",
       "        // Pass the mpl event to the overridden (by mpl) onmessage function.\n",
       "        ws.onmessage(msg['content']['data']);\n",
       "    });\n",
       "    return ws;\n",
       "};\n",
       "\n",
       "mpl.mpl_figure_comm = function (comm, msg) {\n",
       "    // This is the function which gets called when the mpl process\n",
       "    // starts-up an IPython Comm through the \"matplotlib\" channel.\n",
       "\n",
       "    var id = msg.content.data.id;\n",
       "    // Get hold of the div created by the display call when the Comm\n",
       "    // socket was opened in Python.\n",
       "    var element = document.getElementById(id);\n",
       "    var ws_proxy = comm_websocket_adapter(comm);\n",
       "\n",
       "    function ondownload(figure, _format) {\n",
       "        window.open(figure.canvas.toDataURL());\n",
       "    }\n",
       "\n",
       "    var fig = new mpl.figure(id, ws_proxy, ondownload, element);\n",
       "\n",
       "    // Call onopen now - mpl needs it, as it is assuming we've passed it a real\n",
       "    // web socket which is closed, not our websocket->open comm proxy.\n",
       "    ws_proxy.onopen();\n",
       "\n",
       "    fig.parent_element = element;\n",
       "    fig.cell_info = mpl.find_output_cell(\"<div id='\" + id + \"'></div>\");\n",
       "    if (!fig.cell_info) {\n",
       "        console.error('Failed to find cell for figure', id, fig);\n",
       "        return;\n",
       "    }\n",
       "    fig.cell_info[0].output_area.element.on(\n",
       "        'cleared',\n",
       "        { fig: fig },\n",
       "        fig._remove_fig_handler\n",
       "    );\n",
       "};\n",
       "\n",
       "mpl.figure.prototype.handle_close = function (fig, msg) {\n",
       "    var width = fig.canvas.width / fig.ratio;\n",
       "    fig.cell_info[0].output_area.element.off(\n",
       "        'cleared',\n",
       "        fig._remove_fig_handler\n",
       "    );\n",
       "    fig.resizeObserverInstance.unobserve(fig.canvas_div);\n",
       "\n",
       "    // Update the output cell to use the data from the current canvas.\n",
       "    fig.push_to_output();\n",
       "    var dataURL = fig.canvas.toDataURL();\n",
       "    // Re-enable the keyboard manager in IPython - without this line, in FF,\n",
       "    // the notebook keyboard shortcuts fail.\n",
       "    IPython.keyboard_manager.enable();\n",
       "    fig.parent_element.innerHTML =\n",
       "        '<img src=\"' + dataURL + '\" width=\"' + width + '\">';\n",
       "    fig.close_ws(fig, msg);\n",
       "};\n",
       "\n",
       "mpl.figure.prototype.close_ws = function (fig, msg) {\n",
       "    fig.send_message('closing', msg);\n",
       "    // fig.ws.close()\n",
       "};\n",
       "\n",
       "mpl.figure.prototype.push_to_output = function (_remove_interactive) {\n",
       "    // Turn the data on the canvas into data in the output cell.\n",
       "    var width = this.canvas.width / this.ratio;\n",
       "    var dataURL = this.canvas.toDataURL();\n",
       "    this.cell_info[1]['text/html'] =\n",
       "        '<img src=\"' + dataURL + '\" width=\"' + width + '\">';\n",
       "};\n",
       "\n",
       "mpl.figure.prototype.updated_canvas_event = function () {\n",
       "    // Tell IPython that the notebook contents must change.\n",
       "    IPython.notebook.set_dirty(true);\n",
       "    this.send_message('ack', {});\n",
       "    var fig = this;\n",
       "    // Wait a second, then push the new image to the DOM so\n",
       "    // that it is saved nicely (might be nice to debounce this).\n",
       "    setTimeout(function () {\n",
       "        fig.push_to_output();\n",
       "    }, 1000);\n",
       "};\n",
       "\n",
       "mpl.figure.prototype._init_toolbar = function () {\n",
       "    var fig = this;\n",
       "\n",
       "    var toolbar = document.createElement('div');\n",
       "    toolbar.classList = 'btn-toolbar';\n",
       "    this.root.appendChild(toolbar);\n",
       "\n",
       "    function on_click_closure(name) {\n",
       "        return function (_event) {\n",
       "            return fig.toolbar_button_onclick(name);\n",
       "        };\n",
       "    }\n",
       "\n",
       "    function on_mouseover_closure(tooltip) {\n",
       "        return function (event) {\n",
       "            if (!event.currentTarget.disabled) {\n",
       "                return fig.toolbar_button_onmouseover(tooltip);\n",
       "            }\n",
       "        };\n",
       "    }\n",
       "\n",
       "    fig.buttons = {};\n",
       "    var buttonGroup = document.createElement('div');\n",
       "    buttonGroup.classList = 'btn-group';\n",
       "    var button;\n",
       "    for (var toolbar_ind in mpl.toolbar_items) {\n",
       "        var name = mpl.toolbar_items[toolbar_ind][0];\n",
       "        var tooltip = mpl.toolbar_items[toolbar_ind][1];\n",
       "        var image = mpl.toolbar_items[toolbar_ind][2];\n",
       "        var method_name = mpl.toolbar_items[toolbar_ind][3];\n",
       "\n",
       "        if (!name) {\n",
       "            /* Instead of a spacer, we start a new button group. */\n",
       "            if (buttonGroup.hasChildNodes()) {\n",
       "                toolbar.appendChild(buttonGroup);\n",
       "            }\n",
       "            buttonGroup = document.createElement('div');\n",
       "            buttonGroup.classList = 'btn-group';\n",
       "            continue;\n",
       "        }\n",
       "\n",
       "        button = fig.buttons[name] = document.createElement('button');\n",
       "        button.classList = 'btn btn-default';\n",
       "        button.href = '#';\n",
       "        button.title = name;\n",
       "        button.innerHTML = '<i class=\"fa ' + image + ' fa-lg\"></i>';\n",
       "        button.addEventListener('click', on_click_closure(method_name));\n",
       "        button.addEventListener('mouseover', on_mouseover_closure(tooltip));\n",
       "        buttonGroup.appendChild(button);\n",
       "    }\n",
       "\n",
       "    if (buttonGroup.hasChildNodes()) {\n",
       "        toolbar.appendChild(buttonGroup);\n",
       "    }\n",
       "\n",
       "    // Add the status bar.\n",
       "    var status_bar = document.createElement('span');\n",
       "    status_bar.classList = 'mpl-message pull-right';\n",
       "    toolbar.appendChild(status_bar);\n",
       "    this.message = status_bar;\n",
       "\n",
       "    // Add the close button to the window.\n",
       "    var buttongrp = document.createElement('div');\n",
       "    buttongrp.classList = 'btn-group inline pull-right';\n",
       "    button = document.createElement('button');\n",
       "    button.classList = 'btn btn-mini btn-primary';\n",
       "    button.href = '#';\n",
       "    button.title = 'Stop Interaction';\n",
       "    button.innerHTML = '<i class=\"fa fa-power-off icon-remove icon-large\"></i>';\n",
       "    button.addEventListener('click', function (_evt) {\n",
       "        fig.handle_close(fig, {});\n",
       "    });\n",
       "    button.addEventListener(\n",
       "        'mouseover',\n",
       "        on_mouseover_closure('Stop Interaction')\n",
       "    );\n",
       "    buttongrp.appendChild(button);\n",
       "    var titlebar = this.root.querySelector('.ui-dialog-titlebar');\n",
       "    titlebar.insertBefore(buttongrp, titlebar.firstChild);\n",
       "};\n",
       "\n",
       "mpl.figure.prototype._remove_fig_handler = function (event) {\n",
       "    var fig = event.data.fig;\n",
       "    if (event.target !== this) {\n",
       "        // Ignore bubbled events from children.\n",
       "        return;\n",
       "    }\n",
       "    fig.close_ws(fig, {});\n",
       "};\n",
       "\n",
       "mpl.figure.prototype._root_extra_style = function (el) {\n",
       "    el.style.boxSizing = 'content-box'; // override notebook setting of border-box.\n",
       "};\n",
       "\n",
       "mpl.figure.prototype._canvas_extra_style = function (el) {\n",
       "    // this is important to make the div 'focusable\n",
       "    el.setAttribute('tabindex', 0);\n",
       "    // reach out to IPython and tell the keyboard manager to turn it's self\n",
       "    // off when our div gets focus\n",
       "\n",
       "    // location in version 3\n",
       "    if (IPython.notebook.keyboard_manager) {\n",
       "        IPython.notebook.keyboard_manager.register_events(el);\n",
       "    } else {\n",
       "        // location in version 2\n",
       "        IPython.keyboard_manager.register_events(el);\n",
       "    }\n",
       "};\n",
       "\n",
       "mpl.figure.prototype._key_event_extra = function (event, _name) {\n",
       "    var manager = IPython.notebook.keyboard_manager;\n",
       "    if (!manager) {\n",
       "        manager = IPython.keyboard_manager;\n",
       "    }\n",
       "\n",
       "    // Check for shift+enter\n",
       "    if (event.shiftKey && event.which === 13) {\n",
       "        this.canvas_div.blur();\n",
       "        // select the cell after this one\n",
       "        var index = IPython.notebook.find_cell_index(this.cell_info[0]);\n",
       "        IPython.notebook.select(index + 1);\n",
       "    }\n",
       "};\n",
       "\n",
       "mpl.figure.prototype.handle_save = function (fig, _msg) {\n",
       "    fig.ondownload(fig, null);\n",
       "};\n",
       "\n",
       "mpl.find_output_cell = function (html_output) {\n",
       "    // Return the cell and output element which can be found *uniquely* in the notebook.\n",
       "    // Note - this is a bit hacky, but it is done because the \"notebook_saving.Notebook\"\n",
       "    // IPython event is triggered only after the cells have been serialised, which for\n",
       "    // our purposes (turning an active figure into a static one), is too late.\n",
       "    var cells = IPython.notebook.get_cells();\n",
       "    var ncells = cells.length;\n",
       "    for (var i = 0; i < ncells; i++) {\n",
       "        var cell = cells[i];\n",
       "        if (cell.cell_type === 'code') {\n",
       "            for (var j = 0; j < cell.output_area.outputs.length; j++) {\n",
       "                var data = cell.output_area.outputs[j];\n",
       "                if (data.data) {\n",
       "                    // IPython >= 3 moved mimebundle to data attribute of output\n",
       "                    data = data.data;\n",
       "                }\n",
       "                if (data['text/html'] === html_output) {\n",
       "                    return [cell, data, j];\n",
       "                }\n",
       "            }\n",
       "        }\n",
       "    }\n",
       "};\n",
       "\n",
       "// Register the function which deals with the matplotlib target/channel.\n",
       "// The kernel may be null if the page has been refreshed.\n",
       "if (IPython.notebook.kernel !== null) {\n",
       "    IPython.notebook.kernel.comm_manager.register_target(\n",
       "        'matplotlib',\n",
       "        mpl.mpl_figure_comm\n",
       "    );\n",
       "}\n"
      ],
      "text/plain": [
       "<IPython.core.display.Javascript object>"
      ]
     },
     "metadata": {},
     "output_type": "display_data"
    },
    {
     "data": {
      "text/html": [
       "<img src=\"data:image/png;base64,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\" width=\"799.8\">"
      ],
      "text/plain": [
       "<IPython.core.display.HTML object>"
      ]
     },
     "metadata": {},
     "output_type": "display_data"
    },
    {
     "data": {
      "application/vnd.jupyter.widget-view+json": {
       "model_id": "48b72b03825f471eb77ee3a3795c12b8",
       "version_major": 2,
       "version_minor": 0
      },
      "text/plain": [
       "interactive(children=(IntSlider(value=1000, description='M', max=2000, min=100, step=10), FloatSlider(value=12…"
      ]
     },
     "metadata": {},
     "output_type": "display_data"
    },
    {
     "data": {
      "text/plain": [
       "<livePlot.livePlot at 0x28826f48408>"
      ]
     },
     "execution_count": 1,
     "metadata": {},
     "output_type": "execute_result"
    }
   ],
   "source": [
    "%matplotlib notebook\n",
    "import ipywidgets as ipw \n",
    "import numpy as np\n",
    "import matplotlib.pyplot as plt\n",
    "from livePlot import *\n",
    "\n",
    "livePlot()"
   ]
  },
  {
   "cell_type": "markdown",
   "metadata": {},
   "source": [
    "\n",
    "## Long-run Dynamics\n",
    "\n",
    "The distinction between long-run and short-run is critical for understanding dynamics that develop between the money market and the non-money goods market. In the long-run, the price level fully reflects changes in $AD$, whether the shift in $AD$ is a result of a change in $M$ or a change in $V$. In the short-run, changes in real income absorb changes in $AD$. While long-run changes are essentially inevitable, short-run changes do not ever need to occur. If they are observed, they occur only in the short-run.[1] After investigating long-run dynamics, we will consider short-run dynamics.\n",
    "\n",
    "### Case 1: Aggregate Demand Increases\n",
    "\n",
    "> Figure 2: Aggregate Demand Increases\n",
    "\n",
    "An increase in $AD$ represents an increase in the value of total expenditures across the economy (Figure 2). By definition, this value of total expenditures matches the value of nominal income. In the long-run, an increase in $AD$ will lift the price level from $P_0$ to $P_1$. Notice that this results in an increase in nominal income from a value of $P_0y_0$ to $P_1y_0$. This increase in nominal income does not entail an increase in real income in the long-run. This would only happen if the long-run aggregate supply shifted to the right and would be represented by a $y_1$ whose value is greater than $y_0$.\n",
    "\n",
    "> Figure 3: Decrease in Supply of Money\n",
    "\n",
    "The increase in $AD$ can come from one of two sources: either an increase in the quantity of money, $M$, or an increase in portfolio demand, $k$. We will consider the more intuitive case of an increase in $M$ first. If the increase in the quantity of money occurs when the economy is already in equilibrium, the shift will most obviously change the price of money, $P_m$. Since $P_m=\\frac{1}{P}$, the a change in the average price of money is simply the corollary to amovement of the price level in the opposite direction.\n",
    "\n",
    "The increase in the quantity of money represents a movement along the demand curve. This demand curve includes both portfolio demand, $k$, and transactions demand, $Py$. For now, we assume that these sources of demand remain constant. Thus, the increase from $M_0$ to $M_1$ translates directly to a fall in $P_m$ from $P_{m_0}$ to $P_{m_1}$.\n",
    "\n",
    "> Figure 4: Decrease in Portfolio Demand for Money\n",
    "\n",
    "Only a shift in $k$ represents an inverse change in portfolio demand as $k$ represents the portion of the money stock that individuals choose to hold throughout the period under consideration. Since $k$ is the inverse of $V$, so long as $V$ is greater than 1, then $k$ is a fraction less than 1. As with the increase in $M$, a fall in $k$ leads to a fall in the $P_m$ from $P_{m_0}$ to $P_{m_1}$. This coincides with an increase in $P$ from $P_0$ to $P_1$. Thus, a fall in the value of money is tantamount to a rise in the price level. This fall in the price level means that the new value of nominal income, $P_1y_0$ is less than the old value, $P_0y_0$.\n",
    "\n",
    "# Case 2: Aggregate Demand Falls\n",
    "\n",
    "> Figure 5: Increase in AD\n",
    "\n",
    "A fall in $AD$ represents an decrease in the value of total expenditures across the economy (Figure 6). This results in a fall in nominal income. In the long-run, an fall in $AD$ will depress the price level from $P_0$ to $P_1$. Notice that this results in a decrease in nominal income from a value of $P_0y_0$ to $P_1y_0$. The long-run level of real income, $y_0$, remains unaffected. Just as a rise in $M$ increases $AD$, a fall in $AD$ may occur due to a shrinking of the money stock. With less money in the economy, the previous equilibrium level of prices could only be sustained if individuals tended to decrease their cash holdings in response. For clarity, we consider cases where only one of the variables comprising aggregate demand changes.\n",
    "\n",
    "> Figure 6: Increase in Supply of Money\n",
    ">\n",
    "> Figure 7: Increase in Portfolio Demand for Money\n",
    "\n",
    "$AD$ may also fall due to an increase in demand to hold money. This increase in portfolio demand for money, $k$, is the same as a fall in the average velocity of money, $V$. An increase in demand to hold money leaves less money available for expenditure. This exerts a negative influence on prices and, necessarily, a positive influence on the price of money. Just as with a fall in the money supply, the equilibrium price of money rises from $P_{M_0}$ to $P_{M_1}$.\n",
    "\n",
    "## Short-run Dynamics: Excess Supply and Excess Demand\n",
    "\n",
    "The short-run is defined by any period of time that real income responds to changes in aggregate demand. The short-run is defined by a short-run aggregate supply ($SRAS$) is perfectly elastic. This means that it is horizontal, set at the value of the initial price level.  We assume that in the short-run, quantities adjust before the price level. In the long-run, any value of $y$ that is less than $y_0$ is less than the full potential that can be produced in the long-run. Any value of yy that is greater than $y_0$ cannot be sustained as it would demand that producers sustain real losses as input prices are bid upward. An scess demand for goods imply an excess supply of money and excess supply of goods implies an excess demand for money.\n",
    "\n",
    "It is not necessary that the short-run outcome actually occur. If forward looking agents expect that there will be a change in total expenditures and that this change will affect the price of particular goods, they may adjust these prices downward in expectation of the price change. However, there are cases where investors may be less willing to realize a loss by the sale of a home, such as might occur in the real estate market during a recession. Homeowners that have purchased their home with a mortgage will likely avoid such a sale if the value of the home falls below what is owed on the mortgage. In situations like this, assets that would otherwise be sold may remain unsold, leading to a fall in real income. This will be discussed in greater detail in the discussion of business cycles in a later chapter.\n",
    "\n",
    "### Case 1: Excess Supply of Money and Excess Demand for Goods\n",
    "\n",
    "> Figure 8: Increase in AD: Excess Demand for Goods\n",
    "\n",
    "If aggregate demand increases, the immediate effect will be for consumers to purchase goods at a rate that is not sustainable. If producers do not recognize this fact immediately, they may increase the quantity of goods produced. To the extent that prices rise as factor costs are bid up, the total value of production will be constrained compared to if the price level remained static.\n",
    "\n",
    "The excess supply of goods at price level $P_0$, defined by $y_t - y_0$, necessarily implies an excess demand for money. This occurs either by an increase in the quantity of money supplied to the market or by a relinquishing of money held on reserve by economic actors. The first instance is represented by an increase in the money stock. The latter instance is represented by a fall in portfolio demand for money, which is equivalent to a rise in velocity. As the quantity of money increase from $M_0$ to $M_1$, individuals find themselves holding more money than they desire at given prices. As individuals spend money, price of goods begin to rise on average as signified by an increase in the price level. Since the price of money, $P_M$, is the inverse of the price level, $P$, a rise in the price level indicates a fall in the price of money. Once the price of money falls from $P_{M_0}$ to $P_{M_1}$, the excess supply of money is offset.\n",
    "\n",
    "> Figure 9: Increase in Supply of Money: Excess Supply of Money\n",
    "> Figure 10: Decrease in Portfolio Demand for Money: Excess Supply of Money\n",
    "\n",
    "Nearly the same proces occurs when there is a fall in portfolio demand for money. Since consumers are willing to spend a greater of share of their income, they can increase their consumption of goods to the extent that prices do not rise in response to the new expenditure. At the given price level, $P_0$, consumers desire to hold less money. The difference between $M_0$ and $M_t$ represents the excess balances that consumers plan to spend. As these funds are spent, the price level moves from $P_0$ to $P_1$ and the price of money falls from $P_{M_0}$ to $P_{M_1}$. The fall in the value of money moves the quantity of money demanded back to an equilibrium where the quantity demanded of money matches the quantity supplied.\n",
    "\n",
    "### Case 2: Excess Demand for Money and Excess Supply of Goods\n",
    "\n",
    "> Figure 11: Decrease in AD: Excess Supply of Goods\n",
    "\n",
    "In the short-run, a fall in aggregate demand leads to a scenario where not all goods available in the market are purchased. If producers do not instantly respond to the change in prices, there will be more goods produced than can be purchased given the quantity of money available to be spent at the initial price level, $P_0$. \n",
    "\n",
    "The excess supply of goods is represented by the difference of $y_0$ and $y_t$. The fall in expenditures that drive the shift from $AD_0$ to $AD_1$ must occur either due to a fall in the quantity of money or a fall in the velocity of money which is equivalently an increase in portfolio demand for money. In the case the supply of money falls, agents must adjust their planned expenditures to account for the fall in the quantity of available funds. At $P_{M_0}$ the quantity of money demanded, $M_0$, is greater than the available quantity of money, $M_1$. If their demand to hold money does not change, this must occur by a fall expenditures so long as the price of money does not increase from $P_{M_0}$ to $P_{M_1}$P in response to the fall in supply of money.\n",
    "\n",
    "> Figure 12: Decrease in Supply of Money: Excess Demand for Money\n",
    "> Figure 13: Increase in Portfolio Demand for Money: Excess Demand for Money\n",
    "\n",
    "The same fall in aggregate demand may occur as a result of an increase in demand to hold money on reserve. This increase in portfolio demand leads to an increase in the price of money in the long-run. Before prices respond to the change in demand for money, individuals will demand to hold more money than will allow for the clearing of the goods market. The excess demand for money, $M_t - M_0$, exactly matches the value of goods that remain unsold $y_0 - y_t$.\n",
    "\n",
    "## Aggregate Demand Driven Business Cycles\n",
    "\n",
    "Aggregate Demand Driven Business Cycles\n",
    "Excess demand and excess supplies play a fundamental role in explain macroeconomic fluctuations. Presuming that the economy produces a steady-state level of income and capital, deviations from these levels represent either an inflationary boom or a deflationary recession. Neither of these outcomes are necessary by a change in aggregate demand. Only in cases where prices are slow to adjust to changes in the money market will such macroeconomic disequilibrium occur. \n",
    "\n",
    "> Figure 13: RGNP and Increasing Central Bank Demand for Gold\n",
    "\n",
    "This phenomenon occurred in an extreme manner during the Great Depression as many central banks their gold holdings without also increasing the quantity of central bank notes in circulation. The result was a fall in real income and substantial deflation, both of which occurred at an international scale. While there were many other factors, which include policies that disrupted credit, labor, and goods markets, the disruption of money markets by central banks was a feature of the Great Depression and is commonly a driving force of relatively extreme economic depressions.\n",
    "\n",
    "## Factors Unexplained by Aggregate Analysis\n",
    "\n",
    "Although aggregate analysis provides a powerful description of the macroeconomy, it does not capture many elements that are at play in the economic process. Consider the effects of money creation. There may result an economic boom due to a confusion between real and nominal profits. Producers, especially those who receive the new money first, will invest in expectation of earning increased profits. Some early producers may succeed in this endeavor, but as more producers enter the market, the price of production inputs are bid up. \n",
    "\n",
    "The expected increase in profits by investors often leads to construction of productive factors that  would otherwise not be created. Since we live in a world of scarcity, this means that productive processes that are producing goods that consumers truly value will not be created. The creation of new capital that is the result of this misallocation cannot be cheaply reversed. The process of readjustment of the capital structure may result in depression, or it may  result in the sustained production of relatively lower level of real income due to the misallocation of productive factors that will remain in use even after being repriced once the boom has slowed. \n",
    "\n",
    "Although aggregate analysis fails to capture this, this does not mean that the aggregate factors are not exerting force on the economic system. Macroeconomic forces described here are always at play. There are simply other factors that impact economic activity alongside these macroeconomic factors.\n",
    "\n",
    "# Conclusion\n",
    "\n",
    "Aggregate demand is defined as total expenditures. The value of real income that can be derived from these expenditures changes inversely to the price level. The economy tends to be subject to equillibrating forces such that the price level moves to a level that enables the production and purchase of level of output that is sustainable in the long-run. Deviance from the equilibrium price level represent movements away from the sustainable level of output and can drive macroeconomic fluctuations.\n",
    "\n",
    "## Footnotes \n",
    "\n",
    "[1] In reality, short-run effects can impact the capital structure, thereby influencing the production structure in different markets and leading the lasting equilibrium structure that is relatively inefficient compared to cases where the capital structure is not distorted by $AD$ shocks."
   ]
  }
 ],
 "metadata": {
  "kernelspec": {
   "display_name": "Python 3",
   "language": "python",
   "name": "python3"
  },
  "language_info": {
   "codemirror_mode": {
    "name": "ipython",
    "version": 3
   },
   "file_extension": ".py",
   "mimetype": "text/x-python",
   "name": "python",
   "nbconvert_exporter": "python",
   "pygments_lexer": "ipython3",
   "version": "3.7.6"
  },
  "nteract": {
   "version": "nteract-on-jupyter@2.1.3"
  },
  "widgets": {
   "application/vnd.jupyter.widget-state+json": {
    "state": {
     "01722fde7f1e4726a767fdd9d3a00602": {
      "model_module": "@jupyter-widgets/base",
      "model_module_version": "1.2.0",
      "model_name": "LayoutModel",
      "state": {}
     },
     "02c53153eb5d45688642be50ccb18f34": {
      "model_module": "@jupyter-widgets/controls",
      "model_module_version": "1.5.0",
      "model_name": "FloatSliderModel",
      "state": {
       "description": "V",
       "layout": "IPY_MODEL_24ce228b7aa845b2b417ecf164703bb2",
       "max": 16,
       "min": 0.8,
       "step": 0.1,
       "style": "IPY_MODEL_2b35c4a39df9401b9b1a05aa88eba7ca",
       "value": 12
      }
     },
     "031544f030c449098b36d0928fcc7eca": {
      "model_module": "@jupyter-widgets/controls",
      "model_module_version": "1.5.0",
      "model_name": "SliderStyleModel",
      "state": {
       "description_width": ""
      }
     },
     "03b56f4dee7f406baa11706ca0be8c7c": {
      "model_module": "@jupyter-widgets/base",
      "model_module_version": "1.2.0",
      "model_name": "LayoutModel",
      "state": {}
     },
     "0426472a84cc41ca963a04c7a20d0532": {
      "model_module": "@jupyter-widgets/base",
      "model_module_version": "1.2.0",
      "model_name": "LayoutModel",
      "state": {}
     },
     "0684197412b84bd2951101024aab8d27": {
      "model_module": "@jupyter-widgets/controls",
      "model_module_version": "1.5.0",
      "model_name": "IntSliderModel",
      "state": {
       "description": "y0",
       "layout": "IPY_MODEL_3040f6c3e4224cec8c86c5e4935a74ed",
       "max": 1000,
       "min": 250,
       "step": 5,
       "style": "IPY_MODEL_cf4703dc555c4bed891a8e7989c20195",
       "value": 250
      }
     },
     "06d5959ce78b47b8a028698746abfd81": {
      "model_module": "@jupyter-widgets/base",
      "model_module_version": "1.2.0",
      "model_name": "LayoutModel",
      "state": {}
     },
     "0833cae91c824a499bd1bf37420688fb": {
      "model_module": "@jupyter-widgets/controls",
      "model_module_version": "1.5.0",
      "model_name": "IntSliderModel",
      "state": {
       "description": "y0",
       "layout": "IPY_MODEL_2dbe69c1d3b04801b6b178cd9be47e0e",
       "max": 1000,
       "min": 250,
       "step": 5,
       "style": "IPY_MODEL_f188c2d1121c4a559b25a316605bd558",
       "value": 550
      }
     },
     "08cd0337ff1f49c68055ff1209621d27": {
      "model_module": "@jupyter-widgets/controls",
      "model_module_version": "1.5.0",
      "model_name": "SliderStyleModel",
      "state": {
       "description_width": ""
      }
     },
     "0bbcc7350b6343d5a9bf1534226a2b59": {
      "model_module": "@jupyter-widgets/base",
      "model_module_version": "1.2.0",
      "model_name": "LayoutModel",
      "state": {}
     },
     "0bfaff8aeebd46f4b1934270dc5821f4": {
      "model_module": "@jupyter-widgets/controls",
      "model_module_version": "1.5.0",
      "model_name": "SliderStyleModel",
      "state": {
       "description_width": ""
      }
     },
     "0cd357ed6a744cf4aafb15596e2d95a0": {
      "model_module": "@jupyter-widgets/controls",
      "model_module_version": "1.5.0",
      "model_name": "IntSliderModel",
      "state": {
       "description": "M",
       "layout": "IPY_MODEL_20a81c9c72bb4dd590cf7e7bd304bd96",
       "max": 2000,
       "min": 100,
       "step": 10,
       "style": "IPY_MODEL_6db52190285a4e33bfcc5048fba69e15",
       "value": 1000
      }
     },
     "0f9873ea044c4cd0b84bca0f63392f23": {
      "model_module": "@jupyter-widgets/controls",
      "model_module_version": "1.5.0",
      "model_name": "SliderStyleModel",
      "state": {
       "description_width": ""
      }
     },
     "0fbc15984e384b869dc3e8f4e15e17c7": {
      "model_module": "@jupyter-widgets/base",
      "model_module_version": "1.2.0",
      "model_name": "LayoutModel",
      "state": {}
     },
     "0ff87625c54d4d628aa6be7e90ec3d7b": {
      "model_module": "@jupyter-widgets/controls",
      "model_module_version": "1.5.0",
      "model_name": "SliderStyleModel",
      "state": {
       "description_width": ""
      }
     },
     "103e8cfb466d4caeb1f03d1a76755ec1": {
      "model_module": "@jupyter-widgets/controls",
      "model_module_version": "1.5.0",
      "model_name": "IntSliderModel",
      "state": {
       "description": "M",
       "layout": "IPY_MODEL_dc94f9a67770485593550c2c1f4a5c42",
       "max": 2000,
       "min": 100,
       "step": 10,
       "style": "IPY_MODEL_aebe0385024f49e599f85c6d74f08bd9",
       "value": 1330
      }
     },
     "128841b01a2a436d86a2157757da67fc": {
      "model_module": "@jupyter-widgets/base",
      "model_module_version": "1.2.0",
      "model_name": "LayoutModel",
      "state": {}
     },
     "155032d3a7a34297acdee78f41deb17d": {
      "model_module": "@jupyter-widgets/controls",
      "model_module_version": "1.5.0",
      "model_name": "IntSliderModel",
      "state": {
       "description": "y0",
       "layout": "IPY_MODEL_3517dcbec79a40eb91f2de3eabbaae0a",
       "max": 1000,
       "min": 250,
       "step": 5,
       "style": "IPY_MODEL_aafde4ddd907429e89d4f25f032e0191",
       "value": 250
      }
     },
     "1821cc80c03548e4a10c5d3cd10555ca": {
      "model_module": "@jupyter-widgets/controls",
      "model_module_version": "1.5.0",
      "model_name": "FloatSliderModel",
      "state": {
       "description": "V",
       "layout": "IPY_MODEL_03b56f4dee7f406baa11706ca0be8c7c",
       "max": 16,
       "min": 2,
       "step": 0.1,
       "style": "IPY_MODEL_63d0faf74f944c7b846e8af9b8c69f0a",
       "value": 12
      }
     },
     "189aa44d9e4c4c93b53d41301a090dcb": {
      "model_module": "@jupyter-widgets/base",
      "model_module_version": "1.2.0",
      "model_name": "LayoutModel",
      "state": {}
     },
     "1a911c16ec9c4781984b86658caa7c88": {
      "model_module": "@jupyter-widgets/controls",
      "model_module_version": "1.5.0",
      "model_name": "VBoxModel",
      "state": {
       "_dom_classes": [
        "widget-interact"
       ],
       "children": [
        "IPY_MODEL_d257c31226b0447aa2ae805339056610",
        "IPY_MODEL_64ab2db96e7b4511a26cac6aee684dd1",
        "IPY_MODEL_8e020db6efff4e758915d876c87b5613",
        "IPY_MODEL_c34300f22580441da1cff26ebfd100da"
       ],
       "layout": "IPY_MODEL_3223965bd9104096909906bd6e3488cf"
      }
     },
     "1d835be9021749f3927f75ef2b656149": {
      "model_module": "@jupyter-widgets/base",
      "model_module_version": "1.2.0",
      "model_name": "LayoutModel",
      "state": {}
     },
     "1db02c5639c14fb8b9cd2fac9eaf5bfd": {
      "model_module": "@jupyter-widgets/base",
      "model_module_version": "1.2.0",
      "model_name": "LayoutModel",
      "state": {}
     },
     "20a81c9c72bb4dd590cf7e7bd304bd96": {
      "model_module": "@jupyter-widgets/base",
      "model_module_version": "1.2.0",
      "model_name": "LayoutModel",
      "state": {}
     },
     "2476126508084a04b25656723c8cfe40": {
      "model_module": "@jupyter-widgets/base",
      "model_module_version": "1.2.0",
      "model_name": "LayoutModel",
      "state": {}
     },
     "24ce228b7aa845b2b417ecf164703bb2": {
      "model_module": "@jupyter-widgets/base",
      "model_module_version": "1.2.0",
      "model_name": "LayoutModel",
      "state": {}
     },
     "25c1de1f92bc464aa920bf5bced0e029": {
      "model_module": "@jupyter-widgets/controls",
      "model_module_version": "1.5.0",
      "model_name": "SliderStyleModel",
      "state": {
       "description_width": ""
      }
     },
     "27065ce0e1974bb3a52c430b7bac8ee7": {
      "model_module": "@jupyter-widgets/controls",
      "model_module_version": "1.5.0",
      "model_name": "FloatSliderModel",
      "state": {
       "description": "V",
       "layout": "IPY_MODEL_29f2326241344862b0540d40521ccce0",
       "max": 16,
       "min": 0.8,
       "step": 0.1,
       "style": "IPY_MODEL_a9a0ab712ffc4662a944d1796a69b624",
       "value": 12
      }
     },
     "287cd367abd94c6992bb09daa472b211": {
      "model_module": "@jupyter-widgets/base",
      "model_module_version": "1.2.0",
      "model_name": "LayoutModel",
      "state": {}
     },
     "2903054e93b643d1bf1cc6ff652f200d": {
      "model_module": "@jupyter-widgets/controls",
      "model_module_version": "1.5.0",
      "model_name": "SliderStyleModel",
      "state": {
       "description_width": ""
      }
     },
     "294c934efe674a1fa043b3ea676a34af": {
      "model_module": "@jupyter-widgets/output",
      "model_module_version": "1.0.0",
      "model_name": "OutputModel",
      "state": {
       "layout": "IPY_MODEL_8befc19f6cdf4e79baa11028ec661ad2"
      }
     },
     "297491fb0d1f4bcbaf6bcc533c42b858": {
      "model_module": "@jupyter-widgets/base",
      "model_module_version": "1.2.0",
      "model_name": "LayoutModel",
      "state": {}
     },
     "29f2326241344862b0540d40521ccce0": {
      "model_module": "@jupyter-widgets/base",
      "model_module_version": "1.2.0",
      "model_name": "LayoutModel",
      "state": {}
     },
     "2a8bc1c76c3d44ddbc14726f5f0b2399": {
      "model_module": "@jupyter-widgets/controls",
      "model_module_version": "1.5.0",
      "model_name": "IntSliderModel",
      "state": {
       "description": "y0",
       "layout": "IPY_MODEL_b77b73236d5944548c8a7da5b7f69097",
       "max": 1000,
       "min": 250,
       "step": 5,
       "style": "IPY_MODEL_e1b0573952fd48b0b950b8bda76d667a",
       "value": 250
      }
     },
     "2ab33c1d074541888c555755e2f5395a": {
      "model_module": "@jupyter-widgets/base",
      "model_module_version": "1.2.0",
      "model_name": "LayoutModel",
      "state": {}
     },
     "2b35c4a39df9401b9b1a05aa88eba7ca": {
      "model_module": "@jupyter-widgets/controls",
      "model_module_version": "1.5.0",
      "model_name": "SliderStyleModel",
      "state": {
       "description_width": ""
      }
     },
     "2dbe69c1d3b04801b6b178cd9be47e0e": {
      "model_module": "@jupyter-widgets/base",
      "model_module_version": "1.2.0",
      "model_name": "LayoutModel",
      "state": {}
     },
     "3040f6c3e4224cec8c86c5e4935a74ed": {
      "model_module": "@jupyter-widgets/base",
      "model_module_version": "1.2.0",
      "model_name": "LayoutModel",
      "state": {}
     },
     "31530e0024a6446893712c29c5dc9734": {
      "model_module": "@jupyter-widgets/base",
      "model_module_version": "1.2.0",
      "model_name": "LayoutModel",
      "state": {}
     },
     "3223965bd9104096909906bd6e3488cf": {
      "model_module": "@jupyter-widgets/base",
      "model_module_version": "1.2.0",
      "model_name": "LayoutModel",
      "state": {}
     },
     "34607a382c21449885b50ff5a2ed975f": {
      "model_module": "@jupyter-widgets/base",
      "model_module_version": "1.2.0",
      "model_name": "LayoutModel",
      "state": {}
     },
     "3517dcbec79a40eb91f2de3eabbaae0a": {
      "model_module": "@jupyter-widgets/base",
      "model_module_version": "1.2.0",
      "model_name": "LayoutModel",
      "state": {}
     },
     "3978787f1fe74913aaea2ea9a68a46cf": {
      "model_module": "@jupyter-widgets/base",
      "model_module_version": "1.2.0",
      "model_name": "LayoutModel",
      "state": {}
     },
     "3b605a1e7fa64a3c80e2278d093bfbff": {
      "model_module": "@jupyter-widgets/controls",
      "model_module_version": "1.5.0",
      "model_name": "FloatSliderModel",
      "state": {
       "description": "V",
       "layout": "IPY_MODEL_6c31d49480de431896c5fad51710c7fc",
       "max": 16,
       "min": 2,
       "step": 0.1,
       "style": "IPY_MODEL_bc3af383510349f39c5bf695f47cf52e",
       "value": 8.6
      }
     },
     "3b72653a77f043eb939004aff6944efb": {
      "model_module": "@jupyter-widgets/base",
      "model_module_version": "1.2.0",
      "model_name": "LayoutModel",
      "state": {}
     },
     "3db11db4052746efa4669cca1ba24ca3": {
      "model_module": "@jupyter-widgets/controls",
      "model_module_version": "1.5.0",
      "model_name": "IntSliderModel",
      "state": {
       "description": "M",
       "layout": "IPY_MODEL_eb4e885672e94373a3b8455278e87b26",
       "max": 2000,
       "min": 250,
       "step": 10,
       "style": "IPY_MODEL_4b106964302345a7826953866cfa30f4",
       "value": 1000
      }
     },
     "3fc71e17d8cd4291b0762f12ae0e74f7": {
      "model_module": "@jupyter-widgets/controls",
      "model_module_version": "1.5.0",
      "model_name": "SliderStyleModel",
      "state": {
       "description_width": ""
      }
     },
     "41eb5a321cd345529f854b3378f53ab4": {
      "model_module": "@jupyter-widgets/base",
      "model_module_version": "1.2.0",
      "model_name": "LayoutModel",
      "state": {}
     },
     "42cce5055a144abdade2a98035d2248d": {
      "model_module": "@jupyter-widgets/base",
      "model_module_version": "1.2.0",
      "model_name": "LayoutModel",
      "state": {}
     },
     "45b1c93e7ed94e35b321d0cd0563a0cd": {
      "model_module": "@jupyter-widgets/controls",
      "model_module_version": "1.5.0",
      "model_name": "IntSliderModel",
      "state": {
       "description": "y0",
       "layout": "IPY_MODEL_6276135cb658418f9759412a614cc30c",
       "max": 1000,
       "min": 50,
       "step": 5,
       "style": "IPY_MODEL_031544f030c449098b36d0928fcc7eca",
       "value": 50
      }
     },
     "46c3334759ea41f296f5b83ecdb0f5f4": {
      "model_module": "@jupyter-widgets/base",
      "model_module_version": "1.2.0",
      "model_name": "LayoutModel",
      "state": {}
     },
     "4731307daed142148f87fd037c130a3e": {
      "model_module": "@jupyter-widgets/controls",
      "model_module_version": "1.5.0",
      "model_name": "FloatSliderModel",
      "state": {
       "description": "V",
       "layout": "IPY_MODEL_b748c101385b421bb3fff14238f3d5fc",
       "max": 16,
       "min": 0.8,
       "step": 0.1,
       "style": "IPY_MODEL_9929e3afb149459d8339abcac719b0d9",
       "value": 16
      }
     },
     "47bedbeb64dc4ad098682f400b774134": {
      "model_module": "@jupyter-widgets/controls",
      "model_module_version": "1.5.0",
      "model_name": "SliderStyleModel",
      "state": {
       "description_width": ""
      }
     },
     "493dc50d0d984d2bb1b8cf68135625d7": {
      "model_module": "@jupyter-widgets/controls",
      "model_module_version": "1.5.0",
      "model_name": "VBoxModel",
      "state": {
       "_dom_classes": [
        "widget-interact"
       ],
       "children": [
        "IPY_MODEL_df7c2cee885a4030a71694b9b432d9d9",
        "IPY_MODEL_27065ce0e1974bb3a52c430b7bac8ee7",
        "IPY_MODEL_ca44ad27c46749378897d0ae18503d7a",
        "IPY_MODEL_dd13fd0e2d4746e58715f143e27b85b3"
       ],
       "layout": "IPY_MODEL_e1b4728375364dafab45e1beb81b4065"
      }
     },
     "49bc77407cfe483ba8a9efac15215441": {
      "model_module": "@jupyter-widgets/base",
      "model_module_version": "1.2.0",
      "model_name": "LayoutModel",
      "state": {}
     },
     "4a6746987bb14553a22e117f2bd66ae3": {
      "model_module": "@jupyter-widgets/controls",
      "model_module_version": "1.5.0",
      "model_name": "FloatSliderModel",
      "state": {
       "description": "V",
       "layout": "IPY_MODEL_a0b11c6248324d289a9ad769efc20453",
       "max": 16,
       "min": 0.8,
       "step": 0.1,
       "style": "IPY_MODEL_2903054e93b643d1bf1cc6ff652f200d",
       "value": 12
      }
     },
     "4b106964302345a7826953866cfa30f4": {
      "model_module": "@jupyter-widgets/controls",
      "model_module_version": "1.5.0",
      "model_name": "SliderStyleModel",
      "state": {
       "description_width": ""
      }
     },
     "4cc63c8968b34ccc8e0ff6c1faab3db7": {
      "model_module": "@jupyter-widgets/base",
      "model_module_version": "1.2.0",
      "model_name": "LayoutModel",
      "state": {}
     },
     "4f76d6cba4224bc9bc49c7b319c9054d": {
      "model_module": "@jupyter-widgets/controls",
      "model_module_version": "1.5.0",
      "model_name": "SliderStyleModel",
      "state": {
       "description_width": ""
      }
     },
     "4f8f6e6585104be29afad18aedabcfbd": {
      "model_module": "@jupyter-widgets/controls",
      "model_module_version": "1.5.0",
      "model_name": "VBoxModel",
      "state": {
       "_dom_classes": [
        "widget-interact"
       ],
       "children": [
        "IPY_MODEL_886cf9fe558744338713d7e1fda61b03",
        "IPY_MODEL_3b605a1e7fa64a3c80e2278d093bfbff",
        "IPY_MODEL_0833cae91c824a499bd1bf37420688fb",
        "IPY_MODEL_d58f8107f81b4a1db4f65fb91669c47f"
       ],
       "layout": "IPY_MODEL_49bc77407cfe483ba8a9efac15215441"
      }
     },
     "4faa0e69c3944031af28243a6c2cb838": {
      "model_module": "@jupyter-widgets/controls",
      "model_module_version": "1.5.0",
      "model_name": "IntSliderModel",
      "state": {
       "description": "y0",
       "layout": "IPY_MODEL_4cc63c8968b34ccc8e0ff6c1faab3db7",
       "max": 1000,
       "min": 250,
       "step": 5,
       "style": "IPY_MODEL_beab4cac0f874a0da4d5e81ce23127c0",
       "value": 250
      }
     },
     "52a99af8ac4f4cc88ff6133b32793c0c": {
      "model_module": "@jupyter-widgets/base",
      "model_module_version": "1.2.0",
      "model_name": "LayoutModel",
      "state": {}
     },
     "52c01293ca1546239ba901da85df142f": {
      "model_module": "@jupyter-widgets/output",
      "model_module_version": "1.0.0",
      "model_name": "OutputModel",
      "state": {
       "layout": "IPY_MODEL_dbc7d1bac8344c0aa0affbbfa51938e0"
      }
     },
     "52fba609c70a4513b5f8896980a5dd91": {
      "model_module": "@jupyter-widgets/base",
      "model_module_version": "1.2.0",
      "model_name": "LayoutModel",
      "state": {}
     },
     "53f8ef40c39241f4a22e8eb47ccde0b2": {
      "model_module": "@jupyter-widgets/controls",
      "model_module_version": "1.5.0",
      "model_name": "VBoxModel",
      "state": {
       "_dom_classes": [
        "widget-interact"
       ],
       "children": [
        "IPY_MODEL_b23f96b5c9034a9ba8133869e0ecf009",
        "IPY_MODEL_f98fd46f2bf5490388683a1db8ed0062",
        "IPY_MODEL_4faa0e69c3944031af28243a6c2cb838",
        "IPY_MODEL_cc9bdbc5ac9540b9ba207dc7655b42d7"
       ],
       "layout": "IPY_MODEL_d15bec5610154b83bbb0fcb958be3026"
      }
     },
     "54a4e78e32034147921199336392169c": {
      "model_module": "@jupyter-widgets/controls",
      "model_module_version": "1.5.0",
      "model_name": "SliderStyleModel",
      "state": {
       "description_width": ""
      }
     },
     "55170df18abe4f5f97112a0e4d83d51d": {
      "model_module": "@jupyter-widgets/base",
      "model_module_version": "1.2.0",
      "model_name": "LayoutModel",
      "state": {}
     },
     "5bef57869bf44e4492561d0c61c2be03": {
      "model_module": "@jupyter-widgets/controls",
      "model_module_version": "1.5.0",
      "model_name": "SliderStyleModel",
      "state": {
       "description_width": ""
      }
     },
     "5da8c92ad3754919aeb79454fb23ddfb": {
      "model_module": "@jupyter-widgets/base",
      "model_module_version": "1.2.0",
      "model_name": "LayoutModel",
      "state": {}
     },
     "60f9bd4195f546b8a7210ae7189d4a51": {
      "model_module": "@jupyter-widgets/controls",
      "model_module_version": "1.5.0",
      "model_name": "SliderStyleModel",
      "state": {
       "description_width": ""
      }
     },
     "6276135cb658418f9759412a614cc30c": {
      "model_module": "@jupyter-widgets/base",
      "model_module_version": "1.2.0",
      "model_name": "LayoutModel",
      "state": {}
     },
     "628d1045dde84584bb24be7fec0e9778": {
      "model_module": "@jupyter-widgets/base",
      "model_module_version": "1.2.0",
      "model_name": "LayoutModel",
      "state": {}
     },
     "63d0faf74f944c7b846e8af9b8c69f0a": {
      "model_module": "@jupyter-widgets/controls",
      "model_module_version": "1.5.0",
      "model_name": "SliderStyleModel",
      "state": {
       "description_width": ""
      }
     },
     "63f9d901c7794a858b89f51741352ea6": {
      "model_module": "@jupyter-widgets/base",
      "model_module_version": "1.2.0",
      "model_name": "LayoutModel",
      "state": {}
     },
     "64ab2db96e7b4511a26cac6aee684dd1": {
      "model_module": "@jupyter-widgets/controls",
      "model_module_version": "1.5.0",
      "model_name": "FloatSliderModel",
      "state": {
       "description": "V",
       "layout": "IPY_MODEL_b74fb1b45b0a4f37ad2d62ce14dc9e32",
       "max": 16,
       "min": 2,
       "step": 0.1,
       "style": "IPY_MODEL_a2a0bdb894644e019f8e5dbd9fbbf105",
       "value": 12
      }
     },
     "64d7c9f811a94f2886b3418926abfc62": {
      "model_module": "@jupyter-widgets/controls",
      "model_module_version": "1.5.0",
      "model_name": "FloatSliderModel",
      "state": {
       "description": "V",
       "layout": "IPY_MODEL_297491fb0d1f4bcbaf6bcc533c42b858",
       "max": 16,
       "min": 2,
       "step": 0.1,
       "style": "IPY_MODEL_5bef57869bf44e4492561d0c61c2be03",
       "value": 12
      }
     },
     "6507fe6bb4c846e7946f4edebe3460fc": {
      "model_module": "@jupyter-widgets/base",
      "model_module_version": "1.2.0",
      "model_name": "LayoutModel",
      "state": {}
     },
     "66591c52d1494ce6a8781f5c41bd49e9": {
      "model_module": "@jupyter-widgets/controls",
      "model_module_version": "1.5.0",
      "model_name": "IntSliderModel",
      "state": {
       "description": "M",
       "layout": "IPY_MODEL_41eb5a321cd345529f854b3378f53ab4",
       "max": 2000,
       "min": 250,
       "step": 10,
       "style": "IPY_MODEL_4f76d6cba4224bc9bc49c7b319c9054d",
       "value": 950
      }
     },
     "6857d4bb340d4832ab562b133d3bb9f9": {
      "model_module": "@jupyter-widgets/controls",
      "model_module_version": "1.5.0",
      "model_name": "FloatSliderModel",
      "state": {
       "description": "V",
       "layout": "IPY_MODEL_8adb7e6ac67f4845bd7e12b132ea29c0",
       "max": 16,
       "min": 2,
       "step": 0.1,
       "style": "IPY_MODEL_8a075aa4842d4bd08120e348e2082e65",
       "value": 12
      }
     },
     "6a0efb26fe374dce94765d555c41c2ae": {
      "model_module": "@jupyter-widgets/base",
      "model_module_version": "1.2.0",
      "model_name": "LayoutModel",
      "state": {}
     },
     "6ab42dfa2ae144418c9afb12c542ee27": {
      "model_module": "@jupyter-widgets/controls",
      "model_module_version": "1.5.0",
      "model_name": "VBoxModel",
      "state": {
       "_dom_classes": [
        "widget-interact"
       ],
       "children": [
        "IPY_MODEL_3db11db4052746efa4669cca1ba24ca3",
        "IPY_MODEL_64d7c9f811a94f2886b3418926abfc62",
        "IPY_MODEL_155032d3a7a34297acdee78f41deb17d",
        "IPY_MODEL_f658215027f04cb2ba75123d2eceb6b2"
       ],
       "layout": "IPY_MODEL_2476126508084a04b25656723c8cfe40"
      }
     },
     "6b04253dc2204833b1a08d045fe1f624": {
      "model_module": "@jupyter-widgets/controls",
      "model_module_version": "1.5.0",
      "model_name": "SliderStyleModel",
      "state": {
       "description_width": ""
      }
     },
     "6c31d49480de431896c5fad51710c7fc": {
      "model_module": "@jupyter-widgets/base",
      "model_module_version": "1.2.0",
      "model_name": "LayoutModel",
      "state": {}
     },
     "6db52190285a4e33bfcc5048fba69e15": {
      "model_module": "@jupyter-widgets/controls",
      "model_module_version": "1.5.0",
      "model_name": "SliderStyleModel",
      "state": {
       "description_width": ""
      }
     },
     "6ddee12c9c5444188dff2710a985bbf2": {
      "model_module": "@jupyter-widgets/base",
      "model_module_version": "1.2.0",
      "model_name": "LayoutModel",
      "state": {}
     },
     "7022e275f6a8476c8dfc47337bed3cf4": {
      "model_module": "@jupyter-widgets/output",
      "model_module_version": "1.0.0",
      "model_name": "OutputModel",
      "state": {
       "layout": "IPY_MODEL_3978787f1fe74913aaea2ea9a68a46cf"
      }
     },
     "73987a3146664bdb8d6f39d6088f6410": {
      "model_module": "@jupyter-widgets/base",
      "model_module_version": "1.2.0",
      "model_name": "LayoutModel",
      "state": {}
     },
     "762792f8cad6430ea47ff331eb8cfaaf": {
      "model_module": "@jupyter-widgets/output",
      "model_module_version": "1.0.0",
      "model_name": "OutputModel",
      "state": {
       "layout": "IPY_MODEL_0fbc15984e384b869dc3e8f4e15e17c7"
      }
     },
     "765d6ba078c74bc78ad0cf2f36356b2a": {
      "model_module": "@jupyter-widgets/controls",
      "model_module_version": "1.5.0",
      "model_name": "FloatSliderModel",
      "state": {
       "description": "V",
       "layout": "IPY_MODEL_0426472a84cc41ca963a04c7a20d0532",
       "max": 16,
       "min": 2,
       "step": 0.1,
       "style": "IPY_MODEL_60f9bd4195f546b8a7210ae7189d4a51",
       "value": 12
      }
     },
     "77a664a15f134b948d00629883887c8d": {
      "model_module": "@jupyter-widgets/base",
      "model_module_version": "1.2.0",
      "model_name": "LayoutModel",
      "state": {}
     },
     "7a4500d1ca184e30a9ec2149b9ea627c": {
      "model_module": "@jupyter-widgets/controls",
      "model_module_version": "1.5.0",
      "model_name": "SliderStyleModel",
      "state": {
       "description_width": ""
      }
     },
     "7a48af3b7aef42d087dff18e6bd9c464": {
      "model_module": "@jupyter-widgets/controls",
      "model_module_version": "1.5.0",
      "model_name": "VBoxModel",
      "state": {
       "_dom_classes": [
        "widget-interact"
       ],
       "children": [
        "IPY_MODEL_beeb58fe989a4f06b78180a34690f0e1",
        "IPY_MODEL_6857d4bb340d4832ab562b133d3bb9f9",
        "IPY_MODEL_0684197412b84bd2951101024aab8d27",
        "IPY_MODEL_7f184b32b04b4f07b41260537ea79e54"
       ],
       "layout": "IPY_MODEL_ba6d77c3cb0c4cedbfd63eb3873040ea"
      }
     },
     "7dabf9a317124183b271a8aa0895cd1e": {
      "model_module": "@jupyter-widgets/output",
      "model_module_version": "1.0.0",
      "model_name": "OutputModel",
      "state": {
       "layout": "IPY_MODEL_189aa44d9e4c4c93b53d41301a090dcb"
      }
     },
     "7f184b32b04b4f07b41260537ea79e54": {
      "model_module": "@jupyter-widgets/output",
      "model_module_version": "1.0.0",
      "model_name": "OutputModel",
      "state": {
       "layout": "IPY_MODEL_876575ed45394224a6209776b4d95840"
      }
     },
     "8102e93f0f24435fb5b3d4cf283b5804": {
      "model_module": "@jupyter-widgets/controls",
      "model_module_version": "1.5.0",
      "model_name": "VBoxModel",
      "state": {
       "_dom_classes": [
        "widget-interact"
       ],
       "children": [
        "IPY_MODEL_c1acee4afdc246d294ef898bd16facdc",
        "IPY_MODEL_955fedd2e1654e57b340d468f4fe8498",
        "IPY_MODEL_d50758d2abc14f798bbdc4d33c7ca91e",
        "IPY_MODEL_c87eb3e3100c4c92a4a8d664d3044307"
       ],
       "layout": "IPY_MODEL_6ddee12c9c5444188dff2710a985bbf2"
      }
     },
     "83de49a7bb0d4cbd8e9ab4a4538612f3": {
      "model_module": "@jupyter-widgets/controls",
      "model_module_version": "1.5.0",
      "model_name": "VBoxModel",
      "state": {
       "_dom_classes": [
        "widget-interact"
       ],
       "children": [
        "IPY_MODEL_e7ee727a023c4198a2a4d3d0e393b4d9",
        "IPY_MODEL_765d6ba078c74bc78ad0cf2f36356b2a",
        "IPY_MODEL_e547f03643054f538738dc888489be9d",
        "IPY_MODEL_c455c9d51c7f4bc3912e1295cb3afa7f"
       ],
       "layout": "IPY_MODEL_77a664a15f134b948d00629883887c8d"
      }
     },
     "876575ed45394224a6209776b4d95840": {
      "model_module": "@jupyter-widgets/base",
      "model_module_version": "1.2.0",
      "model_name": "LayoutModel",
      "state": {}
     },
     "87751c76cb4049ef97e6e58f31ea5982": {
      "model_module": "@jupyter-widgets/base",
      "model_module_version": "1.2.0",
      "model_name": "LayoutModel",
      "state": {}
     },
     "886cf9fe558744338713d7e1fda61b03": {
      "model_module": "@jupyter-widgets/controls",
      "model_module_version": "1.5.0",
      "model_name": "IntSliderModel",
      "state": {
       "description": "M",
       "layout": "IPY_MODEL_34607a382c21449885b50ff5a2ed975f",
       "max": 2000,
       "min": 250,
       "step": 10,
       "style": "IPY_MODEL_0ff87625c54d4d628aa6be7e90ec3d7b",
       "value": 1510
      }
     },
     "8a075aa4842d4bd08120e348e2082e65": {
      "model_module": "@jupyter-widgets/controls",
      "model_module_version": "1.5.0",
      "model_name": "SliderStyleModel",
      "state": {
       "description_width": ""
      }
     },
     "8adb7e6ac67f4845bd7e12b132ea29c0": {
      "model_module": "@jupyter-widgets/base",
      "model_module_version": "1.2.0",
      "model_name": "LayoutModel",
      "state": {}
     },
     "8befc19f6cdf4e79baa11028ec661ad2": {
      "model_module": "@jupyter-widgets/base",
      "model_module_version": "1.2.0",
      "model_name": "LayoutModel",
      "state": {}
     },
     "8d7791d412ce40bab330824504a15821": {
      "model_module": "@jupyter-widgets/controls",
      "model_module_version": "1.5.0",
      "model_name": "IntSliderModel",
      "state": {
       "description": "M",
       "layout": "IPY_MODEL_73987a3146664bdb8d6f39d6088f6410",
       "max": 2000,
       "min": 100,
       "step": 10,
       "style": "IPY_MODEL_e090d75bce5a443facb8e65f3edaec56",
       "value": 1000
      }
     },
     "8e020db6efff4e758915d876c87b5613": {
      "model_module": "@jupyter-widgets/controls",
      "model_module_version": "1.5.0",
      "model_name": "IntSliderModel",
      "state": {
       "description": "y0",
       "layout": "IPY_MODEL_63f9d901c7794a858b89f51741352ea6",
       "max": 1000,
       "min": 250,
       "step": 5,
       "style": "IPY_MODEL_c13762c5c5a449ffb1f7e3f1063ed5c9",
       "value": 250
      }
     },
     "93be7e2b0e7f47ab9604136135d79e2b": {
      "model_module": "@jupyter-widgets/controls",
      "model_module_version": "1.5.0",
      "model_name": "SliderStyleModel",
      "state": {
       "description_width": ""
      }
     },
     "955fedd2e1654e57b340d468f4fe8498": {
      "model_module": "@jupyter-widgets/controls",
      "model_module_version": "1.5.0",
      "model_name": "FloatSliderModel",
      "state": {
       "description": "V",
       "layout": "IPY_MODEL_31530e0024a6446893712c29c5dc9734",
       "max": 16,
       "min": 0.8,
       "step": 0.1,
       "style": "IPY_MODEL_a009d05e07524fd39f8340a0a2885907",
       "value": 12
      }
     },
     "9698579ee81d411685da58328f31f9fd": {
      "model_module": "@jupyter-widgets/controls",
      "model_module_version": "1.5.0",
      "model_name": "SliderStyleModel",
      "state": {
       "description_width": ""
      }
     },
     "9841dae8eea6473f91ddf63f054fc138": {
      "model_module": "@jupyter-widgets/controls",
      "model_module_version": "1.5.0",
      "model_name": "VBoxModel",
      "state": {
       "_dom_classes": [
        "widget-interact"
       ],
       "children": [
        "IPY_MODEL_0cd357ed6a744cf4aafb15596e2d95a0",
        "IPY_MODEL_f7945f6317a34acb9fe5a06743183a9d",
        "IPY_MODEL_a0d9708040da414dabd7eabd8a06e9a7",
        "IPY_MODEL_7dabf9a317124183b271a8aa0895cd1e"
       ],
       "layout": "IPY_MODEL_5da8c92ad3754919aeb79454fb23ddfb"
      }
     },
     "9929e3afb149459d8339abcac719b0d9": {
      "model_module": "@jupyter-widgets/controls",
      "model_module_version": "1.5.0",
      "model_name": "SliderStyleModel",
      "state": {
       "description_width": ""
      }
     },
     "9c5b4eeda9c24ac99947cd50f931cf3d": {
      "model_module": "@jupyter-widgets/base",
      "model_module_version": "1.2.0",
      "model_name": "LayoutModel",
      "state": {}
     },
     "9e920d46f319469fb11978be95aed64c": {
      "model_module": "@jupyter-widgets/controls",
      "model_module_version": "1.5.0",
      "model_name": "SliderStyleModel",
      "state": {
       "description_width": ""
      }
     },
     "9f170c583adb4d81bac766ca62254036": {
      "model_module": "@jupyter-widgets/base",
      "model_module_version": "1.2.0",
      "model_name": "LayoutModel",
      "state": {}
     },
     "a009d05e07524fd39f8340a0a2885907": {
      "model_module": "@jupyter-widgets/controls",
      "model_module_version": "1.5.0",
      "model_name": "SliderStyleModel",
      "state": {
       "description_width": ""
      }
     },
     "a0b11c6248324d289a9ad769efc20453": {
      "model_module": "@jupyter-widgets/base",
      "model_module_version": "1.2.0",
      "model_name": "LayoutModel",
      "state": {}
     },
     "a0d9708040da414dabd7eabd8a06e9a7": {
      "model_module": "@jupyter-widgets/controls",
      "model_module_version": "1.5.0",
      "model_name": "IntSliderModel",
      "state": {
       "description": "y0",
       "layout": "IPY_MODEL_c55ae050b6b74f33bb7ca8876b8ae617",
       "max": 1000,
       "min": 50,
       "step": 5,
       "style": "IPY_MODEL_25c1de1f92bc464aa920bf5bced0e029",
       "value": 50
      }
     },
     "a2a0bdb894644e019f8e5dbd9fbbf105": {
      "model_module": "@jupyter-widgets/controls",
      "model_module_version": "1.5.0",
      "model_name": "SliderStyleModel",
      "state": {
       "description_width": ""
      }
     },
     "a40ad48c698943c885ec32755a9d60fe": {
      "model_module": "@jupyter-widgets/controls",
      "model_module_version": "1.5.0",
      "model_name": "IntSliderModel",
      "state": {
       "description": "y0",
       "layout": "IPY_MODEL_01722fde7f1e4726a767fdd9d3a00602",
       "max": 1000,
       "min": 50,
       "step": 5,
       "style": "IPY_MODEL_9e920d46f319469fb11978be95aed64c",
       "value": 485
      }
     },
     "a6900206e75b45e09a2e2ee6a009839c": {
      "model_module": "@jupyter-widgets/controls",
      "model_module_version": "1.5.0",
      "model_name": "SliderStyleModel",
      "state": {
       "description_width": ""
      }
     },
     "a9a0ab712ffc4662a944d1796a69b624": {
      "model_module": "@jupyter-widgets/controls",
      "model_module_version": "1.5.0",
      "model_name": "SliderStyleModel",
      "state": {
       "description_width": ""
      }
     },
     "aafde4ddd907429e89d4f25f032e0191": {
      "model_module": "@jupyter-widgets/controls",
      "model_module_version": "1.5.0",
      "model_name": "SliderStyleModel",
      "state": {
       "description_width": ""
      }
     },
     "ab5e269e99a841369381f17a31577d7c": {
      "model_module": "@jupyter-widgets/base",
      "model_module_version": "1.2.0",
      "model_name": "LayoutModel",
      "state": {}
     },
     "ae4c08f102084384b7c1ab8892491841": {
      "model_module": "@jupyter-widgets/controls",
      "model_module_version": "1.5.0",
      "model_name": "VBoxModel",
      "state": {
       "_dom_classes": [
        "widget-interact"
       ],
       "children": [
        "IPY_MODEL_cba2d9b6bb114371b2f25b7db102f9ef",
        "IPY_MODEL_fae5601dcccf40d8ae246d905799b183",
        "IPY_MODEL_45b1c93e7ed94e35b321d0cd0563a0cd",
        "IPY_MODEL_ed2f12908b0e40d59edf0e7e6efd5c77"
       ],
       "layout": "IPY_MODEL_cfa04a5e4d4040aea94d2ab1c93dc7f5"
      }
     },
     "aebe0385024f49e599f85c6d74f08bd9": {
      "model_module": "@jupyter-widgets/controls",
      "model_module_version": "1.5.0",
      "model_name": "SliderStyleModel",
      "state": {
       "description_width": ""
      }
     },
     "aefd472098004357b486fe94c90dc9c2": {
      "model_module": "@jupyter-widgets/base",
      "model_module_version": "1.2.0",
      "model_name": "LayoutModel",
      "state": {}
     },
     "b181433014d4469badae671dab15a954": {
      "model_module": "@jupyter-widgets/controls",
      "model_module_version": "1.5.0",
      "model_name": "IntSliderModel",
      "state": {
       "description": "y0",
       "layout": "IPY_MODEL_06d5959ce78b47b8a028698746abfd81",
       "max": 1000,
       "min": 50,
       "step": 5,
       "style": "IPY_MODEL_e320293c996949548d99a7eca547bef9",
       "value": 495
      }
     },
     "b23f96b5c9034a9ba8133869e0ecf009": {
      "model_module": "@jupyter-widgets/controls",
      "model_module_version": "1.5.0",
      "model_name": "IntSliderModel",
      "state": {
       "description": "M",
       "layout": "IPY_MODEL_42cce5055a144abdade2a98035d2248d",
       "max": 2000,
       "min": 250,
       "step": 10,
       "style": "IPY_MODEL_54a4e78e32034147921199336392169c",
       "value": 1000
      }
     },
     "b373d8f3f0d5456fb545e7603c0fbc0a": {
      "model_module": "@jupyter-widgets/controls",
      "model_module_version": "1.5.0",
      "model_name": "VBoxModel",
      "state": {
       "_dom_classes": [
        "widget-interact"
       ],
       "children": [
        "IPY_MODEL_fb5b00b9494f4ce8b4fea35fb8e528d5",
        "IPY_MODEL_02c53153eb5d45688642be50ccb18f34",
        "IPY_MODEL_ca30e82190734e6fa1a8af111d8e73c0",
        "IPY_MODEL_52c01293ca1546239ba901da85df142f"
       ],
       "layout": "IPY_MODEL_52a99af8ac4f4cc88ff6133b32793c0c"
      }
     },
     "b748c101385b421bb3fff14238f3d5fc": {
      "model_module": "@jupyter-widgets/base",
      "model_module_version": "1.2.0",
      "model_name": "LayoutModel",
      "state": {}
     },
     "b74fb1b45b0a4f37ad2d62ce14dc9e32": {
      "model_module": "@jupyter-widgets/base",
      "model_module_version": "1.2.0",
      "model_name": "LayoutModel",
      "state": {}
     },
     "b77b73236d5944548c8a7da5b7f69097": {
      "model_module": "@jupyter-widgets/base",
      "model_module_version": "1.2.0",
      "model_name": "LayoutModel",
      "state": {}
     },
     "b7f643eedd304d0fb278793ba59bb0d7": {
      "model_module": "@jupyter-widgets/controls",
      "model_module_version": "1.5.0",
      "model_name": "SliderStyleModel",
      "state": {
       "description_width": ""
      }
     },
     "b81d874ba92345d2b2286d3e8c29df16": {
      "model_module": "@jupyter-widgets/base",
      "model_module_version": "1.2.0",
      "model_name": "LayoutModel",
      "state": {}
     },
     "ba4ccf5a891c45e89ae8c76e84df1377": {
      "model_module": "@jupyter-widgets/base",
      "model_module_version": "1.2.0",
      "model_name": "LayoutModel",
      "state": {}
     },
     "ba6d77c3cb0c4cedbfd63eb3873040ea": {
      "model_module": "@jupyter-widgets/base",
      "model_module_version": "1.2.0",
      "model_name": "LayoutModel",
      "state": {}
     },
     "bc3af383510349f39c5bf695f47cf52e": {
      "model_module": "@jupyter-widgets/controls",
      "model_module_version": "1.5.0",
      "model_name": "SliderStyleModel",
      "state": {
       "description_width": ""
      }
     },
     "beab4cac0f874a0da4d5e81ce23127c0": {
      "model_module": "@jupyter-widgets/controls",
      "model_module_version": "1.5.0",
      "model_name": "SliderStyleModel",
      "state": {
       "description_width": ""
      }
     },
     "beeb58fe989a4f06b78180a34690f0e1": {
      "model_module": "@jupyter-widgets/controls",
      "model_module_version": "1.5.0",
      "model_name": "IntSliderModel",
      "state": {
       "description": "M",
       "layout": "IPY_MODEL_e0e77434780d4c07a8601fe9dbe0ffe0",
       "max": 2000,
       "min": 250,
       "step": 10,
       "style": "IPY_MODEL_0bfaff8aeebd46f4b1934270dc5821f4",
       "value": 1000
      }
     },
     "c0b4af68733b43be904f3d3f85f5cfa7": {
      "model_module": "@jupyter-widgets/controls",
      "model_module_version": "1.5.0",
      "model_name": "SliderStyleModel",
      "state": {
       "description_width": ""
      }
     },
     "c13762c5c5a449ffb1f7e3f1063ed5c9": {
      "model_module": "@jupyter-widgets/controls",
      "model_module_version": "1.5.0",
      "model_name": "SliderStyleModel",
      "state": {
       "description_width": ""
      }
     },
     "c1acee4afdc246d294ef898bd16facdc": {
      "model_module": "@jupyter-widgets/controls",
      "model_module_version": "1.5.0",
      "model_name": "IntSliderModel",
      "state": {
       "description": "M",
       "layout": "IPY_MODEL_287cd367abd94c6992bb09daa472b211",
       "max": 2000,
       "min": 100,
       "step": 10,
       "style": "IPY_MODEL_0f9873ea044c4cd0b84bca0f63392f23",
       "value": 1000
      }
     },
     "c34300f22580441da1cff26ebfd100da": {
      "model_module": "@jupyter-widgets/output",
      "model_module_version": "1.0.0",
      "model_name": "OutputModel",
      "state": {
       "layout": "IPY_MODEL_f71a36c1202049fd895699395ba5ad87"
      }
     },
     "c455c9d51c7f4bc3912e1295cb3afa7f": {
      "model_module": "@jupyter-widgets/output",
      "model_module_version": "1.0.0",
      "model_name": "OutputModel",
      "state": {
       "layout": "IPY_MODEL_fdf7c9ad43a34cb49788a2487f7cafb5"
      }
     },
     "c55ae050b6b74f33bb7ca8876b8ae617": {
      "model_module": "@jupyter-widgets/base",
      "model_module_version": "1.2.0",
      "model_name": "LayoutModel",
      "state": {}
     },
     "c7ce90fb2d74453a86ce76372ced4936": {
      "model_module": "@jupyter-widgets/base",
      "model_module_version": "1.2.0",
      "model_name": "LayoutModel",
      "state": {}
     },
     "c87eb3e3100c4c92a4a8d664d3044307": {
      "model_module": "@jupyter-widgets/output",
      "model_module_version": "1.0.0",
      "model_name": "OutputModel",
      "state": {
       "layout": "IPY_MODEL_628d1045dde84584bb24be7fec0e9778"
      }
     },
     "ca30e82190734e6fa1a8af111d8e73c0": {
      "model_module": "@jupyter-widgets/controls",
      "model_module_version": "1.5.0",
      "model_name": "IntSliderModel",
      "state": {
       "description": "y0",
       "layout": "IPY_MODEL_ab5e269e99a841369381f17a31577d7c",
       "max": 1000,
       "min": 50,
       "step": 5,
       "style": "IPY_MODEL_9698579ee81d411685da58328f31f9fd",
       "value": 50
      }
     },
     "ca44ad27c46749378897d0ae18503d7a": {
      "model_module": "@jupyter-widgets/controls",
      "model_module_version": "1.5.0",
      "model_name": "IntSliderModel",
      "state": {
       "description": "y0",
       "layout": "IPY_MODEL_0bbcc7350b6343d5a9bf1534226a2b59",
       "max": 1000,
       "min": 50,
       "step": 5,
       "style": "IPY_MODEL_08cd0337ff1f49c68055ff1209621d27",
       "value": 580
      }
     },
     "cba2d9b6bb114371b2f25b7db102f9ef": {
      "model_module": "@jupyter-widgets/controls",
      "model_module_version": "1.5.0",
      "model_name": "IntSliderModel",
      "state": {
       "description": "M",
       "layout": "IPY_MODEL_55170df18abe4f5f97112a0e4d83d51d",
       "max": 2000,
       "min": 100,
       "step": 10,
       "style": "IPY_MODEL_6b04253dc2204833b1a08d045fe1f624",
       "value": 1000
      }
     },
     "cc9bdbc5ac9540b9ba207dc7655b42d7": {
      "model_module": "@jupyter-widgets/output",
      "model_module_version": "1.0.0",
      "model_name": "OutputModel",
      "state": {
       "layout": "IPY_MODEL_1db02c5639c14fb8b9cd2fac9eaf5bfd"
      }
     },
     "cf4703dc555c4bed891a8e7989c20195": {
      "model_module": "@jupyter-widgets/controls",
      "model_module_version": "1.5.0",
      "model_name": "SliderStyleModel",
      "state": {
       "description_width": ""
      }
     },
     "cfa04a5e4d4040aea94d2ab1c93dc7f5": {
      "model_module": "@jupyter-widgets/base",
      "model_module_version": "1.2.0",
      "model_name": "LayoutModel",
      "state": {}
     },
     "d15bec5610154b83bbb0fcb958be3026": {
      "model_module": "@jupyter-widgets/base",
      "model_module_version": "1.2.0",
      "model_name": "LayoutModel",
      "state": {}
     },
     "d257c31226b0447aa2ae805339056610": {
      "model_module": "@jupyter-widgets/controls",
      "model_module_version": "1.5.0",
      "model_name": "IntSliderModel",
      "state": {
       "description": "M",
       "layout": "IPY_MODEL_ba4ccf5a891c45e89ae8c76e84df1377",
       "max": 2000,
       "min": 250,
       "step": 10,
       "style": "IPY_MODEL_3fc71e17d8cd4291b0762f12ae0e74f7",
       "value": 1000
      }
     },
     "d50758d2abc14f798bbdc4d33c7ca91e": {
      "model_module": "@jupyter-widgets/controls",
      "model_module_version": "1.5.0",
      "model_name": "IntSliderModel",
      "state": {
       "description": "y0",
       "layout": "IPY_MODEL_6a0efb26fe374dce94765d555c41c2ae",
       "max": 1000,
       "min": 50,
       "step": 5,
       "style": "IPY_MODEL_c0b4af68733b43be904f3d3f85f5cfa7",
       "value": 50
      }
     },
     "d58f8107f81b4a1db4f65fb91669c47f": {
      "model_module": "@jupyter-widgets/output",
      "model_module_version": "1.0.0",
      "model_name": "OutputModel",
      "state": {
       "layout": "IPY_MODEL_3b72653a77f043eb939004aff6944efb"
      }
     },
     "dbc7d1bac8344c0aa0affbbfa51938e0": {
      "model_module": "@jupyter-widgets/base",
      "model_module_version": "1.2.0",
      "model_name": "LayoutModel",
      "state": {}
     },
     "dc94f9a67770485593550c2c1f4a5c42": {
      "model_module": "@jupyter-widgets/base",
      "model_module_version": "1.2.0",
      "model_name": "LayoutModel",
      "state": {}
     },
     "dd13fd0e2d4746e58715f143e27b85b3": {
      "model_module": "@jupyter-widgets/output",
      "model_module_version": "1.0.0",
      "model_name": "OutputModel",
      "state": {
       "layout": "IPY_MODEL_c7ce90fb2d74453a86ce76372ced4936"
      }
     },
     "ddfbd15e22b14699b878d674c8243f27": {
      "model_module": "@jupyter-widgets/base",
      "model_module_version": "1.2.0",
      "model_name": "LayoutModel",
      "state": {}
     },
     "df7c2cee885a4030a71694b9b432d9d9": {
      "model_module": "@jupyter-widgets/controls",
      "model_module_version": "1.5.0",
      "model_name": "IntSliderModel",
      "state": {
       "description": "M",
       "layout": "IPY_MODEL_ddfbd15e22b14699b878d674c8243f27",
       "max": 2000,
       "min": 100,
       "step": 10,
       "style": "IPY_MODEL_7a4500d1ca184e30a9ec2149b9ea627c",
       "value": 2000
      }
     },
     "e090d75bce5a443facb8e65f3edaec56": {
      "model_module": "@jupyter-widgets/controls",
      "model_module_version": "1.5.0",
      "model_name": "SliderStyleModel",
      "state": {
       "description_width": ""
      }
     },
     "e0e77434780d4c07a8601fe9dbe0ffe0": {
      "model_module": "@jupyter-widgets/base",
      "model_module_version": "1.2.0",
      "model_name": "LayoutModel",
      "state": {}
     },
     "e0eeedb6f58742b2bb808d4ff0690b86": {
      "model_module": "@jupyter-widgets/controls",
      "model_module_version": "1.5.0",
      "model_name": "SliderStyleModel",
      "state": {
       "description_width": ""
      }
     },
     "e1b0573952fd48b0b950b8bda76d667a": {
      "model_module": "@jupyter-widgets/controls",
      "model_module_version": "1.5.0",
      "model_name": "SliderStyleModel",
      "state": {
       "description_width": ""
      }
     },
     "e1b4728375364dafab45e1beb81b4065": {
      "model_module": "@jupyter-widgets/base",
      "model_module_version": "1.2.0",
      "model_name": "LayoutModel",
      "state": {}
     },
     "e320293c996949548d99a7eca547bef9": {
      "model_module": "@jupyter-widgets/controls",
      "model_module_version": "1.5.0",
      "model_name": "SliderStyleModel",
      "state": {
       "description_width": ""
      }
     },
     "e547f03643054f538738dc888489be9d": {
      "model_module": "@jupyter-widgets/controls",
      "model_module_version": "1.5.0",
      "model_name": "IntSliderModel",
      "state": {
       "description": "y0",
       "layout": "IPY_MODEL_1d835be9021749f3927f75ef2b656149",
       "max": 1000,
       "min": 250,
       "step": 5,
       "style": "IPY_MODEL_e0eeedb6f58742b2bb808d4ff0690b86",
       "value": 250
      }
     },
     "e6b87574b4a741ebbf97d6f5cdfceccc": {
      "model_module": "@jupyter-widgets/controls",
      "model_module_version": "1.5.0",
      "model_name": "VBoxModel",
      "state": {
       "_dom_classes": [
        "widget-interact"
       ],
       "children": [
        "IPY_MODEL_8d7791d412ce40bab330824504a15821",
        "IPY_MODEL_4a6746987bb14553a22e117f2bd66ae3",
        "IPY_MODEL_b181433014d4469badae671dab15a954",
        "IPY_MODEL_294c934efe674a1fa043b3ea676a34af"
       ],
       "layout": "IPY_MODEL_aefd472098004357b486fe94c90dc9c2"
      }
     },
     "e7ee727a023c4198a2a4d3d0e393b4d9": {
      "model_module": "@jupyter-widgets/controls",
      "model_module_version": "1.5.0",
      "model_name": "IntSliderModel",
      "state": {
       "description": "M",
       "layout": "IPY_MODEL_9f170c583adb4d81bac766ca62254036",
       "max": 2000,
       "min": 250,
       "step": 10,
       "style": "IPY_MODEL_a6900206e75b45e09a2e2ee6a009839c",
       "value": 1000
      }
     },
     "eb4e885672e94373a3b8455278e87b26": {
      "model_module": "@jupyter-widgets/base",
      "model_module_version": "1.2.0",
      "model_name": "LayoutModel",
      "state": {}
     },
     "ebbcd98eb306424492b1910f43a34b22": {
      "model_module": "@jupyter-widgets/controls",
      "model_module_version": "1.5.0",
      "model_name": "SliderStyleModel",
      "state": {
       "description_width": ""
      }
     },
     "ed2f12908b0e40d59edf0e7e6efd5c77": {
      "model_module": "@jupyter-widgets/output",
      "model_module_version": "1.0.0",
      "model_name": "OutputModel",
      "state": {
       "layout": "IPY_MODEL_b81d874ba92345d2b2286d3e8c29df16"
      }
     },
     "ed3ed0bb24844391a7316e80d2cc39b1": {
      "model_module": "@jupyter-widgets/controls",
      "model_module_version": "1.5.0",
      "model_name": "VBoxModel",
      "state": {
       "_dom_classes": [
        "widget-interact"
       ],
       "children": [
        "IPY_MODEL_66591c52d1494ce6a8781f5c41bd49e9",
        "IPY_MODEL_1821cc80c03548e4a10c5d3cd10555ca",
        "IPY_MODEL_2a8bc1c76c3d44ddbc14726f5f0b2399",
        "IPY_MODEL_7022e275f6a8476c8dfc47337bed3cf4"
       ],
       "layout": "IPY_MODEL_128841b01a2a436d86a2157757da67fc"
      }
     },
     "f188c2d1121c4a559b25a316605bd558": {
      "model_module": "@jupyter-widgets/controls",
      "model_module_version": "1.5.0",
      "model_name": "SliderStyleModel",
      "state": {
       "description_width": ""
      }
     },
     "f658215027f04cb2ba75123d2eceb6b2": {
      "model_module": "@jupyter-widgets/output",
      "model_module_version": "1.0.0",
      "model_name": "OutputModel",
      "state": {
       "layout": "IPY_MODEL_87751c76cb4049ef97e6e58f31ea5982"
      }
     },
     "f71a36c1202049fd895699395ba5ad87": {
      "model_module": "@jupyter-widgets/base",
      "model_module_version": "1.2.0",
      "model_name": "LayoutModel",
      "state": {}
     },
     "f7945f6317a34acb9fe5a06743183a9d": {
      "model_module": "@jupyter-widgets/controls",
      "model_module_version": "1.5.0",
      "model_name": "FloatSliderModel",
      "state": {
       "description": "V",
       "layout": "IPY_MODEL_46c3334759ea41f296f5b83ecdb0f5f4",
       "max": 16,
       "min": 0.8,
       "step": 0.1,
       "style": "IPY_MODEL_b7f643eedd304d0fb278793ba59bb0d7",
       "value": 12
      }
     },
     "f98fd46f2bf5490388683a1db8ed0062": {
      "model_module": "@jupyter-widgets/controls",
      "model_module_version": "1.5.0",
      "model_name": "FloatSliderModel",
      "state": {
       "description": "V",
       "layout": "IPY_MODEL_2ab33c1d074541888c555755e2f5395a",
       "max": 16,
       "min": 2,
       "step": 0.1,
       "style": "IPY_MODEL_47bedbeb64dc4ad098682f400b774134",
       "value": 12
      }
     },
     "fae5601dcccf40d8ae246d905799b183": {
      "model_module": "@jupyter-widgets/controls",
      "model_module_version": "1.5.0",
      "model_name": "FloatSliderModel",
      "state": {
       "description": "V",
       "layout": "IPY_MODEL_9c5b4eeda9c24ac99947cd50f931cf3d",
       "max": 16,
       "min": 0.8,
       "step": 0.1,
       "style": "IPY_MODEL_ebbcd98eb306424492b1910f43a34b22",
       "value": 12
      }
     },
     "fb5b00b9494f4ce8b4fea35fb8e528d5": {
      "model_module": "@jupyter-widgets/controls",
      "model_module_version": "1.5.0",
      "model_name": "IntSliderModel",
      "state": {
       "description": "M",
       "layout": "IPY_MODEL_52fba609c70a4513b5f8896980a5dd91",
       "max": 2000,
       "min": 100,
       "step": 10,
       "style": "IPY_MODEL_93be7e2b0e7f47ab9604136135d79e2b",
       "value": 1000
      }
     },
     "fc53b97bbf4246a282a3b0749f98510b": {
      "model_module": "@jupyter-widgets/controls",
      "model_module_version": "1.5.0",
      "model_name": "VBoxModel",
      "state": {
       "_dom_classes": [
        "widget-interact"
       ],
       "children": [
        "IPY_MODEL_103e8cfb466d4caeb1f03d1a76755ec1",
        "IPY_MODEL_4731307daed142148f87fd037c130a3e",
        "IPY_MODEL_a40ad48c698943c885ec32755a9d60fe",
        "IPY_MODEL_762792f8cad6430ea47ff331eb8cfaaf"
       ],
       "layout": "IPY_MODEL_6507fe6bb4c846e7946f4edebe3460fc"
      }
     },
     "fdf7c9ad43a34cb49788a2487f7cafb5": {
      "model_module": "@jupyter-widgets/base",
      "model_module_version": "1.2.0",
      "model_name": "LayoutModel",
      "state": {}
     }
    },
    "version_major": 2,
    "version_minor": 0
   }
  }
 },
 "nbformat": 4,
 "nbformat_minor": 4
}
