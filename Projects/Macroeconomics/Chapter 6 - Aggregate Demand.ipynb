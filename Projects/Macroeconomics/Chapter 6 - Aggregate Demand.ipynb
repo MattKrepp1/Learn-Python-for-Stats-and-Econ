{
 "cells": [
  {
   "cell_type": "markdown",
   "metadata": {},
   "source": [
    "# Aggregate Demand\n",
    "\n",
    "Macroeconomics is the study of all economic activity. This includes complexities that arise in the course of production and exchange. It also includes analysis using statistics that represent the sum of all economic activity or activity in different sectors and of different kinds.\n",
    "Although data reflecting economic activity cannot be reduced to aggregates without losing information, aggregates themselves contain information that is unavailable at the level of analysis of particular events or of particular firms or sectors. Consideration of aggregate values allows one to consider the details of macroeconomic equilibrium, as well as macroeconomic disequilibrium. \n",
    "\n",
    "## The Money Market and the Goods Market\n",
    "\n",
    "The equation of exchange is a golden key that unlocks the secrets of the macroeconomy. It links changes in the money market to changes in the market for non-money goods, and vice versa, by defining aggregate demand as $MV$. The aggregate demand curve assume a given level of expenditures. This value is defined across different combinations of $P$ and $y$. As the value of $P$ increases, the value of $y$ falls, thereby maintaining the given value of total expenditures.\n",
    "In this chapter, we will use the equation of exchange to understand how changes in the goods market lead to changes in the market for non-money goods.  For simplicity sake, we will assume that there is only one good that acts as money. We will discuss in a later chapter that analysis can include other moneys.\n",
    "\n",
    "> Figure 1: Market for Non-money Goods\n",
    "\n",
    "In the previous chapter we used the equation of exchange to define changes the supply of money that can result from changes in demand for money. For the sake of simplicity, we start with a market whose supply of money is perfectly inelastic, as compared with a commodity money whose supply is upward sloping. A perfectly inelastic money supply allows us to consider money as a choice variable, much as base money is the result of the policy of a monetary authority. Changes in the price of money will therefore not affect the quantity of money supplied to the market. With a perfectly inelastic quantity of money, $M$, is not a function of demand for money . Changes in demand for money impact the price of money and, therefore, the price level. \n",
    "\n",
    "Aside from exogenous changes in supply, we will focus on the effect of changes in portfolio demand, $k$, for money. Recall that this is the inverse of the average velocity of money:\n",
    "\n",
    ">$k=\\frac{1}{V}$\n",
    "\n",
    "A change in the quantity of money or a change in portfolio demand for money will shift in aggregate demand, thereby shifting the price level in the long-run.\n",
    "\n",
    "Try working witht the plot yourself!"
   ]
  },
  {
   "cell_type": "code",
   "execution_count": 10,
   "metadata": {},
   "outputs": [
    {
     "data": {
      "application/javascript": [
       "/* Put everything inside the global mpl namespace */\n",
       "window.mpl = {};\n",
       "\n",
       "\n",
       "mpl.get_websocket_type = function() {\n",
       "    if (typeof(WebSocket) !== 'undefined') {\n",
       "        return WebSocket;\n",
       "    } else if (typeof(MozWebSocket) !== 'undefined') {\n",
       "        return MozWebSocket;\n",
       "    } else {\n",
       "        alert('Your browser does not have WebSocket support. ' +\n",
       "              'Please try Chrome, Safari or Firefox ≥ 6. ' +\n",
       "              'Firefox 4 and 5 are also supported but you ' +\n",
       "              'have to enable WebSockets in about:config.');\n",
       "    };\n",
       "}\n",
       "\n",
       "mpl.figure = function(figure_id, websocket, ondownload, parent_element) {\n",
       "    this.id = figure_id;\n",
       "\n",
       "    this.ws = websocket;\n",
       "\n",
       "    this.supports_binary = (this.ws.binaryType != undefined);\n",
       "\n",
       "    if (!this.supports_binary) {\n",
       "        var warnings = document.getElementById(\"mpl-warnings\");\n",
       "        if (warnings) {\n",
       "            warnings.style.display = 'block';\n",
       "            warnings.textContent = (\n",
       "                \"This browser does not support binary websocket messages. \" +\n",
       "                    \"Performance may be slow.\");\n",
       "        }\n",
       "    }\n",
       "\n",
       "    this.imageObj = new Image();\n",
       "\n",
       "    this.context = undefined;\n",
       "    this.message = undefined;\n",
       "    this.canvas = undefined;\n",
       "    this.rubberband_canvas = undefined;\n",
       "    this.rubberband_context = undefined;\n",
       "    this.format_dropdown = undefined;\n",
       "\n",
       "    this.image_mode = 'full';\n",
       "\n",
       "    this.root = $('<div/>');\n",
       "    this._root_extra_style(this.root)\n",
       "    this.root.attr('style', 'display: inline-block');\n",
       "\n",
       "    $(parent_element).append(this.root);\n",
       "\n",
       "    this._init_header(this);\n",
       "    this._init_canvas(this);\n",
       "    this._init_toolbar(this);\n",
       "\n",
       "    var fig = this;\n",
       "\n",
       "    this.waiting = false;\n",
       "\n",
       "    this.ws.onopen =  function () {\n",
       "            fig.send_message(\"supports_binary\", {value: fig.supports_binary});\n",
       "            fig.send_message(\"send_image_mode\", {});\n",
       "            if (mpl.ratio != 1) {\n",
       "                fig.send_message(\"set_dpi_ratio\", {'dpi_ratio': mpl.ratio});\n",
       "            }\n",
       "            fig.send_message(\"refresh\", {});\n",
       "        }\n",
       "\n",
       "    this.imageObj.onload = function() {\n",
       "            if (fig.image_mode == 'full') {\n",
       "                // Full images could contain transparency (where diff images\n",
       "                // almost always do), so we need to clear the canvas so that\n",
       "                // there is no ghosting.\n",
       "                fig.context.clearRect(0, 0, fig.canvas.width, fig.canvas.height);\n",
       "            }\n",
       "            fig.context.drawImage(fig.imageObj, 0, 0);\n",
       "        };\n",
       "\n",
       "    this.imageObj.onunload = function() {\n",
       "        fig.ws.close();\n",
       "    }\n",
       "\n",
       "    this.ws.onmessage = this._make_on_message_function(this);\n",
       "\n",
       "    this.ondownload = ondownload;\n",
       "}\n",
       "\n",
       "mpl.figure.prototype._init_header = function() {\n",
       "    var titlebar = $(\n",
       "        '<div class=\"ui-dialog-titlebar ui-widget-header ui-corner-all ' +\n",
       "        'ui-helper-clearfix\"/>');\n",
       "    var titletext = $(\n",
       "        '<div class=\"ui-dialog-title\" style=\"width: 100%; ' +\n",
       "        'text-align: center; padding: 3px;\"/>');\n",
       "    titlebar.append(titletext)\n",
       "    this.root.append(titlebar);\n",
       "    this.header = titletext[0];\n",
       "}\n",
       "\n",
       "\n",
       "\n",
       "mpl.figure.prototype._canvas_extra_style = function(canvas_div) {\n",
       "\n",
       "}\n",
       "\n",
       "\n",
       "mpl.figure.prototype._root_extra_style = function(canvas_div) {\n",
       "\n",
       "}\n",
       "\n",
       "mpl.figure.prototype._init_canvas = function() {\n",
       "    var fig = this;\n",
       "\n",
       "    var canvas_div = $('<div/>');\n",
       "\n",
       "    canvas_div.attr('style', 'position: relative; clear: both; outline: 0');\n",
       "\n",
       "    function canvas_keyboard_event(event) {\n",
       "        return fig.key_event(event, event['data']);\n",
       "    }\n",
       "\n",
       "    canvas_div.keydown('key_press', canvas_keyboard_event);\n",
       "    canvas_div.keyup('key_release', canvas_keyboard_event);\n",
       "    this.canvas_div = canvas_div\n",
       "    this._canvas_extra_style(canvas_div)\n",
       "    this.root.append(canvas_div);\n",
       "\n",
       "    var canvas = $('<canvas/>');\n",
       "    canvas.addClass('mpl-canvas');\n",
       "    canvas.attr('style', \"left: 0; top: 0; z-index: 0; outline: 0\")\n",
       "\n",
       "    this.canvas = canvas[0];\n",
       "    this.context = canvas[0].getContext(\"2d\");\n",
       "\n",
       "    var backingStore = this.context.backingStorePixelRatio ||\n",
       "\tthis.context.webkitBackingStorePixelRatio ||\n",
       "\tthis.context.mozBackingStorePixelRatio ||\n",
       "\tthis.context.msBackingStorePixelRatio ||\n",
       "\tthis.context.oBackingStorePixelRatio ||\n",
       "\tthis.context.backingStorePixelRatio || 1;\n",
       "\n",
       "    mpl.ratio = (window.devicePixelRatio || 1) / backingStore;\n",
       "\n",
       "    var rubberband = $('<canvas/>');\n",
       "    rubberband.attr('style', \"position: absolute; left: 0; top: 0; z-index: 1;\")\n",
       "\n",
       "    var pass_mouse_events = true;\n",
       "\n",
       "    canvas_div.resizable({\n",
       "        start: function(event, ui) {\n",
       "            pass_mouse_events = false;\n",
       "        },\n",
       "        resize: function(event, ui) {\n",
       "            fig.request_resize(ui.size.width, ui.size.height);\n",
       "        },\n",
       "        stop: function(event, ui) {\n",
       "            pass_mouse_events = true;\n",
       "            fig.request_resize(ui.size.width, ui.size.height);\n",
       "        },\n",
       "    });\n",
       "\n",
       "    function mouse_event_fn(event) {\n",
       "        if (pass_mouse_events)\n",
       "            return fig.mouse_event(event, event['data']);\n",
       "    }\n",
       "\n",
       "    rubberband.mousedown('button_press', mouse_event_fn);\n",
       "    rubberband.mouseup('button_release', mouse_event_fn);\n",
       "    // Throttle sequential mouse events to 1 every 20ms.\n",
       "    rubberband.mousemove('motion_notify', mouse_event_fn);\n",
       "\n",
       "    rubberband.mouseenter('figure_enter', mouse_event_fn);\n",
       "    rubberband.mouseleave('figure_leave', mouse_event_fn);\n",
       "\n",
       "    canvas_div.on(\"wheel\", function (event) {\n",
       "        event = event.originalEvent;\n",
       "        event['data'] = 'scroll'\n",
       "        if (event.deltaY < 0) {\n",
       "            event.step = 1;\n",
       "        } else {\n",
       "            event.step = -1;\n",
       "        }\n",
       "        mouse_event_fn(event);\n",
       "    });\n",
       "\n",
       "    canvas_div.append(canvas);\n",
       "    canvas_div.append(rubberband);\n",
       "\n",
       "    this.rubberband = rubberband;\n",
       "    this.rubberband_canvas = rubberband[0];\n",
       "    this.rubberband_context = rubberband[0].getContext(\"2d\");\n",
       "    this.rubberband_context.strokeStyle = \"#000000\";\n",
       "\n",
       "    this._resize_canvas = function(width, height) {\n",
       "        // Keep the size of the canvas, canvas container, and rubber band\n",
       "        // canvas in synch.\n",
       "        canvas_div.css('width', width)\n",
       "        canvas_div.css('height', height)\n",
       "\n",
       "        canvas.attr('width', width * mpl.ratio);\n",
       "        canvas.attr('height', height * mpl.ratio);\n",
       "        canvas.attr('style', 'width: ' + width + 'px; height: ' + height + 'px;');\n",
       "\n",
       "        rubberband.attr('width', width);\n",
       "        rubberband.attr('height', height);\n",
       "    }\n",
       "\n",
       "    // Set the figure to an initial 600x600px, this will subsequently be updated\n",
       "    // upon first draw.\n",
       "    this._resize_canvas(600, 600);\n",
       "\n",
       "    // Disable right mouse context menu.\n",
       "    $(this.rubberband_canvas).bind(\"contextmenu\",function(e){\n",
       "        return false;\n",
       "    });\n",
       "\n",
       "    function set_focus () {\n",
       "        canvas.focus();\n",
       "        canvas_div.focus();\n",
       "    }\n",
       "\n",
       "    window.setTimeout(set_focus, 100);\n",
       "}\n",
       "\n",
       "mpl.figure.prototype._init_toolbar = function() {\n",
       "    var fig = this;\n",
       "\n",
       "    var nav_element = $('<div/>');\n",
       "    nav_element.attr('style', 'width: 100%');\n",
       "    this.root.append(nav_element);\n",
       "\n",
       "    // Define a callback function for later on.\n",
       "    function toolbar_event(event) {\n",
       "        return fig.toolbar_button_onclick(event['data']);\n",
       "    }\n",
       "    function toolbar_mouse_event(event) {\n",
       "        return fig.toolbar_button_onmouseover(event['data']);\n",
       "    }\n",
       "\n",
       "    for(var toolbar_ind in mpl.toolbar_items) {\n",
       "        var name = mpl.toolbar_items[toolbar_ind][0];\n",
       "        var tooltip = mpl.toolbar_items[toolbar_ind][1];\n",
       "        var image = mpl.toolbar_items[toolbar_ind][2];\n",
       "        var method_name = mpl.toolbar_items[toolbar_ind][3];\n",
       "\n",
       "        if (!name) {\n",
       "            // put a spacer in here.\n",
       "            continue;\n",
       "        }\n",
       "        var button = $('<button/>');\n",
       "        button.addClass('ui-button ui-widget ui-state-default ui-corner-all ' +\n",
       "                        'ui-button-icon-only');\n",
       "        button.attr('role', 'button');\n",
       "        button.attr('aria-disabled', 'false');\n",
       "        button.click(method_name, toolbar_event);\n",
       "        button.mouseover(tooltip, toolbar_mouse_event);\n",
       "\n",
       "        var icon_img = $('<span/>');\n",
       "        icon_img.addClass('ui-button-icon-primary ui-icon');\n",
       "        icon_img.addClass(image);\n",
       "        icon_img.addClass('ui-corner-all');\n",
       "\n",
       "        var tooltip_span = $('<span/>');\n",
       "        tooltip_span.addClass('ui-button-text');\n",
       "        tooltip_span.html(tooltip);\n",
       "\n",
       "        button.append(icon_img);\n",
       "        button.append(tooltip_span);\n",
       "\n",
       "        nav_element.append(button);\n",
       "    }\n",
       "\n",
       "    var fmt_picker_span = $('<span/>');\n",
       "\n",
       "    var fmt_picker = $('<select/>');\n",
       "    fmt_picker.addClass('mpl-toolbar-option ui-widget ui-widget-content');\n",
       "    fmt_picker_span.append(fmt_picker);\n",
       "    nav_element.append(fmt_picker_span);\n",
       "    this.format_dropdown = fmt_picker[0];\n",
       "\n",
       "    for (var ind in mpl.extensions) {\n",
       "        var fmt = mpl.extensions[ind];\n",
       "        var option = $(\n",
       "            '<option/>', {selected: fmt === mpl.default_extension}).html(fmt);\n",
       "        fmt_picker.append(option);\n",
       "    }\n",
       "\n",
       "    // Add hover states to the ui-buttons\n",
       "    $( \".ui-button\" ).hover(\n",
       "        function() { $(this).addClass(\"ui-state-hover\");},\n",
       "        function() { $(this).removeClass(\"ui-state-hover\");}\n",
       "    );\n",
       "\n",
       "    var status_bar = $('<span class=\"mpl-message\"/>');\n",
       "    nav_element.append(status_bar);\n",
       "    this.message = status_bar[0];\n",
       "}\n",
       "\n",
       "mpl.figure.prototype.request_resize = function(x_pixels, y_pixels) {\n",
       "    // Request matplotlib to resize the figure. Matplotlib will then trigger a resize in the client,\n",
       "    // which will in turn request a refresh of the image.\n",
       "    this.send_message('resize', {'width': x_pixels, 'height': y_pixels});\n",
       "}\n",
       "\n",
       "mpl.figure.prototype.send_message = function(type, properties) {\n",
       "    properties['type'] = type;\n",
       "    properties['figure_id'] = this.id;\n",
       "    this.ws.send(JSON.stringify(properties));\n",
       "}\n",
       "\n",
       "mpl.figure.prototype.send_draw_message = function() {\n",
       "    if (!this.waiting) {\n",
       "        this.waiting = true;\n",
       "        this.ws.send(JSON.stringify({type: \"draw\", figure_id: this.id}));\n",
       "    }\n",
       "}\n",
       "\n",
       "\n",
       "mpl.figure.prototype.handle_save = function(fig, msg) {\n",
       "    var format_dropdown = fig.format_dropdown;\n",
       "    var format = format_dropdown.options[format_dropdown.selectedIndex].value;\n",
       "    fig.ondownload(fig, format);\n",
       "}\n",
       "\n",
       "\n",
       "mpl.figure.prototype.handle_resize = function(fig, msg) {\n",
       "    var size = msg['size'];\n",
       "    if (size[0] != fig.canvas.width || size[1] != fig.canvas.height) {\n",
       "        fig._resize_canvas(size[0], size[1]);\n",
       "        fig.send_message(\"refresh\", {});\n",
       "    };\n",
       "}\n",
       "\n",
       "mpl.figure.prototype.handle_rubberband = function(fig, msg) {\n",
       "    var x0 = msg['x0'] / mpl.ratio;\n",
       "    var y0 = (fig.canvas.height - msg['y0']) / mpl.ratio;\n",
       "    var x1 = msg['x1'] / mpl.ratio;\n",
       "    var y1 = (fig.canvas.height - msg['y1']) / mpl.ratio;\n",
       "    x0 = Math.floor(x0) + 0.5;\n",
       "    y0 = Math.floor(y0) + 0.5;\n",
       "    x1 = Math.floor(x1) + 0.5;\n",
       "    y1 = Math.floor(y1) + 0.5;\n",
       "    var min_x = Math.min(x0, x1);\n",
       "    var min_y = Math.min(y0, y1);\n",
       "    var width = Math.abs(x1 - x0);\n",
       "    var height = Math.abs(y1 - y0);\n",
       "\n",
       "    fig.rubberband_context.clearRect(\n",
       "        0, 0, fig.canvas.width / mpl.ratio, fig.canvas.height / mpl.ratio);\n",
       "\n",
       "    fig.rubberband_context.strokeRect(min_x, min_y, width, height);\n",
       "}\n",
       "\n",
       "mpl.figure.prototype.handle_figure_label = function(fig, msg) {\n",
       "    // Updates the figure title.\n",
       "    fig.header.textContent = msg['label'];\n",
       "}\n",
       "\n",
       "mpl.figure.prototype.handle_cursor = function(fig, msg) {\n",
       "    var cursor = msg['cursor'];\n",
       "    switch(cursor)\n",
       "    {\n",
       "    case 0:\n",
       "        cursor = 'pointer';\n",
       "        break;\n",
       "    case 1:\n",
       "        cursor = 'default';\n",
       "        break;\n",
       "    case 2:\n",
       "        cursor = 'crosshair';\n",
       "        break;\n",
       "    case 3:\n",
       "        cursor = 'move';\n",
       "        break;\n",
       "    }\n",
       "    fig.rubberband_canvas.style.cursor = cursor;\n",
       "}\n",
       "\n",
       "mpl.figure.prototype.handle_message = function(fig, msg) {\n",
       "    fig.message.textContent = msg['message'];\n",
       "}\n",
       "\n",
       "mpl.figure.prototype.handle_draw = function(fig, msg) {\n",
       "    // Request the server to send over a new figure.\n",
       "    fig.send_draw_message();\n",
       "}\n",
       "\n",
       "mpl.figure.prototype.handle_image_mode = function(fig, msg) {\n",
       "    fig.image_mode = msg['mode'];\n",
       "}\n",
       "\n",
       "mpl.figure.prototype.updated_canvas_event = function() {\n",
       "    // Called whenever the canvas gets updated.\n",
       "    this.send_message(\"ack\", {});\n",
       "}\n",
       "\n",
       "// A function to construct a web socket function for onmessage handling.\n",
       "// Called in the figure constructor.\n",
       "mpl.figure.prototype._make_on_message_function = function(fig) {\n",
       "    return function socket_on_message(evt) {\n",
       "        if (evt.data instanceof Blob) {\n",
       "            /* FIXME: We get \"Resource interpreted as Image but\n",
       "             * transferred with MIME type text/plain:\" errors on\n",
       "             * Chrome.  But how to set the MIME type?  It doesn't seem\n",
       "             * to be part of the websocket stream */\n",
       "            evt.data.type = \"image/png\";\n",
       "\n",
       "            /* Free the memory for the previous frames */\n",
       "            if (fig.imageObj.src) {\n",
       "                (window.URL || window.webkitURL).revokeObjectURL(\n",
       "                    fig.imageObj.src);\n",
       "            }\n",
       "\n",
       "            fig.imageObj.src = (window.URL || window.webkitURL).createObjectURL(\n",
       "                evt.data);\n",
       "            fig.updated_canvas_event();\n",
       "            fig.waiting = false;\n",
       "            return;\n",
       "        }\n",
       "        else if (typeof evt.data === 'string' && evt.data.slice(0, 21) == \"data:image/png;base64\") {\n",
       "            fig.imageObj.src = evt.data;\n",
       "            fig.updated_canvas_event();\n",
       "            fig.waiting = false;\n",
       "            return;\n",
       "        }\n",
       "\n",
       "        var msg = JSON.parse(evt.data);\n",
       "        var msg_type = msg['type'];\n",
       "\n",
       "        // Call the  \"handle_{type}\" callback, which takes\n",
       "        // the figure and JSON message as its only arguments.\n",
       "        try {\n",
       "            var callback = fig[\"handle_\" + msg_type];\n",
       "        } catch (e) {\n",
       "            console.log(\"No handler for the '\" + msg_type + \"' message type: \", msg);\n",
       "            return;\n",
       "        }\n",
       "\n",
       "        if (callback) {\n",
       "            try {\n",
       "                // console.log(\"Handling '\" + msg_type + \"' message: \", msg);\n",
       "                callback(fig, msg);\n",
       "            } catch (e) {\n",
       "                console.log(\"Exception inside the 'handler_\" + msg_type + \"' callback:\", e, e.stack, msg);\n",
       "            }\n",
       "        }\n",
       "    };\n",
       "}\n",
       "\n",
       "// from http://stackoverflow.com/questions/1114465/getting-mouse-location-in-canvas\n",
       "mpl.findpos = function(e) {\n",
       "    //this section is from http://www.quirksmode.org/js/events_properties.html\n",
       "    var targ;\n",
       "    if (!e)\n",
       "        e = window.event;\n",
       "    if (e.target)\n",
       "        targ = e.target;\n",
       "    else if (e.srcElement)\n",
       "        targ = e.srcElement;\n",
       "    if (targ.nodeType == 3) // defeat Safari bug\n",
       "        targ = targ.parentNode;\n",
       "\n",
       "    // jQuery normalizes the pageX and pageY\n",
       "    // pageX,Y are the mouse positions relative to the document\n",
       "    // offset() returns the position of the element relative to the document\n",
       "    var x = e.pageX - $(targ).offset().left;\n",
       "    var y = e.pageY - $(targ).offset().top;\n",
       "\n",
       "    return {\"x\": x, \"y\": y};\n",
       "};\n",
       "\n",
       "/*\n",
       " * return a copy of an object with only non-object keys\n",
       " * we need this to avoid circular references\n",
       " * http://stackoverflow.com/a/24161582/3208463\n",
       " */\n",
       "function simpleKeys (original) {\n",
       "  return Object.keys(original).reduce(function (obj, key) {\n",
       "    if (typeof original[key] !== 'object')\n",
       "        obj[key] = original[key]\n",
       "    return obj;\n",
       "  }, {});\n",
       "}\n",
       "\n",
       "mpl.figure.prototype.mouse_event = function(event, name) {\n",
       "    var canvas_pos = mpl.findpos(event)\n",
       "\n",
       "    if (name === 'button_press')\n",
       "    {\n",
       "        this.canvas.focus();\n",
       "        this.canvas_div.focus();\n",
       "    }\n",
       "\n",
       "    var x = canvas_pos.x * mpl.ratio;\n",
       "    var y = canvas_pos.y * mpl.ratio;\n",
       "\n",
       "    this.send_message(name, {x: x, y: y, button: event.button,\n",
       "                             step: event.step,\n",
       "                             guiEvent: simpleKeys(event)});\n",
       "\n",
       "    /* This prevents the web browser from automatically changing to\n",
       "     * the text insertion cursor when the button is pressed.  We want\n",
       "     * to control all of the cursor setting manually through the\n",
       "     * 'cursor' event from matplotlib */\n",
       "    event.preventDefault();\n",
       "    return false;\n",
       "}\n",
       "\n",
       "mpl.figure.prototype._key_event_extra = function(event, name) {\n",
       "    // Handle any extra behaviour associated with a key event\n",
       "}\n",
       "\n",
       "mpl.figure.prototype.key_event = function(event, name) {\n",
       "\n",
       "    // Prevent repeat events\n",
       "    if (name == 'key_press')\n",
       "    {\n",
       "        if (event.which === this._key)\n",
       "            return;\n",
       "        else\n",
       "            this._key = event.which;\n",
       "    }\n",
       "    if (name == 'key_release')\n",
       "        this._key = null;\n",
       "\n",
       "    var value = '';\n",
       "    if (event.ctrlKey && event.which != 17)\n",
       "        value += \"ctrl+\";\n",
       "    if (event.altKey && event.which != 18)\n",
       "        value += \"alt+\";\n",
       "    if (event.shiftKey && event.which != 16)\n",
       "        value += \"shift+\";\n",
       "\n",
       "    value += 'k';\n",
       "    value += event.which.toString();\n",
       "\n",
       "    this._key_event_extra(event, name);\n",
       "\n",
       "    this.send_message(name, {key: value,\n",
       "                             guiEvent: simpleKeys(event)});\n",
       "    return false;\n",
       "}\n",
       "\n",
       "mpl.figure.prototype.toolbar_button_onclick = function(name) {\n",
       "    if (name == 'download') {\n",
       "        this.handle_save(this, null);\n",
       "    } else {\n",
       "        this.send_message(\"toolbar_button\", {name: name});\n",
       "    }\n",
       "};\n",
       "\n",
       "mpl.figure.prototype.toolbar_button_onmouseover = function(tooltip) {\n",
       "    this.message.textContent = tooltip;\n",
       "};\n",
       "mpl.toolbar_items = [[\"Home\", \"Reset original view\", \"fa fa-home icon-home\", \"home\"], [\"Back\", \"Back to previous view\", \"fa fa-arrow-left icon-arrow-left\", \"back\"], [\"Forward\", \"Forward to next view\", \"fa fa-arrow-right icon-arrow-right\", \"forward\"], [\"\", \"\", \"\", \"\"], [\"Pan\", \"Pan axes with left mouse, zoom with right\", \"fa fa-arrows icon-move\", \"pan\"], [\"Zoom\", \"Zoom to rectangle\", \"fa fa-square-o icon-check-empty\", \"zoom\"], [\"\", \"\", \"\", \"\"], [\"Download\", \"Download plot\", \"fa fa-floppy-o icon-save\", \"download\"]];\n",
       "\n",
       "mpl.extensions = [\"eps\", \"jpeg\", \"pdf\", \"png\", \"ps\", \"raw\", \"svg\", \"tif\"];\n",
       "\n",
       "mpl.default_extension = \"png\";var comm_websocket_adapter = function(comm) {\n",
       "    // Create a \"websocket\"-like object which calls the given IPython comm\n",
       "    // object with the appropriate methods. Currently this is a non binary\n",
       "    // socket, so there is still some room for performance tuning.\n",
       "    var ws = {};\n",
       "\n",
       "    ws.close = function() {\n",
       "        comm.close()\n",
       "    };\n",
       "    ws.send = function(m) {\n",
       "        //console.log('sending', m);\n",
       "        comm.send(m);\n",
       "    };\n",
       "    // Register the callback with on_msg.\n",
       "    comm.on_msg(function(msg) {\n",
       "        //console.log('receiving', msg['content']['data'], msg);\n",
       "        // Pass the mpl event to the overridden (by mpl) onmessage function.\n",
       "        ws.onmessage(msg['content']['data'])\n",
       "    });\n",
       "    return ws;\n",
       "}\n",
       "\n",
       "mpl.mpl_figure_comm = function(comm, msg) {\n",
       "    // This is the function which gets called when the mpl process\n",
       "    // starts-up an IPython Comm through the \"matplotlib\" channel.\n",
       "\n",
       "    var id = msg.content.data.id;\n",
       "    // Get hold of the div created by the display call when the Comm\n",
       "    // socket was opened in Python.\n",
       "    var element = $(\"#\" + id);\n",
       "    var ws_proxy = comm_websocket_adapter(comm)\n",
       "\n",
       "    function ondownload(figure, format) {\n",
       "        window.open(figure.imageObj.src);\n",
       "    }\n",
       "\n",
       "    var fig = new mpl.figure(id, ws_proxy,\n",
       "                           ondownload,\n",
       "                           element.get(0));\n",
       "\n",
       "    // Call onopen now - mpl needs it, as it is assuming we've passed it a real\n",
       "    // web socket which is closed, not our websocket->open comm proxy.\n",
       "    ws_proxy.onopen();\n",
       "\n",
       "    fig.parent_element = element.get(0);\n",
       "    fig.cell_info = mpl.find_output_cell(\"<div id='\" + id + \"'></div>\");\n",
       "    if (!fig.cell_info) {\n",
       "        console.error(\"Failed to find cell for figure\", id, fig);\n",
       "        return;\n",
       "    }\n",
       "\n",
       "    var output_index = fig.cell_info[2]\n",
       "    var cell = fig.cell_info[0];\n",
       "\n",
       "};\n",
       "\n",
       "mpl.figure.prototype.handle_close = function(fig, msg) {\n",
       "    var width = fig.canvas.width/mpl.ratio\n",
       "    fig.root.unbind('remove')\n",
       "\n",
       "    // Update the output cell to use the data from the current canvas.\n",
       "    fig.push_to_output();\n",
       "    var dataURL = fig.canvas.toDataURL();\n",
       "    // Re-enable the keyboard manager in IPython - without this line, in FF,\n",
       "    // the notebook keyboard shortcuts fail.\n",
       "    IPython.keyboard_manager.enable()\n",
       "    $(fig.parent_element).html('<img src=\"' + dataURL + '\" width=\"' + width + '\">');\n",
       "    fig.close_ws(fig, msg);\n",
       "}\n",
       "\n",
       "mpl.figure.prototype.close_ws = function(fig, msg){\n",
       "    fig.send_message('closing', msg);\n",
       "    // fig.ws.close()\n",
       "}\n",
       "\n",
       "mpl.figure.prototype.push_to_output = function(remove_interactive) {\n",
       "    // Turn the data on the canvas into data in the output cell.\n",
       "    var width = this.canvas.width/mpl.ratio\n",
       "    var dataURL = this.canvas.toDataURL();\n",
       "    this.cell_info[1]['text/html'] = '<img src=\"' + dataURL + '\" width=\"' + width + '\">';\n",
       "}\n",
       "\n",
       "mpl.figure.prototype.updated_canvas_event = function() {\n",
       "    // Tell IPython that the notebook contents must change.\n",
       "    IPython.notebook.set_dirty(true);\n",
       "    this.send_message(\"ack\", {});\n",
       "    var fig = this;\n",
       "    // Wait a second, then push the new image to the DOM so\n",
       "    // that it is saved nicely (might be nice to debounce this).\n",
       "    setTimeout(function () { fig.push_to_output() }, 1000);\n",
       "}\n",
       "\n",
       "mpl.figure.prototype._init_toolbar = function() {\n",
       "    var fig = this;\n",
       "\n",
       "    var nav_element = $('<div/>');\n",
       "    nav_element.attr('style', 'width: 100%');\n",
       "    this.root.append(nav_element);\n",
       "\n",
       "    // Define a callback function for later on.\n",
       "    function toolbar_event(event) {\n",
       "        return fig.toolbar_button_onclick(event['data']);\n",
       "    }\n",
       "    function toolbar_mouse_event(event) {\n",
       "        return fig.toolbar_button_onmouseover(event['data']);\n",
       "    }\n",
       "\n",
       "    for(var toolbar_ind in mpl.toolbar_items){\n",
       "        var name = mpl.toolbar_items[toolbar_ind][0];\n",
       "        var tooltip = mpl.toolbar_items[toolbar_ind][1];\n",
       "        var image = mpl.toolbar_items[toolbar_ind][2];\n",
       "        var method_name = mpl.toolbar_items[toolbar_ind][3];\n",
       "\n",
       "        if (!name) { continue; };\n",
       "\n",
       "        var button = $('<button class=\"btn btn-default\" href=\"#\" title=\"' + name + '\"><i class=\"fa ' + image + ' fa-lg\"></i></button>');\n",
       "        button.click(method_name, toolbar_event);\n",
       "        button.mouseover(tooltip, toolbar_mouse_event);\n",
       "        nav_element.append(button);\n",
       "    }\n",
       "\n",
       "    // Add the status bar.\n",
       "    var status_bar = $('<span class=\"mpl-message\" style=\"text-align:right; float: right;\"/>');\n",
       "    nav_element.append(status_bar);\n",
       "    this.message = status_bar[0];\n",
       "\n",
       "    // Add the close button to the window.\n",
       "    var buttongrp = $('<div class=\"btn-group inline pull-right\"></div>');\n",
       "    var button = $('<button class=\"btn btn-mini btn-primary\" href=\"#\" title=\"Stop Interaction\"><i class=\"fa fa-power-off icon-remove icon-large\"></i></button>');\n",
       "    button.click(function (evt) { fig.handle_close(fig, {}); } );\n",
       "    button.mouseover('Stop Interaction', toolbar_mouse_event);\n",
       "    buttongrp.append(button);\n",
       "    var titlebar = this.root.find($('.ui-dialog-titlebar'));\n",
       "    titlebar.prepend(buttongrp);\n",
       "}\n",
       "\n",
       "mpl.figure.prototype._root_extra_style = function(el){\n",
       "    var fig = this\n",
       "    el.on(\"remove\", function(){\n",
       "\tfig.close_ws(fig, {});\n",
       "    });\n",
       "}\n",
       "\n",
       "mpl.figure.prototype._canvas_extra_style = function(el){\n",
       "    // this is important to make the div 'focusable\n",
       "    el.attr('tabindex', 0)\n",
       "    // reach out to IPython and tell the keyboard manager to turn it's self\n",
       "    // off when our div gets focus\n",
       "\n",
       "    // location in version 3\n",
       "    if (IPython.notebook.keyboard_manager) {\n",
       "        IPython.notebook.keyboard_manager.register_events(el);\n",
       "    }\n",
       "    else {\n",
       "        // location in version 2\n",
       "        IPython.keyboard_manager.register_events(el);\n",
       "    }\n",
       "\n",
       "}\n",
       "\n",
       "mpl.figure.prototype._key_event_extra = function(event, name) {\n",
       "    var manager = IPython.notebook.keyboard_manager;\n",
       "    if (!manager)\n",
       "        manager = IPython.keyboard_manager;\n",
       "\n",
       "    // Check for shift+enter\n",
       "    if (event.shiftKey && event.which == 13) {\n",
       "        this.canvas_div.blur();\n",
       "        // select the cell after this one\n",
       "        var index = IPython.notebook.find_cell_index(this.cell_info[0]);\n",
       "        IPython.notebook.select(index + 1);\n",
       "    }\n",
       "}\n",
       "\n",
       "mpl.figure.prototype.handle_save = function(fig, msg) {\n",
       "    fig.ondownload(fig, null);\n",
       "}\n",
       "\n",
       "\n",
       "mpl.find_output_cell = function(html_output) {\n",
       "    // Return the cell and output element which can be found *uniquely* in the notebook.\n",
       "    // Note - this is a bit hacky, but it is done because the \"notebook_saving.Notebook\"\n",
       "    // IPython event is triggered only after the cells have been serialised, which for\n",
       "    // our purposes (turning an active figure into a static one), is too late.\n",
       "    var cells = IPython.notebook.get_cells();\n",
       "    var ncells = cells.length;\n",
       "    for (var i=0; i<ncells; i++) {\n",
       "        var cell = cells[i];\n",
       "        if (cell.cell_type === 'code'){\n",
       "            for (var j=0; j<cell.output_area.outputs.length; j++) {\n",
       "                var data = cell.output_area.outputs[j];\n",
       "                if (data.data) {\n",
       "                    // IPython >= 3 moved mimebundle to data attribute of output\n",
       "                    data = data.data;\n",
       "                }\n",
       "                if (data['text/html'] == html_output) {\n",
       "                    return [cell, data, j];\n",
       "                }\n",
       "            }\n",
       "        }\n",
       "    }\n",
       "}\n",
       "\n",
       "// Register the function which deals with the matplotlib target/channel.\n",
       "// The kernel may be null if the page has been refreshed.\n",
       "if (IPython.notebook.kernel != null) {\n",
       "    IPython.notebook.kernel.comm_manager.register_target('matplotlib', mpl.mpl_figure_comm);\n",
       "}\n"
      ],
      "text/plain": [
       "<IPython.core.display.Javascript object>"
      ]
     },
     "metadata": {},
     "output_type": "display_data"
    },
    {
     "data": {
      "text/html": [
       "<img src=\"data:image/png;base64,iVBORw0KGgoAAAANSUhEUgAABTUAAAPoCAYAAAAP+RpeAAAgAElEQVR4nOzde5xN9f7H8WWMa65xeJSUmkhyOUk5KXUqSrlUKjnFKapfQqfInSFJJJRKFKqhdFEhuV9CcgmRSyXXEINxH4a57M/vD49Z7TVrzZ59/37X3q/n47H+MPu7vuuz93evr7Xfe6+1DAEAAAAAAAAAFzFUFwAAAAAAAAAAgSDUBAAAAAAAAOAqhJoAAAAAAAAAXIVQEwAAAAAAAICrEGoCAAAAAAAAcBVCTQAAAAAAAACuQqgJAAAAAAAAwFUINQEAAAAAAAC4CqEmAAAAAAAAAFch1AQAAAAAAADgKoSaAAAAAAAAAFyFUBMAAAAAAACAqxBqAgAAAAAAAHAVQk0AAAAAAAAArkKoCQAAAAAAAMBVCDUBAAAAAAAAuAqhJgAAAAAAAABXIdQEAAAAAAAA4CqEmgAAAAAAAABchVATAAAAAAAAgKsQagIAAAAAAABwFUJNAAAAAAAAAK5CqAkAAAAAAADAVQg1AQAAAAAAALgKoSYAAAAAAAAAVyHUBAAAAAAAAOAqhJoAAAAAAAAAXIVQEwAAAAAAAICrEGoCAAAAAAAAcBVCTQAAAAAAAACuQqgJAAAAAAAAwFUINQEAAAAAAAC4CqEmAAAAAAAAAFch1AQAAAAAAADgKoSaAAAAAAAAAFyFUBMAAAAAAACAqxBqAgAAAAAAAHAVQk0AAAAAAAAArkKoCQAAAAAAAMBVCDUBAAAAAAAAuAqhJgAAAAAAAABXIdQEAAAAAAAA4CqEmgAAAAAAAABchVATAAAAAAAAgKsQagIAAAAAAABwFUJNAAAAAAAAAK5CqAkAAAAAAADAVQg1AQAAAAAAALgKoSYAAAAAAAAAVyHUBAAAAAAAAOAqhJoAAAAAAAAAXIVQEwAAAAAAAICrEGoCAAAAAAAAcBVCTQAAAAAAAACuQqgJAAAAAAAAwFUINQEAAAAAAAC4CqEmAAAAAAAAAFch1AQAAAAAAADgKoSaAAAAAAAAAFyFUBMAAAAAAACAqxBqAgAAAAAAAHAVQk0AAAAAAAAArkKoCQAAAAAAAMBVCDUBAAAAAAAAuAqhJgAAAAAAAABXIdQEAAAAAAAA4CqEmgAAAAAAAABchVATAAAAAAAAgKsQagIAAAAAAABwFUJNAAAAAAAAAK5CqAkAAAAAAADAVQg1AQAAAAAAALgKoSaAfGVlZUmdOnXEMAy55557VJcT07Zu3SqFCxcWwzBk3LhxQfXBeIUuHOMAAAAAAIg8Qk24Uvv27cUwDMvy6aef+r3+tm3bpGjRopb1S5QoIdnZ2SIi8uGHH5p/v+2224Kus2nTpmY///73v4PuR5VRo0aJYRiSkJAgmzZt8tk2LS1NFixYIMOHD5c2bdrI1VdfLYUKFTKf/0cffRTw9iPR55kzZ+S9996T5s2bS5UqVaRYsWJStmxZufbaa+W5556TlStXBtyniMi+ffvk5ZdflgYNGsg//vEPKVasmFx++eXSokULmTx5smRlZRXYxzPPPCOGYUj58uXlyJEjAdegerxyZWRkyJQpU+SRRx6R6tWrS+nSpaVkyZJy5ZVXSuPGjaV3794yd+5cycnJCXobTsIxBiKhj4OOIjXeOu9Pvpw6dUquuOIKy/8Bgb4Gka4RoQl2jHfs2CFTp06Vbt26yR133CE1a9aUihUrSmJiopQpU0Zq1Kghjz76qHz22Wdy7ty5AvsbNGiQ7XjF11K4cOEwPHsrp2Mm76VkyZJSrVo1eeihh+Trr78Wj8cT9hqigXnOStd5LicnRypVqiSGYcitt97q93q67NMieuzXutBpXAKRlZUlX331lbRt29Y8Vk1MTJRy5cpJ3bp1pWPHjjJ//vywbxdA+BFqwpVq1aplO2Do06eP3+s3a9bMtv7NN99sPr5u3Trz7+XLlw+qxhkzZph9JCYmyubNm4PqR5Vjx45JuXLlxDAMadOmjc+248aNK/CALtAD6Uj0OX/+fKlcuXKB/Xbs2FEyMjL87vejjz6S0qVL++zzhhtukO3bt/vsZ8+ePZKYmCiGYcgLL7wQ0HNTPV65Zs6cKdWqVfPrID+cgWG4xkAktHHQUaTGW/f9yZenn346pNcgGjUiNMGO8TXXXON3UJGUlCTLly/32Z8O4YfTMZOv5a677pLTp0+HvY5IYp6z03We++GHH8z133jjjYg/n3Dv0yJ67Ne60Glc/LVlyxapW7euX9tu3Lix/PXXX2HbNoDwI9SE66Snp0tCQoIYhiGFChUyv4W/7777/Fp/5syZ5n9U3t/gd+3a1WyTkZFhnoJqGEbA/5mdO3dOkpKSzPVffPHFgNbXQe/evc36N2zY4LPtm2++aTsIKFGihJQoUSLoDxPh7nPmzJnm+8YwDCldurS0a9dOhgwZIoMGDZJWrVqZQZZhGNKiRQu/foHw8ccfW95HV111lXTr1k1eeeUVeeyxxyz1XnHFFQW+l3J/UVOsWDHZu3ev389P9XiJiLz11luW16JKlSrSvn17GTBggAwZMkS6dOki999/v1SoUEEMI3yhZrjHQCT4cdBRJMbbLfuTk7lz55p9eP9i39/XIBo1IjShjHHuB+1LLrlE7r33Xnnqqaekb9++MmzYMOndu7c0a9ZMihUrZvZZrFgxWbZsWb79eYcfjz76qLzxxhs+l1GjRoXxlbAeMxmGIcnJyZbtvfrqq9KhQwcpX768ZY5o27ZtWOuINOY5K53nuR49epjr+huI6rRPi6jfr3Wh27j4488//5SKFStaPgvefffd8uKLL8qQIUOkU6dOtsDz6quvdt0XPUA8IdSE66xYscL8T6Z69epmeFi1atUC1z137pxcddVVYhiGVKhQQerVq5fvf8A1a9Y0Hwv09INhw4aZ61auXFlOnDgR0PqqnThxQsqUKSOGYUijRo0KbD9hwgRp3LixvPDCC5KSkiKbN2+W7Oxsuf3224P+MBHOPg8fPmw+H8Mw5M4773QM1H777Te5+uqrzXYF/YJgz549Urx4cbN9586dzUsY5Nq9e7fl2+iWLVv67HPlypVm2+7du/v1/HQYr6lTp5rrXnTRRTJp0iTba5ErJydHVq9eHZbTiSIxBiLBjYOuwj3ebtqf8jp+/LhUqVJFDMOQJk2aBPwaRKNGhCbUMZ4+fbrs3r3bZ5v9+/fLrbfeavnAm98p297hRyiX9QiW9zFTmTJl8q3z6NGj0qhRI8sH+V27dkW52uAxz/1N93muevXqYhiG1KpVKyrPJ9z7tIj6/VoHOo6LPx577DHL58gtW7Y4tps2bZplPxgyZEhI2wUQOYSacJ0xY8aY/8G0bdtWHn74YfPfx48f97nuK6+8YrYdN26clC1b1vx33msQtmnTxnxs5MiRftd34MABy+k6H3/8cVDPU6XcazOGerAWSkgWzj6Tk5PNdS699FI5depUvm29bxRTpkwZOXr0aL5t//vf/5r93nrrrfleI3Lz5s1SpEgRs21B3zTnnipYunRpSU9PL/D5qR6vAwcOmL/yKVKkSNDXFwtGpMZAJPBxcJtgx9tt+5O33F/glipVSvbs2RPwaxCNGhGaUMfYX0eOHLF84P3pp58c26kOP7yPmQq6tvfWrVstoebkyZOjVGXkMM/pNc95v8f69esXlefjL3/3aRH1+7UOdByXgmRnZ0vJkiXNvpYsWeKzff/+/c22/vxoAIAahJpwHe+DrdxTp3L/7et6K3/++af5H9n1118vv//+u7me902Ccnn3++STTwZV38033+zKC+7Xrl3bDKgKCop90SXUrF+/vrnOwIEDC2zfokULs/348eMd25w5c8ZyYFTQr3nbtm1rtu3YsaPPtt4Hy/6E4qrH66WXXgr4Q0o4RHIMRAIfB7cJdrzdtj/l8r7O8dixY0UksNcgGjWG6oUXXjC3mZyc7Nc6OTk5csMNN/j1/6juQh3jQN10001m359//rljG9Xhh/cxyUsvvVRge+8vZUePHh2FCiOLeU6veW7o0KFm+zVr1kT8+QTKn31aRP1+rZqu41KQgwcPmv0YhlHgGUPz5s0z29aoUSPo7QKILEJNuM51111n+YZt9uzZtv9YnXj/onPFihXy+eefm//+17/+ZWv/7bffmo83aNDAr9rWrFljXoMoISFB1q9fH/TzVGXz5s3m877jjjtC6kuXUNP7F7kzZ84ssP3LL79stm/SpIljm2+++cZsU758+QLv5P3111+b7S+++GKfYff69evNts2aNfPZr+rxysjIkIsvvlgM48KF8A8dOhRSDYGI5BiIBDYObhTs/um2/Unkwl2Rc2/2cfvtt5vtA3kNIl1jOHzxxRfmNu+++26/1pkwYYK5zqOPPhrhCiMnHGMcKO/Tjr/99lvHNqrDD+9jpqlTpxbY3jvUnDhxYhQqjCzmOb3mudxw6tJLL43K8wmUP/u0iPr9WiWdx6UgJ06csISa+/fv99l+ypQpBe7XANQj1ISrnDlzxnIDn+PHj8uBAwfMfz/77LOO6y1evNhs8/jjj4uISM+ePc2/denSxbbOnj17zMdLlixZ4IGdx+ORf/3rX+Y6nTp1Cv0JK/D666+bzyHU68foEmp6X7x8wYIFBbb3fg3Kly/v2GbAgAFmm+bNmxfY5+HDhy0HUr6uVZaTk2MGhcWLF5czZ874VauK8Vq6dKm5zk033SQiIrt27ZKePXtKrVq15KKLLpJSpUpJ9erV5cknnyzwVJ9ARHIMRAIbBzcKdv902/4k8vflREqWLCk7duww/x7IaxDpGsNh7969Bb7W3k6cOCGVKlUSw7hwxoKbb4oVjjEOxFdffWX2W6xYMUlLS3Ns5x1+NGrUSOrUqSOlS5eWokWLyiWXXCK33367DBo0KCKvfd5jpm3btvls/+eff1res4sXLw57TdHGPKfPPPfXX3+ZX/z7c4ys6z4tona/Vk3ncfGH902AunXrlm+7jIwMufHGG822KSkpIW0XQOQQasJVvC94n5SUZP499xtDp+udZGVlmb9UKFWqlHmHxjvvvLPA/3y9v6kv6A6NKSkpZtsKFSr4vKZSfp544gnLwWGoyxNPPBFwDffdd5+5fqA3SMpLl1Dz0ksvNdfx55cnXbp0sbyOTt/kPvjgg+bj/t7d3vv9VNA3zU2bNvXrg6Xq8fK+KdZzzz0nH330kVx00UU+35f333+/z+uT+SvSYyDi/zjkR4d9Oj/B7p9u25++/PJLs92bb75peSyQ1yAa77dwuOyyy8xt/vHHHz7bvvjii2bbwYMH+70N3d7X4RpjX3JycuT48eOyYsUK6dq1q+Wu175OT/YOP3wtRYoUkV69evl192x/+XuToFwDBw60tD9//rxf29Ht/eCNeU6feW7cuHFmu3nz5vnsU+d9WiR6+7Vu+5bu4+KP6dOnW16Tli1byqJFi+TAgQNy7tw52bVrl0yZMsXyK/ennnrKlZcTA+IFoSZcxfuC923atDH/3qxZMzGMCzf0yPufzujRo811Xn/9dfPv5cqVM/+e9yZBubzvuDd9+vR86zp9+rTlADi/6ykVRIeDl9xf7RiGIQcOHAjqeeTSJdRs1aqVuU6LFi18ts3KypIrrrjC8jquXbvW1s77V7n+3kjK+wDpgw8+8Nm2R48eZtvhw4fn2071eHXo0MFc51//+pckJCSIYVwI9jt27Civvvqq9O7d23J9MsMwpGHDhn5/YM5PpMdAxP9xyI8O+3R+gt0/3bQ/HTp0SCpWrCiGceFLr7y/uA/kNYjG+y0cHnnkEXObU6ZMybfdr7/+an5YvOKKK+Ts2bN+b0On93U4xzivIUOG+Kw7MTGxwPdCbvhRqVIlad26tfTt21eGDRsm/fr1k5YtW0qJEiUsfd577722a3wHy/uY6fbbb/fZdt68eZZfJw4aNMjv7ej0fsiLeU6fee6ee+4Rwyg4MNd9nxaJ3n6t077lhnHx1yeffGIbI6elfv36/EITcAFCTbiK9wXvvQPKPn36mH/fvXu3+ffU1FTzG+Tq1aubB1E7duww25coUSLfb1A7d+5stvN1aq/39uvXr1/gqer5mTt3rrzxxhthW+bOnRvQ9k+ePGk+j2LFioX8raQuoab39VMNw5Avv/wy37a9e/e2HdQ4/ULP+yB+3LhxftXhfRrLqFGjfLZ95513zLb5XXxfh/F64IEHbK/Xfffd53jDogkTJlhOhQz1pkKRHgMR/8bBF9X7tC/B7p9u2p9y35/FixeX33//3fZ4IK9BNN5v4eD9Rd7zzz+fb7u7777brzF0otP7OpxjnJevD9qtW7eWgwcPFtjH3LlzZcmSJfkeFxw+fFgee+wxS9/9+/cPqM78eB8zde/e3fJYTk6OHDt2TL7//nt56qmnzC+kDOPCF1SBhNw6vR/yYp7TY547efKkGZoXdO1e3fdpkejt1zrtW24Yl0Ds3btX+vXrJ0WKFHHcbtmyZaVz586OzxWAXgg14SreB1uLFi0y/+59cwTvC7o/+eST5t/nzJnj2N7pJkG53n//fbOd9y9Dve3cuVOKFSsmhmFIoUKFZOXKlWF4pmps2bLFfL5XXHFFyP3pEmp6PB65+eabzfUKFy4sL774ovzyyy9y7tw5SU9PlxUrVkjr1q3NcfT+xcqsWbNsfV511VXm45MmTfKrjsaNG5vrFHT9S++L7zdt2tSxjQ7jddddd1kOAq+88kqf157s37+/2bZ06dJy8uTJoOuN9BiI+DcObhXs/umW/cn7Av/eX4IF+xpE4/0WDqtXrza32bBhQ8c23neuLegXfDoL9xjntWrVKjMMGD58uPTs2VPuuusu88uZatWqySeffBKGZyLSvn17s84SJUpIampqyH16HzP5u7Rs2VJOnDgRhmekB+Y5PeY575D4s88+y7evWNqnRSKzX6sQa+Ny5MgRefbZZ6VcuXKSkJAgTZo0kb59+8prr70mL774ouW6m0WKFJHRo0eHbdsAwo9QE66R94L3x44dMx/7448/zL+/+uqrInLhg13uBcnznjrUq1cvs73TTYJyrVq1ymxXq1Ytxzb333+/2ebJJ58MwzNVZ+XKleZzufbaa0PuT5dQU+TCr3br1Knj14e6t956S8qUKWP+e9myZbb+Iv2rrXnz5plt8wvedRivFi1aWF67MWPG+Gx/7Ngx80sAw/DvrrL5icYv5/wZB7cKZf/UfX/666+/pHz58mIYhtx44435nvanwy+Ywu38+fNSvHhxMYwLv+DOe5rnuXPnJCkpyQxqNm7cGJW6wi0SY+yv3bt3y7///W+z37y/ggzG0aNHpVSpUmafEyZMCKm/vMdMvpbChQtL06ZNQ5qPdcU8p8c817ZtWzMgyi80j7V9WiT8+7UKsTYu69evl6pVq4phXAhLN2zY4Nju888/txyv+nNtXQBqEGrCNX788UfzP5Yrr7zS8pjH45HSpUuLYVw4rSUnJ0caNGhgfqjzvjufiPXXZR9++GG+20xPTzeD0cTERNuHw0WLFpn9lC1b1rXfwOZavny5+Xzq1KkTcn86hZoiImfPnpXk5GTzjtZ5lxo1asjcuXMlPT3d8nena65G+vp63u+tG264wbGNDuP1n//8x/Jabd68ucB1vH/9EspF36NxjUN/xsGtQt0/dd6fcm+gVbRoUdmyZUu+fehyrblwa9Sokbndn376yfLY0KFDzceee+65qNUUbpEY40BkZGRIvXr1zL6nTZsWcp/el/Po0KFDSH15HzOVK1fOdhrqO++8I1OmTJHly5dLenp6yLXrinlO/TyXmZlpXgrq7rvvzrefWNynRcK7X6sQS+Ny8uRJ8x4IhQsXLvCYdezYseZ2y5cvH9NzJeBmhJpwjbffftv8j+Xhhx+2PZ57U59rr71WPvjgA7Ot03X7cr9xNAxDfvnlF5/bzf1FS96DVO+7qhvGhW/pQ6X62jnr1q0zn0/16tVDfj66hZq5srKyZPXq1ZKSkiJjxoyRlJQUWbdunfm494fBwoULy+nTp219eB+kduvWza/tBnIn5FmzZpltb7vtNsc2OoxX9+7dLR/knK6lmVebNm3CEqpEegxE/BsHX1Tv076Ea//UbX/66quvzL8XdMp3IK9BNN5v4eJ9g6t3333X/Pv+/fvloosuMj+gpaWlBdW/6vd1pMY4UJ9++qnZdzhO4/cet/vuuy+kvryPmZo0aRJybb6ofj/4wjynfp6bP3+++fjYsWMd+4jVfVoktP1a9b4Va+Py1ltvmf00a9aswPaZmZmWX9r6umksAHUINeEa3he8HzZsmO3x559/3jyYzL07X5UqVWzfqu3cudPsx9dNgnI9+OCDZvtPP/3U/Lv3B4batWsX2I8/VN/l8M8//zTXrVChQsjPR9dQsyBvvPGGuY3rr7/esY33tSGbN29eYJ9HjhyxjM3OnTt9tk9JSTHbPvTQQ45tdBivDz/80PK8/LkW26OPPmq279y5c9D1RnoMRPwbB19U79O+RGNfEon+/vTmm2+G/DrXq1cvojVGmve1YNu3b2/+3fvGFe+8807Q/at+X0dqjAO1detWs7/SpUuH3F/Pnj0Deo/54n3M1KtXr5Br80X1+8EX5jn181zuTTcLFSok+/fvd+wnVvdpkdD2a9X7VqyNy0MPPWT207NnT7/W8b68Qn7XEwWgFqEmXMP7V5ELFiywPT5p0iTbf6ROFyP/8ssvzcf9uUbeoEGDzPZ9+/YVEZG0tDTLqUjff/99yM9PRP3BS05OjuVC94Hc/dSJW0PN+vXr28Y8r2+++cZsc/HFFxd453Hv9uXLly+wvfcpoj169HBso8N4bd682fKe83VqUi7vU2NffvnloOuN9BiI+DcOvqjep32J1of9aO9PkfoQFo33W7gcPHjQ3PY111wjItZfkl133XUhfRGn+n2tywftX375xeyvZMmSIffn/SVqqKepeh8z+boxSziofj/4wjynfp677LLLxDAMadCgQb79xOo+LRLafq1634q1cWnatKnZj79f9uRezswwDHnjjTeC3jaAyCHUhCvkveC90ylzP//8s+U/0fxOFe3du7fZxtdNgnJ5/+KlZcuWIiLy3HPPmX9r27ZtaE9OM94H5vldPNtfbgw1va+hWLhwYfnzzz8d26Wnp0uJEiXMtgsXLvTZr/cvpPw5qG3Xrp3ZfsqUKfm202G8rrnmGnO9gm4UdPz4cfMmJoZhhHSaYaTHQMT/cXCjaHzYV7E/zZ8/X5544gm/lsqVK5v93HLLLebfk5OTI1pjNFSrVk0M48Kvo44ePWqZKxYtWhT1esIpUmMcKO9L3dSoUSOkvo4fP25eG9wwDBk/fnzQfeU9Ztq2bVtItbkZ85zaeW7t2rXm47k38nQSi/u0SHj3axVibVy8rwMfzOnn4bwDO4DwIdSEK3j/wuSKK65wbHP+/Hnp2rWrdOnSRbp06ZLvL8aaNGli9uXrJkG5tm/fbravVq2abNq0yfywUKpUqXxPpXEr78D2448/Dqkvt4Wahw8flquvvtrsv1OnTj7bt2/f3hKi5/eLhq1bt0qRIkXMtkuXLi2wltq1a5vtt2/fnm87HcZr+PDh5npXXXWVnDlzJt+23qe2VaxY0Wdbf0RyDET8Hwc3ivSHfZ32p/wE+hqoqDFY3h/evK9j++CDD0a9FpUi9T4/deqU5f39/PPPh9Rfhw4dzL6KFSsmBw4cCLov72Om0qVLR/VXwrphnlM7z3n/n+/PjQT94ZZ9WiS8+7Xu3DAuY8aMsXwBsXXrVp/t33nnHbO9YRgx95kPiBWEmnAF7+tXtm7dOqS+vE8bL+gmQSIX7qye+y1doUKFLHduHj58eEi16GjmzJnm8+vYsWNIfekUas6fP18WLlwoOTk5jo+vXbtWatWqZfadlJTkeKF/b7t375ZixYpZDrSys7Mtbfbs2SPXXnut2caf6ymlpaVJoUKFzJDQFx3GKyMjw/xVmGFcuBC+07U1J06caPn1kK87q3pf9iG/LzJEIjcGIoGNgxuFsn+6aX/yJdDXQEWNwcr7YSz3Q/WuXbuU1KNKIGM8ePBgGThwoOzevdtnu59//lluuOEGs98SJUrIjh07bO1GjBgh3bp18/lLybS0NMv1Lw3DkN69e/vz1PLlfczUuHHjkPpyO+Y5tfNc7heDSUlJIT0Hbyr3aRF1+7XuVI+LP8eNqampll9eXnXVVZabwHqbOnWqZT944IEHfNYKQB1CTbiC9zVlhg4dGnQ/u3btMvspXry439cUa9iwoe3DYY0aNeT8+fNB16KrM2fOmP/hX3755X6v99BDD9mW3Bs2GcaFaynlfdz7rryR7nPYsGFiGIZUrlxZ2rRpIwMGDJDXXntNunXrJg0bNjTDK8Mw5Morr/T7g3/ea7kmJSVJ9+7dZciQIdKuXTspWbKk+VjVqlVl3759Bfb5xRdfmOsUdPdRXcZr9erVlgPFChUqyNNPPy1Dhw6VPn36WA5KDcOQFi1a5PtBUcT/UFMkMmMgEtg46C7c4+2m/cmXYAKPaNcYrHXr1tn+3+rfv7+SWlQKZIxfeOEFs23t2rWlXbt20q9fPxk2bJgMHjxYnn32WfnnP/9peU0TExNl6tSpjv15z2M1a9aUdu3aSf/+/WX48OEyYMAAuf/++y3vF8O4cEpkqDce9D5meuGFF0Lqy02Y55ypmud27NhhtunevXtIzyHY5xPufVpE3X6tO53Gxddx44QJEyz9JiQkSNOmTaV///4ybNgw6datm9StW9fS5tJLL833shIA1CPUhCt4nwI6b968oPuZNm2a2U/Dhg39Xu+ZZ56xfTgMpQ7deX8gWrNmjV/r5H19/FmeKOCC5eHsM/fDSUHLI488EvDpQRMnTrQEek7L9ddfL3/88Ydf/T3yyCPmehs3biywvS7j9eOPP0pSUpLPPgoVKiSdOnUq8AuBQEJNkfCPgUjg46CzcI+3m/YnX4L9FVc0awxWVlaW5YN1lfRt0LkAACAASURBVCpVJD09XVk9qgQyxt26dQtoH6lVq5bP04K957GClqJFi0q/fv0kMzMz5OfsfcyUkpIScn9uwTznTNU8N3LkSLPd8uXLQ34euVTu0yLq9mvd6TQuBR03TpkyRcqXL+/Xths2bBhzlx8CYg2hJrSX94L3hw8fDrqvPn36mP107tzZ7/Xeffddy39wsX4KwqpVq8zn6u+1a8L9YSLcfR48eFAmTpwo7dq1k7p160rlypWlSJEiUqlSJbn++uulR48e8tNPPwX4Sv1t7969MnDgQKlfv75UqFBBihYtKlWrVpXmzZtLSkqK39/Qnzhxwgwi/A3edRkvkQunon/wwQdyzz33yGWXXSZFixaVsmXLSu3ataVr165+XfJBJPBQUyR8YyAS3DjoLNzj7Zb9qSChnJoarRpDUbNmTfP5xesNDgIZ46ysLFm+fLm88sor0qpVK6lZs6aUKVNGChcuLCVKlJDKlStLo0aNpGvXrrJo0SKfvzYXETl27JjMmjVLBgwYIPfcc4/UqlVLKlWqJEWKFJFSpUrJ5ZdfLs2bN5cRI0ZIampqWJ5v3mOmcF3H0A2Y55ypmucaN24shnHh+tkF7SuBULlPi6jZr91A9bgEetx4/Phxee+996RVq1ZSrVo1KVWqlBQuXFjKlSsntWvXlg4dOsi8efPi+prEgFsQagJwdMstt4hhGFK2bNmQb+YC/3kH6NOmTfN7PcYrvIIdB0AX8+fPN9/DjRo1Ul0OgDhy5MgRM1x3uis6AADhQqgJwNHChQvND8Rvv/226nLiQk5OjlSvXl0Mw5A6deoE9MsGxit8QhkHQAcej0fq168vhnHhemHr1q1TXRKAOPLhhx+axyQzZ85UXQ4AIIYRagLIV5MmTcQwLlwEPhZviqSbzz//3PwQMGvWrIDXZ7zCI9RxAFQbN26c+R7u1KmT6nIAxJlWrVqJYRhSsmRJOXv2rOpyAAAxjFATQL5+/fVXKVKkiBiGIaNGjVJdTkzLzMw0fx147733BtUH4xW6cIwDoNLKlSulRIkSYhgX7th67Ngx1SUBiDOvv/66DBo0SD788EPVpQAAYhyhJgCfPv/8cxk0aJCMGTNGdSkxbfv27TJo0CAZNGiQ7Nq1K+h+GK/QhGscgGjZtm2bvPPOOzJy5Eh5/PHHJTEx0TztfP78+arLAwAAACKGUBMAAMClBg4caLujc6FChbi2LgAAAGIeoSYAAIBL3XvvvWIYhhQuXFguv/xyad26tfzwww+qywIAAAAijlATAAAAAAAAgKsQagIAAAAAAABwFUJNAAAAAAAAAK5CqAkAAAAAAADAVQg1AQAAAAAAALgKoSYAAAAAAAAAVyHUBAAAAAAAAOAqhJoAAAAAAAAAXIVQEwAAAAAAAICrEGoCAAAAAAAAcBVCTQAAAAAAAACuQqgJAAAAAAAAwFUINQEAAAAAAAC4CqEmAAAAAAAAAFch1AQAAAAAAADgKoSa0FJiYqIkJCTIxRdfzMLCwsLCwsLCwsLCwsLCEsdLQkKCJCYmqo4qoBlCTWgpISFBChUqpHziZImtpVipspJQvLQkFC8thUuUVl4PCwsLS96lTLny5jyVULy0lClXXnlNLCwsLCwsLCyql0KFCklCQoLqqAKaIdSElnInLiCc3l+2Q67o/Z25HDqVobokALD4afdRyzz10+6jqksCAABQjowATgg1oSUmLETCyh1plrBg8W+pqksCAAtCTQAAADsyAjgh1ISWmLAQCSczMi1hwZsLt6kuCQAsCDUBAADsyAjghFATWmLCQqT8+43vzbDgqY9/Ul0OAFgQagIAANiREcAJoSa0xISFSHl+6s9mWHDT0IWqywEAC0JNAAAAOzICOCHUhJaYsBApHyzbab1Z0EluFgRAH4SaAAAAdmQEcEKoCS0xYSFS8t4saNGv3CwIgD4INQEAAOzICOCEUBNaYsJCpJziZkEANEaoCQAAYEdGACeEmtASExYi6Q6vmwV1/IibBQHQB6EmAACAHRkBnBBqQktMWIgk75sF3fgqNwsCoA9CTQAAADsyAjgh1ISWmLAQSROWW28WlMrNggBoglATAADAjowATgg1oSUmLETSqp3WmwUt3MrNggDogVATAADAjowATgg1oSUmLETSqYxMqdbn79Bg9AJuFgRAD4SaAAAAdmQEcEKoCS0xYSHS7hj5982COnCzIACaINQEAACwIyOAE0JNaIkJC5H2v8/+vllQA24WBEAThJoAAAB2ZARwQqgJLTFhIdK4WRAAHRFqAgAA2JERwAmhJrTEhIVIW53nZkELuFkQAA0QagIAANiREcAJoSa0xISFSDt9Lstys6CR839XXRIAEGoCAAA4ICOAE0JNaIkJC9HQdPRSMzhoN3G16nIAgFATAADAARkBnBBqQktMWIiGHl9uNIODOoPmicfjUV0SgDhHqAkAAGBHRgAnhJrQEhMWomHKqj2W8GDXkXTVJQGIc4SaAAAAdmQEcEKoCS0xYSEaNu8/YQkPvvl5n+qSAMQ5Qk0AAAA7MgI4IdSElpiwEA2Z2TlSo/8cMzwYNHOL6pIAxDlCTQAAADsyAjgh1ISWmLAQLa3f+9EMD+5/d4XqcgDEOUJNAAAAOzICOCHUhJaYsBAtg7/daoYH1fvNkfNZOapLAhDHCDUBAADsyAjghFATWmLCQrTM2LDfEiD8su+46pIAxDFCTQAAADsyAjgh1ISWmLAQLXvS0i0BwuSVu1WXBCCOEWoCAADYkRHACaEmtMSEhWjxeDzyz8HzzQCh2xcbVJcEII4RagIAANiREcAJoSa0xISFaHriwzVmgHDnyO9VlwMgjhFqAgAA2JERwAmhJrTEhIVoGr1gmyVEOJmRqbokAHGKUBMAAMCOjABOCDWhJSYsRNOS3w5ZQoQV24+oLglAnCLUBAAAsCMjgBNCTWiJCQvRlHb6nCVEeHfJdtUlAYhThJoAAAB2ZARwQqgJLTFhIdpufX2xGSI8k7JWdTkA4hShJgAAgB0ZAZwQakJLTFiIti6frjdDhBtfXSgej0d1SQDiEKEmAACAHRkBnBBqQktMWIi2Cct3WoKEAyfOqi4JQBwi1AQAALAjI4ATQk1oiQkL0bY2T5Awd/MB1SUBiEOEmgAAAHZkBHBCqAktMWEh2s6ez5ar+s42g4TX5vyquiQAcYhQEwAAwI6MAE4INaElJiyocN+Y5WaQ8Mi4larLARCHCDUBAADsyAjghFATWmLCggoDpm82g4RrBsyRzOwc1SUBiDOEmgAAAHZkBHBCqAktMWFBhW9+3mcJE37Zd1x1SQDiDKEmAACAHRkBnBBqQktMWFBhT1q6JUz4aMUu1SUBiDOEmgAAAHZkBHBCqAktMWFBBY/HIzcMWWCGCc9P/Vl1SQDiDKEmAACAHRkBnBBqQktMWFDl6ZS1Zphwy/DFqssBEGcINQEAAOzICOCEUBNaYsKCKu99v8MSKBw6maG6JABxhFATAADAjowATgg1oSUmLKiyemeaJVCYu/mA6pIAxBFCTQAAADsyAjgh1ISWmLCgytnz2ZLUd7YZKAyd/avqkgDEEUJNAAAAOzICOCHUhJaYsKBSi7d/MAOFh977UXU5AOIIoSYAAIAdGQGcEGpCS0xYUGngjM1moFC9/xw5n5WjuiQAcYJQEwAAwI6MAE4INaElJiyoNGPDfkuosGHvcdUlAYgThJoAAAB2ZARwQqgJLTFhQaW9R89YQoVJP+xSXRKAOEGoCQAAYEdGACeEmtASExZU8ng80uDVhWao0OXT9apLAhAnCDUBAADsyAjghFATWmLCgmr/N3mtGSo0GrZYdTkA4gShJgAAgB0ZAZwQakJLTFhQbfzSHZZgIfVkhuqSAMQBQk0AAAA7MgI4IdSElpiwoFreYGHOpgOqSwIQBwg1AQAA7MgI4IRQE1piwoJqGZnZktR3thksDJm1VXVJAOIAoSYAAIAdGQGcEGpCS0xY0EGrd1eYwcIDY1eoLgdAHCDUBAAAsCMjgBNCTWiJCQs6eGXWVjNYuLrfbDl7Plt1SQBiHKEmAACAHRkBnBBqQktMWNDB3M0HLOHCqp1pqksCEOMINQEAAOzICOCEUBNaYsKCDo6cPmcJF95Z/IfqkgDEOEJNAAAAOzICOCHUhJaYsKCLO9743gwX/jtpjepyAMQ4Qk0AAAA7MgI4IdSElpiwoIue0zaa4ULtgfMkO8ejuiQAMYxQEwAAwI6MAE4INaElJizo4ou1ey0Bw9a/TqouCUAMI9QEAACwIyOAE0JNaIkJC7rYdSTdEjCkrNytuiQAMYxQEwAAwI6MAE4INaElJizowuPxyA1DFpgBQ9epP6suCUAMI9QEAACwIyOAE0JNaIkJCzp5dvI6M2BoOHSReDxcVxNAZBBqAgAA2JERwAmhJrTEhAWdTFi+0xIy7Dt2RnVJAGIUoSYAAIAdGQGcEGpCS0xY0MnGvcctIcP0n/erLglAjCLUBAAAsCMjgBNCTWiJCQs6yczOkZoD5pohQ79vNqkuCUCMItQEAACwIyOAE0JNaIkJC7r5zwerzJDh7tHLVJcDIEYRagIAANiREcAJoSa0xIQF3YxasM0SNJw4k6m6JAAxiFATAADAjowATgg1oSUmLOhm+R+HLUHD4t9SVZcEIAYRagIAANiREcAJoSa0xIQF3Zw+lyVX9vk7aBg25zfVJQGIQYSaAAAAdmQEcEKoCS0xYUFHzd9ebgYNrd/7UXU5AGIQoSYAAIAdGQGcEGpCS0xY0NGgmVvMoOHqfrPl7Pls1SUBiDGEmgAAAHZkBHBCqAktMWFBR3M3H7CEDT9uP6K6JAAxhlATAADAjowATgg1oSUmLOjoaPp5S9gwasE21SUBiDGEmgAAAHZkBHBCqAktMWFBV01HLzXDhjbjV6ouB0CMIdQEAACwIyOAE0JNaIkJC7oaMH2zGTZU7z9HMjK5riaA8CHUBAAAsCMjgBNCTWiJCQu6mvXLX5bAYdXONNUlAYghhJoAAAB2ZARwQqgJLTFhQVeHTmVYAoe3Fv6huiQAMYRQEwAAwI6MAE4INaElJizo7I6R35uBw38+WKW6HAAxhFATAADAjowATgg1oSUmLOis7zebzMDhmgFz5HxWjuqSAMQIQk0AAAA7MgI4IdSElpiwoLMZG/ZbQoe1hA4AwoRQEwAAwI6MAE4INaElJizoLPWk9bqa7y7ZrrokADGCUDN+paamyuzZsyUlJUXefPNNGTJkiIwaNUrGjx8vs2bNkq1bt8q5c+dUlwkAgBJkBHBCqAktMWFBd7ePWGKGDu0mrlZdDoAYoTLU/Oabb8QwDMuyaNGisG5jwYIFtm3ktxQtWlQqVaok9erVk44dO8rUqVOjEuotX77csZ4ZM2aEfVu//fabdO3aVZKSkvx+TRo2bCjdu3eXxYsXS1ZWVthrAgBAR2QEcEKoCS0xYUF3vab9YoYO1ybPlcxsrqsJIHQqQ83k5GRbiJaWlhbWbQwfPtzvUNNpqVixokyaNCmsNXnLycmR66+/3nHbgwcPDtt2du3aJffee29Ir4VhGHLTTTeFrSYAAHRGRgAnhJrQEhMWdPf1+n2W4OHnP4+pLglADFAZarZo0cISmFWtWjXs23j00UdDDvIMw5Bnnnkm7LWJiEycODHfbbZu3Tos25g0aZKUKlUqLK9Du3btwlITAAC6IyOAE0JNaIkJC7rbf/ysJXgYt3SH6pIAxACVoWaVKlUsgVmrVq3Cvo3q1atbtlG3bl3p3bu3benRo4d07NhR6tWrl2+g98Ybb4S1tlOnTknlypXz3V5SUlLI2xg5cqRj3zVr1pSXX35Z5syZI7t27ZKjR4/KiRMnZOfOnbJs2TIZMWKE3H///VK8eHHLem+++WYYnjkAAPojI4ATQk1oiQkLbnDL8MVm8PDkh2tUlwMgBqgKNQ8fPmwL2gYOHBjWbZw+fVoKFSpk2cZrr71W4Hpr166VWrVq2eorU6aMHD0avtenV69elv5Lly5t+XehQoXk1KlTQfc/adIk23OoWrWqTJ8+3e8+Tp06JZMnT5b69euLYRjyww8/BF0PAABuQkYAJ4Sa0BITFtyg+xcbzeDhuoHzJIvragIIkapQc968ebbALZCwzR9ON+CZPXu2X+seOnRILr30Utv6H3/8cVhq27FjhxQtWtQSYE6ePNm2vRUrVgTV/4EDB6RMmTKWvurUqSMHDx4Muua5c+dKenp60OsDAOAmZARwQqgJLTFhwQ2mreO6mgDCS1WoOWzYMFuAt2fPnrBuY8yYMbZt7N+/3+/1R48ebVu/Q4cOYantgQcesPTbvn17ycrKkmLFiln+Pnbs2KD679Chg6WfEiVKyB9//BGW2gEAiAdkBHBCqAktMWHBDfJeV/PdJdtVlwTA5VSFmm3atLGEbuXLlw/7Np544gnLNipUqBDQ+lu3brWFms2aNQu5rsWLF1v6LFmypOzbt09EROrWrWt57P/+7/8C7v/cuXO2U9mfeuqpkOsGACCekBHACaEmtMSEBbe4fcQSM3x4bMIq1eUAcDlVoWbeG/jccccdYd9G3oDwzjvvDGj9kydP2kLN2267LaSasrOzpU6dOpY+k5OTzccff/xxy2MNGzYMeBvfffedre4vvvgipLoBAIg3ZARwQqgJLTFhwS36frPJDB9q9J8jGZnZqksC4GIqQs1Tp07ZbuDTrVu3sG7j3LlzkpiYGNI2UlNTbeHgAw88EFJd48aNs/R3ySWXWK5Tmfe0/JIlS0pOTmDXT3Y6bX7p0qUh1Q0AQLwhI4ATQk1oiQkLbjHrl78sAcTKHWmqSwLgYipCzR9++MEWuk2ePDms21i7dq1tGykpKQH1sXLlSlsf/fv3D7qm48ePS8WKFS39TZo0ydLG6VeW27ZtC2g7PXv2tPXxySefBF03AADxiIwATgg1oSUmLLjFkdPnLAHEqPm/qy4JgIupCDWdbuCzadOmsG7j/ffft21j48aNAfWRnJxs6+P7778PuqZu3bpZ+qpXr57tV5h79uwJ+dTxF1980dbH3XffHXTdAADEIzICOCHUhJaYsOAm97y5zAwgHnrvR9XlAHAxFaHmk08+aQncihUrJllZWWHdRqdOnSzbKFKkiJw/f97v9Y8fPy4XX3yxpY/rrrtOPB5PUPVs27ZNihQpYulv8eLFjm3LlCljadevX7+AtjVq1ChbqGkYhjz55JMB3f0dAIB4RkYAJ4Sa0BITFtxk8LdbzQAiqe9sST8X3jAAQPxQEWrWq1fPErY1aNAg7Nu46aabLNuoW7eu3+tmZ2dL8+bNbaHgnDlzgq4nb38tW7bMt+3NN99sadu8efOAtrVp0ybHUDM33G3RooWkpKTIoUOHgn4+AADEOjICOCHUhJaYsOAmC7emWkKIJb/zwRRAcKIdap4/f972i8Wnn346rNvIzs6WEiVKWLbRvn17v9Y9dOiQNG3a1BYGdu/ePeh65s2bZ+krMTFRfv89/0uHPPPMM5b2l112WcDbbNWqVb7BZu5SqFAhqVu3rvzvf/+TmTNnWm5YBABAvCMjgBNCTWiJCQtucjIjU67s83cIMXT2r6pLAuBS0Q41169fbwvXxo4dG9ZtbN682baNkSNHOrbNzMyU1NRUmT9/vnTt2lUuuugi27r/+9//gj7tPCsrS2rVqmXp7/nnn/e5zttvv22rIS0tsJvCHTt2TBo0aFBgsOm9FC9eXFq0aCHTp0+X7OzsoJ4vAACxgowATgg1oSUmLLhNq3dXmCFE87eXqy4HgEtFO9ScMGGCLUz78cfwXhs4JSUloDAvv+Waa66RmTNnhlRL3oCyXLlyBQaUS5YssdWyZMmSgLd9/vx5eeWVV6Rs2bIBP/ekpCT5+uuvg33aAAC4HhkBnBBqQktMWHCb4XN/M0OIan2+k+Nn/L8BBgDkinao2blzZ0t4lpCQIKdPnw7rNpzu/h3I8sADD8iCBQuC/nVmrqNHj9puNpTfL0a9HTlyxFbT6NGjg67j5MmTMn78eLnlllskISEhoNeiS5cuIb8OAAC4ERkBnBBqQktMWHCbH/44Ygki5m4+oLokAC4U7VAz701watSoEfZt3HbbbSGFmgkJCfLCCy+EHOY9//zztl8/+nsH9sqVK1vWfeKJJ0KqJVdaWpp88skn0qFDB6lWrZpfr8fQoUPDsm0AANyEjABOCDWhJSYsuM3Z89lSvd8cM4hInrFZdUkAXCiaoWZOTo7tmpWPPvpoWLfh8XikTJkylm00aNBAevfubVl69eolXbp0kWbNmkmpUqUcw7zk5OSg6/j1118lMTHR0t9XX33l9/p33XWXZd1//vOfQdfiy/bt22XMmDG2sNl7KVmypBw5ciQi2wcAQFdkBHBCqAktMWHBjdqMX2kGEXeNWqq6HAAuFM1Q87fffrMFZsOHDw/rNrZv327bxrvvvutzndOnT8tLL71kW69o0aKyd+/eoOq45557LH01btw4oPXznkJftGhRyczMDKoWf61evVrq1KnjGGxOmjQpotsGAEA3ZARwQqgJLTFhwY3eWviHJYw4eCJDdUkAXCaaoebUqVNtYdm8efPCuo0vv/zStg1/b0TUpUsX27o9e/YMuIbvvvvO1k+rVq1svxb1tTRp0sTWx6ZNmwKuJVBHjx61nfpuGIZ06tQp4tsGAEAnZARwQqgJLTFhwY3W7bGGEdPW7VNdEgCXiWao2aNHD1tYdujQobBuo0+fPrbrY6anp/u17unTp6VixYqW9StXrixZWVl+bz8zM1OuueaakK7pmd8yefLkYF+WgPTu3du27Yceeigq2wYAQBdkBHBCqAktMWHBjbKyc6T2wHlmGPHCZz+rLgmAy0Qz1Mx7nchLLrkk7NvIe9r3NddcE9D6AwYMsAV6c+fO9Xv90aNHRyTQNAxDXnrppUBfjqB88skntm0//vjjUdk2AAC6ICOAE0JNaIkJC271dMpaM4y4YcgCyckJ7W69AOJLNEPNChUqWIKy++67L+zbqFSpkmUbbdu2DWj9bdu22QK9jh07+rXukSNHpFy5chELNZs0aRLMSxKwKVOm2Lbdq1evqGwbAABdkBHACaEmtMSEBbeavHK3JZDY+tdJ1SUBcJFohZp//vmnLSjr169fWLexf/9+2zZGjBgRcD9169a19FGxYkXJzs4ucL1OnTrZfiXqz3r56dixo6W/f/zjH0H3FYiXX37Z9jpyoyAAQLwhI4ATQk1oiQkLbrXrSLolkBi/dIfqkgC4SLRCzRkzZtiCsmnTpoV1G99++61tGwsXLgy4n/79+9v6Wb58uc91Nm3aJIULF7as89VXXwX7VEREZMSIEbY6Dhw4EFKf/qhdu7Zlm4mJiXLkyJGIbxcAAJ2QEcAJoSa0xIQFt/J4PHLL8MVmINFu4mrVJQFwkWiFmoMGDbIFdDt2hPdLmMGDB9u2kZaWFnA/q1atsvXTo0cPn+vceeedlvY33nhjsE/D5BTS5nd9z9OnT4e8PRGR999/37bNVq1ahaVvAADchIwATgg1oSUmLLhZn69/MQOJGv3nSEZm8Kc7Aogv0Qo1W7ZsaQnKSpcuLR5PeK8BfP/991u2UbVq1aD6ycnJsV2bs3r16vm2nz59ui0IXLRoUbBPw+R0fc9hw4bZ2nk8HqlSpYoMGjTI7zu9O5kxY4YUL17csr3ixYvL9u3bQ3kaAAC4EhkBnBBqQktMWHCz7345YAkllv9xWHVJAFwiWqHmZZddZgnLGjduHPZtXH755WH7hWGHDh1sgeKvv/5qa3f+/HlJSkqKyA19srKypEiRIpa+nW58tH37dvPxypUry4ABA2TPnj1+b+fYsWPy/PPP206fNwxDxowZE5bnAgCA25ARwAmhJrTEhAU3O37mvFTr83co8dps+wdvAHASjVDzyJEjtrCsTp060rt376CX5ORkyzbS0tJs23j55ZeDrvmbb77x61eSr7/+uq3d2rVrg95uXjVr1rT0fe2119rafPbZZ7YaEhIS5NZbb5V+/frJ7NmzZcuWLZKamiqnT5+Wv/76S9avXy8TJ06Utm3bSokSJWzrG4YhQ4cODdvzAADAbcgI4IRQE1piwoLbtXrnBzOUaPaW7xtaAECuaISaCxYscAzNQlkaNGhg2cbChQttbWbOnBl0zenp6VKsWDFLfzfffLOlTWpqqpQpU8bS5uGHHw56m04eeOABS/+FCxeWs2fPWtr06NEjrK9tmTJlZOLEiWF9HgAAuA0ZAZwQakJLTFhwuxHzfrMEE4dPnVNdEgAXiEao6fRrxlCXzp07F7iNvXv3hlR3s2bNbL9+TE1NNR9/6qmnbIHj77//HtI28+rdu3eBvwQdP3687RT4YJbChQvLww8/LPv27QvrcwAAwI3ICOCEUBNaYsKC263amWYJJmZs2K+6JAAuEI1Qs23btmEPNT/++GOf26hQoULIdY8dO9a23QkTJoiIyIYNGyQhIcHy2NNPPx3yNvP66KOP8q0hr59//lmGDh0q9957r5QtW9bvILNevXqSnJwccggMAEAsISOAE0JNaIkJC253PitHrk2eawYT3b/YqLokAC4QrRsFIbo8Ho/s27dPli5dKikpKfL222/La6+9Jq+99pqMHTtWpk6dKsuXLw/pbukAAMQyMgI4IdSElpiwEAue/HCNGUzcNHSheDwe1SUB0ByhJgAAgB0ZAZwQakJLTFiIBZN+2GUJJ34/eEp1SQA0R6gJAABgR0YAJ4Sa0BITFmLB9kOnLOHE+8t2qC4JgOYINQEAAOzICOCEUBNaYsJCLPB4PNJo2GIznHhswirVJQHQHKEmAACAHRkBnBBqQktMWIgVfb/ZZIYT1fvNkfRzWapLAqAxQk0AAAA7MgI4IdSElpiwECvmbzloCSgWbk1VXRIAjRFqAgAA2JERwAmhJrTEhIVYcfpcllzdb7YZXtHfDQAAIABJREFUUPSfvkl1SQA0RqgJAABgR0YAJ4Sa0BITFmJJ2/dXmQHFLcMXi8fjUV0SAE0RagIAANiREcAJoSa0xISFWDJ+6Q5LSLHj8GnVJQHQFKEmAACAHRkBnBBqQktMWIglvx08aQkpJv6wS3VJADRFqAkAAGBHRgAnhJrQEhMWYonH45GGQxeZIUX7SWtUlwRAU4SaAAAAdmQEcEKoCS0xYSHW9P7qFzOkqN5/jpw9n626JAAaItQEAACwIyOAE0JNaIkJC7FmzqYDlqBiyW+HVJcEQEOEmgAAAHZkBHBCqAktMWEh1pzMyJSkvrPNoGLQzC2qSwKgIUJNAAAAOzICOCHUhJaYsBCLHhm/0gwqbh+xRHU5ADREqAkAAGBHRgAnhJrQEhMWYtG7S7ZbwordR9JVlwRAM4SaAAAAdmQEcEKoCS0xYSEWbfnrhCWs+HDFLtUlAdAMoSYAAIAdGQGcEGpCS0xYiEUej0duGrrQDCsen7BadUkANEOoCQAAYEdGACeEmtASExZiVZ+vN5lhxdX9ZsupjEzVJQHQCKEmAACAHRkBnBBqQktMWIhVi35NtQQWczYdUF0SAI0QagIAANiREcAJoSa0xISFWHX2fLbU6D/HDCy6f7FRdUkANEKoCQAAYEdGACeEmtASExZiWcePfjIDi/qvLJDsHI/qkgBoglATAADAjowATgg1oSUmLMSyT1bvsYQW6/YcU10SAE0QagIAANiREcAJoSa0xISFWHbgxFlLaDFi3m+qSwKgCUJNAAAAOzICOCHUhJaYsBDr7huz3Awt7nlzmepyAGiCUBMAAMCOjABOCDWhJSYsxLpR83+3BBf7jp1RXRIADRBqAgAA2JERwAmhJrTEhIVYt2HvcUtwMXnlbtUlAdAAoSYAAIAdGQGcEGpCS0xYiHU5OR65YchCM7j476Q1qksCoAFCTQAAADsyAjgh1ISWmLAQD3pO22gGF9X7zZH0c1mqSwKgGKEmAACAHRkBnBBqQktMWIgH87YctIQX87YcVF0SAMUINQEAAOzICOCEUBNaYsJCPEg/lyXV+80xw4te035RXRIAxQg1AQAA7MgI4IRQE1piwkK8aD9pjRleNHh1oeTkeFSXBEAhQk0AAAA7MgI4IdSElpiwEC9SVu62BBgb9x5XXRIAhQg1AQAA7MgI4IRQE1piwkK82Hv0jCXAGDn/d9UlAVCIUBMAAMCOjABOCDWhJSYsxJN73lxmBhh3j16muhwAChFqAgAA2JERwAmhJrTEhIV4MmrBNkuIsftIuuqSAChCqAkAAGBHRgAnhJrQEhMW4smWv05YQozxS3eoLgmAIoSaAAAAdmQEcEKoCS0xYSGeeDweaTRssRlitH7vR9UlAVCEUBMAAMCOjABOCDWhJSYsxJvB3241Q4xqfb6TQ6cyVJcEQAFCTQAAADsyAjgh1ISWmLAQb1bvTLMEGZ+s3qO6JAAKEGoCAADYkRHACaEmtMSEhXiTneOR619ZYAYZ7SetUV0SAAUINQEAAOzICOCEUBNaYsJCPOo5baMZZFzdb7aczMhUXRKAKCPUBAAAsCMjgBNCTWiJCQvxaNGvqZYwY8aG/apLAhBlhJoAAAB2ZARwQqgJLTFhIR5lZGZLreS5ZpjR+ZP1qksCEGWEmgAAAHZkBHBCqAktMWEhXnX+ZL0ZZtRKnisZmdmqSwIQRYSaAAAAdmQEcEKoCS0xYSFezdiw3xJoLP4tVXVJAKKIUBMAAMCOjABOCDWhJSYsxKuTGZlydb/ZZqDRa9ovqksCEEWEmgAAAHZkBHBCqAktMWEhnrWftMYMNOq/skCyczyqSwIQJYSaAAAAdmQEcEKoCS0xYSGeTVm1xxJqrNlFqAHEC0JNAAAAOzICOCHUhJaYsBDPDp3MkGp9/g41Bn+7VXVJAKKEUBMAAMCOjABOCDWhJSYsxLsHx64wQ42bX1skOZyCDsQFQk0AAAA7MgI4IdSElpiwEO8mLN9pCTbW/3lMdUkAooBQEwAAwI6MAE4INaElJizEu/3Hz1qCjSGzOAUdiAeEmgAAAHZkBHBCqAktMWEBIve/+/cp6I2GLRaPh1PQgVhHqAkAAGBHRgAnhJrQEhMWYD8F/WdOQQdiHqEmAACAHRkBnBBqQktMWID9FPRXv+MUdCDWEWoCAADYkRHACaEmtMSEBVzAKehAfCHUBAAAsCMjgBNCTWiJCQu44INl1lPQN+w9rrokABFEqAkAAGBHRgAnhJrQEhMWcMG+Y2c4BR2II4SaAAAAdmQEcEKoCS0xYQF/a8Up6EDcINQEAACwIyOAE0JNaIkJC/jb+8t2cAo6ECcINQEAAOzICOCEUBNaYsIC/rb3qPUU9KGzf1VdEoAIIdQEAACwIyOAE0JNaIkJC7DiFHQgPhBqAgAA2JERwAmhJrTEhAVY5T0FfSOnoAMxiVATAADAjowATgg1oSUmLMAq7ynor3EKOhCTCDUBAADsyAjghFATWmLCAuxavfMDp6ADMY5QEwAAwI6MAE4INaElJizALu8p6Ov2EHYAsYZQEwAAwI6MAE4INaElJizA7sCJs1Ktz99hR/KMzapLAhBmhJoAAAB2ZARwQqgJLTFhAc7ajF9phh31X1kgWdk5qksCEEaEmgAAAHZkBHBCqAktMWEBzj5ZvccSeCzddlh1SQDCiFATAADAjowATgg1oSUmLMDZsfTzktR3thl4dPtig+qSAIQRoSYAAIAdGQGcEGpCS0xYQP46fvSTGXjUSp4rGZnZqksCECaEmgAAAHZkBHBCqAktMWEB+ZuxYb8l9Ji96YDqkgCECaEmAACAHRkBnBBqQktMWED+0s9lSc0Bc83Q4/8mr1VdEoAwIdQEAACwIyOAE0JNaIkJC/Ct69SfzdCjer85cuJspuqSAIQBoSYAAIAdGQGcEGpCS0xYgG8Lt6Zago8v1u5VXRKAMCDUBAAAsCMjgBNCTWiJCQvw7XxWjtR9eb4ZfDw+YbXqkgCEAaEmAACAHRkBnBBqQktMWEDB+nz9ixl8XNnnOzl0MkN1SQBCRKgJAABgR0YAJ4Sa0BITFlCwlTvSLOHHpB92qS4JQIgINQEAAOzICOCEUBNaYsICCpad45Gbhi40w49W765QXRKAEBFqAgAA2JERwAmhJrTEhAX4Z8isrZYAZOfh06pLAhACQk0AAAA7MgI4IdSElpiwAP9s3n/CEoCMnP+76pIAhIBQEwAAwI6MAE4INaElJizAPx6PR+4evcwMQBoNWyw5OR7VZQEIEqEmAACAHRkBnBBqQktMWID/3l+2wxKCrNyRprokAEEi1AQAALAjI4ATQk1oiQkL8F/qyQy5ss/fIUiPLzeqLglAkAg1AQAA7MgI4IRQE1piwgIC037SGjMEqZU8V86ez1ZdEoAgEGoCAP6fvTsNsrO6D/zvjFOpSWqSSnlSmVTlHwMGREwAB+N4wYmx47HJZGxjx2YgcSYkIXYcx07MTBKEhBCrMGCBQYDBwgaMjQHHrFKrtaF9F5LQvqJ9l1B3S61e7z3/Fxm1fTlHUl+pu5/T934+Vc+LqUof/7pf/Gr46lmAmEZAiqhJliwsqM6LS3dUhJAXl+4oeiTgFIiaAAAxjYAUUZMsWVhQnaMd3eH3bmrsCSF/+dj8okcCToGoCQAQ0whIETXJkoUF1fvXnyzrCSFnDR0Xdje1FT0SUCVREwAgphGQImqSJQsLqjdv04GKGPLI9I1FjwRUSdQEAIhpBKSImmTJwoLqlUrlcOmdU3tiyCfunR7K5XLRYwFVEDUBAGIaASmiJlmysODUjJ64tiKIrNjRVPRIQBVETQCAmEZAiqhJliwsODVv7D9SEURufnll0SMBVRA1AQBiGgEpoiZZsrDg1H3uodk9QeS9t04Knd2lokcCeknUBACIaQSkiJpkycKCU/fD+Vsqokjjyt1FjwT0kqgJABDTCEgRNcmShQWnruloZxgyvKEnivzt4wuLHgnoJVETACCmEZAiapIlCwtOzz//eElPFDlr6Liwp7mt6JGAXhA1AQBiGgEpoiZZsrDg9MzZuL8ijDz46oaiRwJ6QdQEAIhpBKSImmTJwoLTUyqVwx/d9WpPGLns7ldDuVwueizgJERNAICYRkCKqEmWLCw4fWOmrq+II/M2HSh6JOAkRE0AgJhGQIqoSZYsLDh9u5vawllDfxZHrntmadEjASchagIAxDQCUkRNsmRhQd/46+8v6Ikj593YEJrbOoseCTgBURMAIKYRkCJqkiULC/rGhBW7KgLJU/O2FD0ScAKiJgBATCMgRdQkSxYW9I2OrlJ4762TegLJp8fMKnok4ARETQCAmEZAiqhJliws6Du3j1tVEUlW72oueiTgOERNAICYRkCKqEmWLCzoOxv2tlREkpEvrSx6JOA4RE0AgJhGQIqoSZYsLOhbn3todk8kec8tE0N7V3fRIwEJoiYAQEwjIEXUJEsWFvStZxZurQglLy7dUfRIQIKoCQAQ0whIETXJkoUFfetIe1c4f8SEnlBy5SNzix4JSBA1AQBiGgEpoiZZsrCg7w17fnlFLFm/p6XokYC3EDUBAGIaASmiJlmysKDvrdrZXBFLbn7ZB4MgN6ImAEBMIyBF1CRLFhb0j8/+3AeDLhzZGI52+GAQ5ETUBACIaQSkiJpkycKC/vGTxdsrgslzi7YVPRLwc0RNAICYRkCKqEmWLCzoH22d3eHCkY09weSKB2cXPRLwc0RNAICYRkCKqEmWLCzoP7e8vKoimqzY0VT0SMD/I2oCAMQ0AlJETbJkYUH/2bD3cEU0ueH55UWPBPw/oiYAQEwjIEXUJEsWFvSvqx6d2xNNzh8xIRxu7yp6JCCImgAAKRoBKaImWbKwoH+9tGxnRTh5at6WokcCgqgJAJCiEZAiapIlCwv6V3tXd3jvrZN6wsmffHtmKJfLRY8FdU/UBACIaQSkiJpkycKC/ndnw5qKeLJ4y5tFjwR1T9QEAIhpBKSImmTJwoL+t/VAa0U8+cYzS4seCeqeqAkAENMISBE1yZKFBQPjmu8v6Ikn5wwbH/a1tBc9EtQ1URMAIKYRkCJqkiULCwbGq2v2VgSU+6esL3okqGuiJgBATCMgRdQkSxYWDIxSqRwuu/vVnoDy/jsmh87uUtFjQd0SNQEAYhoBKaImWbKwYOA8NuuNiojy8rKdRY8EdUvUBACIaQSkiJpkycKCgdPc1hnePWJCT0T5/MNzih4J6paoCQAQ0whIETXJkoUFA2v4C8srQsqKHU1FjwR1SdQEAIhpBKSImmTJwoKBtX5PS0VI+defLCt6JKhLoiYAQEwjIEXUJEsWFgy8P//uvJ6QMmR4Q3jzSEfRI0HdETUBAGIaASmiJlmysGDgNa7cXRFTHp62seiRoO6ImgAAMY2AFFGTLFlYMPC6S+Vw6Z1Te2LKpXdODV3dpaLHgroiagIAxDQCUkRNsmRhQTG+M31jRVCZsGJ30SNBXRE1AQBiGgEpoiZZsrCgGG8e6QhDhjf0BJX/9cjcokeCuiJqAgDENAJSRE2yZGFBca7/99crosry7U1FjwR1Q9QEAIhpBKSImmTJwoLirNvTUhFV/vnHS4oeCeqGqAkAENMISBE1yZKFBcX6q+8t6IkqZ98wPuxqOlr0SFAXRE0AgJhGQIqoSZYsLCjWzPX7KsLKnQ1rih4J6oKoCQAQ0whIETXJkoUFxSqXy+GT987oCSsXjmwMR9q7ih4Lap6oCQAQ0whIETXJkoUFxXt20baKuPLEnM1FjwQ1T9QEAIhpBKSImmTJwoLitXd1h0tum9wTVz5y96uhu1QueiyoaaImAEBMIyBF1CRLFhbk4f4p6ysCS+PK3UWPBDVN1AQAiGkEpIiaZMnCgjwcONwehgxv6AksV35nbtEjQU0TNQEAYhoBKaImWbKwIB9Df7q8IrIs23ao6JGgZomaAAAxjYAUUZMsWViQjw17Wyoiyz/+6LWiR4KaJWoCAMQ0AlJETbJkYUFe/vr7C3oiy1lDx4WtB1qLHglqkqgJABDTCEgRNcmShQV5mbvxQEVoufGFFUWPBDVJ1AQAiGkEpIiaZMnCgryUy+XwmQdn94SWIcMbwv7D7UWPBTVH1AQAiGkEpIiaZMnCgvxMWLGrIrbc07i26JGg5oiaAAAxjYAUUZMsWViQn1KpHD72rWk9seXCkY3hcHtX0WNBTRE1AQBiGgEpoiZZsrAgT88s3FoRXMbO3FT0SFBTRE0AgJhGQIqoSZYsLMhTe1d3eP8dk3uCywfumBI6ukpFjwU1Q9QEAIhpBKSImmTJwoJ8PTJ9Y0V0eXbRtqJHgpohagIAxDQCUkRNsmRhQb5a2jrDBSMbe6LLH39rWiiVykWPBTVB1AQAiGkEpIiaZMnCgrzdNWFNRXhpXLm76JGgJoiaAAAxjYAUUZMsWViQt30t7eHc4Q094eWKB2eHctndmnC6RE0AgJhGQIqoSZYsLMjfsOeXV8SX2Rv2Fz0SDHqiJgBATCMgRdQkSxYW5G/rgdbwrhvG98SXqx6dW/RIMOiJmgAAMY2AFFGTLFlYMDhc9+xSAQb6kKgJABDTCEgRNcmShQWDw4a9h8OZQ38WYP7ysflFjwSDmqgJABDTCEgRNcmShQWDxz/+6LWKCLN026GiR4JBS9QEAIhpBKSImmTJwoLBY83u5ooIc+0TC4seCQYtURMAIKYRkCJqkiULCwaXLz25qCLErNzZVPRIMCiJmgAAMY2AFFGTLFlYMLgs395UEWL+4YeLix4JBiVREwAgphGQImqSJQsLBp9rvr+gJ8ScOXRcWL+npeiRYNARNQEAYhoBKaImWbKwYPBZvOXNihjzzz9eUvRIMOiImgAAMY2AFFGTLFlYMDj9+Xfn9cSYs4aOCxv3HS56JBhURE0AgJhGQIqoSZYsLBic5m484G5NOA2iJgBATCMgRdQkSxYWDF5XPTq34t2aG/Z6tyb0lqgJABDTCEgRNcmShQWD1/xNlXdr/uOPXit6JBg0RE0AgJhGQIqoSZYsLBjcvjh2fsXdmmt2Nxc9EgwKoiYAQEwjIEXUJEsWFgxui7dUhpmvPLW46JFgUBA1AQBiGgEpoiZZsrBg8Pur7y2oiDMrdzYVPRJkT9QEAIhpBKSImmTJwoLBb+m2QxVx5u+eXFT0SJA9URMAIKYRkCJqkiULC2rD3z6+sCLQLN/ubk04EVETACCmEZAiapIlCwtqw4odTRWB5m8eX1j0SJA1URMAIKYRkCJqkiULC2rHl55cVBFpFm95s+iRIFuiJgBATCMgRdQkSxYW1I7Vu5orIs3/emRuKJfLRY8FWRI1AQBiGgEpoiZZsrCgtnzt6SUVoWb6un1FjwRZEjUBAGIaASmiJlmysKC2vLH/SHjXDeN7Qs3/fGBmKJXcrQlvJWoCAMQ0AlJETbJkYUHtueH55RWx5pXXdxY9EmRH1AQAiGkEpIiaZMnCgtqzp7ktDBne0BNrPnrPtNDZXSp6LMiKqAkAENMISBE1yZKFBbVpVMPqimDz9IKtRY8EWRE1AQBiGgEpoiZZsrCgNh1q7QgXjGzsCTbvv2NyaOvsLnosyIaoCQAQ0whIETXJkoUFtevBVzdURJtHpm8seiTIhqgJABDTCEgRNcmShQW1q7WjK7zv9sk90eaimyeGpqOdRY8FWRA1AQBiGgEpoiZZsrCgtv1g7uaKcPPNCWuKHgmyIGoCAMQ0AlJETbJkYUFt6+gqhT+669WecDNkeEPYceho0WNB4URNAICYRkCKqEmWLCyofeNe31URb657ZmnRI0HhRE0AgJhGQIqoSZYsLKh95XI5fPah2RUBZ8WOpqLHgkKJmgAAMY2AFFGTLFlYUB8WvSXgXPXo3FAul4seCwojagIAxDQCUkRNsmRhQf34ylOLKyLOlNV7ih4JCiNqAgDENAJSRE2yZGFB/di8/0g4+4bxPRHnj781LXR1l4oeCwohagIAxDQCUkRNsmRhQX25+eWVFSHnqXlbih4JCiFqAgDENAJSRE2yZGFBfXnzSEe4YGRjT8i55LZJoaWts+ixYMCJmgAAMY2AFFGTLFlYUH8enbGxIubc07i26JFgwImaAAAxjYAUUZMsWVhQf9o6u8OHvzm1J+YMGd4QdjUdLXosGFCiJgBATCMgRdQkSxYW1KcXl+6oCDrfeGZp0SPBgBI1AQBiGgEpoiZZsrCgPpVK5fCZMbMqos5rW98seiwYMKImAEBMIyBF1CRLFhbUr8VbKqPOZ8bMCqVSueixYECImgAAMY2AFFGTLFlYUN/++cdLKsLOs4u2FT0SDAhREwAgphGQImqSJQsL6tvuprbw7hETesLOJbdNDi1tnUWPBf1O1AQAiGkEpIiaZMnCAh58dUNF3Llj/OqiR4J+J2oCAMQ0AlJETbJkYQFtnd3hD++a2hN3zhk2Pmzad7josaBfiZoAADGNgBRRkyxZWEAIIUxYsbsi8Pz19xcUPRL0K1ETACCmEZAiapIlCwsIIYRyuRz+Yuy8isjz6pq9RY8F/UbUBACIaQSkiJpkycICjlm3pyW864bxPZHnY/dMCx1dpaLHgn4hagIAxDQCUkRNsmRhAT9v5EsrK0LPozM2Fj0S9AtREwAgphGQImqSJQsL+HlNrZ3h92+Z2BN6zh8xIexuait6LOhzoiYAQEwjIEXUJEsWFvBWP5y/pSL2fPVHrxU9EvQ5URMAIKYRkCJqkiULC3ir7lI5fGbMrIrgM2PdvqLHgj4lagIAxDQCUkRNsmRhASnLtzeFM4f+LPhcdveroa2zu+ixoM+ImgAAMY2AFFGTLFlYwPGMeHFFRfS5f8r6okeCPiNqAgDENAJSRE2yZGEBx9N0tDNcctuknuhz7vCGsOXAkaLHgj4hagIAxDQCUkRNsmRhASfy/JLtFeHnmu8vCOVyueix4LSJmgAAMY2AFFGTLFlYwImUy+Vw1aNzK+LPhBW7ih4LTpuoCQAQ0whIETXJkoUFnMyGvS3h7BvG98SfD46aEo60dxU9FpwWURMAIKYRkCJqkiULC+iNb05YUxGA7hi/uuiR4LSImgAAMY2AFFGTLFlYQG+0dnSFS++c2hOA3nXD+LBqZ3PRY8EpEzUBAGIaASmiJlmysIDemrhyd0UE+vSYWaG75KNBDE6iJgBATCMgRdQkSxYWUI0v/2BRRQgaO3NT0SPBKRE1AQBiGgEpoiZZsrCAauxpbgsX3NTYE4J+98YJYdvB1qLHgqqJmgAAMY2AFFGTLFlYQLV+OH9LRQz6399bEMplj6EzuIiaAAAxjYAUUZMsWVhAtUqlcrjyO3MrgtALS3YUPRZURdQEAIhpBKSImmTJwgJOxYa9h8O5wxp6gtDFt04KB490FD0W9JqoCQAQ0whIETXJkoUFnKr7p6yviELXPbO06JGg10RNAICYRkCKqEmWLCzgVHV0lcIn7p1eEYZmrNtX9FjQK6ImAEBMIyBF1CRLFhZwOhZveTOcOfRnYejD35waWju6ih4LTkrUBACIaQSkiJpkycICTtdNL66oiEM3vbii6JHgpERNAICYRkCKqEmWLCzgdB1u7wofGjWlIhDN3Xig6LHghERNAICYRkCKqEmWLCygL8xYt68iEP3hXR5DJ2+iJgBATCMgRdQkSxYW0FeG/vR1j6EzaIiaAAAxjYAUUZMsWVhAX2lp6wyX3jnVY+gMCqImAEBMIyBF1CRLFhbQl2aujx9DP9LuMXTyI2oCAMQ0AlJETbJkYQF9behPl1fEohEeQydDoiYAQEwjIEXUJEsWFtDXUo+hz9m4v+ixoIKoCQAQ0whIETXJkoUF9IdZ6/dXBKMPf9Nj6ORF1AQAiGkEpIiaZMnCAvrLDc9XPoY+9KfLix4JeoiaAAAxjYAUUZMsWVhAfznc3hU9hj551Z6ix4IQgqgJAJCiEZAiapIlCwvoT3M3HghnDv1ZOLrktklh/+H2oscCURMAIEEjIEXUJEsWFtDf7hi/uiIeXfvEwlAul4seizonagIAxDQCUkRNsmRhAf2tvas7XH7fjIqA9OMFW4seizonagIAxDQCUkRNsmRhAQNhze7mcO6whp6A9O4RE8Lm/UeKHos6JmoCAMQ0AlJETbJkYQED5bszNlVEpM8+NDt0dZeKHos6JWoCAMQ0AlJETbJkYQEDpVQqh6sfnVcRku6fsr7osahToiYAQEwjIEXUJEsWFjCQdhw6Gi4Y2dgTkt51w/iwbNuhoseiDomaAAAxjYAUUZMsWVjAQHthyY6KmHTZ3a+Gw+1dRY9FnRE1AQBiGgEpoiZZsrCAgVYul8M//ui1iqB03TNLix6LOiNqAgDENAJSRE2yZGEBRWg62hkuvXNqRVT66Wvbix6LOiJqAgDENAJSRE2yZGEBRVm85WB41w3je6LS+SMmhDf2Hyl6LOqEqAkAENMISBE1yZKFBRRpzNT1FWHpUw/MCh1dpaLHog6ImgAAMY2AFFGTLFlYQJG6S+Vw9aPzKuLS7eNWFT0WdUDUBACIaQSkiJpkycICira7qS38/i0TKwLTtLV7ix6LGidqAgDENAJSRE2yZGEBOZiyek9FYLrktklhb0tb0WNRw0RNAICYRkCKqEmWLCwgFze/vLIiMv3F2Hmhu1QueixqlKgJABDTCEgRNcmShQXkor2rO/yPb8+sCE33TlpX9FjUKFETACCmEZAiapIlCwvIycZ9h8P5Iyb0hKYzh44LM9fvK3osapCoCQAQ0whIETXJkoUF5OalZTsrYtN7b50Udjd5vyZ9S9QEAIhpBKSImmTJwgJydOMLKyqC0+cfnhM6u0tFj0UNETUBAGIaASmiJlmysIActXd1h089MKsiOo0av7rosaghoiYAQEwjIEXUJEsWFpCrbQdbw4UjGyvC06RVe4oeixohagIAxDQCUkRNsmRhATmbtGpPRXi6cGSqdFwlAAAgAElEQVRj2HawteixqAGiJgBATCMgRdQkSxYWkLs7xq+uiE+femBWaOvsLnosBjlREwAgphGQImqSJQsLyF1ndyl8/uE5FQHqX55bFsrlctGjMYiJmgAAMY2AFFGTLFlYwGCwq+loeO+tkyoi1A/mbSl6LAYxURMAIKYRkCJqkiULCxgs5m06EN51w/ieCHXOsPFh8RYhilMjagIAxDQCUkRNsmRhAYPJY7PeqAhRf3D75LC3ua3osRiERE0AgJhGQIqoSZYsLGAwKZfL4Z9+vKQiRn3+4Tmho6tU9GgMMqImAEBMIyBF1CRLFhYw2Bzt6A6X3zejIkiNeHFF0WMxyIiaAAAxjYAUUZMsWVjAYLT1QGu4cGRjRZT6yeLtRY/FICJqAgDENAJSRE2yZGEBg9W0tXvDmUN/FqXOHd4Qlm47VPRYDBKiJgBATCMgRdQkSxYWMJiNmbo++nDQ7iYfDuLkRE0AgJhGQIqoSZYsLGAwK5XK4e9/sLgiTn16zKzQ1tld9GhkTtQEAIhpBKSImmTJwgIGuyPtXeFPvj2zIlB97ekloVwuFz0aGRM1AQBiGgEpoiZZsrCAWrD9zdZwyW2TKiLVmKnrix6LjImaAAAxjYAUUZMsWVhArVi85WA4d1hDRaiasGJ30WORKVETACCmEZAiapIlCwuoJc8t2lYRqt49YkJYtbO56LHIkKgJABDTCEgRNcmShQXUmtvHraqIVZfeOTXsP9xe9FhkRtQEAIhpBKSImmTJwgJqTXepHK75/oKKYPX5h+eE9i5fROdnRE0AgJhGQIqoSZYsLKAWNbd1ho+Pnl4Rrb7xzFJfRKeHqAkAENMISBE1yZKFBdSqzfuPhPfcMrEiXI2etK7osciEqAkAENMISBE1yZKFBdSyeZsOhHOGja+IV88t2lb0WGRA1AQAiGkEpIiaZMnCAmrd80u2V8Srs28YH2Zv2F/0WBRM1AQAiGkEpIiaZMnCAurB/VPWVwSsC0Y2hnV7WooeiwKJmgAAMY2AFFGTLFlYQD0ol8vh/z63rCJiXXrn1LC3pa3o0SiIqAkAENMISBE1yZKFBdSLjq5S+PPvzqsIWZ96YFZo7egqejQKIGoCAMQ0AlJETbJkYQH1pOloZ/jvo6dXxKxrn1gYukvlokdjgImaAAAxjYAUUZMsWVhAvdl2sDVcctvkiqB14wsrQrksbNYTURMAIKYRkCJqkiULC6hHr28/FH73xgkVUeuBKeuLHosBJGoCAMQ0AlJETbJkYQH1atKqPeGsoeMqwtbTC7YWPRYDRNQEAIhpBKSImmTJwgLq2dMLtlaErbOGjguNK3cXPRYDQNQEAIhpBKSImmTJwgLq3QNT1lfErXOHN4T5mw4UPRb9TNQEAIhpBKSImmTJwgLqXblcDiNeXFERuC4Y2RjW7G4uejT6kagJABDTCEgRNcmShQUQQnepHL76w9cqItcf3D45bDvYWvRo9BNREwAgphGQImqSJQsL4D+0d3WHP//uvIrQ9bF7poWDRzqKHo1+IGoCAMQ0AlJETbJkYQH8TEtbZ/gf355ZEbs+PWZWaGnrLHo0+pioCQAQ0whIETXJkoUFUGlvS1v4o7terQheVz4yNxzt6C56NPqQqAkAENMISBE1yZKFBRDbvP9IuOS2yRXR66++tyB0dJWKHo0+ImoCAMQ0AlJETbJkYQGkrdndHN5zy8SK8PWVpxaHrm5hsxaImgAAMY2AFFGTLFlYAMe3bNuhcP6ICRXx6/88uyyUSuWiR+M0iZoAADGNgBRRkyxZWAAnNm/TgTBkeENFALvpxRWhXBY2BzNREwAgphGQImqSJQsL4OSmrd0bzhk2viKC3d24puixOA2iJgBATCMgRdQkSxYWQO+MX74rnDV0XEUIe2jahqLH4hSJmgAAMY2AFFGTLFlYAL33k8XbK0LYGdePC2Nnbip6LE6BqAkAENMISBE1yZKFBVCdJ+ZsjsLmY7PeKHosqiRqAgDENAJSRE2yZGEBVO+R6RujsPn4bGFzMBE1AQBiGgEpoiZZsrAATs2Dr26IwuYP5m4ueix6SdQEAIhpBKSImmTJwgI4dWOmro/C5g/nbyl6LHpB1AQAiGkEpIiaZMnCAjg9354ch82nF2wteixOQtQEAIhpBKSImmTJwgI4faMnrYvC5jMLhc2ciZoAADGNgBRRkyxZWACnr1wuh3sa11ZEsjOHumMzZ6ImAEBMIyBF1CRLFhZA3yiXy+GbE9ZEd2w+MWdz0aORIGoCAMQ0AlJETbJkYQH0nXK5HO5siMPmd2dsKno03kLUBACIaQSkiJpkycIC6FvlcjmMnrg2Cptjpq4vejR+jqgJABDTCEgRNcmShQXQP8ZMjb+K/q2Ja0O5XC56NIKoCQCQohGQImqSJQsLoP98d8amKGzeMX61sJkBURMAIKYRkCJqkiULC6B/PTFncxQ2b3pxRSiVhM0iiZoAADGNgBRRkyxZWAD970fzt4Yzh1aGzX95blno6i4VPVrdEjUBAGIaASmiJlmysAAGxk8Wbw9nvSVs/v0PFof2ru6iR6tLoiYAQEwjIEXUJEsWFsDAeWnZznD2DeMrYtoXx84PR9q7ih6t7oiaAAAxjYAUUZMsWVgAA2vqmj1hyPCGiqB2xYOzw6HWjqJHqyuiJgBATCMgRdQkSxYWwMBb8MbBcMFNjRVR7ZP3zgh7m9uKHq1uiJoAADGNgBRRkyxZWADFWLGjKbz31kkVYe2P7no1bD3QWvRodUHUBACIaQSkiJpkycICKM6mfYfDh0ZNqYhrf3D75LBmd3PRo9U8URMAIKYRkCJqkiULC6BYOw8dDX/8rWkVge3CkY1h3qYDRY9W00RNAICYRkCKqEmWLCyA4h043B4+9cCsish27rCGMO71XUWPVrNETQCAmEZAiqhJliwsgDy0tHWGP//uvIrQdubQceH7s98oerSaJGoCAMQ0AlJETbJkYQHko72rO3z96SUVse2M68eFUeNXh1KpXPR4NUXUBACIaQSkiJpkycICyEupVA53jF8dhc1/+vGS0NFVKnq8miFqAgDENAJSRE2yZGEB5OmxWW+EM4dWhs2/GDsvtLR1Fj1aTRA1AQBiGgEpoiZZsrAA8vXK6zvDucMaKuLbn3x7ZtjT3Fb0aIOeqAkAENMISBE1yZKFBZC3eZsOhAtGNlYEuA+NmhLW7G4uerRBTdQEAIhpBKSImmTJwgLI39rdLeEDd0ypiHC/d1NjeHXt3qJHG7RETQCAmEZAiqhJliwsgMFh56Gj4ZP3zqgIcWcNHReenLu56NEGJVETACCmEZAiapIlCwtg8Ghu6wx/+dj86MvoI19aGbpL5aLHG1RETQCAmEZAiqhJliwsgMGlq7sUhr+wPAqbf/P4wnC4vavo8QYNURMAIKYRkCJqkiULC2DwKZfL4bFZb4Qzh1aGzcvvmxF2Hjpa9HiDgqgJABDTCEgRNcmShQUweE1etSe8e8SEijj3vtsnh9e3Hyp6tOyJmgAAMY2AFFGTLFlYAIPbih1N4f13TK4IdOfd2BBeXraz6NGyJmoCAMQ0AlJETbJkYQEMfrub2sKf3j8zes/m3Y1rQskHhJJETQCAmEZAiqhJliwsgNpwpL0r/N2Ti6Kwee0TC0NLW2fR42VH1AQAiGkEpIiaZMnCAqgdpVI53N24JgqbHx89Pbyx/0jR42VF1AQAiGkEpIiaZMnCAqg9Ly/bGc67saEi2l04sjHMWLev6NGyIWoCAMQ0AlJETbJkYQHUppU7m8Kld06tCHdnDR0Xxs7cFMpl79kUNQEAYhoBKaImWbKwAGrX/sPt4crvzI0eR7/umaWhrbO76PEKJWoCAMQ0AlJETbJkYQHUto6uUhj2/PIobP7PB2aGbQdbix6vMKImAEBMIyBF1CRLFhZAfXhq3pZw9g3jK0Lee26ZGKat3Vv0aIUQNQEAYhoBKaImWbKwAOrH/E0HwiW3TaqIeWcOHRfun7I+lEr19Z5NURMAIKYRkCJqkiULC6C+7G5qC597aHb0OPrfPL4wNLV2Fj3egBE1AQBiGgEpoiZZsrAA6k9HVync9OKKKGz+0V2vhpU7m4oeb0CImgAAMY2AFFGTLFlYAPXr+SXbw3k3NlTEvSHDG8K/L95e9Gj9TtQEAIhpBKSImmTJwgKob6t3NYeP3P1qdNfm0J8uD22d3UWP129ETQCAmEZAiqhJliwsAJqOdoZrn1gYhc3L75sRNu47XPR4/ULUBACIaQSkiJpkycICIIQQSqVyePDVDeHMoZVh8/wRE8KLS3cUPV6fEzUBAGIaASmiJlmysAD4ebM37A+X3DY58Tj66zX1OLqoCQAQ0whIETXJkoUFwFvtbWkLfzF2XvJx9A17a+NxdFETACCmEZAiapIlCwuAlO5SOdw/ZX046y2Po797xITw/JLB/3V0URMAIKYRkCJqkiULC4ATmbNxf3jf7fHj6P/y3LLQ2tFV9HinTNQEAIhpBKSImmTJwgLgZPa1tIe/fGx+FDY/ds+0sHx7U9HjnRJREwAgphGQImqSJQsLgN4olcphzNT4cfRzho0Pj0zfGEqlctEjVkXUBACIaQSkiJpkycICoBrzNx0IHxo1Jbpr8y/Gzgt7mtuKHq/XRE0AgJhGQIqoSZYsLACq1dTaGf7hh4ujsPn7t0wMk1btKXq8XhE1AQBiGgEpoiZZsrAAOBXlcjk8u3Bb+N0bJ0Rxc/gLy8PRju6iRzwhURMAIKYRkCJqkiULC4DTsWnf4fCpB2ZFYfO/j54eVuzI9yNCoiYAQEwjIEXUJEsWFgCnq6OrFEY1rI7C5tk3jA8PTFkfurpLRY8YETUBAGIaASmiJlmysADoK7PW7w9/cPvkKG5e8eDssHHf4aLHqyBqAgDENAJSRE2yZGEB0JcOHukIX3kq/ojQeTc2hCfmbA6lUrnoEUMIoiYAQIpGQIqoSZYsLAD6WrlcDi8s2REuGNkYxc0vjp0fdh46WvSIoiYAQIJGQIqoSZYsLAD6y66mo+GLY+dHYfOCkY3hp69tD+VycXdtipoAADGNgBRRkyxZWAD0p1KpHJ6cuzmcd2NDFDf//geLw4HD7YXMJWoCAMQ0AlJEzToyadKk8La3va1X19vf/vbwjne8IwwZMiRcffXV4Tvf+U5obm4esFktLAAGwqZ9h8MVD86OwubFt04KLy3bOeB3bYqaAAAxjYAUUbOOfPOb3+x11Exd/+W//Jdwzz33DMh/4FlYAAyUru5SGDN1fTj7hvFR3PzSk4vC3ua2AZtF1AQAiGkEpIiadeSqq646rah57Lrqqqv6PWxaWAAMtBU7msLl982IwuaFIxvDTxYPzLs2RU0AgJhGQIqoWUfOPffcijh50UUXheuvvz66/u3f/i18+ctfDh/4wAfCL/zCLyTD5u23396vs1pYABSho6sU7p20LnnX5jXfX9DvX0gXNQEAYhoBKaJmnTh8+HAUKO+4446T/tzy5cvDe97znihq/uqv/mo4cOBAv81rYQFQpFU7m8Of3j8zCpu/d1Nj+NH8rf1216aoCQAQ0whIETXrxMyZM6Mw+corr/TqZw8ePBje+c53Rj//ve99r9/mtbAAKFpndyk8+OqGcO6w+Avpf/7deWHrgdY+/98UNQEAYhoBKaJmnbj//vujKLl169Ze//x3vvOd6Of/6q/+qt/mtbAAyMWGvS3hsw/FX0g/78aG8Mj0jaGzu9Rn/1uiJgBATCMgRdSsE9dcc01FkPz1X//1qn5+y5YtUdT82Mc+1k/TWlgA5KW7VA5jZ24KQ4bHd23+ybdnhqXbDvXJ/46oCQAQ0whIETXrxEUXXVQRJD/ykY9U9fNdXV1R1Lz44ov7aVoLC4A8vbH/SLjykblR2Dxz6Lgw8qWVoaWt87TOFzUBAGIaASmiZh1ob28Pv/iLv1gRJL/2ta9VdUZbW1sUNT/60Y/208QWFgD5KpXK4ZmFW8NFN0+M4uYH7pgSGlfuPuWzRU0AgJhGQIqoWQcWLVoUBcmxY8dWdcb27dujM6688sp+mtjCAiB/+1rawz/9eEkUNs+4flz40pOLwq6mo1WfKWoCAMQ0AlJEzTrw6KOPRkFywYIFVZ3xwgsvRGcMGzasnya2sAAYPKav2xf+8K6pUdj8vZsaw+Oz3wjdpXKvzxI1AQBiGgEpomYd+MpXvlIRI//Tf/pPobW1taozvvSlL0VRc8aMGf00sYUFwOBytKM73NmwJrzrhvFR3PzT+2eGxVve7NU5oiYAQEwjIEXUrAPvf//7K2LkkCFDqvr5nTt3hv/8n/9zxRm/8Ru/Ebq6uvppYgsLgMFp1c7m8JkHZycfSf/XnywLBw63n/DnRU0AgJhGQIqoWeO6u7vDL//yL1cEyS984Qu9/vnOzs7wkY98JLpL87777uvHqS0sAAav7lI5PDFnc7jgpsYobF5088Tw1Lwtx30kXdQEAIhpBKSImjVuxYoVUZC89dZbe/Wzu3btCpdddln08+edd17o6Ojo17ktLAAGu70tbeG6Z5Ym79r81AOzwtJth6KfETUBAGIaASmiZo178sknoyj54osvJv9vjx49GrZv3x5efvnl8JWvfCW6w/Ntb3tb+K3f+q2wadOmfp/bwgKgVszfdCB88t4ZUdg8c+i4MPSnr4c3j/zsHwpFTQCAmEZAiqhZ477xjW9EYfJUr3POOScsX758QOa2sACoJZ3dpTB25qZw/ogJUdx8zy0Tww/mbQld3SVREwAgQSMgRdSscan3YVZ7/eIv/mL4+7//+3DkyJEBm9vCAqAW7WluC19/eknykfTL75sRvjfrDVETAOAtNAJSRM0aVi6Xw6/92q+dUsj8hV/4hXDeeeeF4cOHhx07dgz47BYWALVszsb94eOjpyfjpqgJAFBJIyBF1KxhGzZsiGLlJz7xiXD99ddH14033hi+9a1vhcceeyw0NjaGN998s9DZ3/GOd4Rf//VfD7Nmzarq2rdvX3RWR0dH1ecc7zH7VatWVX1Wa2trdM7BgwerPud47zJdsGBBVefMmTMnec7WrVurnmnv3r3ROZ2dnVWf8/rrrydnWr16ddVnpe4ofvPNN6s+Z+PGjcmZFi5cWNU5s2fPTp6zbdu2qmfas2dPn/y9ly1b1q9/70OHDvXZ33vRokVVn5Wyffv2qs/ZvXt3dE5XV1fV5yxdujQ505o1a6o+6/Dhw9E5TU1NVZ+zYcOG5EyLFy/uk7/3jh07qj5n165d0Tnd3d1Vn7NkyZLkTGvXrq36rJaWlj75e69fvz450/wFi8K/jnk2nPXX3wr/7Yt3Ja8xP3q54qxyOf5q+s6dO6ueaefOndE5pVKp6nNee+215O+2bt26qs9qbm6Ozmlubq76nHXr1iVneu2116o+q1Qq9dvfu1wu99nfe/369VWf1dTUFJ3T0tJS9Tlr165NzrRkyZKqz+ru7o7O2bVrV9XnHO8f5Ks9Z/HixclzNmzY0Cd/78OHD1d9zpo1a5IzLV26tOqzurq6onN2795d9Tnbt2/vk7/3okWLkuds3Lix6rMOHYo/xHbkyJGqz1m9enVypmXLllV9VmdnZ3TOnj17qj5n27ZtyZlmz55d1TkLFy7ss7936r8d+/Lv/frrr/fJ33vv3r1Vn7N169bkTHPmzKnqnAULFiTP2bRpU9UzHTwY/4Nna2tr1eesWrUqOdPy5curPiv1IeF9+/b12d977ty54dd+7ddETSKiZg177rnnoqjZ2NhY9Fi98o53vCP5oaKTXU8//XR01q5du6o+57LLLkvO9elPf7rqs1L/n/1x48ZVfc51112XnOm3f/u3qzrnV37lV5Ln3HbbbVXP9NRTT0Xn7Nu3r+pzPvzhDydn+tznPlf1WStXrozOaWxsrPqcr3/968mZzjjjjKrO+aVf+qXkOaNGjap6pscffzw65+DBg1Wf88EPfjA50xe+8IWqz0oF6cmTJ1d9zle/+tXkTGeffXZV57z97W9PnnP33XdXPdPYsWOjc5qbm6s+533ve19ypquvvrrqs1JBY9q0aVWf8+Uvfzk505AhQ6o+K2X06NFVn/PII49E5xw5cqTqcy6++OLkTF/84herPiv1H3yzZs2q+pxrr702OdP5559f9VmpCHH//fdXfc6DDz4YndPe3l71ORdeeGHyd7vmmmuqPmvu3LnROXPnzq36nGuuuSY504UXXlj1We3t7dE5Dz74YNXn3H///dE5XV1dVZ9z/vnnJ3+3a6+9tuqzZs2K/1Fi4cKFVZ/zxS9+MTnTxRdfXPVZqX8oe+SRR6o+Z/To0cmZqj1nyJAhyXO+/OUvV33WtGnTonNee+21qs+5+uqrkzO9733vq/qs1D8kjB07tupz7r777uRMb3/726s65+yzz06e89WvfrXqmSZPnhyd8/rrr1d9zhe+8IXkTB/84AerPisVoh5//PGqzxk1alRypl/6pV+q6pwzzjgjec7Xv/71qmdK/TfmypUrqz7nc5/7XHKmD3/4w1WflbrZ5amnnqr6nNtuuy0506/8yq9Udc5v//ZvJ8+57rrrqp5p3Lhx0Tlr166t+pxPf/rTyZkuu+yyqs9K/eP0008/XfU5I0eOTM70q7/6q+Ftb3ubqElE1KxhQ4cO7dVyz5GoGV+iZu8uUfPkl6jZu0vU7N2VImpWXqJm7y5R8+SXqNm7S9Ts3SVqnvwSNXt3iZonv0TN3l2iJtUSNWvY5ZdfXrEgfud3fqfokXpN1IwvUbN3l6h58kvU7N0lavbuShE1K6++jJpffWph2Haw8rUmomblJWr27hI1T36Jmr27RM3eXaLmyS9Rs3eXqAk/I2rWsN/8zd+sWBBXXHFF0SP1mndqxpd3avbu8k7Nk1/eqdm7yzs1T/3v7Z2aldfx3qmZesfjd58bX/FOzf/vf99T8f9+57+9Es4d1hBuH7cqNLX+x/vCvFOz8vJOzd5d3ql58ss7NXt3eadm7y7v1Dz1v7d3alZe3qkJPyNq1qgdO3ZE/+pxyy23FD1Wr/myGQD1aOHmgxVfP5+wYlf4xjNLk19Gv+jmiWHszE2hvSsOQQAAtUQjIEXUrFEvv/xyFDVfeeWVosfqNQsLgHr01qi5cPN/3I3x2tY3w+cfnpOMm39419Tw0rKdyS+jAwDUAo2AFFGzRt1yyy1R1Ew9+pQrCwuAenS8qBnCfzyuPGHF7vDRe6Yl4+ZnxswK8zcdKHB6AID+oRGQImrWqCuuuKIiaP7Wb/1W0SNVxcICoB6dKGoe09ldCk/O3RwuvnVSMm5e+8SisGFv/P5VAIDBSiMgRdSsUe985zsrouaf/umfFj1SVSwsAOpRb6LmMc1tneGuCWvCkOENUdg8a+i48K8/WRZ2HDo6gNMDAPQPjYAUUbMGHThwIHr0/MYbbyx6rKpYWADUo2qi5jE7Dx0N/+fZZeHMofFdm+cOawi3vLwqHDjcPgDTAwD0D42AFFGzBk2ePDmKms8//3zRY1XFwgKgHp1K1Dxm5c6m8MWx85OPpJ8/YkIYPWldaGnr7MfpAQD6h0ZAiqhZg+66664oam7ZsqXosapiYQFQj04nah4za/3+8Jkxs5Jx8/dvmRi+O2NTaOvs7ofpAQD6h0ZAiqhZg66++uqKoPlf/+t/LXqkqllYANSjvoiaIRz7Uvqu8PHR05Nx8wN3TAlPL9gaurpLffwbAAD0PY2AFFGTLFlYANSjvoqax3SXyuEni7eHS++cmoybH71nWnhhyY7QXSr30W8AAND3NAJSRE2yZGEBUI/6Omoe097VHR6f/Ua45LZJybj5x9+aFl5cKm4CAHnSCEgRNcmShQVAPeqvqHnMkfauMGbq+nDBTY3JuPnx0dPDy8t2hpK4CQBkRCMgRdQkSxYWAPWov6PmMYdaO8I3J6wJ7x4xIRk3P3Hv9DDu9V3iJgCQBY2AFFGTLFlYANSjgYqaxxw43B5GjV8dfvfGdNy8/L4ZoWG5uAkAFEsjIEXUJEsWFgD1aKCj5jH7D7eH28etCufd2HDcuDlhxW5xEwAohEZAiqhJliwsAOpRUVHzmH0t7eG2V1aFIcOPHzdfWrbTB4UAgAGlEZAiapIlCwuAelR01Dxmb0tbuOXl48fNj94zLTy7cFvo6CoVMh8AUF80AlJETbJkYQFQj3KJmsfsbW4LI19aGc49Tty89M6p4Yk5m0NbZ3ehcwIAtU0jIEXUJEsWFgD1KLeoecye5rZw6yurjvtBoUtumxwemb4xHG7vKnpUAKAGaQSkiJpkycICoB7lGjWPOXikI9zTuDZccFNjMm5edPPEcN/kdeFQa0fRowIANUQjIEXUJEsWFgD1KPeoeUxzW2d48NUN4eJbJyXj5vkjJoRR41eHPc1tRY8KANQAjYAUUZMsWVgA1KPBEjWPae3oCo/NeiO8/47Jybh5zrDx4V+eWxbW72kpelQAYBDTCEgRNcmShQVAPRpsUfOY9q7u8KP5W8Mf3jU1GTfPuH5c+NvHF4YFbxwM5XK56HEBgEFGIyBF1CRLFhYA9WiwRs1jurpL4fkl28Mn7p1+3Lj52YdmhwkrdoXukrgJAPSORkCKqEmWLCwA6tFgj5rHlMvl8OqaveGqR+ceN25+9J5p4Yfzt4S2zu6ixwUAMqcRkCJqkiULC4B6VCtR8+ct3XYo/MMPF4ezhqbj5iW3TQoPTFkf3jzii+kAQJpGQIqoSZYsLADqUS1GzWM27z8Shr+wPAwZ3pCMm0OGN4ShP13uo0IAQEQjIEXUJEsWFgD1qJaj5jEHDreH0ZPWhffcMvG4j6b/5WPzw7S1e0PJezcBgKARkCZqkiULC4B6VA9R85jWjq7wxJzNJ/xi+h9/a1p4at6W0NrRVfS4AECBNAJSRE2yZGEBUI/qKWoe010qhwkrdocrHzn+R4UuunliuLNhTdjVdLTocQGAAmgEpBbTLCUAACAASURBVIiaZMnCAqAe1WPU/HnLtzeF655ZGs4ZNj4ZN991w/jwtaeXhCVb3yx6VABgAGkEpIiaZMnCAqAe1XvUPGZvc1sYPXFtuPjWSce9e/MzD84O/754e2jr7C56XACgn2kEpIiaZMnCAqAeiZqV2jq7wzMLt4ZP3jvjuHHz4lsnhTsb1oRtB1uLHhcA6CcaASmiJlmysACoR6JmWrlcDrM37A9/+/jC48bNM4eOC9c+sTBMX7fPV9MBoMZoBKSImmTJwgKgHomaJ7dp3+Fw88srwwUjG48bOD96z7Qwduam0NTaWfS4AEAf0AhIETXJkoUFQD0SNXuvtaMr/Gj+1nD5fcd/NP28GxvC9f/+eli5s6nocQGA06ARkCJqkiULC4B6JGpWr1wuhwVvHAxfe3pJOPuG9FfTz7h+XPizh+f4sBAADFIaASmiJlmysACoR6Lm6dnb0hbun7I+vP+OyceNmxeObAwjX1oZ1u5uKXpcAKCXNAJSRE2yZGEBUI9Ezb7R2V0K45fvClc9Ove4cfPY3Zs/Wbw9HO1w9yYA5EwjIEXUJEsWFgD1SNTse+v2tIQRL6444YeFLhjZGG56cUVYs7u56HEBgASNgBRRkyxZWADUI1Gz/xzt6A4/Wbw9/NnDc0549+ZnH5odnlu0zd2bAJARjYAUUZMsWVgA1CNRc2Cs2d0cRr608qR3bw57fnlYuu1QKJfLRY8MAHVNIyBF1CRLFhYA9UjUHFhHO7rDvy/eHj5/krs3P3Hv9PDdGZvCvpb2okcGgLqkEZAiapIlCwuAeiRqFmfdnpZw88srw4UnuHvz7BvGh797clGYtGpP6OwuFT0yANQNjYAUUZMsWVgA1CNRs3htnd3hp69tP+mX0y+5bXK4Y/zqsH5PS9EjA0DN0whIETXJkoUFQD0SNfOy9UBrGD1xbfjQqCknDJxXPDg7/HD+ltDc1ln0yABQkzQCUkRNsmRhAVCPRM08dZfKYeb6feHrTy8J5w5vOG7cHDK8IfzTj5eEaWv3hi6PpwNAn9EISBE1yZKFBUA9EjXz19TaGX4wb0v49JhZJ308/dZXVoUVO5p8PR0ATpNGQIqoSZYsLADqkag5uKzZ3RxufWVVeO+tk04YOP/76OnhoWkbws5DR4seGQAGJY2AFFGTLFlYANQjUXNw6ugqhcaVu8O1TywK5wwbf9y4eebQceHqR+eFZxdtCy3evwkAvaYRkCJqkiULC4B6JGoOfgePdIQfzN0cPvvQ7BPevTlkeEP42tNLwtQ1e0Kn928CwAlpBKSImmTJwgKgHomateWN/UfC6Enrwh/d9eoJA+d7b50URry4IizcfDCUSt6/CQBvpRGQImqSJQsLgHokatamcrkcFm0+GG54fnm46OaJJwycHxo1JYwav9oHhgDg52gEpIiaZMnCAqAeiZq1r72rO0xYsSt8+Qcnfv/mGdePCx+7Z1oYPWld2LD3cNFjA0ChNAJSRE2yZGEBUI9EzfpyqLUjPDVvS7jykbnhzKHHj5tnXD8u/Mm3Z4aHp20M2w62Fj02AAw4jYAUUZMsWVgA1CNRs37tajoaxs7cFD4zZtYJ4+YZ148Ln3todvj+7DfC3pa2oscGgAGhEZAiapIlCwuAeiRqEkIIm/cfCWOmrg+fuHf6CePmWUPHhasfnRd+MHezwAlATdMISBE1yZKFBUA9EjV5q7W7W8I9jWtP+gX1M4eOC1c+Mjc8PvuNsLtJ4ASgtmgEpIiaZMnCAqAeiZocT7lcDsu2HQq3vrIqvP+OySd9RP3PHp4Txs7cFHYcOlr06ABw2jQCUkRNsmRhAVCPRE16o1Qqh3mbDoThLywPl9x28sB5xYOzw6MzfGQIgMFLIyBF1CRLFhYA9UjUpFrdpXKYv+lAGPnSyl7dwfmpB2aFh6ZtCJv3Hyl6dADoNY2AFFGTLFlYANQjUZPTUSqVw6LNB8MtL68KHxw15aSB85P3zgijJ64NK3Y0hXK5XPT4AHBcGgEpoiZZsrAAqEeiJn2lVCqHJVvfDHeMXx0uvXPqSQPnh0ZNCSNfWhnmbNgfOrtLRY8PABU0AlJETbJkYQFQj0RN+kO5XA6vbz8U7mxYc9KvqJ9x/bhw0c0Tw3XPLA0TVuwKrR1dRY8PABoBSaImWbKwAKhHoib9rVwuhxU7msLoSevC5ffNOGngHDK8IVz7xKLw7KJt4cDh9qLHB6BOaQSkiJpkycICoB6Jmgy0rQdaw9iZm8KV35kbzhx64sB51tBx4cpH5oaxMzeFrQd8SR2AgaMRkCJqkiULC4B6JGpSpP2H28OzC7eFa59YGM4d3nDSuzg/Pnp6GDV+dZi/6UDo8h5OAPqRRkCKqEmWLCwA6pGoSS6OtHeFCSt2hW88szRcOLKxV+/h/KcfLwkvLt0Rmlo7ix4fgBqjEZAiapIlCwuAeiRqkqPO7lKYvWF/uOnFFeGDo6acNHC+64bx4cpH5oZHZ2wMG/YeDuVyuehfAYBBTiMgRdQkSxYWAPVI1CR3xz409O3J68Nnxsw6aeA84/px4SN3vxpufnllmLV+f+jo8pg6ANXTCEgRNcmShQVAPRI1GWz2trSFZxduC196clF494gJJw2cv3dTY/iHHy4Ozy7cFnY3tRU9PgCDhEZAiqhJliwsAOqRqMlg1tbZHaav2xduenFFuPTOqb26i/Py+2aEUQ2rw9yNB9zFCcBxaQSkiJpkycICoB6JmtSKcrkc1u5uCQ9N2xA+//CccNbQkwfO37upMXzpyUXhh/O3hB2Hjhb9KwCQEY2AFFGTLFlYANQjUZNadfBIR3h+yfbw1R+91quvqZ9x/bjw8dHTw22vrAoz1+8L7V3dRf8KABRIIyBF1CRLFhYA9UjUpB50dZfC4i0Hw7cmrg2f7uXHhn73xgnhbx5fGJ6cuzlsOXCk6F8BgAGmEZAiapIlCwuAeiRqUo/2H24Pzy/ZHv75x0vCxbdO6vUX1Yc9vzxMWLErNB3tLPpXAKCfaQSkiJpkycICoB6JmtS77lI5LNt2KHx78vrwuYdm9+pdnGcNHReueHB2uKdxbZi3yQeHAGqRRkCKqEmWLCwA6pGoCZUOtXaEl5ftDP/3uWXhfbdP7tVdnO8eMSH89fcXhMdmvRHW7WkJ5XK56F8DgNOkEZAiapIlCwuAeiRqwvGVSuWwcmdTeGjahvAXY+eFc4c39Cpyvv+OyeG6Z5eGn762Pextbiv61wDgFGgEpIiaZMnCAqAeiZrQe0c7usOMdfvCHeNXhz/59sxeBc4zrh8XPnnvjHDrK6vClNV7QnOb93ECDAYaASmiJlmysACoR6ImnLp9Le3hxaU7wv99bln4wB1TehU4zxo6LnzmwdnhzoY1Yfq6faG1o6voXwOABI2AFFGTLFlYANQjURP6RrlcDhv2Hg6Pz34jXPvEwnD+iAm9ipznDBsfPv/wnDB64towZ+P+0NbZXfSvAkDQCEgTNcmShQVAPRI1oX90dpfCws0Hw72T1oU/e3hOeNcN43sVOc8d3hCufnReeGDK+rBo80FfVgcoiEZAiqhJliwsAOqRqAkD43B7V3h17d4wavzq8KkHZoUzh/bufZy/e+OE8L+/tyA8PG1jWLbtUOjqFjkBBoJGQIqoSZYsLADqkagJxWhq/f/bu9MoO+o64eNZGVGJzIBmFGbCGFlEiKIP+MAZUBaDAyqMo6AyDrIouIMLHUJYggMYwEggLIGwZUDCZgJ09o00SSALCdkTEiD7QvZ01t5+z4sIz1yqgKT7dm5d6vM55/8mXfW/VZzD78X33LpVE8NmrYzrnp0Vp/957G6/dOhz1wyN/7p/YvQevcA3OQGakUZAGlGTTDKwAMgjUROyYW31jqicviKuGjAjTrl1zG5HzsP+9rh6z+HzY/yCNbFtp9/kBCgGjYA0oiaZZGABkEeiJmTTqk3bY+C0ZXHFk9PjxB6jdztyfqbroPj3O3e9XX303NWxaXtNqW8FoCxpBKQRNckkAwuAPBI1oTwsXb81npi8JH7/5Ctx0s27Hzn/pUtlnHl7VXR/dnYMmbky1m3ZWepbASgLGgFpRE0yycACII9ETShPKzduj2deWR5XDZgRX+v5/G5Hzg4VlXHan56PLk9PjyenLI031myJhoaGUt8OQOZoBKQRNckkAwuAPBI14YNh3ZadMWTmyuj+7Ow48/aq+JfdfLt6h4rK+NIfRsQl/abEfVWvxdTF6718CCA0AtKJmmSSgQVAHoma8MG0aXtNjJ63Ov44ZG78+53jouOVg/bo5UPfvWdC9BgyN0bNXRUbtnpkHcgfjYA0oiaZZGABkEeiJuTDtp11MX7BmvjT8Pnx/XtfjM9ePcQj6/ABVFVVFS1atEisgQMHNnnv4cOHp+79ztWyZcvYb7/94qCDDoojjzwyTjnllPjNb34TjzzySCxcuLAId7l3aASkETXJJAMLgDwSNSGfauvqY8bSjfHAuNfjZ4++HF++YeQeRc4v/WFE/KTf5OgzdmFMfmNdbK+pK/UtQe7V19fHMccckxoau3fv3uT9//jHP+5W1Hy/dcIJJ0Tfvn1j69atRbjr5qMRkEbUJJMMLADySNQEIiIaGhpi6fqtMXDasug2YGZ8/baqOGQPfpez45WD4pt3vBDXDJwZA6Yui0VrfZsT9ra+ffu+a0j89re/3eT9zz333KJEzbfWIYccEsOHDy/CnTcPjYA0oiaZZGABkEeiJvBuNm+vibHz32z0I+vHXD88LnxwUtwx6tUYt2BNbN5eU+pbgg+szZs3R/v27d81IHbs2LHJn3HooYcW7NmpU6eoqKhIrN///vdxySWXxPe///046aST4mMf+9h7xs3f/va3RfgvUHwaAWlETTLJwAIgj0RNYHc19ZH1Q7pURueeY6PiqenRf9LimL9qc9TX+zYnFMMVV1xREAr322+/xO9cbt68udH7V1dXR8uWLQv2vPHGG3fr3IaGhpg9e3ZUVFTEJz7xidSw2a1bt0ZfW3PRCEgjapJJBhYAeSRqAk2xYuO2GDxjRdwwaE585+7xcdhVg/codB51zdA4776X4pah82LknFWxpnpHqW8Jys7ChQtjn332KQiY/fr1S4TDcePGNfoz0l5ANGTIkD3eZ8OGDXHBBRekhs2nnnqq0dfXHDQC0oiaZJKBBUAeiZpAMdX87ducD094Iy7rPy2+cvPoPYqcHSoq44SbRsWl/zMl7hqzMMYvWBObPLYO7+nss88uiIM//OEPo7a2Nv7u7/6u4N/vvPPORn9Gr169EhFy5cqVjd7v8ssvT31EvqYmO/+/awSkETXJJAMLgDwSNYHmtrZ6R4yauypuHTYvzrvvpfjcNUP3OHSefOuYuKz/tHhg3Ovx8uL13rYOfzNq1KiCMPjhD384li5dGhERnTp1KvjbT37yk0Z/zvnnn1+wV/v27Zt03Q0NDXH88ccnwua9997bpH2LSSMgjahJJhlYAOSRqAnsbXX1DTF/1eboP2lxVDw1PTr3HLtHb1p/623rZ/Sqii5Pz4jHJi6O2cs3RW1dfalvDfaqurq6OProowui4NVXX/32388777yCv335y19u9Ge9M5CefvrpTb7+dwbZFi1axJlnntnkfYtFIyCNqEkmGVgA5JGoCWTB5u01MX7BmrhrzMK49H+mxAk3jdrjb3Me3m1wfPuu8XHds7NiwNRl8dqb1V5ExAfa3XffXRAEP/nJT8aWLVve/vtNN92U+BZnff2ex/8dO3ZEmzZtCvbq0qVLUe7hnW9s/8hHPhI7d+4syt5NpRGQRtQkkwwsAPJI1ASy6s3Nux5b7zl8fvzogYnxxeuH73HoPOraoXFunwnx35WzY+C0ZbFgdXXUCZ18AGzYsCEOPPDAgiB4//33FxxTWVmZ+Cbk/Pnz9/izJk+enNinf//+RbmPc889N7H31KlTi7J3U2kEpBE1ySQDC4A8EjWBctHQ0BBL12+NQTNWxI2D58T3+rzYqN/n/OzVQ+I7d4+Pa5+ZFU9OWRpzV3p0nfLzzhftfP7zn098C3PRokWJYPj444/v8Wf16dMnsc+8efOKch9XXXVVYu+hQ4cWZe+m0ghII2qSSQYWAHkkagLlrL6+IRasro6nX14a1z4zK86+c1wcetXgPQ6dh101OM7qPS6uGrDrNzpnLtsYO2uFTrJp/vz50bZt24IQOGrUqNRj27VrV3Bc165d9/jzLr300sQj4o15jD1Nz549E1HzkUceKcreTaURkEbUJJMMLADySNQEPmhq6upj5rKN8ehLi6PL0zPim3e8EId23fPQ+Zmug+LM26ui4qnp0e/FRTFtyQZvXScTzjzzzIII+M1vfvNdj33nG8Yb8yKe4447rmCP448/vimXX+Cee+5JRM177rmnaPs3hUZAGlGTTDKwAMgjURPIg5219TFr+cZ4fNKSuHrgzDj7znFxeLc9D52fvnJQdO45Ni7rPy36jF0YL7y6JtZW7yj17ZEjQ4cOLQiAbdq0ec9HwX/84x8XHH/wwQfv0efV1dXFvvvuW7DHT3/606bexttuu+22RNTs169f0fZvCo2ANKImmWRgAZBHoiaQV7V19TF/1eZ4+uWl0f3Z2fHduyfEkVcP2ePQ2aGiMo67YUSc/8DE6DFkbjz7yvJY+KYXElF8tbW1ceSRRxYEwF/+8pfvec7tt9+eiIZr167d7c+cOXNm4vw+ffo09Vbedv311yf2f+aZZ4q2f1NoBKQRNckkAwuAPBI1Af6/+vqGeO3N6njmleVxw6A58f17X4yjr93zlxF1qKiMI7oNibN6j4sr/zoj+r24KKYsWh9bdtSW+hYpY+8MlPvvv//7BsrRo0cnouHo0aN3+zMffvjhxPmTJk1q6q287ZJLLknsP3369KLt3xQaAWlETTLJwAIgj0RNgPfW0NAQS9ZtjcEzVkSPIXPjRw9MjONuGNGo0HlIl8r46i1j4qePTIk7Rr0aI+esihUbt0VDg2918t7WrVsX//AP/1AQ/2699db3PW/NmjWJaNizZ8/d/tzLLrus4NzWrVvHtm3bmnIrBU499dSC/Vu1ahVbtmwp2v5NoRGQRtQkkwwsAPJI1ARonLXVO+KFV9dEn7EL47L+06Jzz7Hx6SsHNSp2fqH7sDi3z4S49plZ8ZeJi+Plxb7VSaFf/vKXBfGvY8eOsXPnzt06t3379gXnnn/++bv9uSeddFLBuUceeWQj7yDdgQceWLB/p06dirp/U2gEpBE1ySQDC4A8EjUBimd7TV3MXLbrhUTXPjMrvnvPhDiqkY+vd6iojH/tMSouemhy3DJ0Xjw3fXksWL05auvqS32b7GVz5syJNm3aFMS/p556arfPf+e3Ib/whS/s1nkNDQ3Rrl27gnN/8IMfNPY2EmbPnp34FunPfvazou3fVBoBaURNMsnAAiCPRE2A5vXW4+vDZq2MP4+YHz9+eHL8a49RjQ6dh141OP7ttqq4vP+0uOf5hTFm3upYuXG7R9g/wE4//fSC8HfiiSfu0fnvfIR8n332iZqamvc9b8GCBYnoeMsttzT2NhJuueWWxP7Dhg0r2v5NpRGQRtQkkwwsAPJI1AQojU3ba2Li6+viwXGvxxVPTo9v9R4XR3Rr3NvXO1RURqfrhsV375kQVw+cGY+8tCimLFoXm7e/f7gi2yorKxPh71vf+lZUVFTs9jrttNMSe8yYMeN9P/uJJ55InDdixIii3dtRRx1VsPcBBxywW7F1b9EISCNqkkkGFgB5JGoCZEd9fUMsWrslhs5aGb1Gvho/e+TlOOXWMfEvXRoXOjtUVMYJN42KHz0wMW4YNCeemLwkpi3Z4Pc6y0RNTU0cfvjhibBYjNWvX7/3/fwuXbokzluzZk1R7m3EiBGJvSsqKoqyd7FoBKQRNckkAwuAPBI1AbLvrd/qfGrK0rhh0Jz44f2NfwP7/46d5/8tdj7+t9hZLXZmSs+ePZslaLZo0SJ++9vfvu/nv/Ox94MOOqgo91VfXx/HHXdc4pH4JUuWFGX/YtEISCNqkkkGFgB5JGoClK/1W3bGi6+tjYfGvxFdnp4R/37nuPjcNY1/MdFbsfO/7p8Y/105Ox6ftCSmLl7vMfYSWLNmTey///7NFjVPO+20972GT3ziEwXnfOMb3yjKvaXF2l//+tdF2buYNALSiJpkkoEFQB6JmgAfLG+9mGjE7FXRe/SC+OVfpsbXb6uKQ68a3KTYefyNI+OH90+MPzw3O/pPWhwvL14fm8TOZnPppZcWRL/DDz886urqGr3fhRdeWLDfxz/+8fc8ftmyZYnw2K1bt0Z//luqqqqibdu2Bfu2b98+1q5d2+S9i00jII2oSSYZWADkkagJkA+1dfXx+ppdv9fZe/SC+NVjU+PfihA7v3zDyDjvvpfimoEz4+EJb8S4BWti1SZvY2+KGTNmROvWrQvC31NPPdWkPW+++eZEpFyxYsW7Hv/ss88mjm/qNUyYMCE+9rGPJfZ97rnnmrRvc9EISCNqkkkGFgB5JGoC5FtdfUO8sWZLDPtb7Pz1Y1PjjF5VcVgTY+fnrhka37rjhbi8/7ToPXpBDJm5Mhas3hw7a+tLfcuZd8oppxREv2OPPbbJe6ZFyiFDhrzr8d27d08cv3DhwkZ//gMPPBD77rtvYs9rrrmm0Xs2N42ANKImmWRgAZBHoiYAaer+9ib24bNXxZ1jFsRl/afFmbdXxeHdmhY7P33loDj5ljFx0UOT48bBu97I/vLi9bFxm0fZIyIGDBiQCH8jR45s8r7z589P7HvTTTe96/FnnXVWwbHt2rVr1Ldvp0+fHp07d079Xc9LLrmkKbfU7DQC0oiaZJKBBUAeiZoA7Im6+oZYvHbXb3beOWZB/ObxV+Ks3uPiqCa+oKhDRWV86Q8j4px7JkTXv86I+194PZ6f/2YsXb816uvz8Sj7zp07o2PHjnv8Qp/dUVtbm/gty+9973vvevw///M/Fxx74okn7vZnLV++PPr27Runnnpqasxs2bJldO3atRi31aw0AtKImmSSgQVAHomaABRDQ0NDrN60PcYvXBP9XlwU1z4zK/6z70tx/I0jmxw7D+82OE7/89i49H+mRI8hc+OJyUtiyqJ1sW7Lzg/Ub3f26NEjEQAnT55ctP2POOKIgr0/+9nPph63du3axHUcffTRUVFRkbp+9atfxQUXXBCnnXZaHHzwwe/51vVPfvKT7/nYe5ZoBKQRNckkAwuAPBI1AWhuW3bUxsxlG2PgtGXxp2Hz4qePTInOPcfGoV2b9ih7h4rK6HTdsDir97i4vP+0uH3kq/Hc9OUxa/nG2LKjttS3vUdWrVoV7dq1KwiA3/nOd4r6GWeffXbB/q1bt45t27YljhsxYsR7hsnGrP333z+6d+8e1dXVRb2n5qQRkEbUJJMMLADySNQEoFTe+t3OUXNXxb1jX4srnpwe/3HX+Ph892FNjp0dKirjuBtGxLl9JkSXp2fEvWNfixGzV8XCN6sz+bKiiy66KBEc582bV9TPqKio2K1vgqZ9Y7Qx60Mf+lB07tw5HnzwwdR4mnUaAWlETTLJwAIgj0RNALJo3ZadMemNdfGXiYvjxkFz4uKHJ8epf3o+PtN1UJNj56evHBRfuXl0/OiBidH92dnR78VF8cKra2Lp+q1RV4Lf75w2bVq0atWqIAhefPHFRf+cBx98MBEe77vvvsRx3/ve93YrWrZu3To+/OEPxwEHHBCHHXZYfPWrX43zzz8/br311hg5cmRZhsz/TSMgjahJJhlYAOSRqAlAOamtq4/Fa7fGmHmr44Fxr8fVA2fGf/Z9KU64aVQc0qXp3+48tOvgOOXWMXHBg5PiumdnxUPj34gx81bH62u2RE1d9r7hSfPRCEgjapJJBhYAeSRqAvBBsb2mLuat3BxDZq6IO8csiN898Ur8x13j44vXDy/K4+yfvnJQnNhjdPxn35fiqgEz4r6q12L47FXx6qrNsb2mrtS3T5FpBKQRNckkAwuAPBI1AciDjVtrYtqSDfHXqUvjT8Pmxc8ffTnO6FUVn716SFGCZ4eKyvi/N46Mc/tMiIqnpsedYxbEoBkrYtbyjVFdZi8tYheNgDSiJplkYAGQR6ImAHnW0NAQqzdtjwkL10b/SYvjj0Pmxk8fmRJn9KqKz10ztGjB80t/GB7fvmt8XP74tLhtxKsxYOqymLJofazevD0aGvb+73jy/jQC0oiaZJKBBUAeiZoAkK6hoSHWVO+IKYvWxdMvL40/DZ8fv3psanyr97j4QpHe0N6hojKO6DYkvtbz+bjooUlx7TOz4v4XXo8Rs1fFvJWbY+tO3/IsFY2ANKImmWRgAZBHoiYANM7GrTUxfemGeOaV5XHHqFfjt0+8Et+5e3z8n/8eUbTguetbniPi7DvHxa8emxq3DpsXj09eEhMWro1lG7aV5G3teaERkEbUJJMMLADySNQEgOLbsqM25qzYFENmroi7n18YXZ6eEd+/98WivaX9rfWZroPiKzfvenlR17/OiHueXxiDZqyImcs2xsZtNaX+z1DWNALSiJpkkoEFQB6JmgCwd+2orYvX3qyOMfNWR78Jb8QNg+bEJf2mxL/dVhVHFfF3PDtUVMbR1w6NM2+vikv6TYk/PDc7Hhy369H2OSs2xebtoud70QhII2qSSQYWAHkkagJAdjQ0NMSGrTtj+tIN8dz05XHXmF3f8jzvvpfipJtHR8crBxU1ena6blic0asqfvzw5Oj+7Oy4/4XXY9islTF7+abcf9NTIyCNqEkmGVgA5JGoCQDlo7auPpas2xrjF66J/pMWx81D58Yv/jI1zuo9Lr54/fCiBs8OFZVx1LVD4+u3VcXFD0+Oa5+ZFfdVvRZDZq7c9Xj71poP9JvbNQLSiJpkkoEFQB6JmgDwwVG9ozbmrtwUw2atjPuqXotrBs6MCx6cFJ17jo3PXj2kAsauxgAAEM5JREFU6NHzc9cMjdP/PPbtN7ffO/a1GDxjRcxYujHWVu8o6+ipEZBG1CSTDCwA8kjUBIB8aGhoiPVbdsaMpRtjyMwVcV/Va3HtM7Pioocmxel/HhufK/LveXaoqIzDrhocJ98yJs6776X4/ZOvxJ9HzI/HJy2JF15dE6+9WR3ba+pK/Z/lXWkEpBE1ySQDC4A8EjUBgIhd0XPj1pqYuWxjDJ21Mvq+8Hpc9+ysuPjhyfH126ri6GuLHz07VFTGF68fHt+4/YX4Sb/Jcd2zux5xr5y+IqYuXh+rN22P+vrSfNtTIyCNqEkmGVgA5JGoCQDsro3bamL28l2Ptz8w7vW4/rnZ8ZN+k+OMXlXx+e7DmiV6fqbroDixx+g4t8+EuPzxaXHrsHnx6EuLY8y81fHqqs2xZUdts9yrRkAaUZNMMrAAyCNREwAols3ba2Luyk0xYvaq6Dfhjbhp8Nz41WNT4zt3j48TbhoVny7y29vfWp2uGxZfv60qLnpoUnQbMDPuHLMg/jp1abz42tpYtHZL7Kjd88fcNQLSiJpkkoEFQB6JmgDA3lJbVx/LN2yLyW+si4HTlsVdYxZGtwEz48IHJ8XXb6uKTtc1z7c933rM/YxeVXHRQ5NTw+c7f99TIyCNqEkmGVgA5JGoCQBkSfWO2nh11eYYM291PPrS4rhl6Ly4vP+0OOeeCXFij9Hxma7N823Pd4bPfT/6MY2ABFGTTBI1AcgjURMAKCf19Q2xetP2mLp4fVROXxH3jt31FvcfPzw5zry9Ko65fnhRAmerD+2nEZAgapJJoiYAeSRqAgAfNNtr6mLR2i0xYeHa+OvUpdF79ILoNmBmXPTQrpcafXE3wqeoSRpRk0wSNQHII1ETAMijdw+fk+KMXlXRel9RkyRRk0wSNQHII1ETACBJIyCNqEkmGVgA5JGoCQCQpBGQRtQkkwwsAPJI1AQASNIISCNqkkkGFgB5JGoCACRpBKQRNckkAwuAPBI1AQCSNALSiJpkkoEFQB6JmgAASRoBaURNMsnAAiCPRE0AgCSNgDSiJplkYAGQR6ImAECSRkAaUZNMMrAAyCNREwAgSSMgjahJJhlYAOSRqAkAkKQRkEbUJJMMLADySNQEAEjSCEgjapJJBhYAeSRqAgAkaQSkETXJJAMLgDwSNQEAkjQC0oiaZJKBBUAeiZoAAEkaAWlETTLJwAIgj0RNAIAkjYA0oiaZZGABkEeiJgBAkkZAGlGTTDKwAMgjURMAIEkjII2oSSYZWADkkagJAJCkEZBG1CSTDCwA8kjUBABI0ghII2qSSQYWAHkkagIAJGkEpBE1ySQDC4A8EjUBAJI0AtKImmSSgQVAHomaAABJGgFpRE0yycACII9ETQCAJI2ANKImmWRgAZBHoiYAQJJGQBpRk0wysADII1ETACBJIyCNqEkmGVgA5JGoCQCQpBGQRtQkkwwsAPJI1AQASNIISCNqkkkGFgB5JGoCACRpBKQRNckkAwuAPBI1AQCSNALSiJpkkoEFQB6JmgAASRoBaURNMsnAAiCPRE0AgCSNgDSiJplkYAGQR6ImAECSRkAaUZNMMrAAyCNREwAgSSMgjahJJhlYAOSRqAkAkKQRkEbUJJMMLADySNQEAEjSCEgjapJJBhYAeSRqAgAkaQSkETXJJAMLgDwSNQEAkjQC0oiaZJKBBUAeiZoAAEkaAWlETTLJwAIgj0RNAIAkjYA0oiaZZGABkEeiJgBAkkZAGlGTTDKwAMgjURMAIEkjII2oSSYZWADkkagJAJCkEZBG1CSTDCwA8kjUBABI0ghII2qSSQYWAHkkagIAJGkEpBE1ySQDC4A8EjUBAJI0AtKImmSSgQVAHomaAABJGgFpRE0yycACII9ETQCAJI2ANKImmWRgAZBHoiYAQJJGQBpRk0wysADII1ETACBJIyCNqEkmGVgA5JGoCQCQpBGQRtQkkwwsAPJI1AQASNIISCNqkkkGFgB5JGoCACRpBKQRNckkAwuAPBI1AQCSNALSiJpkkoEFQB6JmgAASRoBaURNMsnAAiCPRE0AgCSNgDSiJplkYAGQR6ImAECSRkAaUZNMMrAAyCNREwAgSSMgjahJJhlYAOSRqAkAkKQRkEbUJJMMLADySNQEAEjSCEgjapJJBhYAeSRqAgAkaQSkETXJJAMLgDwSNQEAkjQC0oiaZJKBBUAeiZoAAEkaAWlETTLJwAIgj0RNAIAkjYA0oiaZZGABkEeiJgBAkkZAGlGTTDKwAMgjURMAIEkjII2oSSYZWADkkagJAJCkEZBG1CSTDCwA8kjUBABI0ghII2qSSQYWAHkkagIAJGkEpBE1ySQDC4A8EjUBAJI0AtKImmSSgQVAHomaAABJGgFpRE0yycACII9ETQCAJI2ANKImmWRgAZBHoiYAQJJGQBpRk0wysADII1ETACBJIyCNqEkmGVgA5JGoCQCQpBGQRtQkkwwsAPJI1AQASNIISCNqkkkGFgB5JGoCACRpBKQRNckkAwuAPBI1AQCSNALSiJpkkoEFQB6JmgAASRoBaURNMsnAAiCPRE0AgCSNgDSiJplkYAGQR6ImAECSRkAaUZNMMrAAyCNREwAgSSMgjahJJhlYAOSRqAkAkKQRkEbUJJMMLADySNQEAEjSCEgjapJJBhYAeSRqAgAkaQSkETXJJAMLgDwSNQEAkjQC0oiaZJKBBUAeiZoAAEkaAWlETTLJwAIgj0RNAIAkjYA0oiaZZGABkEeiJgBAkkZAGlGTTDKwAMgjURMAIEkjII2oSSYZWADkkagJAJCkEZBG1CSTDCwA8kjUBABI0ghII2qSSQYWAHkkagIAJGkEpBE1ySQDC4A8EjUBAJI0AtKImmSSgQVAHomaAABJGgFpRE0yycACII9ETQCAJI2ANKImmWRgAZBHoiYAQJJGQBpRk0wysADII1ETACBJIyCNqEkmGVgA5JGoCQCQpBGQRtQkkwwsAPJI1AQASNIISCNqkkkGFgB5JGoCACRpBKQRNckkAwuAPBI1AQCSNALSiJpkkoEFQB6JmgAASRoBaURNMsnAAiCPRE0AgCSNgDSiJplkYAGQR6ImAECSRkAaUZNMMrAAyCNREwAgSSMgjahJJhlYAOSRqAkAkKQRkEbUJJMMLADySNQEAEjSCEgjapJJBhYAeSRqAgAkaQSkETXJJAMLgDwSNQEAkjQC0oiaZJKBBUAeiZoAAEkaAWlETTKpVatW0bJly7cHl2VZlmXlYbXb/++j1Yf2e3u12//vS35NlmVZlmVZpV4tW7aMVq1alTpVkDGiJpnUpk2baNWqVckHp2VZlmVZlmVZlmVZpV2tWrWKNm3alDpVkDGiJgAAAABQVkRNAAAAAKCsiJoAAAAAQFkRNQEAAACAsiJqAgAAAABlRdQEAAAAAMqKqAkAAAAAlBVREwAAAAAoK6ImAAAAAFBWRE0AAAAAoKyImgAAAABAWRE1AQAAAICyImoCAAAAAGVF1AQAAAAAyoqoCQAAAACUFVETAAAAACgroiYAAAAAUFZETQAAAACgrIiaAAAAAEBZETUBAAAAgLIiagIAAAAAZUXUBAAAAADKiqgJAAAAAJQVURMAAAAAKCuiJgAAAABQVkRNAAAAAKCsiJoAAAAAQFkRNQEAAACAsiJqAgAAAABlRdQEAAAAAMqKqAkAAAAAlBVREwAAAAAoK6ImAAAAAFBWRE0AgL3ksssuixYtWry9jjjiiCbt95WvfKVgv4svvrhIVwoAANkmagIA7CVPPvlkQYRs2bJlbNiwoVF7PfroowV77b///vHmm28W+YoBACCbRE0AgL1kxYoVBSGyRYsWMWzYsD3eZ/PmzfGpT32qYJ877rijGa4YAACySdQEANiLDjnkkIIYef311+/xHr/5zW8K9ujUqVPU1dU1w9UCAEA2iZoAAHvReeedVxAkzzjjjD06f/bs2dGmTZuCPcaOHdtMVwsAANkkagIA7EV33XVXQZA84IAD9uj8k08+ueD8H/zgB810pQAAkF2iJgDAXvTKK68kfldzwYIFu3XuY489VnDeRz/60Vi+fHkzXzEAAGSPqAkAsBfV19dHu3btCuLkI4888r7nVVdXx0EHHVRwXo8ePfbCFQMAQPaImgAAe1nnzp0L4uQvfvGL9z3nd7/7XcE5hx9+eNTU1OyFqwUAgOwRNQEA9rLu3bsXBMpjjz32PY+fM2dOtG3btuCcoUOH7qWrBQCA7BE1AQD2shEjRhQEyrZt28b27dvf9fhTTz214Pizzz57L14tAABkj6gJALCXVVdXR+vWrQtC5YQJE1KP7d+/f8Fx++67b7zxxht794IBACBjRE0AgBI45phjCmJlz549E8ekvRzouuuuK8HVAgBAtoiaAAAl8POf/7wgVp577rmJY6644oqCYw455JDYtm1bCa4WAACyRdQEACiBv/zlLwXBskOHDgV/nzt3buLlQAMGDCjNxQIAQMaImgAAJbB48eKCYNmiRYtYtWrV238/7bTTCv7WuXPnEl4tAABki6gJAFAiBx98cEG4HDhwYEREPPHEE4m3o8+bN6/EVwsAANkhagIAlMg555xTEC+vvPLK2LJlS/zTP/1Twb9fccUVpb5UAADIFFETAKBEevXqVRAvTz755KioqCj4t0996lNRXV1d6ksFAIBMETUBAEpkypQpBQFz3333jX322afg3x599NFSXyYAAGSOqAkAUCK1tbXxkY98JPHCoLfWSSedVOpLBACATBI1AQBK6OSTT04Nmq1bt47p06eX+vIAACCTRE0AgBLq1q1batT8xS9+UepLAwCAzBI1AQBKaPDgwYmg+fGPfzw2bNhQ6ksDAIDMEjUBAEpo6tSpiajZt2/fUl8WAABkmqgJAFBC3/3udwuC5rHHHhsNDQ2lviwAAMg0URMAoESmTJkSLVu2fDtotmzZMiZOnFjqywIAgMwTNQEASuTEE08s+JbmRRddVOpLAgCAsiBqAgCUQN++fQuC5oEHHhhr164t9WUBAEBZEDUBAPayWbNmxX777VcQNR9++OFSXxYAAJQNURMAYC8aPnx4/OM//mNB0DzrrLNKfVkAAFBWRE0AgGYyfPjwqKioiIqKirjwwgvjS1/6UkHMbNGiRRx00EGxZs2aUl8qAACUFVETAKCZnHPOOYmI+b/XRz/60Zg2bVqpLxMAAMqOqAkA0Ew6duz4rkHzoIMOikmTJpX6EgEAoCyJmgAAzWDjxo3RsmXLtyNm27Zto3379vG1r30tevfuHVu3bi31JQIAQNkSNQEAAACAsiJqAgAAAABlRdQEAAAAAMqKqAkAAAAAlBVREwAAAAAoK6ImAAAAAFBWRE0AAAAAoKyImgAAAABAWRE1AQAAAICyImoCAAAAAGVF1AQAAAAAyoqoCQAAAACUFVETAAAAACgroiYAAAAAUFZETQAAAACgrIiaAAAAAEBZETUBAAAAgLIiagIAAAAAZUXUBAAAAADKiqgJAAAAAJQVURMAAAAAKCuiJgAAAABQVkRNAAAAAKCsiJoAAAAAQFkRNQEAAACAsiJqAgAAAABlRdQEAAAAAMqKqAkAAAAAlBVREwAAAAAoK6ImAAAAAFBWRE0AAAAAoKyImgAAAABAWRE1AQAAAICyImoCAAAAAGVF1AQAAAAAyoqoCQAAAACUFVETAAAAACgroiYAAAAAUFZETQAAAACgrIiaAAAAAEBZETUBAAAAgLLy/wAIJQpRu18k1gAAAABJRU5ErkJggg==\" width=\"799.8\">"
      ],
      "text/plain": [
       "<IPython.core.display.HTML object>"
      ]
     },
     "metadata": {},
     "output_type": "display_data"
    },
    {
     "data": {
      "application/vnd.jupyter.widget-view+json": {
       "model_id": "f0e30a3a3c21467aa7dfe3c4b0dfe210",
       "version_major": 2,
       "version_minor": 0
      },
      "text/plain": [
       "interactive(children=(IntSlider(value=1000, description='M', max=2000, min=100, step=10), FloatSlider(value=12…"
      ]
     },
     "metadata": {},
     "output_type": "display_data"
    },
    {
     "data": {
      "text/plain": [
       "<livePlot.livePlot at 0x223a26a2f88>"
      ]
     },
     "execution_count": 10,
     "metadata": {},
     "output_type": "execute_result"
    }
   ],
   "source": [
    "%matplotlib notebook\n",
    "import ipywidgets as ipw \n",
    "import numpy as np\n",
    "import matplotlib.pyplot as plt\n",
    "from livePlot import *\n",
    "\n",
    "livePlot()"
   ]
  },
  {
   "cell_type": "markdown",
   "metadata": {},
   "source": [
    "\n",
    "## Long-run Dynamics\n",
    "\n",
    "The distinction between long-run and short-run is critical for understanding dynamics that develop between the money market and the non-money goods market. In the long-run, the price level fully reflects changes in $AD$, whether the shift in $AD$ is a result of a change in $M$ or a change in $V$. In the short-run, changes in real income absorb changes in $AD$. While long-run changes are essentially inevitable, short-run changes do not ever need to occur. If they are observed, they occur only in the short-run.[1] After investigating long-run dynamics, we will consider short-run dynamics.\n",
    "\n",
    "### Case 1: Aggregate Demand Increases\n",
    "\n",
    "> Figure 2: Aggregate Demand Increases\n",
    "\n",
    "An increase in $AD$ represents an increase in the value of total expenditures across the economy (Figure 2). By definition, this value of total expenditures matches the value of nominal income. In the long-run, an increase in $AD$ will lift the price level from $P_0$ to $P_1$. Notice that this results in an increase in nominal income from a value of $P_0y_0$ to $P_1y_0$. This increase in nominal income does not entail an increase in real income in the long-run. This would only happen if the long-run aggregate supply shifted to the right and would be represented by a $y_1$ whose value is greater than $y_0$.\n",
    "\n",
    "> Figure 3: Decrease in Supply of Money\n",
    "\n",
    "The increase in $AD$ can come from one of two sources: either an increase in the quantity of money, $M$, or an increase in portfolio demand, $k$. We will consider the more intuitive case of an increase in $M$ first. If the increase in the quantity of money occurs when the economy is already in equilibrium, the shift will most obviously change the price of money, $P_m$. Since $P_m=\\frac{1}{P}$, the a change in the average price of money is simply the corollary to amovement of the price level in the opposite direction.\n",
    "\n",
    "The increase in the quantity of money represents a movement along the demand curve. This demand curve includes both portfolio demand, $k$, and transactions demand, $Py$. For now, we assume that these sources of demand remain constant. Thus, the increase from $M_0$ to $M_1$ translates directly to a fall in $P_m$ from $P_{m_0}$ to $P_{m_1}$.\n",
    "\n",
    "> Figure 4: Decrease in Portfolio Demand for Money\n",
    "\n",
    "Only a shift in $k$ represents an inverse change in portfolio demand as $k$ represents the portion of the money stock that individuals choose to hold throughout the period under consideration. Since $k$ is the inverse of $V$, so long as $V$ is greater than 1, then $k$ is a fraction less than 1. As with the increase in $M$, a fall in $k$ leads to a fall in the $P_m$ from $P_{m_0}$ to $P_{m_1}$. This coincides with an increase in $P$ from $P_0$ to $P_1$. Thus, a fall in the value of money is tantamount to a rise in the price level. This fall in the price level means that the new value of nominal income, $P_1y_0$ is less than the old value, $P_0y_0$.\n",
    "\n",
    "# Case 2: Aggregate Demand Falls\n",
    "\n",
    "> Figure 5: Increase in AD\n",
    "\n",
    "A fall in $AD$ represents an decrease in the value of total expenditures across the economy (Figure 6). This results in a fall in nominal income. In the long-run, an fall in $AD$ will depress the price level from $P_0$ to $P_1$. Notice that this results in a decrease in nominal income from a value of $P_0y_0$ to $P_1y_0$. The long-run level of real income, $y_0$, remains unaffected. Just as a rise in $M$ increases $AD$, a fall in $AD$ may occur due to a shrinking of the money stock. With less money in the economy, the previous equilibrium level of prices could only be sustained if individuals tended to decrease their cash holdings in response. For clarity, we consider cases where only one of the variables comprising aggregate demand changes.\n",
    "\n",
    "> Figure 6: Increase in Supply of Money\n",
    ">\n",
    "> Figure 7: Increase in Portfolio Demand for Money\n",
    "\n",
    "$AD$ may also fall due to an increase in demand to hold money. This increase in portfolio demand for money, $k$, is the same as a fall in the average velocity of money, $V$. An increase in demand to hold money leaves less money available for expenditure. This exerts a negative influence on prices and, necessarily, a positive influence on the price of money. Just as with a fall in the money supply, the equilibrium price of money rises from $P_{M_0}$ to $P_{M_1}$.\n",
    "\n",
    "## Short-run Dynamics: Excess Supply and Excess Demand\n",
    "\n",
    "The short-run is defined by any period of time that real income responds to changes in aggregate demand. The short-run is defined by a short-run aggregate supply ($SRAS$) is perfectly elastic. This means that it is horizontal, set at the value of the initial price level.  We assume that in the short-run, quantities adjust before the price level. In the long-run, any value of $y$ that is less than $y_0$ is less than the full potential that can be produced in the long-run. Any value of yy that is greater than $y_0$ cannot be sustained as it would demand that producers sustain real losses as input prices are bid upward. An scess demand for goods imply an excess supply of money and excess supply of goods implies an excess demand for money.\n",
    "\n",
    "It is not necessary that the short-run outcome actually occur. If forward looking agents expect that there will be a change in total expenditures and that this change will affect the price of particular goods, they may adjust these prices downward in expectation of the price change. However, there are cases where investors may be less willing to realize a loss by the sale of a home, such as might occur in the real estate market during a recession. Homeowners that have purchased their home with a mortgage will likely avoid such a sale if the value of the home falls below what is owed on the mortgage. In situations like this, assets that would otherwise be sold may remain unsold, leading to a fall in real income. This will be discussed in greater detail in the discussion of business cycles in a later chapter.\n",
    "\n",
    "### Case 1: Excess Supply of Money and Excess Demand for Goods\n",
    "\n",
    "> Figure 8: Increase in AD: Excess Demand for Goods\n",
    "\n",
    "If aggregate demand increases, the immediate effect will be for consumers to purchase goods at a rate that is not sustainable. If producers do not recognize this fact immediately, they may increase the quantity of goods produced. To the extent that prices rise as factor costs are bid up, the total value of production will be constrained compared to if the price level remained static.\n",
    "\n",
    "The excess supply of goods at price level $P_0$, defined by $y_t - y_0$, necessarily implies an excess demand for money. This occurs either by an increase in the quantity of money supplied to the market or by a relinquishing of money held on reserve by economic actors. The first instance is represented by an increase in the money stock. The latter instance is represented by a fall in portfolio demand for money, which is equivalent to a rise in velocity. As the quantity of money increase from $M_0$ to $M_1$, individuals find themselves holding more money than they desire at given prices. As individuals spend money, price of goods begin to rise on average as signified by an increase in the price level. Since the price of money, $P_M$, is the inverse of the price level, $P$, a rise in the price level indicates a fall in the price of money. Once the price of money falls from $P_{M_0}$ to $P_{M_1}$, the excess supply of money is offset.\n",
    "\n",
    "> Figure 9: Increase in Supply of Money: Excess Supply of Money\n",
    "> Figure 10: Decrease in Portfolio Demand for Money: Excess Supply of Money\n",
    "\n",
    "Nearly the same proces occurs when there is a fall in portfolio demand for money. Since consumers are willing to spend a greater of share of their income, they can increase their consumption of goods to the extent that prices do not rise in response to the new expenditure. At the given price level, $P_0$, consumers desire to hold less money. The difference between $M_0$ and $M_t$ represents the excess balances that consumers plan to spend. As these funds are spent, the price level moves from $P_0$ to $P_1$ and the price of money falls from $P_{M_0}$ to $P_{M_1}$. The fall in the value of money moves the quantity of money demanded back to an equilibrium where the quantity demanded of money matches the quantity supplied.\n",
    "\n",
    "### Case 2: Excess Demand for Money and Excess Supply of Goods\n",
    "\n",
    "> Figure 11: Decrease in AD: Excess Supply of Goods\n",
    "\n",
    "In the short-run, a fall in aggregate demand leads to a scenario where not all goods available in the market are purchased. If producers do not instantly respond to the change in prices, there will be more goods produced than can be purchased given the quantity of money available to be spent at the initial price level, $P_0$. \n",
    "\n",
    "The excess supply of goods is represented by the difference of $y_0$ and $y_t$. The fall in expenditures that drive the shift from $AD_0$ to $AD_1$ must occur either due to a fall in the quantity of money or a fall in the velocity of money which is equivalently an increase in portfolio demand for money. In the case the supply of money falls, agents must adjust their planned expenditures to account for the fall in the quantity of available funds. At $P_{M_0}$ the quantity of money demanded, $M_0$, is greater than the available quantity of money, $M_1$. If their demand to hold money does not change, this must occur by a fall expenditures so long as the price of money does not increase from $P_{M_0}$ to $P_{M_1}$P in response to the fall in supply of money.\n",
    "\n",
    "> Figure 12: Decrease in Supply of Money: Excess Demand for Money\n",
    "> Figure 13: Increase in Portfolio Demand for Money: Excess Demand for Money\n",
    "\n",
    "The same fall in aggregate demand may occur as a result of an increase in demand to hold money on reserve. This increase in portfolio demand leads to an increase in the price of money in the long-run. Before prices respond to the change in demand for money, individuals will demand to hold more money than will allow for the clearing of the goods market. The excess demand for money, $M_t - M_0$, exactly matches the value of goods that remain unsold $y_0 - y_t$.\n",
    "\n",
    "## Aggregate Demand Driven Business Cycles\n",
    "\n",
    "Aggregate Demand Driven Business Cycles\n",
    "Excess demand and excess supplies play a fundamental role in explain macroeconomic fluctuations. Presuming that the economy produces a steady-state level of income and capital, deviations from these levels represent either an inflationary boom or a deflationary recession. Neither of these outcomes are necessary by a change in aggregate demand. Only in cases where prices are slow to adjust to changes in the money market will such macroeconomic disequilibrium occur. \n",
    "\n",
    "> Figure 13: RGNP and Increasing Central Bank Demand for Gold\n",
    "\n",
    "This phenomenon occurred in an extreme manner during the Great Depression as many central banks their gold holdings without also increasing the quantity of central bank notes in circulation. The result was a fall in real income and substantial deflation, both of which occurred at an international scale. While there were many other factors, which include policies that disrupted credit, labor, and goods markets, the disruption of money markets by central banks was a feature of the Great Depression and is commonly a driving force of relatively extreme economic depressions.\n",
    "\n",
    "## Factors Unexplained by Aggregate Analysis\n",
    "\n",
    "Although aggregate analysis provides a powerful description of the macroeconomy, it does not capture many elements that are at play in the economic process. Consider the effects of money creation. There may result an economic boom due to a confusion between real and nominal profits. Producers, especially those who receive the new money first, will invest in expectation of earning increased profits. Some early producers may succeed in this endeavor, but as more producers enter the market, the price of production inputs are bid up. \n",
    "\n",
    "The expected increase in profits by investors often leads to construction of productive factors that  would otherwise not be created. Since we live in a world of scarcity, this means that productive processes that are producing goods that consumers truly value will not be created. The creation of new capital that is the result of this misallocation cannot be cheaply reversed. The process of readjustment of the capital structure may result in depression, or it may  result in the sustained production of relatively lower level of real income due to the misallocation of productive factors that will remain in use even after being repriced once the boom has slowed. \n",
    "\n",
    "Although aggregate analysis fails to capture this, this does not mean that the aggregate factors are not exerting force on the economic system. Macroeconomic forces described here are always at play. There are simply other factors that impact economic activity alongside these macroeconomic factors.\n",
    "\n",
    "# Conclusion\n",
    "\n",
    "Aggregate demand is defined as total expenditures. The value of real income that can be derived from these expenditures changes inversely to the price level. The economy tends to be subject to equillibrating forces such that the price level moves to a level that enables the production and purchase of level of output that is sustainable in the long-run. Deviance from the equilibrium price level represent movements away from the sustainable level of output and can drive macroeconomic fluctuations.\n",
    "\n",
    "## Footnotes \n",
    "\n",
    "[1] In reality, short-run effects can impact the capital structure, thereby influencing the production structure in different markets and leading the lasting equilibrium structure that is relatively inefficient compared to cases where the capital structure is not distorted by $AD$ shocks."
   ]
  }
 ],
 "metadata": {
  "kernelspec": {
   "display_name": "Python 3",
   "language": "python",
   "name": "python3"
  },
  "language_info": {
   "codemirror_mode": {
    "name": "ipython",
    "version": 3
   },
   "file_extension": ".py",
   "mimetype": "text/x-python",
   "name": "python",
   "nbconvert_exporter": "python",
   "pygments_lexer": "ipython3",
   "version": "3.7.6"
  },
  "widgets": {
   "application/vnd.jupyter.widget-state+json": {
    "state": {
     "01722fde7f1e4726a767fdd9d3a00602": {
      "model_module": "@jupyter-widgets/base",
      "model_module_version": "1.2.0",
      "model_name": "LayoutModel",
      "state": {}
     },
     "02c53153eb5d45688642be50ccb18f34": {
      "model_module": "@jupyter-widgets/controls",
      "model_module_version": "1.5.0",
      "model_name": "FloatSliderModel",
      "state": {
       "description": "V",
       "layout": "IPY_MODEL_24ce228b7aa845b2b417ecf164703bb2",
       "max": 16,
       "min": 0.8,
       "step": 0.1,
       "style": "IPY_MODEL_2b35c4a39df9401b9b1a05aa88eba7ca",
       "value": 12
      }
     },
     "031544f030c449098b36d0928fcc7eca": {
      "model_module": "@jupyter-widgets/controls",
      "model_module_version": "1.5.0",
      "model_name": "SliderStyleModel",
      "state": {
       "description_width": ""
      }
     },
     "03b56f4dee7f406baa11706ca0be8c7c": {
      "model_module": "@jupyter-widgets/base",
      "model_module_version": "1.2.0",
      "model_name": "LayoutModel",
      "state": {}
     },
     "0426472a84cc41ca963a04c7a20d0532": {
      "model_module": "@jupyter-widgets/base",
      "model_module_version": "1.2.0",
      "model_name": "LayoutModel",
      "state": {}
     },
     "0684197412b84bd2951101024aab8d27": {
      "model_module": "@jupyter-widgets/controls",
      "model_module_version": "1.5.0",
      "model_name": "IntSliderModel",
      "state": {
       "description": "y0",
       "layout": "IPY_MODEL_3040f6c3e4224cec8c86c5e4935a74ed",
       "max": 1000,
       "min": 250,
       "step": 5,
       "style": "IPY_MODEL_cf4703dc555c4bed891a8e7989c20195",
       "value": 250
      }
     },
     "06d5959ce78b47b8a028698746abfd81": {
      "model_module": "@jupyter-widgets/base",
      "model_module_version": "1.2.0",
      "model_name": "LayoutModel",
      "state": {}
     },
     "0833cae91c824a499bd1bf37420688fb": {
      "model_module": "@jupyter-widgets/controls",
      "model_module_version": "1.5.0",
      "model_name": "IntSliderModel",
      "state": {
       "description": "y0",
       "layout": "IPY_MODEL_2dbe69c1d3b04801b6b178cd9be47e0e",
       "max": 1000,
       "min": 250,
       "step": 5,
       "style": "IPY_MODEL_f188c2d1121c4a559b25a316605bd558",
       "value": 550
      }
     },
     "08cd0337ff1f49c68055ff1209621d27": {
      "model_module": "@jupyter-widgets/controls",
      "model_module_version": "1.5.0",
      "model_name": "SliderStyleModel",
      "state": {
       "description_width": ""
      }
     },
     "0bbcc7350b6343d5a9bf1534226a2b59": {
      "model_module": "@jupyter-widgets/base",
      "model_module_version": "1.2.0",
      "model_name": "LayoutModel",
      "state": {}
     },
     "0bfaff8aeebd46f4b1934270dc5821f4": {
      "model_module": "@jupyter-widgets/controls",
      "model_module_version": "1.5.0",
      "model_name": "SliderStyleModel",
      "state": {
       "description_width": ""
      }
     },
     "0cd357ed6a744cf4aafb15596e2d95a0": {
      "model_module": "@jupyter-widgets/controls",
      "model_module_version": "1.5.0",
      "model_name": "IntSliderModel",
      "state": {
       "description": "M",
       "layout": "IPY_MODEL_20a81c9c72bb4dd590cf7e7bd304bd96",
       "max": 2000,
       "min": 100,
       "step": 10,
       "style": "IPY_MODEL_6db52190285a4e33bfcc5048fba69e15",
       "value": 1000
      }
     },
     "0f9873ea044c4cd0b84bca0f63392f23": {
      "model_module": "@jupyter-widgets/controls",
      "model_module_version": "1.5.0",
      "model_name": "SliderStyleModel",
      "state": {
       "description_width": ""
      }
     },
     "0fbc15984e384b869dc3e8f4e15e17c7": {
      "model_module": "@jupyter-widgets/base",
      "model_module_version": "1.2.0",
      "model_name": "LayoutModel",
      "state": {}
     },
     "0ff87625c54d4d628aa6be7e90ec3d7b": {
      "model_module": "@jupyter-widgets/controls",
      "model_module_version": "1.5.0",
      "model_name": "SliderStyleModel",
      "state": {
       "description_width": ""
      }
     },
     "103e8cfb466d4caeb1f03d1a76755ec1": {
      "model_module": "@jupyter-widgets/controls",
      "model_module_version": "1.5.0",
      "model_name": "IntSliderModel",
      "state": {
       "description": "M",
       "layout": "IPY_MODEL_dc94f9a67770485593550c2c1f4a5c42",
       "max": 2000,
       "min": 100,
       "step": 10,
       "style": "IPY_MODEL_aebe0385024f49e599f85c6d74f08bd9",
       "value": 1330
      }
     },
     "128841b01a2a436d86a2157757da67fc": {
      "model_module": "@jupyter-widgets/base",
      "model_module_version": "1.2.0",
      "model_name": "LayoutModel",
      "state": {}
     },
     "155032d3a7a34297acdee78f41deb17d": {
      "model_module": "@jupyter-widgets/controls",
      "model_module_version": "1.5.0",
      "model_name": "IntSliderModel",
      "state": {
       "description": "y0",
       "layout": "IPY_MODEL_3517dcbec79a40eb91f2de3eabbaae0a",
       "max": 1000,
       "min": 250,
       "step": 5,
       "style": "IPY_MODEL_aafde4ddd907429e89d4f25f032e0191",
       "value": 250
      }
     },
     "1821cc80c03548e4a10c5d3cd10555ca": {
      "model_module": "@jupyter-widgets/controls",
      "model_module_version": "1.5.0",
      "model_name": "FloatSliderModel",
      "state": {
       "description": "V",
       "layout": "IPY_MODEL_03b56f4dee7f406baa11706ca0be8c7c",
       "max": 16,
       "min": 2,
       "step": 0.1,
       "style": "IPY_MODEL_63d0faf74f944c7b846e8af9b8c69f0a",
       "value": 12
      }
     },
     "189aa44d9e4c4c93b53d41301a090dcb": {
      "model_module": "@jupyter-widgets/base",
      "model_module_version": "1.2.0",
      "model_name": "LayoutModel",
      "state": {}
     },
     "1a911c16ec9c4781984b86658caa7c88": {
      "model_module": "@jupyter-widgets/controls",
      "model_module_version": "1.5.0",
      "model_name": "VBoxModel",
      "state": {
       "_dom_classes": [
        "widget-interact"
       ],
       "children": [
        "IPY_MODEL_d257c31226b0447aa2ae805339056610",
        "IPY_MODEL_64ab2db96e7b4511a26cac6aee684dd1",
        "IPY_MODEL_8e020db6efff4e758915d876c87b5613",
        "IPY_MODEL_c34300f22580441da1cff26ebfd100da"
       ],
       "layout": "IPY_MODEL_3223965bd9104096909906bd6e3488cf"
      }
     },
     "1d835be9021749f3927f75ef2b656149": {
      "model_module": "@jupyter-widgets/base",
      "model_module_version": "1.2.0",
      "model_name": "LayoutModel",
      "state": {}
     },
     "1db02c5639c14fb8b9cd2fac9eaf5bfd": {
      "model_module": "@jupyter-widgets/base",
      "model_module_version": "1.2.0",
      "model_name": "LayoutModel",
      "state": {}
     },
     "20a81c9c72bb4dd590cf7e7bd304bd96": {
      "model_module": "@jupyter-widgets/base",
      "model_module_version": "1.2.0",
      "model_name": "LayoutModel",
      "state": {}
     },
     "2476126508084a04b25656723c8cfe40": {
      "model_module": "@jupyter-widgets/base",
      "model_module_version": "1.2.0",
      "model_name": "LayoutModel",
      "state": {}
     },
     "24ce228b7aa845b2b417ecf164703bb2": {
      "model_module": "@jupyter-widgets/base",
      "model_module_version": "1.2.0",
      "model_name": "LayoutModel",
      "state": {}
     },
     "25c1de1f92bc464aa920bf5bced0e029": {
      "model_module": "@jupyter-widgets/controls",
      "model_module_version": "1.5.0",
      "model_name": "SliderStyleModel",
      "state": {
       "description_width": ""
      }
     },
     "27065ce0e1974bb3a52c430b7bac8ee7": {
      "model_module": "@jupyter-widgets/controls",
      "model_module_version": "1.5.0",
      "model_name": "FloatSliderModel",
      "state": {
       "description": "V",
       "layout": "IPY_MODEL_29f2326241344862b0540d40521ccce0",
       "max": 16,
       "min": 0.8,
       "step": 0.1,
       "style": "IPY_MODEL_a9a0ab712ffc4662a944d1796a69b624",
       "value": 12
      }
     },
     "287cd367abd94c6992bb09daa472b211": {
      "model_module": "@jupyter-widgets/base",
      "model_module_version": "1.2.0",
      "model_name": "LayoutModel",
      "state": {}
     },
     "2903054e93b643d1bf1cc6ff652f200d": {
      "model_module": "@jupyter-widgets/controls",
      "model_module_version": "1.5.0",
      "model_name": "SliderStyleModel",
      "state": {
       "description_width": ""
      }
     },
     "294c934efe674a1fa043b3ea676a34af": {
      "model_module": "@jupyter-widgets/output",
      "model_module_version": "1.0.0",
      "model_name": "OutputModel",
      "state": {
       "layout": "IPY_MODEL_8befc19f6cdf4e79baa11028ec661ad2"
      }
     },
     "297491fb0d1f4bcbaf6bcc533c42b858": {
      "model_module": "@jupyter-widgets/base",
      "model_module_version": "1.2.0",
      "model_name": "LayoutModel",
      "state": {}
     },
     "29f2326241344862b0540d40521ccce0": {
      "model_module": "@jupyter-widgets/base",
      "model_module_version": "1.2.0",
      "model_name": "LayoutModel",
      "state": {}
     },
     "2a8bc1c76c3d44ddbc14726f5f0b2399": {
      "model_module": "@jupyter-widgets/controls",
      "model_module_version": "1.5.0",
      "model_name": "IntSliderModel",
      "state": {
       "description": "y0",
       "layout": "IPY_MODEL_b77b73236d5944548c8a7da5b7f69097",
       "max": 1000,
       "min": 250,
       "step": 5,
       "style": "IPY_MODEL_e1b0573952fd48b0b950b8bda76d667a",
       "value": 250
      }
     },
     "2ab33c1d074541888c555755e2f5395a": {
      "model_module": "@jupyter-widgets/base",
      "model_module_version": "1.2.0",
      "model_name": "LayoutModel",
      "state": {}
     },
     "2b35c4a39df9401b9b1a05aa88eba7ca": {
      "model_module": "@jupyter-widgets/controls",
      "model_module_version": "1.5.0",
      "model_name": "SliderStyleModel",
      "state": {
       "description_width": ""
      }
     },
     "2dbe69c1d3b04801b6b178cd9be47e0e": {
      "model_module": "@jupyter-widgets/base",
      "model_module_version": "1.2.0",
      "model_name": "LayoutModel",
      "state": {}
     },
     "3040f6c3e4224cec8c86c5e4935a74ed": {
      "model_module": "@jupyter-widgets/base",
      "model_module_version": "1.2.0",
      "model_name": "LayoutModel",
      "state": {}
     },
     "31530e0024a6446893712c29c5dc9734": {
      "model_module": "@jupyter-widgets/base",
      "model_module_version": "1.2.0",
      "model_name": "LayoutModel",
      "state": {}
     },
     "3223965bd9104096909906bd6e3488cf": {
      "model_module": "@jupyter-widgets/base",
      "model_module_version": "1.2.0",
      "model_name": "LayoutModel",
      "state": {}
     },
     "34607a382c21449885b50ff5a2ed975f": {
      "model_module": "@jupyter-widgets/base",
      "model_module_version": "1.2.0",
      "model_name": "LayoutModel",
      "state": {}
     },
     "3517dcbec79a40eb91f2de3eabbaae0a": {
      "model_module": "@jupyter-widgets/base",
      "model_module_version": "1.2.0",
      "model_name": "LayoutModel",
      "state": {}
     },
     "3978787f1fe74913aaea2ea9a68a46cf": {
      "model_module": "@jupyter-widgets/base",
      "model_module_version": "1.2.0",
      "model_name": "LayoutModel",
      "state": {}
     },
     "3b605a1e7fa64a3c80e2278d093bfbff": {
      "model_module": "@jupyter-widgets/controls",
      "model_module_version": "1.5.0",
      "model_name": "FloatSliderModel",
      "state": {
       "description": "V",
       "layout": "IPY_MODEL_6c31d49480de431896c5fad51710c7fc",
       "max": 16,
       "min": 2,
       "step": 0.1,
       "style": "IPY_MODEL_bc3af383510349f39c5bf695f47cf52e",
       "value": 8.6
      }
     },
     "3b72653a77f043eb939004aff6944efb": {
      "model_module": "@jupyter-widgets/base",
      "model_module_version": "1.2.0",
      "model_name": "LayoutModel",
      "state": {}
     },
     "3db11db4052746efa4669cca1ba24ca3": {
      "model_module": "@jupyter-widgets/controls",
      "model_module_version": "1.5.0",
      "model_name": "IntSliderModel",
      "state": {
       "description": "M",
       "layout": "IPY_MODEL_eb4e885672e94373a3b8455278e87b26",
       "max": 2000,
       "min": 250,
       "step": 10,
       "style": "IPY_MODEL_4b106964302345a7826953866cfa30f4",
       "value": 1000
      }
     },
     "3fc71e17d8cd4291b0762f12ae0e74f7": {
      "model_module": "@jupyter-widgets/controls",
      "model_module_version": "1.5.0",
      "model_name": "SliderStyleModel",
      "state": {
       "description_width": ""
      }
     },
     "41eb5a321cd345529f854b3378f53ab4": {
      "model_module": "@jupyter-widgets/base",
      "model_module_version": "1.2.0",
      "model_name": "LayoutModel",
      "state": {}
     },
     "42cce5055a144abdade2a98035d2248d": {
      "model_module": "@jupyter-widgets/base",
      "model_module_version": "1.2.0",
      "model_name": "LayoutModel",
      "state": {}
     },
     "45b1c93e7ed94e35b321d0cd0563a0cd": {
      "model_module": "@jupyter-widgets/controls",
      "model_module_version": "1.5.0",
      "model_name": "IntSliderModel",
      "state": {
       "description": "y0",
       "layout": "IPY_MODEL_6276135cb658418f9759412a614cc30c",
       "max": 1000,
       "min": 50,
       "step": 5,
       "style": "IPY_MODEL_031544f030c449098b36d0928fcc7eca",
       "value": 50
      }
     },
     "46c3334759ea41f296f5b83ecdb0f5f4": {
      "model_module": "@jupyter-widgets/base",
      "model_module_version": "1.2.0",
      "model_name": "LayoutModel",
      "state": {}
     },
     "4731307daed142148f87fd037c130a3e": {
      "model_module": "@jupyter-widgets/controls",
      "model_module_version": "1.5.0",
      "model_name": "FloatSliderModel",
      "state": {
       "description": "V",
       "layout": "IPY_MODEL_b748c101385b421bb3fff14238f3d5fc",
       "max": 16,
       "min": 0.8,
       "step": 0.1,
       "style": "IPY_MODEL_9929e3afb149459d8339abcac719b0d9",
       "value": 16
      }
     },
     "47bedbeb64dc4ad098682f400b774134": {
      "model_module": "@jupyter-widgets/controls",
      "model_module_version": "1.5.0",
      "model_name": "SliderStyleModel",
      "state": {
       "description_width": ""
      }
     },
     "493dc50d0d984d2bb1b8cf68135625d7": {
      "model_module": "@jupyter-widgets/controls",
      "model_module_version": "1.5.0",
      "model_name": "VBoxModel",
      "state": {
       "_dom_classes": [
        "widget-interact"
       ],
       "children": [
        "IPY_MODEL_df7c2cee885a4030a71694b9b432d9d9",
        "IPY_MODEL_27065ce0e1974bb3a52c430b7bac8ee7",
        "IPY_MODEL_ca44ad27c46749378897d0ae18503d7a",
        "IPY_MODEL_dd13fd0e2d4746e58715f143e27b85b3"
       ],
       "layout": "IPY_MODEL_e1b4728375364dafab45e1beb81b4065"
      }
     },
     "49bc77407cfe483ba8a9efac15215441": {
      "model_module": "@jupyter-widgets/base",
      "model_module_version": "1.2.0",
      "model_name": "LayoutModel",
      "state": {}
     },
     "4a6746987bb14553a22e117f2bd66ae3": {
      "model_module": "@jupyter-widgets/controls",
      "model_module_version": "1.5.0",
      "model_name": "FloatSliderModel",
      "state": {
       "description": "V",
       "layout": "IPY_MODEL_a0b11c6248324d289a9ad769efc20453",
       "max": 16,
       "min": 0.8,
       "step": 0.1,
       "style": "IPY_MODEL_2903054e93b643d1bf1cc6ff652f200d",
       "value": 12
      }
     },
     "4b106964302345a7826953866cfa30f4": {
      "model_module": "@jupyter-widgets/controls",
      "model_module_version": "1.5.0",
      "model_name": "SliderStyleModel",
      "state": {
       "description_width": ""
      }
     },
     "4cc63c8968b34ccc8e0ff6c1faab3db7": {
      "model_module": "@jupyter-widgets/base",
      "model_module_version": "1.2.0",
      "model_name": "LayoutModel",
      "state": {}
     },
     "4f76d6cba4224bc9bc49c7b319c9054d": {
      "model_module": "@jupyter-widgets/controls",
      "model_module_version": "1.5.0",
      "model_name": "SliderStyleModel",
      "state": {
       "description_width": ""
      }
     },
     "4f8f6e6585104be29afad18aedabcfbd": {
      "model_module": "@jupyter-widgets/controls",
      "model_module_version": "1.5.0",
      "model_name": "VBoxModel",
      "state": {
       "_dom_classes": [
        "widget-interact"
       ],
       "children": [
        "IPY_MODEL_886cf9fe558744338713d7e1fda61b03",
        "IPY_MODEL_3b605a1e7fa64a3c80e2278d093bfbff",
        "IPY_MODEL_0833cae91c824a499bd1bf37420688fb",
        "IPY_MODEL_d58f8107f81b4a1db4f65fb91669c47f"
       ],
       "layout": "IPY_MODEL_49bc77407cfe483ba8a9efac15215441"
      }
     },
     "4faa0e69c3944031af28243a6c2cb838": {
      "model_module": "@jupyter-widgets/controls",
      "model_module_version": "1.5.0",
      "model_name": "IntSliderModel",
      "state": {
       "description": "y0",
       "layout": "IPY_MODEL_4cc63c8968b34ccc8e0ff6c1faab3db7",
       "max": 1000,
       "min": 250,
       "step": 5,
       "style": "IPY_MODEL_beab4cac0f874a0da4d5e81ce23127c0",
       "value": 250
      }
     },
     "52a99af8ac4f4cc88ff6133b32793c0c": {
      "model_module": "@jupyter-widgets/base",
      "model_module_version": "1.2.0",
      "model_name": "LayoutModel",
      "state": {}
     },
     "52c01293ca1546239ba901da85df142f": {
      "model_module": "@jupyter-widgets/output",
      "model_module_version": "1.0.0",
      "model_name": "OutputModel",
      "state": {
       "layout": "IPY_MODEL_dbc7d1bac8344c0aa0affbbfa51938e0"
      }
     },
     "52fba609c70a4513b5f8896980a5dd91": {
      "model_module": "@jupyter-widgets/base",
      "model_module_version": "1.2.0",
      "model_name": "LayoutModel",
      "state": {}
     },
     "53f8ef40c39241f4a22e8eb47ccde0b2": {
      "model_module": "@jupyter-widgets/controls",
      "model_module_version": "1.5.0",
      "model_name": "VBoxModel",
      "state": {
       "_dom_classes": [
        "widget-interact"
       ],
       "children": [
        "IPY_MODEL_b23f96b5c9034a9ba8133869e0ecf009",
        "IPY_MODEL_f98fd46f2bf5490388683a1db8ed0062",
        "IPY_MODEL_4faa0e69c3944031af28243a6c2cb838",
        "IPY_MODEL_cc9bdbc5ac9540b9ba207dc7655b42d7"
       ],
       "layout": "IPY_MODEL_d15bec5610154b83bbb0fcb958be3026"
      }
     },
     "54a4e78e32034147921199336392169c": {
      "model_module": "@jupyter-widgets/controls",
      "model_module_version": "1.5.0",
      "model_name": "SliderStyleModel",
      "state": {
       "description_width": ""
      }
     },
     "55170df18abe4f5f97112a0e4d83d51d": {
      "model_module": "@jupyter-widgets/base",
      "model_module_version": "1.2.0",
      "model_name": "LayoutModel",
      "state": {}
     },
     "5bef57869bf44e4492561d0c61c2be03": {
      "model_module": "@jupyter-widgets/controls",
      "model_module_version": "1.5.0",
      "model_name": "SliderStyleModel",
      "state": {
       "description_width": ""
      }
     },
     "5da8c92ad3754919aeb79454fb23ddfb": {
      "model_module": "@jupyter-widgets/base",
      "model_module_version": "1.2.0",
      "model_name": "LayoutModel",
      "state": {}
     },
     "60f9bd4195f546b8a7210ae7189d4a51": {
      "model_module": "@jupyter-widgets/controls",
      "model_module_version": "1.5.0",
      "model_name": "SliderStyleModel",
      "state": {
       "description_width": ""
      }
     },
     "6276135cb658418f9759412a614cc30c": {
      "model_module": "@jupyter-widgets/base",
      "model_module_version": "1.2.0",
      "model_name": "LayoutModel",
      "state": {}
     },
     "628d1045dde84584bb24be7fec0e9778": {
      "model_module": "@jupyter-widgets/base",
      "model_module_version": "1.2.0",
      "model_name": "LayoutModel",
      "state": {}
     },
     "63d0faf74f944c7b846e8af9b8c69f0a": {
      "model_module": "@jupyter-widgets/controls",
      "model_module_version": "1.5.0",
      "model_name": "SliderStyleModel",
      "state": {
       "description_width": ""
      }
     },
     "63f9d901c7794a858b89f51741352ea6": {
      "model_module": "@jupyter-widgets/base",
      "model_module_version": "1.2.0",
      "model_name": "LayoutModel",
      "state": {}
     },
     "64ab2db96e7b4511a26cac6aee684dd1": {
      "model_module": "@jupyter-widgets/controls",
      "model_module_version": "1.5.0",
      "model_name": "FloatSliderModel",
      "state": {
       "description": "V",
       "layout": "IPY_MODEL_b74fb1b45b0a4f37ad2d62ce14dc9e32",
       "max": 16,
       "min": 2,
       "step": 0.1,
       "style": "IPY_MODEL_a2a0bdb894644e019f8e5dbd9fbbf105",
       "value": 12
      }
     },
     "64d7c9f811a94f2886b3418926abfc62": {
      "model_module": "@jupyter-widgets/controls",
      "model_module_version": "1.5.0",
      "model_name": "FloatSliderModel",
      "state": {
       "description": "V",
       "layout": "IPY_MODEL_297491fb0d1f4bcbaf6bcc533c42b858",
       "max": 16,
       "min": 2,
       "step": 0.1,
       "style": "IPY_MODEL_5bef57869bf44e4492561d0c61c2be03",
       "value": 12
      }
     },
     "6507fe6bb4c846e7946f4edebe3460fc": {
      "model_module": "@jupyter-widgets/base",
      "model_module_version": "1.2.0",
      "model_name": "LayoutModel",
      "state": {}
     },
     "66591c52d1494ce6a8781f5c41bd49e9": {
      "model_module": "@jupyter-widgets/controls",
      "model_module_version": "1.5.0",
      "model_name": "IntSliderModel",
      "state": {
       "description": "M",
       "layout": "IPY_MODEL_41eb5a321cd345529f854b3378f53ab4",
       "max": 2000,
       "min": 250,
       "step": 10,
       "style": "IPY_MODEL_4f76d6cba4224bc9bc49c7b319c9054d",
       "value": 950
      }
     },
     "6857d4bb340d4832ab562b133d3bb9f9": {
      "model_module": "@jupyter-widgets/controls",
      "model_module_version": "1.5.0",
      "model_name": "FloatSliderModel",
      "state": {
       "description": "V",
       "layout": "IPY_MODEL_8adb7e6ac67f4845bd7e12b132ea29c0",
       "max": 16,
       "min": 2,
       "step": 0.1,
       "style": "IPY_MODEL_8a075aa4842d4bd08120e348e2082e65",
       "value": 12
      }
     },
     "6a0efb26fe374dce94765d555c41c2ae": {
      "model_module": "@jupyter-widgets/base",
      "model_module_version": "1.2.0",
      "model_name": "LayoutModel",
      "state": {}
     },
     "6ab42dfa2ae144418c9afb12c542ee27": {
      "model_module": "@jupyter-widgets/controls",
      "model_module_version": "1.5.0",
      "model_name": "VBoxModel",
      "state": {
       "_dom_classes": [
        "widget-interact"
       ],
       "children": [
        "IPY_MODEL_3db11db4052746efa4669cca1ba24ca3",
        "IPY_MODEL_64d7c9f811a94f2886b3418926abfc62",
        "IPY_MODEL_155032d3a7a34297acdee78f41deb17d",
        "IPY_MODEL_f658215027f04cb2ba75123d2eceb6b2"
       ],
       "layout": "IPY_MODEL_2476126508084a04b25656723c8cfe40"
      }
     },
     "6b04253dc2204833b1a08d045fe1f624": {
      "model_module": "@jupyter-widgets/controls",
      "model_module_version": "1.5.0",
      "model_name": "SliderStyleModel",
      "state": {
       "description_width": ""
      }
     },
     "6c31d49480de431896c5fad51710c7fc": {
      "model_module": "@jupyter-widgets/base",
      "model_module_version": "1.2.0",
      "model_name": "LayoutModel",
      "state": {}
     },
     "6db52190285a4e33bfcc5048fba69e15": {
      "model_module": "@jupyter-widgets/controls",
      "model_module_version": "1.5.0",
      "model_name": "SliderStyleModel",
      "state": {
       "description_width": ""
      }
     },
     "6ddee12c9c5444188dff2710a985bbf2": {
      "model_module": "@jupyter-widgets/base",
      "model_module_version": "1.2.0",
      "model_name": "LayoutModel",
      "state": {}
     },
     "7022e275f6a8476c8dfc47337bed3cf4": {
      "model_module": "@jupyter-widgets/output",
      "model_module_version": "1.0.0",
      "model_name": "OutputModel",
      "state": {
       "layout": "IPY_MODEL_3978787f1fe74913aaea2ea9a68a46cf"
      }
     },
     "73987a3146664bdb8d6f39d6088f6410": {
      "model_module": "@jupyter-widgets/base",
      "model_module_version": "1.2.0",
      "model_name": "LayoutModel",
      "state": {}
     },
     "762792f8cad6430ea47ff331eb8cfaaf": {
      "model_module": "@jupyter-widgets/output",
      "model_module_version": "1.0.0",
      "model_name": "OutputModel",
      "state": {
       "layout": "IPY_MODEL_0fbc15984e384b869dc3e8f4e15e17c7"
      }
     },
     "765d6ba078c74bc78ad0cf2f36356b2a": {
      "model_module": "@jupyter-widgets/controls",
      "model_module_version": "1.5.0",
      "model_name": "FloatSliderModel",
      "state": {
       "description": "V",
       "layout": "IPY_MODEL_0426472a84cc41ca963a04c7a20d0532",
       "max": 16,
       "min": 2,
       "step": 0.1,
       "style": "IPY_MODEL_60f9bd4195f546b8a7210ae7189d4a51",
       "value": 12
      }
     },
     "77a664a15f134b948d00629883887c8d": {
      "model_module": "@jupyter-widgets/base",
      "model_module_version": "1.2.0",
      "model_name": "LayoutModel",
      "state": {}
     },
     "7a4500d1ca184e30a9ec2149b9ea627c": {
      "model_module": "@jupyter-widgets/controls",
      "model_module_version": "1.5.0",
      "model_name": "SliderStyleModel",
      "state": {
       "description_width": ""
      }
     },
     "7a48af3b7aef42d087dff18e6bd9c464": {
      "model_module": "@jupyter-widgets/controls",
      "model_module_version": "1.5.0",
      "model_name": "VBoxModel",
      "state": {
       "_dom_classes": [
        "widget-interact"
       ],
       "children": [
        "IPY_MODEL_beeb58fe989a4f06b78180a34690f0e1",
        "IPY_MODEL_6857d4bb340d4832ab562b133d3bb9f9",
        "IPY_MODEL_0684197412b84bd2951101024aab8d27",
        "IPY_MODEL_7f184b32b04b4f07b41260537ea79e54"
       ],
       "layout": "IPY_MODEL_ba6d77c3cb0c4cedbfd63eb3873040ea"
      }
     },
     "7dabf9a317124183b271a8aa0895cd1e": {
      "model_module": "@jupyter-widgets/output",
      "model_module_version": "1.0.0",
      "model_name": "OutputModel",
      "state": {
       "layout": "IPY_MODEL_189aa44d9e4c4c93b53d41301a090dcb"
      }
     },
     "7f184b32b04b4f07b41260537ea79e54": {
      "model_module": "@jupyter-widgets/output",
      "model_module_version": "1.0.0",
      "model_name": "OutputModel",
      "state": {
       "layout": "IPY_MODEL_876575ed45394224a6209776b4d95840"
      }
     },
     "8102e93f0f24435fb5b3d4cf283b5804": {
      "model_module": "@jupyter-widgets/controls",
      "model_module_version": "1.5.0",
      "model_name": "VBoxModel",
      "state": {
       "_dom_classes": [
        "widget-interact"
       ],
       "children": [
        "IPY_MODEL_c1acee4afdc246d294ef898bd16facdc",
        "IPY_MODEL_955fedd2e1654e57b340d468f4fe8498",
        "IPY_MODEL_d50758d2abc14f798bbdc4d33c7ca91e",
        "IPY_MODEL_c87eb3e3100c4c92a4a8d664d3044307"
       ],
       "layout": "IPY_MODEL_6ddee12c9c5444188dff2710a985bbf2"
      }
     },
     "83de49a7bb0d4cbd8e9ab4a4538612f3": {
      "model_module": "@jupyter-widgets/controls",
      "model_module_version": "1.5.0",
      "model_name": "VBoxModel",
      "state": {
       "_dom_classes": [
        "widget-interact"
       ],
       "children": [
        "IPY_MODEL_e7ee727a023c4198a2a4d3d0e393b4d9",
        "IPY_MODEL_765d6ba078c74bc78ad0cf2f36356b2a",
        "IPY_MODEL_e547f03643054f538738dc888489be9d",
        "IPY_MODEL_c455c9d51c7f4bc3912e1295cb3afa7f"
       ],
       "layout": "IPY_MODEL_77a664a15f134b948d00629883887c8d"
      }
     },
     "876575ed45394224a6209776b4d95840": {
      "model_module": "@jupyter-widgets/base",
      "model_module_version": "1.2.0",
      "model_name": "LayoutModel",
      "state": {}
     },
     "87751c76cb4049ef97e6e58f31ea5982": {
      "model_module": "@jupyter-widgets/base",
      "model_module_version": "1.2.0",
      "model_name": "LayoutModel",
      "state": {}
     },
     "886cf9fe558744338713d7e1fda61b03": {
      "model_module": "@jupyter-widgets/controls",
      "model_module_version": "1.5.0",
      "model_name": "IntSliderModel",
      "state": {
       "description": "M",
       "layout": "IPY_MODEL_34607a382c21449885b50ff5a2ed975f",
       "max": 2000,
       "min": 250,
       "step": 10,
       "style": "IPY_MODEL_0ff87625c54d4d628aa6be7e90ec3d7b",
       "value": 1510
      }
     },
     "8a075aa4842d4bd08120e348e2082e65": {
      "model_module": "@jupyter-widgets/controls",
      "model_module_version": "1.5.0",
      "model_name": "SliderStyleModel",
      "state": {
       "description_width": ""
      }
     },
     "8adb7e6ac67f4845bd7e12b132ea29c0": {
      "model_module": "@jupyter-widgets/base",
      "model_module_version": "1.2.0",
      "model_name": "LayoutModel",
      "state": {}
     },
     "8befc19f6cdf4e79baa11028ec661ad2": {
      "model_module": "@jupyter-widgets/base",
      "model_module_version": "1.2.0",
      "model_name": "LayoutModel",
      "state": {}
     },
     "8d7791d412ce40bab330824504a15821": {
      "model_module": "@jupyter-widgets/controls",
      "model_module_version": "1.5.0",
      "model_name": "IntSliderModel",
      "state": {
       "description": "M",
       "layout": "IPY_MODEL_73987a3146664bdb8d6f39d6088f6410",
       "max": 2000,
       "min": 100,
       "step": 10,
       "style": "IPY_MODEL_e090d75bce5a443facb8e65f3edaec56",
       "value": 1000
      }
     },
     "8e020db6efff4e758915d876c87b5613": {
      "model_module": "@jupyter-widgets/controls",
      "model_module_version": "1.5.0",
      "model_name": "IntSliderModel",
      "state": {
       "description": "y0",
       "layout": "IPY_MODEL_63f9d901c7794a858b89f51741352ea6",
       "max": 1000,
       "min": 250,
       "step": 5,
       "style": "IPY_MODEL_c13762c5c5a449ffb1f7e3f1063ed5c9",
       "value": 250
      }
     },
     "93be7e2b0e7f47ab9604136135d79e2b": {
      "model_module": "@jupyter-widgets/controls",
      "model_module_version": "1.5.0",
      "model_name": "SliderStyleModel",
      "state": {
       "description_width": ""
      }
     },
     "955fedd2e1654e57b340d468f4fe8498": {
      "model_module": "@jupyter-widgets/controls",
      "model_module_version": "1.5.0",
      "model_name": "FloatSliderModel",
      "state": {
       "description": "V",
       "layout": "IPY_MODEL_31530e0024a6446893712c29c5dc9734",
       "max": 16,
       "min": 0.8,
       "step": 0.1,
       "style": "IPY_MODEL_a009d05e07524fd39f8340a0a2885907",
       "value": 12
      }
     },
     "9698579ee81d411685da58328f31f9fd": {
      "model_module": "@jupyter-widgets/controls",
      "model_module_version": "1.5.0",
      "model_name": "SliderStyleModel",
      "state": {
       "description_width": ""
      }
     },
     "9841dae8eea6473f91ddf63f054fc138": {
      "model_module": "@jupyter-widgets/controls",
      "model_module_version": "1.5.0",
      "model_name": "VBoxModel",
      "state": {
       "_dom_classes": [
        "widget-interact"
       ],
       "children": [
        "IPY_MODEL_0cd357ed6a744cf4aafb15596e2d95a0",
        "IPY_MODEL_f7945f6317a34acb9fe5a06743183a9d",
        "IPY_MODEL_a0d9708040da414dabd7eabd8a06e9a7",
        "IPY_MODEL_7dabf9a317124183b271a8aa0895cd1e"
       ],
       "layout": "IPY_MODEL_5da8c92ad3754919aeb79454fb23ddfb"
      }
     },
     "9929e3afb149459d8339abcac719b0d9": {
      "model_module": "@jupyter-widgets/controls",
      "model_module_version": "1.5.0",
      "model_name": "SliderStyleModel",
      "state": {
       "description_width": ""
      }
     },
     "9c5b4eeda9c24ac99947cd50f931cf3d": {
      "model_module": "@jupyter-widgets/base",
      "model_module_version": "1.2.0",
      "model_name": "LayoutModel",
      "state": {}
     },
     "9e920d46f319469fb11978be95aed64c": {
      "model_module": "@jupyter-widgets/controls",
      "model_module_version": "1.5.0",
      "model_name": "SliderStyleModel",
      "state": {
       "description_width": ""
      }
     },
     "9f170c583adb4d81bac766ca62254036": {
      "model_module": "@jupyter-widgets/base",
      "model_module_version": "1.2.0",
      "model_name": "LayoutModel",
      "state": {}
     },
     "a009d05e07524fd39f8340a0a2885907": {
      "model_module": "@jupyter-widgets/controls",
      "model_module_version": "1.5.0",
      "model_name": "SliderStyleModel",
      "state": {
       "description_width": ""
      }
     },
     "a0b11c6248324d289a9ad769efc20453": {
      "model_module": "@jupyter-widgets/base",
      "model_module_version": "1.2.0",
      "model_name": "LayoutModel",
      "state": {}
     },
     "a0d9708040da414dabd7eabd8a06e9a7": {
      "model_module": "@jupyter-widgets/controls",
      "model_module_version": "1.5.0",
      "model_name": "IntSliderModel",
      "state": {
       "description": "y0",
       "layout": "IPY_MODEL_c55ae050b6b74f33bb7ca8876b8ae617",
       "max": 1000,
       "min": 50,
       "step": 5,
       "style": "IPY_MODEL_25c1de1f92bc464aa920bf5bced0e029",
       "value": 50
      }
     },
     "a2a0bdb894644e019f8e5dbd9fbbf105": {
      "model_module": "@jupyter-widgets/controls",
      "model_module_version": "1.5.0",
      "model_name": "SliderStyleModel",
      "state": {
       "description_width": ""
      }
     },
     "a40ad48c698943c885ec32755a9d60fe": {
      "model_module": "@jupyter-widgets/controls",
      "model_module_version": "1.5.0",
      "model_name": "IntSliderModel",
      "state": {
       "description": "y0",
       "layout": "IPY_MODEL_01722fde7f1e4726a767fdd9d3a00602",
       "max": 1000,
       "min": 50,
       "step": 5,
       "style": "IPY_MODEL_9e920d46f319469fb11978be95aed64c",
       "value": 485
      }
     },
     "a6900206e75b45e09a2e2ee6a009839c": {
      "model_module": "@jupyter-widgets/controls",
      "model_module_version": "1.5.0",
      "model_name": "SliderStyleModel",
      "state": {
       "description_width": ""
      }
     },
     "a9a0ab712ffc4662a944d1796a69b624": {
      "model_module": "@jupyter-widgets/controls",
      "model_module_version": "1.5.0",
      "model_name": "SliderStyleModel",
      "state": {
       "description_width": ""
      }
     },
     "aafde4ddd907429e89d4f25f032e0191": {
      "model_module": "@jupyter-widgets/controls",
      "model_module_version": "1.5.0",
      "model_name": "SliderStyleModel",
      "state": {
       "description_width": ""
      }
     },
     "ab5e269e99a841369381f17a31577d7c": {
      "model_module": "@jupyter-widgets/base",
      "model_module_version": "1.2.0",
      "model_name": "LayoutModel",
      "state": {}
     },
     "ae4c08f102084384b7c1ab8892491841": {
      "model_module": "@jupyter-widgets/controls",
      "model_module_version": "1.5.0",
      "model_name": "VBoxModel",
      "state": {
       "_dom_classes": [
        "widget-interact"
       ],
       "children": [
        "IPY_MODEL_cba2d9b6bb114371b2f25b7db102f9ef",
        "IPY_MODEL_fae5601dcccf40d8ae246d905799b183",
        "IPY_MODEL_45b1c93e7ed94e35b321d0cd0563a0cd",
        "IPY_MODEL_ed2f12908b0e40d59edf0e7e6efd5c77"
       ],
       "layout": "IPY_MODEL_cfa04a5e4d4040aea94d2ab1c93dc7f5"
      }
     },
     "aebe0385024f49e599f85c6d74f08bd9": {
      "model_module": "@jupyter-widgets/controls",
      "model_module_version": "1.5.0",
      "model_name": "SliderStyleModel",
      "state": {
       "description_width": ""
      }
     },
     "aefd472098004357b486fe94c90dc9c2": {
      "model_module": "@jupyter-widgets/base",
      "model_module_version": "1.2.0",
      "model_name": "LayoutModel",
      "state": {}
     },
     "b181433014d4469badae671dab15a954": {
      "model_module": "@jupyter-widgets/controls",
      "model_module_version": "1.5.0",
      "model_name": "IntSliderModel",
      "state": {
       "description": "y0",
       "layout": "IPY_MODEL_06d5959ce78b47b8a028698746abfd81",
       "max": 1000,
       "min": 50,
       "step": 5,
       "style": "IPY_MODEL_e320293c996949548d99a7eca547bef9",
       "value": 495
      }
     },
     "b23f96b5c9034a9ba8133869e0ecf009": {
      "model_module": "@jupyter-widgets/controls",
      "model_module_version": "1.5.0",
      "model_name": "IntSliderModel",
      "state": {
       "description": "M",
       "layout": "IPY_MODEL_42cce5055a144abdade2a98035d2248d",
       "max": 2000,
       "min": 250,
       "step": 10,
       "style": "IPY_MODEL_54a4e78e32034147921199336392169c",
       "value": 1000
      }
     },
     "b373d8f3f0d5456fb545e7603c0fbc0a": {
      "model_module": "@jupyter-widgets/controls",
      "model_module_version": "1.5.0",
      "model_name": "VBoxModel",
      "state": {
       "_dom_classes": [
        "widget-interact"
       ],
       "children": [
        "IPY_MODEL_fb5b00b9494f4ce8b4fea35fb8e528d5",
        "IPY_MODEL_02c53153eb5d45688642be50ccb18f34",
        "IPY_MODEL_ca30e82190734e6fa1a8af111d8e73c0",
        "IPY_MODEL_52c01293ca1546239ba901da85df142f"
       ],
       "layout": "IPY_MODEL_52a99af8ac4f4cc88ff6133b32793c0c"
      }
     },
     "b748c101385b421bb3fff14238f3d5fc": {
      "model_module": "@jupyter-widgets/base",
      "model_module_version": "1.2.0",
      "model_name": "LayoutModel",
      "state": {}
     },
     "b74fb1b45b0a4f37ad2d62ce14dc9e32": {
      "model_module": "@jupyter-widgets/base",
      "model_module_version": "1.2.0",
      "model_name": "LayoutModel",
      "state": {}
     },
     "b77b73236d5944548c8a7da5b7f69097": {
      "model_module": "@jupyter-widgets/base",
      "model_module_version": "1.2.0",
      "model_name": "LayoutModel",
      "state": {}
     },
     "b7f643eedd304d0fb278793ba59bb0d7": {
      "model_module": "@jupyter-widgets/controls",
      "model_module_version": "1.5.0",
      "model_name": "SliderStyleModel",
      "state": {
       "description_width": ""
      }
     },
     "b81d874ba92345d2b2286d3e8c29df16": {
      "model_module": "@jupyter-widgets/base",
      "model_module_version": "1.2.0",
      "model_name": "LayoutModel",
      "state": {}
     },
     "ba4ccf5a891c45e89ae8c76e84df1377": {
      "model_module": "@jupyter-widgets/base",
      "model_module_version": "1.2.0",
      "model_name": "LayoutModel",
      "state": {}
     },
     "ba6d77c3cb0c4cedbfd63eb3873040ea": {
      "model_module": "@jupyter-widgets/base",
      "model_module_version": "1.2.0",
      "model_name": "LayoutModel",
      "state": {}
     },
     "bc3af383510349f39c5bf695f47cf52e": {
      "model_module": "@jupyter-widgets/controls",
      "model_module_version": "1.5.0",
      "model_name": "SliderStyleModel",
      "state": {
       "description_width": ""
      }
     },
     "beab4cac0f874a0da4d5e81ce23127c0": {
      "model_module": "@jupyter-widgets/controls",
      "model_module_version": "1.5.0",
      "model_name": "SliderStyleModel",
      "state": {
       "description_width": ""
      }
     },
     "beeb58fe989a4f06b78180a34690f0e1": {
      "model_module": "@jupyter-widgets/controls",
      "model_module_version": "1.5.0",
      "model_name": "IntSliderModel",
      "state": {
       "description": "M",
       "layout": "IPY_MODEL_e0e77434780d4c07a8601fe9dbe0ffe0",
       "max": 2000,
       "min": 250,
       "step": 10,
       "style": "IPY_MODEL_0bfaff8aeebd46f4b1934270dc5821f4",
       "value": 1000
      }
     },
     "c0b4af68733b43be904f3d3f85f5cfa7": {
      "model_module": "@jupyter-widgets/controls",
      "model_module_version": "1.5.0",
      "model_name": "SliderStyleModel",
      "state": {
       "description_width": ""
      }
     },
     "c13762c5c5a449ffb1f7e3f1063ed5c9": {
      "model_module": "@jupyter-widgets/controls",
      "model_module_version": "1.5.0",
      "model_name": "SliderStyleModel",
      "state": {
       "description_width": ""
      }
     },
     "c1acee4afdc246d294ef898bd16facdc": {
      "model_module": "@jupyter-widgets/controls",
      "model_module_version": "1.5.0",
      "model_name": "IntSliderModel",
      "state": {
       "description": "M",
       "layout": "IPY_MODEL_287cd367abd94c6992bb09daa472b211",
       "max": 2000,
       "min": 100,
       "step": 10,
       "style": "IPY_MODEL_0f9873ea044c4cd0b84bca0f63392f23",
       "value": 1000
      }
     },
     "c34300f22580441da1cff26ebfd100da": {
      "model_module": "@jupyter-widgets/output",
      "model_module_version": "1.0.0",
      "model_name": "OutputModel",
      "state": {
       "layout": "IPY_MODEL_f71a36c1202049fd895699395ba5ad87"
      }
     },
     "c455c9d51c7f4bc3912e1295cb3afa7f": {
      "model_module": "@jupyter-widgets/output",
      "model_module_version": "1.0.0",
      "model_name": "OutputModel",
      "state": {
       "layout": "IPY_MODEL_fdf7c9ad43a34cb49788a2487f7cafb5"
      }
     },
     "c55ae050b6b74f33bb7ca8876b8ae617": {
      "model_module": "@jupyter-widgets/base",
      "model_module_version": "1.2.0",
      "model_name": "LayoutModel",
      "state": {}
     },
     "c7ce90fb2d74453a86ce76372ced4936": {
      "model_module": "@jupyter-widgets/base",
      "model_module_version": "1.2.0",
      "model_name": "LayoutModel",
      "state": {}
     },
     "c87eb3e3100c4c92a4a8d664d3044307": {
      "model_module": "@jupyter-widgets/output",
      "model_module_version": "1.0.0",
      "model_name": "OutputModel",
      "state": {
       "layout": "IPY_MODEL_628d1045dde84584bb24be7fec0e9778"
      }
     },
     "ca30e82190734e6fa1a8af111d8e73c0": {
      "model_module": "@jupyter-widgets/controls",
      "model_module_version": "1.5.0",
      "model_name": "IntSliderModel",
      "state": {
       "description": "y0",
       "layout": "IPY_MODEL_ab5e269e99a841369381f17a31577d7c",
       "max": 1000,
       "min": 50,
       "step": 5,
       "style": "IPY_MODEL_9698579ee81d411685da58328f31f9fd",
       "value": 50
      }
     },
     "ca44ad27c46749378897d0ae18503d7a": {
      "model_module": "@jupyter-widgets/controls",
      "model_module_version": "1.5.0",
      "model_name": "IntSliderModel",
      "state": {
       "description": "y0",
       "layout": "IPY_MODEL_0bbcc7350b6343d5a9bf1534226a2b59",
       "max": 1000,
       "min": 50,
       "step": 5,
       "style": "IPY_MODEL_08cd0337ff1f49c68055ff1209621d27",
       "value": 580
      }
     },
     "cba2d9b6bb114371b2f25b7db102f9ef": {
      "model_module": "@jupyter-widgets/controls",
      "model_module_version": "1.5.0",
      "model_name": "IntSliderModel",
      "state": {
       "description": "M",
       "layout": "IPY_MODEL_55170df18abe4f5f97112a0e4d83d51d",
       "max": 2000,
       "min": 100,
       "step": 10,
       "style": "IPY_MODEL_6b04253dc2204833b1a08d045fe1f624",
       "value": 1000
      }
     },
     "cc9bdbc5ac9540b9ba207dc7655b42d7": {
      "model_module": "@jupyter-widgets/output",
      "model_module_version": "1.0.0",
      "model_name": "OutputModel",
      "state": {
       "layout": "IPY_MODEL_1db02c5639c14fb8b9cd2fac9eaf5bfd"
      }
     },
     "cf4703dc555c4bed891a8e7989c20195": {
      "model_module": "@jupyter-widgets/controls",
      "model_module_version": "1.5.0",
      "model_name": "SliderStyleModel",
      "state": {
       "description_width": ""
      }
     },
     "cfa04a5e4d4040aea94d2ab1c93dc7f5": {
      "model_module": "@jupyter-widgets/base",
      "model_module_version": "1.2.0",
      "model_name": "LayoutModel",
      "state": {}
     },
     "d15bec5610154b83bbb0fcb958be3026": {
      "model_module": "@jupyter-widgets/base",
      "model_module_version": "1.2.0",
      "model_name": "LayoutModel",
      "state": {}
     },
     "d257c31226b0447aa2ae805339056610": {
      "model_module": "@jupyter-widgets/controls",
      "model_module_version": "1.5.0",
      "model_name": "IntSliderModel",
      "state": {
       "description": "M",
       "layout": "IPY_MODEL_ba4ccf5a891c45e89ae8c76e84df1377",
       "max": 2000,
       "min": 250,
       "step": 10,
       "style": "IPY_MODEL_3fc71e17d8cd4291b0762f12ae0e74f7",
       "value": 1000
      }
     },
     "d50758d2abc14f798bbdc4d33c7ca91e": {
      "model_module": "@jupyter-widgets/controls",
      "model_module_version": "1.5.0",
      "model_name": "IntSliderModel",
      "state": {
       "description": "y0",
       "layout": "IPY_MODEL_6a0efb26fe374dce94765d555c41c2ae",
       "max": 1000,
       "min": 50,
       "step": 5,
       "style": "IPY_MODEL_c0b4af68733b43be904f3d3f85f5cfa7",
       "value": 50
      }
     },
     "d58f8107f81b4a1db4f65fb91669c47f": {
      "model_module": "@jupyter-widgets/output",
      "model_module_version": "1.0.0",
      "model_name": "OutputModel",
      "state": {
       "layout": "IPY_MODEL_3b72653a77f043eb939004aff6944efb"
      }
     },
     "dbc7d1bac8344c0aa0affbbfa51938e0": {
      "model_module": "@jupyter-widgets/base",
      "model_module_version": "1.2.0",
      "model_name": "LayoutModel",
      "state": {}
     },
     "dc94f9a67770485593550c2c1f4a5c42": {
      "model_module": "@jupyter-widgets/base",
      "model_module_version": "1.2.0",
      "model_name": "LayoutModel",
      "state": {}
     },
     "dd13fd0e2d4746e58715f143e27b85b3": {
      "model_module": "@jupyter-widgets/output",
      "model_module_version": "1.0.0",
      "model_name": "OutputModel",
      "state": {
       "layout": "IPY_MODEL_c7ce90fb2d74453a86ce76372ced4936"
      }
     },
     "ddfbd15e22b14699b878d674c8243f27": {
      "model_module": "@jupyter-widgets/base",
      "model_module_version": "1.2.0",
      "model_name": "LayoutModel",
      "state": {}
     },
     "df7c2cee885a4030a71694b9b432d9d9": {
      "model_module": "@jupyter-widgets/controls",
      "model_module_version": "1.5.0",
      "model_name": "IntSliderModel",
      "state": {
       "description": "M",
       "layout": "IPY_MODEL_ddfbd15e22b14699b878d674c8243f27",
       "max": 2000,
       "min": 100,
       "step": 10,
       "style": "IPY_MODEL_7a4500d1ca184e30a9ec2149b9ea627c",
       "value": 2000
      }
     },
     "e090d75bce5a443facb8e65f3edaec56": {
      "model_module": "@jupyter-widgets/controls",
      "model_module_version": "1.5.0",
      "model_name": "SliderStyleModel",
      "state": {
       "description_width": ""
      }
     },
     "e0e77434780d4c07a8601fe9dbe0ffe0": {
      "model_module": "@jupyter-widgets/base",
      "model_module_version": "1.2.0",
      "model_name": "LayoutModel",
      "state": {}
     },
     "e0eeedb6f58742b2bb808d4ff0690b86": {
      "model_module": "@jupyter-widgets/controls",
      "model_module_version": "1.5.0",
      "model_name": "SliderStyleModel",
      "state": {
       "description_width": ""
      }
     },
     "e1b0573952fd48b0b950b8bda76d667a": {
      "model_module": "@jupyter-widgets/controls",
      "model_module_version": "1.5.0",
      "model_name": "SliderStyleModel",
      "state": {
       "description_width": ""
      }
     },
     "e1b4728375364dafab45e1beb81b4065": {
      "model_module": "@jupyter-widgets/base",
      "model_module_version": "1.2.0",
      "model_name": "LayoutModel",
      "state": {}
     },
     "e320293c996949548d99a7eca547bef9": {
      "model_module": "@jupyter-widgets/controls",
      "model_module_version": "1.5.0",
      "model_name": "SliderStyleModel",
      "state": {
       "description_width": ""
      }
     },
     "e547f03643054f538738dc888489be9d": {
      "model_module": "@jupyter-widgets/controls",
      "model_module_version": "1.5.0",
      "model_name": "IntSliderModel",
      "state": {
       "description": "y0",
       "layout": "IPY_MODEL_1d835be9021749f3927f75ef2b656149",
       "max": 1000,
       "min": 250,
       "step": 5,
       "style": "IPY_MODEL_e0eeedb6f58742b2bb808d4ff0690b86",
       "value": 250
      }
     },
     "e6b87574b4a741ebbf97d6f5cdfceccc": {
      "model_module": "@jupyter-widgets/controls",
      "model_module_version": "1.5.0",
      "model_name": "VBoxModel",
      "state": {
       "_dom_classes": [
        "widget-interact"
       ],
       "children": [
        "IPY_MODEL_8d7791d412ce40bab330824504a15821",
        "IPY_MODEL_4a6746987bb14553a22e117f2bd66ae3",
        "IPY_MODEL_b181433014d4469badae671dab15a954",
        "IPY_MODEL_294c934efe674a1fa043b3ea676a34af"
       ],
       "layout": "IPY_MODEL_aefd472098004357b486fe94c90dc9c2"
      }
     },
     "e7ee727a023c4198a2a4d3d0e393b4d9": {
      "model_module": "@jupyter-widgets/controls",
      "model_module_version": "1.5.0",
      "model_name": "IntSliderModel",
      "state": {
       "description": "M",
       "layout": "IPY_MODEL_9f170c583adb4d81bac766ca62254036",
       "max": 2000,
       "min": 250,
       "step": 10,
       "style": "IPY_MODEL_a6900206e75b45e09a2e2ee6a009839c",
       "value": 1000
      }
     },
     "eb4e885672e94373a3b8455278e87b26": {
      "model_module": "@jupyter-widgets/base",
      "model_module_version": "1.2.0",
      "model_name": "LayoutModel",
      "state": {}
     },
     "ebbcd98eb306424492b1910f43a34b22": {
      "model_module": "@jupyter-widgets/controls",
      "model_module_version": "1.5.0",
      "model_name": "SliderStyleModel",
      "state": {
       "description_width": ""
      }
     },
     "ed2f12908b0e40d59edf0e7e6efd5c77": {
      "model_module": "@jupyter-widgets/output",
      "model_module_version": "1.0.0",
      "model_name": "OutputModel",
      "state": {
       "layout": "IPY_MODEL_b81d874ba92345d2b2286d3e8c29df16"
      }
     },
     "ed3ed0bb24844391a7316e80d2cc39b1": {
      "model_module": "@jupyter-widgets/controls",
      "model_module_version": "1.5.0",
      "model_name": "VBoxModel",
      "state": {
       "_dom_classes": [
        "widget-interact"
       ],
       "children": [
        "IPY_MODEL_66591c52d1494ce6a8781f5c41bd49e9",
        "IPY_MODEL_1821cc80c03548e4a10c5d3cd10555ca",
        "IPY_MODEL_2a8bc1c76c3d44ddbc14726f5f0b2399",
        "IPY_MODEL_7022e275f6a8476c8dfc47337bed3cf4"
       ],
       "layout": "IPY_MODEL_128841b01a2a436d86a2157757da67fc"
      }
     },
     "f188c2d1121c4a559b25a316605bd558": {
      "model_module": "@jupyter-widgets/controls",
      "model_module_version": "1.5.0",
      "model_name": "SliderStyleModel",
      "state": {
       "description_width": ""
      }
     },
     "f658215027f04cb2ba75123d2eceb6b2": {
      "model_module": "@jupyter-widgets/output",
      "model_module_version": "1.0.0",
      "model_name": "OutputModel",
      "state": {
       "layout": "IPY_MODEL_87751c76cb4049ef97e6e58f31ea5982"
      }
     },
     "f71a36c1202049fd895699395ba5ad87": {
      "model_module": "@jupyter-widgets/base",
      "model_module_version": "1.2.0",
      "model_name": "LayoutModel",
      "state": {}
     },
     "f7945f6317a34acb9fe5a06743183a9d": {
      "model_module": "@jupyter-widgets/controls",
      "model_module_version": "1.5.0",
      "model_name": "FloatSliderModel",
      "state": {
       "description": "V",
       "layout": "IPY_MODEL_46c3334759ea41f296f5b83ecdb0f5f4",
       "max": 16,
       "min": 0.8,
       "step": 0.1,
       "style": "IPY_MODEL_b7f643eedd304d0fb278793ba59bb0d7",
       "value": 12
      }
     },
     "f98fd46f2bf5490388683a1db8ed0062": {
      "model_module": "@jupyter-widgets/controls",
      "model_module_version": "1.5.0",
      "model_name": "FloatSliderModel",
      "state": {
       "description": "V",
       "layout": "IPY_MODEL_2ab33c1d074541888c555755e2f5395a",
       "max": 16,
       "min": 2,
       "step": 0.1,
       "style": "IPY_MODEL_47bedbeb64dc4ad098682f400b774134",
       "value": 12
      }
     },
     "fae5601dcccf40d8ae246d905799b183": {
      "model_module": "@jupyter-widgets/controls",
      "model_module_version": "1.5.0",
      "model_name": "FloatSliderModel",
      "state": {
       "description": "V",
       "layout": "IPY_MODEL_9c5b4eeda9c24ac99947cd50f931cf3d",
       "max": 16,
       "min": 0.8,
       "step": 0.1,
       "style": "IPY_MODEL_ebbcd98eb306424492b1910f43a34b22",
       "value": 12
      }
     },
     "fb5b00b9494f4ce8b4fea35fb8e528d5": {
      "model_module": "@jupyter-widgets/controls",
      "model_module_version": "1.5.0",
      "model_name": "IntSliderModel",
      "state": {
       "description": "M",
       "layout": "IPY_MODEL_52fba609c70a4513b5f8896980a5dd91",
       "max": 2000,
       "min": 100,
       "step": 10,
       "style": "IPY_MODEL_93be7e2b0e7f47ab9604136135d79e2b",
       "value": 1000
      }
     },
     "fc53b97bbf4246a282a3b0749f98510b": {
      "model_module": "@jupyter-widgets/controls",
      "model_module_version": "1.5.0",
      "model_name": "VBoxModel",
      "state": {
       "_dom_classes": [
        "widget-interact"
       ],
       "children": [
        "IPY_MODEL_103e8cfb466d4caeb1f03d1a76755ec1",
        "IPY_MODEL_4731307daed142148f87fd037c130a3e",
        "IPY_MODEL_a40ad48c698943c885ec32755a9d60fe",
        "IPY_MODEL_762792f8cad6430ea47ff331eb8cfaaf"
       ],
       "layout": "IPY_MODEL_6507fe6bb4c846e7946f4edebe3460fc"
      }
     },
     "fdf7c9ad43a34cb49788a2487f7cafb5": {
      "model_module": "@jupyter-widgets/base",
      "model_module_version": "1.2.0",
      "model_name": "LayoutModel",
      "state": {}
     }
    },
    "version_major": 2,
    "version_minor": 0
   }
  }
 },
 "nbformat": 4,
 "nbformat_minor": 4
}
