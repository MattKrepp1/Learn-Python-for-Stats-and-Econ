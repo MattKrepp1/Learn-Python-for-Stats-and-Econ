{
 "cells": [
  {
   "cell_type": "markdown",
   "metadata": {},
   "source": [
    "# Aggregate Demand\n",
    "\n",
    "Macroeconomics is the study of all economic activity. This includes complexities that arise in the course of production and exchange. It also includes analysis using statistics that represent the sum of all economic activity or activity in different sectors and of different kinds.\n",
    "Although data reflecting economic activity cannot be reduced to aggregates without losing information, aggregates themselves contain information that is unavailable at the level of analysis of particular events or of particular firms or sectors. Consideration of aggregate values allows one to consider the details of macroeconomic equilibrium, as well as macroeconomic disequilibrium. \n",
    "\n",
    "## The Money Market and the Goods Market\n",
    "\n",
    "The equation of exchange is a golden key that unlocks the secrets of the macroeconomy. It links changes in the money market to changes in the market for non-money goods, and vice versa, by defining aggregate demand as $MV$. The aggregate demand curve assume a given level of expenditures. This value is defined across different combinations of $P$ and $y$. As the value of $P$ increases, the value of $y$ falls, thereby maintaining the given value of total expenditures.\n",
    "In this chapter, we will use the equation of exchange to understand how changes in the goods market lead to changes in the market for non-money goods.  For simplicity sake, we will assume that there is only one good that acts as money. We will discuss in a later chapter that analysis can include other moneys.\n",
    "\n",
    "> Figure 1: Market for Non-money Goods\n",
    "\n",
    "In the previous chapter we used the equation of exchange to define changes the supply of money that can result from changes in demand for money. For the sake of simplicity, we start with a market whose supply of money is perfectly inelastic, as compared with a commodity money whose supply is upward sloping. A perfectly inelastic money supply allows us to consider money as a choice variable, much as base money is the result of the policy of a monetary authority. Changes in the price of money will therefore not affect the quantity of money supplied to the market. With a perfectly inelastic quantity of money, $M$, is not a function of demand for money . Changes in demand for money impact the price of money and, therefore, the price level. \n",
    "\n",
    "Aside from exogenous changes in supply, we will focus on the effect of changes in portfolio demand, $k$, for money. Recall that this is the inverse of the average velocity of money:\n",
    "\n",
    ">k=\\frac{1}{V}\n",
    "\n",
    "A change in the quantity of money or a change in portfolio demand for money will shift in aggregate demand, thereby shifting the price level in the long-run.\n",
    "\n",
    "Try working witht the plot yourself!"
   ]
  },
  {
   "cell_type": "code",
   "execution_count": 1,
   "metadata": {},
   "outputs": [
    {
     "data": {
      "application/javascript": [
       "/* Put everything inside the global mpl namespace */\n",
       "window.mpl = {};\n",
       "\n",
       "\n",
       "mpl.get_websocket_type = function() {\n",
       "    if (typeof(WebSocket) !== 'undefined') {\n",
       "        return WebSocket;\n",
       "    } else if (typeof(MozWebSocket) !== 'undefined') {\n",
       "        return MozWebSocket;\n",
       "    } else {\n",
       "        alert('Your browser does not have WebSocket support. ' +\n",
       "              'Please try Chrome, Safari or Firefox ≥ 6. ' +\n",
       "              'Firefox 4 and 5 are also supported but you ' +\n",
       "              'have to enable WebSockets in about:config.');\n",
       "    };\n",
       "}\n",
       "\n",
       "mpl.figure = function(figure_id, websocket, ondownload, parent_element) {\n",
       "    this.id = figure_id;\n",
       "\n",
       "    this.ws = websocket;\n",
       "\n",
       "    this.supports_binary = (this.ws.binaryType != undefined);\n",
       "\n",
       "    if (!this.supports_binary) {\n",
       "        var warnings = document.getElementById(\"mpl-warnings\");\n",
       "        if (warnings) {\n",
       "            warnings.style.display = 'block';\n",
       "            warnings.textContent = (\n",
       "                \"This browser does not support binary websocket messages. \" +\n",
       "                    \"Performance may be slow.\");\n",
       "        }\n",
       "    }\n",
       "\n",
       "    this.imageObj = new Image();\n",
       "\n",
       "    this.context = undefined;\n",
       "    this.message = undefined;\n",
       "    this.canvas = undefined;\n",
       "    this.rubberband_canvas = undefined;\n",
       "    this.rubberband_context = undefined;\n",
       "    this.format_dropdown = undefined;\n",
       "\n",
       "    this.image_mode = 'full';\n",
       "\n",
       "    this.root = $('<div/>');\n",
       "    this._root_extra_style(this.root)\n",
       "    this.root.attr('style', 'display: inline-block');\n",
       "\n",
       "    $(parent_element).append(this.root);\n",
       "\n",
       "    this._init_header(this);\n",
       "    this._init_canvas(this);\n",
       "    this._init_toolbar(this);\n",
       "\n",
       "    var fig = this;\n",
       "\n",
       "    this.waiting = false;\n",
       "\n",
       "    this.ws.onopen =  function () {\n",
       "            fig.send_message(\"supports_binary\", {value: fig.supports_binary});\n",
       "            fig.send_message(\"send_image_mode\", {});\n",
       "            if (mpl.ratio != 1) {\n",
       "                fig.send_message(\"set_dpi_ratio\", {'dpi_ratio': mpl.ratio});\n",
       "            }\n",
       "            fig.send_message(\"refresh\", {});\n",
       "        }\n",
       "\n",
       "    this.imageObj.onload = function() {\n",
       "            if (fig.image_mode == 'full') {\n",
       "                // Full images could contain transparency (where diff images\n",
       "                // almost always do), so we need to clear the canvas so that\n",
       "                // there is no ghosting.\n",
       "                fig.context.clearRect(0, 0, fig.canvas.width, fig.canvas.height);\n",
       "            }\n",
       "            fig.context.drawImage(fig.imageObj, 0, 0);\n",
       "        };\n",
       "\n",
       "    this.imageObj.onunload = function() {\n",
       "        fig.ws.close();\n",
       "    }\n",
       "\n",
       "    this.ws.onmessage = this._make_on_message_function(this);\n",
       "\n",
       "    this.ondownload = ondownload;\n",
       "}\n",
       "\n",
       "mpl.figure.prototype._init_header = function() {\n",
       "    var titlebar = $(\n",
       "        '<div class=\"ui-dialog-titlebar ui-widget-header ui-corner-all ' +\n",
       "        'ui-helper-clearfix\"/>');\n",
       "    var titletext = $(\n",
       "        '<div class=\"ui-dialog-title\" style=\"width: 100%; ' +\n",
       "        'text-align: center; padding: 3px;\"/>');\n",
       "    titlebar.append(titletext)\n",
       "    this.root.append(titlebar);\n",
       "    this.header = titletext[0];\n",
       "}\n",
       "\n",
       "\n",
       "\n",
       "mpl.figure.prototype._canvas_extra_style = function(canvas_div) {\n",
       "\n",
       "}\n",
       "\n",
       "\n",
       "mpl.figure.prototype._root_extra_style = function(canvas_div) {\n",
       "\n",
       "}\n",
       "\n",
       "mpl.figure.prototype._init_canvas = function() {\n",
       "    var fig = this;\n",
       "\n",
       "    var canvas_div = $('<div/>');\n",
       "\n",
       "    canvas_div.attr('style', 'position: relative; clear: both; outline: 0');\n",
       "\n",
       "    function canvas_keyboard_event(event) {\n",
       "        return fig.key_event(event, event['data']);\n",
       "    }\n",
       "\n",
       "    canvas_div.keydown('key_press', canvas_keyboard_event);\n",
       "    canvas_div.keyup('key_release', canvas_keyboard_event);\n",
       "    this.canvas_div = canvas_div\n",
       "    this._canvas_extra_style(canvas_div)\n",
       "    this.root.append(canvas_div);\n",
       "\n",
       "    var canvas = $('<canvas/>');\n",
       "    canvas.addClass('mpl-canvas');\n",
       "    canvas.attr('style', \"left: 0; top: 0; z-index: 0; outline: 0\")\n",
       "\n",
       "    this.canvas = canvas[0];\n",
       "    this.context = canvas[0].getContext(\"2d\");\n",
       "\n",
       "    var backingStore = this.context.backingStorePixelRatio ||\n",
       "\tthis.context.webkitBackingStorePixelRatio ||\n",
       "\tthis.context.mozBackingStorePixelRatio ||\n",
       "\tthis.context.msBackingStorePixelRatio ||\n",
       "\tthis.context.oBackingStorePixelRatio ||\n",
       "\tthis.context.backingStorePixelRatio || 1;\n",
       "\n",
       "    mpl.ratio = (window.devicePixelRatio || 1) / backingStore;\n",
       "\n",
       "    var rubberband = $('<canvas/>');\n",
       "    rubberband.attr('style', \"position: absolute; left: 0; top: 0; z-index: 1;\")\n",
       "\n",
       "    var pass_mouse_events = true;\n",
       "\n",
       "    canvas_div.resizable({\n",
       "        start: function(event, ui) {\n",
       "            pass_mouse_events = false;\n",
       "        },\n",
       "        resize: function(event, ui) {\n",
       "            fig.request_resize(ui.size.width, ui.size.height);\n",
       "        },\n",
       "        stop: function(event, ui) {\n",
       "            pass_mouse_events = true;\n",
       "            fig.request_resize(ui.size.width, ui.size.height);\n",
       "        },\n",
       "    });\n",
       "\n",
       "    function mouse_event_fn(event) {\n",
       "        if (pass_mouse_events)\n",
       "            return fig.mouse_event(event, event['data']);\n",
       "    }\n",
       "\n",
       "    rubberband.mousedown('button_press', mouse_event_fn);\n",
       "    rubberband.mouseup('button_release', mouse_event_fn);\n",
       "    // Throttle sequential mouse events to 1 every 20ms.\n",
       "    rubberband.mousemove('motion_notify', mouse_event_fn);\n",
       "\n",
       "    rubberband.mouseenter('figure_enter', mouse_event_fn);\n",
       "    rubberband.mouseleave('figure_leave', mouse_event_fn);\n",
       "\n",
       "    canvas_div.on(\"wheel\", function (event) {\n",
       "        event = event.originalEvent;\n",
       "        event['data'] = 'scroll'\n",
       "        if (event.deltaY < 0) {\n",
       "            event.step = 1;\n",
       "        } else {\n",
       "            event.step = -1;\n",
       "        }\n",
       "        mouse_event_fn(event);\n",
       "    });\n",
       "\n",
       "    canvas_div.append(canvas);\n",
       "    canvas_div.append(rubberband);\n",
       "\n",
       "    this.rubberband = rubberband;\n",
       "    this.rubberband_canvas = rubberband[0];\n",
       "    this.rubberband_context = rubberband[0].getContext(\"2d\");\n",
       "    this.rubberband_context.strokeStyle = \"#000000\";\n",
       "\n",
       "    this._resize_canvas = function(width, height) {\n",
       "        // Keep the size of the canvas, canvas container, and rubber band\n",
       "        // canvas in synch.\n",
       "        canvas_div.css('width', width)\n",
       "        canvas_div.css('height', height)\n",
       "\n",
       "        canvas.attr('width', width * mpl.ratio);\n",
       "        canvas.attr('height', height * mpl.ratio);\n",
       "        canvas.attr('style', 'width: ' + width + 'px; height: ' + height + 'px;');\n",
       "\n",
       "        rubberband.attr('width', width);\n",
       "        rubberband.attr('height', height);\n",
       "    }\n",
       "\n",
       "    // Set the figure to an initial 600x600px, this will subsequently be updated\n",
       "    // upon first draw.\n",
       "    this._resize_canvas(600, 600);\n",
       "\n",
       "    // Disable right mouse context menu.\n",
       "    $(this.rubberband_canvas).bind(\"contextmenu\",function(e){\n",
       "        return false;\n",
       "    });\n",
       "\n",
       "    function set_focus () {\n",
       "        canvas.focus();\n",
       "        canvas_div.focus();\n",
       "    }\n",
       "\n",
       "    window.setTimeout(set_focus, 100);\n",
       "}\n",
       "\n",
       "mpl.figure.prototype._init_toolbar = function() {\n",
       "    var fig = this;\n",
       "\n",
       "    var nav_element = $('<div/>');\n",
       "    nav_element.attr('style', 'width: 100%');\n",
       "    this.root.append(nav_element);\n",
       "\n",
       "    // Define a callback function for later on.\n",
       "    function toolbar_event(event) {\n",
       "        return fig.toolbar_button_onclick(event['data']);\n",
       "    }\n",
       "    function toolbar_mouse_event(event) {\n",
       "        return fig.toolbar_button_onmouseover(event['data']);\n",
       "    }\n",
       "\n",
       "    for(var toolbar_ind in mpl.toolbar_items) {\n",
       "        var name = mpl.toolbar_items[toolbar_ind][0];\n",
       "        var tooltip = mpl.toolbar_items[toolbar_ind][1];\n",
       "        var image = mpl.toolbar_items[toolbar_ind][2];\n",
       "        var method_name = mpl.toolbar_items[toolbar_ind][3];\n",
       "\n",
       "        if (!name) {\n",
       "            // put a spacer in here.\n",
       "            continue;\n",
       "        }\n",
       "        var button = $('<button/>');\n",
       "        button.addClass('ui-button ui-widget ui-state-default ui-corner-all ' +\n",
       "                        'ui-button-icon-only');\n",
       "        button.attr('role', 'button');\n",
       "        button.attr('aria-disabled', 'false');\n",
       "        button.click(method_name, toolbar_event);\n",
       "        button.mouseover(tooltip, toolbar_mouse_event);\n",
       "\n",
       "        var icon_img = $('<span/>');\n",
       "        icon_img.addClass('ui-button-icon-primary ui-icon');\n",
       "        icon_img.addClass(image);\n",
       "        icon_img.addClass('ui-corner-all');\n",
       "\n",
       "        var tooltip_span = $('<span/>');\n",
       "        tooltip_span.addClass('ui-button-text');\n",
       "        tooltip_span.html(tooltip);\n",
       "\n",
       "        button.append(icon_img);\n",
       "        button.append(tooltip_span);\n",
       "\n",
       "        nav_element.append(button);\n",
       "    }\n",
       "\n",
       "    var fmt_picker_span = $('<span/>');\n",
       "\n",
       "    var fmt_picker = $('<select/>');\n",
       "    fmt_picker.addClass('mpl-toolbar-option ui-widget ui-widget-content');\n",
       "    fmt_picker_span.append(fmt_picker);\n",
       "    nav_element.append(fmt_picker_span);\n",
       "    this.format_dropdown = fmt_picker[0];\n",
       "\n",
       "    for (var ind in mpl.extensions) {\n",
       "        var fmt = mpl.extensions[ind];\n",
       "        var option = $(\n",
       "            '<option/>', {selected: fmt === mpl.default_extension}).html(fmt);\n",
       "        fmt_picker.append(option);\n",
       "    }\n",
       "\n",
       "    // Add hover states to the ui-buttons\n",
       "    $( \".ui-button\" ).hover(\n",
       "        function() { $(this).addClass(\"ui-state-hover\");},\n",
       "        function() { $(this).removeClass(\"ui-state-hover\");}\n",
       "    );\n",
       "\n",
       "    var status_bar = $('<span class=\"mpl-message\"/>');\n",
       "    nav_element.append(status_bar);\n",
       "    this.message = status_bar[0];\n",
       "}\n",
       "\n",
       "mpl.figure.prototype.request_resize = function(x_pixels, y_pixels) {\n",
       "    // Request matplotlib to resize the figure. Matplotlib will then trigger a resize in the client,\n",
       "    // which will in turn request a refresh of the image.\n",
       "    this.send_message('resize', {'width': x_pixels, 'height': y_pixels});\n",
       "}\n",
       "\n",
       "mpl.figure.prototype.send_message = function(type, properties) {\n",
       "    properties['type'] = type;\n",
       "    properties['figure_id'] = this.id;\n",
       "    this.ws.send(JSON.stringify(properties));\n",
       "}\n",
       "\n",
       "mpl.figure.prototype.send_draw_message = function() {\n",
       "    if (!this.waiting) {\n",
       "        this.waiting = true;\n",
       "        this.ws.send(JSON.stringify({type: \"draw\", figure_id: this.id}));\n",
       "    }\n",
       "}\n",
       "\n",
       "\n",
       "mpl.figure.prototype.handle_save = function(fig, msg) {\n",
       "    var format_dropdown = fig.format_dropdown;\n",
       "    var format = format_dropdown.options[format_dropdown.selectedIndex].value;\n",
       "    fig.ondownload(fig, format);\n",
       "}\n",
       "\n",
       "\n",
       "mpl.figure.prototype.handle_resize = function(fig, msg) {\n",
       "    var size = msg['size'];\n",
       "    if (size[0] != fig.canvas.width || size[1] != fig.canvas.height) {\n",
       "        fig._resize_canvas(size[0], size[1]);\n",
       "        fig.send_message(\"refresh\", {});\n",
       "    };\n",
       "}\n",
       "\n",
       "mpl.figure.prototype.handle_rubberband = function(fig, msg) {\n",
       "    var x0 = msg['x0'] / mpl.ratio;\n",
       "    var y0 = (fig.canvas.height - msg['y0']) / mpl.ratio;\n",
       "    var x1 = msg['x1'] / mpl.ratio;\n",
       "    var y1 = (fig.canvas.height - msg['y1']) / mpl.ratio;\n",
       "    x0 = Math.floor(x0) + 0.5;\n",
       "    y0 = Math.floor(y0) + 0.5;\n",
       "    x1 = Math.floor(x1) + 0.5;\n",
       "    y1 = Math.floor(y1) + 0.5;\n",
       "    var min_x = Math.min(x0, x1);\n",
       "    var min_y = Math.min(y0, y1);\n",
       "    var width = Math.abs(x1 - x0);\n",
       "    var height = Math.abs(y1 - y0);\n",
       "\n",
       "    fig.rubberband_context.clearRect(\n",
       "        0, 0, fig.canvas.width / mpl.ratio, fig.canvas.height / mpl.ratio);\n",
       "\n",
       "    fig.rubberband_context.strokeRect(min_x, min_y, width, height);\n",
       "}\n",
       "\n",
       "mpl.figure.prototype.handle_figure_label = function(fig, msg) {\n",
       "    // Updates the figure title.\n",
       "    fig.header.textContent = msg['label'];\n",
       "}\n",
       "\n",
       "mpl.figure.prototype.handle_cursor = function(fig, msg) {\n",
       "    var cursor = msg['cursor'];\n",
       "    switch(cursor)\n",
       "    {\n",
       "    case 0:\n",
       "        cursor = 'pointer';\n",
       "        break;\n",
       "    case 1:\n",
       "        cursor = 'default';\n",
       "        break;\n",
       "    case 2:\n",
       "        cursor = 'crosshair';\n",
       "        break;\n",
       "    case 3:\n",
       "        cursor = 'move';\n",
       "        break;\n",
       "    }\n",
       "    fig.rubberband_canvas.style.cursor = cursor;\n",
       "}\n",
       "\n",
       "mpl.figure.prototype.handle_message = function(fig, msg) {\n",
       "    fig.message.textContent = msg['message'];\n",
       "}\n",
       "\n",
       "mpl.figure.prototype.handle_draw = function(fig, msg) {\n",
       "    // Request the server to send over a new figure.\n",
       "    fig.send_draw_message();\n",
       "}\n",
       "\n",
       "mpl.figure.prototype.handle_image_mode = function(fig, msg) {\n",
       "    fig.image_mode = msg['mode'];\n",
       "}\n",
       "\n",
       "mpl.figure.prototype.updated_canvas_event = function() {\n",
       "    // Called whenever the canvas gets updated.\n",
       "    this.send_message(\"ack\", {});\n",
       "}\n",
       "\n",
       "// A function to construct a web socket function for onmessage handling.\n",
       "// Called in the figure constructor.\n",
       "mpl.figure.prototype._make_on_message_function = function(fig) {\n",
       "    return function socket_on_message(evt) {\n",
       "        if (evt.data instanceof Blob) {\n",
       "            /* FIXME: We get \"Resource interpreted as Image but\n",
       "             * transferred with MIME type text/plain:\" errors on\n",
       "             * Chrome.  But how to set the MIME type?  It doesn't seem\n",
       "             * to be part of the websocket stream */\n",
       "            evt.data.type = \"image/png\";\n",
       "\n",
       "            /* Free the memory for the previous frames */\n",
       "            if (fig.imageObj.src) {\n",
       "                (window.URL || window.webkitURL).revokeObjectURL(\n",
       "                    fig.imageObj.src);\n",
       "            }\n",
       "\n",
       "            fig.imageObj.src = (window.URL || window.webkitURL).createObjectURL(\n",
       "                evt.data);\n",
       "            fig.updated_canvas_event();\n",
       "            fig.waiting = false;\n",
       "            return;\n",
       "        }\n",
       "        else if (typeof evt.data === 'string' && evt.data.slice(0, 21) == \"data:image/png;base64\") {\n",
       "            fig.imageObj.src = evt.data;\n",
       "            fig.updated_canvas_event();\n",
       "            fig.waiting = false;\n",
       "            return;\n",
       "        }\n",
       "\n",
       "        var msg = JSON.parse(evt.data);\n",
       "        var msg_type = msg['type'];\n",
       "\n",
       "        // Call the  \"handle_{type}\" callback, which takes\n",
       "        // the figure and JSON message as its only arguments.\n",
       "        try {\n",
       "            var callback = fig[\"handle_\" + msg_type];\n",
       "        } catch (e) {\n",
       "            console.log(\"No handler for the '\" + msg_type + \"' message type: \", msg);\n",
       "            return;\n",
       "        }\n",
       "\n",
       "        if (callback) {\n",
       "            try {\n",
       "                // console.log(\"Handling '\" + msg_type + \"' message: \", msg);\n",
       "                callback(fig, msg);\n",
       "            } catch (e) {\n",
       "                console.log(\"Exception inside the 'handler_\" + msg_type + \"' callback:\", e, e.stack, msg);\n",
       "            }\n",
       "        }\n",
       "    };\n",
       "}\n",
       "\n",
       "// from http://stackoverflow.com/questions/1114465/getting-mouse-location-in-canvas\n",
       "mpl.findpos = function(e) {\n",
       "    //this section is from http://www.quirksmode.org/js/events_properties.html\n",
       "    var targ;\n",
       "    if (!e)\n",
       "        e = window.event;\n",
       "    if (e.target)\n",
       "        targ = e.target;\n",
       "    else if (e.srcElement)\n",
       "        targ = e.srcElement;\n",
       "    if (targ.nodeType == 3) // defeat Safari bug\n",
       "        targ = targ.parentNode;\n",
       "\n",
       "    // jQuery normalizes the pageX and pageY\n",
       "    // pageX,Y are the mouse positions relative to the document\n",
       "    // offset() returns the position of the element relative to the document\n",
       "    var x = e.pageX - $(targ).offset().left;\n",
       "    var y = e.pageY - $(targ).offset().top;\n",
       "\n",
       "    return {\"x\": x, \"y\": y};\n",
       "};\n",
       "\n",
       "/*\n",
       " * return a copy of an object with only non-object keys\n",
       " * we need this to avoid circular references\n",
       " * http://stackoverflow.com/a/24161582/3208463\n",
       " */\n",
       "function simpleKeys (original) {\n",
       "  return Object.keys(original).reduce(function (obj, key) {\n",
       "    if (typeof original[key] !== 'object')\n",
       "        obj[key] = original[key]\n",
       "    return obj;\n",
       "  }, {});\n",
       "}\n",
       "\n",
       "mpl.figure.prototype.mouse_event = function(event, name) {\n",
       "    var canvas_pos = mpl.findpos(event)\n",
       "\n",
       "    if (name === 'button_press')\n",
       "    {\n",
       "        this.canvas.focus();\n",
       "        this.canvas_div.focus();\n",
       "    }\n",
       "\n",
       "    var x = canvas_pos.x * mpl.ratio;\n",
       "    var y = canvas_pos.y * mpl.ratio;\n",
       "\n",
       "    this.send_message(name, {x: x, y: y, button: event.button,\n",
       "                             step: event.step,\n",
       "                             guiEvent: simpleKeys(event)});\n",
       "\n",
       "    /* This prevents the web browser from automatically changing to\n",
       "     * the text insertion cursor when the button is pressed.  We want\n",
       "     * to control all of the cursor setting manually through the\n",
       "     * 'cursor' event from matplotlib */\n",
       "    event.preventDefault();\n",
       "    return false;\n",
       "}\n",
       "\n",
       "mpl.figure.prototype._key_event_extra = function(event, name) {\n",
       "    // Handle any extra behaviour associated with a key event\n",
       "}\n",
       "\n",
       "mpl.figure.prototype.key_event = function(event, name) {\n",
       "\n",
       "    // Prevent repeat events\n",
       "    if (name == 'key_press')\n",
       "    {\n",
       "        if (event.which === this._key)\n",
       "            return;\n",
       "        else\n",
       "            this._key = event.which;\n",
       "    }\n",
       "    if (name == 'key_release')\n",
       "        this._key = null;\n",
       "\n",
       "    var value = '';\n",
       "    if (event.ctrlKey && event.which != 17)\n",
       "        value += \"ctrl+\";\n",
       "    if (event.altKey && event.which != 18)\n",
       "        value += \"alt+\";\n",
       "    if (event.shiftKey && event.which != 16)\n",
       "        value += \"shift+\";\n",
       "\n",
       "    value += 'k';\n",
       "    value += event.which.toString();\n",
       "\n",
       "    this._key_event_extra(event, name);\n",
       "\n",
       "    this.send_message(name, {key: value,\n",
       "                             guiEvent: simpleKeys(event)});\n",
       "    return false;\n",
       "}\n",
       "\n",
       "mpl.figure.prototype.toolbar_button_onclick = function(name) {\n",
       "    if (name == 'download') {\n",
       "        this.handle_save(this, null);\n",
       "    } else {\n",
       "        this.send_message(\"toolbar_button\", {name: name});\n",
       "    }\n",
       "};\n",
       "\n",
       "mpl.figure.prototype.toolbar_button_onmouseover = function(tooltip) {\n",
       "    this.message.textContent = tooltip;\n",
       "};\n",
       "mpl.toolbar_items = [[\"Home\", \"Reset original view\", \"fa fa-home icon-home\", \"home\"], [\"Back\", \"Back to previous view\", \"fa fa-arrow-left icon-arrow-left\", \"back\"], [\"Forward\", \"Forward to next view\", \"fa fa-arrow-right icon-arrow-right\", \"forward\"], [\"\", \"\", \"\", \"\"], [\"Pan\", \"Pan axes with left mouse, zoom with right\", \"fa fa-arrows icon-move\", \"pan\"], [\"Zoom\", \"Zoom to rectangle\", \"fa fa-square-o icon-check-empty\", \"zoom\"], [\"\", \"\", \"\", \"\"], [\"Download\", \"Download plot\", \"fa fa-floppy-o icon-save\", \"download\"]];\n",
       "\n",
       "mpl.extensions = [\"eps\", \"jpeg\", \"pdf\", \"png\", \"ps\", \"raw\", \"svg\", \"tif\"];\n",
       "\n",
       "mpl.default_extension = \"png\";var comm_websocket_adapter = function(comm) {\n",
       "    // Create a \"websocket\"-like object which calls the given IPython comm\n",
       "    // object with the appropriate methods. Currently this is a non binary\n",
       "    // socket, so there is still some room for performance tuning.\n",
       "    var ws = {};\n",
       "\n",
       "    ws.close = function() {\n",
       "        comm.close()\n",
       "    };\n",
       "    ws.send = function(m) {\n",
       "        //console.log('sending', m);\n",
       "        comm.send(m);\n",
       "    };\n",
       "    // Register the callback with on_msg.\n",
       "    comm.on_msg(function(msg) {\n",
       "        //console.log('receiving', msg['content']['data'], msg);\n",
       "        // Pass the mpl event to the overridden (by mpl) onmessage function.\n",
       "        ws.onmessage(msg['content']['data'])\n",
       "    });\n",
       "    return ws;\n",
       "}\n",
       "\n",
       "mpl.mpl_figure_comm = function(comm, msg) {\n",
       "    // This is the function which gets called when the mpl process\n",
       "    // starts-up an IPython Comm through the \"matplotlib\" channel.\n",
       "\n",
       "    var id = msg.content.data.id;\n",
       "    // Get hold of the div created by the display call when the Comm\n",
       "    // socket was opened in Python.\n",
       "    var element = $(\"#\" + id);\n",
       "    var ws_proxy = comm_websocket_adapter(comm)\n",
       "\n",
       "    function ondownload(figure, format) {\n",
       "        window.open(figure.imageObj.src);\n",
       "    }\n",
       "\n",
       "    var fig = new mpl.figure(id, ws_proxy,\n",
       "                           ondownload,\n",
       "                           element.get(0));\n",
       "\n",
       "    // Call onopen now - mpl needs it, as it is assuming we've passed it a real\n",
       "    // web socket which is closed, not our websocket->open comm proxy.\n",
       "    ws_proxy.onopen();\n",
       "\n",
       "    fig.parent_element = element.get(0);\n",
       "    fig.cell_info = mpl.find_output_cell(\"<div id='\" + id + \"'></div>\");\n",
       "    if (!fig.cell_info) {\n",
       "        console.error(\"Failed to find cell for figure\", id, fig);\n",
       "        return;\n",
       "    }\n",
       "\n",
       "    var output_index = fig.cell_info[2]\n",
       "    var cell = fig.cell_info[0];\n",
       "\n",
       "};\n",
       "\n",
       "mpl.figure.prototype.handle_close = function(fig, msg) {\n",
       "    var width = fig.canvas.width/mpl.ratio\n",
       "    fig.root.unbind('remove')\n",
       "\n",
       "    // Update the output cell to use the data from the current canvas.\n",
       "    fig.push_to_output();\n",
       "    var dataURL = fig.canvas.toDataURL();\n",
       "    // Re-enable the keyboard manager in IPython - without this line, in FF,\n",
       "    // the notebook keyboard shortcuts fail.\n",
       "    IPython.keyboard_manager.enable()\n",
       "    $(fig.parent_element).html('<img src=\"' + dataURL + '\" width=\"' + width + '\">');\n",
       "    fig.close_ws(fig, msg);\n",
       "}\n",
       "\n",
       "mpl.figure.prototype.close_ws = function(fig, msg){\n",
       "    fig.send_message('closing', msg);\n",
       "    // fig.ws.close()\n",
       "}\n",
       "\n",
       "mpl.figure.prototype.push_to_output = function(remove_interactive) {\n",
       "    // Turn the data on the canvas into data in the output cell.\n",
       "    var width = this.canvas.width/mpl.ratio\n",
       "    var dataURL = this.canvas.toDataURL();\n",
       "    this.cell_info[1]['text/html'] = '<img src=\"' + dataURL + '\" width=\"' + width + '\">';\n",
       "}\n",
       "\n",
       "mpl.figure.prototype.updated_canvas_event = function() {\n",
       "    // Tell IPython that the notebook contents must change.\n",
       "    IPython.notebook.set_dirty(true);\n",
       "    this.send_message(\"ack\", {});\n",
       "    var fig = this;\n",
       "    // Wait a second, then push the new image to the DOM so\n",
       "    // that it is saved nicely (might be nice to debounce this).\n",
       "    setTimeout(function () { fig.push_to_output() }, 1000);\n",
       "}\n",
       "\n",
       "mpl.figure.prototype._init_toolbar = function() {\n",
       "    var fig = this;\n",
       "\n",
       "    var nav_element = $('<div/>');\n",
       "    nav_element.attr('style', 'width: 100%');\n",
       "    this.root.append(nav_element);\n",
       "\n",
       "    // Define a callback function for later on.\n",
       "    function toolbar_event(event) {\n",
       "        return fig.toolbar_button_onclick(event['data']);\n",
       "    }\n",
       "    function toolbar_mouse_event(event) {\n",
       "        return fig.toolbar_button_onmouseover(event['data']);\n",
       "    }\n",
       "\n",
       "    for(var toolbar_ind in mpl.toolbar_items){\n",
       "        var name = mpl.toolbar_items[toolbar_ind][0];\n",
       "        var tooltip = mpl.toolbar_items[toolbar_ind][1];\n",
       "        var image = mpl.toolbar_items[toolbar_ind][2];\n",
       "        var method_name = mpl.toolbar_items[toolbar_ind][3];\n",
       "\n",
       "        if (!name) { continue; };\n",
       "\n",
       "        var button = $('<button class=\"btn btn-default\" href=\"#\" title=\"' + name + '\"><i class=\"fa ' + image + ' fa-lg\"></i></button>');\n",
       "        button.click(method_name, toolbar_event);\n",
       "        button.mouseover(tooltip, toolbar_mouse_event);\n",
       "        nav_element.append(button);\n",
       "    }\n",
       "\n",
       "    // Add the status bar.\n",
       "    var status_bar = $('<span class=\"mpl-message\" style=\"text-align:right; float: right;\"/>');\n",
       "    nav_element.append(status_bar);\n",
       "    this.message = status_bar[0];\n",
       "\n",
       "    // Add the close button to the window.\n",
       "    var buttongrp = $('<div class=\"btn-group inline pull-right\"></div>');\n",
       "    var button = $('<button class=\"btn btn-mini btn-primary\" href=\"#\" title=\"Stop Interaction\"><i class=\"fa fa-power-off icon-remove icon-large\"></i></button>');\n",
       "    button.click(function (evt) { fig.handle_close(fig, {}); } );\n",
       "    button.mouseover('Stop Interaction', toolbar_mouse_event);\n",
       "    buttongrp.append(button);\n",
       "    var titlebar = this.root.find($('.ui-dialog-titlebar'));\n",
       "    titlebar.prepend(buttongrp);\n",
       "}\n",
       "\n",
       "mpl.figure.prototype._root_extra_style = function(el){\n",
       "    var fig = this\n",
       "    el.on(\"remove\", function(){\n",
       "\tfig.close_ws(fig, {});\n",
       "    });\n",
       "}\n",
       "\n",
       "mpl.figure.prototype._canvas_extra_style = function(el){\n",
       "    // this is important to make the div 'focusable\n",
       "    el.attr('tabindex', 0)\n",
       "    // reach out to IPython and tell the keyboard manager to turn it's self\n",
       "    // off when our div gets focus\n",
       "\n",
       "    // location in version 3\n",
       "    if (IPython.notebook.keyboard_manager) {\n",
       "        IPython.notebook.keyboard_manager.register_events(el);\n",
       "    }\n",
       "    else {\n",
       "        // location in version 2\n",
       "        IPython.keyboard_manager.register_events(el);\n",
       "    }\n",
       "\n",
       "}\n",
       "\n",
       "mpl.figure.prototype._key_event_extra = function(event, name) {\n",
       "    var manager = IPython.notebook.keyboard_manager;\n",
       "    if (!manager)\n",
       "        manager = IPython.keyboard_manager;\n",
       "\n",
       "    // Check for shift+enter\n",
       "    if (event.shiftKey && event.which == 13) {\n",
       "        this.canvas_div.blur();\n",
       "        // select the cell after this one\n",
       "        var index = IPython.notebook.find_cell_index(this.cell_info[0]);\n",
       "        IPython.notebook.select(index + 1);\n",
       "    }\n",
       "}\n",
       "\n",
       "mpl.figure.prototype.handle_save = function(fig, msg) {\n",
       "    fig.ondownload(fig, null);\n",
       "}\n",
       "\n",
       "\n",
       "mpl.find_output_cell = function(html_output) {\n",
       "    // Return the cell and output element which can be found *uniquely* in the notebook.\n",
       "    // Note - this is a bit hacky, but it is done because the \"notebook_saving.Notebook\"\n",
       "    // IPython event is triggered only after the cells have been serialised, which for\n",
       "    // our purposes (turning an active figure into a static one), is too late.\n",
       "    var cells = IPython.notebook.get_cells();\n",
       "    var ncells = cells.length;\n",
       "    for (var i=0; i<ncells; i++) {\n",
       "        var cell = cells[i];\n",
       "        if (cell.cell_type === 'code'){\n",
       "            for (var j=0; j<cell.output_area.outputs.length; j++) {\n",
       "                var data = cell.output_area.outputs[j];\n",
       "                if (data.data) {\n",
       "                    // IPython >= 3 moved mimebundle to data attribute of output\n",
       "                    data = data.data;\n",
       "                }\n",
       "                if (data['text/html'] == html_output) {\n",
       "                    return [cell, data, j];\n",
       "                }\n",
       "            }\n",
       "        }\n",
       "    }\n",
       "}\n",
       "\n",
       "// Register the function which deals with the matplotlib target/channel.\n",
       "// The kernel may be null if the page has been refreshed.\n",
       "if (IPython.notebook.kernel != null) {\n",
       "    IPython.notebook.kernel.comm_manager.register_target('matplotlib', mpl.mpl_figure_comm);\n",
       "}\n"
      ],
      "text/plain": [
       "<IPython.core.display.Javascript object>"
      ]
     },
     "metadata": {},
     "output_type": "display_data"
    },
    {
     "data": {
      "text/html": [
       "<img src=\"data:image/png;base64,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\" width=\"800\">"
      ],
      "text/plain": [
       "<IPython.core.display.HTML object>"
      ]
     },
     "metadata": {},
     "output_type": "display_data"
    },
    {
     "data": {
      "application/vnd.jupyter.widget-view+json": {
       "model_id": "c6ea4c118e8242498ef0ecde4f3c7aaa",
       "version_major": 2,
       "version_minor": 0
      },
      "text/plain": [
       "interactive(children=(IntSlider(value=1000, description='M', max=2000, min=100, step=10), FloatSlider(value=12…"
      ]
     },
     "metadata": {},
     "output_type": "display_data"
    }
   ],
   "source": [
    "%matplotlib notebook\n",
    "from livePlot import *\n",
    "plot = livePlot()"
   ]
  },
  {
   "cell_type": "markdown",
   "metadata": {},
   "source": [
    "\n",
    "## Long-run Dynamics\n",
    "\n",
    "The distinction between long-run and short-run is critical for understanding dynamics that develop between the money market and the non-money goods market. In the long-run, the price level fully reflects changes in $AD$, whether the shift in $AD$ is a result of a change in $M$ or a change in $V$. In the short-run, changes in real income absorb changes in $AD$. While long-run changes are essentially inevitable, short-run changes do not ever need to occur. If they are observed, they occur only in the short-run.[1] After investigating long-run dynamics, we will consider short-run dynamics.\n",
    "\n",
    "### Case 1: Aggregate Demand Increases\n",
    "\n",
    "> Figure 2: Aggregate Demand Increases\n",
    "\n",
    "An increase in $AD$ represents an increase in the value of total expenditures across the economy (Figure 2). By definition, this value of total expenditures matches the value of nominal income. In the long-run, an increase in $AD$ will lift the price level from $P_0$ to $P_1$. Notice that this results in an increase in nominal income from a value of $P_0y_0$ to $P_1y_0$. This increase in nominal income does not entail an increase in real income in the long-run. This would only happen if the long-run aggregate supply shifted to the right and would be represented by a $y_1$ whose value is greater than $y_0$.\n",
    "\n",
    "> Figure 3: Decrease in Supply of Money\n",
    "\n",
    "The increase in $AD$ can come from one of two sources: either an increase in the quantity of money, $M$, or an increase in portfolio demand, $k$. We will consider the more intuitive case of an increase in $M$ first. If the increase in the quantity of money occurs when the economy is already in equilibrium, the shift will most obviously change the price of money, $P_m$. Since $P_m=\\frac{1}{P}$, the a change in the average price of money is simply the corollary to amovement of the price level in the opposite direction.\n",
    "\n",
    "The increase in the quantity of money represents a movement along the demand curve. This demand curve includes both portfolio demand, $k$, and transactions demand, $Py$. For now, we assume that these sources of demand remain constant. Thus, the increase from $M_0$ to $M_1$ translates directly to a fall in $P_m$ from $P_{m_0}$ to $P_{m_1}$.\n",
    "\n",
    "> Figure 4: Decrease in Portfolio Demand for Money\n",
    "\n",
    "Only a shift in $k$ represents an inverse change in portfolio demand as $k$ represents the portion of the money stock that individuals choose to hold throughout the period under consideration. Since $k$ is the inverse of $V$, so long as $V$ is greater than 1, then $k$ is a fraction less than 1. As with the increase in $M$, a fall in $k$ leads to a fall in the $P_m$ from $P_{m_0}$ to $P_{m_1}$. This coincides with an increase in $P$ from $P_0$ to $P_1$. Thus, a fall in the value of money is tantamount to a rise in the price level. This fall in the price level means that the new value of nominal income, $P_1y_0$ is less than the old value, $P_0y_0$.\n",
    "\n",
    "# Case 2: Aggregate Demand Falls\n",
    "\n",
    "> Figure 5: Increase in AD\n",
    "\n",
    "A fall in $AD$ represents an decrease in the value of total expenditures across the economy (Figure 6). This results in a fall in nominal income. In the long-run, an fall in $AD$ will depress the price level from $P_0$ to $P_1$. Notice that this results in a decrease in nominal income from a value of $P_0y_0$ to $P_1y_0$. The long-run level of real income, $y_0$, remains unaffected. Just as a rise in $M$ increases $AD$, a fall in $AD$ may occur due to a shrinking of the money stock. With less money in the economy, the previous equilibrium level of prices could only be sustained if individuals tended to decrease their cash holdings in response. For clarity, we consider cases where only one of the variables comprising aggregate demand changes.\n",
    "\n",
    "> Figure 6: Increase in Supply of Money\n",
    ">\n",
    "> Figure 7: Increase in Portfolio Demand for Money\n",
    "\n",
    "$AD$ may also fall due to an increase in demand to hold money. This increase in portfolio demand for money, $k$, is the same as a fall in the average velocity of money, $V$. An increase in demand to hold money leaves less money available for expenditure. This exerts a negative influence on prices and, necessarily, a positive influence on the price of money. Just as with a fall in the money supply, the equilibrium price of money rises from $P_{M_0}$ to $P_{M_1}$.\n",
    "\n",
    "## Short-run Dynamics: Excess Supply and Excess Demand\n",
    "\n",
    "The short-run is defined by any period of time that real income responds to changes in aggregate demand. The short-run is defined by a short-run aggregate supply ($SRAS$) is perfectly elastic. This means that it is horizontal, set at the value of the initial price level.  We assume that in the short-run, quantities adjust before the price level. In the long-run, any value of $y$ that is less than $y_0$ is less than the full potential that can be produced in the long-run. Any value of yy that is greater than $y_0$ cannot be sustained as it would demand that producers sustain real losses as input prices are bid upward. An scess demand for goods imply an excess supply of money and excess supply of goods implies an excess demand for money.\n",
    "\n",
    "It is not necessary that the short-run outcome actually occur. If forward looking agents expect that there will be a change in total expenditures and that this change will affect the price of particular goods, they may adjust these prices downward in expectation of the price change. However, there are cases where investors may be less willing to realize a loss by the sale of a home, such as might occur in the real estate market during a recession. Homeowners that have purchased their home with a mortgage will likely avoid such a sale if the value of the home falls below what is owed on the mortgage. In situations like this, assets that would otherwise be sold may remain unsold, leading to a fall in real income. This will be discussed in greater detail in the discussion of business cycles in a later chapter.\n",
    "\n",
    "### Case 1: Excess Supply of Money and Excess Demand for Goods\n",
    "\n",
    "> Figure 8: Increase in AD: Excess Demand for Goods\n",
    "\n",
    "If aggregate demand increases, the immediate effect will be for consumers to purchase goods at a rate that is not sustainable. If producers do not recognize this fact immediately, they may increase the quantity of goods produced. To the extent that prices rise as factor costs are bid up, the total value of production will be constrained compared to if the price level remained static.\n",
    "\n",
    "The excess supply of goods at price level $P_0$, defined by $y_t - y_0$, necessarily implies an excess demand for money. This occurs either by an increase in the quantity of money supplied to the market or by a relinquishing of money held on reserve by economic actors. The first instance is represented by an increase in the money stock. The latter instance is represented by a fall in portfolio demand for money, which is equivalent to a rise in velocity. As the quantity of money increase from $M_0$ to $M_1$, individuals find themselves holding more money than they desire at given prices. As individuals spend money, price of goods begin to rise on average as signified by an increase in the price level. Since the price of money, $P_M$, is the inverse of the price level, $P$, a rise in the price level indicates a fall in the price of money. Once the price of money falls from $P_{M_0}$ to $P_{M_1}$, the excess supply of money is offset.\n",
    "\n",
    "> Figure 9: Increase in Supply of Money: Excess Supply of Money\n",
    "> Figure 10: Decrease in Portfolio Demand for Money: Excess Supply of Money\n",
    "\n",
    "Nearly the same proces occurs when there is a fall in portfolio demand for money. Since consumers are willing to spend a greater of share of their income, they can increase their consumption of goods to the extent that prices do not rise in response to the new expenditure. At the given price level, $P_0$, consumers desire to hold less money. The difference between $M_0$ and $M_t$ represents the excess balances that consumers plan to spend. As these funds are spent, the price level moves from $P_0$ to $P_1$ and the price of money falls from $P_{M_0}$ to $P_{M_1}$. The fall in the value of money moves the quantity of money demanded back to an equilibrium where the quantity demanded of money matches the quantity supplied.\n",
    "\n",
    "### Case 2: Excess Demand for Money and Excess Supply of Goods\n",
    "\n",
    "> Figure 11: Decrease in AD: Excess Supply of Goods\n",
    "\n",
    "In the short-run, a fall in aggregate demand leads to a scenario where not all goods available in the market are purchased. If producers do not instantly respond to the change in prices, there will be more goods produced than can be purchased given the quantity of money available to be spent at the initial price level, $P_0$. \n",
    "\n",
    "The excess supply of goods is represented by the difference of $y_0$ and $y_t$. The fall in expenditures that drive the shift from $AD_0$ to $AD_1$ must occur either due to a fall in the quantity of money or a fall in the velocity of money which is equivalently an increase in portfolio demand for money. In the case the supply of money falls, agents must adjust their planned expenditures to account for the fall in the quantity of available funds. At $P_{M_0}$ the quantity of money demanded, $M_0$, is greater than the available quantity of money, $M_1$. If their demand to hold money does not change, this must occur by a fall expenditures so long as the price of money does not increase from $P_{M_0}$ to $P_{M_1}$P in response to the fall in supply of money.\n",
    "\n",
    "> Figure 12: Decrease in Supply of Money: Excess Demand for Money\n",
    "> Figure 13: Increase in Portfolio Demand for Money: Excess Demand for Money\n",
    "\n",
    "The same fall in aggregate demand may occur as a result of an increase in demand to hold money on reserve. This increase in portfolio demand leads to an increase in the price of money in the long-run. Before prices respond to the change in demand for money, individuals will demand to hold more money than will allow for the clearing of the goods market. The excess demand for money, $M_t - M_0$, exactly matches the value of goods that remain unsold $y_0 - y_t$.\n",
    "\n",
    "## Aggregate Demand Driven Business Cycles\n",
    "\n",
    "Aggregate Demand Driven Business Cycles\n",
    "Excess demand and excess supplies play a fundamental role in explain macroeconomic fluctuations. Presuming that the economy produces a steady-state level of income and capital, deviations from these levels represent either an inflationary boom or a deflationary recession. Neither of these outcomes are necessary by a change in aggregate demand. Only in cases where prices are slow to adjust to changes in the money market will such macroeconomic disequilibrium occur. \n",
    "\n",
    "> Figure 13: RGNP and Increasing Central Bank Demand for Gold\n",
    "\n",
    "This phenomenon occurred in an extreme manner during the Great Depression as many central banks their gold holdings without also increasing the quantity of central bank notes in circulation. The result was a fall in real income and substantial deflation, both of which occurred at an international scale. While there were many other factors, which include policies that disrupted credit, labor, and goods markets, the disruption of money markets by central banks was a feature of the Great Depression and is commonly a driving force of relatively extreme economic depressions.\n",
    "\n",
    "## Factors Unexplained by Aggregate Analysis\n",
    "\n",
    "Although aggregate analysis provides a powerful description of the macroeconomy, it does not capture many elements that are at play in the economic process. Consider the effects of money creation. There may result an economic boom due to a confusion between real and nominal profits. Producers, especially those who receive the new money first, will invest in expectation of earning increased profits. Some early producers may succeed in this endeavor, but as more producers enter the market, the price of production inputs are bid up. \n",
    "\n",
    "The expected increase in profits by investors often leads to construction of productive factors that  would otherwise not be created. Since we live in a world of scarcity, this means that productive processes that are producing goods that consumers truly value will not be created. The creation of new capital that is the result of this misallocation cannot be cheaply reversed. The process of readjustment of the capital structure may result in depression, or it may  result in the sustained production of relatively lower level of real income due to the misallocation of productive factors that will remain in use even after being repriced once the boom has slowed. \n",
    "\n",
    "Although aggregate analysis fails to capture this, this does not mean that the aggregate factors are not exerting force on the economic system. Macroeconomic forces described here are always at play. There are simply other factors that impact economic activity alongside these macroeconomic factors.\n",
    "\n",
    "# Conclusion\n",
    "\n",
    "Aggregate demand is defined as total expenditures. The value of real income that can be derived from these expenditures changes inversely to the price level. The economy tends to be subject to equillibrating forces such that the price level moves to a level that enables the production and purchase of level of output that is sustainable in the long-run. Deviance from the equilibrium price level represent movements away from the sustainable level of output and can drive macroeconomic fluctuations.\n",
    "\n",
    "## Footnotes \n",
    "\n",
    "[1] In reality, short-run effects can impact the capital structure, thereby influencing the production structure in different markets and leading the lasting equilibrium structure that is relatively inefficient compared to cases where the capital structure is not distorted by $AD$ shocks."
   ]
  }
 ],
 "metadata": {
  "kernelspec": {
   "display_name": "Python 3",
   "language": "python",
   "name": "python3"
  },
  "language_info": {
   "codemirror_mode": {
    "name": "ipython",
    "version": 3
   },
   "file_extension": ".py",
   "mimetype": "text/x-python",
   "name": "python",
   "nbconvert_exporter": "python",
   "pygments_lexer": "ipython3",
   "version": "3.7.6"
  },
  "widgets": {
   "application/vnd.jupyter.widget-state+json": {
    "state": {
     "01722fde7f1e4726a767fdd9d3a00602": {
      "model_module": "@jupyter-widgets/base",
      "model_module_version": "1.2.0",
      "model_name": "LayoutModel",
      "state": {}
     },
     "02c53153eb5d45688642be50ccb18f34": {
      "model_module": "@jupyter-widgets/controls",
      "model_module_version": "1.5.0",
      "model_name": "FloatSliderModel",
      "state": {
       "description": "V",
       "layout": "IPY_MODEL_24ce228b7aa845b2b417ecf164703bb2",
       "max": 16,
       "min": 0.8,
       "step": 0.1,
       "style": "IPY_MODEL_2b35c4a39df9401b9b1a05aa88eba7ca",
       "value": 12
      }
     },
     "031544f030c449098b36d0928fcc7eca": {
      "model_module": "@jupyter-widgets/controls",
      "model_module_version": "1.5.0",
      "model_name": "SliderStyleModel",
      "state": {
       "description_width": ""
      }
     },
     "03b56f4dee7f406baa11706ca0be8c7c": {
      "model_module": "@jupyter-widgets/base",
      "model_module_version": "1.2.0",
      "model_name": "LayoutModel",
      "state": {}
     },
     "0426472a84cc41ca963a04c7a20d0532": {
      "model_module": "@jupyter-widgets/base",
      "model_module_version": "1.2.0",
      "model_name": "LayoutModel",
      "state": {}
     },
     "0684197412b84bd2951101024aab8d27": {
      "model_module": "@jupyter-widgets/controls",
      "model_module_version": "1.5.0",
      "model_name": "IntSliderModel",
      "state": {
       "description": "y0",
       "layout": "IPY_MODEL_3040f6c3e4224cec8c86c5e4935a74ed",
       "max": 1000,
       "min": 250,
       "step": 5,
       "style": "IPY_MODEL_cf4703dc555c4bed891a8e7989c20195",
       "value": 250
      }
     },
     "06d5959ce78b47b8a028698746abfd81": {
      "model_module": "@jupyter-widgets/base",
      "model_module_version": "1.2.0",
      "model_name": "LayoutModel",
      "state": {}
     },
     "0833cae91c824a499bd1bf37420688fb": {
      "model_module": "@jupyter-widgets/controls",
      "model_module_version": "1.5.0",
      "model_name": "IntSliderModel",
      "state": {
       "description": "y0",
       "layout": "IPY_MODEL_2dbe69c1d3b04801b6b178cd9be47e0e",
       "max": 1000,
       "min": 250,
       "step": 5,
       "style": "IPY_MODEL_f188c2d1121c4a559b25a316605bd558",
       "value": 550
      }
     },
     "08cd0337ff1f49c68055ff1209621d27": {
      "model_module": "@jupyter-widgets/controls",
      "model_module_version": "1.5.0",
      "model_name": "SliderStyleModel",
      "state": {
       "description_width": ""
      }
     },
     "0bbcc7350b6343d5a9bf1534226a2b59": {
      "model_module": "@jupyter-widgets/base",
      "model_module_version": "1.2.0",
      "model_name": "LayoutModel",
      "state": {}
     },
     "0bfaff8aeebd46f4b1934270dc5821f4": {
      "model_module": "@jupyter-widgets/controls",
      "model_module_version": "1.5.0",
      "model_name": "SliderStyleModel",
      "state": {
       "description_width": ""
      }
     },
     "0cd357ed6a744cf4aafb15596e2d95a0": {
      "model_module": "@jupyter-widgets/controls",
      "model_module_version": "1.5.0",
      "model_name": "IntSliderModel",
      "state": {
       "description": "M",
       "layout": "IPY_MODEL_20a81c9c72bb4dd590cf7e7bd304bd96",
       "max": 2000,
       "min": 100,
       "step": 10,
       "style": "IPY_MODEL_6db52190285a4e33bfcc5048fba69e15",
       "value": 1000
      }
     },
     "0f9873ea044c4cd0b84bca0f63392f23": {
      "model_module": "@jupyter-widgets/controls",
      "model_module_version": "1.5.0",
      "model_name": "SliderStyleModel",
      "state": {
       "description_width": ""
      }
     },
     "0fbc15984e384b869dc3e8f4e15e17c7": {
      "model_module": "@jupyter-widgets/base",
      "model_module_version": "1.2.0",
      "model_name": "LayoutModel",
      "state": {}
     },
     "0ff87625c54d4d628aa6be7e90ec3d7b": {
      "model_module": "@jupyter-widgets/controls",
      "model_module_version": "1.5.0",
      "model_name": "SliderStyleModel",
      "state": {
       "description_width": ""
      }
     },
     "103e8cfb466d4caeb1f03d1a76755ec1": {
      "model_module": "@jupyter-widgets/controls",
      "model_module_version": "1.5.0",
      "model_name": "IntSliderModel",
      "state": {
       "description": "M",
       "layout": "IPY_MODEL_dc94f9a67770485593550c2c1f4a5c42",
       "max": 2000,
       "min": 100,
       "step": 10,
       "style": "IPY_MODEL_aebe0385024f49e599f85c6d74f08bd9",
       "value": 1330
      }
     },
     "128841b01a2a436d86a2157757da67fc": {
      "model_module": "@jupyter-widgets/base",
      "model_module_version": "1.2.0",
      "model_name": "LayoutModel",
      "state": {}
     },
     "155032d3a7a34297acdee78f41deb17d": {
      "model_module": "@jupyter-widgets/controls",
      "model_module_version": "1.5.0",
      "model_name": "IntSliderModel",
      "state": {
       "description": "y0",
       "layout": "IPY_MODEL_3517dcbec79a40eb91f2de3eabbaae0a",
       "max": 1000,
       "min": 250,
       "step": 5,
       "style": "IPY_MODEL_aafde4ddd907429e89d4f25f032e0191",
       "value": 250
      }
     },
     "1821cc80c03548e4a10c5d3cd10555ca": {
      "model_module": "@jupyter-widgets/controls",
      "model_module_version": "1.5.0",
      "model_name": "FloatSliderModel",
      "state": {
       "description": "V",
       "layout": "IPY_MODEL_03b56f4dee7f406baa11706ca0be8c7c",
       "max": 16,
       "min": 2,
       "step": 0.1,
       "style": "IPY_MODEL_63d0faf74f944c7b846e8af9b8c69f0a",
       "value": 12
      }
     },
     "189aa44d9e4c4c93b53d41301a090dcb": {
      "model_module": "@jupyter-widgets/base",
      "model_module_version": "1.2.0",
      "model_name": "LayoutModel",
      "state": {}
     },
     "1a911c16ec9c4781984b86658caa7c88": {
      "model_module": "@jupyter-widgets/controls",
      "model_module_version": "1.5.0",
      "model_name": "VBoxModel",
      "state": {
       "_dom_classes": [
        "widget-interact"
       ],
       "children": [
        "IPY_MODEL_d257c31226b0447aa2ae805339056610",
        "IPY_MODEL_64ab2db96e7b4511a26cac6aee684dd1",
        "IPY_MODEL_8e020db6efff4e758915d876c87b5613",
        "IPY_MODEL_c34300f22580441da1cff26ebfd100da"
       ],
       "layout": "IPY_MODEL_3223965bd9104096909906bd6e3488cf"
      }
     },
     "1d835be9021749f3927f75ef2b656149": {
      "model_module": "@jupyter-widgets/base",
      "model_module_version": "1.2.0",
      "model_name": "LayoutModel",
      "state": {}
     },
     "1db02c5639c14fb8b9cd2fac9eaf5bfd": {
      "model_module": "@jupyter-widgets/base",
      "model_module_version": "1.2.0",
      "model_name": "LayoutModel",
      "state": {}
     },
     "20a81c9c72bb4dd590cf7e7bd304bd96": {
      "model_module": "@jupyter-widgets/base",
      "model_module_version": "1.2.0",
      "model_name": "LayoutModel",
      "state": {}
     },
     "2476126508084a04b25656723c8cfe40": {
      "model_module": "@jupyter-widgets/base",
      "model_module_version": "1.2.0",
      "model_name": "LayoutModel",
      "state": {}
     },
     "24ce228b7aa845b2b417ecf164703bb2": {
      "model_module": "@jupyter-widgets/base",
      "model_module_version": "1.2.0",
      "model_name": "LayoutModel",
      "state": {}
     },
     "25c1de1f92bc464aa920bf5bced0e029": {
      "model_module": "@jupyter-widgets/controls",
      "model_module_version": "1.5.0",
      "model_name": "SliderStyleModel",
      "state": {
       "description_width": ""
      }
     },
     "27065ce0e1974bb3a52c430b7bac8ee7": {
      "model_module": "@jupyter-widgets/controls",
      "model_module_version": "1.5.0",
      "model_name": "FloatSliderModel",
      "state": {
       "description": "V",
       "layout": "IPY_MODEL_29f2326241344862b0540d40521ccce0",
       "max": 16,
       "min": 0.8,
       "step": 0.1,
       "style": "IPY_MODEL_a9a0ab712ffc4662a944d1796a69b624",
       "value": 12
      }
     },
     "287cd367abd94c6992bb09daa472b211": {
      "model_module": "@jupyter-widgets/base",
      "model_module_version": "1.2.0",
      "model_name": "LayoutModel",
      "state": {}
     },
     "2903054e93b643d1bf1cc6ff652f200d": {
      "model_module": "@jupyter-widgets/controls",
      "model_module_version": "1.5.0",
      "model_name": "SliderStyleModel",
      "state": {
       "description_width": ""
      }
     },
     "294c934efe674a1fa043b3ea676a34af": {
      "model_module": "@jupyter-widgets/output",
      "model_module_version": "1.0.0",
      "model_name": "OutputModel",
      "state": {
       "layout": "IPY_MODEL_8befc19f6cdf4e79baa11028ec661ad2"
      }
     },
     "297491fb0d1f4bcbaf6bcc533c42b858": {
      "model_module": "@jupyter-widgets/base",
      "model_module_version": "1.2.0",
      "model_name": "LayoutModel",
      "state": {}
     },
     "29f2326241344862b0540d40521ccce0": {
      "model_module": "@jupyter-widgets/base",
      "model_module_version": "1.2.0",
      "model_name": "LayoutModel",
      "state": {}
     },
     "2a8bc1c76c3d44ddbc14726f5f0b2399": {
      "model_module": "@jupyter-widgets/controls",
      "model_module_version": "1.5.0",
      "model_name": "IntSliderModel",
      "state": {
       "description": "y0",
       "layout": "IPY_MODEL_b77b73236d5944548c8a7da5b7f69097",
       "max": 1000,
       "min": 250,
       "step": 5,
       "style": "IPY_MODEL_e1b0573952fd48b0b950b8bda76d667a",
       "value": 250
      }
     },
     "2ab33c1d074541888c555755e2f5395a": {
      "model_module": "@jupyter-widgets/base",
      "model_module_version": "1.2.0",
      "model_name": "LayoutModel",
      "state": {}
     },
     "2b35c4a39df9401b9b1a05aa88eba7ca": {
      "model_module": "@jupyter-widgets/controls",
      "model_module_version": "1.5.0",
      "model_name": "SliderStyleModel",
      "state": {
       "description_width": ""
      }
     },
     "2dbe69c1d3b04801b6b178cd9be47e0e": {
      "model_module": "@jupyter-widgets/base",
      "model_module_version": "1.2.0",
      "model_name": "LayoutModel",
      "state": {}
     },
     "3040f6c3e4224cec8c86c5e4935a74ed": {
      "model_module": "@jupyter-widgets/base",
      "model_module_version": "1.2.0",
      "model_name": "LayoutModel",
      "state": {}
     },
     "31530e0024a6446893712c29c5dc9734": {
      "model_module": "@jupyter-widgets/base",
      "model_module_version": "1.2.0",
      "model_name": "LayoutModel",
      "state": {}
     },
     "3223965bd9104096909906bd6e3488cf": {
      "model_module": "@jupyter-widgets/base",
      "model_module_version": "1.2.0",
      "model_name": "LayoutModel",
      "state": {}
     },
     "34607a382c21449885b50ff5a2ed975f": {
      "model_module": "@jupyter-widgets/base",
      "model_module_version": "1.2.0",
      "model_name": "LayoutModel",
      "state": {}
     },
     "3517dcbec79a40eb91f2de3eabbaae0a": {
      "model_module": "@jupyter-widgets/base",
      "model_module_version": "1.2.0",
      "model_name": "LayoutModel",
      "state": {}
     },
     "3978787f1fe74913aaea2ea9a68a46cf": {
      "model_module": "@jupyter-widgets/base",
      "model_module_version": "1.2.0",
      "model_name": "LayoutModel",
      "state": {}
     },
     "3b605a1e7fa64a3c80e2278d093bfbff": {
      "model_module": "@jupyter-widgets/controls",
      "model_module_version": "1.5.0",
      "model_name": "FloatSliderModel",
      "state": {
       "description": "V",
       "layout": "IPY_MODEL_6c31d49480de431896c5fad51710c7fc",
       "max": 16,
       "min": 2,
       "step": 0.1,
       "style": "IPY_MODEL_bc3af383510349f39c5bf695f47cf52e",
       "value": 8.6
      }
     },
     "3b72653a77f043eb939004aff6944efb": {
      "model_module": "@jupyter-widgets/base",
      "model_module_version": "1.2.0",
      "model_name": "LayoutModel",
      "state": {}
     },
     "3db11db4052746efa4669cca1ba24ca3": {
      "model_module": "@jupyter-widgets/controls",
      "model_module_version": "1.5.0",
      "model_name": "IntSliderModel",
      "state": {
       "description": "M",
       "layout": "IPY_MODEL_eb4e885672e94373a3b8455278e87b26",
       "max": 2000,
       "min": 250,
       "step": 10,
       "style": "IPY_MODEL_4b106964302345a7826953866cfa30f4",
       "value": 1000
      }
     },
     "3fc71e17d8cd4291b0762f12ae0e74f7": {
      "model_module": "@jupyter-widgets/controls",
      "model_module_version": "1.5.0",
      "model_name": "SliderStyleModel",
      "state": {
       "description_width": ""
      }
     },
     "41eb5a321cd345529f854b3378f53ab4": {
      "model_module": "@jupyter-widgets/base",
      "model_module_version": "1.2.0",
      "model_name": "LayoutModel",
      "state": {}
     },
     "42cce5055a144abdade2a98035d2248d": {
      "model_module": "@jupyter-widgets/base",
      "model_module_version": "1.2.0",
      "model_name": "LayoutModel",
      "state": {}
     },
     "45b1c93e7ed94e35b321d0cd0563a0cd": {
      "model_module": "@jupyter-widgets/controls",
      "model_module_version": "1.5.0",
      "model_name": "IntSliderModel",
      "state": {
       "description": "y0",
       "layout": "IPY_MODEL_6276135cb658418f9759412a614cc30c",
       "max": 1000,
       "min": 50,
       "step": 5,
       "style": "IPY_MODEL_031544f030c449098b36d0928fcc7eca",
       "value": 50
      }
     },
     "46c3334759ea41f296f5b83ecdb0f5f4": {
      "model_module": "@jupyter-widgets/base",
      "model_module_version": "1.2.0",
      "model_name": "LayoutModel",
      "state": {}
     },
     "4731307daed142148f87fd037c130a3e": {
      "model_module": "@jupyter-widgets/controls",
      "model_module_version": "1.5.0",
      "model_name": "FloatSliderModel",
      "state": {
       "description": "V",
       "layout": "IPY_MODEL_b748c101385b421bb3fff14238f3d5fc",
       "max": 16,
       "min": 0.8,
       "step": 0.1,
       "style": "IPY_MODEL_9929e3afb149459d8339abcac719b0d9",
       "value": 16
      }
     },
     "47bedbeb64dc4ad098682f400b774134": {
      "model_module": "@jupyter-widgets/controls",
      "model_module_version": "1.5.0",
      "model_name": "SliderStyleModel",
      "state": {
       "description_width": ""
      }
     },
     "493dc50d0d984d2bb1b8cf68135625d7": {
      "model_module": "@jupyter-widgets/controls",
      "model_module_version": "1.5.0",
      "model_name": "VBoxModel",
      "state": {
       "_dom_classes": [
        "widget-interact"
       ],
       "children": [
        "IPY_MODEL_df7c2cee885a4030a71694b9b432d9d9",
        "IPY_MODEL_27065ce0e1974bb3a52c430b7bac8ee7",
        "IPY_MODEL_ca44ad27c46749378897d0ae18503d7a",
        "IPY_MODEL_dd13fd0e2d4746e58715f143e27b85b3"
       ],
       "layout": "IPY_MODEL_e1b4728375364dafab45e1beb81b4065"
      }
     },
     "49bc77407cfe483ba8a9efac15215441": {
      "model_module": "@jupyter-widgets/base",
      "model_module_version": "1.2.0",
      "model_name": "LayoutModel",
      "state": {}
     },
     "4a6746987bb14553a22e117f2bd66ae3": {
      "model_module": "@jupyter-widgets/controls",
      "model_module_version": "1.5.0",
      "model_name": "FloatSliderModel",
      "state": {
       "description": "V",
       "layout": "IPY_MODEL_a0b11c6248324d289a9ad769efc20453",
       "max": 16,
       "min": 0.8,
       "step": 0.1,
       "style": "IPY_MODEL_2903054e93b643d1bf1cc6ff652f200d",
       "value": 12
      }
     },
     "4b106964302345a7826953866cfa30f4": {
      "model_module": "@jupyter-widgets/controls",
      "model_module_version": "1.5.0",
      "model_name": "SliderStyleModel",
      "state": {
       "description_width": ""
      }
     },
     "4cc63c8968b34ccc8e0ff6c1faab3db7": {
      "model_module": "@jupyter-widgets/base",
      "model_module_version": "1.2.0",
      "model_name": "LayoutModel",
      "state": {}
     },
     "4f76d6cba4224bc9bc49c7b319c9054d": {
      "model_module": "@jupyter-widgets/controls",
      "model_module_version": "1.5.0",
      "model_name": "SliderStyleModel",
      "state": {
       "description_width": ""
      }
     },
     "4f8f6e6585104be29afad18aedabcfbd": {
      "model_module": "@jupyter-widgets/controls",
      "model_module_version": "1.5.0",
      "model_name": "VBoxModel",
      "state": {
       "_dom_classes": [
        "widget-interact"
       ],
       "children": [
        "IPY_MODEL_886cf9fe558744338713d7e1fda61b03",
        "IPY_MODEL_3b605a1e7fa64a3c80e2278d093bfbff",
        "IPY_MODEL_0833cae91c824a499bd1bf37420688fb",
        "IPY_MODEL_d58f8107f81b4a1db4f65fb91669c47f"
       ],
       "layout": "IPY_MODEL_49bc77407cfe483ba8a9efac15215441"
      }
     },
     "4faa0e69c3944031af28243a6c2cb838": {
      "model_module": "@jupyter-widgets/controls",
      "model_module_version": "1.5.0",
      "model_name": "IntSliderModel",
      "state": {
       "description": "y0",
       "layout": "IPY_MODEL_4cc63c8968b34ccc8e0ff6c1faab3db7",
       "max": 1000,
       "min": 250,
       "step": 5,
       "style": "IPY_MODEL_beab4cac0f874a0da4d5e81ce23127c0",
       "value": 250
      }
     },
     "52a99af8ac4f4cc88ff6133b32793c0c": {
      "model_module": "@jupyter-widgets/base",
      "model_module_version": "1.2.0",
      "model_name": "LayoutModel",
      "state": {}
     },
     "52c01293ca1546239ba901da85df142f": {
      "model_module": "@jupyter-widgets/output",
      "model_module_version": "1.0.0",
      "model_name": "OutputModel",
      "state": {
       "layout": "IPY_MODEL_dbc7d1bac8344c0aa0affbbfa51938e0"
      }
     },
     "52fba609c70a4513b5f8896980a5dd91": {
      "model_module": "@jupyter-widgets/base",
      "model_module_version": "1.2.0",
      "model_name": "LayoutModel",
      "state": {}
     },
     "53f8ef40c39241f4a22e8eb47ccde0b2": {
      "model_module": "@jupyter-widgets/controls",
      "model_module_version": "1.5.0",
      "model_name": "VBoxModel",
      "state": {
       "_dom_classes": [
        "widget-interact"
       ],
       "children": [
        "IPY_MODEL_b23f96b5c9034a9ba8133869e0ecf009",
        "IPY_MODEL_f98fd46f2bf5490388683a1db8ed0062",
        "IPY_MODEL_4faa0e69c3944031af28243a6c2cb838",
        "IPY_MODEL_cc9bdbc5ac9540b9ba207dc7655b42d7"
       ],
       "layout": "IPY_MODEL_d15bec5610154b83bbb0fcb958be3026"
      }
     },
     "54a4e78e32034147921199336392169c": {
      "model_module": "@jupyter-widgets/controls",
      "model_module_version": "1.5.0",
      "model_name": "SliderStyleModel",
      "state": {
       "description_width": ""
      }
     },
     "55170df18abe4f5f97112a0e4d83d51d": {
      "model_module": "@jupyter-widgets/base",
      "model_module_version": "1.2.0",
      "model_name": "LayoutModel",
      "state": {}
     },
     "5bef57869bf44e4492561d0c61c2be03": {
      "model_module": "@jupyter-widgets/controls",
      "model_module_version": "1.5.0",
      "model_name": "SliderStyleModel",
      "state": {
       "description_width": ""
      }
     },
     "5da8c92ad3754919aeb79454fb23ddfb": {
      "model_module": "@jupyter-widgets/base",
      "model_module_version": "1.2.0",
      "model_name": "LayoutModel",
      "state": {}
     },
     "60f9bd4195f546b8a7210ae7189d4a51": {
      "model_module": "@jupyter-widgets/controls",
      "model_module_version": "1.5.0",
      "model_name": "SliderStyleModel",
      "state": {
       "description_width": ""
      }
     },
     "6276135cb658418f9759412a614cc30c": {
      "model_module": "@jupyter-widgets/base",
      "model_module_version": "1.2.0",
      "model_name": "LayoutModel",
      "state": {}
     },
     "628d1045dde84584bb24be7fec0e9778": {
      "model_module": "@jupyter-widgets/base",
      "model_module_version": "1.2.0",
      "model_name": "LayoutModel",
      "state": {}
     },
     "63d0faf74f944c7b846e8af9b8c69f0a": {
      "model_module": "@jupyter-widgets/controls",
      "model_module_version": "1.5.0",
      "model_name": "SliderStyleModel",
      "state": {
       "description_width": ""
      }
     },
     "63f9d901c7794a858b89f51741352ea6": {
      "model_module": "@jupyter-widgets/base",
      "model_module_version": "1.2.0",
      "model_name": "LayoutModel",
      "state": {}
     },
     "64ab2db96e7b4511a26cac6aee684dd1": {
      "model_module": "@jupyter-widgets/controls",
      "model_module_version": "1.5.0",
      "model_name": "FloatSliderModel",
      "state": {
       "description": "V",
       "layout": "IPY_MODEL_b74fb1b45b0a4f37ad2d62ce14dc9e32",
       "max": 16,
       "min": 2,
       "step": 0.1,
       "style": "IPY_MODEL_a2a0bdb894644e019f8e5dbd9fbbf105",
       "value": 12
      }
     },
     "64d7c9f811a94f2886b3418926abfc62": {
      "model_module": "@jupyter-widgets/controls",
      "model_module_version": "1.5.0",
      "model_name": "FloatSliderModel",
      "state": {
       "description": "V",
       "layout": "IPY_MODEL_297491fb0d1f4bcbaf6bcc533c42b858",
       "max": 16,
       "min": 2,
       "step": 0.1,
       "style": "IPY_MODEL_5bef57869bf44e4492561d0c61c2be03",
       "value": 12
      }
     },
     "6507fe6bb4c846e7946f4edebe3460fc": {
      "model_module": "@jupyter-widgets/base",
      "model_module_version": "1.2.0",
      "model_name": "LayoutModel",
      "state": {}
     },
     "66591c52d1494ce6a8781f5c41bd49e9": {
      "model_module": "@jupyter-widgets/controls",
      "model_module_version": "1.5.0",
      "model_name": "IntSliderModel",
      "state": {
       "description": "M",
       "layout": "IPY_MODEL_41eb5a321cd345529f854b3378f53ab4",
       "max": 2000,
       "min": 250,
       "step": 10,
       "style": "IPY_MODEL_4f76d6cba4224bc9bc49c7b319c9054d",
       "value": 950
      }
     },
     "6857d4bb340d4832ab562b133d3bb9f9": {
      "model_module": "@jupyter-widgets/controls",
      "model_module_version": "1.5.0",
      "model_name": "FloatSliderModel",
      "state": {
       "description": "V",
       "layout": "IPY_MODEL_8adb7e6ac67f4845bd7e12b132ea29c0",
       "max": 16,
       "min": 2,
       "step": 0.1,
       "style": "IPY_MODEL_8a075aa4842d4bd08120e348e2082e65",
       "value": 12
      }
     },
     "6a0efb26fe374dce94765d555c41c2ae": {
      "model_module": "@jupyter-widgets/base",
      "model_module_version": "1.2.0",
      "model_name": "LayoutModel",
      "state": {}
     },
     "6ab42dfa2ae144418c9afb12c542ee27": {
      "model_module": "@jupyter-widgets/controls",
      "model_module_version": "1.5.0",
      "model_name": "VBoxModel",
      "state": {
       "_dom_classes": [
        "widget-interact"
       ],
       "children": [
        "IPY_MODEL_3db11db4052746efa4669cca1ba24ca3",
        "IPY_MODEL_64d7c9f811a94f2886b3418926abfc62",
        "IPY_MODEL_155032d3a7a34297acdee78f41deb17d",
        "IPY_MODEL_f658215027f04cb2ba75123d2eceb6b2"
       ],
       "layout": "IPY_MODEL_2476126508084a04b25656723c8cfe40"
      }
     },
     "6b04253dc2204833b1a08d045fe1f624": {
      "model_module": "@jupyter-widgets/controls",
      "model_module_version": "1.5.0",
      "model_name": "SliderStyleModel",
      "state": {
       "description_width": ""
      }
     },
     "6c31d49480de431896c5fad51710c7fc": {
      "model_module": "@jupyter-widgets/base",
      "model_module_version": "1.2.0",
      "model_name": "LayoutModel",
      "state": {}
     },
     "6db52190285a4e33bfcc5048fba69e15": {
      "model_module": "@jupyter-widgets/controls",
      "model_module_version": "1.5.0",
      "model_name": "SliderStyleModel",
      "state": {
       "description_width": ""
      }
     },
     "6ddee12c9c5444188dff2710a985bbf2": {
      "model_module": "@jupyter-widgets/base",
      "model_module_version": "1.2.0",
      "model_name": "LayoutModel",
      "state": {}
     },
     "7022e275f6a8476c8dfc47337bed3cf4": {
      "model_module": "@jupyter-widgets/output",
      "model_module_version": "1.0.0",
      "model_name": "OutputModel",
      "state": {
       "layout": "IPY_MODEL_3978787f1fe74913aaea2ea9a68a46cf"
      }
     },
     "73987a3146664bdb8d6f39d6088f6410": {
      "model_module": "@jupyter-widgets/base",
      "model_module_version": "1.2.0",
      "model_name": "LayoutModel",
      "state": {}
     },
     "762792f8cad6430ea47ff331eb8cfaaf": {
      "model_module": "@jupyter-widgets/output",
      "model_module_version": "1.0.0",
      "model_name": "OutputModel",
      "state": {
       "layout": "IPY_MODEL_0fbc15984e384b869dc3e8f4e15e17c7"
      }
     },
     "765d6ba078c74bc78ad0cf2f36356b2a": {
      "model_module": "@jupyter-widgets/controls",
      "model_module_version": "1.5.0",
      "model_name": "FloatSliderModel",
      "state": {
       "description": "V",
       "layout": "IPY_MODEL_0426472a84cc41ca963a04c7a20d0532",
       "max": 16,
       "min": 2,
       "step": 0.1,
       "style": "IPY_MODEL_60f9bd4195f546b8a7210ae7189d4a51",
       "value": 12
      }
     },
     "77a664a15f134b948d00629883887c8d": {
      "model_module": "@jupyter-widgets/base",
      "model_module_version": "1.2.0",
      "model_name": "LayoutModel",
      "state": {}
     },
     "7a4500d1ca184e30a9ec2149b9ea627c": {
      "model_module": "@jupyter-widgets/controls",
      "model_module_version": "1.5.0",
      "model_name": "SliderStyleModel",
      "state": {
       "description_width": ""
      }
     },
     "7a48af3b7aef42d087dff18e6bd9c464": {
      "model_module": "@jupyter-widgets/controls",
      "model_module_version": "1.5.0",
      "model_name": "VBoxModel",
      "state": {
       "_dom_classes": [
        "widget-interact"
       ],
       "children": [
        "IPY_MODEL_beeb58fe989a4f06b78180a34690f0e1",
        "IPY_MODEL_6857d4bb340d4832ab562b133d3bb9f9",
        "IPY_MODEL_0684197412b84bd2951101024aab8d27",
        "IPY_MODEL_7f184b32b04b4f07b41260537ea79e54"
       ],
       "layout": "IPY_MODEL_ba6d77c3cb0c4cedbfd63eb3873040ea"
      }
     },
     "7dabf9a317124183b271a8aa0895cd1e": {
      "model_module": "@jupyter-widgets/output",
      "model_module_version": "1.0.0",
      "model_name": "OutputModel",
      "state": {
       "layout": "IPY_MODEL_189aa44d9e4c4c93b53d41301a090dcb"
      }
     },
     "7f184b32b04b4f07b41260537ea79e54": {
      "model_module": "@jupyter-widgets/output",
      "model_module_version": "1.0.0",
      "model_name": "OutputModel",
      "state": {
       "layout": "IPY_MODEL_876575ed45394224a6209776b4d95840"
      }
     },
     "8102e93f0f24435fb5b3d4cf283b5804": {
      "model_module": "@jupyter-widgets/controls",
      "model_module_version": "1.5.0",
      "model_name": "VBoxModel",
      "state": {
       "_dom_classes": [
        "widget-interact"
       ],
       "children": [
        "IPY_MODEL_c1acee4afdc246d294ef898bd16facdc",
        "IPY_MODEL_955fedd2e1654e57b340d468f4fe8498",
        "IPY_MODEL_d50758d2abc14f798bbdc4d33c7ca91e",
        "IPY_MODEL_c87eb3e3100c4c92a4a8d664d3044307"
       ],
       "layout": "IPY_MODEL_6ddee12c9c5444188dff2710a985bbf2"
      }
     },
     "83de49a7bb0d4cbd8e9ab4a4538612f3": {
      "model_module": "@jupyter-widgets/controls",
      "model_module_version": "1.5.0",
      "model_name": "VBoxModel",
      "state": {
       "_dom_classes": [
        "widget-interact"
       ],
       "children": [
        "IPY_MODEL_e7ee727a023c4198a2a4d3d0e393b4d9",
        "IPY_MODEL_765d6ba078c74bc78ad0cf2f36356b2a",
        "IPY_MODEL_e547f03643054f538738dc888489be9d",
        "IPY_MODEL_c455c9d51c7f4bc3912e1295cb3afa7f"
       ],
       "layout": "IPY_MODEL_77a664a15f134b948d00629883887c8d"
      }
     },
     "876575ed45394224a6209776b4d95840": {
      "model_module": "@jupyter-widgets/base",
      "model_module_version": "1.2.0",
      "model_name": "LayoutModel",
      "state": {}
     },
     "87751c76cb4049ef97e6e58f31ea5982": {
      "model_module": "@jupyter-widgets/base",
      "model_module_version": "1.2.0",
      "model_name": "LayoutModel",
      "state": {}
     },
     "886cf9fe558744338713d7e1fda61b03": {
      "model_module": "@jupyter-widgets/controls",
      "model_module_version": "1.5.0",
      "model_name": "IntSliderModel",
      "state": {
       "description": "M",
       "layout": "IPY_MODEL_34607a382c21449885b50ff5a2ed975f",
       "max": 2000,
       "min": 250,
       "step": 10,
       "style": "IPY_MODEL_0ff87625c54d4d628aa6be7e90ec3d7b",
       "value": 1510
      }
     },
     "8a075aa4842d4bd08120e348e2082e65": {
      "model_module": "@jupyter-widgets/controls",
      "model_module_version": "1.5.0",
      "model_name": "SliderStyleModel",
      "state": {
       "description_width": ""
      }
     },
     "8adb7e6ac67f4845bd7e12b132ea29c0": {
      "model_module": "@jupyter-widgets/base",
      "model_module_version": "1.2.0",
      "model_name": "LayoutModel",
      "state": {}
     },
     "8befc19f6cdf4e79baa11028ec661ad2": {
      "model_module": "@jupyter-widgets/base",
      "model_module_version": "1.2.0",
      "model_name": "LayoutModel",
      "state": {}
     },
     "8d7791d412ce40bab330824504a15821": {
      "model_module": "@jupyter-widgets/controls",
      "model_module_version": "1.5.0",
      "model_name": "IntSliderModel",
      "state": {
       "description": "M",
       "layout": "IPY_MODEL_73987a3146664bdb8d6f39d6088f6410",
       "max": 2000,
       "min": 100,
       "step": 10,
       "style": "IPY_MODEL_e090d75bce5a443facb8e65f3edaec56",
       "value": 1000
      }
     },
     "8e020db6efff4e758915d876c87b5613": {
      "model_module": "@jupyter-widgets/controls",
      "model_module_version": "1.5.0",
      "model_name": "IntSliderModel",
      "state": {
       "description": "y0",
       "layout": "IPY_MODEL_63f9d901c7794a858b89f51741352ea6",
       "max": 1000,
       "min": 250,
       "step": 5,
       "style": "IPY_MODEL_c13762c5c5a449ffb1f7e3f1063ed5c9",
       "value": 250
      }
     },
     "93be7e2b0e7f47ab9604136135d79e2b": {
      "model_module": "@jupyter-widgets/controls",
      "model_module_version": "1.5.0",
      "model_name": "SliderStyleModel",
      "state": {
       "description_width": ""
      }
     },
     "955fedd2e1654e57b340d468f4fe8498": {
      "model_module": "@jupyter-widgets/controls",
      "model_module_version": "1.5.0",
      "model_name": "FloatSliderModel",
      "state": {
       "description": "V",
       "layout": "IPY_MODEL_31530e0024a6446893712c29c5dc9734",
       "max": 16,
       "min": 0.8,
       "step": 0.1,
       "style": "IPY_MODEL_a009d05e07524fd39f8340a0a2885907",
       "value": 12
      }
     },
     "9698579ee81d411685da58328f31f9fd": {
      "model_module": "@jupyter-widgets/controls",
      "model_module_version": "1.5.0",
      "model_name": "SliderStyleModel",
      "state": {
       "description_width": ""
      }
     },
     "9841dae8eea6473f91ddf63f054fc138": {
      "model_module": "@jupyter-widgets/controls",
      "model_module_version": "1.5.0",
      "model_name": "VBoxModel",
      "state": {
       "_dom_classes": [
        "widget-interact"
       ],
       "children": [
        "IPY_MODEL_0cd357ed6a744cf4aafb15596e2d95a0",
        "IPY_MODEL_f7945f6317a34acb9fe5a06743183a9d",
        "IPY_MODEL_a0d9708040da414dabd7eabd8a06e9a7",
        "IPY_MODEL_7dabf9a317124183b271a8aa0895cd1e"
       ],
       "layout": "IPY_MODEL_5da8c92ad3754919aeb79454fb23ddfb"
      }
     },
     "9929e3afb149459d8339abcac719b0d9": {
      "model_module": "@jupyter-widgets/controls",
      "model_module_version": "1.5.0",
      "model_name": "SliderStyleModel",
      "state": {
       "description_width": ""
      }
     },
     "9c5b4eeda9c24ac99947cd50f931cf3d": {
      "model_module": "@jupyter-widgets/base",
      "model_module_version": "1.2.0",
      "model_name": "LayoutModel",
      "state": {}
     },
     "9e920d46f319469fb11978be95aed64c": {
      "model_module": "@jupyter-widgets/controls",
      "model_module_version": "1.5.0",
      "model_name": "SliderStyleModel",
      "state": {
       "description_width": ""
      }
     },
     "9f170c583adb4d81bac766ca62254036": {
      "model_module": "@jupyter-widgets/base",
      "model_module_version": "1.2.0",
      "model_name": "LayoutModel",
      "state": {}
     },
     "a009d05e07524fd39f8340a0a2885907": {
      "model_module": "@jupyter-widgets/controls",
      "model_module_version": "1.5.0",
      "model_name": "SliderStyleModel",
      "state": {
       "description_width": ""
      }
     },
     "a0b11c6248324d289a9ad769efc20453": {
      "model_module": "@jupyter-widgets/base",
      "model_module_version": "1.2.0",
      "model_name": "LayoutModel",
      "state": {}
     },
     "a0d9708040da414dabd7eabd8a06e9a7": {
      "model_module": "@jupyter-widgets/controls",
      "model_module_version": "1.5.0",
      "model_name": "IntSliderModel",
      "state": {
       "description": "y0",
       "layout": "IPY_MODEL_c55ae050b6b74f33bb7ca8876b8ae617",
       "max": 1000,
       "min": 50,
       "step": 5,
       "style": "IPY_MODEL_25c1de1f92bc464aa920bf5bced0e029",
       "value": 50
      }
     },
     "a2a0bdb894644e019f8e5dbd9fbbf105": {
      "model_module": "@jupyter-widgets/controls",
      "model_module_version": "1.5.0",
      "model_name": "SliderStyleModel",
      "state": {
       "description_width": ""
      }
     },
     "a40ad48c698943c885ec32755a9d60fe": {
      "model_module": "@jupyter-widgets/controls",
      "model_module_version": "1.5.0",
      "model_name": "IntSliderModel",
      "state": {
       "description": "y0",
       "layout": "IPY_MODEL_01722fde7f1e4726a767fdd9d3a00602",
       "max": 1000,
       "min": 50,
       "step": 5,
       "style": "IPY_MODEL_9e920d46f319469fb11978be95aed64c",
       "value": 485
      }
     },
     "a6900206e75b45e09a2e2ee6a009839c": {
      "model_module": "@jupyter-widgets/controls",
      "model_module_version": "1.5.0",
      "model_name": "SliderStyleModel",
      "state": {
       "description_width": ""
      }
     },
     "a9a0ab712ffc4662a944d1796a69b624": {
      "model_module": "@jupyter-widgets/controls",
      "model_module_version": "1.5.0",
      "model_name": "SliderStyleModel",
      "state": {
       "description_width": ""
      }
     },
     "aafde4ddd907429e89d4f25f032e0191": {
      "model_module": "@jupyter-widgets/controls",
      "model_module_version": "1.5.0",
      "model_name": "SliderStyleModel",
      "state": {
       "description_width": ""
      }
     },
     "ab5e269e99a841369381f17a31577d7c": {
      "model_module": "@jupyter-widgets/base",
      "model_module_version": "1.2.0",
      "model_name": "LayoutModel",
      "state": {}
     },
     "ae4c08f102084384b7c1ab8892491841": {
      "model_module": "@jupyter-widgets/controls",
      "model_module_version": "1.5.0",
      "model_name": "VBoxModel",
      "state": {
       "_dom_classes": [
        "widget-interact"
       ],
       "children": [
        "IPY_MODEL_cba2d9b6bb114371b2f25b7db102f9ef",
        "IPY_MODEL_fae5601dcccf40d8ae246d905799b183",
        "IPY_MODEL_45b1c93e7ed94e35b321d0cd0563a0cd",
        "IPY_MODEL_ed2f12908b0e40d59edf0e7e6efd5c77"
       ],
       "layout": "IPY_MODEL_cfa04a5e4d4040aea94d2ab1c93dc7f5"
      }
     },
     "aebe0385024f49e599f85c6d74f08bd9": {
      "model_module": "@jupyter-widgets/controls",
      "model_module_version": "1.5.0",
      "model_name": "SliderStyleModel",
      "state": {
       "description_width": ""
      }
     },
     "aefd472098004357b486fe94c90dc9c2": {
      "model_module": "@jupyter-widgets/base",
      "model_module_version": "1.2.0",
      "model_name": "LayoutModel",
      "state": {}
     },
     "b181433014d4469badae671dab15a954": {
      "model_module": "@jupyter-widgets/controls",
      "model_module_version": "1.5.0",
      "model_name": "IntSliderModel",
      "state": {
       "description": "y0",
       "layout": "IPY_MODEL_06d5959ce78b47b8a028698746abfd81",
       "max": 1000,
       "min": 50,
       "step": 5,
       "style": "IPY_MODEL_e320293c996949548d99a7eca547bef9",
       "value": 495
      }
     },
     "b23f96b5c9034a9ba8133869e0ecf009": {
      "model_module": "@jupyter-widgets/controls",
      "model_module_version": "1.5.0",
      "model_name": "IntSliderModel",
      "state": {
       "description": "M",
       "layout": "IPY_MODEL_42cce5055a144abdade2a98035d2248d",
       "max": 2000,
       "min": 250,
       "step": 10,
       "style": "IPY_MODEL_54a4e78e32034147921199336392169c",
       "value": 1000
      }
     },
     "b373d8f3f0d5456fb545e7603c0fbc0a": {
      "model_module": "@jupyter-widgets/controls",
      "model_module_version": "1.5.0",
      "model_name": "VBoxModel",
      "state": {
       "_dom_classes": [
        "widget-interact"
       ],
       "children": [
        "IPY_MODEL_fb5b00b9494f4ce8b4fea35fb8e528d5",
        "IPY_MODEL_02c53153eb5d45688642be50ccb18f34",
        "IPY_MODEL_ca30e82190734e6fa1a8af111d8e73c0",
        "IPY_MODEL_52c01293ca1546239ba901da85df142f"
       ],
       "layout": "IPY_MODEL_52a99af8ac4f4cc88ff6133b32793c0c"
      }
     },
     "b748c101385b421bb3fff14238f3d5fc": {
      "model_module": "@jupyter-widgets/base",
      "model_module_version": "1.2.0",
      "model_name": "LayoutModel",
      "state": {}
     },
     "b74fb1b45b0a4f37ad2d62ce14dc9e32": {
      "model_module": "@jupyter-widgets/base",
      "model_module_version": "1.2.0",
      "model_name": "LayoutModel",
      "state": {}
     },
     "b77b73236d5944548c8a7da5b7f69097": {
      "model_module": "@jupyter-widgets/base",
      "model_module_version": "1.2.0",
      "model_name": "LayoutModel",
      "state": {}
     },
     "b7f643eedd304d0fb278793ba59bb0d7": {
      "model_module": "@jupyter-widgets/controls",
      "model_module_version": "1.5.0",
      "model_name": "SliderStyleModel",
      "state": {
       "description_width": ""
      }
     },
     "b81d874ba92345d2b2286d3e8c29df16": {
      "model_module": "@jupyter-widgets/base",
      "model_module_version": "1.2.0",
      "model_name": "LayoutModel",
      "state": {}
     },
     "ba4ccf5a891c45e89ae8c76e84df1377": {
      "model_module": "@jupyter-widgets/base",
      "model_module_version": "1.2.0",
      "model_name": "LayoutModel",
      "state": {}
     },
     "ba6d77c3cb0c4cedbfd63eb3873040ea": {
      "model_module": "@jupyter-widgets/base",
      "model_module_version": "1.2.0",
      "model_name": "LayoutModel",
      "state": {}
     },
     "bc3af383510349f39c5bf695f47cf52e": {
      "model_module": "@jupyter-widgets/controls",
      "model_module_version": "1.5.0",
      "model_name": "SliderStyleModel",
      "state": {
       "description_width": ""
      }
     },
     "beab4cac0f874a0da4d5e81ce23127c0": {
      "model_module": "@jupyter-widgets/controls",
      "model_module_version": "1.5.0",
      "model_name": "SliderStyleModel",
      "state": {
       "description_width": ""
      }
     },
     "beeb58fe989a4f06b78180a34690f0e1": {
      "model_module": "@jupyter-widgets/controls",
      "model_module_version": "1.5.0",
      "model_name": "IntSliderModel",
      "state": {
       "description": "M",
       "layout": "IPY_MODEL_e0e77434780d4c07a8601fe9dbe0ffe0",
       "max": 2000,
       "min": 250,
       "step": 10,
       "style": "IPY_MODEL_0bfaff8aeebd46f4b1934270dc5821f4",
       "value": 1000
      }
     },
     "c0b4af68733b43be904f3d3f85f5cfa7": {
      "model_module": "@jupyter-widgets/controls",
      "model_module_version": "1.5.0",
      "model_name": "SliderStyleModel",
      "state": {
       "description_width": ""
      }
     },
     "c13762c5c5a449ffb1f7e3f1063ed5c9": {
      "model_module": "@jupyter-widgets/controls",
      "model_module_version": "1.5.0",
      "model_name": "SliderStyleModel",
      "state": {
       "description_width": ""
      }
     },
     "c1acee4afdc246d294ef898bd16facdc": {
      "model_module": "@jupyter-widgets/controls",
      "model_module_version": "1.5.0",
      "model_name": "IntSliderModel",
      "state": {
       "description": "M",
       "layout": "IPY_MODEL_287cd367abd94c6992bb09daa472b211",
       "max": 2000,
       "min": 100,
       "step": 10,
       "style": "IPY_MODEL_0f9873ea044c4cd0b84bca0f63392f23",
       "value": 1000
      }
     },
     "c34300f22580441da1cff26ebfd100da": {
      "model_module": "@jupyter-widgets/output",
      "model_module_version": "1.0.0",
      "model_name": "OutputModel",
      "state": {
       "layout": "IPY_MODEL_f71a36c1202049fd895699395ba5ad87"
      }
     },
     "c455c9d51c7f4bc3912e1295cb3afa7f": {
      "model_module": "@jupyter-widgets/output",
      "model_module_version": "1.0.0",
      "model_name": "OutputModel",
      "state": {
       "layout": "IPY_MODEL_fdf7c9ad43a34cb49788a2487f7cafb5"
      }
     },
     "c55ae050b6b74f33bb7ca8876b8ae617": {
      "model_module": "@jupyter-widgets/base",
      "model_module_version": "1.2.0",
      "model_name": "LayoutModel",
      "state": {}
     },
     "c7ce90fb2d74453a86ce76372ced4936": {
      "model_module": "@jupyter-widgets/base",
      "model_module_version": "1.2.0",
      "model_name": "LayoutModel",
      "state": {}
     },
     "c87eb3e3100c4c92a4a8d664d3044307": {
      "model_module": "@jupyter-widgets/output",
      "model_module_version": "1.0.0",
      "model_name": "OutputModel",
      "state": {
       "layout": "IPY_MODEL_628d1045dde84584bb24be7fec0e9778"
      }
     },
     "ca30e82190734e6fa1a8af111d8e73c0": {
      "model_module": "@jupyter-widgets/controls",
      "model_module_version": "1.5.0",
      "model_name": "IntSliderModel",
      "state": {
       "description": "y0",
       "layout": "IPY_MODEL_ab5e269e99a841369381f17a31577d7c",
       "max": 1000,
       "min": 50,
       "step": 5,
       "style": "IPY_MODEL_9698579ee81d411685da58328f31f9fd",
       "value": 50
      }
     },
     "ca44ad27c46749378897d0ae18503d7a": {
      "model_module": "@jupyter-widgets/controls",
      "model_module_version": "1.5.0",
      "model_name": "IntSliderModel",
      "state": {
       "description": "y0",
       "layout": "IPY_MODEL_0bbcc7350b6343d5a9bf1534226a2b59",
       "max": 1000,
       "min": 50,
       "step": 5,
       "style": "IPY_MODEL_08cd0337ff1f49c68055ff1209621d27",
       "value": 580
      }
     },
     "cba2d9b6bb114371b2f25b7db102f9ef": {
      "model_module": "@jupyter-widgets/controls",
      "model_module_version": "1.5.0",
      "model_name": "IntSliderModel",
      "state": {
       "description": "M",
       "layout": "IPY_MODEL_55170df18abe4f5f97112a0e4d83d51d",
       "max": 2000,
       "min": 100,
       "step": 10,
       "style": "IPY_MODEL_6b04253dc2204833b1a08d045fe1f624",
       "value": 1000
      }
     },
     "cc9bdbc5ac9540b9ba207dc7655b42d7": {
      "model_module": "@jupyter-widgets/output",
      "model_module_version": "1.0.0",
      "model_name": "OutputModel",
      "state": {
       "layout": "IPY_MODEL_1db02c5639c14fb8b9cd2fac9eaf5bfd"
      }
     },
     "cf4703dc555c4bed891a8e7989c20195": {
      "model_module": "@jupyter-widgets/controls",
      "model_module_version": "1.5.0",
      "model_name": "SliderStyleModel",
      "state": {
       "description_width": ""
      }
     },
     "cfa04a5e4d4040aea94d2ab1c93dc7f5": {
      "model_module": "@jupyter-widgets/base",
      "model_module_version": "1.2.0",
      "model_name": "LayoutModel",
      "state": {}
     },
     "d15bec5610154b83bbb0fcb958be3026": {
      "model_module": "@jupyter-widgets/base",
      "model_module_version": "1.2.0",
      "model_name": "LayoutModel",
      "state": {}
     },
     "d257c31226b0447aa2ae805339056610": {
      "model_module": "@jupyter-widgets/controls",
      "model_module_version": "1.5.0",
      "model_name": "IntSliderModel",
      "state": {
       "description": "M",
       "layout": "IPY_MODEL_ba4ccf5a891c45e89ae8c76e84df1377",
       "max": 2000,
       "min": 250,
       "step": 10,
       "style": "IPY_MODEL_3fc71e17d8cd4291b0762f12ae0e74f7",
       "value": 1000
      }
     },
     "d50758d2abc14f798bbdc4d33c7ca91e": {
      "model_module": "@jupyter-widgets/controls",
      "model_module_version": "1.5.0",
      "model_name": "IntSliderModel",
      "state": {
       "description": "y0",
       "layout": "IPY_MODEL_6a0efb26fe374dce94765d555c41c2ae",
       "max": 1000,
       "min": 50,
       "step": 5,
       "style": "IPY_MODEL_c0b4af68733b43be904f3d3f85f5cfa7",
       "value": 50
      }
     },
     "d58f8107f81b4a1db4f65fb91669c47f": {
      "model_module": "@jupyter-widgets/output",
      "model_module_version": "1.0.0",
      "model_name": "OutputModel",
      "state": {
       "layout": "IPY_MODEL_3b72653a77f043eb939004aff6944efb"
      }
     },
     "dbc7d1bac8344c0aa0affbbfa51938e0": {
      "model_module": "@jupyter-widgets/base",
      "model_module_version": "1.2.0",
      "model_name": "LayoutModel",
      "state": {}
     },
     "dc94f9a67770485593550c2c1f4a5c42": {
      "model_module": "@jupyter-widgets/base",
      "model_module_version": "1.2.0",
      "model_name": "LayoutModel",
      "state": {}
     },
     "dd13fd0e2d4746e58715f143e27b85b3": {
      "model_module": "@jupyter-widgets/output",
      "model_module_version": "1.0.0",
      "model_name": "OutputModel",
      "state": {
       "layout": "IPY_MODEL_c7ce90fb2d74453a86ce76372ced4936"
      }
     },
     "ddfbd15e22b14699b878d674c8243f27": {
      "model_module": "@jupyter-widgets/base",
      "model_module_version": "1.2.0",
      "model_name": "LayoutModel",
      "state": {}
     },
     "df7c2cee885a4030a71694b9b432d9d9": {
      "model_module": "@jupyter-widgets/controls",
      "model_module_version": "1.5.0",
      "model_name": "IntSliderModel",
      "state": {
       "description": "M",
       "layout": "IPY_MODEL_ddfbd15e22b14699b878d674c8243f27",
       "max": 2000,
       "min": 100,
       "step": 10,
       "style": "IPY_MODEL_7a4500d1ca184e30a9ec2149b9ea627c",
       "value": 2000
      }
     },
     "e090d75bce5a443facb8e65f3edaec56": {
      "model_module": "@jupyter-widgets/controls",
      "model_module_version": "1.5.0",
      "model_name": "SliderStyleModel",
      "state": {
       "description_width": ""
      }
     },
     "e0e77434780d4c07a8601fe9dbe0ffe0": {
      "model_module": "@jupyter-widgets/base",
      "model_module_version": "1.2.0",
      "model_name": "LayoutModel",
      "state": {}
     },
     "e0eeedb6f58742b2bb808d4ff0690b86": {
      "model_module": "@jupyter-widgets/controls",
      "model_module_version": "1.5.0",
      "model_name": "SliderStyleModel",
      "state": {
       "description_width": ""
      }
     },
     "e1b0573952fd48b0b950b8bda76d667a": {
      "model_module": "@jupyter-widgets/controls",
      "model_module_version": "1.5.0",
      "model_name": "SliderStyleModel",
      "state": {
       "description_width": ""
      }
     },
     "e1b4728375364dafab45e1beb81b4065": {
      "model_module": "@jupyter-widgets/base",
      "model_module_version": "1.2.0",
      "model_name": "LayoutModel",
      "state": {}
     },
     "e320293c996949548d99a7eca547bef9": {
      "model_module": "@jupyter-widgets/controls",
      "model_module_version": "1.5.0",
      "model_name": "SliderStyleModel",
      "state": {
       "description_width": ""
      }
     },
     "e547f03643054f538738dc888489be9d": {
      "model_module": "@jupyter-widgets/controls",
      "model_module_version": "1.5.0",
      "model_name": "IntSliderModel",
      "state": {
       "description": "y0",
       "layout": "IPY_MODEL_1d835be9021749f3927f75ef2b656149",
       "max": 1000,
       "min": 250,
       "step": 5,
       "style": "IPY_MODEL_e0eeedb6f58742b2bb808d4ff0690b86",
       "value": 250
      }
     },
     "e6b87574b4a741ebbf97d6f5cdfceccc": {
      "model_module": "@jupyter-widgets/controls",
      "model_module_version": "1.5.0",
      "model_name": "VBoxModel",
      "state": {
       "_dom_classes": [
        "widget-interact"
       ],
       "children": [
        "IPY_MODEL_8d7791d412ce40bab330824504a15821",
        "IPY_MODEL_4a6746987bb14553a22e117f2bd66ae3",
        "IPY_MODEL_b181433014d4469badae671dab15a954",
        "IPY_MODEL_294c934efe674a1fa043b3ea676a34af"
       ],
       "layout": "IPY_MODEL_aefd472098004357b486fe94c90dc9c2"
      }
     },
     "e7ee727a023c4198a2a4d3d0e393b4d9": {
      "model_module": "@jupyter-widgets/controls",
      "model_module_version": "1.5.0",
      "model_name": "IntSliderModel",
      "state": {
       "description": "M",
       "layout": "IPY_MODEL_9f170c583adb4d81bac766ca62254036",
       "max": 2000,
       "min": 250,
       "step": 10,
       "style": "IPY_MODEL_a6900206e75b45e09a2e2ee6a009839c",
       "value": 1000
      }
     },
     "eb4e885672e94373a3b8455278e87b26": {
      "model_module": "@jupyter-widgets/base",
      "model_module_version": "1.2.0",
      "model_name": "LayoutModel",
      "state": {}
     },
     "ebbcd98eb306424492b1910f43a34b22": {
      "model_module": "@jupyter-widgets/controls",
      "model_module_version": "1.5.0",
      "model_name": "SliderStyleModel",
      "state": {
       "description_width": ""
      }
     },
     "ed2f12908b0e40d59edf0e7e6efd5c77": {
      "model_module": "@jupyter-widgets/output",
      "model_module_version": "1.0.0",
      "model_name": "OutputModel",
      "state": {
       "layout": "IPY_MODEL_b81d874ba92345d2b2286d3e8c29df16"
      }
     },
     "ed3ed0bb24844391a7316e80d2cc39b1": {
      "model_module": "@jupyter-widgets/controls",
      "model_module_version": "1.5.0",
      "model_name": "VBoxModel",
      "state": {
       "_dom_classes": [
        "widget-interact"
       ],
       "children": [
        "IPY_MODEL_66591c52d1494ce6a8781f5c41bd49e9",
        "IPY_MODEL_1821cc80c03548e4a10c5d3cd10555ca",
        "IPY_MODEL_2a8bc1c76c3d44ddbc14726f5f0b2399",
        "IPY_MODEL_7022e275f6a8476c8dfc47337bed3cf4"
       ],
       "layout": "IPY_MODEL_128841b01a2a436d86a2157757da67fc"
      }
     },
     "f188c2d1121c4a559b25a316605bd558": {
      "model_module": "@jupyter-widgets/controls",
      "model_module_version": "1.5.0",
      "model_name": "SliderStyleModel",
      "state": {
       "description_width": ""
      }
     },
     "f658215027f04cb2ba75123d2eceb6b2": {
      "model_module": "@jupyter-widgets/output",
      "model_module_version": "1.0.0",
      "model_name": "OutputModel",
      "state": {
       "layout": "IPY_MODEL_87751c76cb4049ef97e6e58f31ea5982"
      }
     },
     "f71a36c1202049fd895699395ba5ad87": {
      "model_module": "@jupyter-widgets/base",
      "model_module_version": "1.2.0",
      "model_name": "LayoutModel",
      "state": {}
     },
     "f7945f6317a34acb9fe5a06743183a9d": {
      "model_module": "@jupyter-widgets/controls",
      "model_module_version": "1.5.0",
      "model_name": "FloatSliderModel",
      "state": {
       "description": "V",
       "layout": "IPY_MODEL_46c3334759ea41f296f5b83ecdb0f5f4",
       "max": 16,
       "min": 0.8,
       "step": 0.1,
       "style": "IPY_MODEL_b7f643eedd304d0fb278793ba59bb0d7",
       "value": 12
      }
     },
     "f98fd46f2bf5490388683a1db8ed0062": {
      "model_module": "@jupyter-widgets/controls",
      "model_module_version": "1.5.0",
      "model_name": "FloatSliderModel",
      "state": {
       "description": "V",
       "layout": "IPY_MODEL_2ab33c1d074541888c555755e2f5395a",
       "max": 16,
       "min": 2,
       "step": 0.1,
       "style": "IPY_MODEL_47bedbeb64dc4ad098682f400b774134",
       "value": 12
      }
     },
     "fae5601dcccf40d8ae246d905799b183": {
      "model_module": "@jupyter-widgets/controls",
      "model_module_version": "1.5.0",
      "model_name": "FloatSliderModel",
      "state": {
       "description": "V",
       "layout": "IPY_MODEL_9c5b4eeda9c24ac99947cd50f931cf3d",
       "max": 16,
       "min": 0.8,
       "step": 0.1,
       "style": "IPY_MODEL_ebbcd98eb306424492b1910f43a34b22",
       "value": 12
      }
     },
     "fb5b00b9494f4ce8b4fea35fb8e528d5": {
      "model_module": "@jupyter-widgets/controls",
      "model_module_version": "1.5.0",
      "model_name": "IntSliderModel",
      "state": {
       "description": "M",
       "layout": "IPY_MODEL_52fba609c70a4513b5f8896980a5dd91",
       "max": 2000,
       "min": 100,
       "step": 10,
       "style": "IPY_MODEL_93be7e2b0e7f47ab9604136135d79e2b",
       "value": 1000
      }
     },
     "fc53b97bbf4246a282a3b0749f98510b": {
      "model_module": "@jupyter-widgets/controls",
      "model_module_version": "1.5.0",
      "model_name": "VBoxModel",
      "state": {
       "_dom_classes": [
        "widget-interact"
       ],
       "children": [
        "IPY_MODEL_103e8cfb466d4caeb1f03d1a76755ec1",
        "IPY_MODEL_4731307daed142148f87fd037c130a3e",
        "IPY_MODEL_a40ad48c698943c885ec32755a9d60fe",
        "IPY_MODEL_762792f8cad6430ea47ff331eb8cfaaf"
       ],
       "layout": "IPY_MODEL_6507fe6bb4c846e7946f4edebe3460fc"
      }
     },
     "fdf7c9ad43a34cb49788a2487f7cafb5": {
      "model_module": "@jupyter-widgets/base",
      "model_module_version": "1.2.0",
      "model_name": "LayoutModel",
      "state": {}
     }
    },
    "version_major": 2,
    "version_minor": 0
   }
  }
 },
 "nbformat": 4,
 "nbformat_minor": 4
}
