{
 "cells": [
  {
   "cell_type": "markdown",
   "metadata": {},
   "source": [
    "# Aggregate Demand\n",
    "\n",
    "Macroeconomics is the study of all economic activity. This includes complexities that arise in the course of production and exchange. It also includes analysis using statistics that represent the sum of all economic activity or activity in different sectors and of different kinds.\n",
    "Although data reflecting economic activity cannot be reduced to aggregates without losing information, aggregates themselves contain information that is unavailable at the level of analysis of particular events or of particular firms or sectors. Consideration of aggregate values allows one to consider the details of macroeconomic equilibrium, as well as macroeconomic disequilibrium. \n",
    "\n",
    "## The Money Market and the Goods Market\n",
    "\n",
    "The equation of exchange is a golden key that unlocks the secrets of the macroeconomy. It links changes in the money market to changes in the market for non-money goods, and vice versa, by defining aggregate demand as $MV$. The aggregate demand curve assume a given level of expenditures. This value is defined across different combinations of $P$ and $y$. As the value of $P$ increases, the value of $y$ falls, thereby maintaining the given value of total expenditures.\n",
    "In this chapter, we will use the equation of exchange to understand how changes in the goods market lead to changes in the market for non-money goods.  For simplicity sake, we will assume that there is only one good that acts as money. We will discuss in a later chapter that analysis can include other moneys.\n",
    "\n",
    "> Figure 1: Market for Non-money Goods\n",
    "\n",
    "In the previous chapter we used the equation of exchange to define changes the supply of money that can result from changes in demand for money. For the sake of simplicity, we start with a market whose supply of money is perfectly inelastic, as compared with a commodity money whose supply is upward sloping. A perfectly inelastic money supply allows us to consider money as a choice variable, much as base money is the result of the policy of a monetary authority. Changes in the price of money will therefore not affect the quantity of money supplied to the market. With a perfectly inelastic quantity of money, $M$, is not a function of demand for money . Changes in demand for money impact the price of money and, therefore, the price level. \n",
    "\n",
    "Aside from exogenous changes in supply, we will focus on the effect of changes in portfolio demand, $k$, for money. Recall that this is the inverse of the average velocity of money:\n",
    "\n",
    ">k=\\frac{1}{V}\n",
    "\n",
    "A change in the quantity of money or a change in portfolio demand for money will shift in aggregate demand, thereby shifting the price level in the long-run.\n",
    "\n",
    "Try working witht the plot yourself!"
   ]
  },
  {
   "cell_type": "code",
   "execution_count": 1,
   "metadata": {},
   "outputs": [
    {
     "data": {
      "application/javascript": [
       "/* Put everything inside the global mpl namespace */\n",
       "window.mpl = {};\n",
       "\n",
       "\n",
       "mpl.get_websocket_type = function() {\n",
       "    if (typeof(WebSocket) !== 'undefined') {\n",
       "        return WebSocket;\n",
       "    } else if (typeof(MozWebSocket) !== 'undefined') {\n",
       "        return MozWebSocket;\n",
       "    } else {\n",
       "        alert('Your browser does not have WebSocket support. ' +\n",
       "              'Please try Chrome, Safari or Firefox ≥ 6. ' +\n",
       "              'Firefox 4 and 5 are also supported but you ' +\n",
       "              'have to enable WebSockets in about:config.');\n",
       "    };\n",
       "}\n",
       "\n",
       "mpl.figure = function(figure_id, websocket, ondownload, parent_element) {\n",
       "    this.id = figure_id;\n",
       "\n",
       "    this.ws = websocket;\n",
       "\n",
       "    this.supports_binary = (this.ws.binaryType != undefined);\n",
       "\n",
       "    if (!this.supports_binary) {\n",
       "        var warnings = document.getElementById(\"mpl-warnings\");\n",
       "        if (warnings) {\n",
       "            warnings.style.display = 'block';\n",
       "            warnings.textContent = (\n",
       "                \"This browser does not support binary websocket messages. \" +\n",
       "                    \"Performance may be slow.\");\n",
       "        }\n",
       "    }\n",
       "\n",
       "    this.imageObj = new Image();\n",
       "\n",
       "    this.context = undefined;\n",
       "    this.message = undefined;\n",
       "    this.canvas = undefined;\n",
       "    this.rubberband_canvas = undefined;\n",
       "    this.rubberband_context = undefined;\n",
       "    this.format_dropdown = undefined;\n",
       "\n",
       "    this.image_mode = 'full';\n",
       "\n",
       "    this.root = $('<div/>');\n",
       "    this._root_extra_style(this.root)\n",
       "    this.root.attr('style', 'display: inline-block');\n",
       "\n",
       "    $(parent_element).append(this.root);\n",
       "\n",
       "    this._init_header(this);\n",
       "    this._init_canvas(this);\n",
       "    this._init_toolbar(this);\n",
       "\n",
       "    var fig = this;\n",
       "\n",
       "    this.waiting = false;\n",
       "\n",
       "    this.ws.onopen =  function () {\n",
       "            fig.send_message(\"supports_binary\", {value: fig.supports_binary});\n",
       "            fig.send_message(\"send_image_mode\", {});\n",
       "            if (mpl.ratio != 1) {\n",
       "                fig.send_message(\"set_dpi_ratio\", {'dpi_ratio': mpl.ratio});\n",
       "            }\n",
       "            fig.send_message(\"refresh\", {});\n",
       "        }\n",
       "\n",
       "    this.imageObj.onload = function() {\n",
       "            if (fig.image_mode == 'full') {\n",
       "                // Full images could contain transparency (where diff images\n",
       "                // almost always do), so we need to clear the canvas so that\n",
       "                // there is no ghosting.\n",
       "                fig.context.clearRect(0, 0, fig.canvas.width, fig.canvas.height);\n",
       "            }\n",
       "            fig.context.drawImage(fig.imageObj, 0, 0);\n",
       "        };\n",
       "\n",
       "    this.imageObj.onunload = function() {\n",
       "        fig.ws.close();\n",
       "    }\n",
       "\n",
       "    this.ws.onmessage = this._make_on_message_function(this);\n",
       "\n",
       "    this.ondownload = ondownload;\n",
       "}\n",
       "\n",
       "mpl.figure.prototype._init_header = function() {\n",
       "    var titlebar = $(\n",
       "        '<div class=\"ui-dialog-titlebar ui-widget-header ui-corner-all ' +\n",
       "        'ui-helper-clearfix\"/>');\n",
       "    var titletext = $(\n",
       "        '<div class=\"ui-dialog-title\" style=\"width: 100%; ' +\n",
       "        'text-align: center; padding: 3px;\"/>');\n",
       "    titlebar.append(titletext)\n",
       "    this.root.append(titlebar);\n",
       "    this.header = titletext[0];\n",
       "}\n",
       "\n",
       "\n",
       "\n",
       "mpl.figure.prototype._canvas_extra_style = function(canvas_div) {\n",
       "\n",
       "}\n",
       "\n",
       "\n",
       "mpl.figure.prototype._root_extra_style = function(canvas_div) {\n",
       "\n",
       "}\n",
       "\n",
       "mpl.figure.prototype._init_canvas = function() {\n",
       "    var fig = this;\n",
       "\n",
       "    var canvas_div = $('<div/>');\n",
       "\n",
       "    canvas_div.attr('style', 'position: relative; clear: both; outline: 0');\n",
       "\n",
       "    function canvas_keyboard_event(event) {\n",
       "        return fig.key_event(event, event['data']);\n",
       "    }\n",
       "\n",
       "    canvas_div.keydown('key_press', canvas_keyboard_event);\n",
       "    canvas_div.keyup('key_release', canvas_keyboard_event);\n",
       "    this.canvas_div = canvas_div\n",
       "    this._canvas_extra_style(canvas_div)\n",
       "    this.root.append(canvas_div);\n",
       "\n",
       "    var canvas = $('<canvas/>');\n",
       "    canvas.addClass('mpl-canvas');\n",
       "    canvas.attr('style', \"left: 0; top: 0; z-index: 0; outline: 0\")\n",
       "\n",
       "    this.canvas = canvas[0];\n",
       "    this.context = canvas[0].getContext(\"2d\");\n",
       "\n",
       "    var backingStore = this.context.backingStorePixelRatio ||\n",
       "\tthis.context.webkitBackingStorePixelRatio ||\n",
       "\tthis.context.mozBackingStorePixelRatio ||\n",
       "\tthis.context.msBackingStorePixelRatio ||\n",
       "\tthis.context.oBackingStorePixelRatio ||\n",
       "\tthis.context.backingStorePixelRatio || 1;\n",
       "\n",
       "    mpl.ratio = (window.devicePixelRatio || 1) / backingStore;\n",
       "\n",
       "    var rubberband = $('<canvas/>');\n",
       "    rubberband.attr('style', \"position: absolute; left: 0; top: 0; z-index: 1;\")\n",
       "\n",
       "    var pass_mouse_events = true;\n",
       "\n",
       "    canvas_div.resizable({\n",
       "        start: function(event, ui) {\n",
       "            pass_mouse_events = false;\n",
       "        },\n",
       "        resize: function(event, ui) {\n",
       "            fig.request_resize(ui.size.width, ui.size.height);\n",
       "        },\n",
       "        stop: function(event, ui) {\n",
       "            pass_mouse_events = true;\n",
       "            fig.request_resize(ui.size.width, ui.size.height);\n",
       "        },\n",
       "    });\n",
       "\n",
       "    function mouse_event_fn(event) {\n",
       "        if (pass_mouse_events)\n",
       "            return fig.mouse_event(event, event['data']);\n",
       "    }\n",
       "\n",
       "    rubberband.mousedown('button_press', mouse_event_fn);\n",
       "    rubberband.mouseup('button_release', mouse_event_fn);\n",
       "    // Throttle sequential mouse events to 1 every 20ms.\n",
       "    rubberband.mousemove('motion_notify', mouse_event_fn);\n",
       "\n",
       "    rubberband.mouseenter('figure_enter', mouse_event_fn);\n",
       "    rubberband.mouseleave('figure_leave', mouse_event_fn);\n",
       "\n",
       "    canvas_div.on(\"wheel\", function (event) {\n",
       "        event = event.originalEvent;\n",
       "        event['data'] = 'scroll'\n",
       "        if (event.deltaY < 0) {\n",
       "            event.step = 1;\n",
       "        } else {\n",
       "            event.step = -1;\n",
       "        }\n",
       "        mouse_event_fn(event);\n",
       "    });\n",
       "\n",
       "    canvas_div.append(canvas);\n",
       "    canvas_div.append(rubberband);\n",
       "\n",
       "    this.rubberband = rubberband;\n",
       "    this.rubberband_canvas = rubberband[0];\n",
       "    this.rubberband_context = rubberband[0].getContext(\"2d\");\n",
       "    this.rubberband_context.strokeStyle = \"#000000\";\n",
       "\n",
       "    this._resize_canvas = function(width, height) {\n",
       "        // Keep the size of the canvas, canvas container, and rubber band\n",
       "        // canvas in synch.\n",
       "        canvas_div.css('width', width)\n",
       "        canvas_div.css('height', height)\n",
       "\n",
       "        canvas.attr('width', width * mpl.ratio);\n",
       "        canvas.attr('height', height * mpl.ratio);\n",
       "        canvas.attr('style', 'width: ' + width + 'px; height: ' + height + 'px;');\n",
       "\n",
       "        rubberband.attr('width', width);\n",
       "        rubberband.attr('height', height);\n",
       "    }\n",
       "\n",
       "    // Set the figure to an initial 600x600px, this will subsequently be updated\n",
       "    // upon first draw.\n",
       "    this._resize_canvas(600, 600);\n",
       "\n",
       "    // Disable right mouse context menu.\n",
       "    $(this.rubberband_canvas).bind(\"contextmenu\",function(e){\n",
       "        return false;\n",
       "    });\n",
       "\n",
       "    function set_focus () {\n",
       "        canvas.focus();\n",
       "        canvas_div.focus();\n",
       "    }\n",
       "\n",
       "    window.setTimeout(set_focus, 100);\n",
       "}\n",
       "\n",
       "mpl.figure.prototype._init_toolbar = function() {\n",
       "    var fig = this;\n",
       "\n",
       "    var nav_element = $('<div/>');\n",
       "    nav_element.attr('style', 'width: 100%');\n",
       "    this.root.append(nav_element);\n",
       "\n",
       "    // Define a callback function for later on.\n",
       "    function toolbar_event(event) {\n",
       "        return fig.toolbar_button_onclick(event['data']);\n",
       "    }\n",
       "    function toolbar_mouse_event(event) {\n",
       "        return fig.toolbar_button_onmouseover(event['data']);\n",
       "    }\n",
       "\n",
       "    for(var toolbar_ind in mpl.toolbar_items) {\n",
       "        var name = mpl.toolbar_items[toolbar_ind][0];\n",
       "        var tooltip = mpl.toolbar_items[toolbar_ind][1];\n",
       "        var image = mpl.toolbar_items[toolbar_ind][2];\n",
       "        var method_name = mpl.toolbar_items[toolbar_ind][3];\n",
       "\n",
       "        if (!name) {\n",
       "            // put a spacer in here.\n",
       "            continue;\n",
       "        }\n",
       "        var button = $('<button/>');\n",
       "        button.addClass('ui-button ui-widget ui-state-default ui-corner-all ' +\n",
       "                        'ui-button-icon-only');\n",
       "        button.attr('role', 'button');\n",
       "        button.attr('aria-disabled', 'false');\n",
       "        button.click(method_name, toolbar_event);\n",
       "        button.mouseover(tooltip, toolbar_mouse_event);\n",
       "\n",
       "        var icon_img = $('<span/>');\n",
       "        icon_img.addClass('ui-button-icon-primary ui-icon');\n",
       "        icon_img.addClass(image);\n",
       "        icon_img.addClass('ui-corner-all');\n",
       "\n",
       "        var tooltip_span = $('<span/>');\n",
       "        tooltip_span.addClass('ui-button-text');\n",
       "        tooltip_span.html(tooltip);\n",
       "\n",
       "        button.append(icon_img);\n",
       "        button.append(tooltip_span);\n",
       "\n",
       "        nav_element.append(button);\n",
       "    }\n",
       "\n",
       "    var fmt_picker_span = $('<span/>');\n",
       "\n",
       "    var fmt_picker = $('<select/>');\n",
       "    fmt_picker.addClass('mpl-toolbar-option ui-widget ui-widget-content');\n",
       "    fmt_picker_span.append(fmt_picker);\n",
       "    nav_element.append(fmt_picker_span);\n",
       "    this.format_dropdown = fmt_picker[0];\n",
       "\n",
       "    for (var ind in mpl.extensions) {\n",
       "        var fmt = mpl.extensions[ind];\n",
       "        var option = $(\n",
       "            '<option/>', {selected: fmt === mpl.default_extension}).html(fmt);\n",
       "        fmt_picker.append(option);\n",
       "    }\n",
       "\n",
       "    // Add hover states to the ui-buttons\n",
       "    $( \".ui-button\" ).hover(\n",
       "        function() { $(this).addClass(\"ui-state-hover\");},\n",
       "        function() { $(this).removeClass(\"ui-state-hover\");}\n",
       "    );\n",
       "\n",
       "    var status_bar = $('<span class=\"mpl-message\"/>');\n",
       "    nav_element.append(status_bar);\n",
       "    this.message = status_bar[0];\n",
       "}\n",
       "\n",
       "mpl.figure.prototype.request_resize = function(x_pixels, y_pixels) {\n",
       "    // Request matplotlib to resize the figure. Matplotlib will then trigger a resize in the client,\n",
       "    // which will in turn request a refresh of the image.\n",
       "    this.send_message('resize', {'width': x_pixels, 'height': y_pixels});\n",
       "}\n",
       "\n",
       "mpl.figure.prototype.send_message = function(type, properties) {\n",
       "    properties['type'] = type;\n",
       "    properties['figure_id'] = this.id;\n",
       "    this.ws.send(JSON.stringify(properties));\n",
       "}\n",
       "\n",
       "mpl.figure.prototype.send_draw_message = function() {\n",
       "    if (!this.waiting) {\n",
       "        this.waiting = true;\n",
       "        this.ws.send(JSON.stringify({type: \"draw\", figure_id: this.id}));\n",
       "    }\n",
       "}\n",
       "\n",
       "\n",
       "mpl.figure.prototype.handle_save = function(fig, msg) {\n",
       "    var format_dropdown = fig.format_dropdown;\n",
       "    var format = format_dropdown.options[format_dropdown.selectedIndex].value;\n",
       "    fig.ondownload(fig, format);\n",
       "}\n",
       "\n",
       "\n",
       "mpl.figure.prototype.handle_resize = function(fig, msg) {\n",
       "    var size = msg['size'];\n",
       "    if (size[0] != fig.canvas.width || size[1] != fig.canvas.height) {\n",
       "        fig._resize_canvas(size[0], size[1]);\n",
       "        fig.send_message(\"refresh\", {});\n",
       "    };\n",
       "}\n",
       "\n",
       "mpl.figure.prototype.handle_rubberband = function(fig, msg) {\n",
       "    var x0 = msg['x0'] / mpl.ratio;\n",
       "    var y0 = (fig.canvas.height - msg['y0']) / mpl.ratio;\n",
       "    var x1 = msg['x1'] / mpl.ratio;\n",
       "    var y1 = (fig.canvas.height - msg['y1']) / mpl.ratio;\n",
       "    x0 = Math.floor(x0) + 0.5;\n",
       "    y0 = Math.floor(y0) + 0.5;\n",
       "    x1 = Math.floor(x1) + 0.5;\n",
       "    y1 = Math.floor(y1) + 0.5;\n",
       "    var min_x = Math.min(x0, x1);\n",
       "    var min_y = Math.min(y0, y1);\n",
       "    var width = Math.abs(x1 - x0);\n",
       "    var height = Math.abs(y1 - y0);\n",
       "\n",
       "    fig.rubberband_context.clearRect(\n",
       "        0, 0, fig.canvas.width / mpl.ratio, fig.canvas.height / mpl.ratio);\n",
       "\n",
       "    fig.rubberband_context.strokeRect(min_x, min_y, width, height);\n",
       "}\n",
       "\n",
       "mpl.figure.prototype.handle_figure_label = function(fig, msg) {\n",
       "    // Updates the figure title.\n",
       "    fig.header.textContent = msg['label'];\n",
       "}\n",
       "\n",
       "mpl.figure.prototype.handle_cursor = function(fig, msg) {\n",
       "    var cursor = msg['cursor'];\n",
       "    switch(cursor)\n",
       "    {\n",
       "    case 0:\n",
       "        cursor = 'pointer';\n",
       "        break;\n",
       "    case 1:\n",
       "        cursor = 'default';\n",
       "        break;\n",
       "    case 2:\n",
       "        cursor = 'crosshair';\n",
       "        break;\n",
       "    case 3:\n",
       "        cursor = 'move';\n",
       "        break;\n",
       "    }\n",
       "    fig.rubberband_canvas.style.cursor = cursor;\n",
       "}\n",
       "\n",
       "mpl.figure.prototype.handle_message = function(fig, msg) {\n",
       "    fig.message.textContent = msg['message'];\n",
       "}\n",
       "\n",
       "mpl.figure.prototype.handle_draw = function(fig, msg) {\n",
       "    // Request the server to send over a new figure.\n",
       "    fig.send_draw_message();\n",
       "}\n",
       "\n",
       "mpl.figure.prototype.handle_image_mode = function(fig, msg) {\n",
       "    fig.image_mode = msg['mode'];\n",
       "}\n",
       "\n",
       "mpl.figure.prototype.updated_canvas_event = function() {\n",
       "    // Called whenever the canvas gets updated.\n",
       "    this.send_message(\"ack\", {});\n",
       "}\n",
       "\n",
       "// A function to construct a web socket function for onmessage handling.\n",
       "// Called in the figure constructor.\n",
       "mpl.figure.prototype._make_on_message_function = function(fig) {\n",
       "    return function socket_on_message(evt) {\n",
       "        if (evt.data instanceof Blob) {\n",
       "            /* FIXME: We get \"Resource interpreted as Image but\n",
       "             * transferred with MIME type text/plain:\" errors on\n",
       "             * Chrome.  But how to set the MIME type?  It doesn't seem\n",
       "             * to be part of the websocket stream */\n",
       "            evt.data.type = \"image/png\";\n",
       "\n",
       "            /* Free the memory for the previous frames */\n",
       "            if (fig.imageObj.src) {\n",
       "                (window.URL || window.webkitURL).revokeObjectURL(\n",
       "                    fig.imageObj.src);\n",
       "            }\n",
       "\n",
       "            fig.imageObj.src = (window.URL || window.webkitURL).createObjectURL(\n",
       "                evt.data);\n",
       "            fig.updated_canvas_event();\n",
       "            fig.waiting = false;\n",
       "            return;\n",
       "        }\n",
       "        else if (typeof evt.data === 'string' && evt.data.slice(0, 21) == \"data:image/png;base64\") {\n",
       "            fig.imageObj.src = evt.data;\n",
       "            fig.updated_canvas_event();\n",
       "            fig.waiting = false;\n",
       "            return;\n",
       "        }\n",
       "\n",
       "        var msg = JSON.parse(evt.data);\n",
       "        var msg_type = msg['type'];\n",
       "\n",
       "        // Call the  \"handle_{type}\" callback, which takes\n",
       "        // the figure and JSON message as its only arguments.\n",
       "        try {\n",
       "            var callback = fig[\"handle_\" + msg_type];\n",
       "        } catch (e) {\n",
       "            console.log(\"No handler for the '\" + msg_type + \"' message type: \", msg);\n",
       "            return;\n",
       "        }\n",
       "\n",
       "        if (callback) {\n",
       "            try {\n",
       "                // console.log(\"Handling '\" + msg_type + \"' message: \", msg);\n",
       "                callback(fig, msg);\n",
       "            } catch (e) {\n",
       "                console.log(\"Exception inside the 'handler_\" + msg_type + \"' callback:\", e, e.stack, msg);\n",
       "            }\n",
       "        }\n",
       "    };\n",
       "}\n",
       "\n",
       "// from http://stackoverflow.com/questions/1114465/getting-mouse-location-in-canvas\n",
       "mpl.findpos = function(e) {\n",
       "    //this section is from http://www.quirksmode.org/js/events_properties.html\n",
       "    var targ;\n",
       "    if (!e)\n",
       "        e = window.event;\n",
       "    if (e.target)\n",
       "        targ = e.target;\n",
       "    else if (e.srcElement)\n",
       "        targ = e.srcElement;\n",
       "    if (targ.nodeType == 3) // defeat Safari bug\n",
       "        targ = targ.parentNode;\n",
       "\n",
       "    // jQuery normalizes the pageX and pageY\n",
       "    // pageX,Y are the mouse positions relative to the document\n",
       "    // offset() returns the position of the element relative to the document\n",
       "    var x = e.pageX - $(targ).offset().left;\n",
       "    var y = e.pageY - $(targ).offset().top;\n",
       "\n",
       "    return {\"x\": x, \"y\": y};\n",
       "};\n",
       "\n",
       "/*\n",
       " * return a copy of an object with only non-object keys\n",
       " * we need this to avoid circular references\n",
       " * http://stackoverflow.com/a/24161582/3208463\n",
       " */\n",
       "function simpleKeys (original) {\n",
       "  return Object.keys(original).reduce(function (obj, key) {\n",
       "    if (typeof original[key] !== 'object')\n",
       "        obj[key] = original[key]\n",
       "    return obj;\n",
       "  }, {});\n",
       "}\n",
       "\n",
       "mpl.figure.prototype.mouse_event = function(event, name) {\n",
       "    var canvas_pos = mpl.findpos(event)\n",
       "\n",
       "    if (name === 'button_press')\n",
       "    {\n",
       "        this.canvas.focus();\n",
       "        this.canvas_div.focus();\n",
       "    }\n",
       "\n",
       "    var x = canvas_pos.x * mpl.ratio;\n",
       "    var y = canvas_pos.y * mpl.ratio;\n",
       "\n",
       "    this.send_message(name, {x: x, y: y, button: event.button,\n",
       "                             step: event.step,\n",
       "                             guiEvent: simpleKeys(event)});\n",
       "\n",
       "    /* This prevents the web browser from automatically changing to\n",
       "     * the text insertion cursor when the button is pressed.  We want\n",
       "     * to control all of the cursor setting manually through the\n",
       "     * 'cursor' event from matplotlib */\n",
       "    event.preventDefault();\n",
       "    return false;\n",
       "}\n",
       "\n",
       "mpl.figure.prototype._key_event_extra = function(event, name) {\n",
       "    // Handle any extra behaviour associated with a key event\n",
       "}\n",
       "\n",
       "mpl.figure.prototype.key_event = function(event, name) {\n",
       "\n",
       "    // Prevent repeat events\n",
       "    if (name == 'key_press')\n",
       "    {\n",
       "        if (event.which === this._key)\n",
       "            return;\n",
       "        else\n",
       "            this._key = event.which;\n",
       "    }\n",
       "    if (name == 'key_release')\n",
       "        this._key = null;\n",
       "\n",
       "    var value = '';\n",
       "    if (event.ctrlKey && event.which != 17)\n",
       "        value += \"ctrl+\";\n",
       "    if (event.altKey && event.which != 18)\n",
       "        value += \"alt+\";\n",
       "    if (event.shiftKey && event.which != 16)\n",
       "        value += \"shift+\";\n",
       "\n",
       "    value += 'k';\n",
       "    value += event.which.toString();\n",
       "\n",
       "    this._key_event_extra(event, name);\n",
       "\n",
       "    this.send_message(name, {key: value,\n",
       "                             guiEvent: simpleKeys(event)});\n",
       "    return false;\n",
       "}\n",
       "\n",
       "mpl.figure.prototype.toolbar_button_onclick = function(name) {\n",
       "    if (name == 'download') {\n",
       "        this.handle_save(this, null);\n",
       "    } else {\n",
       "        this.send_message(\"toolbar_button\", {name: name});\n",
       "    }\n",
       "};\n",
       "\n",
       "mpl.figure.prototype.toolbar_button_onmouseover = function(tooltip) {\n",
       "    this.message.textContent = tooltip;\n",
       "};\n",
       "mpl.toolbar_items = [[\"Home\", \"Reset original view\", \"fa fa-home icon-home\", \"home\"], [\"Back\", \"Back to previous view\", \"fa fa-arrow-left icon-arrow-left\", \"back\"], [\"Forward\", \"Forward to next view\", \"fa fa-arrow-right icon-arrow-right\", \"forward\"], [\"\", \"\", \"\", \"\"], [\"Pan\", \"Pan axes with left mouse, zoom with right\", \"fa fa-arrows icon-move\", \"pan\"], [\"Zoom\", \"Zoom to rectangle\", \"fa fa-square-o icon-check-empty\", \"zoom\"], [\"\", \"\", \"\", \"\"], [\"Download\", \"Download plot\", \"fa fa-floppy-o icon-save\", \"download\"]];\n",
       "\n",
       "mpl.extensions = [\"eps\", \"jpeg\", \"pdf\", \"png\", \"ps\", \"raw\", \"svg\", \"tif\"];\n",
       "\n",
       "mpl.default_extension = \"png\";var comm_websocket_adapter = function(comm) {\n",
       "    // Create a \"websocket\"-like object which calls the given IPython comm\n",
       "    // object with the appropriate methods. Currently this is a non binary\n",
       "    // socket, so there is still some room for performance tuning.\n",
       "    var ws = {};\n",
       "\n",
       "    ws.close = function() {\n",
       "        comm.close()\n",
       "    };\n",
       "    ws.send = function(m) {\n",
       "        //console.log('sending', m);\n",
       "        comm.send(m);\n",
       "    };\n",
       "    // Register the callback with on_msg.\n",
       "    comm.on_msg(function(msg) {\n",
       "        //console.log('receiving', msg['content']['data'], msg);\n",
       "        // Pass the mpl event to the overridden (by mpl) onmessage function.\n",
       "        ws.onmessage(msg['content']['data'])\n",
       "    });\n",
       "    return ws;\n",
       "}\n",
       "\n",
       "mpl.mpl_figure_comm = function(comm, msg) {\n",
       "    // This is the function which gets called when the mpl process\n",
       "    // starts-up an IPython Comm through the \"matplotlib\" channel.\n",
       "\n",
       "    var id = msg.content.data.id;\n",
       "    // Get hold of the div created by the display call when the Comm\n",
       "    // socket was opened in Python.\n",
       "    var element = $(\"#\" + id);\n",
       "    var ws_proxy = comm_websocket_adapter(comm)\n",
       "\n",
       "    function ondownload(figure, format) {\n",
       "        window.open(figure.imageObj.src);\n",
       "    }\n",
       "\n",
       "    var fig = new mpl.figure(id, ws_proxy,\n",
       "                           ondownload,\n",
       "                           element.get(0));\n",
       "\n",
       "    // Call onopen now - mpl needs it, as it is assuming we've passed it a real\n",
       "    // web socket which is closed, not our websocket->open comm proxy.\n",
       "    ws_proxy.onopen();\n",
       "\n",
       "    fig.parent_element = element.get(0);\n",
       "    fig.cell_info = mpl.find_output_cell(\"<div id='\" + id + \"'></div>\");\n",
       "    if (!fig.cell_info) {\n",
       "        console.error(\"Failed to find cell for figure\", id, fig);\n",
       "        return;\n",
       "    }\n",
       "\n",
       "    var output_index = fig.cell_info[2]\n",
       "    var cell = fig.cell_info[0];\n",
       "\n",
       "};\n",
       "\n",
       "mpl.figure.prototype.handle_close = function(fig, msg) {\n",
       "    var width = fig.canvas.width/mpl.ratio\n",
       "    fig.root.unbind('remove')\n",
       "\n",
       "    // Update the output cell to use the data from the current canvas.\n",
       "    fig.push_to_output();\n",
       "    var dataURL = fig.canvas.toDataURL();\n",
       "    // Re-enable the keyboard manager in IPython - without this line, in FF,\n",
       "    // the notebook keyboard shortcuts fail.\n",
       "    IPython.keyboard_manager.enable()\n",
       "    $(fig.parent_element).html('<img src=\"' + dataURL + '\" width=\"' + width + '\">');\n",
       "    fig.close_ws(fig, msg);\n",
       "}\n",
       "\n",
       "mpl.figure.prototype.close_ws = function(fig, msg){\n",
       "    fig.send_message('closing', msg);\n",
       "    // fig.ws.close()\n",
       "}\n",
       "\n",
       "mpl.figure.prototype.push_to_output = function(remove_interactive) {\n",
       "    // Turn the data on the canvas into data in the output cell.\n",
       "    var width = this.canvas.width/mpl.ratio\n",
       "    var dataURL = this.canvas.toDataURL();\n",
       "    this.cell_info[1]['text/html'] = '<img src=\"' + dataURL + '\" width=\"' + width + '\">';\n",
       "}\n",
       "\n",
       "mpl.figure.prototype.updated_canvas_event = function() {\n",
       "    // Tell IPython that the notebook contents must change.\n",
       "    IPython.notebook.set_dirty(true);\n",
       "    this.send_message(\"ack\", {});\n",
       "    var fig = this;\n",
       "    // Wait a second, then push the new image to the DOM so\n",
       "    // that it is saved nicely (might be nice to debounce this).\n",
       "    setTimeout(function () { fig.push_to_output() }, 1000);\n",
       "}\n",
       "\n",
       "mpl.figure.prototype._init_toolbar = function() {\n",
       "    var fig = this;\n",
       "\n",
       "    var nav_element = $('<div/>');\n",
       "    nav_element.attr('style', 'width: 100%');\n",
       "    this.root.append(nav_element);\n",
       "\n",
       "    // Define a callback function for later on.\n",
       "    function toolbar_event(event) {\n",
       "        return fig.toolbar_button_onclick(event['data']);\n",
       "    }\n",
       "    function toolbar_mouse_event(event) {\n",
       "        return fig.toolbar_button_onmouseover(event['data']);\n",
       "    }\n",
       "\n",
       "    for(var toolbar_ind in mpl.toolbar_items){\n",
       "        var name = mpl.toolbar_items[toolbar_ind][0];\n",
       "        var tooltip = mpl.toolbar_items[toolbar_ind][1];\n",
       "        var image = mpl.toolbar_items[toolbar_ind][2];\n",
       "        var method_name = mpl.toolbar_items[toolbar_ind][3];\n",
       "\n",
       "        if (!name) { continue; };\n",
       "\n",
       "        var button = $('<button class=\"btn btn-default\" href=\"#\" title=\"' + name + '\"><i class=\"fa ' + image + ' fa-lg\"></i></button>');\n",
       "        button.click(method_name, toolbar_event);\n",
       "        button.mouseover(tooltip, toolbar_mouse_event);\n",
       "        nav_element.append(button);\n",
       "    }\n",
       "\n",
       "    // Add the status bar.\n",
       "    var status_bar = $('<span class=\"mpl-message\" style=\"text-align:right; float: right;\"/>');\n",
       "    nav_element.append(status_bar);\n",
       "    this.message = status_bar[0];\n",
       "\n",
       "    // Add the close button to the window.\n",
       "    var buttongrp = $('<div class=\"btn-group inline pull-right\"></div>');\n",
       "    var button = $('<button class=\"btn btn-mini btn-primary\" href=\"#\" title=\"Stop Interaction\"><i class=\"fa fa-power-off icon-remove icon-large\"></i></button>');\n",
       "    button.click(function (evt) { fig.handle_close(fig, {}); } );\n",
       "    button.mouseover('Stop Interaction', toolbar_mouse_event);\n",
       "    buttongrp.append(button);\n",
       "    var titlebar = this.root.find($('.ui-dialog-titlebar'));\n",
       "    titlebar.prepend(buttongrp);\n",
       "}\n",
       "\n",
       "mpl.figure.prototype._root_extra_style = function(el){\n",
       "    var fig = this\n",
       "    el.on(\"remove\", function(){\n",
       "\tfig.close_ws(fig, {});\n",
       "    });\n",
       "}\n",
       "\n",
       "mpl.figure.prototype._canvas_extra_style = function(el){\n",
       "    // this is important to make the div 'focusable\n",
       "    el.attr('tabindex', 0)\n",
       "    // reach out to IPython and tell the keyboard manager to turn it's self\n",
       "    // off when our div gets focus\n",
       "\n",
       "    // location in version 3\n",
       "    if (IPython.notebook.keyboard_manager) {\n",
       "        IPython.notebook.keyboard_manager.register_events(el);\n",
       "    }\n",
       "    else {\n",
       "        // location in version 2\n",
       "        IPython.keyboard_manager.register_events(el);\n",
       "    }\n",
       "\n",
       "}\n",
       "\n",
       "mpl.figure.prototype._key_event_extra = function(event, name) {\n",
       "    var manager = IPython.notebook.keyboard_manager;\n",
       "    if (!manager)\n",
       "        manager = IPython.keyboard_manager;\n",
       "\n",
       "    // Check for shift+enter\n",
       "    if (event.shiftKey && event.which == 13) {\n",
       "        this.canvas_div.blur();\n",
       "        // select the cell after this one\n",
       "        var index = IPython.notebook.find_cell_index(this.cell_info[0]);\n",
       "        IPython.notebook.select(index + 1);\n",
       "    }\n",
       "}\n",
       "\n",
       "mpl.figure.prototype.handle_save = function(fig, msg) {\n",
       "    fig.ondownload(fig, null);\n",
       "}\n",
       "\n",
       "\n",
       "mpl.find_output_cell = function(html_output) {\n",
       "    // Return the cell and output element which can be found *uniquely* in the notebook.\n",
       "    // Note - this is a bit hacky, but it is done because the \"notebook_saving.Notebook\"\n",
       "    // IPython event is triggered only after the cells have been serialised, which for\n",
       "    // our purposes (turning an active figure into a static one), is too late.\n",
       "    var cells = IPython.notebook.get_cells();\n",
       "    var ncells = cells.length;\n",
       "    for (var i=0; i<ncells; i++) {\n",
       "        var cell = cells[i];\n",
       "        if (cell.cell_type === 'code'){\n",
       "            for (var j=0; j<cell.output_area.outputs.length; j++) {\n",
       "                var data = cell.output_area.outputs[j];\n",
       "                if (data.data) {\n",
       "                    // IPython >= 3 moved mimebundle to data attribute of output\n",
       "                    data = data.data;\n",
       "                }\n",
       "                if (data['text/html'] == html_output) {\n",
       "                    return [cell, data, j];\n",
       "                }\n",
       "            }\n",
       "        }\n",
       "    }\n",
       "}\n",
       "\n",
       "// Register the function which deals with the matplotlib target/channel.\n",
       "// The kernel may be null if the page has been refreshed.\n",
       "if (IPython.notebook.kernel != null) {\n",
       "    IPython.notebook.kernel.comm_manager.register_target('matplotlib', mpl.mpl_figure_comm);\n",
       "}\n"
      ],
      "text/plain": [
       "<IPython.core.display.Javascript object>"
      ]
     },
     "metadata": {},
     "output_type": "display_data"
    },
    {
     "data": {
      "text/html": [
       "<img src=\"data:image/png;base64,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\" width=\"800\">"
      ],
      "text/plain": [
       "<IPython.core.display.HTML object>"
      ]
     },
     "metadata": {},
     "output_type": "display_data"
    },
    {
     "data": {
      "application/vnd.jupyter.widget-view+json": {
       "model_id": "8b775beb88e341c98393948fa872736a",
       "version_major": 2,
       "version_minor": 0
      },
      "text/plain": [
       "interactive(children=(IntSlider(value=1000, description='M', max=2000, min=100, step=10), FloatSlider(value=12…"
      ]
     },
     "metadata": {},
     "output_type": "display_data"
    },
    {
     "data": {
      "application/javascript": [
       "/* Put everything inside the global mpl namespace */\n",
       "window.mpl = {};\n",
       "\n",
       "\n",
       "mpl.get_websocket_type = function() {\n",
       "    if (typeof(WebSocket) !== 'undefined') {\n",
       "        return WebSocket;\n",
       "    } else if (typeof(MozWebSocket) !== 'undefined') {\n",
       "        return MozWebSocket;\n",
       "    } else {\n",
       "        alert('Your browser does not have WebSocket support. ' +\n",
       "              'Please try Chrome, Safari or Firefox ≥ 6. ' +\n",
       "              'Firefox 4 and 5 are also supported but you ' +\n",
       "              'have to enable WebSockets in about:config.');\n",
       "    };\n",
       "}\n",
       "\n",
       "mpl.figure = function(figure_id, websocket, ondownload, parent_element) {\n",
       "    this.id = figure_id;\n",
       "\n",
       "    this.ws = websocket;\n",
       "\n",
       "    this.supports_binary = (this.ws.binaryType != undefined);\n",
       "\n",
       "    if (!this.supports_binary) {\n",
       "        var warnings = document.getElementById(\"mpl-warnings\");\n",
       "        if (warnings) {\n",
       "            warnings.style.display = 'block';\n",
       "            warnings.textContent = (\n",
       "                \"This browser does not support binary websocket messages. \" +\n",
       "                    \"Performance may be slow.\");\n",
       "        }\n",
       "    }\n",
       "\n",
       "    this.imageObj = new Image();\n",
       "\n",
       "    this.context = undefined;\n",
       "    this.message = undefined;\n",
       "    this.canvas = undefined;\n",
       "    this.rubberband_canvas = undefined;\n",
       "    this.rubberband_context = undefined;\n",
       "    this.format_dropdown = undefined;\n",
       "\n",
       "    this.image_mode = 'full';\n",
       "\n",
       "    this.root = $('<div/>');\n",
       "    this._root_extra_style(this.root)\n",
       "    this.root.attr('style', 'display: inline-block');\n",
       "\n",
       "    $(parent_element).append(this.root);\n",
       "\n",
       "    this._init_header(this);\n",
       "    this._init_canvas(this);\n",
       "    this._init_toolbar(this);\n",
       "\n",
       "    var fig = this;\n",
       "\n",
       "    this.waiting = false;\n",
       "\n",
       "    this.ws.onopen =  function () {\n",
       "            fig.send_message(\"supports_binary\", {value: fig.supports_binary});\n",
       "            fig.send_message(\"send_image_mode\", {});\n",
       "            if (mpl.ratio != 1) {\n",
       "                fig.send_message(\"set_dpi_ratio\", {'dpi_ratio': mpl.ratio});\n",
       "            }\n",
       "            fig.send_message(\"refresh\", {});\n",
       "        }\n",
       "\n",
       "    this.imageObj.onload = function() {\n",
       "            if (fig.image_mode == 'full') {\n",
       "                // Full images could contain transparency (where diff images\n",
       "                // almost always do), so we need to clear the canvas so that\n",
       "                // there is no ghosting.\n",
       "                fig.context.clearRect(0, 0, fig.canvas.width, fig.canvas.height);\n",
       "            }\n",
       "            fig.context.drawImage(fig.imageObj, 0, 0);\n",
       "        };\n",
       "\n",
       "    this.imageObj.onunload = function() {\n",
       "        fig.ws.close();\n",
       "    }\n",
       "\n",
       "    this.ws.onmessage = this._make_on_message_function(this);\n",
       "\n",
       "    this.ondownload = ondownload;\n",
       "}\n",
       "\n",
       "mpl.figure.prototype._init_header = function() {\n",
       "    var titlebar = $(\n",
       "        '<div class=\"ui-dialog-titlebar ui-widget-header ui-corner-all ' +\n",
       "        'ui-helper-clearfix\"/>');\n",
       "    var titletext = $(\n",
       "        '<div class=\"ui-dialog-title\" style=\"width: 100%; ' +\n",
       "        'text-align: center; padding: 3px;\"/>');\n",
       "    titlebar.append(titletext)\n",
       "    this.root.append(titlebar);\n",
       "    this.header = titletext[0];\n",
       "}\n",
       "\n",
       "\n",
       "\n",
       "mpl.figure.prototype._canvas_extra_style = function(canvas_div) {\n",
       "\n",
       "}\n",
       "\n",
       "\n",
       "mpl.figure.prototype._root_extra_style = function(canvas_div) {\n",
       "\n",
       "}\n",
       "\n",
       "mpl.figure.prototype._init_canvas = function() {\n",
       "    var fig = this;\n",
       "\n",
       "    var canvas_div = $('<div/>');\n",
       "\n",
       "    canvas_div.attr('style', 'position: relative; clear: both; outline: 0');\n",
       "\n",
       "    function canvas_keyboard_event(event) {\n",
       "        return fig.key_event(event, event['data']);\n",
       "    }\n",
       "\n",
       "    canvas_div.keydown('key_press', canvas_keyboard_event);\n",
       "    canvas_div.keyup('key_release', canvas_keyboard_event);\n",
       "    this.canvas_div = canvas_div\n",
       "    this._canvas_extra_style(canvas_div)\n",
       "    this.root.append(canvas_div);\n",
       "\n",
       "    var canvas = $('<canvas/>');\n",
       "    canvas.addClass('mpl-canvas');\n",
       "    canvas.attr('style', \"left: 0; top: 0; z-index: 0; outline: 0\")\n",
       "\n",
       "    this.canvas = canvas[0];\n",
       "    this.context = canvas[0].getContext(\"2d\");\n",
       "\n",
       "    var backingStore = this.context.backingStorePixelRatio ||\n",
       "\tthis.context.webkitBackingStorePixelRatio ||\n",
       "\tthis.context.mozBackingStorePixelRatio ||\n",
       "\tthis.context.msBackingStorePixelRatio ||\n",
       "\tthis.context.oBackingStorePixelRatio ||\n",
       "\tthis.context.backingStorePixelRatio || 1;\n",
       "\n",
       "    mpl.ratio = (window.devicePixelRatio || 1) / backingStore;\n",
       "\n",
       "    var rubberband = $('<canvas/>');\n",
       "    rubberband.attr('style', \"position: absolute; left: 0; top: 0; z-index: 1;\")\n",
       "\n",
       "    var pass_mouse_events = true;\n",
       "\n",
       "    canvas_div.resizable({\n",
       "        start: function(event, ui) {\n",
       "            pass_mouse_events = false;\n",
       "        },\n",
       "        resize: function(event, ui) {\n",
       "            fig.request_resize(ui.size.width, ui.size.height);\n",
       "        },\n",
       "        stop: function(event, ui) {\n",
       "            pass_mouse_events = true;\n",
       "            fig.request_resize(ui.size.width, ui.size.height);\n",
       "        },\n",
       "    });\n",
       "\n",
       "    function mouse_event_fn(event) {\n",
       "        if (pass_mouse_events)\n",
       "            return fig.mouse_event(event, event['data']);\n",
       "    }\n",
       "\n",
       "    rubberband.mousedown('button_press', mouse_event_fn);\n",
       "    rubberband.mouseup('button_release', mouse_event_fn);\n",
       "    // Throttle sequential mouse events to 1 every 20ms.\n",
       "    rubberband.mousemove('motion_notify', mouse_event_fn);\n",
       "\n",
       "    rubberband.mouseenter('figure_enter', mouse_event_fn);\n",
       "    rubberband.mouseleave('figure_leave', mouse_event_fn);\n",
       "\n",
       "    canvas_div.on(\"wheel\", function (event) {\n",
       "        event = event.originalEvent;\n",
       "        event['data'] = 'scroll'\n",
       "        if (event.deltaY < 0) {\n",
       "            event.step = 1;\n",
       "        } else {\n",
       "            event.step = -1;\n",
       "        }\n",
       "        mouse_event_fn(event);\n",
       "    });\n",
       "\n",
       "    canvas_div.append(canvas);\n",
       "    canvas_div.append(rubberband);\n",
       "\n",
       "    this.rubberband = rubberband;\n",
       "    this.rubberband_canvas = rubberband[0];\n",
       "    this.rubberband_context = rubberband[0].getContext(\"2d\");\n",
       "    this.rubberband_context.strokeStyle = \"#000000\";\n",
       "\n",
       "    this._resize_canvas = function(width, height) {\n",
       "        // Keep the size of the canvas, canvas container, and rubber band\n",
       "        // canvas in synch.\n",
       "        canvas_div.css('width', width)\n",
       "        canvas_div.css('height', height)\n",
       "\n",
       "        canvas.attr('width', width * mpl.ratio);\n",
       "        canvas.attr('height', height * mpl.ratio);\n",
       "        canvas.attr('style', 'width: ' + width + 'px; height: ' + height + 'px;');\n",
       "\n",
       "        rubberband.attr('width', width);\n",
       "        rubberband.attr('height', height);\n",
       "    }\n",
       "\n",
       "    // Set the figure to an initial 600x600px, this will subsequently be updated\n",
       "    // upon first draw.\n",
       "    this._resize_canvas(600, 600);\n",
       "\n",
       "    // Disable right mouse context menu.\n",
       "    $(this.rubberband_canvas).bind(\"contextmenu\",function(e){\n",
       "        return false;\n",
       "    });\n",
       "\n",
       "    function set_focus () {\n",
       "        canvas.focus();\n",
       "        canvas_div.focus();\n",
       "    }\n",
       "\n",
       "    window.setTimeout(set_focus, 100);\n",
       "}\n",
       "\n",
       "mpl.figure.prototype._init_toolbar = function() {\n",
       "    var fig = this;\n",
       "\n",
       "    var nav_element = $('<div/>');\n",
       "    nav_element.attr('style', 'width: 100%');\n",
       "    this.root.append(nav_element);\n",
       "\n",
       "    // Define a callback function for later on.\n",
       "    function toolbar_event(event) {\n",
       "        return fig.toolbar_button_onclick(event['data']);\n",
       "    }\n",
       "    function toolbar_mouse_event(event) {\n",
       "        return fig.toolbar_button_onmouseover(event['data']);\n",
       "    }\n",
       "\n",
       "    for(var toolbar_ind in mpl.toolbar_items) {\n",
       "        var name = mpl.toolbar_items[toolbar_ind][0];\n",
       "        var tooltip = mpl.toolbar_items[toolbar_ind][1];\n",
       "        var image = mpl.toolbar_items[toolbar_ind][2];\n",
       "        var method_name = mpl.toolbar_items[toolbar_ind][3];\n",
       "\n",
       "        if (!name) {\n",
       "            // put a spacer in here.\n",
       "            continue;\n",
       "        }\n",
       "        var button = $('<button/>');\n",
       "        button.addClass('ui-button ui-widget ui-state-default ui-corner-all ' +\n",
       "                        'ui-button-icon-only');\n",
       "        button.attr('role', 'button');\n",
       "        button.attr('aria-disabled', 'false');\n",
       "        button.click(method_name, toolbar_event);\n",
       "        button.mouseover(tooltip, toolbar_mouse_event);\n",
       "\n",
       "        var icon_img = $('<span/>');\n",
       "        icon_img.addClass('ui-button-icon-primary ui-icon');\n",
       "        icon_img.addClass(image);\n",
       "        icon_img.addClass('ui-corner-all');\n",
       "\n",
       "        var tooltip_span = $('<span/>');\n",
       "        tooltip_span.addClass('ui-button-text');\n",
       "        tooltip_span.html(tooltip);\n",
       "\n",
       "        button.append(icon_img);\n",
       "        button.append(tooltip_span);\n",
       "\n",
       "        nav_element.append(button);\n",
       "    }\n",
       "\n",
       "    var fmt_picker_span = $('<span/>');\n",
       "\n",
       "    var fmt_picker = $('<select/>');\n",
       "    fmt_picker.addClass('mpl-toolbar-option ui-widget ui-widget-content');\n",
       "    fmt_picker_span.append(fmt_picker);\n",
       "    nav_element.append(fmt_picker_span);\n",
       "    this.format_dropdown = fmt_picker[0];\n",
       "\n",
       "    for (var ind in mpl.extensions) {\n",
       "        var fmt = mpl.extensions[ind];\n",
       "        var option = $(\n",
       "            '<option/>', {selected: fmt === mpl.default_extension}).html(fmt);\n",
       "        fmt_picker.append(option);\n",
       "    }\n",
       "\n",
       "    // Add hover states to the ui-buttons\n",
       "    $( \".ui-button\" ).hover(\n",
       "        function() { $(this).addClass(\"ui-state-hover\");},\n",
       "        function() { $(this).removeClass(\"ui-state-hover\");}\n",
       "    );\n",
       "\n",
       "    var status_bar = $('<span class=\"mpl-message\"/>');\n",
       "    nav_element.append(status_bar);\n",
       "    this.message = status_bar[0];\n",
       "}\n",
       "\n",
       "mpl.figure.prototype.request_resize = function(x_pixels, y_pixels) {\n",
       "    // Request matplotlib to resize the figure. Matplotlib will then trigger a resize in the client,\n",
       "    // which will in turn request a refresh of the image.\n",
       "    this.send_message('resize', {'width': x_pixels, 'height': y_pixels});\n",
       "}\n",
       "\n",
       "mpl.figure.prototype.send_message = function(type, properties) {\n",
       "    properties['type'] = type;\n",
       "    properties['figure_id'] = this.id;\n",
       "    this.ws.send(JSON.stringify(properties));\n",
       "}\n",
       "\n",
       "mpl.figure.prototype.send_draw_message = function() {\n",
       "    if (!this.waiting) {\n",
       "        this.waiting = true;\n",
       "        this.ws.send(JSON.stringify({type: \"draw\", figure_id: this.id}));\n",
       "    }\n",
       "}\n",
       "\n",
       "\n",
       "mpl.figure.prototype.handle_save = function(fig, msg) {\n",
       "    var format_dropdown = fig.format_dropdown;\n",
       "    var format = format_dropdown.options[format_dropdown.selectedIndex].value;\n",
       "    fig.ondownload(fig, format);\n",
       "}\n",
       "\n",
       "\n",
       "mpl.figure.prototype.handle_resize = function(fig, msg) {\n",
       "    var size = msg['size'];\n",
       "    if (size[0] != fig.canvas.width || size[1] != fig.canvas.height) {\n",
       "        fig._resize_canvas(size[0], size[1]);\n",
       "        fig.send_message(\"refresh\", {});\n",
       "    };\n",
       "}\n",
       "\n",
       "mpl.figure.prototype.handle_rubberband = function(fig, msg) {\n",
       "    var x0 = msg['x0'] / mpl.ratio;\n",
       "    var y0 = (fig.canvas.height - msg['y0']) / mpl.ratio;\n",
       "    var x1 = msg['x1'] / mpl.ratio;\n",
       "    var y1 = (fig.canvas.height - msg['y1']) / mpl.ratio;\n",
       "    x0 = Math.floor(x0) + 0.5;\n",
       "    y0 = Math.floor(y0) + 0.5;\n",
       "    x1 = Math.floor(x1) + 0.5;\n",
       "    y1 = Math.floor(y1) + 0.5;\n",
       "    var min_x = Math.min(x0, x1);\n",
       "    var min_y = Math.min(y0, y1);\n",
       "    var width = Math.abs(x1 - x0);\n",
       "    var height = Math.abs(y1 - y0);\n",
       "\n",
       "    fig.rubberband_context.clearRect(\n",
       "        0, 0, fig.canvas.width / mpl.ratio, fig.canvas.height / mpl.ratio);\n",
       "\n",
       "    fig.rubberband_context.strokeRect(min_x, min_y, width, height);\n",
       "}\n",
       "\n",
       "mpl.figure.prototype.handle_figure_label = function(fig, msg) {\n",
       "    // Updates the figure title.\n",
       "    fig.header.textContent = msg['label'];\n",
       "}\n",
       "\n",
       "mpl.figure.prototype.handle_cursor = function(fig, msg) {\n",
       "    var cursor = msg['cursor'];\n",
       "    switch(cursor)\n",
       "    {\n",
       "    case 0:\n",
       "        cursor = 'pointer';\n",
       "        break;\n",
       "    case 1:\n",
       "        cursor = 'default';\n",
       "        break;\n",
       "    case 2:\n",
       "        cursor = 'crosshair';\n",
       "        break;\n",
       "    case 3:\n",
       "        cursor = 'move';\n",
       "        break;\n",
       "    }\n",
       "    fig.rubberband_canvas.style.cursor = cursor;\n",
       "}\n",
       "\n",
       "mpl.figure.prototype.handle_message = function(fig, msg) {\n",
       "    fig.message.textContent = msg['message'];\n",
       "}\n",
       "\n",
       "mpl.figure.prototype.handle_draw = function(fig, msg) {\n",
       "    // Request the server to send over a new figure.\n",
       "    fig.send_draw_message();\n",
       "}\n",
       "\n",
       "mpl.figure.prototype.handle_image_mode = function(fig, msg) {\n",
       "    fig.image_mode = msg['mode'];\n",
       "}\n",
       "\n",
       "mpl.figure.prototype.updated_canvas_event = function() {\n",
       "    // Called whenever the canvas gets updated.\n",
       "    this.send_message(\"ack\", {});\n",
       "}\n",
       "\n",
       "// A function to construct a web socket function for onmessage handling.\n",
       "// Called in the figure constructor.\n",
       "mpl.figure.prototype._make_on_message_function = function(fig) {\n",
       "    return function socket_on_message(evt) {\n",
       "        if (evt.data instanceof Blob) {\n",
       "            /* FIXME: We get \"Resource interpreted as Image but\n",
       "             * transferred with MIME type text/plain:\" errors on\n",
       "             * Chrome.  But how to set the MIME type?  It doesn't seem\n",
       "             * to be part of the websocket stream */\n",
       "            evt.data.type = \"image/png\";\n",
       "\n",
       "            /* Free the memory for the previous frames */\n",
       "            if (fig.imageObj.src) {\n",
       "                (window.URL || window.webkitURL).revokeObjectURL(\n",
       "                    fig.imageObj.src);\n",
       "            }\n",
       "\n",
       "            fig.imageObj.src = (window.URL || window.webkitURL).createObjectURL(\n",
       "                evt.data);\n",
       "            fig.updated_canvas_event();\n",
       "            fig.waiting = false;\n",
       "            return;\n",
       "        }\n",
       "        else if (typeof evt.data === 'string' && evt.data.slice(0, 21) == \"data:image/png;base64\") {\n",
       "            fig.imageObj.src = evt.data;\n",
       "            fig.updated_canvas_event();\n",
       "            fig.waiting = false;\n",
       "            return;\n",
       "        }\n",
       "\n",
       "        var msg = JSON.parse(evt.data);\n",
       "        var msg_type = msg['type'];\n",
       "\n",
       "        // Call the  \"handle_{type}\" callback, which takes\n",
       "        // the figure and JSON message as its only arguments.\n",
       "        try {\n",
       "            var callback = fig[\"handle_\" + msg_type];\n",
       "        } catch (e) {\n",
       "            console.log(\"No handler for the '\" + msg_type + \"' message type: \", msg);\n",
       "            return;\n",
       "        }\n",
       "\n",
       "        if (callback) {\n",
       "            try {\n",
       "                // console.log(\"Handling '\" + msg_type + \"' message: \", msg);\n",
       "                callback(fig, msg);\n",
       "            } catch (e) {\n",
       "                console.log(\"Exception inside the 'handler_\" + msg_type + \"' callback:\", e, e.stack, msg);\n",
       "            }\n",
       "        }\n",
       "    };\n",
       "}\n",
       "\n",
       "// from http://stackoverflow.com/questions/1114465/getting-mouse-location-in-canvas\n",
       "mpl.findpos = function(e) {\n",
       "    //this section is from http://www.quirksmode.org/js/events_properties.html\n",
       "    var targ;\n",
       "    if (!e)\n",
       "        e = window.event;\n",
       "    if (e.target)\n",
       "        targ = e.target;\n",
       "    else if (e.srcElement)\n",
       "        targ = e.srcElement;\n",
       "    if (targ.nodeType == 3) // defeat Safari bug\n",
       "        targ = targ.parentNode;\n",
       "\n",
       "    // jQuery normalizes the pageX and pageY\n",
       "    // pageX,Y are the mouse positions relative to the document\n",
       "    // offset() returns the position of the element relative to the document\n",
       "    var x = e.pageX - $(targ).offset().left;\n",
       "    var y = e.pageY - $(targ).offset().top;\n",
       "\n",
       "    return {\"x\": x, \"y\": y};\n",
       "};\n",
       "\n",
       "/*\n",
       " * return a copy of an object with only non-object keys\n",
       " * we need this to avoid circular references\n",
       " * http://stackoverflow.com/a/24161582/3208463\n",
       " */\n",
       "function simpleKeys (original) {\n",
       "  return Object.keys(original).reduce(function (obj, key) {\n",
       "    if (typeof original[key] !== 'object')\n",
       "        obj[key] = original[key]\n",
       "    return obj;\n",
       "  }, {});\n",
       "}\n",
       "\n",
       "mpl.figure.prototype.mouse_event = function(event, name) {\n",
       "    var canvas_pos = mpl.findpos(event)\n",
       "\n",
       "    if (name === 'button_press')\n",
       "    {\n",
       "        this.canvas.focus();\n",
       "        this.canvas_div.focus();\n",
       "    }\n",
       "\n",
       "    var x = canvas_pos.x * mpl.ratio;\n",
       "    var y = canvas_pos.y * mpl.ratio;\n",
       "\n",
       "    this.send_message(name, {x: x, y: y, button: event.button,\n",
       "                             step: event.step,\n",
       "                             guiEvent: simpleKeys(event)});\n",
       "\n",
       "    /* This prevents the web browser from automatically changing to\n",
       "     * the text insertion cursor when the button is pressed.  We want\n",
       "     * to control all of the cursor setting manually through the\n",
       "     * 'cursor' event from matplotlib */\n",
       "    event.preventDefault();\n",
       "    return false;\n",
       "}\n",
       "\n",
       "mpl.figure.prototype._key_event_extra = function(event, name) {\n",
       "    // Handle any extra behaviour associated with a key event\n",
       "}\n",
       "\n",
       "mpl.figure.prototype.key_event = function(event, name) {\n",
       "\n",
       "    // Prevent repeat events\n",
       "    if (name == 'key_press')\n",
       "    {\n",
       "        if (event.which === this._key)\n",
       "            return;\n",
       "        else\n",
       "            this._key = event.which;\n",
       "    }\n",
       "    if (name == 'key_release')\n",
       "        this._key = null;\n",
       "\n",
       "    var value = '';\n",
       "    if (event.ctrlKey && event.which != 17)\n",
       "        value += \"ctrl+\";\n",
       "    if (event.altKey && event.which != 18)\n",
       "        value += \"alt+\";\n",
       "    if (event.shiftKey && event.which != 16)\n",
       "        value += \"shift+\";\n",
       "\n",
       "    value += 'k';\n",
       "    value += event.which.toString();\n",
       "\n",
       "    this._key_event_extra(event, name);\n",
       "\n",
       "    this.send_message(name, {key: value,\n",
       "                             guiEvent: simpleKeys(event)});\n",
       "    return false;\n",
       "}\n",
       "\n",
       "mpl.figure.prototype.toolbar_button_onclick = function(name) {\n",
       "    if (name == 'download') {\n",
       "        this.handle_save(this, null);\n",
       "    } else {\n",
       "        this.send_message(\"toolbar_button\", {name: name});\n",
       "    }\n",
       "};\n",
       "\n",
       "mpl.figure.prototype.toolbar_button_onmouseover = function(tooltip) {\n",
       "    this.message.textContent = tooltip;\n",
       "};\n",
       "mpl.toolbar_items = [[\"Home\", \"Reset original view\", \"fa fa-home icon-home\", \"home\"], [\"Back\", \"Back to previous view\", \"fa fa-arrow-left icon-arrow-left\", \"back\"], [\"Forward\", \"Forward to next view\", \"fa fa-arrow-right icon-arrow-right\", \"forward\"], [\"\", \"\", \"\", \"\"], [\"Pan\", \"Pan axes with left mouse, zoom with right\", \"fa fa-arrows icon-move\", \"pan\"], [\"Zoom\", \"Zoom to rectangle\", \"fa fa-square-o icon-check-empty\", \"zoom\"], [\"\", \"\", \"\", \"\"], [\"Download\", \"Download plot\", \"fa fa-floppy-o icon-save\", \"download\"]];\n",
       "\n",
       "mpl.extensions = [\"eps\", \"jpeg\", \"pdf\", \"png\", \"ps\", \"raw\", \"svg\", \"tif\"];\n",
       "\n",
       "mpl.default_extension = \"png\";var comm_websocket_adapter = function(comm) {\n",
       "    // Create a \"websocket\"-like object which calls the given IPython comm\n",
       "    // object with the appropriate methods. Currently this is a non binary\n",
       "    // socket, so there is still some room for performance tuning.\n",
       "    var ws = {};\n",
       "\n",
       "    ws.close = function() {\n",
       "        comm.close()\n",
       "    };\n",
       "    ws.send = function(m) {\n",
       "        //console.log('sending', m);\n",
       "        comm.send(m);\n",
       "    };\n",
       "    // Register the callback with on_msg.\n",
       "    comm.on_msg(function(msg) {\n",
       "        //console.log('receiving', msg['content']['data'], msg);\n",
       "        // Pass the mpl event to the overridden (by mpl) onmessage function.\n",
       "        ws.onmessage(msg['content']['data'])\n",
       "    });\n",
       "    return ws;\n",
       "}\n",
       "\n",
       "mpl.mpl_figure_comm = function(comm, msg) {\n",
       "    // This is the function which gets called when the mpl process\n",
       "    // starts-up an IPython Comm through the \"matplotlib\" channel.\n",
       "\n",
       "    var id = msg.content.data.id;\n",
       "    // Get hold of the div created by the display call when the Comm\n",
       "    // socket was opened in Python.\n",
       "    var element = $(\"#\" + id);\n",
       "    var ws_proxy = comm_websocket_adapter(comm)\n",
       "\n",
       "    function ondownload(figure, format) {\n",
       "        window.open(figure.imageObj.src);\n",
       "    }\n",
       "\n",
       "    var fig = new mpl.figure(id, ws_proxy,\n",
       "                           ondownload,\n",
       "                           element.get(0));\n",
       "\n",
       "    // Call onopen now - mpl needs it, as it is assuming we've passed it a real\n",
       "    // web socket which is closed, not our websocket->open comm proxy.\n",
       "    ws_proxy.onopen();\n",
       "\n",
       "    fig.parent_element = element.get(0);\n",
       "    fig.cell_info = mpl.find_output_cell(\"<div id='\" + id + \"'></div>\");\n",
       "    if (!fig.cell_info) {\n",
       "        console.error(\"Failed to find cell for figure\", id, fig);\n",
       "        return;\n",
       "    }\n",
       "\n",
       "    var output_index = fig.cell_info[2]\n",
       "    var cell = fig.cell_info[0];\n",
       "\n",
       "};\n",
       "\n",
       "mpl.figure.prototype.handle_close = function(fig, msg) {\n",
       "    var width = fig.canvas.width/mpl.ratio\n",
       "    fig.root.unbind('remove')\n",
       "\n",
       "    // Update the output cell to use the data from the current canvas.\n",
       "    fig.push_to_output();\n",
       "    var dataURL = fig.canvas.toDataURL();\n",
       "    // Re-enable the keyboard manager in IPython - without this line, in FF,\n",
       "    // the notebook keyboard shortcuts fail.\n",
       "    IPython.keyboard_manager.enable()\n",
       "    $(fig.parent_element).html('<img src=\"' + dataURL + '\" width=\"' + width + '\">');\n",
       "    fig.close_ws(fig, msg);\n",
       "}\n",
       "\n",
       "mpl.figure.prototype.close_ws = function(fig, msg){\n",
       "    fig.send_message('closing', msg);\n",
       "    // fig.ws.close()\n",
       "}\n",
       "\n",
       "mpl.figure.prototype.push_to_output = function(remove_interactive) {\n",
       "    // Turn the data on the canvas into data in the output cell.\n",
       "    var width = this.canvas.width/mpl.ratio\n",
       "    var dataURL = this.canvas.toDataURL();\n",
       "    this.cell_info[1]['text/html'] = '<img src=\"' + dataURL + '\" width=\"' + width + '\">';\n",
       "}\n",
       "\n",
       "mpl.figure.prototype.updated_canvas_event = function() {\n",
       "    // Tell IPython that the notebook contents must change.\n",
       "    IPython.notebook.set_dirty(true);\n",
       "    this.send_message(\"ack\", {});\n",
       "    var fig = this;\n",
       "    // Wait a second, then push the new image to the DOM so\n",
       "    // that it is saved nicely (might be nice to debounce this).\n",
       "    setTimeout(function () { fig.push_to_output() }, 1000);\n",
       "}\n",
       "\n",
       "mpl.figure.prototype._init_toolbar = function() {\n",
       "    var fig = this;\n",
       "\n",
       "    var nav_element = $('<div/>');\n",
       "    nav_element.attr('style', 'width: 100%');\n",
       "    this.root.append(nav_element);\n",
       "\n",
       "    // Define a callback function for later on.\n",
       "    function toolbar_event(event) {\n",
       "        return fig.toolbar_button_onclick(event['data']);\n",
       "    }\n",
       "    function toolbar_mouse_event(event) {\n",
       "        return fig.toolbar_button_onmouseover(event['data']);\n",
       "    }\n",
       "\n",
       "    for(var toolbar_ind in mpl.toolbar_items){\n",
       "        var name = mpl.toolbar_items[toolbar_ind][0];\n",
       "        var tooltip = mpl.toolbar_items[toolbar_ind][1];\n",
       "        var image = mpl.toolbar_items[toolbar_ind][2];\n",
       "        var method_name = mpl.toolbar_items[toolbar_ind][3];\n",
       "\n",
       "        if (!name) { continue; };\n",
       "\n",
       "        var button = $('<button class=\"btn btn-default\" href=\"#\" title=\"' + name + '\"><i class=\"fa ' + image + ' fa-lg\"></i></button>');\n",
       "        button.click(method_name, toolbar_event);\n",
       "        button.mouseover(tooltip, toolbar_mouse_event);\n",
       "        nav_element.append(button);\n",
       "    }\n",
       "\n",
       "    // Add the status bar.\n",
       "    var status_bar = $('<span class=\"mpl-message\" style=\"text-align:right; float: right;\"/>');\n",
       "    nav_element.append(status_bar);\n",
       "    this.message = status_bar[0];\n",
       "\n",
       "    // Add the close button to the window.\n",
       "    var buttongrp = $('<div class=\"btn-group inline pull-right\"></div>');\n",
       "    var button = $('<button class=\"btn btn-mini btn-primary\" href=\"#\" title=\"Stop Interaction\"><i class=\"fa fa-power-off icon-remove icon-large\"></i></button>');\n",
       "    button.click(function (evt) { fig.handle_close(fig, {}); } );\n",
       "    button.mouseover('Stop Interaction', toolbar_mouse_event);\n",
       "    buttongrp.append(button);\n",
       "    var titlebar = this.root.find($('.ui-dialog-titlebar'));\n",
       "    titlebar.prepend(buttongrp);\n",
       "}\n",
       "\n",
       "mpl.figure.prototype._root_extra_style = function(el){\n",
       "    var fig = this\n",
       "    el.on(\"remove\", function(){\n",
       "\tfig.close_ws(fig, {});\n",
       "    });\n",
       "}\n",
       "\n",
       "mpl.figure.prototype._canvas_extra_style = function(el){\n",
       "    // this is important to make the div 'focusable\n",
       "    el.attr('tabindex', 0)\n",
       "    // reach out to IPython and tell the keyboard manager to turn it's self\n",
       "    // off when our div gets focus\n",
       "\n",
       "    // location in version 3\n",
       "    if (IPython.notebook.keyboard_manager) {\n",
       "        IPython.notebook.keyboard_manager.register_events(el);\n",
       "    }\n",
       "    else {\n",
       "        // location in version 2\n",
       "        IPython.keyboard_manager.register_events(el);\n",
       "    }\n",
       "\n",
       "}\n",
       "\n",
       "mpl.figure.prototype._key_event_extra = function(event, name) {\n",
       "    var manager = IPython.notebook.keyboard_manager;\n",
       "    if (!manager)\n",
       "        manager = IPython.keyboard_manager;\n",
       "\n",
       "    // Check for shift+enter\n",
       "    if (event.shiftKey && event.which == 13) {\n",
       "        this.canvas_div.blur();\n",
       "        // select the cell after this one\n",
       "        var index = IPython.notebook.find_cell_index(this.cell_info[0]);\n",
       "        IPython.notebook.select(index + 1);\n",
       "    }\n",
       "}\n",
       "\n",
       "mpl.figure.prototype.handle_save = function(fig, msg) {\n",
       "    fig.ondownload(fig, null);\n",
       "}\n",
       "\n",
       "\n",
       "mpl.find_output_cell = function(html_output) {\n",
       "    // Return the cell and output element which can be found *uniquely* in the notebook.\n",
       "    // Note - this is a bit hacky, but it is done because the \"notebook_saving.Notebook\"\n",
       "    // IPython event is triggered only after the cells have been serialised, which for\n",
       "    // our purposes (turning an active figure into a static one), is too late.\n",
       "    var cells = IPython.notebook.get_cells();\n",
       "    var ncells = cells.length;\n",
       "    for (var i=0; i<ncells; i++) {\n",
       "        var cell = cells[i];\n",
       "        if (cell.cell_type === 'code'){\n",
       "            for (var j=0; j<cell.output_area.outputs.length; j++) {\n",
       "                var data = cell.output_area.outputs[j];\n",
       "                if (data.data) {\n",
       "                    // IPython >= 3 moved mimebundle to data attribute of output\n",
       "                    data = data.data;\n",
       "                }\n",
       "                if (data['text/html'] == html_output) {\n",
       "                    return [cell, data, j];\n",
       "                }\n",
       "            }\n",
       "        }\n",
       "    }\n",
       "}\n",
       "\n",
       "// Register the function which deals with the matplotlib target/channel.\n",
       "// The kernel may be null if the page has been refreshed.\n",
       "if (IPython.notebook.kernel != null) {\n",
       "    IPython.notebook.kernel.comm_manager.register_target('matplotlib', mpl.mpl_figure_comm);\n",
       "}\n"
      ],
      "text/plain": [
       "<IPython.core.display.Javascript object>"
      ]
     },
     "metadata": {},
     "output_type": "display_data"
    },
    {
     "data": {
      "text/html": [
       "<img src=\"data:image/png;base64,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\" width=\"800\">"
      ],
      "text/plain": [
       "<IPython.core.display.HTML object>"
      ]
     },
     "metadata": {},
     "output_type": "display_data"
    },
    {
     "data": {
      "application/vnd.jupyter.widget-view+json": {
       "model_id": "7d403295c1964fe78c519191c0652fff",
       "version_major": 2,
       "version_minor": 0
      },
      "text/plain": [
       "interactive(children=(IntSlider(value=1000, description='M', max=2000, min=100, step=10), FloatSlider(value=12…"
      ]
     },
     "metadata": {},
     "output_type": "display_data"
    }
   ],
   "source": [
    "%matplotlib notebook\n",
    "from livePlot import *\n",
    "plot = livePlot()"
   ]
  },
  {
   "cell_type": "markdown",
   "metadata": {},
   "source": [
    "\n",
    "## Long-run Dynamics\n",
    "\n",
    "The distinction between long-run and short-run is critical for understanding dynamics that develop between the money market and the non-money goods market. In the long-run, the price level fully reflects changes in $AD$, whether the shift in $AD$ is a result of a change in $M$ or a change in $V$. In the short-run, changes in real income absorb changes in $AD$. While long-run changes are essentially inevitable, short-run changes do not ever need to occur. If they are observed, they occur only in the short-run.[1] After investigating long-run dynamics, we will consider short-run dynamics.\n",
    "\n",
    "### Case 1: Aggregate Demand Increases\n",
    "\n",
    "> Figure 2: Aggregate Demand Increases\n",
    "\n",
    "An increase in $AD$ represents an increase in the value of total expenditures across the economy (Figure 2). By definition, this value of total expenditures matches the value of nominal income. In the long-run, an increase in $AD$ will lift the price level from $P_0$ to $P_1$. Notice that this results in an increase in nominal income from a value of $P_0y_0$ to $P_1y_0$. This increase in nominal income does not entail an increase in real income in the long-run. This would only happen if the long-run aggregate supply shifted to the right and would be represented by a $y_1$ whose value is greater than $y_0$.\n",
    "\n",
    "> Figure 3: Decrease in Supply of Money\n",
    "\n",
    "The increase in $AD$ can come from one of two sources: either an increase in the quantity of money, $M$, or an increase in portfolio demand, $k$. We will consider the more intuitive case of an increase in $M$ first. If the increase in the quantity of money occurs when the economy is already in equilibrium, the shift will most obviously change the price of money, $P_m$. Since $P_m=\\frac{1}{P}$, the a change in the average price of money is simply the corollary to amovement of the price level in the opposite direction.\n",
    "\n",
    "The increase in the quantity of money represents a movement along the demand curve. This demand curve includes both portfolio demand, $k$, and transactions demand, $Py$. For now, we assume that these sources of demand remain constant. Thus, the increase from $M_0$ to $M_1$ translates directly to a fall in $P_m$ from $P_{m_0}$ to $P_{m_1}$.\n",
    "\n",
    "> Figure 4: Decrease in Portfolio Demand for Money\n",
    "\n",
    "Only a shift in $k$ represents an inverse change in portfolio demand as $k$ represents the portion of the money stock that individuals choose to hold throughout the period under consideration. Since $k$ is the inverse of $V$, so long as $V$ is greater than 1, then $k$ is a fraction less than 1. As with the increase in $M$, a fall in $k$ leads to a fall in the $P_m$ from $P_{m_0}$ to $P_{m_1}$. This coincides with an increase in $P$ from $P_0$ to $P_1$. Thus, a fall in the value of money is tantamount to a rise in the price level. This fall in the price level means that the new value of nominal income, $P_1y_0$ is less than the old value, $P_0y_0$.\n",
    "\n",
    "# Case 2: Aggregate Demand Falls\n",
    "\n",
    "> Figure 5: Increase in AD\n",
    "\n",
    "A fall in $AD$ represents an decrease in the value of total expenditures across the economy (Figure 6). This results in a fall in nominal income. In the long-run, an fall in $AD$ will depress the price level from $P_0$ to $P_1$. Notice that this results in a decrease in nominal income from a value of $P_0y_0$ to $P_1y_0$. The long-run level of real income, $y_0$, remains unaffected. Just as a rise in $M$ increases $AD$, a fall in $AD$ may occur due to a shrinking of the money stock. With less money in the economy, the previous equilibrium level of prices could only be sustained if individuals tended to decrease their cash holdings in response. For clarity, we consider cases where only one of the variables comprising aggregate demand changes.\n",
    "\n",
    "> Figure 6: Increase in Supply of Money\n",
    ">\n",
    "> Figure 7: Increase in Portfolio Demand for Money\n",
    "\n",
    "$AD$ may also fall due to an increase in demand to hold money. This increase in portfolio demand for money, $k$, is the same as a fall in the average velocity of money, $V$. An increase in demand to hold money leaves less money available for expenditure. This exerts a negative influence on prices and, necessarily, a positive influence on the price of money. Just as with a fall in the money supply, the equilibrium price of money rises from $P_{M_0}$ to $P_{M_1}$.\n",
    "\n",
    "## Short-run Dynamics: Excess Supply and Excess Demand\n",
    "\n",
    "The short-run is defined by any period of time that real income responds to changes in aggregate demand. The short-run is defined by a short-run aggregate supply ($SRAS$) is perfectly elastic. This means that it is horizontal, set at the value of the initial price level.  We assume that in the short-run, quantities adjust before the price level. In the long-run, any value of $y$ that is less than $y_0$ is less than the full potential that can be produced in the long-run. Any value of yy that is greater than $y_0$ cannot be sustained as it would demand that producers sustain real losses as input prices are bid upward. An scess demand for goods imply an excess supply of money and excess supply of goods implies an excess demand for money.\n",
    "\n",
    "It is not necessary that the short-run outcome actually occur. If forward looking agents expect that there will be a change in total expenditures and that this change will affect the price of particular goods, they may adjust these prices downward in expectation of the price change. However, there are cases where investors may be less willing to realize a loss by the sale of a home, such as might occur in the real estate market during a recession. Homeowners that have purchased their home with a mortgage will likely avoid such a sale if the value of the home falls below what is owed on the mortgage. In situations like this, assets that would otherwise be sold may remain unsold, leading to a fall in real income. This will be discussed in greater detail in the discussion of business cycles in a later chapter.\n",
    "\n",
    "### Case 1: Excess Supply of Money and Excess Demand for Goods\n",
    "\n",
    "> Figure 8: Increase in AD: Excess Demand for Goods\n",
    "\n",
    "If aggregate demand increases, the immediate effect will be for consumers to purchase goods at a rate that is not sustainable. If producers do not recognize this fact immediately, they may increase the quantity of goods produced. To the extent that prices rise as factor costs are bid up, the total value of production will be constrained compared to if the price level remained static.\n",
    "\n",
    "The excess supply of goods at price level $P_0$, defined by $y_t - y_0$, necessarily implies an excess demand for money. This occurs either by an increase in the quantity of money supplied to the market or by a relinquishing of money held on reserve by economic actors. The first instance is represented by an increase in the money stock. The latter instance is represented by a fall in portfolio demand for money, which is equivalent to a rise in velocity. As the quantity of money increase from $M_0$ to $M_1$, individuals find themselves holding more money than they desire at given prices. As individuals spend money, price of goods begin to rise on average as signified by an increase in the price level. Since the price of money, $P_M$, is the inverse of the price level, $P$, a rise in the price level indicates a fall in the price of money. Once the price of money falls from $P_{M_0}$ to $P_{M_1}$, the excess supply of money is offset.\n",
    "\n",
    "> Figure 9: Increase in Supply of Money: Excess Supply of Money\n",
    "> Figure 10: Decrease in Portfolio Demand for Money: Excess Supply of Money\n",
    "\n",
    "Nearly the same proces occurs when there is a fall in portfolio demand for money. Since consumers are willing to spend a greater of share of their income, they can increase their consumption of goods to the extent that prices do not rise in response to the new expenditure. At the given price level, $P_0$, consumers desire to hold less money. The difference between $M_0$ and $M_t$ represents the excess balances that consumers plan to spend. As these funds are spent, the price level moves from $P_0$ to $P_1$ and the price of money falls from $P_{M_0}$ to $P_{M_1}$. The fall in the value of money moves the quantity of money demanded back to an equilibrium where the quantity demanded of money matches the quantity supplied.\n",
    "\n",
    "### Case 2: Excess Demand for Money and Excess Supply of Goods\n",
    "\n",
    "> Figure 11: Decrease in AD: Excess Supply of Goods\n",
    "\n",
    "In the short-run, a fall in aggregate demand leads to a scenario where not all goods available in the market are purchased. If producers do not instantly respond to the change in prices, there will be more goods produced than can be purchased given the quantity of money available to be spent at the initial price level, $P_0$. \n",
    "\n",
    "The excess supply of goods is represented by the difference of $y_0$ and $y_t$. The fall in expenditures that drive the shift from $AD_0$ to $AD_1$ must occur either due to a fall in the quantity of money or a fall in the velocity of money which is equivalently an increase in portfolio demand for money. In the case the supply of money falls, agents must adjust their planned expenditures to account for the fall in the quantity of available funds. At $P_{M_0}$ the quantity of money demanded, $M_0$, is greater than the available quantity of money, $M_1$. If their demand to hold money does not change, this must occur by a fall expenditures so long as the price of money does not increase from $P_{M_0}$ to $P_{M_1}$P in response to the fall in supply of money.\n",
    "\n",
    "> Figure 12: Decrease in Supply of Money: Excess Demand for Money\n",
    "> Figure 13: Increase in Portfolio Demand for Money: Excess Demand for Money\n",
    "\n",
    "The same fall in aggregate demand may occur as a result of an increase in demand to hold money on reserve. This increase in portfolio demand leads to an increase in the price of money in the long-run. Before prices respond to the change in demand for money, individuals will demand to hold more money than will allow for the clearing of the goods market. The excess demand for money, $M_t - M_0$, exactly matches the value of goods that remain unsold $y_0 - y_t$.\n",
    "\n",
    "## Aggregate Demand Driven Business Cycles\n",
    "\n",
    "Aggregate Demand Driven Business Cycles\n",
    "Excess demand and excess supplies play a fundamental role in explain macroeconomic fluctuations. Presuming that the economy produces a steady-state level of income and capital, deviations from these levels represent either an inflationary boom or a deflationary recession. Neither of these outcomes are necessary by a change in aggregate demand. Only in cases where prices are slow to adjust to changes in the money market will such macroeconomic disequilibrium occur. \n",
    "\n",
    "> Figure 13: RGNP and Increasing Central Bank Demand for Gold\n",
    "\n",
    "This phenomenon occurred in an extreme manner during the Great Depression as many central banks their gold holdings without also increasing the quantity of central bank notes in circulation. The result was a fall in real income and substantial deflation, both of which occurred at an international scale. While there were many other factors, which include policies that disrupted credit, labor, and goods markets, the disruption of money markets by central banks was a feature of the Great Depression and is commonly a driving force of relatively extreme economic depressions.\n",
    "\n",
    "## Factors Unexplained by Aggregate Analysis\n",
    "\n",
    "Although aggregate analysis provides a powerful description of the macroeconomy, it does not capture many elements that are at play in the economic process. Consider the effects of money creation. There may result an economic boom due to a confusion between real and nominal profits. Producers, especially those who receive the new money first, will invest in expectation of earning increased profits. Some early producers may succeed in this endeavor, but as more producers enter the market, the price of production inputs are bid up. \n",
    "\n",
    "The expected increase in profits by investors often leads to construction of productive factors that  would otherwise not be created. Since we live in a world of scarcity, this means that productive processes that are producing goods that consumers truly value will not be created. The creation of new capital that is the result of this misallocation cannot be cheaply reversed. The process of readjustment of the capital structure may result in depression, or it may  result in the sustained production of relatively lower level of real income due to the misallocation of productive factors that will remain in use even after being repriced once the boom has slowed. \n",
    "\n",
    "Although aggregate analysis fails to capture this, this does not mean that the aggregate factors are not exerting force on the economic system. Macroeconomic forces described here are always at play. There are simply other factors that impact economic activity alongside these macroeconomic factors.\n",
    "\n",
    "# Conclusion\n",
    "\n",
    "Aggregate demand is defined as total expenditures. The value of real income that can be derived from these expenditures changes inversely to the price level. The economy tends to be subject to equillibrating forces such that the price level moves to a level that enables the production and purchase of level of output that is sustainable in the long-run. Deviance from the equilibrium price level represent movements away from the sustainable level of output and can drive macroeconomic fluctuations.\n",
    "\n",
    "## Footnotes \n",
    "\n",
    "[1] In reality, short-run effects can impact the capital structure, thereby influencing the production structure in different markets and leading the lasting equilibrium structure that is relatively inefficient compared to cases where the capital structure is not distorted by $AD$ shocks."
   ]
  }
 ],
 "metadata": {
  "kernelspec": {
   "display_name": "Python 3",
   "language": "python",
   "name": "python3"
  },
  "language_info": {
   "codemirror_mode": {
    "name": "ipython",
    "version": 3
   },
   "file_extension": ".py",
   "mimetype": "text/x-python",
   "name": "python",
   "nbconvert_exporter": "python",
   "pygments_lexer": "ipython3",
   "version": "3.7.6"
  },
  "widgets": {
   "application/vnd.jupyter.widget-state+json": {
    "state": {
     "01722fde7f1e4726a767fdd9d3a00602": {
      "model_module": "@jupyter-widgets/base",
      "model_module_version": "1.2.0",
      "model_name": "LayoutModel",
      "state": {}
     },
     "02c53153eb5d45688642be50ccb18f34": {
      "model_module": "@jupyter-widgets/controls",
      "model_module_version": "1.5.0",
      "model_name": "FloatSliderModel",
      "state": {
       "description": "V",
       "layout": "IPY_MODEL_24ce228b7aa845b2b417ecf164703bb2",
       "max": 16,
       "min": 0.8,
       "step": 0.1,
       "style": "IPY_MODEL_2b35c4a39df9401b9b1a05aa88eba7ca",
       "value": 12
      }
     },
     "031544f030c449098b36d0928fcc7eca": {
      "model_module": "@jupyter-widgets/controls",
      "model_module_version": "1.5.0",
      "model_name": "SliderStyleModel",
      "state": {
       "description_width": ""
      }
     },
     "03b56f4dee7f406baa11706ca0be8c7c": {
      "model_module": "@jupyter-widgets/base",
      "model_module_version": "1.2.0",
      "model_name": "LayoutModel",
      "state": {}
     },
     "0426472a84cc41ca963a04c7a20d0532": {
      "model_module": "@jupyter-widgets/base",
      "model_module_version": "1.2.0",
      "model_name": "LayoutModel",
      "state": {}
     },
     "0684197412b84bd2951101024aab8d27": {
      "model_module": "@jupyter-widgets/controls",
      "model_module_version": "1.5.0",
      "model_name": "IntSliderModel",
      "state": {
       "description": "y0",
       "layout": "IPY_MODEL_3040f6c3e4224cec8c86c5e4935a74ed",
       "max": 1000,
       "min": 250,
       "step": 5,
       "style": "IPY_MODEL_cf4703dc555c4bed891a8e7989c20195",
       "value": 250
      }
     },
     "06d5959ce78b47b8a028698746abfd81": {
      "model_module": "@jupyter-widgets/base",
      "model_module_version": "1.2.0",
      "model_name": "LayoutModel",
      "state": {}
     },
     "0833cae91c824a499bd1bf37420688fb": {
      "model_module": "@jupyter-widgets/controls",
      "model_module_version": "1.5.0",
      "model_name": "IntSliderModel",
      "state": {
       "description": "y0",
       "layout": "IPY_MODEL_2dbe69c1d3b04801b6b178cd9be47e0e",
       "max": 1000,
       "min": 250,
       "step": 5,
       "style": "IPY_MODEL_f188c2d1121c4a559b25a316605bd558",
       "value": 550
      }
     },
     "08cd0337ff1f49c68055ff1209621d27": {
      "model_module": "@jupyter-widgets/controls",
      "model_module_version": "1.5.0",
      "model_name": "SliderStyleModel",
      "state": {
       "description_width": ""
      }
     },
     "0bbcc7350b6343d5a9bf1534226a2b59": {
      "model_module": "@jupyter-widgets/base",
      "model_module_version": "1.2.0",
      "model_name": "LayoutModel",
      "state": {}
     },
     "0bfaff8aeebd46f4b1934270dc5821f4": {
      "model_module": "@jupyter-widgets/controls",
      "model_module_version": "1.5.0",
      "model_name": "SliderStyleModel",
      "state": {
       "description_width": ""
      }
     },
     "0cd357ed6a744cf4aafb15596e2d95a0": {
      "model_module": "@jupyter-widgets/controls",
      "model_module_version": "1.5.0",
      "model_name": "IntSliderModel",
      "state": {
       "description": "M",
       "layout": "IPY_MODEL_20a81c9c72bb4dd590cf7e7bd304bd96",
       "max": 2000,
       "min": 100,
       "step": 10,
       "style": "IPY_MODEL_6db52190285a4e33bfcc5048fba69e15",
       "value": 1000
      }
     },
     "0f9873ea044c4cd0b84bca0f63392f23": {
      "model_module": "@jupyter-widgets/controls",
      "model_module_version": "1.5.0",
      "model_name": "SliderStyleModel",
      "state": {
       "description_width": ""
      }
     },
     "0fbc15984e384b869dc3e8f4e15e17c7": {
      "model_module": "@jupyter-widgets/base",
      "model_module_version": "1.2.0",
      "model_name": "LayoutModel",
      "state": {}
     },
     "0ff87625c54d4d628aa6be7e90ec3d7b": {
      "model_module": "@jupyter-widgets/controls",
      "model_module_version": "1.5.0",
      "model_name": "SliderStyleModel",
      "state": {
       "description_width": ""
      }
     },
     "103e8cfb466d4caeb1f03d1a76755ec1": {
      "model_module": "@jupyter-widgets/controls",
      "model_module_version": "1.5.0",
      "model_name": "IntSliderModel",
      "state": {
       "description": "M",
       "layout": "IPY_MODEL_dc94f9a67770485593550c2c1f4a5c42",
       "max": 2000,
       "min": 100,
       "step": 10,
       "style": "IPY_MODEL_aebe0385024f49e599f85c6d74f08bd9",
       "value": 1330
      }
     },
     "128841b01a2a436d86a2157757da67fc": {
      "model_module": "@jupyter-widgets/base",
      "model_module_version": "1.2.0",
      "model_name": "LayoutModel",
      "state": {}
     },
     "155032d3a7a34297acdee78f41deb17d": {
      "model_module": "@jupyter-widgets/controls",
      "model_module_version": "1.5.0",
      "model_name": "IntSliderModel",
      "state": {
       "description": "y0",
       "layout": "IPY_MODEL_3517dcbec79a40eb91f2de3eabbaae0a",
       "max": 1000,
       "min": 250,
       "step": 5,
       "style": "IPY_MODEL_aafde4ddd907429e89d4f25f032e0191",
       "value": 250
      }
     },
     "1821cc80c03548e4a10c5d3cd10555ca": {
      "model_module": "@jupyter-widgets/controls",
      "model_module_version": "1.5.0",
      "model_name": "FloatSliderModel",
      "state": {
       "description": "V",
       "layout": "IPY_MODEL_03b56f4dee7f406baa11706ca0be8c7c",
       "max": 16,
       "min": 2,
       "step": 0.1,
       "style": "IPY_MODEL_63d0faf74f944c7b846e8af9b8c69f0a",
       "value": 12
      }
     },
     "189aa44d9e4c4c93b53d41301a090dcb": {
      "model_module": "@jupyter-widgets/base",
      "model_module_version": "1.2.0",
      "model_name": "LayoutModel",
      "state": {}
     },
     "1a911c16ec9c4781984b86658caa7c88": {
      "model_module": "@jupyter-widgets/controls",
      "model_module_version": "1.5.0",
      "model_name": "VBoxModel",
      "state": {
       "_dom_classes": [
        "widget-interact"
       ],
       "children": [
        "IPY_MODEL_d257c31226b0447aa2ae805339056610",
        "IPY_MODEL_64ab2db96e7b4511a26cac6aee684dd1",
        "IPY_MODEL_8e020db6efff4e758915d876c87b5613",
        "IPY_MODEL_c34300f22580441da1cff26ebfd100da"
       ],
       "layout": "IPY_MODEL_3223965bd9104096909906bd6e3488cf"
      }
     },
     "1d835be9021749f3927f75ef2b656149": {
      "model_module": "@jupyter-widgets/base",
      "model_module_version": "1.2.0",
      "model_name": "LayoutModel",
      "state": {}
     },
     "1db02c5639c14fb8b9cd2fac9eaf5bfd": {
      "model_module": "@jupyter-widgets/base",
      "model_module_version": "1.2.0",
      "model_name": "LayoutModel",
      "state": {}
     },
     "20a81c9c72bb4dd590cf7e7bd304bd96": {
      "model_module": "@jupyter-widgets/base",
      "model_module_version": "1.2.0",
      "model_name": "LayoutModel",
      "state": {}
     },
     "2476126508084a04b25656723c8cfe40": {
      "model_module": "@jupyter-widgets/base",
      "model_module_version": "1.2.0",
      "model_name": "LayoutModel",
      "state": {}
     },
     "24ce228b7aa845b2b417ecf164703bb2": {
      "model_module": "@jupyter-widgets/base",
      "model_module_version": "1.2.0",
      "model_name": "LayoutModel",
      "state": {}
     },
     "25c1de1f92bc464aa920bf5bced0e029": {
      "model_module": "@jupyter-widgets/controls",
      "model_module_version": "1.5.0",
      "model_name": "SliderStyleModel",
      "state": {
       "description_width": ""
      }
     },
     "27065ce0e1974bb3a52c430b7bac8ee7": {
      "model_module": "@jupyter-widgets/controls",
      "model_module_version": "1.5.0",
      "model_name": "FloatSliderModel",
      "state": {
       "description": "V",
       "layout": "IPY_MODEL_29f2326241344862b0540d40521ccce0",
       "max": 16,
       "min": 0.8,
       "step": 0.1,
       "style": "IPY_MODEL_a9a0ab712ffc4662a944d1796a69b624",
       "value": 12
      }
     },
     "287cd367abd94c6992bb09daa472b211": {
      "model_module": "@jupyter-widgets/base",
      "model_module_version": "1.2.0",
      "model_name": "LayoutModel",
      "state": {}
     },
     "2903054e93b643d1bf1cc6ff652f200d": {
      "model_module": "@jupyter-widgets/controls",
      "model_module_version": "1.5.0",
      "model_name": "SliderStyleModel",
      "state": {
       "description_width": ""
      }
     },
     "294c934efe674a1fa043b3ea676a34af": {
      "model_module": "@jupyter-widgets/output",
      "model_module_version": "1.0.0",
      "model_name": "OutputModel",
      "state": {
       "layout": "IPY_MODEL_8befc19f6cdf4e79baa11028ec661ad2"
      }
     },
     "297491fb0d1f4bcbaf6bcc533c42b858": {
      "model_module": "@jupyter-widgets/base",
      "model_module_version": "1.2.0",
      "model_name": "LayoutModel",
      "state": {}
     },
     "29f2326241344862b0540d40521ccce0": {
      "model_module": "@jupyter-widgets/base",
      "model_module_version": "1.2.0",
      "model_name": "LayoutModel",
      "state": {}
     },
     "2a8bc1c76c3d44ddbc14726f5f0b2399": {
      "model_module": "@jupyter-widgets/controls",
      "model_module_version": "1.5.0",
      "model_name": "IntSliderModel",
      "state": {
       "description": "y0",
       "layout": "IPY_MODEL_b77b73236d5944548c8a7da5b7f69097",
       "max": 1000,
       "min": 250,
       "step": 5,
       "style": "IPY_MODEL_e1b0573952fd48b0b950b8bda76d667a",
       "value": 250
      }
     },
     "2ab33c1d074541888c555755e2f5395a": {
      "model_module": "@jupyter-widgets/base",
      "model_module_version": "1.2.0",
      "model_name": "LayoutModel",
      "state": {}
     },
     "2b35c4a39df9401b9b1a05aa88eba7ca": {
      "model_module": "@jupyter-widgets/controls",
      "model_module_version": "1.5.0",
      "model_name": "SliderStyleModel",
      "state": {
       "description_width": ""
      }
     },
     "2dbe69c1d3b04801b6b178cd9be47e0e": {
      "model_module": "@jupyter-widgets/base",
      "model_module_version": "1.2.0",
      "model_name": "LayoutModel",
      "state": {}
     },
     "3040f6c3e4224cec8c86c5e4935a74ed": {
      "model_module": "@jupyter-widgets/base",
      "model_module_version": "1.2.0",
      "model_name": "LayoutModel",
      "state": {}
     },
     "31530e0024a6446893712c29c5dc9734": {
      "model_module": "@jupyter-widgets/base",
      "model_module_version": "1.2.0",
      "model_name": "LayoutModel",
      "state": {}
     },
     "3223965bd9104096909906bd6e3488cf": {
      "model_module": "@jupyter-widgets/base",
      "model_module_version": "1.2.0",
      "model_name": "LayoutModel",
      "state": {}
     },
     "34607a382c21449885b50ff5a2ed975f": {
      "model_module": "@jupyter-widgets/base",
      "model_module_version": "1.2.0",
      "model_name": "LayoutModel",
      "state": {}
     },
     "3517dcbec79a40eb91f2de3eabbaae0a": {
      "model_module": "@jupyter-widgets/base",
      "model_module_version": "1.2.0",
      "model_name": "LayoutModel",
      "state": {}
     },
     "3978787f1fe74913aaea2ea9a68a46cf": {
      "model_module": "@jupyter-widgets/base",
      "model_module_version": "1.2.0",
      "model_name": "LayoutModel",
      "state": {}
     },
     "3b605a1e7fa64a3c80e2278d093bfbff": {
      "model_module": "@jupyter-widgets/controls",
      "model_module_version": "1.5.0",
      "model_name": "FloatSliderModel",
      "state": {
       "description": "V",
       "layout": "IPY_MODEL_6c31d49480de431896c5fad51710c7fc",
       "max": 16,
       "min": 2,
       "step": 0.1,
       "style": "IPY_MODEL_bc3af383510349f39c5bf695f47cf52e",
       "value": 8.6
      }
     },
     "3b72653a77f043eb939004aff6944efb": {
      "model_module": "@jupyter-widgets/base",
      "model_module_version": "1.2.0",
      "model_name": "LayoutModel",
      "state": {}
     },
     "3db11db4052746efa4669cca1ba24ca3": {
      "model_module": "@jupyter-widgets/controls",
      "model_module_version": "1.5.0",
      "model_name": "IntSliderModel",
      "state": {
       "description": "M",
       "layout": "IPY_MODEL_eb4e885672e94373a3b8455278e87b26",
       "max": 2000,
       "min": 250,
       "step": 10,
       "style": "IPY_MODEL_4b106964302345a7826953866cfa30f4",
       "value": 1000
      }
     },
     "3fc71e17d8cd4291b0762f12ae0e74f7": {
      "model_module": "@jupyter-widgets/controls",
      "model_module_version": "1.5.0",
      "model_name": "SliderStyleModel",
      "state": {
       "description_width": ""
      }
     },
     "41eb5a321cd345529f854b3378f53ab4": {
      "model_module": "@jupyter-widgets/base",
      "model_module_version": "1.2.0",
      "model_name": "LayoutModel",
      "state": {}
     },
     "42cce5055a144abdade2a98035d2248d": {
      "model_module": "@jupyter-widgets/base",
      "model_module_version": "1.2.0",
      "model_name": "LayoutModel",
      "state": {}
     },
     "45b1c93e7ed94e35b321d0cd0563a0cd": {
      "model_module": "@jupyter-widgets/controls",
      "model_module_version": "1.5.0",
      "model_name": "IntSliderModel",
      "state": {
       "description": "y0",
       "layout": "IPY_MODEL_6276135cb658418f9759412a614cc30c",
       "max": 1000,
       "min": 50,
       "step": 5,
       "style": "IPY_MODEL_031544f030c449098b36d0928fcc7eca",
       "value": 50
      }
     },
     "46c3334759ea41f296f5b83ecdb0f5f4": {
      "model_module": "@jupyter-widgets/base",
      "model_module_version": "1.2.0",
      "model_name": "LayoutModel",
      "state": {}
     },
     "4731307daed142148f87fd037c130a3e": {
      "model_module": "@jupyter-widgets/controls",
      "model_module_version": "1.5.0",
      "model_name": "FloatSliderModel",
      "state": {
       "description": "V",
       "layout": "IPY_MODEL_b748c101385b421bb3fff14238f3d5fc",
       "max": 16,
       "min": 0.8,
       "step": 0.1,
       "style": "IPY_MODEL_9929e3afb149459d8339abcac719b0d9",
       "value": 16
      }
     },
     "47bedbeb64dc4ad098682f400b774134": {
      "model_module": "@jupyter-widgets/controls",
      "model_module_version": "1.5.0",
      "model_name": "SliderStyleModel",
      "state": {
       "description_width": ""
      }
     },
     "493dc50d0d984d2bb1b8cf68135625d7": {
      "model_module": "@jupyter-widgets/controls",
      "model_module_version": "1.5.0",
      "model_name": "VBoxModel",
      "state": {
       "_dom_classes": [
        "widget-interact"
       ],
       "children": [
        "IPY_MODEL_df7c2cee885a4030a71694b9b432d9d9",
        "IPY_MODEL_27065ce0e1974bb3a52c430b7bac8ee7",
        "IPY_MODEL_ca44ad27c46749378897d0ae18503d7a",
        "IPY_MODEL_dd13fd0e2d4746e58715f143e27b85b3"
       ],
       "layout": "IPY_MODEL_e1b4728375364dafab45e1beb81b4065"
      }
     },
     "49bc77407cfe483ba8a9efac15215441": {
      "model_module": "@jupyter-widgets/base",
      "model_module_version": "1.2.0",
      "model_name": "LayoutModel",
      "state": {}
     },
     "4a6746987bb14553a22e117f2bd66ae3": {
      "model_module": "@jupyter-widgets/controls",
      "model_module_version": "1.5.0",
      "model_name": "FloatSliderModel",
      "state": {
       "description": "V",
       "layout": "IPY_MODEL_a0b11c6248324d289a9ad769efc20453",
       "max": 16,
       "min": 0.8,
       "step": 0.1,
       "style": "IPY_MODEL_2903054e93b643d1bf1cc6ff652f200d",
       "value": 12
      }
     },
     "4b106964302345a7826953866cfa30f4": {
      "model_module": "@jupyter-widgets/controls",
      "model_module_version": "1.5.0",
      "model_name": "SliderStyleModel",
      "state": {
       "description_width": ""
      }
     },
     "4cc63c8968b34ccc8e0ff6c1faab3db7": {
      "model_module": "@jupyter-widgets/base",
      "model_module_version": "1.2.0",
      "model_name": "LayoutModel",
      "state": {}
     },
     "4f76d6cba4224bc9bc49c7b319c9054d": {
      "model_module": "@jupyter-widgets/controls",
      "model_module_version": "1.5.0",
      "model_name": "SliderStyleModel",
      "state": {
       "description_width": ""
      }
     },
     "4f8f6e6585104be29afad18aedabcfbd": {
      "model_module": "@jupyter-widgets/controls",
      "model_module_version": "1.5.0",
      "model_name": "VBoxModel",
      "state": {
       "_dom_classes": [
        "widget-interact"
       ],
       "children": [
        "IPY_MODEL_886cf9fe558744338713d7e1fda61b03",
        "IPY_MODEL_3b605a1e7fa64a3c80e2278d093bfbff",
        "IPY_MODEL_0833cae91c824a499bd1bf37420688fb",
        "IPY_MODEL_d58f8107f81b4a1db4f65fb91669c47f"
       ],
       "layout": "IPY_MODEL_49bc77407cfe483ba8a9efac15215441"
      }
     },
     "4faa0e69c3944031af28243a6c2cb838": {
      "model_module": "@jupyter-widgets/controls",
      "model_module_version": "1.5.0",
      "model_name": "IntSliderModel",
      "state": {
       "description": "y0",
       "layout": "IPY_MODEL_4cc63c8968b34ccc8e0ff6c1faab3db7",
       "max": 1000,
       "min": 250,
       "step": 5,
       "style": "IPY_MODEL_beab4cac0f874a0da4d5e81ce23127c0",
       "value": 250
      }
     },
     "52a99af8ac4f4cc88ff6133b32793c0c": {
      "model_module": "@jupyter-widgets/base",
      "model_module_version": "1.2.0",
      "model_name": "LayoutModel",
      "state": {}
     },
     "52c01293ca1546239ba901da85df142f": {
      "model_module": "@jupyter-widgets/output",
      "model_module_version": "1.0.0",
      "model_name": "OutputModel",
      "state": {
       "layout": "IPY_MODEL_dbc7d1bac8344c0aa0affbbfa51938e0"
      }
     },
     "52fba609c70a4513b5f8896980a5dd91": {
      "model_module": "@jupyter-widgets/base",
      "model_module_version": "1.2.0",
      "model_name": "LayoutModel",
      "state": {}
     },
     "53f8ef40c39241f4a22e8eb47ccde0b2": {
      "model_module": "@jupyter-widgets/controls",
      "model_module_version": "1.5.0",
      "model_name": "VBoxModel",
      "state": {
       "_dom_classes": [
        "widget-interact"
       ],
       "children": [
        "IPY_MODEL_b23f96b5c9034a9ba8133869e0ecf009",
        "IPY_MODEL_f98fd46f2bf5490388683a1db8ed0062",
        "IPY_MODEL_4faa0e69c3944031af28243a6c2cb838",
        "IPY_MODEL_cc9bdbc5ac9540b9ba207dc7655b42d7"
       ],
       "layout": "IPY_MODEL_d15bec5610154b83bbb0fcb958be3026"
      }
     },
     "54a4e78e32034147921199336392169c": {
      "model_module": "@jupyter-widgets/controls",
      "model_module_version": "1.5.0",
      "model_name": "SliderStyleModel",
      "state": {
       "description_width": ""
      }
     },
     "55170df18abe4f5f97112a0e4d83d51d": {
      "model_module": "@jupyter-widgets/base",
      "model_module_version": "1.2.0",
      "model_name": "LayoutModel",
      "state": {}
     },
     "5bef57869bf44e4492561d0c61c2be03": {
      "model_module": "@jupyter-widgets/controls",
      "model_module_version": "1.5.0",
      "model_name": "SliderStyleModel",
      "state": {
       "description_width": ""
      }
     },
     "5da8c92ad3754919aeb79454fb23ddfb": {
      "model_module": "@jupyter-widgets/base",
      "model_module_version": "1.2.0",
      "model_name": "LayoutModel",
      "state": {}
     },
     "60f9bd4195f546b8a7210ae7189d4a51": {
      "model_module": "@jupyter-widgets/controls",
      "model_module_version": "1.5.0",
      "model_name": "SliderStyleModel",
      "state": {
       "description_width": ""
      }
     },
     "6276135cb658418f9759412a614cc30c": {
      "model_module": "@jupyter-widgets/base",
      "model_module_version": "1.2.0",
      "model_name": "LayoutModel",
      "state": {}
     },
     "628d1045dde84584bb24be7fec0e9778": {
      "model_module": "@jupyter-widgets/base",
      "model_module_version": "1.2.0",
      "model_name": "LayoutModel",
      "state": {}
     },
     "63d0faf74f944c7b846e8af9b8c69f0a": {
      "model_module": "@jupyter-widgets/controls",
      "model_module_version": "1.5.0",
      "model_name": "SliderStyleModel",
      "state": {
       "description_width": ""
      }
     },
     "63f9d901c7794a858b89f51741352ea6": {
      "model_module": "@jupyter-widgets/base",
      "model_module_version": "1.2.0",
      "model_name": "LayoutModel",
      "state": {}
     },
     "64ab2db96e7b4511a26cac6aee684dd1": {
      "model_module": "@jupyter-widgets/controls",
      "model_module_version": "1.5.0",
      "model_name": "FloatSliderModel",
      "state": {
       "description": "V",
       "layout": "IPY_MODEL_b74fb1b45b0a4f37ad2d62ce14dc9e32",
       "max": 16,
       "min": 2,
       "step": 0.1,
       "style": "IPY_MODEL_a2a0bdb894644e019f8e5dbd9fbbf105",
       "value": 12
      }
     },
     "64d7c9f811a94f2886b3418926abfc62": {
      "model_module": "@jupyter-widgets/controls",
      "model_module_version": "1.5.0",
      "model_name": "FloatSliderModel",
      "state": {
       "description": "V",
       "layout": "IPY_MODEL_297491fb0d1f4bcbaf6bcc533c42b858",
       "max": 16,
       "min": 2,
       "step": 0.1,
       "style": "IPY_MODEL_5bef57869bf44e4492561d0c61c2be03",
       "value": 12
      }
     },
     "6507fe6bb4c846e7946f4edebe3460fc": {
      "model_module": "@jupyter-widgets/base",
      "model_module_version": "1.2.0",
      "model_name": "LayoutModel",
      "state": {}
     },
     "66591c52d1494ce6a8781f5c41bd49e9": {
      "model_module": "@jupyter-widgets/controls",
      "model_module_version": "1.5.0",
      "model_name": "IntSliderModel",
      "state": {
       "description": "M",
       "layout": "IPY_MODEL_41eb5a321cd345529f854b3378f53ab4",
       "max": 2000,
       "min": 250,
       "step": 10,
       "style": "IPY_MODEL_4f76d6cba4224bc9bc49c7b319c9054d",
       "value": 950
      }
     },
     "6857d4bb340d4832ab562b133d3bb9f9": {
      "model_module": "@jupyter-widgets/controls",
      "model_module_version": "1.5.0",
      "model_name": "FloatSliderModel",
      "state": {
       "description": "V",
       "layout": "IPY_MODEL_8adb7e6ac67f4845bd7e12b132ea29c0",
       "max": 16,
       "min": 2,
       "step": 0.1,
       "style": "IPY_MODEL_8a075aa4842d4bd08120e348e2082e65",
       "value": 12
      }
     },
     "6a0efb26fe374dce94765d555c41c2ae": {
      "model_module": "@jupyter-widgets/base",
      "model_module_version": "1.2.0",
      "model_name": "LayoutModel",
      "state": {}
     },
     "6ab42dfa2ae144418c9afb12c542ee27": {
      "model_module": "@jupyter-widgets/controls",
      "model_module_version": "1.5.0",
      "model_name": "VBoxModel",
      "state": {
       "_dom_classes": [
        "widget-interact"
       ],
       "children": [
        "IPY_MODEL_3db11db4052746efa4669cca1ba24ca3",
        "IPY_MODEL_64d7c9f811a94f2886b3418926abfc62",
        "IPY_MODEL_155032d3a7a34297acdee78f41deb17d",
        "IPY_MODEL_f658215027f04cb2ba75123d2eceb6b2"
       ],
       "layout": "IPY_MODEL_2476126508084a04b25656723c8cfe40"
      }
     },
     "6b04253dc2204833b1a08d045fe1f624": {
      "model_module": "@jupyter-widgets/controls",
      "model_module_version": "1.5.0",
      "model_name": "SliderStyleModel",
      "state": {
       "description_width": ""
      }
     },
     "6c31d49480de431896c5fad51710c7fc": {
      "model_module": "@jupyter-widgets/base",
      "model_module_version": "1.2.0",
      "model_name": "LayoutModel",
      "state": {}
     },
     "6db52190285a4e33bfcc5048fba69e15": {
      "model_module": "@jupyter-widgets/controls",
      "model_module_version": "1.5.0",
      "model_name": "SliderStyleModel",
      "state": {
       "description_width": ""
      }
     },
     "6ddee12c9c5444188dff2710a985bbf2": {
      "model_module": "@jupyter-widgets/base",
      "model_module_version": "1.2.0",
      "model_name": "LayoutModel",
      "state": {}
     },
     "7022e275f6a8476c8dfc47337bed3cf4": {
      "model_module": "@jupyter-widgets/output",
      "model_module_version": "1.0.0",
      "model_name": "OutputModel",
      "state": {
       "layout": "IPY_MODEL_3978787f1fe74913aaea2ea9a68a46cf"
      }
     },
     "73987a3146664bdb8d6f39d6088f6410": {
      "model_module": "@jupyter-widgets/base",
      "model_module_version": "1.2.0",
      "model_name": "LayoutModel",
      "state": {}
     },
     "762792f8cad6430ea47ff331eb8cfaaf": {
      "model_module": "@jupyter-widgets/output",
      "model_module_version": "1.0.0",
      "model_name": "OutputModel",
      "state": {
       "layout": "IPY_MODEL_0fbc15984e384b869dc3e8f4e15e17c7"
      }
     },
     "765d6ba078c74bc78ad0cf2f36356b2a": {
      "model_module": "@jupyter-widgets/controls",
      "model_module_version": "1.5.0",
      "model_name": "FloatSliderModel",
      "state": {
       "description": "V",
       "layout": "IPY_MODEL_0426472a84cc41ca963a04c7a20d0532",
       "max": 16,
       "min": 2,
       "step": 0.1,
       "style": "IPY_MODEL_60f9bd4195f546b8a7210ae7189d4a51",
       "value": 12
      }
     },
     "77a664a15f134b948d00629883887c8d": {
      "model_module": "@jupyter-widgets/base",
      "model_module_version": "1.2.0",
      "model_name": "LayoutModel",
      "state": {}
     },
     "7a4500d1ca184e30a9ec2149b9ea627c": {
      "model_module": "@jupyter-widgets/controls",
      "model_module_version": "1.5.0",
      "model_name": "SliderStyleModel",
      "state": {
       "description_width": ""
      }
     },
     "7a48af3b7aef42d087dff18e6bd9c464": {
      "model_module": "@jupyter-widgets/controls",
      "model_module_version": "1.5.0",
      "model_name": "VBoxModel",
      "state": {
       "_dom_classes": [
        "widget-interact"
       ],
       "children": [
        "IPY_MODEL_beeb58fe989a4f06b78180a34690f0e1",
        "IPY_MODEL_6857d4bb340d4832ab562b133d3bb9f9",
        "IPY_MODEL_0684197412b84bd2951101024aab8d27",
        "IPY_MODEL_7f184b32b04b4f07b41260537ea79e54"
       ],
       "layout": "IPY_MODEL_ba6d77c3cb0c4cedbfd63eb3873040ea"
      }
     },
     "7dabf9a317124183b271a8aa0895cd1e": {
      "model_module": "@jupyter-widgets/output",
      "model_module_version": "1.0.0",
      "model_name": "OutputModel",
      "state": {
       "layout": "IPY_MODEL_189aa44d9e4c4c93b53d41301a090dcb"
      }
     },
     "7f184b32b04b4f07b41260537ea79e54": {
      "model_module": "@jupyter-widgets/output",
      "model_module_version": "1.0.0",
      "model_name": "OutputModel",
      "state": {
       "layout": "IPY_MODEL_876575ed45394224a6209776b4d95840"
      }
     },
     "8102e93f0f24435fb5b3d4cf283b5804": {
      "model_module": "@jupyter-widgets/controls",
      "model_module_version": "1.5.0",
      "model_name": "VBoxModel",
      "state": {
       "_dom_classes": [
        "widget-interact"
       ],
       "children": [
        "IPY_MODEL_c1acee4afdc246d294ef898bd16facdc",
        "IPY_MODEL_955fedd2e1654e57b340d468f4fe8498",
        "IPY_MODEL_d50758d2abc14f798bbdc4d33c7ca91e",
        "IPY_MODEL_c87eb3e3100c4c92a4a8d664d3044307"
       ],
       "layout": "IPY_MODEL_6ddee12c9c5444188dff2710a985bbf2"
      }
     },
     "83de49a7bb0d4cbd8e9ab4a4538612f3": {
      "model_module": "@jupyter-widgets/controls",
      "model_module_version": "1.5.0",
      "model_name": "VBoxModel",
      "state": {
       "_dom_classes": [
        "widget-interact"
       ],
       "children": [
        "IPY_MODEL_e7ee727a023c4198a2a4d3d0e393b4d9",
        "IPY_MODEL_765d6ba078c74bc78ad0cf2f36356b2a",
        "IPY_MODEL_e547f03643054f538738dc888489be9d",
        "IPY_MODEL_c455c9d51c7f4bc3912e1295cb3afa7f"
       ],
       "layout": "IPY_MODEL_77a664a15f134b948d00629883887c8d"
      }
     },
     "876575ed45394224a6209776b4d95840": {
      "model_module": "@jupyter-widgets/base",
      "model_module_version": "1.2.0",
      "model_name": "LayoutModel",
      "state": {}
     },
     "87751c76cb4049ef97e6e58f31ea5982": {
      "model_module": "@jupyter-widgets/base",
      "model_module_version": "1.2.0",
      "model_name": "LayoutModel",
      "state": {}
     },
     "886cf9fe558744338713d7e1fda61b03": {
      "model_module": "@jupyter-widgets/controls",
      "model_module_version": "1.5.0",
      "model_name": "IntSliderModel",
      "state": {
       "description": "M",
       "layout": "IPY_MODEL_34607a382c21449885b50ff5a2ed975f",
       "max": 2000,
       "min": 250,
       "step": 10,
       "style": "IPY_MODEL_0ff87625c54d4d628aa6be7e90ec3d7b",
       "value": 1510
      }
     },
     "8a075aa4842d4bd08120e348e2082e65": {
      "model_module": "@jupyter-widgets/controls",
      "model_module_version": "1.5.0",
      "model_name": "SliderStyleModel",
      "state": {
       "description_width": ""
      }
     },
     "8adb7e6ac67f4845bd7e12b132ea29c0": {
      "model_module": "@jupyter-widgets/base",
      "model_module_version": "1.2.0",
      "model_name": "LayoutModel",
      "state": {}
     },
     "8befc19f6cdf4e79baa11028ec661ad2": {
      "model_module": "@jupyter-widgets/base",
      "model_module_version": "1.2.0",
      "model_name": "LayoutModel",
      "state": {}
     },
     "8d7791d412ce40bab330824504a15821": {
      "model_module": "@jupyter-widgets/controls",
      "model_module_version": "1.5.0",
      "model_name": "IntSliderModel",
      "state": {
       "description": "M",
       "layout": "IPY_MODEL_73987a3146664bdb8d6f39d6088f6410",
       "max": 2000,
       "min": 100,
       "step": 10,
       "style": "IPY_MODEL_e090d75bce5a443facb8e65f3edaec56",
       "value": 1000
      }
     },
     "8e020db6efff4e758915d876c87b5613": {
      "model_module": "@jupyter-widgets/controls",
      "model_module_version": "1.5.0",
      "model_name": "IntSliderModel",
      "state": {
       "description": "y0",
       "layout": "IPY_MODEL_63f9d901c7794a858b89f51741352ea6",
       "max": 1000,
       "min": 250,
       "step": 5,
       "style": "IPY_MODEL_c13762c5c5a449ffb1f7e3f1063ed5c9",
       "value": 250
      }
     },
     "93be7e2b0e7f47ab9604136135d79e2b": {
      "model_module": "@jupyter-widgets/controls",
      "model_module_version": "1.5.0",
      "model_name": "SliderStyleModel",
      "state": {
       "description_width": ""
      }
     },
     "955fedd2e1654e57b340d468f4fe8498": {
      "model_module": "@jupyter-widgets/controls",
      "model_module_version": "1.5.0",
      "model_name": "FloatSliderModel",
      "state": {
       "description": "V",
       "layout": "IPY_MODEL_31530e0024a6446893712c29c5dc9734",
       "max": 16,
       "min": 0.8,
       "step": 0.1,
       "style": "IPY_MODEL_a009d05e07524fd39f8340a0a2885907",
       "value": 12
      }
     },
     "9698579ee81d411685da58328f31f9fd": {
      "model_module": "@jupyter-widgets/controls",
      "model_module_version": "1.5.0",
      "model_name": "SliderStyleModel",
      "state": {
       "description_width": ""
      }
     },
     "9841dae8eea6473f91ddf63f054fc138": {
      "model_module": "@jupyter-widgets/controls",
      "model_module_version": "1.5.0",
      "model_name": "VBoxModel",
      "state": {
       "_dom_classes": [
        "widget-interact"
       ],
       "children": [
        "IPY_MODEL_0cd357ed6a744cf4aafb15596e2d95a0",
        "IPY_MODEL_f7945f6317a34acb9fe5a06743183a9d",
        "IPY_MODEL_a0d9708040da414dabd7eabd8a06e9a7",
        "IPY_MODEL_7dabf9a317124183b271a8aa0895cd1e"
       ],
       "layout": "IPY_MODEL_5da8c92ad3754919aeb79454fb23ddfb"
      }
     },
     "9929e3afb149459d8339abcac719b0d9": {
      "model_module": "@jupyter-widgets/controls",
      "model_module_version": "1.5.0",
      "model_name": "SliderStyleModel",
      "state": {
       "description_width": ""
      }
     },
     "9c5b4eeda9c24ac99947cd50f931cf3d": {
      "model_module": "@jupyter-widgets/base",
      "model_module_version": "1.2.0",
      "model_name": "LayoutModel",
      "state": {}
     },
     "9e920d46f319469fb11978be95aed64c": {
      "model_module": "@jupyter-widgets/controls",
      "model_module_version": "1.5.0",
      "model_name": "SliderStyleModel",
      "state": {
       "description_width": ""
      }
     },
     "9f170c583adb4d81bac766ca62254036": {
      "model_module": "@jupyter-widgets/base",
      "model_module_version": "1.2.0",
      "model_name": "LayoutModel",
      "state": {}
     },
     "a009d05e07524fd39f8340a0a2885907": {
      "model_module": "@jupyter-widgets/controls",
      "model_module_version": "1.5.0",
      "model_name": "SliderStyleModel",
      "state": {
       "description_width": ""
      }
     },
     "a0b11c6248324d289a9ad769efc20453": {
      "model_module": "@jupyter-widgets/base",
      "model_module_version": "1.2.0",
      "model_name": "LayoutModel",
      "state": {}
     },
     "a0d9708040da414dabd7eabd8a06e9a7": {
      "model_module": "@jupyter-widgets/controls",
      "model_module_version": "1.5.0",
      "model_name": "IntSliderModel",
      "state": {
       "description": "y0",
       "layout": "IPY_MODEL_c55ae050b6b74f33bb7ca8876b8ae617",
       "max": 1000,
       "min": 50,
       "step": 5,
       "style": "IPY_MODEL_25c1de1f92bc464aa920bf5bced0e029",
       "value": 50
      }
     },
     "a2a0bdb894644e019f8e5dbd9fbbf105": {
      "model_module": "@jupyter-widgets/controls",
      "model_module_version": "1.5.0",
      "model_name": "SliderStyleModel",
      "state": {
       "description_width": ""
      }
     },
     "a40ad48c698943c885ec32755a9d60fe": {
      "model_module": "@jupyter-widgets/controls",
      "model_module_version": "1.5.0",
      "model_name": "IntSliderModel",
      "state": {
       "description": "y0",
       "layout": "IPY_MODEL_01722fde7f1e4726a767fdd9d3a00602",
       "max": 1000,
       "min": 50,
       "step": 5,
       "style": "IPY_MODEL_9e920d46f319469fb11978be95aed64c",
       "value": 485
      }
     },
     "a6900206e75b45e09a2e2ee6a009839c": {
      "model_module": "@jupyter-widgets/controls",
      "model_module_version": "1.5.0",
      "model_name": "SliderStyleModel",
      "state": {
       "description_width": ""
      }
     },
     "a9a0ab712ffc4662a944d1796a69b624": {
      "model_module": "@jupyter-widgets/controls",
      "model_module_version": "1.5.0",
      "model_name": "SliderStyleModel",
      "state": {
       "description_width": ""
      }
     },
     "aafde4ddd907429e89d4f25f032e0191": {
      "model_module": "@jupyter-widgets/controls",
      "model_module_version": "1.5.0",
      "model_name": "SliderStyleModel",
      "state": {
       "description_width": ""
      }
     },
     "ab5e269e99a841369381f17a31577d7c": {
      "model_module": "@jupyter-widgets/base",
      "model_module_version": "1.2.0",
      "model_name": "LayoutModel",
      "state": {}
     },
     "ae4c08f102084384b7c1ab8892491841": {
      "model_module": "@jupyter-widgets/controls",
      "model_module_version": "1.5.0",
      "model_name": "VBoxModel",
      "state": {
       "_dom_classes": [
        "widget-interact"
       ],
       "children": [
        "IPY_MODEL_cba2d9b6bb114371b2f25b7db102f9ef",
        "IPY_MODEL_fae5601dcccf40d8ae246d905799b183",
        "IPY_MODEL_45b1c93e7ed94e35b321d0cd0563a0cd",
        "IPY_MODEL_ed2f12908b0e40d59edf0e7e6efd5c77"
       ],
       "layout": "IPY_MODEL_cfa04a5e4d4040aea94d2ab1c93dc7f5"
      }
     },
     "aebe0385024f49e599f85c6d74f08bd9": {
      "model_module": "@jupyter-widgets/controls",
      "model_module_version": "1.5.0",
      "model_name": "SliderStyleModel",
      "state": {
       "description_width": ""
      }
     },
     "aefd472098004357b486fe94c90dc9c2": {
      "model_module": "@jupyter-widgets/base",
      "model_module_version": "1.2.0",
      "model_name": "LayoutModel",
      "state": {}
     },
     "b181433014d4469badae671dab15a954": {
      "model_module": "@jupyter-widgets/controls",
      "model_module_version": "1.5.0",
      "model_name": "IntSliderModel",
      "state": {
       "description": "y0",
       "layout": "IPY_MODEL_06d5959ce78b47b8a028698746abfd81",
       "max": 1000,
       "min": 50,
       "step": 5,
       "style": "IPY_MODEL_e320293c996949548d99a7eca547bef9",
       "value": 495
      }
     },
     "b23f96b5c9034a9ba8133869e0ecf009": {
      "model_module": "@jupyter-widgets/controls",
      "model_module_version": "1.5.0",
      "model_name": "IntSliderModel",
      "state": {
       "description": "M",
       "layout": "IPY_MODEL_42cce5055a144abdade2a98035d2248d",
       "max": 2000,
       "min": 250,
       "step": 10,
       "style": "IPY_MODEL_54a4e78e32034147921199336392169c",
       "value": 1000
      }
     },
     "b373d8f3f0d5456fb545e7603c0fbc0a": {
      "model_module": "@jupyter-widgets/controls",
      "model_module_version": "1.5.0",
      "model_name": "VBoxModel",
      "state": {
       "_dom_classes": [
        "widget-interact"
       ],
       "children": [
        "IPY_MODEL_fb5b00b9494f4ce8b4fea35fb8e528d5",
        "IPY_MODEL_02c53153eb5d45688642be50ccb18f34",
        "IPY_MODEL_ca30e82190734e6fa1a8af111d8e73c0",
        "IPY_MODEL_52c01293ca1546239ba901da85df142f"
       ],
       "layout": "IPY_MODEL_52a99af8ac4f4cc88ff6133b32793c0c"
      }
     },
     "b748c101385b421bb3fff14238f3d5fc": {
      "model_module": "@jupyter-widgets/base",
      "model_module_version": "1.2.0",
      "model_name": "LayoutModel",
      "state": {}
     },
     "b74fb1b45b0a4f37ad2d62ce14dc9e32": {
      "model_module": "@jupyter-widgets/base",
      "model_module_version": "1.2.0",
      "model_name": "LayoutModel",
      "state": {}
     },
     "b77b73236d5944548c8a7da5b7f69097": {
      "model_module": "@jupyter-widgets/base",
      "model_module_version": "1.2.0",
      "model_name": "LayoutModel",
      "state": {}
     },
     "b7f643eedd304d0fb278793ba59bb0d7": {
      "model_module": "@jupyter-widgets/controls",
      "model_module_version": "1.5.0",
      "model_name": "SliderStyleModel",
      "state": {
       "description_width": ""
      }
     },
     "b81d874ba92345d2b2286d3e8c29df16": {
      "model_module": "@jupyter-widgets/base",
      "model_module_version": "1.2.0",
      "model_name": "LayoutModel",
      "state": {}
     },
     "ba4ccf5a891c45e89ae8c76e84df1377": {
      "model_module": "@jupyter-widgets/base",
      "model_module_version": "1.2.0",
      "model_name": "LayoutModel",
      "state": {}
     },
     "ba6d77c3cb0c4cedbfd63eb3873040ea": {
      "model_module": "@jupyter-widgets/base",
      "model_module_version": "1.2.0",
      "model_name": "LayoutModel",
      "state": {}
     },
     "bc3af383510349f39c5bf695f47cf52e": {
      "model_module": "@jupyter-widgets/controls",
      "model_module_version": "1.5.0",
      "model_name": "SliderStyleModel",
      "state": {
       "description_width": ""
      }
     },
     "beab4cac0f874a0da4d5e81ce23127c0": {
      "model_module": "@jupyter-widgets/controls",
      "model_module_version": "1.5.0",
      "model_name": "SliderStyleModel",
      "state": {
       "description_width": ""
      }
     },
     "beeb58fe989a4f06b78180a34690f0e1": {
      "model_module": "@jupyter-widgets/controls",
      "model_module_version": "1.5.0",
      "model_name": "IntSliderModel",
      "state": {
       "description": "M",
       "layout": "IPY_MODEL_e0e77434780d4c07a8601fe9dbe0ffe0",
       "max": 2000,
       "min": 250,
       "step": 10,
       "style": "IPY_MODEL_0bfaff8aeebd46f4b1934270dc5821f4",
       "value": 1000
      }
     },
     "c0b4af68733b43be904f3d3f85f5cfa7": {
      "model_module": "@jupyter-widgets/controls",
      "model_module_version": "1.5.0",
      "model_name": "SliderStyleModel",
      "state": {
       "description_width": ""
      }
     },
     "c13762c5c5a449ffb1f7e3f1063ed5c9": {
      "model_module": "@jupyter-widgets/controls",
      "model_module_version": "1.5.0",
      "model_name": "SliderStyleModel",
      "state": {
       "description_width": ""
      }
     },
     "c1acee4afdc246d294ef898bd16facdc": {
      "model_module": "@jupyter-widgets/controls",
      "model_module_version": "1.5.0",
      "model_name": "IntSliderModel",
      "state": {
       "description": "M",
       "layout": "IPY_MODEL_287cd367abd94c6992bb09daa472b211",
       "max": 2000,
       "min": 100,
       "step": 10,
       "style": "IPY_MODEL_0f9873ea044c4cd0b84bca0f63392f23",
       "value": 1000
      }
     },
     "c34300f22580441da1cff26ebfd100da": {
      "model_module": "@jupyter-widgets/output",
      "model_module_version": "1.0.0",
      "model_name": "OutputModel",
      "state": {
       "layout": "IPY_MODEL_f71a36c1202049fd895699395ba5ad87"
      }
     },
     "c455c9d51c7f4bc3912e1295cb3afa7f": {
      "model_module": "@jupyter-widgets/output",
      "model_module_version": "1.0.0",
      "model_name": "OutputModel",
      "state": {
       "layout": "IPY_MODEL_fdf7c9ad43a34cb49788a2487f7cafb5"
      }
     },
     "c55ae050b6b74f33bb7ca8876b8ae617": {
      "model_module": "@jupyter-widgets/base",
      "model_module_version": "1.2.0",
      "model_name": "LayoutModel",
      "state": {}
     },
     "c7ce90fb2d74453a86ce76372ced4936": {
      "model_module": "@jupyter-widgets/base",
      "model_module_version": "1.2.0",
      "model_name": "LayoutModel",
      "state": {}
     },
     "c87eb3e3100c4c92a4a8d664d3044307": {
      "model_module": "@jupyter-widgets/output",
      "model_module_version": "1.0.0",
      "model_name": "OutputModel",
      "state": {
       "layout": "IPY_MODEL_628d1045dde84584bb24be7fec0e9778"
      }
     },
     "ca30e82190734e6fa1a8af111d8e73c0": {
      "model_module": "@jupyter-widgets/controls",
      "model_module_version": "1.5.0",
      "model_name": "IntSliderModel",
      "state": {
       "description": "y0",
       "layout": "IPY_MODEL_ab5e269e99a841369381f17a31577d7c",
       "max": 1000,
       "min": 50,
       "step": 5,
       "style": "IPY_MODEL_9698579ee81d411685da58328f31f9fd",
       "value": 50
      }
     },
     "ca44ad27c46749378897d0ae18503d7a": {
      "model_module": "@jupyter-widgets/controls",
      "model_module_version": "1.5.0",
      "model_name": "IntSliderModel",
      "state": {
       "description": "y0",
       "layout": "IPY_MODEL_0bbcc7350b6343d5a9bf1534226a2b59",
       "max": 1000,
       "min": 50,
       "step": 5,
       "style": "IPY_MODEL_08cd0337ff1f49c68055ff1209621d27",
       "value": 580
      }
     },
     "cba2d9b6bb114371b2f25b7db102f9ef": {
      "model_module": "@jupyter-widgets/controls",
      "model_module_version": "1.5.0",
      "model_name": "IntSliderModel",
      "state": {
       "description": "M",
       "layout": "IPY_MODEL_55170df18abe4f5f97112a0e4d83d51d",
       "max": 2000,
       "min": 100,
       "step": 10,
       "style": "IPY_MODEL_6b04253dc2204833b1a08d045fe1f624",
       "value": 1000
      }
     },
     "cc9bdbc5ac9540b9ba207dc7655b42d7": {
      "model_module": "@jupyter-widgets/output",
      "model_module_version": "1.0.0",
      "model_name": "OutputModel",
      "state": {
       "layout": "IPY_MODEL_1db02c5639c14fb8b9cd2fac9eaf5bfd"
      }
     },
     "cf4703dc555c4bed891a8e7989c20195": {
      "model_module": "@jupyter-widgets/controls",
      "model_module_version": "1.5.0",
      "model_name": "SliderStyleModel",
      "state": {
       "description_width": ""
      }
     },
     "cfa04a5e4d4040aea94d2ab1c93dc7f5": {
      "model_module": "@jupyter-widgets/base",
      "model_module_version": "1.2.0",
      "model_name": "LayoutModel",
      "state": {}
     },
     "d15bec5610154b83bbb0fcb958be3026": {
      "model_module": "@jupyter-widgets/base",
      "model_module_version": "1.2.0",
      "model_name": "LayoutModel",
      "state": {}
     },
     "d257c31226b0447aa2ae805339056610": {
      "model_module": "@jupyter-widgets/controls",
      "model_module_version": "1.5.0",
      "model_name": "IntSliderModel",
      "state": {
       "description": "M",
       "layout": "IPY_MODEL_ba4ccf5a891c45e89ae8c76e84df1377",
       "max": 2000,
       "min": 250,
       "step": 10,
       "style": "IPY_MODEL_3fc71e17d8cd4291b0762f12ae0e74f7",
       "value": 1000
      }
     },
     "d50758d2abc14f798bbdc4d33c7ca91e": {
      "model_module": "@jupyter-widgets/controls",
      "model_module_version": "1.5.0",
      "model_name": "IntSliderModel",
      "state": {
       "description": "y0",
       "layout": "IPY_MODEL_6a0efb26fe374dce94765d555c41c2ae",
       "max": 1000,
       "min": 50,
       "step": 5,
       "style": "IPY_MODEL_c0b4af68733b43be904f3d3f85f5cfa7",
       "value": 50
      }
     },
     "d58f8107f81b4a1db4f65fb91669c47f": {
      "model_module": "@jupyter-widgets/output",
      "model_module_version": "1.0.0",
      "model_name": "OutputModel",
      "state": {
       "layout": "IPY_MODEL_3b72653a77f043eb939004aff6944efb"
      }
     },
     "dbc7d1bac8344c0aa0affbbfa51938e0": {
      "model_module": "@jupyter-widgets/base",
      "model_module_version": "1.2.0",
      "model_name": "LayoutModel",
      "state": {}
     },
     "dc94f9a67770485593550c2c1f4a5c42": {
      "model_module": "@jupyter-widgets/base",
      "model_module_version": "1.2.0",
      "model_name": "LayoutModel",
      "state": {}
     },
     "dd13fd0e2d4746e58715f143e27b85b3": {
      "model_module": "@jupyter-widgets/output",
      "model_module_version": "1.0.0",
      "model_name": "OutputModel",
      "state": {
       "layout": "IPY_MODEL_c7ce90fb2d74453a86ce76372ced4936"
      }
     },
     "ddfbd15e22b14699b878d674c8243f27": {
      "model_module": "@jupyter-widgets/base",
      "model_module_version": "1.2.0",
      "model_name": "LayoutModel",
      "state": {}
     },
     "df7c2cee885a4030a71694b9b432d9d9": {
      "model_module": "@jupyter-widgets/controls",
      "model_module_version": "1.5.0",
      "model_name": "IntSliderModel",
      "state": {
       "description": "M",
       "layout": "IPY_MODEL_ddfbd15e22b14699b878d674c8243f27",
       "max": 2000,
       "min": 100,
       "step": 10,
       "style": "IPY_MODEL_7a4500d1ca184e30a9ec2149b9ea627c",
       "value": 2000
      }
     },
     "e090d75bce5a443facb8e65f3edaec56": {
      "model_module": "@jupyter-widgets/controls",
      "model_module_version": "1.5.0",
      "model_name": "SliderStyleModel",
      "state": {
       "description_width": ""
      }
     },
     "e0e77434780d4c07a8601fe9dbe0ffe0": {
      "model_module": "@jupyter-widgets/base",
      "model_module_version": "1.2.0",
      "model_name": "LayoutModel",
      "state": {}
     },
     "e0eeedb6f58742b2bb808d4ff0690b86": {
      "model_module": "@jupyter-widgets/controls",
      "model_module_version": "1.5.0",
      "model_name": "SliderStyleModel",
      "state": {
       "description_width": ""
      }
     },
     "e1b0573952fd48b0b950b8bda76d667a": {
      "model_module": "@jupyter-widgets/controls",
      "model_module_version": "1.5.0",
      "model_name": "SliderStyleModel",
      "state": {
       "description_width": ""
      }
     },
     "e1b4728375364dafab45e1beb81b4065": {
      "model_module": "@jupyter-widgets/base",
      "model_module_version": "1.2.0",
      "model_name": "LayoutModel",
      "state": {}
     },
     "e320293c996949548d99a7eca547bef9": {
      "model_module": "@jupyter-widgets/controls",
      "model_module_version": "1.5.0",
      "model_name": "SliderStyleModel",
      "state": {
       "description_width": ""
      }
     },
     "e547f03643054f538738dc888489be9d": {
      "model_module": "@jupyter-widgets/controls",
      "model_module_version": "1.5.0",
      "model_name": "IntSliderModel",
      "state": {
       "description": "y0",
       "layout": "IPY_MODEL_1d835be9021749f3927f75ef2b656149",
       "max": 1000,
       "min": 250,
       "step": 5,
       "style": "IPY_MODEL_e0eeedb6f58742b2bb808d4ff0690b86",
       "value": 250
      }
     },
     "e6b87574b4a741ebbf97d6f5cdfceccc": {
      "model_module": "@jupyter-widgets/controls",
      "model_module_version": "1.5.0",
      "model_name": "VBoxModel",
      "state": {
       "_dom_classes": [
        "widget-interact"
       ],
       "children": [
        "IPY_MODEL_8d7791d412ce40bab330824504a15821",
        "IPY_MODEL_4a6746987bb14553a22e117f2bd66ae3",
        "IPY_MODEL_b181433014d4469badae671dab15a954",
        "IPY_MODEL_294c934efe674a1fa043b3ea676a34af"
       ],
       "layout": "IPY_MODEL_aefd472098004357b486fe94c90dc9c2"
      }
     },
     "e7ee727a023c4198a2a4d3d0e393b4d9": {
      "model_module": "@jupyter-widgets/controls",
      "model_module_version": "1.5.0",
      "model_name": "IntSliderModel",
      "state": {
       "description": "M",
       "layout": "IPY_MODEL_9f170c583adb4d81bac766ca62254036",
       "max": 2000,
       "min": 250,
       "step": 10,
       "style": "IPY_MODEL_a6900206e75b45e09a2e2ee6a009839c",
       "value": 1000
      }
     },
     "eb4e885672e94373a3b8455278e87b26": {
      "model_module": "@jupyter-widgets/base",
      "model_module_version": "1.2.0",
      "model_name": "LayoutModel",
      "state": {}
     },
     "ebbcd98eb306424492b1910f43a34b22": {
      "model_module": "@jupyter-widgets/controls",
      "model_module_version": "1.5.0",
      "model_name": "SliderStyleModel",
      "state": {
       "description_width": ""
      }
     },
     "ed2f12908b0e40d59edf0e7e6efd5c77": {
      "model_module": "@jupyter-widgets/output",
      "model_module_version": "1.0.0",
      "model_name": "OutputModel",
      "state": {
       "layout": "IPY_MODEL_b81d874ba92345d2b2286d3e8c29df16"
      }
     },
     "ed3ed0bb24844391a7316e80d2cc39b1": {
      "model_module": "@jupyter-widgets/controls",
      "model_module_version": "1.5.0",
      "model_name": "VBoxModel",
      "state": {
       "_dom_classes": [
        "widget-interact"
       ],
       "children": [
        "IPY_MODEL_66591c52d1494ce6a8781f5c41bd49e9",
        "IPY_MODEL_1821cc80c03548e4a10c5d3cd10555ca",
        "IPY_MODEL_2a8bc1c76c3d44ddbc14726f5f0b2399",
        "IPY_MODEL_7022e275f6a8476c8dfc47337bed3cf4"
       ],
       "layout": "IPY_MODEL_128841b01a2a436d86a2157757da67fc"
      }
     },
     "f188c2d1121c4a559b25a316605bd558": {
      "model_module": "@jupyter-widgets/controls",
      "model_module_version": "1.5.0",
      "model_name": "SliderStyleModel",
      "state": {
       "description_width": ""
      }
     },
     "f658215027f04cb2ba75123d2eceb6b2": {
      "model_module": "@jupyter-widgets/output",
      "model_module_version": "1.0.0",
      "model_name": "OutputModel",
      "state": {
       "layout": "IPY_MODEL_87751c76cb4049ef97e6e58f31ea5982"
      }
     },
     "f71a36c1202049fd895699395ba5ad87": {
      "model_module": "@jupyter-widgets/base",
      "model_module_version": "1.2.0",
      "model_name": "LayoutModel",
      "state": {}
     },
     "f7945f6317a34acb9fe5a06743183a9d": {
      "model_module": "@jupyter-widgets/controls",
      "model_module_version": "1.5.0",
      "model_name": "FloatSliderModel",
      "state": {
       "description": "V",
       "layout": "IPY_MODEL_46c3334759ea41f296f5b83ecdb0f5f4",
       "max": 16,
       "min": 0.8,
       "step": 0.1,
       "style": "IPY_MODEL_b7f643eedd304d0fb278793ba59bb0d7",
       "value": 12
      }
     },
     "f98fd46f2bf5490388683a1db8ed0062": {
      "model_module": "@jupyter-widgets/controls",
      "model_module_version": "1.5.0",
      "model_name": "FloatSliderModel",
      "state": {
       "description": "V",
       "layout": "IPY_MODEL_2ab33c1d074541888c555755e2f5395a",
       "max": 16,
       "min": 2,
       "step": 0.1,
       "style": "IPY_MODEL_47bedbeb64dc4ad098682f400b774134",
       "value": 12
      }
     },
     "fae5601dcccf40d8ae246d905799b183": {
      "model_module": "@jupyter-widgets/controls",
      "model_module_version": "1.5.0",
      "model_name": "FloatSliderModel",
      "state": {
       "description": "V",
       "layout": "IPY_MODEL_9c5b4eeda9c24ac99947cd50f931cf3d",
       "max": 16,
       "min": 0.8,
       "step": 0.1,
       "style": "IPY_MODEL_ebbcd98eb306424492b1910f43a34b22",
       "value": 12
      }
     },
     "fb5b00b9494f4ce8b4fea35fb8e528d5": {
      "model_module": "@jupyter-widgets/controls",
      "model_module_version": "1.5.0",
      "model_name": "IntSliderModel",
      "state": {
       "description": "M",
       "layout": "IPY_MODEL_52fba609c70a4513b5f8896980a5dd91",
       "max": 2000,
       "min": 100,
       "step": 10,
       "style": "IPY_MODEL_93be7e2b0e7f47ab9604136135d79e2b",
       "value": 1000
      }
     },
     "fc53b97bbf4246a282a3b0749f98510b": {
      "model_module": "@jupyter-widgets/controls",
      "model_module_version": "1.5.0",
      "model_name": "VBoxModel",
      "state": {
       "_dom_classes": [
        "widget-interact"
       ],
       "children": [
        "IPY_MODEL_103e8cfb466d4caeb1f03d1a76755ec1",
        "IPY_MODEL_4731307daed142148f87fd037c130a3e",
        "IPY_MODEL_a40ad48c698943c885ec32755a9d60fe",
        "IPY_MODEL_762792f8cad6430ea47ff331eb8cfaaf"
       ],
       "layout": "IPY_MODEL_6507fe6bb4c846e7946f4edebe3460fc"
      }
     },
     "fdf7c9ad43a34cb49788a2487f7cafb5": {
      "model_module": "@jupyter-widgets/base",
      "model_module_version": "1.2.0",
      "model_name": "LayoutModel",
      "state": {}
     }
    },
    "version_major": 2,
    "version_minor": 0
   }
  }
 },
 "nbformat": 4,
 "nbformat_minor": 4
}
