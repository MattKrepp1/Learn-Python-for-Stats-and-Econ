{
 "cells": [
  {
   "cell_type": "code",
   "execution_count": 1,
   "metadata": {},
   "outputs": [],
   "source": [
    "#plots.py\n",
    "import os\n",
    "import pandas\n",
    "import pandas_datareader.data as web\n",
    "import numpy as np\n",
    "import matplotlib.pyplot as plt\n",
    "import matplotlib.transforms as mtransforms\n",
    "import datetime\n",
    "import math\n",
    "\n",
    "def gather_data(data_codes, start, end = datetime.datetime.today(), freq = \"A\"):\n",
    "    i = 0\n",
    "    # dct.items() calls key and value that key points to\n",
    "    for key, val in data_codes.items():\n",
    "        if i == 0:\n",
    "            # Create dataframe for first variable, then rename column\n",
    "            df = web.DataReader(val, \"fred\", start, end).resample(freq).mean()\n",
    "            df.rename(columns = {val:key}, inplace = True) \n",
    "            # setting i to None will cause the next block of code to execute,\n",
    "            # placing data within df instead of creating a new dataframe for\n",
    "            # each variable\n",
    "            i = None\n",
    "        else:\n",
    "            # If dataframe already exists, add new column\n",
    "            df[key] = web.DataReader(val, \"fred\", start, end).resample(freq).mean()\n",
    "\n",
    "    return df\n",
    "\n",
    "def plot_ts_scatter(df, s = 75, figsize = (40, 20), save_fig = False, pp = None):\n",
    "    # Create plot for every unique pair of variables\n",
    "    plot_vars = list(df.keys())\n",
    "    for var1 in plot_vars:\n",
    "        for var2 in plot_vars:\n",
    "            if var1 != var2:\n",
    "                fig, ax = plt.subplots(figsize = figsize)\n",
    "                # Create list of years from index\n",
    "                # Year will be represented by color\n",
    "                if \"Year\" not in df.keys():\n",
    "                    df[\"Year\"] = [int(str(ind)[:4]) for ind in df.index] \n",
    "                df.plot.scatter(x = var1, y = var2, s = s, ax = ax, \n",
    "                                c = \"Year\", cmap = \"viridis\")\n",
    "                # Turn the text on the x-axis so that it reads vertically\n",
    "                ax.tick_params(axis='x', rotation=90)\n",
    "                # Get rid of tick lines perpendicular to the axis for aesthetic\n",
    "                ax.tick_params('both', length=0, which='both')\n",
    "                # save image if PdfPages object was passed\n",
    "                if save_fig:\n",
    "                    try:\n",
    "                        os.mkdir(\"plots\")\n",
    "                    except:\n",
    "                        pass\n",
    "                    plt.savefig(\"plots/\" + str(plot_vars).replace(\"[\", \"\").replace(\"]\",\"\")[:40] + \" scatter.png\",\n",
    "                            bbox_inches = \"tight\")\n",
    "                    if pp != None: pp.savefig(fig, bbox_inches = \"tight\")\n",
    "\n",
    "def plot_lines(df, title = False, linewidth = 1, figsize = (40,20), full_index = False, \n",
    "               h_line = False, max_y = False, legend = True, pp = None, show_inversion = False):\n",
    "    fig, ax = plt.subplots(figsize = figsize)\n",
    "    # If no secondary_y (axis), plot all variables at once\n",
    "    df.plot.line(linewidth = linewidth, ax = ax, legend = legend)\n",
    "    if h_line != False:\n",
    "        ax.axhline(h_line, ls = \"--\", linewidth = 1.5, color = \"k\")\n",
    "    # Turn the text on the x-axis so that it reads vertically\n",
    "    ax.tick_params(axis='x', rotation=90)\n",
    "    # Get rid of tick lines perpendicular to the axis for aesthetic\n",
    "    ax.tick_params('both', length=0, which='both')\n",
    "    if max_y != False:\n",
    "        ax.set_ylim(bottom = 0, top = max_y)\n",
    "    else:\n",
    "        ax.set_ylim(bottom = 0)\n",
    "    \n",
    "    if full_index:\n",
    "        plt.xticks([i for i in range(len(df.index))], list(df.index))\n",
    "    vals = ax.get_yticks()\n",
    "    ax.set_yticklabels([round(y,2) for y in vals]) \n",
    "\n",
    "    # transform y-axis values from sci notation to integers\n",
    "    vals = ax.get_yticks()\n",
    "    ax.set_yticklabels([round(y,2) for y in vals]) \n",
    "    if title != False:\n",
    "        plt.title(title, fontsize = 72)\n",
    "\n",
    "    if show_inversion:\n",
    "        trans = mtransforms.blended_transform_factory(ax.transData, ax.transAxes)\n",
    "        ax.fill_between(df.index, 0, df.max().max(), where=df[\"2 Y (%)\"] < df[\"1 M (%)\"],\n",
    "                    facecolor='red', alpha=0.2, transform = trans)\n",
    "    # format image filename \n",
    "    remove_chars = \"[]:$'\\\\\"\n",
    "    filename = str(list(df.keys()))\n",
    "    for char in remove_chars:\n",
    "        filename = filename.replace(char, \"\")\n",
    "    plt.savefig(filename[:50] + \" line.png\",\n",
    "                bbox_inches = \"tight\")\n",
    "    #[:50] + \" line.png\"\n",
    "    # save image if PdfPages object was passed\n",
    "    if pp != None: pp.savefig(fig, bbox_inches = \"tight\")\n",
    "    plt.close()\n",
    "\n",
    "def plot_stacked_lines(df, plot_vars, linewidth = 1, figsize = (40,20), \n",
    "                       pp = None, total_var = False):\n",
    "    fig, ax = plt.subplots(figsize = figsize)\n",
    "#    mpl_colors = [\"C\" + str(i) for i in range(11)]\n",
    "    df[plot_vars].plot.area(stacked = True, linewidth = linewidth,\n",
    "                            ax = ax)\n",
    "    if total_var != False:\n",
    "        df[total_var].plot.line(linewidth = linewidth, ax = ax, c = \"k\",\n",
    "              label = total_var, ls = \"--\")\n",
    "    ax.legend(loc=2, ncol = 2)"
   ]
  },
  {
   "cell_type": "code",
   "execution_count": 2,
   "metadata": {},
   "outputs": [],
   "source": [
    "data_codes  = {\"1 M (%)\": \"DGS1MO\",\n",
    "               #\"2 Month (%)\": \"DGS2MO\",\n",
    "               \"3 M (%)\": \"DGS3MO\",\n",
    "               \"6 M (%)\": \"DGS6MO\",               \n",
    "               \"1 Y (%)\": \"DGS1\",\n",
    "               \"2 Y (%)\": \"DGS2\",\n",
    "               \"3 Y (%)\": \"DGS3\",\n",
    "               \"5 Y (%)\": \"DGS5\",\n",
    "               \"7 Y (%)\": \"DGS7\",\n",
    "               \"10 Y (%)\": \"DGS10\",\n",
    "               \"20 Y (%)\": \"DGS20\",\n",
    "               \"30 Y (%)\": \"DGS30\",\n",
    "               \"Federal Funds Target (Pre-Crisis)\": \"DFEDTAR\",\n",
    "               \"Federal Funds (Upper) Target\":\"DFEDTARU\",\n",
    "               \"Effective Federal Funds Rate\":\"DFF\",\n",
    "               \"Interest on Excess Reserves\":\"IOER\"}\n",
    "\n",
    " #             \"Expected Inflation (%)\":\"T10YIE\"}\n",
    "               \n",
    "# Select start and end dates\n",
    "start = datetime.datetime(2006, 1, 1)\n",
    "end = datetime.datetime.today()\n",
    "\n",
    "# freq refers to data frequency. Choose \"D\", \"W\", \"M\", \"Q\", \"A\"\n",
    "# a number may also be place in front of a letter. \"2D\" indicates\n",
    "#       alternating days\n",
    "data = gather_data(data_codes = data_codes, start = start, end = end, freq = \"D\")\n",
    "data[\"30 Y - 1 M\"] = data[\"30 Y (%)\"].sub(data[\"1 M (%)\"])\n",
    "#data[\"Inflation (%)\"] = data[\"Inflation (%)\"].pct_change(12)*100"
   ]
  },
  {
   "cell_type": "code",
   "execution_count": 3,
   "metadata": {},
   "outputs": [
    {
     "data": {
      "text/html": [
       "<div>\n",
       "<style scoped>\n",
       "    .dataframe tbody tr th:only-of-type {\n",
       "        vertical-align: middle;\n",
       "    }\n",
       "\n",
       "    .dataframe tbody tr th {\n",
       "        vertical-align: top;\n",
       "    }\n",
       "\n",
       "    .dataframe thead th {\n",
       "        text-align: right;\n",
       "    }\n",
       "</style>\n",
       "<table border=\"1\" class=\"dataframe\">\n",
       "  <thead>\n",
       "    <tr style=\"text-align: right;\">\n",
       "      <th></th>\n",
       "      <th>1 M (%)</th>\n",
       "      <th>3 M (%)</th>\n",
       "      <th>6 M (%)</th>\n",
       "      <th>1 Y (%)</th>\n",
       "      <th>2 Y (%)</th>\n",
       "      <th>3 Y (%)</th>\n",
       "      <th>5 Y (%)</th>\n",
       "      <th>7 Y (%)</th>\n",
       "      <th>10 Y (%)</th>\n",
       "      <th>20 Y (%)</th>\n",
       "      <th>30 Y (%)</th>\n",
       "      <th>Federal Funds Target (Pre-Crisis)</th>\n",
       "      <th>Federal Funds (Upper) Target</th>\n",
       "      <th>Effective Federal Funds Rate</th>\n",
       "      <th>Interest on Excess Reserves</th>\n",
       "      <th>30 Y - 1 M</th>\n",
       "    </tr>\n",
       "    <tr>\n",
       "      <th>DATE</th>\n",
       "      <th></th>\n",
       "      <th></th>\n",
       "      <th></th>\n",
       "      <th></th>\n",
       "      <th></th>\n",
       "      <th></th>\n",
       "      <th></th>\n",
       "      <th></th>\n",
       "      <th></th>\n",
       "      <th></th>\n",
       "      <th></th>\n",
       "      <th></th>\n",
       "      <th></th>\n",
       "      <th></th>\n",
       "      <th></th>\n",
       "      <th></th>\n",
       "    </tr>\n",
       "  </thead>\n",
       "  <tbody>\n",
       "    <tr>\n",
       "      <th>2006-01-02</th>\n",
       "      <td>NaN</td>\n",
       "      <td>NaN</td>\n",
       "      <td>NaN</td>\n",
       "      <td>NaN</td>\n",
       "      <td>NaN</td>\n",
       "      <td>NaN</td>\n",
       "      <td>NaN</td>\n",
       "      <td>NaN</td>\n",
       "      <td>NaN</td>\n",
       "      <td>NaN</td>\n",
       "      <td>NaN</td>\n",
       "      <td>4.25</td>\n",
       "      <td>NaN</td>\n",
       "      <td>4.09</td>\n",
       "      <td>NaN</td>\n",
       "      <td>NaN</td>\n",
       "    </tr>\n",
       "    <tr>\n",
       "      <th>2006-01-03</th>\n",
       "      <td>4.05</td>\n",
       "      <td>4.16</td>\n",
       "      <td>4.40</td>\n",
       "      <td>4.38</td>\n",
       "      <td>4.34</td>\n",
       "      <td>4.30</td>\n",
       "      <td>4.30</td>\n",
       "      <td>4.32</td>\n",
       "      <td>4.37</td>\n",
       "      <td>4.62</td>\n",
       "      <td>4.52</td>\n",
       "      <td>4.25</td>\n",
       "      <td>NaN</td>\n",
       "      <td>4.34</td>\n",
       "      <td>NaN</td>\n",
       "      <td>0.47</td>\n",
       "    </tr>\n",
       "    <tr>\n",
       "      <th>2006-01-04</th>\n",
       "      <td>4.03</td>\n",
       "      <td>4.19</td>\n",
       "      <td>4.37</td>\n",
       "      <td>4.35</td>\n",
       "      <td>4.31</td>\n",
       "      <td>4.28</td>\n",
       "      <td>4.28</td>\n",
       "      <td>4.31</td>\n",
       "      <td>4.36</td>\n",
       "      <td>4.60</td>\n",
       "      <td>4.55</td>\n",
       "      <td>4.25</td>\n",
       "      <td>NaN</td>\n",
       "      <td>4.22</td>\n",
       "      <td>NaN</td>\n",
       "      <td>0.52</td>\n",
       "    </tr>\n",
       "    <tr>\n",
       "      <th>2006-01-05</th>\n",
       "      <td>4.05</td>\n",
       "      <td>4.20</td>\n",
       "      <td>4.37</td>\n",
       "      <td>4.36</td>\n",
       "      <td>4.32</td>\n",
       "      <td>4.29</td>\n",
       "      <td>4.29</td>\n",
       "      <td>4.31</td>\n",
       "      <td>4.36</td>\n",
       "      <td>4.61</td>\n",
       "      <td>4.51</td>\n",
       "      <td>4.25</td>\n",
       "      <td>NaN</td>\n",
       "      <td>4.24</td>\n",
       "      <td>NaN</td>\n",
       "      <td>0.46</td>\n",
       "    </tr>\n",
       "    <tr>\n",
       "      <th>2006-01-06</th>\n",
       "      <td>4.06</td>\n",
       "      <td>4.22</td>\n",
       "      <td>4.39</td>\n",
       "      <td>4.38</td>\n",
       "      <td>4.36</td>\n",
       "      <td>4.32</td>\n",
       "      <td>4.32</td>\n",
       "      <td>4.33</td>\n",
       "      <td>4.38</td>\n",
       "      <td>4.63</td>\n",
       "      <td>4.53</td>\n",
       "      <td>4.25</td>\n",
       "      <td>NaN</td>\n",
       "      <td>4.22</td>\n",
       "      <td>NaN</td>\n",
       "      <td>0.47</td>\n",
       "    </tr>\n",
       "    <tr>\n",
       "      <th>...</th>\n",
       "      <td>...</td>\n",
       "      <td>...</td>\n",
       "      <td>...</td>\n",
       "      <td>...</td>\n",
       "      <td>...</td>\n",
       "      <td>...</td>\n",
       "      <td>...</td>\n",
       "      <td>...</td>\n",
       "      <td>...</td>\n",
       "      <td>...</td>\n",
       "      <td>...</td>\n",
       "      <td>...</td>\n",
       "      <td>...</td>\n",
       "      <td>...</td>\n",
       "      <td>...</td>\n",
       "      <td>...</td>\n",
       "    </tr>\n",
       "    <tr>\n",
       "      <th>2022-04-04</th>\n",
       "      <td>0.18</td>\n",
       "      <td>0.66</td>\n",
       "      <td>1.14</td>\n",
       "      <td>1.72</td>\n",
       "      <td>2.43</td>\n",
       "      <td>2.61</td>\n",
       "      <td>2.56</td>\n",
       "      <td>2.52</td>\n",
       "      <td>2.42</td>\n",
       "      <td>2.64</td>\n",
       "      <td>2.48</td>\n",
       "      <td>NaN</td>\n",
       "      <td>0.5</td>\n",
       "      <td>0.33</td>\n",
       "      <td>NaN</td>\n",
       "      <td>2.30</td>\n",
       "    </tr>\n",
       "    <tr>\n",
       "      <th>2022-04-05</th>\n",
       "      <td>0.18</td>\n",
       "      <td>0.65</td>\n",
       "      <td>1.13</td>\n",
       "      <td>1.77</td>\n",
       "      <td>2.51</td>\n",
       "      <td>2.69</td>\n",
       "      <td>2.69</td>\n",
       "      <td>2.65</td>\n",
       "      <td>2.54</td>\n",
       "      <td>2.74</td>\n",
       "      <td>2.57</td>\n",
       "      <td>NaN</td>\n",
       "      <td>0.5</td>\n",
       "      <td>0.33</td>\n",
       "      <td>NaN</td>\n",
       "      <td>2.39</td>\n",
       "    </tr>\n",
       "    <tr>\n",
       "      <th>2022-04-06</th>\n",
       "      <td>0.21</td>\n",
       "      <td>0.67</td>\n",
       "      <td>1.15</td>\n",
       "      <td>1.79</td>\n",
       "      <td>2.50</td>\n",
       "      <td>2.67</td>\n",
       "      <td>2.70</td>\n",
       "      <td>2.69</td>\n",
       "      <td>2.61</td>\n",
       "      <td>2.81</td>\n",
       "      <td>2.63</td>\n",
       "      <td>NaN</td>\n",
       "      <td>0.5</td>\n",
       "      <td>0.33</td>\n",
       "      <td>NaN</td>\n",
       "      <td>2.42</td>\n",
       "    </tr>\n",
       "    <tr>\n",
       "      <th>2022-04-07</th>\n",
       "      <td>0.21</td>\n",
       "      <td>0.68</td>\n",
       "      <td>1.15</td>\n",
       "      <td>1.78</td>\n",
       "      <td>2.47</td>\n",
       "      <td>2.66</td>\n",
       "      <td>2.70</td>\n",
       "      <td>2.73</td>\n",
       "      <td>2.66</td>\n",
       "      <td>2.87</td>\n",
       "      <td>2.69</td>\n",
       "      <td>NaN</td>\n",
       "      <td>0.5</td>\n",
       "      <td>0.33</td>\n",
       "      <td>NaN</td>\n",
       "      <td>2.48</td>\n",
       "    </tr>\n",
       "    <tr>\n",
       "      <th>2022-04-08</th>\n",
       "      <td>0.20</td>\n",
       "      <td>0.70</td>\n",
       "      <td>1.19</td>\n",
       "      <td>1.81</td>\n",
       "      <td>2.53</td>\n",
       "      <td>2.73</td>\n",
       "      <td>2.76</td>\n",
       "      <td>2.79</td>\n",
       "      <td>2.72</td>\n",
       "      <td>2.94</td>\n",
       "      <td>2.76</td>\n",
       "      <td>NaN</td>\n",
       "      <td>0.5</td>\n",
       "      <td>0.33</td>\n",
       "      <td>NaN</td>\n",
       "      <td>2.56</td>\n",
       "    </tr>\n",
       "  </tbody>\n",
       "</table>\n",
       "<p>5941 rows × 16 columns</p>\n",
       "</div>"
      ],
      "text/plain": [
       "            1 M (%)  3 M (%)  6 M (%)  1 Y (%)  2 Y (%)  3 Y (%)  5 Y (%)  \\\n",
       "DATE                                                                        \n",
       "2006-01-02      NaN      NaN      NaN      NaN      NaN      NaN      NaN   \n",
       "2006-01-03     4.05     4.16     4.40     4.38     4.34     4.30     4.30   \n",
       "2006-01-04     4.03     4.19     4.37     4.35     4.31     4.28     4.28   \n",
       "2006-01-05     4.05     4.20     4.37     4.36     4.32     4.29     4.29   \n",
       "2006-01-06     4.06     4.22     4.39     4.38     4.36     4.32     4.32   \n",
       "...             ...      ...      ...      ...      ...      ...      ...   \n",
       "2022-04-04     0.18     0.66     1.14     1.72     2.43     2.61     2.56   \n",
       "2022-04-05     0.18     0.65     1.13     1.77     2.51     2.69     2.69   \n",
       "2022-04-06     0.21     0.67     1.15     1.79     2.50     2.67     2.70   \n",
       "2022-04-07     0.21     0.68     1.15     1.78     2.47     2.66     2.70   \n",
       "2022-04-08     0.20     0.70     1.19     1.81     2.53     2.73     2.76   \n",
       "\n",
       "            7 Y (%)  10 Y (%)  20 Y (%)  30 Y (%)  \\\n",
       "DATE                                                \n",
       "2006-01-02      NaN       NaN       NaN       NaN   \n",
       "2006-01-03     4.32      4.37      4.62      4.52   \n",
       "2006-01-04     4.31      4.36      4.60      4.55   \n",
       "2006-01-05     4.31      4.36      4.61      4.51   \n",
       "2006-01-06     4.33      4.38      4.63      4.53   \n",
       "...             ...       ...       ...       ...   \n",
       "2022-04-04     2.52      2.42      2.64      2.48   \n",
       "2022-04-05     2.65      2.54      2.74      2.57   \n",
       "2022-04-06     2.69      2.61      2.81      2.63   \n",
       "2022-04-07     2.73      2.66      2.87      2.69   \n",
       "2022-04-08     2.79      2.72      2.94      2.76   \n",
       "\n",
       "            Federal Funds Target (Pre-Crisis)  Federal Funds (Upper) Target  \\\n",
       "DATE                                                                          \n",
       "2006-01-02                               4.25                           NaN   \n",
       "2006-01-03                               4.25                           NaN   \n",
       "2006-01-04                               4.25                           NaN   \n",
       "2006-01-05                               4.25                           NaN   \n",
       "2006-01-06                               4.25                           NaN   \n",
       "...                                       ...                           ...   \n",
       "2022-04-04                                NaN                           0.5   \n",
       "2022-04-05                                NaN                           0.5   \n",
       "2022-04-06                                NaN                           0.5   \n",
       "2022-04-07                                NaN                           0.5   \n",
       "2022-04-08                                NaN                           0.5   \n",
       "\n",
       "            Effective Federal Funds Rate  Interest on Excess Reserves  \\\n",
       "DATE                                                                    \n",
       "2006-01-02                          4.09                          NaN   \n",
       "2006-01-03                          4.34                          NaN   \n",
       "2006-01-04                          4.22                          NaN   \n",
       "2006-01-05                          4.24                          NaN   \n",
       "2006-01-06                          4.22                          NaN   \n",
       "...                                  ...                          ...   \n",
       "2022-04-04                          0.33                          NaN   \n",
       "2022-04-05                          0.33                          NaN   \n",
       "2022-04-06                          0.33                          NaN   \n",
       "2022-04-07                          0.33                          NaN   \n",
       "2022-04-08                          0.33                          NaN   \n",
       "\n",
       "            30 Y - 1 M  \n",
       "DATE                    \n",
       "2006-01-02         NaN  \n",
       "2006-01-03        0.47  \n",
       "2006-01-04        0.52  \n",
       "2006-01-05        0.46  \n",
       "2006-01-06        0.47  \n",
       "...                ...  \n",
       "2022-04-04        2.30  \n",
       "2022-04-05        2.39  \n",
       "2022-04-06        2.42  \n",
       "2022-04-07        2.48  \n",
       "2022-04-08        2.56  \n",
       "\n",
       "[5941 rows x 16 columns]"
      ]
     },
     "execution_count": 3,
     "metadata": {},
     "output_type": "execute_result"
    }
   ],
   "source": [
    "data"
   ]
  },
  {
   "cell_type": "code",
   "execution_count": 4,
   "metadata": {},
   "outputs": [
    {
     "name": "stderr",
     "output_type": "stream",
     "text": [
      "<ipython-input-1-f16760372b65>:75: UserWarning: FixedFormatter should only be used together with FixedLocator\n",
      "  ax.set_yticklabels([round(y,2) for y in vals])\n",
      "<ipython-input-1-f16760372b65>:79: UserWarning: FixedFormatter should only be used together with FixedLocator\n",
      "  ax.set_yticklabels([round(y,2) for y in vals])\n"
     ]
    }
   ],
   "source": [
    "plt.rcParams.update({'font.size': 32})\n",
    "plt.rcParams['axes.ymargin'] = 0\n",
    "plot_vars = [\"Federal Funds Target (Pre-Crisis)\",\n",
    "             \"Federal Funds (Upper) Target\",\n",
    "             \"Interest on Excess Reserves\",\n",
    "             \"Effective Federal Funds Rate\",\n",
    "             \"1 M (%)\"]\n",
    "\n",
    "plot_lines(df = data[plot_vars], linewidth = 1.5, figsize = (40, 20), pp = None, show_inversion = False)"
   ]
  },
  {
   "cell_type": "code",
   "execution_count": 5,
   "metadata": {},
   "outputs": [
    {
     "name": "stderr",
     "output_type": "stream",
     "text": [
      "<ipython-input-1-f16760372b65>:75: UserWarning: FixedFormatter should only be used together with FixedLocator\n",
      "  ax.set_yticklabels([round(y,2) for y in vals])\n",
      "<ipython-input-1-f16760372b65>:79: UserWarning: FixedFormatter should only be used together with FixedLocator\n",
      "  ax.set_yticklabels([round(y,2) for y in vals])\n"
     ]
    }
   ],
   "source": [
    "\n",
    "plot_lines(df = data, linewidth = 1.5, figsize = (40, 20), pp = None, show_inversion = True)"
   ]
  },
  {
   "cell_type": "code",
   "execution_count": 6,
   "metadata": {},
   "outputs": [
    {
     "name": "stderr",
     "output_type": "stream",
     "text": [
      "<ipython-input-1-f16760372b65>:39: SettingWithCopyWarning: \n",
      "A value is trying to be set on a copy of a slice from a DataFrame.\n",
      "Try using .loc[row_indexer,col_indexer] = value instead\n",
      "\n",
      "See the caveats in the documentation: https://pandas.pydata.org/pandas-docs/stable/user_guide/indexing.html#returning-a-view-versus-a-copy\n",
      "  df[\"Year\"] = [int(str(ind)[:4]) for ind in df.index]\n"
     ]
    },
    {
     "data": {
      "image/png": "[encoded data removed]",
      "text/plain": [
       "<Figure size 2880x1440 with 2 Axes>"
      ]
     },
     "metadata": {
      "needs_background": "light"
     },
     "output_type": "display_data"
    },
    {
     "data": {
      "image/png": "[encoded data removed]",
      "text/plain": [
       "<Figure size 2880x1440 with 2 Axes>"
      ]
     },
     "metadata": {
      "needs_background": "light"
     },
     "output_type": "display_data"
    }
   ],
   "source": [
    "plot_ts_scatter(data[[\"1 M (%)\", \"30 Y - 1 M\"]], s = 75, figsize = (40, 20))"
   ]
  },
  {
   "cell_type": "code",
   "execution_count": 7,
   "metadata": {},
   "outputs": [
    {
     "name": "stderr",
     "output_type": "stream",
     "text": [
      "<ipython-input-1-f16760372b65>:75: UserWarning: FixedFormatter should only be used together with FixedLocator\n",
      "  ax.set_yticklabels([round(y,2) for y in vals])\n",
      "<ipython-input-1-f16760372b65>:79: UserWarning: FixedFormatter should only be used together with FixedLocator\n",
      "  ax.set_yticklabels([round(y,2) for y in vals])\n"
     ]
    }
   ],
   "source": [
    "plot_lines(df = data[[\"1 M (%)\", \"30 Y (%)\", \"30 Y - 1 M\"]], title = \"Yields\", linewidth = 1.5, figsize = (40, 20), pp = None)"
   ]
  },
  {
   "cell_type": "code",
   "execution_count": 8,
   "metadata": {},
   "outputs": [
    {
     "name": "stderr",
     "output_type": "stream",
     "text": [
      "<ipython-input-1-f16760372b65>:75: UserWarning: FixedFormatter should only be used together with FixedLocator\n",
      "  ax.set_yticklabels([round(y,2) for y in vals])\n",
      "<ipython-input-1-f16760372b65>:79: UserWarning: FixedFormatter should only be used together with FixedLocator\n",
      "  ax.set_yticklabels([round(y,2) for y in vals])\n"
     ]
    }
   ],
   "source": [
    "T_data = data.T\n",
    "T_data.rename(columns={name : str(name)[:10] for name in T_data.keys()}, inplace = True)\n",
    "keys = list(T_data.keys())\n",
    "# Plot all maturities, remove \"30 Y - 1 M\" dataframe\n",
    "T_data_trunc = T_data[keys[::250]].drop(\"30 Y - 1 M\")\n",
    "max_y = T_data.max().max()\n",
    "#for key, val in T_data_trunc.items():\n",
    "plot_lines(df = T_data_trunc, title = \"Yield Curve\", linewidth = 1.5, \n",
    "           figsize = (40, 20), full_index = True, legend = True, pp = None)"
   ]
  },
  {
   "cell_type": "code",
   "execution_count": 9,
   "metadata": {},
   "outputs": [
    {
     "name": "stderr",
     "output_type": "stream",
     "text": [
      "<ipython-input-1-f16760372b65>:75: UserWarning: FixedFormatter should only be used together with FixedLocator\n",
      "  ax.set_yticklabels([round(y,2) for y in vals])\n",
      "<ipython-input-1-f16760372b65>:79: UserWarning: FixedFormatter should only be used together with FixedLocator\n",
      "  ax.set_yticklabels([round(y,2) for y in vals])\n",
      "<ipython-input-1-f16760372b65>:75: UserWarning: FixedFormatter should only be used together with FixedLocator\n",
      "  ax.set_yticklabels([round(y,2) for y in vals])\n",
      "<ipython-input-1-f16760372b65>:79: UserWarning: FixedFormatter should only be used together with FixedLocator\n",
      "  ax.set_yticklabels([round(y,2) for y in vals])\n",
      "<ipython-input-1-f16760372b65>:75: UserWarning: FixedFormatter should only be used together with FixedLocator\n",
      "  ax.set_yticklabels([round(y,2) for y in vals])\n",
      "<ipython-input-1-f16760372b65>:79: UserWarning: FixedFormatter should only be used together with FixedLocator\n",
      "  ax.set_yticklabels([round(y,2) for y in vals])\n",
      "<ipython-input-1-f16760372b65>:75: UserWarning: FixedFormatter should only be used together with FixedLocator\n",
      "  ax.set_yticklabels([round(y,2) for y in vals])\n",
      "<ipython-input-1-f16760372b65>:79: UserWarning: FixedFormatter should only be used together with FixedLocator\n",
      "  ax.set_yticklabels([round(y,2) for y in vals])\n",
      "<ipython-input-1-f16760372b65>:75: UserWarning: FixedFormatter should only be used together with FixedLocator\n",
      "  ax.set_yticklabels([round(y,2) for y in vals])\n",
      "<ipython-input-1-f16760372b65>:79: UserWarning: FixedFormatter should only be used together with FixedLocator\n",
      "  ax.set_yticklabels([round(y,2) for y in vals])\n",
      "<ipython-input-1-f16760372b65>:75: UserWarning: FixedFormatter should only be used together with FixedLocator\n",
      "  ax.set_yticklabels([round(y,2) for y in vals])\n",
      "<ipython-input-1-f16760372b65>:79: UserWarning: FixedFormatter should only be used together with FixedLocator\n",
      "  ax.set_yticklabels([round(y,2) for y in vals])\n",
      "<ipython-input-1-f16760372b65>:75: UserWarning: FixedFormatter should only be used together with FixedLocator\n",
      "  ax.set_yticklabels([round(y,2) for y in vals])\n",
      "<ipython-input-1-f16760372b65>:79: UserWarning: FixedFormatter should only be used together with FixedLocator\n",
      "  ax.set_yticklabels([round(y,2) for y in vals])\n",
      "<ipython-input-1-f16760372b65>:75: UserWarning: FixedFormatter should only be used together with FixedLocator\n",
      "  ax.set_yticklabels([round(y,2) for y in vals])\n",
      "<ipython-input-1-f16760372b65>:79: UserWarning: FixedFormatter should only be used together with FixedLocator\n",
      "  ax.set_yticklabels([round(y,2) for y in vals])\n",
      "<ipython-input-1-f16760372b65>:75: UserWarning: FixedFormatter should only be used together with FixedLocator\n",
      "  ax.set_yticklabels([round(y,2) for y in vals])\n",
      "<ipython-input-1-f16760372b65>:79: UserWarning: FixedFormatter should only be used together with FixedLocator\n",
      "  ax.set_yticklabels([round(y,2) for y in vals])\n",
      "<ipython-input-1-f16760372b65>:75: UserWarning: FixedFormatter should only be used together with FixedLocator\n",
      "  ax.set_yticklabels([round(y,2) for y in vals])\n",
      "<ipython-input-1-f16760372b65>:79: UserWarning: FixedFormatter should only be used together with FixedLocator\n",
      "  ax.set_yticklabels([round(y,2) for y in vals])\n",
      "<ipython-input-1-f16760372b65>:75: UserWarning: FixedFormatter should only be used together with FixedLocator\n",
      "  ax.set_yticklabels([round(y,2) for y in vals])\n",
      "<ipython-input-1-f16760372b65>:79: UserWarning: FixedFormatter should only be used together with FixedLocator\n",
      "  ax.set_yticklabels([round(y,2) for y in vals])\n",
      "<ipython-input-1-f16760372b65>:75: UserWarning: FixedFormatter should only be used together with FixedLocator\n",
      "  ax.set_yticklabels([round(y,2) for y in vals])\n",
      "<ipython-input-1-f16760372b65>:79: UserWarning: FixedFormatter should only be used together with FixedLocator\n",
      "  ax.set_yticklabels([round(y,2) for y in vals])\n",
      "<ipython-input-1-f16760372b65>:75: UserWarning: FixedFormatter should only be used together with FixedLocator\n",
      "  ax.set_yticklabels([round(y,2) for y in vals])\n",
      "<ipython-input-1-f16760372b65>:79: UserWarning: FixedFormatter should only be used together with FixedLocator\n",
      "  ax.set_yticklabels([round(y,2) for y in vals])\n",
      "<ipython-input-1-f16760372b65>:75: UserWarning: FixedFormatter should only be used together with FixedLocator\n",
      "  ax.set_yticklabels([round(y,2) for y in vals])\n",
      "<ipython-input-1-f16760372b65>:79: UserWarning: FixedFormatter should only be used together with FixedLocator\n",
      "  ax.set_yticklabels([round(y,2) for y in vals])\n",
      "<ipython-input-1-f16760372b65>:75: UserWarning: FixedFormatter should only be used together with FixedLocator\n",
      "  ax.set_yticklabels([round(y,2) for y in vals])\n",
      "<ipython-input-1-f16760372b65>:79: UserWarning: FixedFormatter should only be used together with FixedLocator\n",
      "  ax.set_yticklabels([round(y,2) for y in vals])\n",
      "<ipython-input-1-f16760372b65>:75: UserWarning: FixedFormatter should only be used together with FixedLocator\n",
      "  ax.set_yticklabels([round(y,2) for y in vals])\n",
      "<ipython-input-1-f16760372b65>:79: UserWarning: FixedFormatter should only be used together with FixedLocator\n",
      "  ax.set_yticklabels([round(y,2) for y in vals])\n",
      "<ipython-input-1-f16760372b65>:75: UserWarning: FixedFormatter should only be used together with FixedLocator\n",
      "  ax.set_yticklabels([round(y,2) for y in vals])\n",
      "<ipython-input-1-f16760372b65>:79: UserWarning: FixedFormatter should only be used together with FixedLocator\n",
      "  ax.set_yticklabels([round(y,2) for y in vals])\n",
      "<ipython-input-1-f16760372b65>:75: UserWarning: FixedFormatter should only be used together with FixedLocator\n",
      "  ax.set_yticklabels([round(y,2) for y in vals])\n",
      "<ipython-input-1-f16760372b65>:79: UserWarning: FixedFormatter should only be used together with FixedLocator\n",
      "  ax.set_yticklabels([round(y,2) for y in vals])\n",
      "<ipython-input-1-f16760372b65>:75: UserWarning: FixedFormatter should only be used together with FixedLocator\n",
      "  ax.set_yticklabels([round(y,2) for y in vals])\n",
      "<ipython-input-1-f16760372b65>:79: UserWarning: FixedFormatter should only be used together with FixedLocator\n",
      "  ax.set_yticklabels([round(y,2) for y in vals])\n",
      "<ipython-input-1-f16760372b65>:75: UserWarning: FixedFormatter should only be used together with FixedLocator\n",
      "  ax.set_yticklabels([round(y,2) for y in vals])\n",
      "<ipython-input-1-f16760372b65>:79: UserWarning: FixedFormatter should only be used together with FixedLocator\n",
      "  ax.set_yticklabels([round(y,2) for y in vals])\n",
      "<ipython-input-1-f16760372b65>:75: UserWarning: FixedFormatter should only be used together with FixedLocator\n",
      "  ax.set_yticklabels([round(y,2) for y in vals])\n",
      "<ipython-input-1-f16760372b65>:79: UserWarning: FixedFormatter should only be used together with FixedLocator\n",
      "  ax.set_yticklabels([round(y,2) for y in vals])\n",
      "<ipython-input-1-f16760372b65>:75: UserWarning: FixedFormatter should only be used together with FixedLocator\n",
      "  ax.set_yticklabels([round(y,2) for y in vals])\n",
      "<ipython-input-1-f16760372b65>:79: UserWarning: FixedFormatter should only be used together with FixedLocator\n",
      "  ax.set_yticklabels([round(y,2) for y in vals])\n",
      "<ipython-input-1-f16760372b65>:75: UserWarning: FixedFormatter should only be used together with FixedLocator\n",
      "  ax.set_yticklabels([round(y,2) for y in vals])\n",
      "<ipython-input-1-f16760372b65>:79: UserWarning: FixedFormatter should only be used together with FixedLocator\n",
      "  ax.set_yticklabels([round(y,2) for y in vals])\n",
      "<ipython-input-1-f16760372b65>:75: UserWarning: FixedFormatter should only be used together with FixedLocator\n",
      "  ax.set_yticklabels([round(y,2) for y in vals])\n",
      "<ipython-input-1-f16760372b65>:79: UserWarning: FixedFormatter should only be used together with FixedLocator\n",
      "  ax.set_yticklabels([round(y,2) for y in vals])\n"
     ]
    }
   ],
   "source": [
    "# Plot all maturities, remove \"30 Y - 1 M\" dataframe\n",
    "T_data_trunc = T_data[keys[::250]].drop(\"30 Y - 1 M\")\n",
    "from matplotlib.backends.backend_pdf import PdfPages\n",
    "pp = PdfPages(\"yieldCurveYearly.pdf\")\n",
    "for key in keys[::250]:\n",
    "    max_y = T_data.max().max()\n",
    "    #for key, val in T_data_trunc.items():\n",
    "    plot_lines(df = T_data_trunc[key], title = \"Yield Curve\", linewidth = 1.5, \n",
    "               figsize = (40, 20), full_index = True, legend = True, max_y = max_y,\n",
    "               pp = pp)\n",
    "pp.close()"
   ]
  },
  {
   "cell_type": "code",
   "execution_count": 10,
   "metadata": {},
   "outputs": [
    {
     "name": "stderr",
     "output_type": "stream",
     "text": [
      "<ipython-input-10-e7d6dbf24ca9>:32: UserWarning: FixedFormatter should only be used together with FixedLocator\n",
      "  ax.set_yticklabels([round(y,2) for y in vals])\n",
      "<ipython-input-10-e7d6dbf24ca9>:7: UserWarning: FixedFormatter should only be used together with FixedLocator\n",
      "  ax.set_yticklabels([round(y,2) for y in vals])\n"
     ]
    },
    {
     "name": "stdout",
     "output_type": "stream",
     "text": [
      "2021-10-25\n"
     ]
    },
    {
     "name": "stderr",
     "output_type": "stream",
     "text": [
      "<ipython-input-10-e7d6dbf24ca9>:7: UserWarning: FixedFormatter should only be used together with FixedLocator\n",
      "  ax.set_yticklabels([round(y,2) for y in vals])\n"
     ]
    },
    {
     "name": "stdout",
     "output_type": "stream",
     "text": [
      "2021-10-26\n"
     ]
    },
    {
     "name": "stderr",
     "output_type": "stream",
     "text": [
      "<ipython-input-10-e7d6dbf24ca9>:7: UserWarning: FixedFormatter should only be used together with FixedLocator\n",
      "  ax.set_yticklabels([round(y,2) for y in vals])\n"
     ]
    },
    {
     "name": "stdout",
     "output_type": "stream",
     "text": [
      "2021-10-27\n"
     ]
    },
    {
     "name": "stderr",
     "output_type": "stream",
     "text": [
      "<ipython-input-10-e7d6dbf24ca9>:7: UserWarning: FixedFormatter should only be used together with FixedLocator\n",
      "  ax.set_yticklabels([round(y,2) for y in vals])\n"
     ]
    },
    {
     "name": "stdout",
     "output_type": "stream",
     "text": [
      "2021-10-28\n"
     ]
    },
    {
     "name": "stderr",
     "output_type": "stream",
     "text": [
      "<ipython-input-10-e7d6dbf24ca9>:7: UserWarning: FixedFormatter should only be used together with FixedLocator\n",
      "  ax.set_yticklabels([round(y,2) for y in vals])\n"
     ]
    },
    {
     "name": "stdout",
     "output_type": "stream",
     "text": [
      "2021-10-29\n"
     ]
    },
    {
     "name": "stderr",
     "output_type": "stream",
     "text": [
      "<ipython-input-10-e7d6dbf24ca9>:7: UserWarning: FixedFormatter should only be used together with FixedLocator\n",
      "  ax.set_yticklabels([round(y,2) for y in vals])\n"
     ]
    },
    {
     "name": "stdout",
     "output_type": "stream",
     "text": [
      "2021-10-30\n"
     ]
    },
    {
     "name": "stderr",
     "output_type": "stream",
     "text": [
      "posx and posy should be finite values\n",
      "posx and posy should be finite values\n",
      "<ipython-input-10-e7d6dbf24ca9>:7: UserWarning: FixedFormatter should only be used together with FixedLocator\n",
      "  ax.set_yticklabels([round(y,2) for y in vals])\n"
     ]
    },
    {
     "name": "stdout",
     "output_type": "stream",
     "text": [
      "2021-10-31\n"
     ]
    },
    {
     "name": "stderr",
     "output_type": "stream",
     "text": [
      "posx and posy should be finite values\n",
      "posx and posy should be finite values\n",
      "<ipython-input-10-e7d6dbf24ca9>:7: UserWarning: FixedFormatter should only be used together with FixedLocator\n",
      "  ax.set_yticklabels([round(y,2) for y in vals])\n"
     ]
    },
    {
     "name": "stdout",
     "output_type": "stream",
     "text": [
      "2021-11-01\n"
     ]
    },
    {
     "name": "stderr",
     "output_type": "stream",
     "text": [
      "posx and posy should be finite values\n",
      "posx and posy should be finite values\n",
      "<ipython-input-10-e7d6dbf24ca9>:7: UserWarning: FixedFormatter should only be used together with FixedLocator\n",
      "  ax.set_yticklabels([round(y,2) for y in vals])\n"
     ]
    },
    {
     "name": "stdout",
     "output_type": "stream",
     "text": [
      "2021-11-02\n"
     ]
    },
    {
     "name": "stderr",
     "output_type": "stream",
     "text": [
      "posx and posy should be finite values\n",
      "posx and posy should be finite values\n",
      "<ipython-input-10-e7d6dbf24ca9>:7: UserWarning: FixedFormatter should only be used together with FixedLocator\n",
      "  ax.set_yticklabels([round(y,2) for y in vals])\n"
     ]
    },
    {
     "name": "stdout",
     "output_type": "stream",
     "text": [
      "2021-11-03\n"
     ]
    },
    {
     "name": "stderr",
     "output_type": "stream",
     "text": [
      "posx and posy should be finite values\n",
      "posx and posy should be finite values\n",
      "<ipython-input-10-e7d6dbf24ca9>:7: UserWarning: FixedFormatter should only be used together with FixedLocator\n",
      "  ax.set_yticklabels([round(y,2) for y in vals])\n"
     ]
    },
    {
     "name": "stdout",
     "output_type": "stream",
     "text": [
      "2021-11-04\n"
     ]
    },
    {
     "name": "stderr",
     "output_type": "stream",
     "text": [
      "posx and posy should be finite values\n",
      "posx and posy should be finite values\n",
      "<ipython-input-10-e7d6dbf24ca9>:7: UserWarning: FixedFormatter should only be used together with FixedLocator\n",
      "  ax.set_yticklabels([round(y,2) for y in vals])\n"
     ]
    },
    {
     "name": "stdout",
     "output_type": "stream",
     "text": [
      "2021-11-05\n"
     ]
    },
    {
     "name": "stderr",
     "output_type": "stream",
     "text": [
      "posx and posy should be finite values\n",
      "posx and posy should be finite values\n",
      "<ipython-input-10-e7d6dbf24ca9>:7: UserWarning: FixedFormatter should only be used together with FixedLocator\n",
      "  ax.set_yticklabels([round(y,2) for y in vals])\n"
     ]
    },
    {
     "name": "stdout",
     "output_type": "stream",
     "text": [
      "2021-11-06\n"
     ]
    },
    {
     "name": "stderr",
     "output_type": "stream",
     "text": [
      "posx and posy should be finite values\n",
      "posx and posy should be finite values\n",
      "<ipython-input-10-e7d6dbf24ca9>:7: UserWarning: FixedFormatter should only be used together with FixedLocator\n",
      "  ax.set_yticklabels([round(y,2) for y in vals])\n"
     ]
    },
    {
     "name": "stdout",
     "output_type": "stream",
     "text": [
      "2021-11-07\n"
     ]
    },
    {
     "name": "stderr",
     "output_type": "stream",
     "text": [
      "posx and posy should be finite values\n",
      "posx and posy should be finite values\n",
      "<ipython-input-10-e7d6dbf24ca9>:7: UserWarning: FixedFormatter should only be used together with FixedLocator\n",
      "  ax.set_yticklabels([round(y,2) for y in vals])\n"
     ]
    },
    {
     "name": "stdout",
     "output_type": "stream",
     "text": [
      "2021-11-08\n"
     ]
    },
    {
     "name": "stderr",
     "output_type": "stream",
     "text": [
      "posx and posy should be finite values\n",
      "posx and posy should be finite values\n",
      "<ipython-input-10-e7d6dbf24ca9>:7: UserWarning: FixedFormatter should only be used together with FixedLocator\n",
      "  ax.set_yticklabels([round(y,2) for y in vals])\n"
     ]
    },
    {
     "name": "stdout",
     "output_type": "stream",
     "text": [
      "2021-11-09\n"
     ]
    },
    {
     "name": "stderr",
     "output_type": "stream",
     "text": [
      "posx and posy should be finite values\n",
      "posx and posy should be finite values\n",
      "<ipython-input-10-e7d6dbf24ca9>:7: UserWarning: FixedFormatter should only be used together with FixedLocator\n",
      "  ax.set_yticklabels([round(y,2) for y in vals])\n"
     ]
    },
    {
     "name": "stdout",
     "output_type": "stream",
     "text": [
      "2021-11-10\n"
     ]
    },
    {
     "name": "stderr",
     "output_type": "stream",
     "text": [
      "posx and posy should be finite values\n",
      "posx and posy should be finite values\n",
      "<ipython-input-10-e7d6dbf24ca9>:7: UserWarning: FixedFormatter should only be used together with FixedLocator\n",
      "  ax.set_yticklabels([round(y,2) for y in vals])\n"
     ]
    },
    {
     "name": "stdout",
     "output_type": "stream",
     "text": [
      "2021-11-11\n"
     ]
    },
    {
     "name": "stderr",
     "output_type": "stream",
     "text": [
      "posx and posy should be finite values\n",
      "posx and posy should be finite values\n",
      "<ipython-input-10-e7d6dbf24ca9>:7: UserWarning: FixedFormatter should only be used together with FixedLocator\n",
      "  ax.set_yticklabels([round(y,2) for y in vals])\n"
     ]
    },
    {
     "name": "stdout",
     "output_type": "stream",
     "text": [
      "2021-11-12\n"
     ]
    },
    {
     "name": "stderr",
     "output_type": "stream",
     "text": [
      "posx and posy should be finite values\n",
      "posx and posy should be finite values\n",
      "<ipython-input-10-e7d6dbf24ca9>:7: UserWarning: FixedFormatter should only be used together with FixedLocator\n",
      "  ax.set_yticklabels([round(y,2) for y in vals])\n"
     ]
    },
    {
     "name": "stdout",
     "output_type": "stream",
     "text": [
      "2021-11-13\n"
     ]
    },
    {
     "name": "stderr",
     "output_type": "stream",
     "text": [
      "posx and posy should be finite values\n",
      "posx and posy should be finite values\n",
      "<ipython-input-10-e7d6dbf24ca9>:7: UserWarning: FixedFormatter should only be used together with FixedLocator\n",
      "  ax.set_yticklabels([round(y,2) for y in vals])\n"
     ]
    },
    {
     "name": "stdout",
     "output_type": "stream",
     "text": [
      "2021-11-14\n"
     ]
    },
    {
     "name": "stderr",
     "output_type": "stream",
     "text": [
      "posx and posy should be finite values\n",
      "posx and posy should be finite values\n",
      "<ipython-input-10-e7d6dbf24ca9>:7: UserWarning: FixedFormatter should only be used together with FixedLocator\n",
      "  ax.set_yticklabels([round(y,2) for y in vals])\n"
     ]
    },
    {
     "name": "stdout",
     "output_type": "stream",
     "text": [
      "2021-11-15\n"
     ]
    },
    {
     "name": "stderr",
     "output_type": "stream",
     "text": [
      "posx and posy should be finite values\n",
      "posx and posy should be finite values\n",
      "<ipython-input-10-e7d6dbf24ca9>:7: UserWarning: FixedFormatter should only be used together with FixedLocator\n",
      "  ax.set_yticklabels([round(y,2) for y in vals])\n"
     ]
    },
    {
     "name": "stdout",
     "output_type": "stream",
     "text": [
      "2021-11-16\n"
     ]
    },
    {
     "name": "stderr",
     "output_type": "stream",
     "text": [
      "posx and posy should be finite values\n",
      "posx and posy should be finite values\n",
      "<ipython-input-10-e7d6dbf24ca9>:7: UserWarning: FixedFormatter should only be used together with FixedLocator\n",
      "  ax.set_yticklabels([round(y,2) for y in vals])\n"
     ]
    },
    {
     "name": "stdout",
     "output_type": "stream",
     "text": [
      "2021-11-17\n"
     ]
    },
    {
     "name": "stderr",
     "output_type": "stream",
     "text": [
      "posx and posy should be finite values\n",
      "posx and posy should be finite values\n",
      "<ipython-input-10-e7d6dbf24ca9>:7: UserWarning: FixedFormatter should only be used together with FixedLocator\n",
      "  ax.set_yticklabels([round(y,2) for y in vals])\n"
     ]
    },
    {
     "name": "stdout",
     "output_type": "stream",
     "text": [
      "2021-11-18\n"
     ]
    },
    {
     "name": "stderr",
     "output_type": "stream",
     "text": [
      "posx and posy should be finite values\n",
      "posx and posy should be finite values\n",
      "<ipython-input-10-e7d6dbf24ca9>:7: UserWarning: FixedFormatter should only be used together with FixedLocator\n",
      "  ax.set_yticklabels([round(y,2) for y in vals])\n"
     ]
    },
    {
     "name": "stdout",
     "output_type": "stream",
     "text": [
      "2021-11-19\n"
     ]
    },
    {
     "name": "stderr",
     "output_type": "stream",
     "text": [
      "posx and posy should be finite values\n",
      "posx and posy should be finite values\n",
      "<ipython-input-10-e7d6dbf24ca9>:7: UserWarning: FixedFormatter should only be used together with FixedLocator\n",
      "  ax.set_yticklabels([round(y,2) for y in vals])\n"
     ]
    },
    {
     "name": "stdout",
     "output_type": "stream",
     "text": [
      "2021-11-20\n"
     ]
    },
    {
     "name": "stderr",
     "output_type": "stream",
     "text": [
      "posx and posy should be finite values\n",
      "posx and posy should be finite values\n",
      "<ipython-input-10-e7d6dbf24ca9>:7: UserWarning: FixedFormatter should only be used together with FixedLocator\n",
      "  ax.set_yticklabels([round(y,2) for y in vals])\n"
     ]
    },
    {
     "name": "stdout",
     "output_type": "stream",
     "text": [
      "2021-11-21\n"
     ]
    },
    {
     "name": "stderr",
     "output_type": "stream",
     "text": [
      "posx and posy should be finite values\n",
      "posx and posy should be finite values\n",
      "<ipython-input-10-e7d6dbf24ca9>:7: UserWarning: FixedFormatter should only be used together with FixedLocator\n",
      "  ax.set_yticklabels([round(y,2) for y in vals])\n"
     ]
    },
    {
     "name": "stdout",
     "output_type": "stream",
     "text": [
      "2021-11-22\n"
     ]
    },
    {
     "name": "stderr",
     "output_type": "stream",
     "text": [
      "posx and posy should be finite values\n",
      "posx and posy should be finite values\n",
      "<ipython-input-10-e7d6dbf24ca9>:7: UserWarning: FixedFormatter should only be used together with FixedLocator\n",
      "  ax.set_yticklabels([round(y,2) for y in vals])\n"
     ]
    },
    {
     "name": "stdout",
     "output_type": "stream",
     "text": [
      "2021-11-23\n"
     ]
    },
    {
     "name": "stderr",
     "output_type": "stream",
     "text": [
      "posx and posy should be finite values\n",
      "posx and posy should be finite values\n",
      "<ipython-input-10-e7d6dbf24ca9>:7: UserWarning: FixedFormatter should only be used together with FixedLocator\n",
      "  ax.set_yticklabels([round(y,2) for y in vals])\n"
     ]
    },
    {
     "name": "stdout",
     "output_type": "stream",
     "text": [
      "2021-11-24\n"
     ]
    },
    {
     "name": "stderr",
     "output_type": "stream",
     "text": [
      "posx and posy should be finite values\n",
      "posx and posy should be finite values\n",
      "<ipython-input-10-e7d6dbf24ca9>:7: UserWarning: FixedFormatter should only be used together with FixedLocator\n",
      "  ax.set_yticklabels([round(y,2) for y in vals])\n"
     ]
    },
    {
     "name": "stdout",
     "output_type": "stream",
     "text": [
      "2021-11-25\n"
     ]
    },
    {
     "name": "stderr",
     "output_type": "stream",
     "text": [
      "posx and posy should be finite values\n",
      "posx and posy should be finite values\n",
      "<ipython-input-10-e7d6dbf24ca9>:7: UserWarning: FixedFormatter should only be used together with FixedLocator\n",
      "  ax.set_yticklabels([round(y,2) for y in vals])\n"
     ]
    },
    {
     "name": "stdout",
     "output_type": "stream",
     "text": [
      "2021-11-26\n"
     ]
    },
    {
     "name": "stderr",
     "output_type": "stream",
     "text": [
      "posx and posy should be finite values\n",
      "posx and posy should be finite values\n",
      "<ipython-input-10-e7d6dbf24ca9>:7: UserWarning: FixedFormatter should only be used together with FixedLocator\n",
      "  ax.set_yticklabels([round(y,2) for y in vals])\n"
     ]
    },
    {
     "name": "stdout",
     "output_type": "stream",
     "text": [
      "2021-11-27\n"
     ]
    },
    {
     "name": "stderr",
     "output_type": "stream",
     "text": [
      "posx and posy should be finite values\n",
      "posx and posy should be finite values\n",
      "<ipython-input-10-e7d6dbf24ca9>:7: UserWarning: FixedFormatter should only be used together with FixedLocator\n",
      "  ax.set_yticklabels([round(y,2) for y in vals])\n"
     ]
    },
    {
     "name": "stdout",
     "output_type": "stream",
     "text": [
      "2021-11-28\n"
     ]
    },
    {
     "name": "stderr",
     "output_type": "stream",
     "text": [
      "posx and posy should be finite values\n",
      "posx and posy should be finite values\n",
      "<ipython-input-10-e7d6dbf24ca9>:7: UserWarning: FixedFormatter should only be used together with FixedLocator\n",
      "  ax.set_yticklabels([round(y,2) for y in vals])\n"
     ]
    },
    {
     "name": "stdout",
     "output_type": "stream",
     "text": [
      "2021-11-29\n"
     ]
    },
    {
     "name": "stderr",
     "output_type": "stream",
     "text": [
      "posx and posy should be finite values\n",
      "posx and posy should be finite values\n",
      "<ipython-input-10-e7d6dbf24ca9>:7: UserWarning: FixedFormatter should only be used together with FixedLocator\n",
      "  ax.set_yticklabels([round(y,2) for y in vals])\n"
     ]
    },
    {
     "name": "stdout",
     "output_type": "stream",
     "text": [
      "2021-11-30\n"
     ]
    },
    {
     "name": "stderr",
     "output_type": "stream",
     "text": [
      "posx and posy should be finite values\n",
      "posx and posy should be finite values\n",
      "<ipython-input-10-e7d6dbf24ca9>:7: UserWarning: FixedFormatter should only be used together with FixedLocator\n",
      "  ax.set_yticklabels([round(y,2) for y in vals])\n"
     ]
    },
    {
     "name": "stdout",
     "output_type": "stream",
     "text": [
      "2021-12-01\n"
     ]
    },
    {
     "name": "stderr",
     "output_type": "stream",
     "text": [
      "posx and posy should be finite values\n",
      "posx and posy should be finite values\n",
      "<ipython-input-10-e7d6dbf24ca9>:7: UserWarning: FixedFormatter should only be used together with FixedLocator\n",
      "  ax.set_yticklabels([round(y,2) for y in vals])\n"
     ]
    },
    {
     "name": "stdout",
     "output_type": "stream",
     "text": [
      "2021-12-02\n"
     ]
    },
    {
     "name": "stderr",
     "output_type": "stream",
     "text": [
      "posx and posy should be finite values\n",
      "posx and posy should be finite values\n",
      "<ipython-input-10-e7d6dbf24ca9>:7: UserWarning: FixedFormatter should only be used together with FixedLocator\n",
      "  ax.set_yticklabels([round(y,2) for y in vals])\n"
     ]
    },
    {
     "name": "stdout",
     "output_type": "stream",
     "text": [
      "2021-12-03\n"
     ]
    },
    {
     "name": "stderr",
     "output_type": "stream",
     "text": [
      "posx and posy should be finite values\n",
      "posx and posy should be finite values\n",
      "<ipython-input-10-e7d6dbf24ca9>:7: UserWarning: FixedFormatter should only be used together with FixedLocator\n",
      "  ax.set_yticklabels([round(y,2) for y in vals])\n"
     ]
    },
    {
     "name": "stdout",
     "output_type": "stream",
     "text": [
      "2021-12-04\n"
     ]
    },
    {
     "name": "stderr",
     "output_type": "stream",
     "text": [
      "posx and posy should be finite values\n",
      "posx and posy should be finite values\n",
      "<ipython-input-10-e7d6dbf24ca9>:7: UserWarning: FixedFormatter should only be used together with FixedLocator\n",
      "  ax.set_yticklabels([round(y,2) for y in vals])\n"
     ]
    },
    {
     "name": "stdout",
     "output_type": "stream",
     "text": [
      "2021-12-05\n"
     ]
    },
    {
     "name": "stderr",
     "output_type": "stream",
     "text": [
      "posx and posy should be finite values\n",
      "posx and posy should be finite values\n",
      "<ipython-input-10-e7d6dbf24ca9>:7: UserWarning: FixedFormatter should only be used together with FixedLocator\n",
      "  ax.set_yticklabels([round(y,2) for y in vals])\n"
     ]
    },
    {
     "name": "stdout",
     "output_type": "stream",
     "text": [
      "2021-12-06\n"
     ]
    },
    {
     "name": "stderr",
     "output_type": "stream",
     "text": [
      "posx and posy should be finite values\n",
      "posx and posy should be finite values\n",
      "<ipython-input-10-e7d6dbf24ca9>:7: UserWarning: FixedFormatter should only be used together with FixedLocator\n",
      "  ax.set_yticklabels([round(y,2) for y in vals])\n"
     ]
    },
    {
     "name": "stdout",
     "output_type": "stream",
     "text": [
      "2021-12-07\n"
     ]
    },
    {
     "name": "stderr",
     "output_type": "stream",
     "text": [
      "posx and posy should be finite values\n",
      "posx and posy should be finite values\n",
      "<ipython-input-10-e7d6dbf24ca9>:7: UserWarning: FixedFormatter should only be used together with FixedLocator\n",
      "  ax.set_yticklabels([round(y,2) for y in vals])\n"
     ]
    },
    {
     "name": "stdout",
     "output_type": "stream",
     "text": [
      "2021-12-08\n"
     ]
    },
    {
     "name": "stderr",
     "output_type": "stream",
     "text": [
      "posx and posy should be finite values\n",
      "posx and posy should be finite values\n",
      "<ipython-input-10-e7d6dbf24ca9>:7: UserWarning: FixedFormatter should only be used together with FixedLocator\n",
      "  ax.set_yticklabels([round(y,2) for y in vals])\n"
     ]
    },
    {
     "name": "stdout",
     "output_type": "stream",
     "text": [
      "2021-12-09\n"
     ]
    },
    {
     "name": "stderr",
     "output_type": "stream",
     "text": [
      "posx and posy should be finite values\n",
      "posx and posy should be finite values\n",
      "<ipython-input-10-e7d6dbf24ca9>:7: UserWarning: FixedFormatter should only be used together with FixedLocator\n",
      "  ax.set_yticklabels([round(y,2) for y in vals])\n"
     ]
    },
    {
     "name": "stdout",
     "output_type": "stream",
     "text": [
      "2021-12-10\n"
     ]
    },
    {
     "name": "stderr",
     "output_type": "stream",
     "text": [
      "posx and posy should be finite values\n",
      "posx and posy should be finite values\n",
      "<ipython-input-10-e7d6dbf24ca9>:7: UserWarning: FixedFormatter should only be used together with FixedLocator\n",
      "  ax.set_yticklabels([round(y,2) for y in vals])\n"
     ]
    },
    {
     "name": "stdout",
     "output_type": "stream",
     "text": [
      "2021-12-11\n"
     ]
    },
    {
     "name": "stderr",
     "output_type": "stream",
     "text": [
      "posx and posy should be finite values\n",
      "posx and posy should be finite values\n",
      "<ipython-input-10-e7d6dbf24ca9>:7: UserWarning: FixedFormatter should only be used together with FixedLocator\n",
      "  ax.set_yticklabels([round(y,2) for y in vals])\n"
     ]
    },
    {
     "name": "stdout",
     "output_type": "stream",
     "text": [
      "2021-12-12\n"
     ]
    },
    {
     "name": "stderr",
     "output_type": "stream",
     "text": [
      "posx and posy should be finite values\n",
      "posx and posy should be finite values\n",
      "<ipython-input-10-e7d6dbf24ca9>:7: UserWarning: FixedFormatter should only be used together with FixedLocator\n",
      "  ax.set_yticklabels([round(y,2) for y in vals])\n"
     ]
    },
    {
     "name": "stdout",
     "output_type": "stream",
     "text": [
      "2021-12-13\n"
     ]
    },
    {
     "name": "stderr",
     "output_type": "stream",
     "text": [
      "posx and posy should be finite values\n",
      "posx and posy should be finite values\n",
      "<ipython-input-10-e7d6dbf24ca9>:7: UserWarning: FixedFormatter should only be used together with FixedLocator\n",
      "  ax.set_yticklabels([round(y,2) for y in vals])\n"
     ]
    },
    {
     "name": "stdout",
     "output_type": "stream",
     "text": [
      "2021-12-14\n"
     ]
    },
    {
     "name": "stderr",
     "output_type": "stream",
     "text": [
      "posx and posy should be finite values\n",
      "posx and posy should be finite values\n",
      "<ipython-input-10-e7d6dbf24ca9>:7: UserWarning: FixedFormatter should only be used together with FixedLocator\n",
      "  ax.set_yticklabels([round(y,2) for y in vals])\n"
     ]
    },
    {
     "name": "stdout",
     "output_type": "stream",
     "text": [
      "2021-12-15\n"
     ]
    },
    {
     "name": "stderr",
     "output_type": "stream",
     "text": [
      "posx and posy should be finite values\n",
      "posx and posy should be finite values\n",
      "<ipython-input-10-e7d6dbf24ca9>:7: UserWarning: FixedFormatter should only be used together with FixedLocator\n",
      "  ax.set_yticklabels([round(y,2) for y in vals])\n"
     ]
    },
    {
     "name": "stdout",
     "output_type": "stream",
     "text": [
      "2021-12-16\n"
     ]
    },
    {
     "name": "stderr",
     "output_type": "stream",
     "text": [
      "posx and posy should be finite values\n",
      "posx and posy should be finite values\n",
      "<ipython-input-10-e7d6dbf24ca9>:7: UserWarning: FixedFormatter should only be used together with FixedLocator\n",
      "  ax.set_yticklabels([round(y,2) for y in vals])\n"
     ]
    },
    {
     "name": "stdout",
     "output_type": "stream",
     "text": [
      "2021-12-17\n"
     ]
    },
    {
     "name": "stderr",
     "output_type": "stream",
     "text": [
      "posx and posy should be finite values\n",
      "posx and posy should be finite values\n",
      "<ipython-input-10-e7d6dbf24ca9>:7: UserWarning: FixedFormatter should only be used together with FixedLocator\n",
      "  ax.set_yticklabels([round(y,2) for y in vals])\n"
     ]
    },
    {
     "name": "stdout",
     "output_type": "stream",
     "text": [
      "2021-12-18\n"
     ]
    },
    {
     "name": "stderr",
     "output_type": "stream",
     "text": [
      "posx and posy should be finite values\n",
      "posx and posy should be finite values\n",
      "<ipython-input-10-e7d6dbf24ca9>:7: UserWarning: FixedFormatter should only be used together with FixedLocator\n",
      "  ax.set_yticklabels([round(y,2) for y in vals])\n"
     ]
    },
    {
     "name": "stdout",
     "output_type": "stream",
     "text": [
      "2021-12-19\n"
     ]
    },
    {
     "name": "stderr",
     "output_type": "stream",
     "text": [
      "posx and posy should be finite values\n",
      "posx and posy should be finite values\n",
      "<ipython-input-10-e7d6dbf24ca9>:7: UserWarning: FixedFormatter should only be used together with FixedLocator\n",
      "  ax.set_yticklabels([round(y,2) for y in vals])\n"
     ]
    },
    {
     "name": "stdout",
     "output_type": "stream",
     "text": [
      "2021-12-20\n"
     ]
    },
    {
     "name": "stderr",
     "output_type": "stream",
     "text": [
      "posx and posy should be finite values\n",
      "posx and posy should be finite values\n",
      "<ipython-input-10-e7d6dbf24ca9>:7: UserWarning: FixedFormatter should only be used together with FixedLocator\n",
      "  ax.set_yticklabels([round(y,2) for y in vals])\n"
     ]
    },
    {
     "name": "stdout",
     "output_type": "stream",
     "text": [
      "2021-12-21\n"
     ]
    },
    {
     "name": "stderr",
     "output_type": "stream",
     "text": [
      "posx and posy should be finite values\n",
      "posx and posy should be finite values\n",
      "<ipython-input-10-e7d6dbf24ca9>:7: UserWarning: FixedFormatter should only be used together with FixedLocator\n",
      "  ax.set_yticklabels([round(y,2) for y in vals])\n"
     ]
    },
    {
     "name": "stdout",
     "output_type": "stream",
     "text": [
      "2021-12-22\n"
     ]
    },
    {
     "name": "stderr",
     "output_type": "stream",
     "text": [
      "posx and posy should be finite values\n",
      "posx and posy should be finite values\n",
      "<ipython-input-10-e7d6dbf24ca9>:7: UserWarning: FixedFormatter should only be used together with FixedLocator\n",
      "  ax.set_yticklabels([round(y,2) for y in vals])\n"
     ]
    },
    {
     "name": "stdout",
     "output_type": "stream",
     "text": [
      "2021-12-23\n"
     ]
    },
    {
     "name": "stderr",
     "output_type": "stream",
     "text": [
      "posx and posy should be finite values\n",
      "posx and posy should be finite values\n",
      "<ipython-input-10-e7d6dbf24ca9>:7: UserWarning: FixedFormatter should only be used together with FixedLocator\n",
      "  ax.set_yticklabels([round(y,2) for y in vals])\n"
     ]
    },
    {
     "name": "stdout",
     "output_type": "stream",
     "text": [
      "2021-12-24\n"
     ]
    },
    {
     "name": "stderr",
     "output_type": "stream",
     "text": [
      "posx and posy should be finite values\n",
      "posx and posy should be finite values\n",
      "<ipython-input-10-e7d6dbf24ca9>:7: UserWarning: FixedFormatter should only be used together with FixedLocator\n",
      "  ax.set_yticklabels([round(y,2) for y in vals])\n"
     ]
    },
    {
     "name": "stdout",
     "output_type": "stream",
     "text": [
      "2021-12-25\n"
     ]
    },
    {
     "name": "stderr",
     "output_type": "stream",
     "text": [
      "posx and posy should be finite values\n",
      "posx and posy should be finite values\n",
      "<ipython-input-10-e7d6dbf24ca9>:7: UserWarning: FixedFormatter should only be used together with FixedLocator\n",
      "  ax.set_yticklabels([round(y,2) for y in vals])\n"
     ]
    },
    {
     "name": "stdout",
     "output_type": "stream",
     "text": [
      "2021-12-26\n"
     ]
    },
    {
     "name": "stderr",
     "output_type": "stream",
     "text": [
      "posx and posy should be finite values\n",
      "posx and posy should be finite values\n",
      "<ipython-input-10-e7d6dbf24ca9>:7: UserWarning: FixedFormatter should only be used together with FixedLocator\n",
      "  ax.set_yticklabels([round(y,2) for y in vals])\n"
     ]
    },
    {
     "name": "stdout",
     "output_type": "stream",
     "text": [
      "2021-12-27\n"
     ]
    },
    {
     "name": "stderr",
     "output_type": "stream",
     "text": [
      "posx and posy should be finite values\n",
      "posx and posy should be finite values\n",
      "<ipython-input-10-e7d6dbf24ca9>:7: UserWarning: FixedFormatter should only be used together with FixedLocator\n",
      "  ax.set_yticklabels([round(y,2) for y in vals])\n"
     ]
    },
    {
     "name": "stdout",
     "output_type": "stream",
     "text": [
      "2021-12-28\n"
     ]
    },
    {
     "name": "stderr",
     "output_type": "stream",
     "text": [
      "posx and posy should be finite values\n",
      "posx and posy should be finite values\n",
      "<ipython-input-10-e7d6dbf24ca9>:7: UserWarning: FixedFormatter should only be used together with FixedLocator\n",
      "  ax.set_yticklabels([round(y,2) for y in vals])\n"
     ]
    },
    {
     "name": "stdout",
     "output_type": "stream",
     "text": [
      "2021-12-29\n"
     ]
    },
    {
     "name": "stderr",
     "output_type": "stream",
     "text": [
      "posx and posy should be finite values\n",
      "posx and posy should be finite values\n",
      "<ipython-input-10-e7d6dbf24ca9>:7: UserWarning: FixedFormatter should only be used together with FixedLocator\n",
      "  ax.set_yticklabels([round(y,2) for y in vals])\n"
     ]
    },
    {
     "name": "stdout",
     "output_type": "stream",
     "text": [
      "2021-12-30\n"
     ]
    },
    {
     "name": "stderr",
     "output_type": "stream",
     "text": [
      "posx and posy should be finite values\n",
      "posx and posy should be finite values\n",
      "<ipython-input-10-e7d6dbf24ca9>:7: UserWarning: FixedFormatter should only be used together with FixedLocator\n",
      "  ax.set_yticklabels([round(y,2) for y in vals])\n"
     ]
    },
    {
     "name": "stdout",
     "output_type": "stream",
     "text": [
      "2021-12-31\n"
     ]
    },
    {
     "name": "stderr",
     "output_type": "stream",
     "text": [
      "posx and posy should be finite values\n",
      "posx and posy should be finite values\n",
      "<ipython-input-10-e7d6dbf24ca9>:7: UserWarning: FixedFormatter should only be used together with FixedLocator\n",
      "  ax.set_yticklabels([round(y,2) for y in vals])\n"
     ]
    },
    {
     "name": "stdout",
     "output_type": "stream",
     "text": [
      "2022-01-01\n"
     ]
    },
    {
     "name": "stderr",
     "output_type": "stream",
     "text": [
      "posx and posy should be finite values\n",
      "posx and posy should be finite values\n",
      "<ipython-input-10-e7d6dbf24ca9>:7: UserWarning: FixedFormatter should only be used together with FixedLocator\n",
      "  ax.set_yticklabels([round(y,2) for y in vals])\n"
     ]
    },
    {
     "name": "stdout",
     "output_type": "stream",
     "text": [
      "2022-01-02\n"
     ]
    },
    {
     "name": "stderr",
     "output_type": "stream",
     "text": [
      "posx and posy should be finite values\n",
      "posx and posy should be finite values\n",
      "<ipython-input-10-e7d6dbf24ca9>:7: UserWarning: FixedFormatter should only be used together with FixedLocator\n",
      "  ax.set_yticklabels([round(y,2) for y in vals])\n"
     ]
    },
    {
     "name": "stdout",
     "output_type": "stream",
     "text": [
      "2022-01-03\n"
     ]
    },
    {
     "name": "stderr",
     "output_type": "stream",
     "text": [
      "posx and posy should be finite values\n",
      "posx and posy should be finite values\n",
      "<ipython-input-10-e7d6dbf24ca9>:7: UserWarning: FixedFormatter should only be used together with FixedLocator\n",
      "  ax.set_yticklabels([round(y,2) for y in vals])\n"
     ]
    },
    {
     "name": "stdout",
     "output_type": "stream",
     "text": [
      "2022-01-04\n"
     ]
    },
    {
     "name": "stderr",
     "output_type": "stream",
     "text": [
      "posx and posy should be finite values\n",
      "posx and posy should be finite values\n",
      "<ipython-input-10-e7d6dbf24ca9>:7: UserWarning: FixedFormatter should only be used together with FixedLocator\n",
      "  ax.set_yticklabels([round(y,2) for y in vals])\n"
     ]
    },
    {
     "name": "stdout",
     "output_type": "stream",
     "text": [
      "2022-01-05\n"
     ]
    },
    {
     "name": "stderr",
     "output_type": "stream",
     "text": [
      "posx and posy should be finite values\n",
      "posx and posy should be finite values\n",
      "<ipython-input-10-e7d6dbf24ca9>:7: UserWarning: FixedFormatter should only be used together with FixedLocator\n",
      "  ax.set_yticklabels([round(y,2) for y in vals])\n"
     ]
    },
    {
     "name": "stdout",
     "output_type": "stream",
     "text": [
      "2022-01-06\n"
     ]
    },
    {
     "name": "stderr",
     "output_type": "stream",
     "text": [
      "posx and posy should be finite values\n",
      "posx and posy should be finite values\n",
      "<ipython-input-10-e7d6dbf24ca9>:7: UserWarning: FixedFormatter should only be used together with FixedLocator\n",
      "  ax.set_yticklabels([round(y,2) for y in vals])\n"
     ]
    },
    {
     "name": "stdout",
     "output_type": "stream",
     "text": [
      "2022-01-07\n"
     ]
    },
    {
     "name": "stderr",
     "output_type": "stream",
     "text": [
      "posx and posy should be finite values\n",
      "posx and posy should be finite values\n",
      "<ipython-input-10-e7d6dbf24ca9>:7: UserWarning: FixedFormatter should only be used together with FixedLocator\n",
      "  ax.set_yticklabels([round(y,2) for y in vals])\n"
     ]
    },
    {
     "name": "stdout",
     "output_type": "stream",
     "text": [
      "2022-01-08\n"
     ]
    },
    {
     "name": "stderr",
     "output_type": "stream",
     "text": [
      "posx and posy should be finite values\n",
      "posx and posy should be finite values\n",
      "<ipython-input-10-e7d6dbf24ca9>:7: UserWarning: FixedFormatter should only be used together with FixedLocator\n",
      "  ax.set_yticklabels([round(y,2) for y in vals])\n"
     ]
    },
    {
     "name": "stdout",
     "output_type": "stream",
     "text": [
      "2022-01-09\n"
     ]
    },
    {
     "name": "stderr",
     "output_type": "stream",
     "text": [
      "posx and posy should be finite values\n",
      "posx and posy should be finite values\n",
      "<ipython-input-10-e7d6dbf24ca9>:7: UserWarning: FixedFormatter should only be used together with FixedLocator\n",
      "  ax.set_yticklabels([round(y,2) for y in vals])\n"
     ]
    },
    {
     "name": "stdout",
     "output_type": "stream",
     "text": [
      "2022-01-10\n"
     ]
    },
    {
     "name": "stderr",
     "output_type": "stream",
     "text": [
      "posx and posy should be finite values\n",
      "posx and posy should be finite values\n",
      "<ipython-input-10-e7d6dbf24ca9>:7: UserWarning: FixedFormatter should only be used together with FixedLocator\n",
      "  ax.set_yticklabels([round(y,2) for y in vals])\n"
     ]
    },
    {
     "name": "stdout",
     "output_type": "stream",
     "text": [
      "2022-01-11\n"
     ]
    },
    {
     "name": "stderr",
     "output_type": "stream",
     "text": [
      "posx and posy should be finite values\n",
      "posx and posy should be finite values\n",
      "<ipython-input-10-e7d6dbf24ca9>:7: UserWarning: FixedFormatter should only be used together with FixedLocator\n",
      "  ax.set_yticklabels([round(y,2) for y in vals])\n"
     ]
    },
    {
     "name": "stdout",
     "output_type": "stream",
     "text": [
      "2022-01-12\n"
     ]
    },
    {
     "name": "stderr",
     "output_type": "stream",
     "text": [
      "posx and posy should be finite values\n",
      "posx and posy should be finite values\n",
      "<ipython-input-10-e7d6dbf24ca9>:7: UserWarning: FixedFormatter should only be used together with FixedLocator\n",
      "  ax.set_yticklabels([round(y,2) for y in vals])\n"
     ]
    },
    {
     "name": "stdout",
     "output_type": "stream",
     "text": [
      "2022-01-13\n"
     ]
    },
    {
     "name": "stderr",
     "output_type": "stream",
     "text": [
      "posx and posy should be finite values\n",
      "posx and posy should be finite values\n",
      "<ipython-input-10-e7d6dbf24ca9>:7: UserWarning: FixedFormatter should only be used together with FixedLocator\n",
      "  ax.set_yticklabels([round(y,2) for y in vals])\n"
     ]
    },
    {
     "name": "stdout",
     "output_type": "stream",
     "text": [
      "2022-01-14\n"
     ]
    },
    {
     "name": "stderr",
     "output_type": "stream",
     "text": [
      "posx and posy should be finite values\n",
      "posx and posy should be finite values\n",
      "<ipython-input-10-e7d6dbf24ca9>:7: UserWarning: FixedFormatter should only be used together with FixedLocator\n",
      "  ax.set_yticklabels([round(y,2) for y in vals])\n"
     ]
    },
    {
     "name": "stdout",
     "output_type": "stream",
     "text": [
      "2022-01-15\n"
     ]
    },
    {
     "name": "stderr",
     "output_type": "stream",
     "text": [
      "posx and posy should be finite values\n",
      "posx and posy should be finite values\n",
      "<ipython-input-10-e7d6dbf24ca9>:7: UserWarning: FixedFormatter should only be used together with FixedLocator\n",
      "  ax.set_yticklabels([round(y,2) for y in vals])\n"
     ]
    },
    {
     "name": "stdout",
     "output_type": "stream",
     "text": [
      "2022-01-16\n"
     ]
    },
    {
     "name": "stderr",
     "output_type": "stream",
     "text": [
      "posx and posy should be finite values\n",
      "posx and posy should be finite values\n",
      "<ipython-input-10-e7d6dbf24ca9>:7: UserWarning: FixedFormatter should only be used together with FixedLocator\n",
      "  ax.set_yticklabels([round(y,2) for y in vals])\n"
     ]
    },
    {
     "name": "stdout",
     "output_type": "stream",
     "text": [
      "2022-01-17\n"
     ]
    },
    {
     "name": "stderr",
     "output_type": "stream",
     "text": [
      "posx and posy should be finite values\n",
      "posx and posy should be finite values\n",
      "<ipython-input-10-e7d6dbf24ca9>:7: UserWarning: FixedFormatter should only be used together with FixedLocator\n",
      "  ax.set_yticklabels([round(y,2) for y in vals])\n"
     ]
    },
    {
     "name": "stdout",
     "output_type": "stream",
     "text": [
      "2022-01-18\n"
     ]
    },
    {
     "name": "stderr",
     "output_type": "stream",
     "text": [
      "posx and posy should be finite values\n",
      "posx and posy should be finite values\n",
      "<ipython-input-10-e7d6dbf24ca9>:7: UserWarning: FixedFormatter should only be used together with FixedLocator\n",
      "  ax.set_yticklabels([round(y,2) for y in vals])\n"
     ]
    },
    {
     "name": "stdout",
     "output_type": "stream",
     "text": [
      "2022-01-19\n"
     ]
    },
    {
     "name": "stderr",
     "output_type": "stream",
     "text": [
      "posx and posy should be finite values\n",
      "posx and posy should be finite values\n",
      "<ipython-input-10-e7d6dbf24ca9>:7: UserWarning: FixedFormatter should only be used together with FixedLocator\n",
      "  ax.set_yticklabels([round(y,2) for y in vals])\n"
     ]
    },
    {
     "name": "stdout",
     "output_type": "stream",
     "text": [
      "2022-01-20\n"
     ]
    },
    {
     "name": "stderr",
     "output_type": "stream",
     "text": [
      "posx and posy should be finite values\n",
      "posx and posy should be finite values\n",
      "<ipython-input-10-e7d6dbf24ca9>:7: UserWarning: FixedFormatter should only be used together with FixedLocator\n",
      "  ax.set_yticklabels([round(y,2) for y in vals])\n"
     ]
    },
    {
     "name": "stdout",
     "output_type": "stream",
     "text": [
      "2022-01-21\n"
     ]
    },
    {
     "name": "stderr",
     "output_type": "stream",
     "text": [
      "posx and posy should be finite values\n",
      "posx and posy should be finite values\n",
      "<ipython-input-10-e7d6dbf24ca9>:7: UserWarning: FixedFormatter should only be used together with FixedLocator\n",
      "  ax.set_yticklabels([round(y,2) for y in vals])\n"
     ]
    },
    {
     "name": "stdout",
     "output_type": "stream",
     "text": [
      "2022-01-22\n"
     ]
    },
    {
     "name": "stderr",
     "output_type": "stream",
     "text": [
      "posx and posy should be finite values\n",
      "posx and posy should be finite values\n",
      "<ipython-input-10-e7d6dbf24ca9>:7: UserWarning: FixedFormatter should only be used together with FixedLocator\n",
      "  ax.set_yticklabels([round(y,2) for y in vals])\n"
     ]
    },
    {
     "name": "stdout",
     "output_type": "stream",
     "text": [
      "2022-01-23\n"
     ]
    },
    {
     "name": "stderr",
     "output_type": "stream",
     "text": [
      "posx and posy should be finite values\n",
      "posx and posy should be finite values\n",
      "<ipython-input-10-e7d6dbf24ca9>:7: UserWarning: FixedFormatter should only be used together with FixedLocator\n",
      "  ax.set_yticklabels([round(y,2) for y in vals])\n"
     ]
    },
    {
     "name": "stdout",
     "output_type": "stream",
     "text": [
      "2022-01-24\n"
     ]
    },
    {
     "name": "stderr",
     "output_type": "stream",
     "text": [
      "posx and posy should be finite values\n",
      "posx and posy should be finite values\n",
      "<ipython-input-10-e7d6dbf24ca9>:7: UserWarning: FixedFormatter should only be used together with FixedLocator\n",
      "  ax.set_yticklabels([round(y,2) for y in vals])\n"
     ]
    },
    {
     "name": "stdout",
     "output_type": "stream",
     "text": [
      "2022-01-25\n"
     ]
    },
    {
     "name": "stderr",
     "output_type": "stream",
     "text": [
      "posx and posy should be finite values\n",
      "posx and posy should be finite values\n",
      "<ipython-input-10-e7d6dbf24ca9>:7: UserWarning: FixedFormatter should only be used together with FixedLocator\n",
      "  ax.set_yticklabels([round(y,2) for y in vals])\n"
     ]
    },
    {
     "name": "stdout",
     "output_type": "stream",
     "text": [
      "2022-01-26\n"
     ]
    },
    {
     "name": "stderr",
     "output_type": "stream",
     "text": [
      "posx and posy should be finite values\n",
      "posx and posy should be finite values\n",
      "<ipython-input-10-e7d6dbf24ca9>:7: UserWarning: FixedFormatter should only be used together with FixedLocator\n",
      "  ax.set_yticklabels([round(y,2) for y in vals])\n"
     ]
    },
    {
     "name": "stdout",
     "output_type": "stream",
     "text": [
      "2022-01-27\n"
     ]
    },
    {
     "name": "stderr",
     "output_type": "stream",
     "text": [
      "posx and posy should be finite values\n",
      "posx and posy should be finite values\n",
      "<ipython-input-10-e7d6dbf24ca9>:7: UserWarning: FixedFormatter should only be used together with FixedLocator\n",
      "  ax.set_yticklabels([round(y,2) for y in vals])\n"
     ]
    },
    {
     "name": "stdout",
     "output_type": "stream",
     "text": [
      "2022-01-28\n"
     ]
    },
    {
     "name": "stderr",
     "output_type": "stream",
     "text": [
      "posx and posy should be finite values\n",
      "posx and posy should be finite values\n",
      "<ipython-input-10-e7d6dbf24ca9>:7: UserWarning: FixedFormatter should only be used together with FixedLocator\n",
      "  ax.set_yticklabels([round(y,2) for y in vals])\n"
     ]
    },
    {
     "name": "stdout",
     "output_type": "stream",
     "text": [
      "2022-01-29\n"
     ]
    },
    {
     "name": "stderr",
     "output_type": "stream",
     "text": [
      "posx and posy should be finite values\n",
      "posx and posy should be finite values\n",
      "<ipython-input-10-e7d6dbf24ca9>:7: UserWarning: FixedFormatter should only be used together with FixedLocator\n",
      "  ax.set_yticklabels([round(y,2) for y in vals])\n"
     ]
    },
    {
     "name": "stdout",
     "output_type": "stream",
     "text": [
      "2022-01-30\n"
     ]
    },
    {
     "name": "stderr",
     "output_type": "stream",
     "text": [
      "posx and posy should be finite values\n",
      "posx and posy should be finite values\n",
      "<ipython-input-10-e7d6dbf24ca9>:7: UserWarning: FixedFormatter should only be used together with FixedLocator\n",
      "  ax.set_yticklabels([round(y,2) for y in vals])\n"
     ]
    },
    {
     "name": "stdout",
     "output_type": "stream",
     "text": [
      "2022-01-31\n"
     ]
    },
    {
     "name": "stderr",
     "output_type": "stream",
     "text": [
      "posx and posy should be finite values\n",
      "posx and posy should be finite values\n",
      "<ipython-input-10-e7d6dbf24ca9>:7: UserWarning: FixedFormatter should only be used together with FixedLocator\n",
      "  ax.set_yticklabels([round(y,2) for y in vals])\n"
     ]
    },
    {
     "name": "stdout",
     "output_type": "stream",
     "text": [
      "2022-02-01\n"
     ]
    },
    {
     "name": "stderr",
     "output_type": "stream",
     "text": [
      "posx and posy should be finite values\n",
      "posx and posy should be finite values\n",
      "<ipython-input-10-e7d6dbf24ca9>:7: UserWarning: FixedFormatter should only be used together with FixedLocator\n",
      "  ax.set_yticklabels([round(y,2) for y in vals])\n"
     ]
    },
    {
     "name": "stdout",
     "output_type": "stream",
     "text": [
      "2022-02-02\n"
     ]
    },
    {
     "name": "stderr",
     "output_type": "stream",
     "text": [
      "posx and posy should be finite values\n",
      "posx and posy should be finite values\n",
      "<ipython-input-10-e7d6dbf24ca9>:7: UserWarning: FixedFormatter should only be used together with FixedLocator\n",
      "  ax.set_yticklabels([round(y,2) for y in vals])\n"
     ]
    },
    {
     "name": "stdout",
     "output_type": "stream",
     "text": [
      "2022-02-03\n"
     ]
    },
    {
     "name": "stderr",
     "output_type": "stream",
     "text": [
      "posx and posy should be finite values\n",
      "posx and posy should be finite values\n",
      "<ipython-input-10-e7d6dbf24ca9>:7: UserWarning: FixedFormatter should only be used together with FixedLocator\n",
      "  ax.set_yticklabels([round(y,2) for y in vals])\n"
     ]
    },
    {
     "name": "stdout",
     "output_type": "stream",
     "text": [
      "2022-02-04\n"
     ]
    },
    {
     "name": "stderr",
     "output_type": "stream",
     "text": [
      "posx and posy should be finite values\n",
      "posx and posy should be finite values\n",
      "<ipython-input-10-e7d6dbf24ca9>:7: UserWarning: FixedFormatter should only be used together with FixedLocator\n",
      "  ax.set_yticklabels([round(y,2) for y in vals])\n"
     ]
    },
    {
     "name": "stdout",
     "output_type": "stream",
     "text": [
      "2022-02-05\n"
     ]
    },
    {
     "name": "stderr",
     "output_type": "stream",
     "text": [
      "posx and posy should be finite values\n",
      "posx and posy should be finite values\n",
      "<ipython-input-10-e7d6dbf24ca9>:7: UserWarning: FixedFormatter should only be used together with FixedLocator\n",
      "  ax.set_yticklabels([round(y,2) for y in vals])\n"
     ]
    },
    {
     "name": "stdout",
     "output_type": "stream",
     "text": [
      "2022-02-06\n"
     ]
    },
    {
     "name": "stderr",
     "output_type": "stream",
     "text": [
      "posx and posy should be finite values\n",
      "posx and posy should be finite values\n",
      "<ipython-input-10-e7d6dbf24ca9>:7: UserWarning: FixedFormatter should only be used together with FixedLocator\n",
      "  ax.set_yticklabels([round(y,2) for y in vals])\n"
     ]
    },
    {
     "name": "stdout",
     "output_type": "stream",
     "text": [
      "2022-02-07\n"
     ]
    },
    {
     "name": "stderr",
     "output_type": "stream",
     "text": [
      "posx and posy should be finite values\n",
      "posx and posy should be finite values\n",
      "<ipython-input-10-e7d6dbf24ca9>:7: UserWarning: FixedFormatter should only be used together with FixedLocator\n",
      "  ax.set_yticklabels([round(y,2) for y in vals])\n"
     ]
    },
    {
     "name": "stdout",
     "output_type": "stream",
     "text": [
      "2022-02-08\n"
     ]
    },
    {
     "name": "stderr",
     "output_type": "stream",
     "text": [
      "posx and posy should be finite values\n",
      "posx and posy should be finite values\n",
      "<ipython-input-10-e7d6dbf24ca9>:7: UserWarning: FixedFormatter should only be used together with FixedLocator\n",
      "  ax.set_yticklabels([round(y,2) for y in vals])\n"
     ]
    },
    {
     "name": "stdout",
     "output_type": "stream",
     "text": [
      "2022-02-09\n"
     ]
    },
    {
     "name": "stderr",
     "output_type": "stream",
     "text": [
      "posx and posy should be finite values\n",
      "posx and posy should be finite values\n",
      "<ipython-input-10-e7d6dbf24ca9>:7: UserWarning: FixedFormatter should only be used together with FixedLocator\n",
      "  ax.set_yticklabels([round(y,2) for y in vals])\n"
     ]
    },
    {
     "name": "stdout",
     "output_type": "stream",
     "text": [
      "2022-02-10\n"
     ]
    },
    {
     "name": "stderr",
     "output_type": "stream",
     "text": [
      "posx and posy should be finite values\n",
      "posx and posy should be finite values\n",
      "<ipython-input-10-e7d6dbf24ca9>:7: UserWarning: FixedFormatter should only be used together with FixedLocator\n",
      "  ax.set_yticklabels([round(y,2) for y in vals])\n"
     ]
    },
    {
     "name": "stdout",
     "output_type": "stream",
     "text": [
      "2022-02-11\n"
     ]
    },
    {
     "name": "stderr",
     "output_type": "stream",
     "text": [
      "posx and posy should be finite values\n",
      "posx and posy should be finite values\n",
      "<ipython-input-10-e7d6dbf24ca9>:7: UserWarning: FixedFormatter should only be used together with FixedLocator\n",
      "  ax.set_yticklabels([round(y,2) for y in vals])\n"
     ]
    },
    {
     "name": "stdout",
     "output_type": "stream",
     "text": [
      "2022-02-12\n"
     ]
    },
    {
     "name": "stderr",
     "output_type": "stream",
     "text": [
      "posx and posy should be finite values\n",
      "posx and posy should be finite values\n",
      "<ipython-input-10-e7d6dbf24ca9>:7: UserWarning: FixedFormatter should only be used together with FixedLocator\n",
      "  ax.set_yticklabels([round(y,2) for y in vals])\n"
     ]
    },
    {
     "name": "stdout",
     "output_type": "stream",
     "text": [
      "2022-02-13\n"
     ]
    },
    {
     "name": "stderr",
     "output_type": "stream",
     "text": [
      "posx and posy should be finite values\n",
      "posx and posy should be finite values\n",
      "<ipython-input-10-e7d6dbf24ca9>:7: UserWarning: FixedFormatter should only be used together with FixedLocator\n",
      "  ax.set_yticklabels([round(y,2) for y in vals])\n"
     ]
    },
    {
     "name": "stdout",
     "output_type": "stream",
     "text": [
      "2022-02-14\n"
     ]
    },
    {
     "name": "stderr",
     "output_type": "stream",
     "text": [
      "posx and posy should be finite values\n",
      "posx and posy should be finite values\n",
      "<ipython-input-10-e7d6dbf24ca9>:7: UserWarning: FixedFormatter should only be used together with FixedLocator\n",
      "  ax.set_yticklabels([round(y,2) for y in vals])\n"
     ]
    },
    {
     "name": "stdout",
     "output_type": "stream",
     "text": [
      "2022-02-15\n"
     ]
    },
    {
     "name": "stderr",
     "output_type": "stream",
     "text": [
      "posx and posy should be finite values\n",
      "posx and posy should be finite values\n",
      "<ipython-input-10-e7d6dbf24ca9>:7: UserWarning: FixedFormatter should only be used together with FixedLocator\n",
      "  ax.set_yticklabels([round(y,2) for y in vals])\n"
     ]
    },
    {
     "name": "stdout",
     "output_type": "stream",
     "text": [
      "2022-02-16\n"
     ]
    },
    {
     "name": "stderr",
     "output_type": "stream",
     "text": [
      "posx and posy should be finite values\n",
      "posx and posy should be finite values\n",
      "<ipython-input-10-e7d6dbf24ca9>:7: UserWarning: FixedFormatter should only be used together with FixedLocator\n",
      "  ax.set_yticklabels([round(y,2) for y in vals])\n"
     ]
    },
    {
     "name": "stdout",
     "output_type": "stream",
     "text": [
      "2022-02-17\n"
     ]
    },
    {
     "name": "stderr",
     "output_type": "stream",
     "text": [
      "posx and posy should be finite values\n",
      "posx and posy should be finite values\n",
      "<ipython-input-10-e7d6dbf24ca9>:7: UserWarning: FixedFormatter should only be used together with FixedLocator\n",
      "  ax.set_yticklabels([round(y,2) for y in vals])\n"
     ]
    },
    {
     "name": "stdout",
     "output_type": "stream",
     "text": [
      "2022-02-18\n"
     ]
    },
    {
     "name": "stderr",
     "output_type": "stream",
     "text": [
      "posx and posy should be finite values\n",
      "posx and posy should be finite values\n",
      "<ipython-input-10-e7d6dbf24ca9>:7: UserWarning: FixedFormatter should only be used together with FixedLocator\n",
      "  ax.set_yticklabels([round(y,2) for y in vals])\n"
     ]
    },
    {
     "name": "stdout",
     "output_type": "stream",
     "text": [
      "2022-02-19\n"
     ]
    },
    {
     "name": "stderr",
     "output_type": "stream",
     "text": [
      "posx and posy should be finite values\n",
      "posx and posy should be finite values\n",
      "<ipython-input-10-e7d6dbf24ca9>:7: UserWarning: FixedFormatter should only be used together with FixedLocator\n",
      "  ax.set_yticklabels([round(y,2) for y in vals])\n"
     ]
    },
    {
     "name": "stdout",
     "output_type": "stream",
     "text": [
      "2022-02-20\n"
     ]
    },
    {
     "name": "stderr",
     "output_type": "stream",
     "text": [
      "posx and posy should be finite values\n",
      "posx and posy should be finite values\n",
      "<ipython-input-10-e7d6dbf24ca9>:7: UserWarning: FixedFormatter should only be used together with FixedLocator\n",
      "  ax.set_yticklabels([round(y,2) for y in vals])\n"
     ]
    },
    {
     "name": "stdout",
     "output_type": "stream",
     "text": [
      "2022-02-21\n"
     ]
    },
    {
     "name": "stderr",
     "output_type": "stream",
     "text": [
      "posx and posy should be finite values\n",
      "posx and posy should be finite values\n",
      "<ipython-input-10-e7d6dbf24ca9>:7: UserWarning: FixedFormatter should only be used together with FixedLocator\n",
      "  ax.set_yticklabels([round(y,2) for y in vals])\n"
     ]
    },
    {
     "name": "stdout",
     "output_type": "stream",
     "text": [
      "2022-02-22\n"
     ]
    },
    {
     "name": "stderr",
     "output_type": "stream",
     "text": [
      "posx and posy should be finite values\n",
      "posx and posy should be finite values\n",
      "<ipython-input-10-e7d6dbf24ca9>:7: UserWarning: FixedFormatter should only be used together with FixedLocator\n",
      "  ax.set_yticklabels([round(y,2) for y in vals])\n"
     ]
    },
    {
     "name": "stdout",
     "output_type": "stream",
     "text": [
      "2022-02-23\n"
     ]
    },
    {
     "name": "stderr",
     "output_type": "stream",
     "text": [
      "posx and posy should be finite values\n",
      "posx and posy should be finite values\n",
      "<ipython-input-10-e7d6dbf24ca9>:7: UserWarning: FixedFormatter should only be used together with FixedLocator\n",
      "  ax.set_yticklabels([round(y,2) for y in vals])\n"
     ]
    },
    {
     "name": "stdout",
     "output_type": "stream",
     "text": [
      "2022-02-24\n"
     ]
    },
    {
     "name": "stderr",
     "output_type": "stream",
     "text": [
      "posx and posy should be finite values\n",
      "posx and posy should be finite values\n",
      "<ipython-input-10-e7d6dbf24ca9>:7: UserWarning: FixedFormatter should only be used together with FixedLocator\n",
      "  ax.set_yticklabels([round(y,2) for y in vals])\n"
     ]
    },
    {
     "name": "stdout",
     "output_type": "stream",
     "text": [
      "2022-02-25\n"
     ]
    },
    {
     "name": "stderr",
     "output_type": "stream",
     "text": [
      "posx and posy should be finite values\n",
      "posx and posy should be finite values\n",
      "<ipython-input-10-e7d6dbf24ca9>:7: UserWarning: FixedFormatter should only be used together with FixedLocator\n",
      "  ax.set_yticklabels([round(y,2) for y in vals])\n"
     ]
    },
    {
     "name": "stdout",
     "output_type": "stream",
     "text": [
      "2022-02-26\n"
     ]
    },
    {
     "name": "stderr",
     "output_type": "stream",
     "text": [
      "posx and posy should be finite values\n",
      "posx and posy should be finite values\n",
      "<ipython-input-10-e7d6dbf24ca9>:7: UserWarning: FixedFormatter should only be used together with FixedLocator\n",
      "  ax.set_yticklabels([round(y,2) for y in vals])\n"
     ]
    },
    {
     "name": "stdout",
     "output_type": "stream",
     "text": [
      "2022-02-27\n"
     ]
    },
    {
     "name": "stderr",
     "output_type": "stream",
     "text": [
      "posx and posy should be finite values\n",
      "posx and posy should be finite values\n",
      "posx and posy should be finite values\n",
      "posx and posy should be finite values\n",
      "<ipython-input-10-e7d6dbf24ca9>:7: UserWarning: FixedFormatter should only be used together with FixedLocator\n",
      "  ax.set_yticklabels([round(y,2) for y in vals])\n"
     ]
    },
    {
     "name": "stdout",
     "output_type": "stream",
     "text": [
      "2022-02-28\n"
     ]
    },
    {
     "name": "stderr",
     "output_type": "stream",
     "text": [
      "posx and posy should be finite values\n",
      "posx and posy should be finite values\n",
      "posx and posy should be finite values\n",
      "posx and posy should be finite values\n",
      "<ipython-input-10-e7d6dbf24ca9>:7: UserWarning: FixedFormatter should only be used together with FixedLocator\n",
      "  ax.set_yticklabels([round(y,2) for y in vals])\n"
     ]
    },
    {
     "name": "stdout",
     "output_type": "stream",
     "text": [
      "2022-03-01\n"
     ]
    },
    {
     "name": "stderr",
     "output_type": "stream",
     "text": [
      "posx and posy should be finite values\n",
      "posx and posy should be finite values\n",
      "posx and posy should be finite values\n",
      "posx and posy should be finite values\n",
      "<ipython-input-10-e7d6dbf24ca9>:7: UserWarning: FixedFormatter should only be used together with FixedLocator\n",
      "  ax.set_yticklabels([round(y,2) for y in vals])\n"
     ]
    },
    {
     "name": "stdout",
     "output_type": "stream",
     "text": [
      "2022-03-02\n"
     ]
    },
    {
     "name": "stderr",
     "output_type": "stream",
     "text": [
      "posx and posy should be finite values\n",
      "posx and posy should be finite values\n",
      "posx and posy should be finite values\n",
      "posx and posy should be finite values\n",
      "<ipython-input-10-e7d6dbf24ca9>:7: UserWarning: FixedFormatter should only be used together with FixedLocator\n",
      "  ax.set_yticklabels([round(y,2) for y in vals])\n"
     ]
    },
    {
     "name": "stdout",
     "output_type": "stream",
     "text": [
      "2022-03-03\n"
     ]
    },
    {
     "name": "stderr",
     "output_type": "stream",
     "text": [
      "posx and posy should be finite values\n",
      "posx and posy should be finite values\n",
      "posx and posy should be finite values\n",
      "posx and posy should be finite values\n",
      "<ipython-input-10-e7d6dbf24ca9>:7: UserWarning: FixedFormatter should only be used together with FixedLocator\n",
      "  ax.set_yticklabels([round(y,2) for y in vals])\n"
     ]
    },
    {
     "name": "stdout",
     "output_type": "stream",
     "text": [
      "2022-03-04\n"
     ]
    },
    {
     "name": "stderr",
     "output_type": "stream",
     "text": [
      "posx and posy should be finite values\n",
      "posx and posy should be finite values\n",
      "posx and posy should be finite values\n",
      "posx and posy should be finite values\n",
      "<ipython-input-10-e7d6dbf24ca9>:7: UserWarning: FixedFormatter should only be used together with FixedLocator\n",
      "  ax.set_yticklabels([round(y,2) for y in vals])\n"
     ]
    },
    {
     "name": "stdout",
     "output_type": "stream",
     "text": [
      "2022-03-05\n"
     ]
    },
    {
     "name": "stderr",
     "output_type": "stream",
     "text": [
      "posx and posy should be finite values\n",
      "posx and posy should be finite values\n",
      "posx and posy should be finite values\n",
      "posx and posy should be finite values\n",
      "<ipython-input-10-e7d6dbf24ca9>:7: UserWarning: FixedFormatter should only be used together with FixedLocator\n",
      "  ax.set_yticklabels([round(y,2) for y in vals])\n"
     ]
    },
    {
     "name": "stdout",
     "output_type": "stream",
     "text": [
      "2022-03-06\n"
     ]
    },
    {
     "name": "stderr",
     "output_type": "stream",
     "text": [
      "posx and posy should be finite values\n",
      "posx and posy should be finite values\n",
      "posx and posy should be finite values\n",
      "posx and posy should be finite values\n",
      "<ipython-input-10-e7d6dbf24ca9>:7: UserWarning: FixedFormatter should only be used together with FixedLocator\n",
      "  ax.set_yticklabels([round(y,2) for y in vals])\n"
     ]
    },
    {
     "name": "stdout",
     "output_type": "stream",
     "text": [
      "2022-03-07\n"
     ]
    },
    {
     "name": "stderr",
     "output_type": "stream",
     "text": [
      "posx and posy should be finite values\n",
      "posx and posy should be finite values\n",
      "posx and posy should be finite values\n",
      "posx and posy should be finite values\n",
      "<ipython-input-10-e7d6dbf24ca9>:7: UserWarning: FixedFormatter should only be used together with FixedLocator\n",
      "  ax.set_yticklabels([round(y,2) for y in vals])\n"
     ]
    },
    {
     "name": "stdout",
     "output_type": "stream",
     "text": [
      "2022-03-08\n"
     ]
    },
    {
     "name": "stderr",
     "output_type": "stream",
     "text": [
      "posx and posy should be finite values\n",
      "posx and posy should be finite values\n",
      "posx and posy should be finite values\n",
      "posx and posy should be finite values\n",
      "<ipython-input-10-e7d6dbf24ca9>:7: UserWarning: FixedFormatter should only be used together with FixedLocator\n",
      "  ax.set_yticklabels([round(y,2) for y in vals])\n"
     ]
    },
    {
     "name": "stdout",
     "output_type": "stream",
     "text": [
      "2022-03-09\n"
     ]
    },
    {
     "name": "stderr",
     "output_type": "stream",
     "text": [
      "posx and posy should be finite values\n",
      "posx and posy should be finite values\n",
      "posx and posy should be finite values\n",
      "posx and posy should be finite values\n",
      "<ipython-input-10-e7d6dbf24ca9>:7: UserWarning: FixedFormatter should only be used together with FixedLocator\n",
      "  ax.set_yticklabels([round(y,2) for y in vals])\n"
     ]
    },
    {
     "name": "stdout",
     "output_type": "stream",
     "text": [
      "2022-03-10\n"
     ]
    },
    {
     "name": "stderr",
     "output_type": "stream",
     "text": [
      "posx and posy should be finite values\n",
      "posx and posy should be finite values\n",
      "posx and posy should be finite values\n",
      "posx and posy should be finite values\n",
      "<ipython-input-10-e7d6dbf24ca9>:7: UserWarning: FixedFormatter should only be used together with FixedLocator\n",
      "  ax.set_yticklabels([round(y,2) for y in vals])\n"
     ]
    },
    {
     "name": "stdout",
     "output_type": "stream",
     "text": [
      "2022-03-11\n"
     ]
    },
    {
     "name": "stderr",
     "output_type": "stream",
     "text": [
      "posx and posy should be finite values\n",
      "posx and posy should be finite values\n",
      "posx and posy should be finite values\n",
      "posx and posy should be finite values\n",
      "<ipython-input-10-e7d6dbf24ca9>:7: UserWarning: FixedFormatter should only be used together with FixedLocator\n",
      "  ax.set_yticklabels([round(y,2) for y in vals])\n"
     ]
    },
    {
     "name": "stdout",
     "output_type": "stream",
     "text": [
      "2022-03-12\n"
     ]
    },
    {
     "name": "stderr",
     "output_type": "stream",
     "text": [
      "posx and posy should be finite values\n",
      "posx and posy should be finite values\n",
      "posx and posy should be finite values\n",
      "posx and posy should be finite values\n",
      "<ipython-input-10-e7d6dbf24ca9>:7: UserWarning: FixedFormatter should only be used together with FixedLocator\n",
      "  ax.set_yticklabels([round(y,2) for y in vals])\n"
     ]
    },
    {
     "name": "stdout",
     "output_type": "stream",
     "text": [
      "2022-03-13\n"
     ]
    },
    {
     "name": "stderr",
     "output_type": "stream",
     "text": [
      "posx and posy should be finite values\n",
      "posx and posy should be finite values\n",
      "posx and posy should be finite values\n",
      "posx and posy should be finite values\n",
      "<ipython-input-10-e7d6dbf24ca9>:7: UserWarning: FixedFormatter should only be used together with FixedLocator\n",
      "  ax.set_yticklabels([round(y,2) for y in vals])\n"
     ]
    },
    {
     "name": "stdout",
     "output_type": "stream",
     "text": [
      "2022-03-14\n"
     ]
    },
    {
     "name": "stderr",
     "output_type": "stream",
     "text": [
      "posx and posy should be finite values\n",
      "posx and posy should be finite values\n",
      "posx and posy should be finite values\n",
      "posx and posy should be finite values\n",
      "<ipython-input-10-e7d6dbf24ca9>:7: UserWarning: FixedFormatter should only be used together with FixedLocator\n",
      "  ax.set_yticklabels([round(y,2) for y in vals])\n"
     ]
    },
    {
     "name": "stdout",
     "output_type": "stream",
     "text": [
      "2022-03-15\n"
     ]
    },
    {
     "name": "stderr",
     "output_type": "stream",
     "text": [
      "posx and posy should be finite values\n",
      "posx and posy should be finite values\n",
      "posx and posy should be finite values\n",
      "posx and posy should be finite values\n",
      "<ipython-input-10-e7d6dbf24ca9>:7: UserWarning: FixedFormatter should only be used together with FixedLocator\n",
      "  ax.set_yticklabels([round(y,2) for y in vals])\n"
     ]
    },
    {
     "name": "stdout",
     "output_type": "stream",
     "text": [
      "2022-03-16\n"
     ]
    },
    {
     "name": "stderr",
     "output_type": "stream",
     "text": [
      "posx and posy should be finite values\n",
      "posx and posy should be finite values\n",
      "posx and posy should be finite values\n",
      "posx and posy should be finite values\n",
      "<ipython-input-10-e7d6dbf24ca9>:7: UserWarning: FixedFormatter should only be used together with FixedLocator\n",
      "  ax.set_yticklabels([round(y,2) for y in vals])\n"
     ]
    },
    {
     "name": "stdout",
     "output_type": "stream",
     "text": [
      "2022-03-17\n"
     ]
    },
    {
     "name": "stderr",
     "output_type": "stream",
     "text": [
      "posx and posy should be finite values\n",
      "posx and posy should be finite values\n",
      "posx and posy should be finite values\n",
      "posx and posy should be finite values\n",
      "<ipython-input-10-e7d6dbf24ca9>:7: UserWarning: FixedFormatter should only be used together with FixedLocator\n",
      "  ax.set_yticklabels([round(y,2) for y in vals])\n"
     ]
    },
    {
     "name": "stdout",
     "output_type": "stream",
     "text": [
      "2022-03-18\n"
     ]
    },
    {
     "name": "stderr",
     "output_type": "stream",
     "text": [
      "posx and posy should be finite values\n",
      "posx and posy should be finite values\n",
      "posx and posy should be finite values\n",
      "posx and posy should be finite values\n",
      "<ipython-input-10-e7d6dbf24ca9>:7: UserWarning: FixedFormatter should only be used together with FixedLocator\n",
      "  ax.set_yticklabels([round(y,2) for y in vals])\n"
     ]
    },
    {
     "name": "stdout",
     "output_type": "stream",
     "text": [
      "2022-03-19\n"
     ]
    },
    {
     "name": "stderr",
     "output_type": "stream",
     "text": [
      "posx and posy should be finite values\n",
      "posx and posy should be finite values\n",
      "posx and posy should be finite values\n",
      "posx and posy should be finite values\n",
      "posx and posy should be finite values\n",
      "posx and posy should be finite values\n",
      "<ipython-input-10-e7d6dbf24ca9>:7: UserWarning: FixedFormatter should only be used together with FixedLocator\n",
      "  ax.set_yticklabels([round(y,2) for y in vals])\n"
     ]
    },
    {
     "name": "stdout",
     "output_type": "stream",
     "text": [
      "2022-03-20\n"
     ]
    },
    {
     "name": "stderr",
     "output_type": "stream",
     "text": [
      "posx and posy should be finite values\n",
      "posx and posy should be finite values\n",
      "posx and posy should be finite values\n",
      "posx and posy should be finite values\n",
      "posx and posy should be finite values\n",
      "posx and posy should be finite values\n",
      "<ipython-input-10-e7d6dbf24ca9>:7: UserWarning: FixedFormatter should only be used together with FixedLocator\n",
      "  ax.set_yticklabels([round(y,2) for y in vals])\n"
     ]
    },
    {
     "name": "stdout",
     "output_type": "stream",
     "text": [
      "2022-03-21\n"
     ]
    },
    {
     "name": "stderr",
     "output_type": "stream",
     "text": [
      "posx and posy should be finite values\n",
      "posx and posy should be finite values\n",
      "posx and posy should be finite values\n",
      "posx and posy should be finite values\n",
      "posx and posy should be finite values\n",
      "posx and posy should be finite values\n",
      "<ipython-input-10-e7d6dbf24ca9>:7: UserWarning: FixedFormatter should only be used together with FixedLocator\n",
      "  ax.set_yticklabels([round(y,2) for y in vals])\n"
     ]
    },
    {
     "name": "stdout",
     "output_type": "stream",
     "text": [
      "2022-03-22\n"
     ]
    },
    {
     "name": "stderr",
     "output_type": "stream",
     "text": [
      "posx and posy should be finite values\n",
      "posx and posy should be finite values\n",
      "posx and posy should be finite values\n",
      "posx and posy should be finite values\n",
      "posx and posy should be finite values\n",
      "posx and posy should be finite values\n",
      "<ipython-input-10-e7d6dbf24ca9>:7: UserWarning: FixedFormatter should only be used together with FixedLocator\n",
      "  ax.set_yticklabels([round(y,2) for y in vals])\n"
     ]
    },
    {
     "name": "stdout",
     "output_type": "stream",
     "text": [
      "2022-03-23\n"
     ]
    },
    {
     "name": "stderr",
     "output_type": "stream",
     "text": [
      "posx and posy should be finite values\n",
      "posx and posy should be finite values\n",
      "posx and posy should be finite values\n",
      "posx and posy should be finite values\n",
      "posx and posy should be finite values\n",
      "posx and posy should be finite values\n",
      "<ipython-input-10-e7d6dbf24ca9>:7: UserWarning: FixedFormatter should only be used together with FixedLocator\n",
      "  ax.set_yticklabels([round(y,2) for y in vals])\n"
     ]
    },
    {
     "name": "stdout",
     "output_type": "stream",
     "text": [
      "2022-03-24\n"
     ]
    },
    {
     "name": "stderr",
     "output_type": "stream",
     "text": [
      "posx and posy should be finite values\n",
      "posx and posy should be finite values\n",
      "posx and posy should be finite values\n",
      "posx and posy should be finite values\n",
      "posx and posy should be finite values\n",
      "posx and posy should be finite values\n",
      "<ipython-input-10-e7d6dbf24ca9>:7: UserWarning: FixedFormatter should only be used together with FixedLocator\n",
      "  ax.set_yticklabels([round(y,2) for y in vals])\n"
     ]
    },
    {
     "name": "stdout",
     "output_type": "stream",
     "text": [
      "2022-03-25\n"
     ]
    },
    {
     "name": "stderr",
     "output_type": "stream",
     "text": [
      "posx and posy should be finite values\n",
      "posx and posy should be finite values\n",
      "posx and posy should be finite values\n",
      "posx and posy should be finite values\n",
      "posx and posy should be finite values\n",
      "posx and posy should be finite values\n",
      "<ipython-input-10-e7d6dbf24ca9>:7: UserWarning: FixedFormatter should only be used together with FixedLocator\n",
      "  ax.set_yticklabels([round(y,2) for y in vals])\n"
     ]
    },
    {
     "name": "stdout",
     "output_type": "stream",
     "text": [
      "2022-03-26\n"
     ]
    },
    {
     "name": "stderr",
     "output_type": "stream",
     "text": [
      "posx and posy should be finite values\n",
      "posx and posy should be finite values\n",
      "posx and posy should be finite values\n",
      "posx and posy should be finite values\n",
      "posx and posy should be finite values\n",
      "posx and posy should be finite values\n",
      "<ipython-input-10-e7d6dbf24ca9>:7: UserWarning: FixedFormatter should only be used together with FixedLocator\n",
      "  ax.set_yticklabels([round(y,2) for y in vals])\n"
     ]
    },
    {
     "name": "stdout",
     "output_type": "stream",
     "text": [
      "2022-03-27\n"
     ]
    },
    {
     "name": "stderr",
     "output_type": "stream",
     "text": [
      "posx and posy should be finite values\n",
      "posx and posy should be finite values\n",
      "posx and posy should be finite values\n",
      "posx and posy should be finite values\n",
      "posx and posy should be finite values\n",
      "posx and posy should be finite values\n",
      "<ipython-input-10-e7d6dbf24ca9>:7: UserWarning: FixedFormatter should only be used together with FixedLocator\n",
      "  ax.set_yticklabels([round(y,2) for y in vals])\n"
     ]
    },
    {
     "name": "stdout",
     "output_type": "stream",
     "text": [
      "2022-03-28\n"
     ]
    },
    {
     "name": "stderr",
     "output_type": "stream",
     "text": [
      "posx and posy should be finite values\n",
      "posx and posy should be finite values\n",
      "posx and posy should be finite values\n",
      "posx and posy should be finite values\n",
      "posx and posy should be finite values\n",
      "posx and posy should be finite values\n",
      "<ipython-input-10-e7d6dbf24ca9>:7: UserWarning: FixedFormatter should only be used together with FixedLocator\n",
      "  ax.set_yticklabels([round(y,2) for y in vals])\n"
     ]
    },
    {
     "name": "stdout",
     "output_type": "stream",
     "text": [
      "2022-03-29\n"
     ]
    },
    {
     "name": "stderr",
     "output_type": "stream",
     "text": [
      "posx and posy should be finite values\n",
      "posx and posy should be finite values\n",
      "posx and posy should be finite values\n",
      "posx and posy should be finite values\n",
      "posx and posy should be finite values\n",
      "posx and posy should be finite values\n",
      "<ipython-input-10-e7d6dbf24ca9>:7: UserWarning: FixedFormatter should only be used together with FixedLocator\n",
      "  ax.set_yticklabels([round(y,2) for y in vals])\n"
     ]
    },
    {
     "name": "stdout",
     "output_type": "stream",
     "text": [
      "2022-03-30\n"
     ]
    },
    {
     "name": "stderr",
     "output_type": "stream",
     "text": [
      "posx and posy should be finite values\n",
      "posx and posy should be finite values\n",
      "posx and posy should be finite values\n",
      "posx and posy should be finite values\n",
      "posx and posy should be finite values\n",
      "posx and posy should be finite values\n",
      "<ipython-input-10-e7d6dbf24ca9>:7: UserWarning: FixedFormatter should only be used together with FixedLocator\n",
      "  ax.set_yticklabels([round(y,2) for y in vals])\n"
     ]
    },
    {
     "name": "stdout",
     "output_type": "stream",
     "text": [
      "2022-03-31\n"
     ]
    },
    {
     "name": "stderr",
     "output_type": "stream",
     "text": [
      "posx and posy should be finite values\n",
      "posx and posy should be finite values\n",
      "posx and posy should be finite values\n",
      "posx and posy should be finite values\n",
      "posx and posy should be finite values\n",
      "posx and posy should be finite values\n",
      "<ipython-input-10-e7d6dbf24ca9>:7: UserWarning: FixedFormatter should only be used together with FixedLocator\n",
      "  ax.set_yticklabels([round(y,2) for y in vals])\n"
     ]
    },
    {
     "name": "stdout",
     "output_type": "stream",
     "text": [
      "2022-04-01\n"
     ]
    },
    {
     "name": "stderr",
     "output_type": "stream",
     "text": [
      "posx and posy should be finite values\n",
      "posx and posy should be finite values\n",
      "posx and posy should be finite values\n",
      "posx and posy should be finite values\n",
      "posx and posy should be finite values\n",
      "posx and posy should be finite values\n",
      "<ipython-input-10-e7d6dbf24ca9>:7: UserWarning: FixedFormatter should only be used together with FixedLocator\n",
      "  ax.set_yticklabels([round(y,2) for y in vals])\n"
     ]
    },
    {
     "name": "stdout",
     "output_type": "stream",
     "text": [
      "2022-04-02\n"
     ]
    },
    {
     "name": "stderr",
     "output_type": "stream",
     "text": [
      "posx and posy should be finite values\n",
      "posx and posy should be finite values\n",
      "posx and posy should be finite values\n",
      "posx and posy should be finite values\n",
      "posx and posy should be finite values\n",
      "posx and posy should be finite values\n",
      "<ipython-input-10-e7d6dbf24ca9>:7: UserWarning: FixedFormatter should only be used together with FixedLocator\n",
      "  ax.set_yticklabels([round(y,2) for y in vals])\n"
     ]
    },
    {
     "name": "stdout",
     "output_type": "stream",
     "text": [
      "2022-04-03\n"
     ]
    },
    {
     "name": "stderr",
     "output_type": "stream",
     "text": [
      "posx and posy should be finite values\n",
      "posx and posy should be finite values\n",
      "posx and posy should be finite values\n",
      "posx and posy should be finite values\n",
      "posx and posy should be finite values\n",
      "posx and posy should be finite values\n",
      "<ipython-input-10-e7d6dbf24ca9>:7: UserWarning: FixedFormatter should only be used together with FixedLocator\n",
      "  ax.set_yticklabels([round(y,2) for y in vals])\n"
     ]
    },
    {
     "name": "stdout",
     "output_type": "stream",
     "text": [
      "2022-04-04\n"
     ]
    },
    {
     "name": "stderr",
     "output_type": "stream",
     "text": [
      "posx and posy should be finite values\n",
      "posx and posy should be finite values\n",
      "posx and posy should be finite values\n",
      "posx and posy should be finite values\n",
      "posx and posy should be finite values\n",
      "posx and posy should be finite values\n",
      "<ipython-input-10-e7d6dbf24ca9>:7: UserWarning: FixedFormatter should only be used together with FixedLocator\n",
      "  ax.set_yticklabels([round(y,2) for y in vals])\n"
     ]
    },
    {
     "name": "stdout",
     "output_type": "stream",
     "text": [
      "2022-04-05\n"
     ]
    },
    {
     "name": "stderr",
     "output_type": "stream",
     "text": [
      "posx and posy should be finite values\n",
      "posx and posy should be finite values\n",
      "posx and posy should be finite values\n",
      "posx and posy should be finite values\n",
      "posx and posy should be finite values\n",
      "posx and posy should be finite values\n",
      "<ipython-input-10-e7d6dbf24ca9>:7: UserWarning: FixedFormatter should only be used together with FixedLocator\n",
      "  ax.set_yticklabels([round(y,2) for y in vals])\n"
     ]
    },
    {
     "name": "stdout",
     "output_type": "stream",
     "text": [
      "2022-04-06\n"
     ]
    },
    {
     "name": "stderr",
     "output_type": "stream",
     "text": [
      "posx and posy should be finite values\n",
      "posx and posy should be finite values\n",
      "posx and posy should be finite values\n",
      "posx and posy should be finite values\n",
      "posx and posy should be finite values\n",
      "posx and posy should be finite values\n",
      "<ipython-input-10-e7d6dbf24ca9>:7: UserWarning: FixedFormatter should only be used together with FixedLocator\n",
      "  ax.set_yticklabels([round(y,2) for y in vals])\n"
     ]
    },
    {
     "name": "stdout",
     "output_type": "stream",
     "text": [
      "2022-04-07\n"
     ]
    },
    {
     "name": "stderr",
     "output_type": "stream",
     "text": [
      "posx and posy should be finite values\n",
      "posx and posy should be finite values\n",
      "posx and posy should be finite values\n",
      "posx and posy should be finite values\n",
      "posx and posy should be finite values\n",
      "posx and posy should be finite values\n",
      "<ipython-input-10-e7d6dbf24ca9>:7: UserWarning: FixedFormatter should only be used together with FixedLocator\n",
      "  ax.set_yticklabels([round(y,2) for y in vals])\n"
     ]
    },
    {
     "name": "stdout",
     "output_type": "stream",
     "text": [
      "2022-04-08\n"
     ]
    },
    {
     "name": "stderr",
     "output_type": "stream",
     "text": [
      "posx and posy should be finite values\n",
      "posx and posy should be finite values\n",
      "posx and posy should be finite values\n",
      "posx and posy should be finite values\n",
      "posx and posy should be finite values\n",
      "posx and posy should be finite values\n"
     ]
    }
   ],
   "source": [
    "from matplotlib.animation import FuncAnimation\n",
    "import math         \n",
    "def plot_curves(date, *kwargs):\n",
    "    #ax.clear()\n",
    "    ax.set_ylim(bottom = 0, top = max_y)\n",
    "    vals = ax.get_yticks()\n",
    "    ax.set_yticklabels([round(y,2) for y in vals])\n",
    " \n",
    "    # the FuncAnimation cycles from 0 to i frames,\n",
    "    plot_df = df[date]\n",
    "    alpha = 1 if date in write_dates else .1\n",
    "    color = \"C\" + str(math.ceil(int(date[5:7])/3)) if date != write_dates[0] else \"k\"\n",
    "\n",
    "    # If no secondary_y (axis), plot all variables at once\n",
    "\n",
    "    plot_df.plot.line(linewidth = linewidth, ax = ax, alpha = alpha, color = color)\n",
    "    if date in write_dates: \n",
    "        plt.text(len(plot_df.keys()) - 1, plot_df[\"30 Y (%)\"], date[5:], color = color)\n",
    "    # Turn the text on the x-axis so that it reads vertically\n",
    "    ax.tick_params(axis='x', rotation=90)\n",
    "    ax.set_title(str(date)[:10] + \"\\n\" + \"Yield Curve (U.S. Treasuries)\", fontsize = 30)\n",
    "    print(date)\n",
    "    \n",
    "def init(*kwargs):\n",
    "    # Get rid of tick lines perpendicular to the axis for aesthetic\n",
    "    ax.tick_params('both', length=0, which='both')\n",
    "    plt.xticks([i for i in range(len(data.index))], list(data.index))\n",
    "    ax.tick_params(axis='x', rotation=90)\n",
    "    # transform y-axis values from sci notation to integers\n",
    "    ax.set_ylim(bottom = 0, top = max_y)\n",
    "    vals = ax.get_yticks()\n",
    "    ax.set_yticklabels([round(y,2) for y in vals])\n",
    "\n",
    "dates = list(T_data.keys())[-166:]\n",
    "write_dates = dates[-1:0:-20]\n",
    "df = T_data[dates].drop(\"30 Y - 1 M\", axis = 0)\n",
    "max_y = df.max().max()\n",
    "fig, ax = plt.subplots(figsize=(40,20))   \n",
    "plt.rcParams.update({\"font.size\": 30})\n",
    "linewidth = 5\n",
    "# the functions will unpack the tuple. The same names variable names\n",
    "# are used in the function\n",
    "kwargs = (df, fig, ax, max_y, linewidth, write_dates)\n",
    "frames = dates\n",
    "anim = FuncAnimation(fig, plot_curves, frames = frames, \n",
    "                     blit = False, init_func = init, interval=100, \n",
    "                     fargs =kwargs)\n",
    "# Use the next line to save the video as an MP4.\n",
    "anim.save(\"2020CrisisYieldCurve.mp4\", writer = \"ffmpeg\")\n",
    "plt.close()"
   ]
  },
  {
   "cell_type": "code",
   "execution_count": null,
   "metadata": {},
   "outputs": [
    {
     "name": "stderr",
     "output_type": "stream",
     "text": [
      "<ipython-input-10-e7d6dbf24ca9>:32: UserWarning: FixedFormatter should only be used together with FixedLocator\n",
      "  ax.set_yticklabels([round(y,2) for y in vals])\n",
      "<ipython-input-10-e7d6dbf24ca9>:7: UserWarning: FixedFormatter should only be used together with FixedLocator\n",
      "  ax.set_yticklabels([round(y,2) for y in vals])\n"
     ]
    },
    {
     "name": "stdout",
     "output_type": "stream",
     "text": [
      "2007-09-14\n"
     ]
    },
    {
     "name": "stderr",
     "output_type": "stream",
     "text": [
      "<ipython-input-10-e7d6dbf24ca9>:7: UserWarning: FixedFormatter should only be used together with FixedLocator\n",
      "  ax.set_yticklabels([round(y,2) for y in vals])\n"
     ]
    },
    {
     "name": "stdout",
     "output_type": "stream",
     "text": [
      "2007-09-15\n"
     ]
    },
    {
     "name": "stderr",
     "output_type": "stream",
     "text": [
      "<ipython-input-10-e7d6dbf24ca9>:7: UserWarning: FixedFormatter should only be used together with FixedLocator\n",
      "  ax.set_yticklabels([round(y,2) for y in vals])\n"
     ]
    },
    {
     "name": "stdout",
     "output_type": "stream",
     "text": [
      "2007-09-16\n"
     ]
    },
    {
     "name": "stderr",
     "output_type": "stream",
     "text": [
      "<ipython-input-10-e7d6dbf24ca9>:7: UserWarning: FixedFormatter should only be used together with FixedLocator\n",
      "  ax.set_yticklabels([round(y,2) for y in vals])\n"
     ]
    },
    {
     "name": "stdout",
     "output_type": "stream",
     "text": [
      "2007-09-17\n"
     ]
    },
    {
     "name": "stderr",
     "output_type": "stream",
     "text": [
      "<ipython-input-10-e7d6dbf24ca9>:7: UserWarning: FixedFormatter should only be used together with FixedLocator\n",
      "  ax.set_yticklabels([round(y,2) for y in vals])\n"
     ]
    },
    {
     "name": "stdout",
     "output_type": "stream",
     "text": [
      "2007-09-18\n"
     ]
    },
    {
     "name": "stderr",
     "output_type": "stream",
     "text": [
      "<ipython-input-10-e7d6dbf24ca9>:7: UserWarning: FixedFormatter should only be used together with FixedLocator\n",
      "  ax.set_yticklabels([round(y,2) for y in vals])\n"
     ]
    },
    {
     "name": "stdout",
     "output_type": "stream",
     "text": [
      "2007-09-19\n"
     ]
    },
    {
     "name": "stderr",
     "output_type": "stream",
     "text": [
      "<ipython-input-10-e7d6dbf24ca9>:7: UserWarning: FixedFormatter should only be used together with FixedLocator\n",
      "  ax.set_yticklabels([round(y,2) for y in vals])\n"
     ]
    },
    {
     "name": "stdout",
     "output_type": "stream",
     "text": [
      "2007-09-20\n"
     ]
    },
    {
     "name": "stderr",
     "output_type": "stream",
     "text": [
      "<ipython-input-10-e7d6dbf24ca9>:7: UserWarning: FixedFormatter should only be used together with FixedLocator\n",
      "  ax.set_yticklabels([round(y,2) for y in vals])\n"
     ]
    },
    {
     "name": "stdout",
     "output_type": "stream",
     "text": [
      "2007-09-21\n"
     ]
    },
    {
     "name": "stderr",
     "output_type": "stream",
     "text": [
      "<ipython-input-10-e7d6dbf24ca9>:7: UserWarning: FixedFormatter should only be used together with FixedLocator\n",
      "  ax.set_yticklabels([round(y,2) for y in vals])\n"
     ]
    },
    {
     "name": "stdout",
     "output_type": "stream",
     "text": [
      "2007-09-22\n"
     ]
    },
    {
     "name": "stderr",
     "output_type": "stream",
     "text": [
      "<ipython-input-10-e7d6dbf24ca9>:7: UserWarning: FixedFormatter should only be used together with FixedLocator\n",
      "  ax.set_yticklabels([round(y,2) for y in vals])\n"
     ]
    },
    {
     "name": "stdout",
     "output_type": "stream",
     "text": [
      "2007-09-23\n"
     ]
    },
    {
     "name": "stderr",
     "output_type": "stream",
     "text": [
      "posx and posy should be finite values\n",
      "posx and posy should be finite values\n",
      "<ipython-input-10-e7d6dbf24ca9>:7: UserWarning: FixedFormatter should only be used together with FixedLocator\n",
      "  ax.set_yticklabels([round(y,2) for y in vals])\n"
     ]
    },
    {
     "name": "stdout",
     "output_type": "stream",
     "text": [
      "2007-09-24\n"
     ]
    },
    {
     "name": "stderr",
     "output_type": "stream",
     "text": [
      "posx and posy should be finite values\n",
      "posx and posy should be finite values\n",
      "<ipython-input-10-e7d6dbf24ca9>:7: UserWarning: FixedFormatter should only be used together with FixedLocator\n",
      "  ax.set_yticklabels([round(y,2) for y in vals])\n"
     ]
    },
    {
     "name": "stdout",
     "output_type": "stream",
     "text": [
      "2007-09-25\n"
     ]
    },
    {
     "name": "stderr",
     "output_type": "stream",
     "text": [
      "posx and posy should be finite values\n",
      "posx and posy should be finite values\n",
      "<ipython-input-10-e7d6dbf24ca9>:7: UserWarning: FixedFormatter should only be used together with FixedLocator\n",
      "  ax.set_yticklabels([round(y,2) for y in vals])\n"
     ]
    },
    {
     "name": "stdout",
     "output_type": "stream",
     "text": [
      "2007-09-26\n"
     ]
    },
    {
     "name": "stderr",
     "output_type": "stream",
     "text": [
      "posx and posy should be finite values\n",
      "posx and posy should be finite values\n",
      "<ipython-input-10-e7d6dbf24ca9>:7: UserWarning: FixedFormatter should only be used together with FixedLocator\n",
      "  ax.set_yticklabels([round(y,2) for y in vals])\n"
     ]
    },
    {
     "name": "stdout",
     "output_type": "stream",
     "text": [
      "2007-09-27\n"
     ]
    },
    {
     "name": "stderr",
     "output_type": "stream",
     "text": [
      "posx and posy should be finite values\n",
      "posx and posy should be finite values\n",
      "<ipython-input-10-e7d6dbf24ca9>:7: UserWarning: FixedFormatter should only be used together with FixedLocator\n",
      "  ax.set_yticklabels([round(y,2) for y in vals])\n"
     ]
    },
    {
     "name": "stdout",
     "output_type": "stream",
     "text": [
      "2007-09-28\n"
     ]
    },
    {
     "name": "stderr",
     "output_type": "stream",
     "text": [
      "posx and posy should be finite values\n",
      "posx and posy should be finite values\n",
      "<ipython-input-10-e7d6dbf24ca9>:7: UserWarning: FixedFormatter should only be used together with FixedLocator\n",
      "  ax.set_yticklabels([round(y,2) for y in vals])\n"
     ]
    },
    {
     "name": "stdout",
     "output_type": "stream",
     "text": [
      "2007-09-29\n"
     ]
    },
    {
     "name": "stderr",
     "output_type": "stream",
     "text": [
      "posx and posy should be finite values\n",
      "posx and posy should be finite values\n",
      "<ipython-input-10-e7d6dbf24ca9>:7: UserWarning: FixedFormatter should only be used together with FixedLocator\n",
      "  ax.set_yticklabels([round(y,2) for y in vals])\n"
     ]
    },
    {
     "name": "stdout",
     "output_type": "stream",
     "text": [
      "2007-09-30\n"
     ]
    },
    {
     "name": "stderr",
     "output_type": "stream",
     "text": [
      "posx and posy should be finite values\n",
      "posx and posy should be finite values\n",
      "<ipython-input-10-e7d6dbf24ca9>:7: UserWarning: FixedFormatter should only be used together with FixedLocator\n",
      "  ax.set_yticklabels([round(y,2) for y in vals])\n"
     ]
    },
    {
     "name": "stdout",
     "output_type": "stream",
     "text": [
      "2007-10-01\n"
     ]
    },
    {
     "name": "stderr",
     "output_type": "stream",
     "text": [
      "posx and posy should be finite values\n",
      "posx and posy should be finite values\n",
      "<ipython-input-10-e7d6dbf24ca9>:7: UserWarning: FixedFormatter should only be used together with FixedLocator\n",
      "  ax.set_yticklabels([round(y,2) for y in vals])\n"
     ]
    },
    {
     "name": "stdout",
     "output_type": "stream",
     "text": [
      "2007-10-02\n"
     ]
    },
    {
     "name": "stderr",
     "output_type": "stream",
     "text": [
      "posx and posy should be finite values\n",
      "posx and posy should be finite values\n",
      "<ipython-input-10-e7d6dbf24ca9>:7: UserWarning: FixedFormatter should only be used together with FixedLocator\n",
      "  ax.set_yticklabels([round(y,2) for y in vals])\n"
     ]
    },
    {
     "name": "stdout",
     "output_type": "stream",
     "text": [
      "2007-10-03\n"
     ]
    },
    {
     "name": "stderr",
     "output_type": "stream",
     "text": [
      "posx and posy should be finite values\n",
      "posx and posy should be finite values\n",
      "<ipython-input-10-e7d6dbf24ca9>:7: UserWarning: FixedFormatter should only be used together with FixedLocator\n",
      "  ax.set_yticklabels([round(y,2) for y in vals])\n"
     ]
    },
    {
     "name": "stdout",
     "output_type": "stream",
     "text": [
      "2007-10-04\n"
     ]
    },
    {
     "name": "stderr",
     "output_type": "stream",
     "text": [
      "posx and posy should be finite values\n",
      "posx and posy should be finite values\n",
      "<ipython-input-10-e7d6dbf24ca9>:7: UserWarning: FixedFormatter should only be used together with FixedLocator\n",
      "  ax.set_yticklabels([round(y,2) for y in vals])\n"
     ]
    },
    {
     "name": "stdout",
     "output_type": "stream",
     "text": [
      "2007-10-05\n"
     ]
    },
    {
     "name": "stderr",
     "output_type": "stream",
     "text": [
      "posx and posy should be finite values\n",
      "posx and posy should be finite values\n",
      "<ipython-input-10-e7d6dbf24ca9>:7: UserWarning: FixedFormatter should only be used together with FixedLocator\n",
      "  ax.set_yticklabels([round(y,2) for y in vals])\n"
     ]
    },
    {
     "name": "stdout",
     "output_type": "stream",
     "text": [
      "2007-10-06\n"
     ]
    },
    {
     "name": "stderr",
     "output_type": "stream",
     "text": [
      "posx and posy should be finite values\n",
      "posx and posy should be finite values\n",
      "<ipython-input-10-e7d6dbf24ca9>:7: UserWarning: FixedFormatter should only be used together with FixedLocator\n",
      "  ax.set_yticklabels([round(y,2) for y in vals])\n"
     ]
    },
    {
     "name": "stdout",
     "output_type": "stream",
     "text": [
      "2007-10-07\n"
     ]
    },
    {
     "name": "stderr",
     "output_type": "stream",
     "text": [
      "posx and posy should be finite values\n",
      "posx and posy should be finite values\n",
      "<ipython-input-10-e7d6dbf24ca9>:7: UserWarning: FixedFormatter should only be used together with FixedLocator\n",
      "  ax.set_yticklabels([round(y,2) for y in vals])\n"
     ]
    },
    {
     "name": "stdout",
     "output_type": "stream",
     "text": [
      "2007-10-08\n"
     ]
    },
    {
     "name": "stderr",
     "output_type": "stream",
     "text": [
      "posx and posy should be finite values\n",
      "posx and posy should be finite values\n",
      "<ipython-input-10-e7d6dbf24ca9>:7: UserWarning: FixedFormatter should only be used together with FixedLocator\n",
      "  ax.set_yticklabels([round(y,2) for y in vals])\n"
     ]
    },
    {
     "name": "stdout",
     "output_type": "stream",
     "text": [
      "2007-10-09\n"
     ]
    },
    {
     "name": "stderr",
     "output_type": "stream",
     "text": [
      "posx and posy should be finite values\n",
      "posx and posy should be finite values\n",
      "<ipython-input-10-e7d6dbf24ca9>:7: UserWarning: FixedFormatter should only be used together with FixedLocator\n",
      "  ax.set_yticklabels([round(y,2) for y in vals])\n"
     ]
    },
    {
     "name": "stdout",
     "output_type": "stream",
     "text": [
      "2007-10-10\n"
     ]
    },
    {
     "name": "stderr",
     "output_type": "stream",
     "text": [
      "posx and posy should be finite values\n",
      "posx and posy should be finite values\n",
      "<ipython-input-10-e7d6dbf24ca9>:7: UserWarning: FixedFormatter should only be used together with FixedLocator\n",
      "  ax.set_yticklabels([round(y,2) for y in vals])\n"
     ]
    },
    {
     "name": "stdout",
     "output_type": "stream",
     "text": [
      "2007-10-11\n"
     ]
    },
    {
     "name": "stderr",
     "output_type": "stream",
     "text": [
      "posx and posy should be finite values\n",
      "posx and posy should be finite values\n",
      "<ipython-input-10-e7d6dbf24ca9>:7: UserWarning: FixedFormatter should only be used together with FixedLocator\n",
      "  ax.set_yticklabels([round(y,2) for y in vals])\n"
     ]
    },
    {
     "name": "stdout",
     "output_type": "stream",
     "text": [
      "2007-10-12\n"
     ]
    },
    {
     "name": "stderr",
     "output_type": "stream",
     "text": [
      "posx and posy should be finite values\n",
      "posx and posy should be finite values\n",
      "<ipython-input-10-e7d6dbf24ca9>:7: UserWarning: FixedFormatter should only be used together with FixedLocator\n",
      "  ax.set_yticklabels([round(y,2) for y in vals])\n"
     ]
    },
    {
     "name": "stdout",
     "output_type": "stream",
     "text": [
      "2007-10-13\n"
     ]
    },
    {
     "name": "stderr",
     "output_type": "stream",
     "text": [
      "posx and posy should be finite values\n",
      "posx and posy should be finite values\n",
      "posx and posy should be finite values\n",
      "posx and posy should be finite values\n",
      "<ipython-input-10-e7d6dbf24ca9>:7: UserWarning: FixedFormatter should only be used together with FixedLocator\n",
      "  ax.set_yticklabels([round(y,2) for y in vals])\n"
     ]
    },
    {
     "name": "stdout",
     "output_type": "stream",
     "text": [
      "2007-10-14\n"
     ]
    },
    {
     "name": "stderr",
     "output_type": "stream",
     "text": [
      "posx and posy should be finite values\n",
      "posx and posy should be finite values\n",
      "posx and posy should be finite values\n",
      "posx and posy should be finite values\n",
      "<ipython-input-10-e7d6dbf24ca9>:7: UserWarning: FixedFormatter should only be used together with FixedLocator\n",
      "  ax.set_yticklabels([round(y,2) for y in vals])\n"
     ]
    },
    {
     "name": "stdout",
     "output_type": "stream",
     "text": [
      "2007-10-15\n"
     ]
    },
    {
     "name": "stderr",
     "output_type": "stream",
     "text": [
      "posx and posy should be finite values\n",
      "posx and posy should be finite values\n",
      "posx and posy should be finite values\n",
      "posx and posy should be finite values\n",
      "<ipython-input-10-e7d6dbf24ca9>:7: UserWarning: FixedFormatter should only be used together with FixedLocator\n",
      "  ax.set_yticklabels([round(y,2) for y in vals])\n"
     ]
    },
    {
     "name": "stdout",
     "output_type": "stream",
     "text": [
      "2007-10-16\n"
     ]
    },
    {
     "name": "stderr",
     "output_type": "stream",
     "text": [
      "posx and posy should be finite values\n",
      "posx and posy should be finite values\n",
      "posx and posy should be finite values\n",
      "posx and posy should be finite values\n",
      "<ipython-input-10-e7d6dbf24ca9>:7: UserWarning: FixedFormatter should only be used together with FixedLocator\n",
      "  ax.set_yticklabels([round(y,2) for y in vals])\n"
     ]
    },
    {
     "name": "stdout",
     "output_type": "stream",
     "text": [
      "2007-10-17\n"
     ]
    },
    {
     "name": "stderr",
     "output_type": "stream",
     "text": [
      "posx and posy should be finite values\n",
      "posx and posy should be finite values\n",
      "posx and posy should be finite values\n",
      "posx and posy should be finite values\n",
      "<ipython-input-10-e7d6dbf24ca9>:7: UserWarning: FixedFormatter should only be used together with FixedLocator\n",
      "  ax.set_yticklabels([round(y,2) for y in vals])\n"
     ]
    },
    {
     "name": "stdout",
     "output_type": "stream",
     "text": [
      "2007-10-18\n"
     ]
    },
    {
     "name": "stderr",
     "output_type": "stream",
     "text": [
      "posx and posy should be finite values\n",
      "posx and posy should be finite values\n",
      "posx and posy should be finite values\n",
      "posx and posy should be finite values\n",
      "<ipython-input-10-e7d6dbf24ca9>:7: UserWarning: FixedFormatter should only be used together with FixedLocator\n",
      "  ax.set_yticklabels([round(y,2) for y in vals])\n"
     ]
    },
    {
     "name": "stdout",
     "output_type": "stream",
     "text": [
      "2007-10-19\n"
     ]
    },
    {
     "name": "stderr",
     "output_type": "stream",
     "text": [
      "posx and posy should be finite values\n",
      "posx and posy should be finite values\n",
      "posx and posy should be finite values\n",
      "posx and posy should be finite values\n",
      "<ipython-input-10-e7d6dbf24ca9>:7: UserWarning: FixedFormatter should only be used together with FixedLocator\n",
      "  ax.set_yticklabels([round(y,2) for y in vals])\n"
     ]
    },
    {
     "name": "stdout",
     "output_type": "stream",
     "text": [
      "2007-10-20\n"
     ]
    },
    {
     "name": "stderr",
     "output_type": "stream",
     "text": [
      "posx and posy should be finite values\n",
      "posx and posy should be finite values\n",
      "posx and posy should be finite values\n",
      "posx and posy should be finite values\n",
      "<ipython-input-10-e7d6dbf24ca9>:7: UserWarning: FixedFormatter should only be used together with FixedLocator\n",
      "  ax.set_yticklabels([round(y,2) for y in vals])\n"
     ]
    },
    {
     "name": "stdout",
     "output_type": "stream",
     "text": [
      "2007-10-21\n"
     ]
    },
    {
     "name": "stderr",
     "output_type": "stream",
     "text": [
      "posx and posy should be finite values\n",
      "posx and posy should be finite values\n",
      "posx and posy should be finite values\n",
      "posx and posy should be finite values\n",
      "<ipython-input-10-e7d6dbf24ca9>:7: UserWarning: FixedFormatter should only be used together with FixedLocator\n",
      "  ax.set_yticklabels([round(y,2) for y in vals])\n"
     ]
    },
    {
     "name": "stdout",
     "output_type": "stream",
     "text": [
      "2007-10-22\n"
     ]
    },
    {
     "name": "stderr",
     "output_type": "stream",
     "text": [
      "posx and posy should be finite values\n",
      "posx and posy should be finite values\n",
      "posx and posy should be finite values\n",
      "posx and posy should be finite values\n",
      "<ipython-input-10-e7d6dbf24ca9>:7: UserWarning: FixedFormatter should only be used together with FixedLocator\n",
      "  ax.set_yticklabels([round(y,2) for y in vals])\n"
     ]
    },
    {
     "name": "stdout",
     "output_type": "stream",
     "text": [
      "2007-10-23\n"
     ]
    },
    {
     "name": "stderr",
     "output_type": "stream",
     "text": [
      "posx and posy should be finite values\n",
      "posx and posy should be finite values\n",
      "posx and posy should be finite values\n",
      "posx and posy should be finite values\n",
      "<ipython-input-10-e7d6dbf24ca9>:7: UserWarning: FixedFormatter should only be used together with FixedLocator\n",
      "  ax.set_yticklabels([round(y,2) for y in vals])\n"
     ]
    },
    {
     "name": "stdout",
     "output_type": "stream",
     "text": [
      "2007-10-24\n"
     ]
    },
    {
     "name": "stderr",
     "output_type": "stream",
     "text": [
      "posx and posy should be finite values\n",
      "posx and posy should be finite values\n",
      "posx and posy should be finite values\n",
      "posx and posy should be finite values\n",
      "<ipython-input-10-e7d6dbf24ca9>:7: UserWarning: FixedFormatter should only be used together with FixedLocator\n",
      "  ax.set_yticklabels([round(y,2) for y in vals])\n"
     ]
    },
    {
     "name": "stdout",
     "output_type": "stream",
     "text": [
      "2007-10-25\n"
     ]
    },
    {
     "name": "stderr",
     "output_type": "stream",
     "text": [
      "posx and posy should be finite values\n",
      "posx and posy should be finite values\n",
      "posx and posy should be finite values\n",
      "posx and posy should be finite values\n",
      "<ipython-input-10-e7d6dbf24ca9>:7: UserWarning: FixedFormatter should only be used together with FixedLocator\n",
      "  ax.set_yticklabels([round(y,2) for y in vals])\n"
     ]
    },
    {
     "name": "stdout",
     "output_type": "stream",
     "text": [
      "2007-10-26\n"
     ]
    },
    {
     "name": "stderr",
     "output_type": "stream",
     "text": [
      "posx and posy should be finite values\n",
      "posx and posy should be finite values\n",
      "posx and posy should be finite values\n",
      "posx and posy should be finite values\n",
      "<ipython-input-10-e7d6dbf24ca9>:7: UserWarning: FixedFormatter should only be used together with FixedLocator\n",
      "  ax.set_yticklabels([round(y,2) for y in vals])\n"
     ]
    },
    {
     "name": "stdout",
     "output_type": "stream",
     "text": [
      "2007-10-27\n"
     ]
    },
    {
     "name": "stderr",
     "output_type": "stream",
     "text": [
      "posx and posy should be finite values\n",
      "posx and posy should be finite values\n",
      "posx and posy should be finite values\n",
      "posx and posy should be finite values\n",
      "<ipython-input-10-e7d6dbf24ca9>:7: UserWarning: FixedFormatter should only be used together with FixedLocator\n",
      "  ax.set_yticklabels([round(y,2) for y in vals])\n"
     ]
    },
    {
     "name": "stdout",
     "output_type": "stream",
     "text": [
      "2007-10-28\n"
     ]
    },
    {
     "name": "stderr",
     "output_type": "stream",
     "text": [
      "posx and posy should be finite values\n",
      "posx and posy should be finite values\n",
      "posx and posy should be finite values\n",
      "posx and posy should be finite values\n",
      "<ipython-input-10-e7d6dbf24ca9>:7: UserWarning: FixedFormatter should only be used together with FixedLocator\n",
      "  ax.set_yticklabels([round(y,2) for y in vals])\n"
     ]
    },
    {
     "name": "stdout",
     "output_type": "stream",
     "text": [
      "2007-10-29\n"
     ]
    },
    {
     "name": "stderr",
     "output_type": "stream",
     "text": [
      "posx and posy should be finite values\n",
      "posx and posy should be finite values\n",
      "posx and posy should be finite values\n",
      "posx and posy should be finite values\n",
      "<ipython-input-10-e7d6dbf24ca9>:7: UserWarning: FixedFormatter should only be used together with FixedLocator\n",
      "  ax.set_yticklabels([round(y,2) for y in vals])\n"
     ]
    },
    {
     "name": "stdout",
     "output_type": "stream",
     "text": [
      "2007-10-30\n"
     ]
    },
    {
     "name": "stderr",
     "output_type": "stream",
     "text": [
      "posx and posy should be finite values\n",
      "posx and posy should be finite values\n",
      "posx and posy should be finite values\n",
      "posx and posy should be finite values\n",
      "<ipython-input-10-e7d6dbf24ca9>:7: UserWarning: FixedFormatter should only be used together with FixedLocator\n",
      "  ax.set_yticklabels([round(y,2) for y in vals])\n"
     ]
    },
    {
     "name": "stdout",
     "output_type": "stream",
     "text": [
      "2007-10-31\n"
     ]
    },
    {
     "name": "stderr",
     "output_type": "stream",
     "text": [
      "posx and posy should be finite values\n",
      "posx and posy should be finite values\n",
      "posx and posy should be finite values\n",
      "posx and posy should be finite values\n",
      "<ipython-input-10-e7d6dbf24ca9>:7: UserWarning: FixedFormatter should only be used together with FixedLocator\n",
      "  ax.set_yticklabels([round(y,2) for y in vals])\n"
     ]
    },
    {
     "name": "stdout",
     "output_type": "stream",
     "text": [
      "2007-11-01\n"
     ]
    },
    {
     "name": "stderr",
     "output_type": "stream",
     "text": [
      "posx and posy should be finite values\n",
      "posx and posy should be finite values\n",
      "posx and posy should be finite values\n",
      "posx and posy should be finite values\n",
      "<ipython-input-10-e7d6dbf24ca9>:7: UserWarning: FixedFormatter should only be used together with FixedLocator\n",
      "  ax.set_yticklabels([round(y,2) for y in vals])\n"
     ]
    },
    {
     "name": "stdout",
     "output_type": "stream",
     "text": [
      "2007-11-02\n"
     ]
    },
    {
     "name": "stderr",
     "output_type": "stream",
     "text": [
      "posx and posy should be finite values\n",
      "posx and posy should be finite values\n",
      "posx and posy should be finite values\n",
      "posx and posy should be finite values\n",
      "<ipython-input-10-e7d6dbf24ca9>:7: UserWarning: FixedFormatter should only be used together with FixedLocator\n",
      "  ax.set_yticklabels([round(y,2) for y in vals])\n"
     ]
    },
    {
     "name": "stdout",
     "output_type": "stream",
     "text": [
      "2007-11-03\n"
     ]
    },
    {
     "name": "stderr",
     "output_type": "stream",
     "text": [
      "posx and posy should be finite values\n",
      "posx and posy should be finite values\n",
      "posx and posy should be finite values\n",
      "posx and posy should be finite values\n",
      "<ipython-input-10-e7d6dbf24ca9>:7: UserWarning: FixedFormatter should only be used together with FixedLocator\n",
      "  ax.set_yticklabels([round(y,2) for y in vals])\n"
     ]
    },
    {
     "name": "stdout",
     "output_type": "stream",
     "text": [
      "2007-11-04\n"
     ]
    },
    {
     "name": "stderr",
     "output_type": "stream",
     "text": [
      "posx and posy should be finite values\n",
      "posx and posy should be finite values\n",
      "posx and posy should be finite values\n",
      "posx and posy should be finite values\n",
      "<ipython-input-10-e7d6dbf24ca9>:7: UserWarning: FixedFormatter should only be used together with FixedLocator\n",
      "  ax.set_yticklabels([round(y,2) for y in vals])\n"
     ]
    },
    {
     "name": "stdout",
     "output_type": "stream",
     "text": [
      "2007-11-05\n"
     ]
    },
    {
     "name": "stderr",
     "output_type": "stream",
     "text": [
      "posx and posy should be finite values\n",
      "posx and posy should be finite values\n",
      "posx and posy should be finite values\n",
      "posx and posy should be finite values\n",
      "<ipython-input-10-e7d6dbf24ca9>:7: UserWarning: FixedFormatter should only be used together with FixedLocator\n",
      "  ax.set_yticklabels([round(y,2) for y in vals])\n"
     ]
    },
    {
     "name": "stdout",
     "output_type": "stream",
     "text": [
      "2007-11-06\n"
     ]
    },
    {
     "name": "stderr",
     "output_type": "stream",
     "text": [
      "posx and posy should be finite values\n",
      "posx and posy should be finite values\n",
      "posx and posy should be finite values\n",
      "posx and posy should be finite values\n",
      "<ipython-input-10-e7d6dbf24ca9>:7: UserWarning: FixedFormatter should only be used together with FixedLocator\n",
      "  ax.set_yticklabels([round(y,2) for y in vals])\n"
     ]
    },
    {
     "name": "stdout",
     "output_type": "stream",
     "text": [
      "2007-11-07\n"
     ]
    },
    {
     "name": "stderr",
     "output_type": "stream",
     "text": [
      "posx and posy should be finite values\n",
      "posx and posy should be finite values\n",
      "posx and posy should be finite values\n",
      "posx and posy should be finite values\n",
      "<ipython-input-10-e7d6dbf24ca9>:7: UserWarning: FixedFormatter should only be used together with FixedLocator\n",
      "  ax.set_yticklabels([round(y,2) for y in vals])\n"
     ]
    },
    {
     "name": "stdout",
     "output_type": "stream",
     "text": [
      "2007-11-08\n"
     ]
    },
    {
     "name": "stderr",
     "output_type": "stream",
     "text": [
      "posx and posy should be finite values\n",
      "posx and posy should be finite values\n",
      "posx and posy should be finite values\n",
      "posx and posy should be finite values\n",
      "<ipython-input-10-e7d6dbf24ca9>:7: UserWarning: FixedFormatter should only be used together with FixedLocator\n",
      "  ax.set_yticklabels([round(y,2) for y in vals])\n"
     ]
    },
    {
     "name": "stdout",
     "output_type": "stream",
     "text": [
      "2007-11-09\n"
     ]
    },
    {
     "name": "stderr",
     "output_type": "stream",
     "text": [
      "posx and posy should be finite values\n",
      "posx and posy should be finite values\n",
      "posx and posy should be finite values\n",
      "posx and posy should be finite values\n",
      "<ipython-input-10-e7d6dbf24ca9>:7: UserWarning: FixedFormatter should only be used together with FixedLocator\n",
      "  ax.set_yticklabels([round(y,2) for y in vals])\n"
     ]
    },
    {
     "name": "stdout",
     "output_type": "stream",
     "text": [
      "2007-11-10\n"
     ]
    },
    {
     "name": "stderr",
     "output_type": "stream",
     "text": [
      "posx and posy should be finite values\n",
      "posx and posy should be finite values\n",
      "posx and posy should be finite values\n",
      "posx and posy should be finite values\n",
      "<ipython-input-10-e7d6dbf24ca9>:7: UserWarning: FixedFormatter should only be used together with FixedLocator\n",
      "  ax.set_yticklabels([round(y,2) for y in vals])\n"
     ]
    },
    {
     "name": "stdout",
     "output_type": "stream",
     "text": [
      "2007-11-11\n"
     ]
    },
    {
     "name": "stderr",
     "output_type": "stream",
     "text": [
      "posx and posy should be finite values\n",
      "posx and posy should be finite values\n",
      "posx and posy should be finite values\n",
      "posx and posy should be finite values\n",
      "<ipython-input-10-e7d6dbf24ca9>:7: UserWarning: FixedFormatter should only be used together with FixedLocator\n",
      "  ax.set_yticklabels([round(y,2) for y in vals])\n"
     ]
    },
    {
     "name": "stdout",
     "output_type": "stream",
     "text": [
      "2007-11-12\n"
     ]
    },
    {
     "name": "stderr",
     "output_type": "stream",
     "text": [
      "posx and posy should be finite values\n",
      "posx and posy should be finite values\n",
      "posx and posy should be finite values\n",
      "posx and posy should be finite values\n",
      "<ipython-input-10-e7d6dbf24ca9>:7: UserWarning: FixedFormatter should only be used together with FixedLocator\n",
      "  ax.set_yticklabels([round(y,2) for y in vals])\n"
     ]
    }
   ],
   "source": [
    "dates = list(T_data.keys())[620:770]\n",
    "write_dates = dates[-1:0:-20]\n",
    "df = T_data[dates].drop(\"30 Y - 1 M\", axis = 0)\n",
    "max_y = df.max().max()\n",
    "fig, ax = plt.subplots(figsize=(40,20))   \n",
    "plt.rcParams.update({\"font.size\": 30})\n",
    "linewidth = 5\n",
    "# the functions will unpack the tuple. The same names variable names\n",
    "# are used in the function\n",
    "kwargs = (df, fig, ax, max_y, linewidth, write_dates)\n",
    "frames = dates\n",
    "anim = FuncAnimation(fig, plot_curves, frames = frames, \n",
    "                     blit = False, init_func = init, interval=100, \n",
    "                     fargs =kwargs)\n",
    "# Use the next line to save the video as an MP4.\n",
    "anim.save(\"2008CrisisYieldCurve.mp4\", writer = \"ffmpeg\")\n",
    "plt.close()"
   ]
  }
 ],
 "metadata": {
  "kernelspec": {
   "display_name": "Python 3 (ipykernel)",
   "language": "python",
   "name": "python3"
  },
  "language_info": {
   "codemirror_mode": {
    "name": "ipython",
    "version": 3
   },
   "file_extension": ".py",
   "mimetype": "text/x-python",
   "name": "python",
   "nbconvert_exporter": "python",
   "pygments_lexer": "ipython3",
   "version": "3.9.13"
  }
 },
 "nbformat": 4,
 "nbformat_minor": 4
}
