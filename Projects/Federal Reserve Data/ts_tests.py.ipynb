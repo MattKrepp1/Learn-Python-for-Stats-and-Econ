{
 "cells": [
  {
   "cell_type": "code",
   "execution_count": null,
   "id": "69675065",
   "metadata": {},
   "outputs": [],
   "source": [
    "from statsmodels.tsa.vector_ar.vecm import coint_johansen\n",
    "from statsmodels.tsa.stattools import adfuller\n",
    "from statsmodels.tsa.api import VAR\n",
    "import statsmodels.api as sm\n",
    "import copy\n",
    "import pingouin\n",
    "from scipy.stats import pearsonr\n",
    "p_val = .05\n",
    "\n",
    "\n",
    "\n",
    "def adfuller_df(df, maxlag = year, regression = \"c\"):\n",
    "    dct = {}\n",
    "    for key, val in df.items():\n",
    "        dct[key] = adfuller(val, maxlag=maxlag, autolag = \"aic\", regression = regression)[1]#.pvalue\n",
    "#         for lag in  range(1, max_lag + 1):\n",
    "#             df[key + \"Lag\" +str(lag)] = df[key].shift(lag * year) \n",
    "#         Y = df[[key]]\n",
    "#         X = df.drop(key)\n",
    "#         if  \"c\" in regression:\n",
    "#             X[\"Constant\"] = 1\n",
    "#         dct[key] = sm.OLS(Y,X)\n",
    "    return dct\n",
    "\n",
    "def cointegration_df(df):\n",
    "    dct = {}\n",
    "    for key1 in df:\n",
    "        dct[key1] = {}\n",
    "        for key2 in df:\n",
    "            if key1 == key2:\n",
    "                dct[key1][key2] = np.nan\n",
    "            else:\n",
    "                dct[key1][key2] = coint_johansen(df[[key1,key2]], det_order=0, k_ar_diff=1).lr1\n",
    "    return pd.DataFrame(dct)\n"
   ]
  }
 ],
 "metadata": {
  "kernelspec": {
   "display_name": "Python 3",
   "language": "python",
   "name": "python3"
  },
  "language_info": {
   "codemirror_mode": {
    "name": "ipython",
    "version": 3
   },
   "file_extension": ".py",
   "mimetype": "text/x-python",
   "name": "python",
   "nbconvert_exporter": "python",
   "pygments_lexer": "ipython3",
   "version": "3.8.8"
  }
 },
 "nbformat": 4,
 "nbformat_minor": 5
}
