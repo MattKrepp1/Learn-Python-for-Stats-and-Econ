{
 "cells": [
  {
   "cell_type": "markdown",
   "metadata": {},
   "source": [
    "# Visualizing COVID-19 Data in Python\n",
    "## Part I: Downloading and Organizing Data\n",
    "\n",
    "From casual observation, I surmise that the widespread stay-at-home orders initiated in March 2020 have left data scientists with a bit of extra time. With each passing day, I find new sources for COVID-19 data and data visualizations. I have written before about the [proper](https://www.ndsu.edu/centers/pcpe/news/detail/58432/) and [improper](https://www.aier.org/article/visualizations-are-powerful-but-often-misleading/) uses of data. In this post, my purpose is pedagogical. I intend to teach the reader how to download and organize COVID-19 data and how to honestly and meaningfully visualize this data.\n",
    "\n",
    "First, a confession. I am a self-taught programmer. Like many of us, much of what I write can be described as _spaghetti code_, at least initially. I don't thoroughly plan a program before I write it. I roll up my sleeves and get to coding. This has its benefits. And, since I'm not writing my code for commercial use, I am able to efficiently produce results. \n",
    "\n",
    "One benefit of building code on the fly is that you may not know at the start of a project what sorts of qualities will be useful to include. Spaghetti code can be repurposed, usually by creating a new copy of the script and making some marginal adjustments. However, the more spaghetti code you write, the greater the difficulty of maintaining quality output. \n",
    "\n",
    "When I find myself returning time and again to a particular template, I eventually consolidate the scripts that I have developed so as to minimize costs of editing code by allowing one script to produce a variety of outputs. The script in this example that is the product of precisely this process of development and revision.\n",
    "\n",
    "\n",
    "### Downloading the COVID-19 Data\n",
    "\n",
    "We will use two datasets. First, we will import a shapefile to use with _geopandas_, which we will later use to generate a county level map that tracks COVID-19. the shapefile is provide for you in the Github folder housing this post."
   ]
  }
 ],
 "metadata": {
  "kernelspec": {
   "display_name": "Python 3",
   "language": "python",
   "name": "python3"
  },
  "language_info": {
   "codemirror_mode": {
    "name": "ipython",
    "version": 3
   },
   "file_extension": ".py",
   "mimetype": "text/x-python",
   "name": "python",
   "nbconvert_exporter": "python",
   "pygments_lexer": "ipython3",
   "version": "3.7.3"
  }
 },
 "nbformat": 4,
 "nbformat_minor": 2
}
