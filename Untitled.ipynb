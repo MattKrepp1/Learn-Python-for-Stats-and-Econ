{
 "cells": [
  {
   "cell_type": "code",
   "execution_count": 14,
   "metadata": {},
   "outputs": [
    {
     "name": "stdout",
     "output_type": "stream",
     "text": [
      "[518, 719, 245, 841, 345, 348, 268, 114, 665, 31]\n",
      "num: 518\n",
      "min_val: 518\n",
      "max_val: 518\n",
      "num: 719\n",
      "min_val: 518\n",
      "max_val: 719\n",
      "num: 245\n",
      "min_val: 245\n",
      "max_val: 719\n",
      "num: 841\n",
      "min_val: 245\n",
      "max_val: 841\n",
      "num: 345\n",
      "min_val: 245\n",
      "max_val: 841\n",
      "num: 348\n",
      "min_val: 245\n",
      "max_val: 841\n",
      "num: 268\n",
      "min_val: 245\n",
      "max_val: 841\n",
      "num: 114\n",
      "min_val: 114\n",
      "max_val: 841\n",
      "num: 665\n",
      "min_val: 114\n",
      "max_val: 841\n",
      "num: 31\n",
      "min_val: 31\n",
      "max_val: 841\n",
      "final min_val: 31\n",
      "final max_val: 841\n",
      "min_count: 4\n",
      "max_count: 3\n"
     ]
    }
   ],
   "source": [
    "import random\n",
    "nums = [random.randint(0,1000) for i in range(10)]\n",
    "\n",
    "\n",
    "min_count = 0\n",
    "max_count = 0\n",
    "min_val = float(\"inf\")\n",
    "max_val = float(\"-inf\")\n",
    "print(nums)\n",
    "for num in nums:\n",
    "    if num < min_val:\n",
    "        min_val = num\n",
    "        min_count += 1\n",
    "    if num > max_val:\n",
    "        max_val = num\n",
    "        max_count += 1\n",
    "    print(\"num:\", num)\n",
    "    print(\"min_val:\", min_val)\n",
    "    print(\"max_val:\", max_val)\n",
    "print(\"final min_val:\", min_val)\n",
    "print(\"final max_val:\", max_val)\n",
    "print(\"min_count:\", min_count)\n",
    "print(\"max_count:\", max_count)\n",
    "\n",
    "\n",
    "\n",
    "## what is the ratio of the minimum value and the maximum value\n",
    "## what is the ratio of the current minum to the current maximum at the end of each\n",
    "##     step in the for-loop\n",
    "## what if you had a dictionary of five lists? Can you make a dictionary\n",
    "#      that holds the min_val and max_val for each list (or you could use two dictionaries...)\n",
    "#  use the min_val and max_val dictionaries to calculate the min_val / max_val for each list\n",
    "dict_of_lists =  {}\n",
    "dict_of_mins = {}\n",
    "dict_of_maxs = {}\n",
    "for i in range(5):\n",
    "    dict_of_lists[i] = [random.randint(0,1000) for i in range(10)]\n",
    "    dct_of_mins[i] = float(\"inf\")\n",
    "    dct_of_maxs[i] = float(\"-inf\")\n",
    "\n",
    "for key, lst in dict_of_lists.items():\n",
    "    ###"
   ]
  }
 ],
 "metadata": {
  "kernelspec": {
   "display_name": "Python 3",
   "language": "python",
   "name": "python3"
  },
  "language_info": {
   "codemirror_mode": {
    "name": "ipython",
    "version": 3
   },
   "file_extension": ".py",
   "mimetype": "text/x-python",
   "name": "python",
   "nbconvert_exporter": "python",
   "pygments_lexer": "ipython3",
   "version": "3.7.6"
  }
 },
 "nbformat": 4,
 "nbformat_minor": 4
}
