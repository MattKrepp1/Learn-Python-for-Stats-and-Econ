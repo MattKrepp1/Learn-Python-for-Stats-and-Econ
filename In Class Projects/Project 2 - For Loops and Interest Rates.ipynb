{
 "cells": [
  {
   "cell_type": "markdown",
   "metadata": {},
   "source": [
    "# For Loops: Interest Rates\n",
    "\n",
    "There are two ways to solve problems: analytically and computationally. Most of us have been trained to solve problems analtyically. For example, when you solve a system of equations, you find the price point or points where the lines of interest intersect. Perhaps you are attepmting to solve for the quantity of production that will maximaize profits for a firm, so you set up a Lagangian. While analytic solutions are indispensable, it often makes sense to solve problems computationally. Sometimes, this means performing a series of operations that are prestated. For example, you can compound interest over $t$ periods instead of raising $(1+r)^t$. In essence, these result in the same thing, so this is the boring case. In the more interesting cases, computation allows us to *guess and check*. We could, for example, use computational methods to find which interest yields a particular future value by marginally increasing the interest rate when the future value is smaller than the target and decreasing the rate when it is larger than the target. Artificial intelligence uses this *guess and check* method (sometimes referred to as *brute force*). This method may be used in combination with the first method.\n",
    "\n",
    "In this lesson, we will introduce for loops to understand their role in developing computational solutions to problems.\n",
    "\n",
    "## For Loops\n",
    "\n",
    "First, we must develop our understanding of for loops. We can think of for loops as a means of counting."
   ]
  },
  {
   "cell_type": "code",
   "execution_count": null,
   "metadata": {},
   "outputs": [],
   "source": [
    "# count by ones\n",
    "\n",
    "# count by twos\n",
    "\n",
    "# count backward\n",
    "\n",
    "# make list using list(range()), cycle through list with for loop"
   ]
  },
  {
   "cell_type": "markdown",
   "metadata": {},
   "source": [
    "## Calculating Interest Earned\n",
    "\n",
    "The present value equation relates the interest rate with the value of principal to produce the present value after some number of periods:\n",
    "\n",
    "$FV = PV(1+r)^t$\n",
    "\n",
    "In this form, the interest rate, $r$, is given for a single period, with $t$ denoting the number of periods the principle is compounded by interest. \n",
    "\n",
    "We can use the given formula to solve for any variable. In this case, Python is just acting as a calculator. Let's solve for the interest rate given the values of the other variables."
   ]
  },
  {
   "cell_type": "code",
   "execution_count": null,
   "metadata": {},
   "outputs": [],
   "source": [
    "# define variables and calculate interest rate"
   ]
  },
  {
   "cell_type": "markdown",
   "metadata": {},
   "source": [
    "Alternately, we can calculate interest computationally using a for loop. "
   ]
  },
  {
   "cell_type": "code",
   "execution_count": null,
   "metadata": {},
   "outputs": [],
   "source": [
    "# for i in range(t): compound interest, then multiply by principle."
   ]
  },
  {
   "cell_type": "markdown",
   "metadata": {},
   "source": [
    "## Using computational methods to calculate r, t, or PV for a given FV\n",
    "\n",
    "The *guess and check* method was probably given a bad rap by your high scholl algebra teacher. It is a rather costly way to approximate solutions for math problems when computing is costly - say, when you have only paper and pencil at your disposal. However, when computational resources are especially cheap, as they are now, the \"guess and check\" method is often the best way to find a solution. Those of you who have taken courses in advanced mathematics might even be familiar with problems where there exist no analytical solution at all. In this case, the only suitable method for finding a solution is to *guess and check*. \n",
    "\n",
    "Using the given values from the previous exercise, we will use a for loop to solve for unknown values by *brute force*. Let's start by creating a dictionary that calculates interest earned after any numbner of periods from 1 to t. Then, we will save these results as a pandas DataFrame and save the DataFrame as a csv."
   ]
  },
  {
   "cell_type": "code",
   "execution_count": null,
   "metadata": {},
   "outputs": [],
   "source": []
  },
  {
   "cell_type": "markdown",
   "metadata": {},
   "source": [
    "Now that we have created a table showing returns on interest rates, let's build on this structure to solve for a given r, t, or PV given the value of two of these variables and FV. We can record each step in the process in a dictionary, just as we did in the previous example."
   ]
  },
  {
   "cell_type": "code",
   "execution_count": null,
   "metadata": {},
   "outputs": [],
   "source": []
  },
  {
   "cell_type": "markdown",
   "metadata": {},
   "source": [
    "Great work! You've combined several fundamental concepts from computing and finance in a single lesson. \n",
    "\n",
    "# Homework\n",
    "\n",
    "Create a Jupyter notebook that explains the rule of 70 (or 72 if you prefer). Compare the rule of 70 to analytical and computational solutions.\n",
    "\n",
    "1. For all interest rates from 0.5% to 10%, at intervals of point five, calculate the length of time required for an investment to double in value for each interest rate. *Recall that for an investment that has doubled in size*: \n",
    "\n",
    "$\\frac{FV}{PV} = 2$\n",
    "\n",
    "$2 = (1+r)^t$\n",
    "\n",
    "$ln(2) = tln(1+r)$\n",
    "\n",
    "$t = \\frac{ln(2)}{ln(1+r)}$\n",
    "\n",
    "Use the above solution to solve for $t$ for each $r$. Your script *must* use a for loop or for loops.\n",
    "\n",
    "2. In a dictionary, save the length of time required to double the value of an investment for each interest rate. The structure of your dictionary should be as follows: use \"Time to double\" as a key in the first layer of the dictionary. This should point to another dictionary that indicates the number of periods  required to double the value of an investment for each interest rate. The first layer of keys will also include \"Rule of 70\" (or \"... of 72\") and \"Computational Solution\", each of which point to another dictionary where the approximated solutions will be saved. Save the completed dictionary as a dataframe. Save this dataframe as a csv.\n",
    "\n",
    "e.g., dct = {\"Time to double\": {i: np.log(2) / np.log(1+r) for r in range(0,10.5,0.5)}, \"Rule of 70\":{. . .}, \"Computational Solution\": {. . .}}\n",
    "\n"
   ]
  }
 ],
 "metadata": {
  "kernelspec": {
   "display_name": "Python 3",
   "language": "python",
   "name": "python3"
  },
  "language_info": {
   "codemirror_mode": {
    "name": "ipython",
    "version": 3
   },
   "file_extension": ".py",
   "mimetype": "text/x-python",
   "name": "python",
   "nbconvert_exporter": "python",
   "pygments_lexer": "ipython3",
   "version": "3.7.6"
  }
 },
 "nbformat": 4,
 "nbformat_minor": 4
}
