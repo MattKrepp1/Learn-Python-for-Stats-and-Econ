{
 "cells": [
  {
   "cell_type": "markdown",
   "metadata": {},
   "source": [
    "# Chapter 4: Classes and Methods\n",
    "\n",
    "So far, we have dealt only with functions. Functions are convenient because they generalize some exercise given a certain type of input. In the last chapter we created a function that takes the mean value of a list of elements. It may be useful to create a function that is not owned by a class if you are in a hurry, but it is better to develop a habit of building class objects whenever you think you might want to reuse the functions that we have made. To take advantage of a function while scripting in a different file, we can import the file and instantiate a class object that owns these functions. When a function is owned by a class, we refer to this as a method. In this chapter, you will learn how to create a class with methods.\n",
    "\n",
    "## Arithmetic Class\n",
    "\n",
    "| New Concepts | Description |\n",
    "| --- | --- |\n",
    "| Class | Classes are the fundamental element of object oriented programming. Classes provide a template that defines instances of the class. Objects that are instances of a class share attributes defined by the constructor, in addition to other attributes they may share. |\n",
    "| function(. . ., \\*args) | Passing \\*args to a function treats the passed arguments as a tuple and performs a specified operation upon the tuple’s elements. |\n",
    "\n",
    "It is useful to build a class with a collection of related objects. We will start by building a class that performs basic arthimetic operations. It will include the functions \"add\", \"multiply\", and \"power\". Before we make any methods, however, we must initialize the class as an object itself.\n",
    "\n",
    "We start by building the Arithmetic class and describing its __init__ function. This function will be called automatically upon the creation of an instance of the class. The init function will create an object that can be called at any time. \n",
    "\n",
    "Be sure to place the class at the top of file, just after you import any libraries that you plan to use. Copy the text below to build your first class."
   ]
  },
  {
   "cell_type": "code",
   "execution_count": 16,
   "metadata": {},
   "outputs": [],
   "source": [
    "#arithmetic.py\n",
    "# you may ignore import jdc, used to split class development\n",
    "# other cells that edits a class will include the magic command %% add_to\n",
    "import jdc\n",
    "\n",
    "class Arithmetic():\n",
    "    def __init__(self):\n",
    "        pass"
   ]
  },
  {
   "cell_type": "markdown",
   "metadata": {},
   "source": [
    "We can create an object that is an instance of the class. At the bottom of the script, add:"
   ]
  },
  {
   "cell_type": "code",
   "execution_count": 2,
   "metadata": {},
   "outputs": [
    {
     "name": "stdout",
     "output_type": "stream",
     "text": [
      "<__main__.Arithmetic object at 0x000001F24BC7F908>\n"
     ]
    }
   ],
   "source": [
    "arithmetic = Arithmetic()\n",
    "print(arithmetic)"
   ]
  },
  {
   "cell_type": "markdown",
   "metadata": {},
   "source": [
    "Following the instance of the  Arithmetic class with a ‘.’ enables the calling of objects owned by the class.\n",
    "\n",
    "Next, let's create the _add()_ method."
   ]
  },
  {
   "cell_type": "code",
   "execution_count": 21,
   "metadata": {},
   "outputs": [],
   "source": [
    "%%add_to Arithmetic\n",
    "#arithmetic.py\n",
    "# . . . \n",
    "def add(self, *args):  \n",
    "    try:  \n",
    "        total = 0  \n",
    "        for arg in args:  \n",
    "            total += arg  \n",
    "        return total  \n",
    "\n",
    "    except:  \n",
    "        print(\"Pass int or float to add()\")\n",
    "\n",
    "# make sure you define arithmetic below the script constructing the class \n",
    "arithmetic = Arithmetic()"
   ]
  },
  {
   "cell_type": "markdown",
   "metadata": {},
   "source": [
    "To account for inputs that cannot be processed, the method begins with try. This will return an error message in cases where integers or floats may not be passed to the method.\n",
    "\n",
    "The _add()_ method passes two arguments: self and \\*args. Self is always implicitly passed to a method, so you will only pass one arguments that will be interpreted as part \\*args. The \\*args command accepts an undefined number of arguments. It is returned within the function as a tuple that includes the values  passed to add. Using a for-loop, each of the values can be called individually from the tuple. We create a list from the arguments passed using a generator function, summing the list. \n",
    "\n",
    "Pass values to the add method as noted below"
   ]
  },
  {
   "cell_type": "code",
   "execution_count": 22,
   "metadata": {},
   "outputs": [
    {
     "name": "stdout",
     "output_type": "stream",
     "text": [
      "55\n"
     ]
    }
   ],
   "source": [
    "#aritmetic.py\n",
    "# . . . \n",
    "print(arithmetic.add(1,2,3,4,5,6,7,8,9,10))"
   ]
  },
  {
   "cell_type": "markdown",
   "metadata": {},
   "source": [
    "We will add two more functions to our class: the multiply and power functions. As with the addition class, we will create a multiply class that multiplies an unspecified number of arguments. "
   ]
  },
  {
   "cell_type": "code",
   "execution_count": 24,
   "metadata": {},
   "outputs": [],
   "source": [
    "%%add_to Arithmetic\n",
    "#arithmetic.py\n",
    "# . . . \n",
    "def multiply (self, *args):\n",
    "    product = 1\n",
    "    try:\n",
    "        for arg in args:\n",
    "            product *= arg\n",
    "        return product\n",
    "    except:\n",
    "        print(\"Pass only int or flaot to multiply()\")\n",
    "\n",
    "# make sure you define arithmetic below the script constructing the class \n",
    "arithmetic = Arithmetic()\n",
    "# . . . \n",
    "print(arithmetic.multiply(2,3,4))"
   ]
  },
  {
   "cell_type": "markdown",
   "metadata": {},
   "source": [
    "The last method we will create is the exponent function. This one is straight-forward. Pass a base and an exponent to _.power()_ to yield the result a value, a, where $a=Base^{exponent}.$"
   ]
  },
  {
   "cell_type": "code",
   "execution_count": 28,
   "metadata": {},
   "outputs": [
    {
     "name": "stdout",
     "output_type": "stream",
     "text": [
      "8\n"
     ]
    }
   ],
   "source": [
    "%%add_to Arithmetic\n",
    "#arithmetic.py\n",
    "# . . . \n",
    "def power(self, base, exponent):\n",
    "    try:\n",
    "        value = base ** exponent\n",
    "        return value\n",
    "    except:\n",
    "        print(\"Pass int or flaot for base and exponent\")\n",
    "\n",
    "# make sure you define arithmetic below the script constructing the class \n",
    "arithmetic = Arithmetic()\n",
    "# . . . \n",
    "print(arithmetic.power(2,3))"
   ]
  },
  {
   "cell_type": "markdown",
   "metadata": {},
   "source": [
    "## Stats Class\n",
    "Now that you are comfortable with classes, we can build a Stats() class. This will integrate of the core stats functions that we built in the last chapter. We will be making use of this function when we build a program to run ordinary least squares regression, so make sure that this is well ordered.\n",
    "\n",
    "Since we have already built the stats functions, I have included the script  below and run each function once to check that the class is in working order. Note that everytime a function owned by the Stats() class is called, the program must first call \"self\". This calls the objects itself. We follow self with \n",
    "\".function-name\". For example, the mean function must call the total function. It does so with the command \"self.total(listObj)\".\n",
    "\n",
    "After creating stats.py with the Stats class, we will import stats using another python script in the same folder.\n"
   ]
  }
 ],
 "metadata": {
  "kernelspec": {
   "display_name": "Python 3",
   "language": "python",
   "name": "python3"
  },
  "language_info": {
   "codemirror_mode": {
    "name": "ipython",
    "version": 3
   },
   "file_extension": ".py",
   "mimetype": "text/x-python",
   "name": "python",
   "nbconvert_exporter": "python",
   "pygments_lexer": "ipython3",
   "version": "3.7.3"
  }
 },
 "nbformat": 4,
 "nbformat_minor": 2
}
