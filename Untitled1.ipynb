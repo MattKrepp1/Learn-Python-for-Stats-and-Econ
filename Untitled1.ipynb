{
 "cells": [
  {
   "cell_type": "markdown",
   "metadata": {},
   "source": [
    "# Chapter 1: The Essentials\n",
    "\n",
    "Learning to program is like learning to play a new instrument. While it is useful to spend some time reading about music, your instrument, music theory, and so forth, if one wants to learn to play they must practice reading and playing music. New musicians learn to play simple phrases and songs. Think of the exercises in this book as the equivalent for programming. To begin learning, simply copy the script and execute it. You might not understand what you are doing at first. That is okay. Just as musicians continue to play songs that they have already “learned”, you will benefit by reconstructing and further developing examples that you have already completed. Learn by doing.\n",
    "\n",
    "## Printing\n",
    "| New Concepts | Description| \n",
    "| --- | --- |\n",
    "| Strings | Data type that interprets letters and numbers as text, (not numerical values) |\n",
    "| print() | A function that prints in the console objects passed to it |\n",
    "| Running Script | Script must be executed. In Spyder, this can be accomplished by pressing F5 |\n",
    "\n",
    "Python offers a wide variety of tools to be used by a program. The first of these that we will learn is the print() method. Printing is a feature that you will continually use while you program. It is also useful for creating markers in your code when you are not sure what is wrong. You can print plain text. Using Spyder, we will create a file called helloWorld.py.\n",
    "\n"
   ]
  }
 ],
 "metadata": {
  "kernelspec": {
   "display_name": "Python 3",
   "language": "python",
   "name": "python3"
  },
  "language_info": {
   "codemirror_mode": {
    "name": "ipython",
    "version": 3
   },
   "file_extension": ".py",
   "mimetype": "text/x-python",
   "name": "python",
   "nbconvert_exporter": "python",
   "pygments_lexer": "ipython3",
   "version": "3.7.5"
  }
 },
 "nbformat": 4,
 "nbformat_minor": 2
}
