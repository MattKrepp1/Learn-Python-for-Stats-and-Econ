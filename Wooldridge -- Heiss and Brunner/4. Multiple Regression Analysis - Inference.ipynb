{
 "cells": [
  {
   "cell_type": "code",
   "execution_count": 1,
   "id": "7e5ba8c0",
   "metadata": {},
   "outputs": [],
   "source": [
    "import wooldridge as woo\n",
    "import numpy as np\n",
    "import pandas as pd\n",
    "import matplotlib.pyplot as plt\n",
    "import statsmodels.api as sm\n",
    "import scipy.stats as stats\n",
    "\n",
    "\n",
    "# Functions that we build in previous chapters are saved in supplementary Functions\n",
    "# Sometimes we will reconstruct and augment a past function. We will save the\n",
    "#  more advanced functions in this file\n",
    "from supplementaryFunctions import *"
   ]
  },
  {
   "cell_type": "markdown",
   "id": "f16fd53c",
   "metadata": {},
   "source": [
    "# 4. Multiple Regression Analysis: Inference\n",
    "\n",
    "## 4.1. The _t_ Test\n",
    "\n",
    "### 4.1.1. General Setup\n",
    "\n",
    "$$H_0:\\beta_j=a_j$$\n",
    "\n",
    "$$H_1: \\beta_j \\neq a_j $$\n",
    "\n",
    "#### One-tailed test\n",
    "\n",
    "<center>$H_1: \\beta_j < a_j $ or $ H1: \\beta_j > a_j $</center>\n",
    "\n",
    "#### _t_ statistic\n",
    "\n",
    "$$t=\\frac{\\hat{\\beta_j} - a_j}{se(\\hat{\\beta_j})}$$\n",
    "\n",
    "### 4.1.2. Standard Case\n",
    "\n",
    "$H_0: \\beta_j = 0$, $H_1:\\beta_j \\neq 0$\n",
    "\n",
    "$t_{\\hat{\\beta_j}} = \\frac{\\hat{\\beta_j}}{se(\\hat{\\beta_j})}$\n",
    "\n",
    "The subscript on the _t_ statistic indicates that this is \"the\" _t_ value for $\\hat{\\beta_j}$ for this frequent version of the test. Under $H_0$, it has the _t_ distribution with $n - k - 1$ degress of freedom implying that the probability that $|t_{\\hat{\\beta_j}}| > c$ is equal to $\\alpha$ if $c$ is the $1 - \\frac{\\alpha}{2}$ quantile of this distribution. If $\\alpha$ is our significance level (e.g., $\\alpha = 5\\%$), then we\n",
    "\n",
    "<center>reject $H_0$ if $|t_{\\hat{\\beta_j}}| > c$</center>\n",
    "\n",
    "in our sample. For the typical significance level $\\alpha=5\\%$, the critical value $c$ will be around 2 for reasonably large degrees of freedom and approach the counterpart of $1.96$ from the standard normal distribution in very large samples.\n",
    "\n",
    "The _p_ value indicates the smallest value of the significance level $\\alpha$ for which we would still reject $H_0$ using our sample. So it is the probability for a random variable $T$ with the respective $t$ distribution that $|T| >|t_{\\hat{\\beta_j}}|$ where $t_{\\hat{\\beta_j}}$ is the value of the $t$ statistic in our particular sample. In our two-tailed test, it can be calculated as\n",
    "\n",
    "$$p_{\\hat{\\beta_j}}=2F_{t_{n-k-1}}(-|t_{\\hat{\\beta_j}}|)$$\n",
    "\n",
    "where $F_{t_{n-k-1}}()$ is the CDF of the t distribution with $n-k-1$ degrees of freedom.\n",
    "\n",
    "<center>reject $H_0$ if $p_{\\hat{\\beta_j}}\\leq \\alpha$</center>\n",
    "\n",
    "### Example 4.3: Determinants of College GPA"
   ]
  },
  {
   "cell_type": "code",
   "execution_count": 2,
   "id": "ba5221c7",
   "metadata": {},
   "outputs": [
    {
     "data": {
      "text/plain": [
       "array([1.97693149, 2.61114718, 3.36086555])"
      ]
     },
     "execution_count": 2,
     "metadata": {},
     "output_type": "execute_result"
    }
   ],
   "source": [
    "gpa1 = woo.dataWoo(\"gpa1\")\n",
    "\n",
    "alpha = np.array([.05, .01, .001])\n",
    "n = len(gpa1.index)\n",
    "cv_t = stats.t.ppf(1- alpha / 2, n)\n",
    "cv_t"
   ]
  },
  {
   "cell_type": "code",
   "execution_count": 3,
   "id": "19a74468",
   "metadata": {},
   "outputs": [
    {
     "data": {
      "text/plain": [
       "array([1.95996398, 2.5758293 , 3.29052673])"
      ]
     },
     "execution_count": 3,
     "metadata": {},
     "output_type": "execute_result"
    }
   ],
   "source": [
    "cv_norm = stats.norm.ppf(1 - alpha / 2)\n",
    "cv_norm"
   ]
  },
  {
   "cell_type": "code",
   "execution_count": 4,
   "id": "b30f2f66",
   "metadata": {},
   "outputs": [
    {
     "data": {
      "text/html": [
       "<div>\n",
       "<style scoped>\n",
       "    .dataframe tbody tr th:only-of-type {\n",
       "        vertical-align: middle;\n",
       "    }\n",
       "\n",
       "    .dataframe tbody tr th {\n",
       "        vertical-align: top;\n",
       "    }\n",
       "\n",
       "    .dataframe thead th {\n",
       "        text-align: right;\n",
       "    }\n",
       "</style>\n",
       "<table border=\"1\" class=\"dataframe\">\n",
       "  <thead>\n",
       "    <tr style=\"text-align: right;\">\n",
       "      <th></th>\n",
       "      <th>$\\beta $</th>\n",
       "      <th>$t$</th>\n",
       "      <th>$$P&gt;|t|$$</th>\n",
       "      <th>$SE$</th>\n",
       "    </tr>\n",
       "    <tr>\n",
       "      <th>$$r^2: 0.2336$$</th>\n",
       "      <th></th>\n",
       "      <th></th>\n",
       "      <th></th>\n",
       "      <th></th>\n",
       "    </tr>\n",
       "  </thead>\n",
       "  <tbody>\n",
       "    <tr>\n",
       "      <th>hsGPA</th>\n",
       "      <td>0.4118</td>\n",
       "      <td>4.3963</td>\n",
       "      <td>0.0000</td>\n",
       "      <td>0.0937</td>\n",
       "    </tr>\n",
       "    <tr>\n",
       "      <th>ACT</th>\n",
       "      <td>0.0147</td>\n",
       "      <td>1.3933</td>\n",
       "      <td>0.1658</td>\n",
       "      <td>0.0106</td>\n",
       "    </tr>\n",
       "    <tr>\n",
       "      <th>skipped</th>\n",
       "      <td>-0.0831</td>\n",
       "      <td>-3.1968</td>\n",
       "      <td>0.0017</td>\n",
       "      <td>0.0260</td>\n",
       "    </tr>\n",
       "    <tr>\n",
       "      <th>Intercept</th>\n",
       "      <td>1.3896</td>\n",
       "      <td>4.1910</td>\n",
       "      <td>0.0000</td>\n",
       "      <td>0.3316</td>\n",
       "    </tr>\n",
       "  </tbody>\n",
       "</table>\n",
       "</div>"
      ],
      "text/plain": [
       "                 $\\beta $     $t$  $$P>|t|$$    $SE$\n",
       "$$r^2: 0.2336$$                                     \n",
       "hsGPA              0.4118  4.3963     0.0000  0.0937\n",
       "ACT                0.0147  1.3933     0.1658  0.0106\n",
       "skipped           -0.0831 -3.1968     0.0017  0.0260\n",
       "Intercept          1.3896  4.1910     0.0000  0.3316"
      ]
     },
     "execution_count": 4,
     "metadata": {},
     "output_type": "execute_result"
    }
   ],
   "source": [
    "names = [\"colGPA\", \"hsGPA\", \"ACT\", \"skipped\"]\n",
    "data = gpa1[names]\n",
    "\n",
    "X, y = build_X_y_matrices(data, names)\n",
    "\n",
    "reg = sm.OLS(y, X)\n",
    "results = reg.fit()\n",
    "OLS_summary(results)"
   ]
  },
  {
   "cell_type": "code",
   "execution_count": 5,
   "id": "f5056443",
   "metadata": {},
   "outputs": [
    {
     "data": {
      "text/plain": [
       "hsGPA        4.396260\n",
       "ACT          1.393319\n",
       "skipped     -3.196840\n",
       "Intercept    4.191039\n",
       "dtype: float64"
      ]
     },
     "execution_count": 5,
     "metadata": {},
     "output_type": "execute_result"
    }
   ],
   "source": [
    "# Reproduce t-stats\n",
    "t = results.params / results.bse\n",
    "t"
   ]
  },
  {
   "cell_type": "code",
   "execution_count": 6,
   "id": "c07bf6aa",
   "metadata": {},
   "outputs": [
    {
     "data": {
      "text/html": [
       "<div>\n",
       "<style scoped>\n",
       "    .dataframe tbody tr th:only-of-type {\n",
       "        vertical-align: middle;\n",
       "    }\n",
       "\n",
       "    .dataframe tbody tr th {\n",
       "        vertical-align: top;\n",
       "    }\n",
       "\n",
       "    .dataframe thead th {\n",
       "        text-align: right;\n",
       "    }\n",
       "</style>\n",
       "<table border=\"1\" class=\"dataframe\">\n",
       "  <thead>\n",
       "    <tr style=\"text-align: right;\">\n",
       "      <th></th>\n",
       "      <th>$p$</th>\n",
       "    </tr>\n",
       "  </thead>\n",
       "  <tbody>\n",
       "    <tr>\n",
       "      <th>hsGPA</th>\n",
       "      <td>0.00</td>\n",
       "    </tr>\n",
       "    <tr>\n",
       "      <th>ACT</th>\n",
       "      <td>0.17</td>\n",
       "    </tr>\n",
       "    <tr>\n",
       "      <th>skipped</th>\n",
       "      <td>0.00</td>\n",
       "    </tr>\n",
       "    <tr>\n",
       "      <th>Intercept</th>\n",
       "      <td>0.00</td>\n",
       "    </tr>\n",
       "  </tbody>\n",
       "</table>\n",
       "</div>"
      ],
      "text/plain": [
       "            $p$\n",
       "hsGPA      0.00\n",
       "ACT        0.17\n",
       "skipped    0.00\n",
       "Intercept  0.00"
      ]
     },
     "execution_count": 6,
     "metadata": {},
     "output_type": "execute_result"
    }
   ],
   "source": [
    "pval = pd.DataFrame(2 * stats.t.cdf(-abs(t), n), index = t.index).rename(columns = {0:\"$p$\"})\n",
    "pval.round(2)"
   ]
  },
  {
   "cell_type": "markdown",
   "id": "7631ef4f",
   "metadata": {},
   "source": [
    "### 4.1.3. Other Hypotheses\n",
    "\n",
    "|$$H_1$$|$\\beta_j \\neq \\alpha_j$|$\\beta_j > \\alpha_j$|$\\beta_j < \\alpha_j$|\n",
    "|---|---|---|---|\n",
    "|$$c=:$$|$$1-\\frac{\\alpha}{2}$$|$$1-\\alpha$$|$$1-\\alpha$$|\n",
    "|reject $H_0$ if$:$|$|\\hat{\\beta_j}|$>c|$\\hat{\\beta_j}>c$|$\\hat{\\beta_j}<c$|\n",
    "|$p$ value$:$|$2F_{t_{n-k-1}}(-|t_{\\hat{\\beta_j}}|)$|$F_{t_{n-k-1}}(-t_{\\hat{\\beta_j}})$|$F_{t_{n-k-1}}(t_{\\hat{\\beta_j}})$|\n",
    "\n",
    "__<center>Table 4.1. One- and Two-tailed Tests for $H_0: \\beta_j=\\alpha_j$</center>__\n",
    "\n",
    "### Example 4.1: Hourly Wage Equation"
   ]
  },
  {
   "cell_type": "code",
   "execution_count": 7,
   "id": "0d9b0483",
   "metadata": {},
   "outputs": [
    {
     "data": {
      "text/plain": [
       "array([1.64775567, 2.33345809])"
      ]
     },
     "execution_count": 7,
     "metadata": {},
     "output_type": "execute_result"
    }
   ],
   "source": [
    "wage1 = woo.dataWoo(\"wage1\")\n",
    "n = wage1.shape[0]\n",
    "\n",
    "alpha = np.array([0.05, 0.01])\n",
    "cv_t = stats.t.ppf(1- alpha, n)\n",
    "cv_t"
   ]
  },
  {
   "cell_type": "code",
   "execution_count": 8,
   "id": "6731bddd",
   "metadata": {},
   "outputs": [
    {
     "data": {
      "text/plain": [
       "array([1.64485363, 2.32634787])"
      ]
     },
     "execution_count": 8,
     "metadata": {},
     "output_type": "execute_result"
    }
   ],
   "source": [
    "cv_norm = stats.norm.ppf(1 - alpha)\n",
    "cv_norm"
   ]
  },
  {
   "cell_type": "code",
   "execution_count": 9,
   "id": "adcd49cc",
   "metadata": {},
   "outputs": [
    {
     "name": "stderr",
     "output_type": "stream",
     "text": [
      "C:\\Users\\JLCat\\GithubRepositories\\OtherRepositories\\Wooldridge\\supplementaryFunctions.py:38: SettingWithCopyWarning: \n",
      "A value is trying to be set on a copy of a slice from a DataFrame.\n",
      "Try using .loc[row_indexer,col_indexer] = value instead\n",
      "\n",
      "See the caveats in the documentation: https://pandas.pydata.org/pandas-docs/stable/user_guide/indexing.html#returning-a-view-versus-a-copy\n",
      "  data[name] = np.log(data[name])\n"
     ]
    },
    {
     "data": {
      "text/html": [
       "<div>\n",
       "<style scoped>\n",
       "    .dataframe tbody tr th:only-of-type {\n",
       "        vertical-align: middle;\n",
       "    }\n",
       "\n",
       "    .dataframe tbody tr th {\n",
       "        vertical-align: top;\n",
       "    }\n",
       "\n",
       "    .dataframe thead th {\n",
       "        text-align: right;\n",
       "    }\n",
       "</style>\n",
       "<table border=\"1\" class=\"dataframe\">\n",
       "  <thead>\n",
       "    <tr style=\"text-align: right;\">\n",
       "      <th></th>\n",
       "      <th>$\\beta $</th>\n",
       "      <th>$t$</th>\n",
       "      <th>$$P&gt;|t|$$</th>\n",
       "      <th>$SE$</th>\n",
       "    </tr>\n",
       "    <tr>\n",
       "      <th>$$r^2: 0.316$$</th>\n",
       "      <th></th>\n",
       "      <th></th>\n",
       "      <th></th>\n",
       "      <th></th>\n",
       "    </tr>\n",
       "  </thead>\n",
       "  <tbody>\n",
       "    <tr>\n",
       "      <th>educ</th>\n",
       "      <td>0.0920</td>\n",
       "      <td>12.5552</td>\n",
       "      <td>0.0000</td>\n",
       "      <td>0.0073</td>\n",
       "    </tr>\n",
       "    <tr>\n",
       "      <th>exper</th>\n",
       "      <td>0.0041</td>\n",
       "      <td>2.3914</td>\n",
       "      <td>0.0171</td>\n",
       "      <td>0.0017</td>\n",
       "    </tr>\n",
       "    <tr>\n",
       "      <th>tenure</th>\n",
       "      <td>0.0221</td>\n",
       "      <td>7.1331</td>\n",
       "      <td>0.0000</td>\n",
       "      <td>0.0031</td>\n",
       "    </tr>\n",
       "    <tr>\n",
       "      <th>Intercept</th>\n",
       "      <td>0.2844</td>\n",
       "      <td>2.7292</td>\n",
       "      <td>0.0066</td>\n",
       "      <td>0.1042</td>\n",
       "    </tr>\n",
       "  </tbody>\n",
       "</table>\n",
       "</div>"
      ],
      "text/plain": [
       "                $\\beta $      $t$  $$P>|t|$$    $SE$\n",
       "$$r^2: 0.316$$                                      \n",
       "educ              0.0920  12.5552     0.0000  0.0073\n",
       "exper             0.0041   2.3914     0.0171  0.0017\n",
       "tenure            0.0221   7.1331     0.0000  0.0031\n",
       "Intercept         0.2844   2.7292     0.0066  0.1042"
      ]
     },
     "execution_count": 9,
     "metadata": {},
     "output_type": "execute_result"
    }
   ],
   "source": [
    "names = [\"wage\", \"educ\", \"exper\", \"tenure\"]\n",
    "log_vars = [\"wage\"]\n",
    "data = wage1[names]\n",
    "X, y = build_X_y_matrices(data, names, log_vars)\n",
    "\n",
    "reg = sm.OLS(y,X)\n",
    "results = reg.fit()\n",
    "\n",
    "OLS_summary(results)"
   ]
  },
  {
   "cell_type": "markdown",
   "id": "5ca2b5b9",
   "metadata": {},
   "source": [
    "### 4.2 Confidence Intervals\n",
    "\n",
    "$$\\hat{\\beta_j} \\mp c*se(\\hat{\\beta_j})$$"
   ]
  },
  {
   "cell_type": "code",
   "execution_count": 10,
   "id": "a02a1504",
   "metadata": {},
   "outputs": [
    {
     "name": "stderr",
     "output_type": "stream",
     "text": [
      "C:\\Users\\JLCat\\GithubRepositories\\OtherRepositories\\Wooldridge\\supplementaryFunctions.py:38: SettingWithCopyWarning: \n",
      "A value is trying to be set on a copy of a slice from a DataFrame.\n",
      "Try using .loc[row_indexer,col_indexer] = value instead\n",
      "\n",
      "See the caveats in the documentation: https://pandas.pydata.org/pandas-docs/stable/user_guide/indexing.html#returning-a-view-versus-a-copy\n",
      "  data[name] = np.log(data[name])\n"
     ]
    },
    {
     "data": {
      "text/html": [
       "<div>\n",
       "<style scoped>\n",
       "    .dataframe tbody tr th:only-of-type {\n",
       "        vertical-align: middle;\n",
       "    }\n",
       "\n",
       "    .dataframe tbody tr th {\n",
       "        vertical-align: top;\n",
       "    }\n",
       "\n",
       "    .dataframe thead th {\n",
       "        text-align: right;\n",
       "    }\n",
       "</style>\n",
       "<table border=\"1\" class=\"dataframe\">\n",
       "  <thead>\n",
       "    <tr style=\"text-align: right;\">\n",
       "      <th></th>\n",
       "      <th>$\\beta $</th>\n",
       "      <th>$t$</th>\n",
       "      <th>$$P&gt;|t|$$</th>\n",
       "      <th>$SE$</th>\n",
       "    </tr>\n",
       "    <tr>\n",
       "      <th>$$r^2: 0.918$$</th>\n",
       "      <th></th>\n",
       "      <th></th>\n",
       "      <th></th>\n",
       "      <th></th>\n",
       "    </tr>\n",
       "  </thead>\n",
       "  <tbody>\n",
       "    <tr>\n",
       "      <th>sales</th>\n",
       "      <td>1.0842</td>\n",
       "      <td>18.0118</td>\n",
       "      <td>0.000</td>\n",
       "      <td>0.0602</td>\n",
       "    </tr>\n",
       "    <tr>\n",
       "      <th>profmarg</th>\n",
       "      <td>0.0217</td>\n",
       "      <td>1.6941</td>\n",
       "      <td>0.101</td>\n",
       "      <td>0.0128</td>\n",
       "    </tr>\n",
       "    <tr>\n",
       "      <th>Intercept</th>\n",
       "      <td>-4.3783</td>\n",
       "      <td>-9.3549</td>\n",
       "      <td>0.000</td>\n",
       "      <td>0.4680</td>\n",
       "    </tr>\n",
       "  </tbody>\n",
       "</table>\n",
       "</div>"
      ],
      "text/plain": [
       "                $\\beta $      $t$  $$P>|t|$$    $SE$\n",
       "$$r^2: 0.918$$                                      \n",
       "sales             1.0842  18.0118      0.000  0.0602\n",
       "profmarg          0.0217   1.6941      0.101  0.0128\n",
       "Intercept        -4.3783  -9.3549      0.000  0.4680"
      ]
     },
     "execution_count": 10,
     "metadata": {},
     "output_type": "execute_result"
    }
   ],
   "source": [
    "rdchem = woo.dataWoo(\"rdchem\")\n",
    "names = [\"rd\", \"sales\", \"profmarg\"]\n",
    "log_vars = names[:2]\n",
    "data = rdchem[names]\n",
    "X, y = build_X_y_matrices(data, names, log_vars)\n",
    "\n",
    "reg = sm.OLS(y, X)\n",
    "results = reg.fit()\n",
    "\n",
    "OLS_summary(results)"
   ]
  },
  {
   "cell_type": "code",
   "execution_count": 11,
   "id": "916abc73",
   "metadata": {},
   "outputs": [
    {
     "data": {
      "text/plain": [
       "{0.9:               Lower     Upper\n",
       " sales      0.981941  1.186499\n",
       " profmarg  -0.000064  0.043375\n",
       " Intercept -5.173496 -3.583050,\n",
       " 0.95:               Lower     Upper\n",
       " sales      0.961107  1.207332\n",
       " profmarg  -0.004488  0.047799\n",
       " Intercept -5.335478 -3.421068,\n",
       " 0.99:               Lower     Upper\n",
       " sales      0.918299  1.250141\n",
       " profmarg  -0.013578  0.056890\n",
       " Intercept -5.668313 -3.088234,\n",
       " 0.999:               Lower     Upper\n",
       " sales      0.863942  1.304498\n",
       " profmarg  -0.025121  0.068433\n",
       " Intercept -6.090942 -2.665604}"
      ]
     },
     "execution_count": 11,
     "metadata": {},
     "output_type": "execute_result"
    }
   ],
   "source": [
    "ci_values = [.9, .95,.99, .999]\n",
    "CI_dict = {}\n",
    "for ci in ci_values:\n",
    "    CI_dict[ci] = results.conf_int(1 - ci).rename(columns = {0:\"Lower\", 1:\"Upper\"})\n",
    "CI_dict"
   ]
  },
  {
   "cell_type": "code",
   "execution_count": 12,
   "id": "6a172b54",
   "metadata": {},
   "outputs": [
    {
     "name": "stdout",
     "output_type": "stream",
     "text": [
      "CI: 0.9\n",
      "              Lower     Upper\n",
      "sales      0.981941  1.186499\n",
      "profmarg  -0.000064  0.043375\n",
      "Intercept -5.173496 -3.583050\n",
      "CI: 0.95\n",
      "              Lower     Upper\n",
      "sales      0.961107  1.207332\n",
      "profmarg  -0.004488  0.047799\n",
      "Intercept -5.335478 -3.421068\n",
      "CI: 0.99\n",
      "              Lower     Upper\n",
      "sales      0.918299  1.250141\n",
      "profmarg  -0.013578  0.056890\n",
      "Intercept -5.668313 -3.088234\n",
      "CI: 0.999\n",
      "              Lower     Upper\n",
      "sales      0.863942  1.304498\n",
      "profmarg  -0.025121  0.068433\n",
      "Intercept -6.090942 -2.665604\n"
     ]
    }
   ],
   "source": [
    "for ci in ci_values:\n",
    "    print(\"CI: \" + str(ci) ,CI_dict[ci], sep = \"\\n\")"
   ]
  },
  {
   "cell_type": "markdown",
   "id": "46194dc1",
   "metadata": {},
   "source": [
    "## 4.3. Linear Restrictions: _F_ Tests\n",
    "\n",
    "The f statistic mesaures the average reduction in unexplained variance for each additional explanatory variable added to an equation: \n",
    "\n",
    "$$ F = \\frac{SSR_r - SSR_{ur}}{SSR_{ur}} \\frac{n-k-1}{q} = \\frac{R_{ur}^2 - R_r^2}{1 - R_{ur}^2} \\frac{n - k - 1}{q} $$"
   ]
  },
  {
   "cell_type": "code",
   "execution_count": 13,
   "id": "ae3c2256",
   "metadata": {},
   "outputs": [
    {
     "name": "stderr",
     "output_type": "stream",
     "text": [
      "C:\\Users\\JLCat\\GithubRepositories\\OtherRepositories\\Wooldridge\\supplementaryFunctions.py:38: SettingWithCopyWarning: \n",
      "A value is trying to be set on a copy of a slice from a DataFrame.\n",
      "Try using .loc[row_indexer,col_indexer] = value instead\n",
      "\n",
      "See the caveats in the documentation: https://pandas.pydata.org/pandas-docs/stable/user_guide/indexing.html#returning-a-view-versus-a-copy\n",
      "  data[name] = np.log(data[name])\n"
     ]
    },
    {
     "data": {
      "text/html": [
       "<div>\n",
       "<style scoped>\n",
       "    .dataframe tbody tr th:only-of-type {\n",
       "        vertical-align: middle;\n",
       "    }\n",
       "\n",
       "    .dataframe tbody tr th {\n",
       "        vertical-align: top;\n",
       "    }\n",
       "\n",
       "    .dataframe thead th {\n",
       "        text-align: right;\n",
       "    }\n",
       "</style>\n",
       "<table border=\"1\" class=\"dataframe\">\n",
       "  <thead>\n",
       "    <tr style=\"text-align: right;\">\n",
       "      <th></th>\n",
       "      <th>$\\beta $</th>\n",
       "      <th>$t$</th>\n",
       "      <th>$$P&gt;|t|$$</th>\n",
       "      <th>$SE$</th>\n",
       "    </tr>\n",
       "    <tr>\n",
       "      <th>$$r^2: 0.6278$$</th>\n",
       "      <th></th>\n",
       "      <th></th>\n",
       "      <th></th>\n",
       "      <th></th>\n",
       "    </tr>\n",
       "  </thead>\n",
       "  <tbody>\n",
       "    <tr>\n",
       "      <th>years</th>\n",
       "      <td>0.0689</td>\n",
       "      <td>5.6843</td>\n",
       "      <td>0.0000</td>\n",
       "      <td>0.0121</td>\n",
       "    </tr>\n",
       "    <tr>\n",
       "      <th>gamesyr</th>\n",
       "      <td>0.0126</td>\n",
       "      <td>4.7424</td>\n",
       "      <td>0.0000</td>\n",
       "      <td>0.0026</td>\n",
       "    </tr>\n",
       "    <tr>\n",
       "      <th>bavg</th>\n",
       "      <td>0.0010</td>\n",
       "      <td>0.8868</td>\n",
       "      <td>0.3758</td>\n",
       "      <td>0.0011</td>\n",
       "    </tr>\n",
       "    <tr>\n",
       "      <th>hrunsyr</th>\n",
       "      <td>0.0144</td>\n",
       "      <td>0.8986</td>\n",
       "      <td>0.3695</td>\n",
       "      <td>0.0161</td>\n",
       "    </tr>\n",
       "    <tr>\n",
       "      <th>rbisyr</th>\n",
       "      <td>0.0108</td>\n",
       "      <td>1.5005</td>\n",
       "      <td>0.1344</td>\n",
       "      <td>0.0072</td>\n",
       "    </tr>\n",
       "    <tr>\n",
       "      <th>Intercept</th>\n",
       "      <td>11.1924</td>\n",
       "      <td>38.7518</td>\n",
       "      <td>0.0000</td>\n",
       "      <td>0.2888</td>\n",
       "    </tr>\n",
       "  </tbody>\n",
       "</table>\n",
       "</div>"
      ],
      "text/plain": [
       "                 $\\beta $      $t$  $$P>|t|$$    $SE$\n",
       "$$r^2: 0.6278$$                                      \n",
       "years              0.0689   5.6843     0.0000  0.0121\n",
       "gamesyr            0.0126   4.7424     0.0000  0.0026\n",
       "bavg               0.0010   0.8868     0.3758  0.0011\n",
       "hrunsyr            0.0144   0.8986     0.3695  0.0161\n",
       "rbisyr             0.0108   1.5005     0.1344  0.0072\n",
       "Intercept         11.1924  38.7518     0.0000  0.2888"
      ]
     },
     "execution_count": 13,
     "metadata": {},
     "output_type": "execute_result"
    }
   ],
   "source": [
    "mlb1 = woo.dataWoo(\"mlb1\")\n",
    "n = mlb1.shape[0]\n",
    "F_test_stats = {}\n",
    "\n",
    "\n",
    "#ur regression\n",
    "names = [\"salary\", \"years\", \"gamesyr\", \"bavg\", \"hrunsyr\", \"rbisyr\"]\n",
    "log_vars = [\"salary\"]\n",
    "data = mlb1[names]\n",
    "X, y = build_X_y_matrices(data, names, log_vars)\n",
    "k = len(names) - 1\n",
    "reg_ur = sm.OLS(y, X)\n",
    "results_ur = reg_ur.fit()\n",
    "OLS_summary(results_ur)"
   ]
  },
  {
   "cell_type": "code",
   "execution_count": 14,
   "id": "603e6dde",
   "metadata": {},
   "outputs": [
    {
     "name": "stderr",
     "output_type": "stream",
     "text": [
      "C:\\Users\\JLCat\\GithubRepositories\\OtherRepositories\\Wooldridge\\supplementaryFunctions.py:38: SettingWithCopyWarning: \n",
      "A value is trying to be set on a copy of a slice from a DataFrame.\n",
      "Try using .loc[row_indexer,col_indexer] = value instead\n",
      "\n",
      "See the caveats in the documentation: https://pandas.pydata.org/pandas-docs/stable/user_guide/indexing.html#returning-a-view-versus-a-copy\n",
      "  data[name] = np.log(data[name])\n"
     ]
    },
    {
     "data": {
      "text/html": [
       "<div>\n",
       "<style scoped>\n",
       "    .dataframe tbody tr th:only-of-type {\n",
       "        vertical-align: middle;\n",
       "    }\n",
       "\n",
       "    .dataframe tbody tr th {\n",
       "        vertical-align: top;\n",
       "    }\n",
       "\n",
       "    .dataframe thead th {\n",
       "        text-align: right;\n",
       "    }\n",
       "</style>\n",
       "<table border=\"1\" class=\"dataframe\">\n",
       "  <thead>\n",
       "    <tr style=\"text-align: right;\">\n",
       "      <th></th>\n",
       "      <th>$\\beta $</th>\n",
       "      <th>$t$</th>\n",
       "      <th>$$P&gt;|t|$$</th>\n",
       "      <th>$SE$</th>\n",
       "    </tr>\n",
       "    <tr>\n",
       "      <th>$$r^2: 0.5971$$</th>\n",
       "      <th></th>\n",
       "      <th></th>\n",
       "      <th></th>\n",
       "      <th></th>\n",
       "    </tr>\n",
       "  </thead>\n",
       "  <tbody>\n",
       "    <tr>\n",
       "      <th>years</th>\n",
       "      <td>0.0713</td>\n",
       "      <td>5.7032</td>\n",
       "      <td>0.0</td>\n",
       "      <td>0.0125</td>\n",
       "    </tr>\n",
       "    <tr>\n",
       "      <th>gamesyr</th>\n",
       "      <td>0.0202</td>\n",
       "      <td>15.0234</td>\n",
       "      <td>0.0</td>\n",
       "      <td>0.0013</td>\n",
       "    </tr>\n",
       "    <tr>\n",
       "      <th>Intercept</th>\n",
       "      <td>11.2238</td>\n",
       "      <td>103.6247</td>\n",
       "      <td>0.0</td>\n",
       "      <td>0.1083</td>\n",
       "    </tr>\n",
       "  </tbody>\n",
       "</table>\n",
       "</div>"
      ],
      "text/plain": [
       "                 $\\beta $       $t$  $$P>|t|$$    $SE$\n",
       "$$r^2: 0.5971$$                                       \n",
       "years              0.0713    5.7032        0.0  0.0125\n",
       "gamesyr            0.0202   15.0234        0.0  0.0013\n",
       "Intercept         11.2238  103.6247        0.0  0.1083"
      ]
     },
     "execution_count": 14,
     "metadata": {},
     "output_type": "execute_result"
    }
   ],
   "source": [
    "r2_ur = results_ur.rsquared\n",
    "F_test_stats[\"r2_ur\"] = r2_ur\n",
    "\n",
    "#r regression\n",
    "names = [\"salary\", \"years\", \"gamesyr\"]\n",
    "data = mlb1[names]\n",
    "q = len(names)\n",
    "X, y = build_X_y_matrices(data, names, log_vars)\n",
    "\n",
    "reg_r = sm.OLS(y, X)\n",
    "results_r = reg_r.fit()\n",
    "OLS_summary(results_r)"
   ]
  },
  {
   "cell_type": "code",
   "execution_count": 15,
   "id": "71d14e7a",
   "metadata": {},
   "outputs": [
    {
     "name": "stdout",
     "output_type": "stream",
     "text": [
      "cv p = 0.01: 3.838520048496057\n"
     ]
    },
    {
     "data": {
      "text/html": [
       "<div>\n",
       "<style scoped>\n",
       "    .dataframe tbody tr th:only-of-type {\n",
       "        vertical-align: middle;\n",
       "    }\n",
       "\n",
       "    .dataframe tbody tr th {\n",
       "        vertical-align: top;\n",
       "    }\n",
       "\n",
       "    .dataframe thead th {\n",
       "        text-align: right;\n",
       "    }\n",
       "</style>\n",
       "<table border=\"1\" class=\"dataframe\">\n",
       "  <thead>\n",
       "    <tr style=\"text-align: right;\">\n",
       "      <th></th>\n",
       "      <th>Value</th>\n",
       "    </tr>\n",
       "  </thead>\n",
       "  <tbody>\n",
       "    <tr>\n",
       "      <th>r2_ur</th>\n",
       "      <td>0.627803</td>\n",
       "    </tr>\n",
       "    <tr>\n",
       "      <th>r2_r</th>\n",
       "      <td>0.597072</td>\n",
       "    </tr>\n",
       "    <tr>\n",
       "      <th>F-stat (Formula)</th>\n",
       "      <td>9.550254</td>\n",
       "    </tr>\n",
       "    <tr>\n",
       "      <th>p-val</th>\n",
       "      <td>0.000004</td>\n",
       "    </tr>\n",
       "    <tr>\n",
       "      <th>F-stat (scipy)</th>\n",
       "      <td>9.550254</td>\n",
       "    </tr>\n",
       "  </tbody>\n",
       "</table>\n",
       "</div>"
      ],
      "text/plain": [
       "                     Value\n",
       "r2_ur             0.627803\n",
       "r2_r              0.597072\n",
       "F-stat (Formula)  9.550254\n",
       "p-val             0.000004\n",
       "F-stat (scipy)    9.550254"
      ]
     },
     "execution_count": 15,
     "metadata": {},
     "output_type": "execute_result"
    }
   ],
   "source": [
    "r2_r = results_r.rsquared\n",
    "F_test_stats[\"r2_r\"] = r2_r\n",
    "\n",
    "# F Statistic\n",
    "cv = stats.f.ppf(1 - 0.01, len(X.keys()), n - k - 1)\n",
    "fstat = (r2_ur - r2_r)/(1 - r2_ur) * (n - k - 1)/q\n",
    "F_test_stats[\"F-stat (Formula)\"] = fstat\n",
    "fpval = 1 - stats.f.cdf(fstat,q, n - k - 1)\n",
    "F_test_stats[\"p-val\"] = fpval\n",
    "F_test_stats[\"F-stat (scipy)\"] = stats.f.ppf(1 - fpval, q, n - k - 1)\n",
    "\n",
    "print(\"cv p = 0.01:\", cv)\n",
    "\n",
    "pd.DataFrame(F_test_stats, index =[\"Value\"]).T"
   ]
  },
  {
   "cell_type": "markdown",
   "id": "607f47f8",
   "metadata": {},
   "source": [
    "Statsmodels has a great feature that allows us to explicitly write out our F-tests hypotheses. We will create a list of hypotheses:\n",
    "\n",
    "> hypotheses = [\"var_name1 = 0\", \"var_name2 = 0\", . . .]\n",
    "\n",
    "and we will run the ftest using results from the unrestricted regression:\n",
    "\n",
    "> ftest = results.f_test(hypotheses)"
   ]
  },
  {
   "cell_type": "code",
   "execution_count": 16,
   "id": "790f0266",
   "metadata": {},
   "outputs": [
    {
     "name": "stderr",
     "output_type": "stream",
     "text": [
      "C:\\Users\\JLCat\\GithubRepositories\\OtherRepositories\\Wooldridge\\supplementaryFunctions.py:38: SettingWithCopyWarning: \n",
      "A value is trying to be set on a copy of a slice from a DataFrame.\n",
      "Try using .loc[row_indexer,col_indexer] = value instead\n",
      "\n",
      "See the caveats in the documentation: https://pandas.pydata.org/pandas-docs/stable/user_guide/indexing.html#returning-a-view-versus-a-copy\n",
      "  data[name] = np.log(data[name])\n"
     ]
    },
    {
     "data": {
      "text/plain": [
       "['bavg = 0', 'hrunsyr = 0', 'rbisyr = 0']"
      ]
     },
     "execution_count": 16,
     "metadata": {},
     "output_type": "execute_result"
    }
   ],
   "source": [
    "names = [\"salary\", \"years\", \"gamesyr\", \"bavg\", \"hrunsyr\", \"rbisyr\"]\n",
    "data = mlb1[names]\n",
    "X, y = build_X_y_matrices(data, names, log_vars)\n",
    "\n",
    "reg = sm.OLS(y, X)\n",
    "results = reg.fit()\n",
    "\n",
    "f_test_results = {}\n",
    "hypotheses = [name + \" = 0\" for name in names[-3:]]\n",
    "hypotheses"
   ]
  },
  {
   "cell_type": "code",
   "execution_count": 17,
   "id": "3ac90c5a",
   "metadata": {},
   "outputs": [
    {
     "data": {
      "text/plain": [
       "{\"'bavg = 0', 'hrunsyr = 0', 'rbisyr = 0'\": {'F-stat': 9.550253521952135,\n",
       "  'P_F': 4.4737081398374674e-06}}"
      ]
     },
     "execution_count": 17,
     "metadata": {},
     "output_type": "execute_result"
    }
   ],
   "source": [
    "# F Test\n",
    "key = str(hypotheses).replace(\"[\",\"\").replace(\"]\", \"\")\n",
    "f_test_results[key] = {}\n",
    "ftest = results.f_test(hypotheses)\n",
    "f_test_results[key][\"F-stat\"] = ftest.statistic\n",
    "f_test_results[key][\"P_F\"]= ftest.pvalue\n",
    "f_test_results"
   ]
  },
  {
   "cell_type": "markdown",
   "id": "fbd72033",
   "metadata": {},
   "source": [
    "We could check multiple hypothese using a for loop. Let's check each variable individually."
   ]
  },
  {
   "cell_type": "code",
   "execution_count": 18,
   "id": "e7e5ed67",
   "metadata": {},
   "outputs": [
    {
     "data": {
      "text/html": [
       "<div>\n",
       "<style scoped>\n",
       "    .dataframe tbody tr th:only-of-type {\n",
       "        vertical-align: middle;\n",
       "    }\n",
       "\n",
       "    .dataframe tbody tr th {\n",
       "        vertical-align: top;\n",
       "    }\n",
       "\n",
       "    .dataframe thead th {\n",
       "        text-align: right;\n",
       "    }\n",
       "</style>\n",
       "<table border=\"1\" class=\"dataframe\">\n",
       "  <thead>\n",
       "    <tr style=\"text-align: right;\">\n",
       "      <th></th>\n",
       "      <th>'bavg = 0', 'hrunsyr = 0', 'rbisyr = 0'</th>\n",
       "      <th>bavg = 0</th>\n",
       "      <th>hrunsyr = 0</th>\n",
       "      <th>rbisyr = 0</th>\n",
       "    </tr>\n",
       "  </thead>\n",
       "  <tbody>\n",
       "    <tr>\n",
       "      <th>F-stat</th>\n",
       "      <td>9.550254</td>\n",
       "      <td>0.786433</td>\n",
       "      <td>0.807557</td>\n",
       "      <td>2.251377</td>\n",
       "    </tr>\n",
       "    <tr>\n",
       "      <th>P_F</th>\n",
       "      <td>0.000004</td>\n",
       "      <td>0.375795</td>\n",
       "      <td>0.369467</td>\n",
       "      <td>0.134405</td>\n",
       "    </tr>\n",
       "  </tbody>\n",
       "</table>\n",
       "</div>"
      ],
      "text/plain": [
       "        'bavg = 0', 'hrunsyr = 0', 'rbisyr = 0'  bavg = 0  hrunsyr = 0  \\\n",
       "F-stat                                 9.550254  0.786433     0.807557   \n",
       "P_F                                    0.000004  0.375795     0.369467   \n",
       "\n",
       "        rbisyr = 0  \n",
       "F-stat    2.251377  \n",
       "P_F       0.134405  "
      ]
     },
     "execution_count": 18,
     "metadata": {},
     "output_type": "execute_result"
    }
   ],
   "source": [
    "for hypothesis in hypotheses:\n",
    "    key = hypothesis\n",
    "    hypothesis = [hypothesis]\n",
    "    f_test_results[key] = {}\n",
    "    ftest = results.f_test(hypothesis)\n",
    "    f_test_results[key][\"F-stat\"] = ftest.statistic\n",
    "    f_test_results[key][\"P_F\"]= ftest.pvalue\n",
    "pd.DataFrame(f_test_results)"
   ]
  },
  {
   "cell_type": "markdown",
   "id": "41d6630a",
   "metadata": {},
   "source": [
    "It seems that individually the addition of these explanatory variables do not improve explanatory power of our regression. Let's see which pairs appear to improve explanation of variance. We will save the p-value of the F-statistic for each pair."
   ]
  },
  {
   "cell_type": "code",
   "execution_count": 19,
   "id": "d1ad06d0",
   "metadata": {},
   "outputs": [
    {
     "data": {
      "text/html": [
       "<div>\n",
       "<style scoped>\n",
       "    .dataframe tbody tr th:only-of-type {\n",
       "        vertical-align: middle;\n",
       "    }\n",
       "\n",
       "    .dataframe tbody tr th {\n",
       "        vertical-align: top;\n",
       "    }\n",
       "\n",
       "    .dataframe thead th {\n",
       "        text-align: right;\n",
       "    }\n",
       "</style>\n",
       "<table border=\"1\" class=\"dataframe\">\n",
       "  <thead>\n",
       "    <tr style=\"text-align: right;\">\n",
       "      <th></th>\n",
       "      <th>bavg = 0</th>\n",
       "      <th>hrunsyr = 0</th>\n",
       "      <th>rbisyr = 0</th>\n",
       "    </tr>\n",
       "  </thead>\n",
       "  <tbody>\n",
       "    <tr>\n",
       "      <th>hrunsyr = 0</th>\n",
       "      <td>0.526698</td>\n",
       "      <td>NaN</td>\n",
       "      <td>0.000002</td>\n",
       "    </tr>\n",
       "    <tr>\n",
       "      <th>rbisyr = 0</th>\n",
       "      <td>0.134924</td>\n",
       "      <td>0.000002</td>\n",
       "      <td>NaN</td>\n",
       "    </tr>\n",
       "    <tr>\n",
       "      <th>bavg = 0</th>\n",
       "      <td>NaN</td>\n",
       "      <td>0.526698</td>\n",
       "      <td>0.134924</td>\n",
       "    </tr>\n",
       "  </tbody>\n",
       "</table>\n",
       "</div>"
      ],
      "text/plain": [
       "             bavg = 0  hrunsyr = 0  rbisyr = 0\n",
       "hrunsyr = 0  0.526698          NaN    0.000002\n",
       "rbisyr = 0   0.134924     0.000002         NaN\n",
       "bavg = 0          NaN     0.526698    0.134924"
      ]
     },
     "execution_count": 19,
     "metadata": {},
     "output_type": "execute_result"
    }
   ],
   "source": [
    "pair_hypotheses_results = {}\n",
    "for hypothesis1 in hypotheses:\n",
    "    pair_hypotheses_results[hypothesis1] = {}\n",
    "    for hypothesis2 in hypotheses:\n",
    "        if hypothesis1 != hypothesis2:\n",
    "            hypothesis = [hypothesis1, hypothesis2]\n",
    "            ftest = results.f_test(hypothesis)\n",
    "            pair_hypotheses_results[hypothesis1][hypothesis2] = ftest.pvalue\n",
    "pd.DataFrame(pair_hypotheses_results)"
   ]
  },
  {
   "cell_type": "markdown",
   "id": "b2844f53",
   "metadata": {},
   "source": [
    "It appears that only the inclusion of homeruns and RBIs improve the fit. In fact, the F-statistic generated for this pair $(p = 0.000002)$ is better than the value generated when bavg is add $(p = 0.000004)$"
   ]
  },
  {
   "cell_type": "code",
   "execution_count": 20,
   "id": "e150d9e5",
   "metadata": {},
   "outputs": [
    {
     "data": {
      "text/html": [
       "<div>\n",
       "<style scoped>\n",
       "    .dataframe tbody tr th:only-of-type {\n",
       "        vertical-align: middle;\n",
       "    }\n",
       "\n",
       "    .dataframe tbody tr th {\n",
       "        vertical-align: top;\n",
       "    }\n",
       "\n",
       "    .dataframe thead th {\n",
       "        text-align: right;\n",
       "    }\n",
       "</style>\n",
       "<table border=\"1\" class=\"dataframe\">\n",
       "  <thead>\n",
       "    <tr style=\"text-align: right;\">\n",
       "      <th></th>\n",
       "      <th>'bavg = 0', 'hrunsyr = 0', 'rbisyr = 0'</th>\n",
       "      <th>bavg = 0</th>\n",
       "      <th>hrunsyr = 0</th>\n",
       "      <th>rbisyr = 0</th>\n",
       "      <th>'bavg = 0', 'rbisyr = 4*hrunsyr'</th>\n",
       "    </tr>\n",
       "  </thead>\n",
       "  <tbody>\n",
       "    <tr>\n",
       "      <th>F-stat</th>\n",
       "      <td>9.550254</td>\n",
       "      <td>0.786433</td>\n",
       "      <td>0.807557</td>\n",
       "      <td>2.251377</td>\n",
       "      <td>0.499114</td>\n",
       "    </tr>\n",
       "    <tr>\n",
       "      <th>P_F</th>\n",
       "      <td>0.000004</td>\n",
       "      <td>0.375795</td>\n",
       "      <td>0.369467</td>\n",
       "      <td>0.134405</td>\n",
       "      <td>0.607504</td>\n",
       "    </tr>\n",
       "  </tbody>\n",
       "</table>\n",
       "</div>"
      ],
      "text/plain": [
       "        'bavg = 0', 'hrunsyr = 0', 'rbisyr = 0'  bavg = 0  hrunsyr = 0  \\\n",
       "F-stat                                 9.550254  0.786433     0.807557   \n",
       "P_F                                    0.000004  0.375795     0.369467   \n",
       "\n",
       "        rbisyr = 0  'bavg = 0', 'rbisyr = 4*hrunsyr'  \n",
       "F-stat    2.251377                          0.499114  \n",
       "P_F       0.134405                          0.607504  "
      ]
     },
     "execution_count": 20,
     "metadata": {},
     "output_type": "execute_result"
    }
   ],
   "source": [
    "hypotheses = [\"bavg = 0\", \"rbisyr = 4*hrunsyr\"]\n",
    "key = str(hypotheses).replace(\"[\",\"\").replace(\"]\", \"\")\n",
    "f_test_results[key] = {}\n",
    "ftest = results.f_test(hypotheses)\n",
    "f_test_results[key][\"F-stat\"] = ftest.statistic\n",
    "f_test_results[key][\"P_F\"]= ftest.pvalue\n",
    "pd.DataFrame(f_test_results)"
   ]
  },
  {
   "cell_type": "markdown",
   "id": "f88de0d3",
   "metadata": {},
   "source": [
    "### <center>Gauss-Markov Assumptions</center>\n",
    "\n",
    "|Assumption No.|Brief Summary|Description|\n",
    "|---|---|---|\n",
    "|$MLR.1$| Linear in Parameters: $$y = \\beta_0 + \\beta_1x+u$$| In the population model, the dependent variable, $y$, is related to the independent variable, $x$, and the error term, $u$ where $\\beta_0$ and $\\beta_1$ are the population intercept and slope parameters, respectively. Assumption $MLR.1$ describes the population relationship we hope to estimate, and explicitly sets out the $\\beta_j$ - the ceteris paribus population effects on the $x_j$ and $y$ 0 as the parameters of interest.|\n",
    "|$MLR.2$| Random Sampling of $x$ and $y$ from the Population|We have a random sample of size $n$, ${(x_i,y_i): i = 1,2,...,n}$, following the population model in Assumption $MLR.1$. This random sampling assumption means that we have data that can be used to estimate the $\\beta_j$, and that the data have been chosen to be representative of the population described in Assumption $MLR.1$|\n",
    "|$MLR.3$| No Perfect Collinearity | In the sample (and therefore the population), none of the independent variables is constant, and there are no exact _linear_ relationships among the independent variables. Once we have a sample of data, we need to know that we can use the data to compute the OLS estimates, the $\\hat{\\beta_j}$. This is the role of Assumption $MLR.3$ if we have sample variation in each independent variable and no exact linear relationships among the independent variables, we can compute the $\\hat{\\beta_j}$.|\n",
    "|$MLR.4$| Zero Conditional Mean: $E(u|x_1, x_2, . . . , x_k)=0$|The error $u$ has an expected value of zero given any values of the explanatory variables. Assuming that the unobserved factors are, on average, unrelated to the explanatory variables is key to deriving the first statistical property of each OLS estimator: its unbiasedness for the corresponding population parameter.|\n",
    "|$MLR.5$| Homoscedasticity: $Var(u|x_1, x_2, . . . , x_k) = \\sigma^2$|The error $u$ has constant variance given any value of the explanatory variables. Compared with Assumption $MLR.4$, the homoskedasticity assumption is of secondary importance; in particular, Assumption $MLR.5$ has no bearing on the unbiasedness of the $\\hat{\\beta_j}$ Still, homoskedasticity has two important implications: (1) We can derive formulas for the sampling variances whose components are easy to characterize; (2) We can conclusde, under the Gauss-Markov assumptions $MLR.1$ through $MLR.5$, that the OLS estimators have smallest variances among _all_ linear, unbiased estimators.|\n",
    "|$MLR.6$| Normality: $u ~ Normal(0, \\sigma^2)$|The population error $u$ is independent of the explanatory variables $x_1, x_2, . . . , x_k$) and is normally distributed withe zero mean and variabce $\\sigma^2$. This assumption obtains the exact sampling distributions of t statistics and F statistics, so that we can carry out exact hypotheses tests. This assumption can be dropped if we have a reasonablly large sample size. This assumption does imply a stronger efficiency property of OLS: the OLS estimators have smallest variance among _all_ unbiased estimators; the comparison group is no longer restricted to estimators linear in the set $\\{y_i:i=1,2,...,n\\}$|"
   ]
  }
 ],
 "metadata": {
  "kernelspec": {
   "display_name": "Python 3 (ipykernel)",
   "language": "python",
   "name": "python3"
  },
  "language_info": {
   "codemirror_mode": {
    "name": "ipython",
    "version": 3
   },
   "file_extension": ".py",
   "mimetype": "text/x-python",
   "name": "python",
   "nbconvert_exporter": "python",
   "pygments_lexer": "ipython3",
   "version": "3.9.12"
  }
 },
 "nbformat": 4,
 "nbformat_minor": 5
}
