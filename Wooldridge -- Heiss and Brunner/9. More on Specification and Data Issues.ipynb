{
 "cells": [
  {
   "cell_type": "code",
   "execution_count": 1,
   "id": "c0339402",
   "metadata": {},
   "outputs": [],
   "source": [
    "from supplementaryFunctions import *\n",
    "import wooldridge as woo\n",
    "import pandas as pd\n",
    "import statsmodels.api as sm\n",
    "import statsmodels.formula.api as smf\n",
    "import statsmodels.stats.outliers_influence as smo\n",
    "import scipy.stats as stats\n",
    "import matplotlib.pyplot as plt"
   ]
  },
  {
   "cell_type": "markdown",
   "id": "12dc1b77",
   "metadata": {},
   "source": [
    "# 9. More on Specification and Data Issues\n",
    "## 9.1. Functional Form Mispecifications\n",
    "\n",
    "### Ramsay Reset Test\n",
    "\n",
    "Ramsey Reset Test checks if addition of transformation of the estimator (raising to powers greater than 1) improves explanation of variance. By running an F-test, we can test if the addition of the transformed estimator as part of the set of explanatory variables improves the explanatory power of the regression.\n",
    "\n",
    "### Example 9.2: Housing Price Equation"
   ]
  },
  {
   "cell_type": "code",
   "execution_count": 2,
   "id": "82a3f1df",
   "metadata": {},
   "outputs": [
    {
     "data": {
      "text/html": [
       "<div>\n",
       "<style scoped>\n",
       "    .dataframe tbody tr th:only-of-type {\n",
       "        vertical-align: middle;\n",
       "    }\n",
       "\n",
       "    .dataframe tbody tr th {\n",
       "        vertical-align: top;\n",
       "    }\n",
       "\n",
       "    .dataframe thead th {\n",
       "        text-align: right;\n",
       "    }\n",
       "</style>\n",
       "<table border=\"1\" class=\"dataframe\">\n",
       "  <thead>\n",
       "    <tr style=\"text-align: right;\">\n",
       "      <th></th>\n",
       "      <th>$\\beta $</th>\n",
       "      <th>$t$</th>\n",
       "      <th>$$P&gt;|t|$$</th>\n",
       "      <th>$SE$</th>\n",
       "    </tr>\n",
       "    <tr>\n",
       "      <th>$$r^2: 0.6724$$</th>\n",
       "      <th></th>\n",
       "      <th></th>\n",
       "      <th></th>\n",
       "      <th></th>\n",
       "    </tr>\n",
       "  </thead>\n",
       "  <tbody>\n",
       "    <tr>\n",
       "      <th>Intercept</th>\n",
       "      <td>-21.7703</td>\n",
       "      <td>-0.7386</td>\n",
       "      <td>0.4622</td>\n",
       "      <td>29.4750</td>\n",
       "    </tr>\n",
       "    <tr>\n",
       "      <th>lotsize</th>\n",
       "      <td>0.0021</td>\n",
       "      <td>3.2201</td>\n",
       "      <td>0.0018</td>\n",
       "      <td>0.0006</td>\n",
       "    </tr>\n",
       "    <tr>\n",
       "      <th>sqrft</th>\n",
       "      <td>0.1228</td>\n",
       "      <td>9.2751</td>\n",
       "      <td>0.0000</td>\n",
       "      <td>0.0132</td>\n",
       "    </tr>\n",
       "    <tr>\n",
       "      <th>bdrms</th>\n",
       "      <td>13.8525</td>\n",
       "      <td>1.5374</td>\n",
       "      <td>0.1279</td>\n",
       "      <td>9.0101</td>\n",
       "    </tr>\n",
       "  </tbody>\n",
       "</table>\n",
       "</div>"
      ],
      "text/plain": [
       "                 $\\beta $     $t$  $$P>|t|$$     $SE$\n",
       "$$r^2: 0.6724$$                                      \n",
       "Intercept        -21.7703 -0.7386     0.4622  29.4750\n",
       "lotsize            0.0021  3.2201     0.0018   0.0006\n",
       "sqrft              0.1228  9.2751     0.0000   0.0132\n",
       "bdrms             13.8525  1.5374     0.1279   9.0101"
      ]
     },
     "execution_count": 2,
     "metadata": {},
     "output_type": "execute_result"
    }
   ],
   "source": [
    "hprice1 = woo.dataWoo(\"hprice1\")\n",
    "formula = \"price ~ lotsize + sqrft + bdrms\"\n",
    "reg = smf.ols(formula = formula,\n",
    "             data = hprice1)\n",
    "results = reg.fit()\n",
    "OLS_summary(results)"
   ]
  },
  {
   "cell_type": "code",
   "execution_count": 3,
   "id": "fe69bbfd",
   "metadata": {},
   "outputs": [
    {
     "data": {
      "text/html": [
       "<div>\n",
       "<style scoped>\n",
       "    .dataframe tbody tr th:only-of-type {\n",
       "        vertical-align: middle;\n",
       "    }\n",
       "\n",
       "    .dataframe tbody tr th {\n",
       "        vertical-align: top;\n",
       "    }\n",
       "\n",
       "    .dataframe thead th {\n",
       "        text-align: right;\n",
       "    }\n",
       "</style>\n",
       "<table border=\"1\" class=\"dataframe\">\n",
       "  <thead>\n",
       "    <tr style=\"text-align: right;\">\n",
       "      <th></th>\n",
       "      <th>$\\beta $</th>\n",
       "      <th>$t$</th>\n",
       "      <th>$$P&gt;|t|$$</th>\n",
       "      <th>$SE$</th>\n",
       "    </tr>\n",
       "    <tr>\n",
       "      <th>$$r^2: 0.7059$$</th>\n",
       "      <th></th>\n",
       "      <th></th>\n",
       "      <th></th>\n",
       "      <th></th>\n",
       "    </tr>\n",
       "  </thead>\n",
       "  <tbody>\n",
       "    <tr>\n",
       "      <th>Intercept</th>\n",
       "      <td>166.0973</td>\n",
       "      <td>0.5233</td>\n",
       "      <td>0.6022</td>\n",
       "      <td>317.4325</td>\n",
       "    </tr>\n",
       "    <tr>\n",
       "      <th>lotsize</th>\n",
       "      <td>0.0002</td>\n",
       "      <td>0.0295</td>\n",
       "      <td>0.9765</td>\n",
       "      <td>0.0052</td>\n",
       "    </tr>\n",
       "    <tr>\n",
       "      <th>sqrft</th>\n",
       "      <td>0.0176</td>\n",
       "      <td>0.0588</td>\n",
       "      <td>0.9532</td>\n",
       "      <td>0.2993</td>\n",
       "    </tr>\n",
       "    <tr>\n",
       "      <th>bdrms</th>\n",
       "      <td>2.1749</td>\n",
       "      <td>0.0642</td>\n",
       "      <td>0.9490</td>\n",
       "      <td>33.8881</td>\n",
       "    </tr>\n",
       "    <tr>\n",
       "      <th>fitted_sq</th>\n",
       "      <td>0.0004</td>\n",
       "      <td>0.0498</td>\n",
       "      <td>0.9604</td>\n",
       "      <td>0.0071</td>\n",
       "    </tr>\n",
       "    <tr>\n",
       "      <th>fitted_cube</th>\n",
       "      <td>0.0000</td>\n",
       "      <td>0.2358</td>\n",
       "      <td>0.8142</td>\n",
       "      <td>0.0000</td>\n",
       "    </tr>\n",
       "  </tbody>\n",
       "</table>\n",
       "</div>"
      ],
      "text/plain": [
       "                 $\\beta $     $t$  $$P>|t|$$      $SE$\n",
       "$$r^2: 0.7059$$                                       \n",
       "Intercept        166.0973  0.5233     0.6022  317.4325\n",
       "lotsize            0.0002  0.0295     0.9765    0.0052\n",
       "sqrft              0.0176  0.0588     0.9532    0.2993\n",
       "bdrms              2.1749  0.0642     0.9490   33.8881\n",
       "fitted_sq          0.0004  0.0498     0.9604    0.0071\n",
       "fitted_cube        0.0000  0.2358     0.8142    0.0000"
      ]
     },
     "execution_count": 3,
     "metadata": {},
     "output_type": "execute_result"
    }
   ],
   "source": [
    "#regression for RESET test:\n",
    "hprice1[\"fitted_sq\"] = results.fittedvalues ** 2\n",
    "hprice1[\"fitted_cube\"] = results.fittedvalues ** 3\n",
    "reset_formula = formula + \" + fitted_sq + fitted_cube\"\n",
    "reg_reset = smf.ols(formula = reset_formula,\n",
    "                   data = hprice1)\n",
    "results_reset = reg_reset.fit()\n",
    "OLS_summary(results_reset)"
   ]
  },
  {
   "cell_type": "code",
   "execution_count": 4,
   "id": "866ec0f8",
   "metadata": {},
   "outputs": [
    {
     "data": {
      "text/html": [
       "<div>\n",
       "<style scoped>\n",
       "    .dataframe tbody tr th:only-of-type {\n",
       "        vertical-align: middle;\n",
       "    }\n",
       "\n",
       "    .dataframe tbody tr th {\n",
       "        vertical-align: top;\n",
       "    }\n",
       "\n",
       "    .dataframe thead th {\n",
       "        text-align: right;\n",
       "    }\n",
       "</style>\n",
       "<table border=\"1\" class=\"dataframe\">\n",
       "  <thead>\n",
       "    <tr style=\"text-align: right;\">\n",
       "      <th></th>\n",
       "      <th>Manual</th>\n",
       "      <th>Auto</th>\n",
       "    </tr>\n",
       "  </thead>\n",
       "  <tbody>\n",
       "    <tr>\n",
       "      <th>statistic</th>\n",
       "      <td>4.668206</td>\n",
       "      <td>4.668206</td>\n",
       "    </tr>\n",
       "    <tr>\n",
       "      <th>p-value</th>\n",
       "      <td>0.012022</td>\n",
       "      <td>0.012022</td>\n",
       "    </tr>\n",
       "  </tbody>\n",
       "</table>\n",
       "</div>"
      ],
      "text/plain": [
       "             Manual      Auto\n",
       "statistic  4.668206  4.668206\n",
       "p-value    0.012022  0.012022"
      ]
     },
     "execution_count": 4,
     "metadata": {},
     "output_type": "execute_result"
    }
   ],
   "source": [
    "reset_tests = {\"Manual\":{},\n",
    "              \"Auto\":{}} \n",
    "hypotheses = [\"fitted_sq = 0\", \"fitted_cube = 0\"]\n",
    "ftest_man = results_reset.f_test(hypotheses)\n",
    "reset_tests[\"Manual\"][\"statistic\"] = ftest_man.statistic\n",
    "reset_tests[\"Manual\"][\"p-value\"] = ftest_man.pvalue\n",
    "\n",
    "reset_test = smo.reset_ramsey(res = results, degree = 3)\n",
    "reset_tests[\"Auto\"][\"statistic\"] = reset_test.statistic\n",
    "reset_tests[\"Auto\"][\"p-value\"] = reset_test.pvalue\n",
    "pd.DataFrame(reset_tests)"
   ]
  },
  {
   "cell_type": "code",
   "execution_count": 5,
   "id": "18ebd59c",
   "metadata": {},
   "outputs": [],
   "source": [
    "formulas = {}\n",
    "formulas[1] = \"price ~ lotsize + sqrft + bdrms\"\n",
    "formulas[2] = \"price ~ np.log(lotsize) + np.log(sqrft) + bdrms\"\n",
    "formulas[3] = \"price ~ lotsize + sqrft + bdrms + np.log(lotsize) + np.log(sqrft)\"\n",
    "regs = {}\n",
    "results = {}\n",
    "\n",
    "for i, formula in formulas.items():\n",
    "    regs[i] = smf.ols(formula = formula,\n",
    "                    data = hprice1)\n",
    "    results[i] = regs[i].fit()\n",
    "anova_results = {}\n",
    "for i in range(1,3):\n",
    "    anova_results[i] = sm.stats.anova_lm(results[i], results[3])"
   ]
  },
  {
   "cell_type": "code",
   "execution_count": 6,
   "id": "0379b0f5",
   "metadata": {},
   "outputs": [
    {
     "data": {
      "text/html": [
       "<div>\n",
       "<style scoped>\n",
       "    .dataframe tbody tr th:only-of-type {\n",
       "        vertical-align: middle;\n",
       "    }\n",
       "\n",
       "    .dataframe tbody tr th {\n",
       "        vertical-align: top;\n",
       "    }\n",
       "\n",
       "    .dataframe thead th {\n",
       "        text-align: right;\n",
       "    }\n",
       "</style>\n",
       "<table border=\"1\" class=\"dataframe\">\n",
       "  <thead>\n",
       "    <tr style=\"text-align: right;\">\n",
       "      <th></th>\n",
       "      <th>df_resid</th>\n",
       "      <th>ssr</th>\n",
       "      <th>df_diff</th>\n",
       "      <th>ss_diff</th>\n",
       "      <th>F</th>\n",
       "      <th>Pr(&gt;F)</th>\n",
       "    </tr>\n",
       "  </thead>\n",
       "  <tbody>\n",
       "    <tr>\n",
       "      <th>0</th>\n",
       "      <td>84.0</td>\n",
       "      <td>300723.805123</td>\n",
       "      <td>0.0</td>\n",
       "      <td>NaN</td>\n",
       "      <td>NaN</td>\n",
       "      <td>NaN</td>\n",
       "    </tr>\n",
       "    <tr>\n",
       "      <th>1</th>\n",
       "      <td>82.0</td>\n",
       "      <td>252340.364481</td>\n",
       "      <td>2.0</td>\n",
       "      <td>48383.440642</td>\n",
       "      <td>7.861291</td>\n",
       "      <td>0.000753</td>\n",
       "    </tr>\n",
       "  </tbody>\n",
       "</table>\n",
       "</div>"
      ],
      "text/plain": [
       "   df_resid            ssr  df_diff       ss_diff         F    Pr(>F)\n",
       "0      84.0  300723.805123      0.0           NaN       NaN       NaN\n",
       "1      82.0  252340.364481      2.0  48383.440642  7.861291  0.000753"
      ]
     },
     "execution_count": 6,
     "metadata": {},
     "output_type": "execute_result"
    }
   ],
   "source": [
    "anova_results[1]"
   ]
  },
  {
   "cell_type": "code",
   "execution_count": 7,
   "id": "47a54991",
   "metadata": {},
   "outputs": [
    {
     "data": {
      "text/html": [
       "<div>\n",
       "<style scoped>\n",
       "    .dataframe tbody tr th:only-of-type {\n",
       "        vertical-align: middle;\n",
       "    }\n",
       "\n",
       "    .dataframe tbody tr th {\n",
       "        vertical-align: top;\n",
       "    }\n",
       "\n",
       "    .dataframe thead th {\n",
       "        text-align: right;\n",
       "    }\n",
       "</style>\n",
       "<table border=\"1\" class=\"dataframe\">\n",
       "  <thead>\n",
       "    <tr style=\"text-align: right;\">\n",
       "      <th></th>\n",
       "      <th>df_resid</th>\n",
       "      <th>ssr</th>\n",
       "      <th>df_diff</th>\n",
       "      <th>ss_diff</th>\n",
       "      <th>F</th>\n",
       "      <th>Pr(&gt;F)</th>\n",
       "    </tr>\n",
       "  </thead>\n",
       "  <tbody>\n",
       "    <tr>\n",
       "      <th>0</th>\n",
       "      <td>84.0</td>\n",
       "      <td>295735.273607</td>\n",
       "      <td>0.0</td>\n",
       "      <td>NaN</td>\n",
       "      <td>NaN</td>\n",
       "      <td>NaN</td>\n",
       "    </tr>\n",
       "    <tr>\n",
       "      <th>1</th>\n",
       "      <td>82.0</td>\n",
       "      <td>252340.364481</td>\n",
       "      <td>2.0</td>\n",
       "      <td>43394.909126</td>\n",
       "      <td>7.05076</td>\n",
       "      <td>0.001494</td>\n",
       "    </tr>\n",
       "  </tbody>\n",
       "</table>\n",
       "</div>"
      ],
      "text/plain": [
       "   df_resid            ssr  df_diff       ss_diff        F    Pr(>F)\n",
       "0      84.0  295735.273607      0.0           NaN      NaN       NaN\n",
       "1      82.0  252340.364481      2.0  43394.909126  7.05076  0.001494"
      ]
     },
     "execution_count": 7,
     "metadata": {},
     "output_type": "execute_result"
    }
   ],
   "source": [
    "anova_results[2]"
   ]
  },
  {
   "cell_type": "markdown",
   "id": "9e3b7373",
   "metadata": {},
   "source": [
    "The comprehensive model, saved in _results[3]_ generates a statistically significant and differenty mean. We can recreate the result using the _f_test_ method from _results[3]_. Notice that the F-test is really just testing whether there is a statistically significant difference in means between the full regression and the limited regressions."
   ]
  },
  {
   "cell_type": "code",
   "execution_count": 8,
   "id": "d5a423e3",
   "metadata": {},
   "outputs": [
    {
     "data": {
      "text/plain": [
       "<class 'statsmodels.stats.contrast.ContrastResults'>\n",
       "<F test: F=7.861291119232879, p=0.0007526198013482312, df_denom=82, df_num=2>"
      ]
     },
     "execution_count": 8,
     "metadata": {},
     "output_type": "execute_result"
    }
   ],
   "source": [
    "results[3].f_test([\"np.log(lotsize) = 0\", \"np.log(sqrft) = 0\"])"
   ]
  },
  {
   "cell_type": "code",
   "execution_count": 9,
   "id": "42d473ac",
   "metadata": {},
   "outputs": [
    {
     "data": {
      "text/plain": [
       "<class 'statsmodels.stats.contrast.ContrastResults'>\n",
       "<F test: F=7.050759706341078, p=0.0014942646700362048, df_denom=82, df_num=2>"
      ]
     },
     "execution_count": 9,
     "metadata": {},
     "output_type": "execute_result"
    }
   ],
   "source": [
    "results[3].f_test([\"lotsize = 0\", \"sqrft = 0\"])"
   ]
  },
  {
   "cell_type": "markdown",
   "id": "fba6bb43",
   "metadata": {},
   "source": [
    "## 9.2. Measurement Error\n",
    "$$y^* = \\beta_0 + \\beta_1x + u$$\n",
    "\n",
    "$$y = y^* + e_0$$"
   ]
  },
  {
   "cell_type": "code",
   "execution_count": 10,
   "id": "2a7f1181",
   "metadata": {},
   "outputs": [],
   "source": [
    "# measurement error in dependent variable\n",
    "n = 1000\n",
    "r = 10000\n",
    "\n",
    "np.random.seed(1)\n",
    "beta0 = 1\n",
    "beta1 = 0.5\n",
    "\n",
    "b1 = np.empty(r)\n",
    "b1_me = np.empty(r)\n",
    "\n",
    "# draw a sample of x\n",
    "x = stats.norm.rvs(4,1, size = n)\n",
    "\n",
    "for i in range(r):\n",
    "    u = stats.norm.rvs(0, 1, size = n)\n",
    "    \n",
    "    ystar = beta0 + beta1 * x + u\n",
    "    \n",
    "    e0 = stats.norm.rvs(0, 1, size = n)\n",
    "    y = ystar + e0\n",
    "    df = pd.DataFrame({\"$y^*$\":ystar,\n",
    "                      \"y\":y,\n",
    "                      \"x\":x})\n",
    "    \n",
    "    formula = \"ystar ~ x\"\n",
    "    reg_star = smf.ols(formula = formula, \n",
    "                       data = df)\n",
    "    results_star = reg_star.fit()\n",
    "    b1[i] = results_star.params[\"x\"]\n",
    "    \n",
    "    formula = \"y ~ x\"\n",
    "    reg_me = smf.ols(formula = formula, \n",
    "                       data = df)\n",
    "    results_me = reg_me.fit()\n",
    "    b1_me[i] = results_me.params[\"x\"]\n",
    "b1s_dep_me = pd.DataFrame([b1, b1_me], index = [\"$$\\\\beta_1$$\", \"$$\\\\beta_{1_{ME}}$$\"]).T\n"
   ]
  },
  {
   "cell_type": "code",
   "execution_count": 11,
   "id": "d620635e",
   "metadata": {},
   "outputs": [],
   "source": [
    "# measurement error in explanatory variable\n",
    "n = 1000\n",
    "r = 10000\n",
    "\n",
    "np.random.seed(1)\n",
    "beta0 = 1\n",
    "beta1 = 0.5\n",
    "\n",
    "b1 = np.empty(r)\n",
    "b1_me = np.empty(r)\n",
    "\n",
    "# draw a sample of x\n",
    "xstar = stats.norm.rvs(4,1, size = n)\n",
    "\n",
    "for i in range(r):\n",
    "    u = stats.norm.rvs(0, 1, size = n)\n",
    "    \n",
    "    y = beta0 + beta1 * xstar + u\n",
    "    \n",
    "    e1 = stats.norm.rvs(0, 1, size = n)\n",
    "    x = xstar + e1\n",
    "    df = pd.DataFrame({\"y\":y,\n",
    "                       \"$x^*$\":xstar,\n",
    "                       \"x\":x})\n",
    "    \n",
    "    formula = \"y ~ xstar\"\n",
    "    reg_star = smf.ols(formula = formula, \n",
    "                       data = df)\n",
    "    results_star = reg_star.fit()\n",
    "    b1[i] = results_star.params[\"xstar\"]\n",
    "    \n",
    "    formula = \"y ~ x\"\n",
    "    reg_me = smf.ols(formula = formula, \n",
    "                       data = df)\n",
    "    results_me = reg_me.fit()\n",
    "    b1_me[i] = results_me.params[\"x\"]\n",
    "b1s_explanatory_me = pd.DataFrame([b1, b1_me], index = [\"$$\\\\beta_1$$\", \"$$\\\\beta_{1_{ME}}$$\"]).T\n"
   ]
  },
  {
   "cell_type": "markdown",
   "id": "2fe31298",
   "metadata": {},
   "source": [
    "The measurement error in the dependent variable do not significantly impact the mean of the estimator. However, when there is error in the measurement of the explanatory variable, the parameter estimate for that explanator variable changes significantly."
   ]
  },
  {
   "cell_type": "code",
   "execution_count": 12,
   "id": "49d658da",
   "metadata": {},
   "outputs": [
    {
     "data": {
      "text/html": [
       "<div>\n",
       "<style scoped>\n",
       "    .dataframe tbody tr th:only-of-type {\n",
       "        vertical-align: middle;\n",
       "    }\n",
       "\n",
       "    .dataframe tbody tr th {\n",
       "        vertical-align: top;\n",
       "    }\n",
       "\n",
       "    .dataframe thead th {\n",
       "        text-align: right;\n",
       "    }\n",
       "</style>\n",
       "<table border=\"1\" class=\"dataframe\">\n",
       "  <thead>\n",
       "    <tr style=\"text-align: right;\">\n",
       "      <th></th>\n",
       "      <th>$$\\beta_1$$</th>\n",
       "      <th>$$\\beta_{1_{ME}}$$</th>\n",
       "    </tr>\n",
       "  </thead>\n",
       "  <tbody>\n",
       "    <tr>\n",
       "      <th>mean</th>\n",
       "      <td>0.500199</td>\n",
       "      <td>0.500046</td>\n",
       "    </tr>\n",
       "    <tr>\n",
       "      <th>std</th>\n",
       "      <td>0.032333</td>\n",
       "      <td>0.045716</td>\n",
       "    </tr>\n",
       "  </tbody>\n",
       "</table>\n",
       "</div>"
      ],
      "text/plain": [
       "      $$\\beta_1$$  $$\\beta_{1_{ME}}$$\n",
       "mean     0.500199            0.500046\n",
       "std      0.032333            0.045716"
      ]
     },
     "execution_count": 12,
     "metadata": {},
     "output_type": "execute_result"
    }
   ],
   "source": [
    "b1s_dep_me.describe().loc[[\"mean\", \"std\"]]"
   ]
  },
  {
   "cell_type": "code",
   "execution_count": 13,
   "id": "a21264af",
   "metadata": {},
   "outputs": [
    {
     "data": {
      "text/html": [
       "<div>\n",
       "<style scoped>\n",
       "    .dataframe tbody tr th:only-of-type {\n",
       "        vertical-align: middle;\n",
       "    }\n",
       "\n",
       "    .dataframe tbody tr th {\n",
       "        vertical-align: top;\n",
       "    }\n",
       "\n",
       "    .dataframe thead th {\n",
       "        text-align: right;\n",
       "    }\n",
       "</style>\n",
       "<table border=\"1\" class=\"dataframe\">\n",
       "  <thead>\n",
       "    <tr style=\"text-align: right;\">\n",
       "      <th></th>\n",
       "      <th>$$\\beta_1$$</th>\n",
       "      <th>$$\\beta_{1_{ME}}$$</th>\n",
       "    </tr>\n",
       "  </thead>\n",
       "  <tbody>\n",
       "    <tr>\n",
       "      <th>mean</th>\n",
       "      <td>0.500199</td>\n",
       "      <td>0.245610</td>\n",
       "    </tr>\n",
       "    <tr>\n",
       "      <th>std</th>\n",
       "      <td>0.032333</td>\n",
       "      <td>0.023309</td>\n",
       "    </tr>\n",
       "  </tbody>\n",
       "</table>\n",
       "</div>"
      ],
      "text/plain": [
       "      $$\\beta_1$$  $$\\beta_{1_{ME}}$$\n",
       "mean     0.500199            0.245610\n",
       "std      0.032333            0.023309"
      ]
     },
     "execution_count": 13,
     "metadata": {},
     "output_type": "execute_result"
    }
   ],
   "source": [
    "b1s_explanatory_me.describe().loc[[\"mean\", \"std\"]]"
   ]
  },
  {
   "cell_type": "markdown",
   "id": "1a6addc4",
   "metadata": {},
   "source": [
    "## 9.3. Missing Data and Nonrandom Samples"
   ]
  },
  {
   "cell_type": "code",
   "execution_count": 17,
   "id": "a97645a7",
   "metadata": {},
   "outputs": [
    {
     "name": "stderr",
     "output_type": "stream",
     "text": [
      "C:\\Users\\JLCat\\AppData\\Local\\Temp\\ipykernel_7960\\307626928.py:4: RuntimeWarning: divide by zero encountered in log\n",
      "  data[\"logx\"] = np.log(data[\"x\"])\n",
      "C:\\Users\\JLCat\\AppData\\Local\\Temp\\ipykernel_7960\\307626928.py:4: RuntimeWarning: invalid value encountered in log\n",
      "  data[\"logx\"] = np.log(data[\"x\"])\n",
      "C:\\Users\\JLCat\\AppData\\Local\\Temp\\ipykernel_7960\\307626928.py:5: RuntimeWarning: divide by zero encountered in true_divide\n",
      "  invx = 1 / data[\"x\"]\n"
     ]
    },
    {
     "data": {
      "text/html": [
       "<div>\n",
       "<style scoped>\n",
       "    .dataframe tbody tr th:only-of-type {\n",
       "        vertical-align: middle;\n",
       "    }\n",
       "\n",
       "    .dataframe tbody tr th {\n",
       "        vertical-align: top;\n",
       "    }\n",
       "\n",
       "    .dataframe thead th {\n",
       "        text-align: right;\n",
       "    }\n",
       "</style>\n",
       "<table border=\"1\" class=\"dataframe\">\n",
       "  <thead>\n",
       "    <tr style=\"text-align: right;\">\n",
       "      <th></th>\n",
       "      <th>x</th>\n",
       "      <th>logx</th>\n",
       "      <th>ncdf</th>\n",
       "    </tr>\n",
       "  </thead>\n",
       "  <tbody>\n",
       "    <tr>\n",
       "      <th>0</th>\n",
       "      <td>-1.0</td>\n",
       "      <td>NaN</td>\n",
       "      <td>0.158655</td>\n",
       "    </tr>\n",
       "    <tr>\n",
       "      <th>1</th>\n",
       "      <td>0.0</td>\n",
       "      <td>-inf</td>\n",
       "      <td>0.500000</td>\n",
       "    </tr>\n",
       "    <tr>\n",
       "      <th>2</th>\n",
       "      <td>1.0</td>\n",
       "      <td>0.0</td>\n",
       "      <td>0.841345</td>\n",
       "    </tr>\n",
       "    <tr>\n",
       "      <th>3</th>\n",
       "      <td>NaN</td>\n",
       "      <td>NaN</td>\n",
       "      <td>NaN</td>\n",
       "    </tr>\n",
       "    <tr>\n",
       "      <th>4</th>\n",
       "      <td>inf</td>\n",
       "      <td>inf</td>\n",
       "      <td>1.000000</td>\n",
       "    </tr>\n",
       "    <tr>\n",
       "      <th>5</th>\n",
       "      <td>-inf</td>\n",
       "      <td>NaN</td>\n",
       "      <td>0.000000</td>\n",
       "    </tr>\n",
       "  </tbody>\n",
       "</table>\n",
       "</div>"
      ],
      "text/plain": [
       "     x  logx      ncdf\n",
       "0 -1.0   NaN  0.158655\n",
       "1  0.0  -inf  0.500000\n",
       "2  1.0   0.0  0.841345\n",
       "3  NaN   NaN       NaN\n",
       "4  inf   inf  1.000000\n",
       "5 -inf   NaN  0.000000"
      ]
     },
     "execution_count": 17,
     "metadata": {},
     "output_type": "execute_result"
    }
   ],
   "source": [
    "# nan and inf handling in numpy\n",
    "data = {}\n",
    "data[\"x\"] = np.array([-1, 0, 1, np.nan, np.inf, -np.inf])\n",
    "data[\"logx\"] = np.log(data[\"x\"])\n",
    "invx = 1 / data[\"x\"]\n",
    "data[\"ncdf\"] = stats.norm.cdf(data[\"x\"])\n",
    "isnanx = np.isnan(data[\"x\"])\n",
    "\n",
    "results = pd.DataFrame(data)\n",
    "results"
   ]
  },
  {
   "cell_type": "code",
   "execution_count": 24,
   "id": "9ec87a47",
   "metadata": {},
   "outputs": [
    {
     "data": {
      "text/plain": [
       "False    150\n",
       "True       6\n",
       "Name: LSAT, dtype: int64"
      ]
     },
     "execution_count": 24,
     "metadata": {},
     "output_type": "execute_result"
    }
   ],
   "source": [
    "lawsch85 = woo.dataWoo(\"lawsch85\")\n",
    "last_pd = lawsch85[\"LSAT\"]\n",
    "last_pd.isna().value_counts()"
   ]
  },
  {
   "cell_type": "code",
   "execution_count": 25,
   "id": "2c17071d",
   "metadata": {},
   "outputs": [
    {
     "data": {
      "text/html": [
       "<div>\n",
       "<style scoped>\n",
       "    .dataframe tbody tr th:only-of-type {\n",
       "        vertical-align: middle;\n",
       "    }\n",
       "\n",
       "    .dataframe tbody tr th {\n",
       "        vertical-align: top;\n",
       "    }\n",
       "\n",
       "    .dataframe thead th {\n",
       "        text-align: right;\n",
       "    }\n",
       "</style>\n",
       "<table border=\"1\" class=\"dataframe\">\n",
       "  <thead>\n",
       "    <tr style=\"text-align: right;\">\n",
       "      <th></th>\n",
       "      <th>rank</th>\n",
       "      <th>salary</th>\n",
       "      <th>cost</th>\n",
       "      <th>LSAT</th>\n",
       "      <th>GPA</th>\n",
       "      <th>libvol</th>\n",
       "      <th>faculty</th>\n",
       "      <th>age</th>\n",
       "      <th>clsize</th>\n",
       "      <th>north</th>\n",
       "      <th>...</th>\n",
       "      <th>east</th>\n",
       "      <th>west</th>\n",
       "      <th>lsalary</th>\n",
       "      <th>studfac</th>\n",
       "      <th>top10</th>\n",
       "      <th>r11_25</th>\n",
       "      <th>r26_40</th>\n",
       "      <th>r41_60</th>\n",
       "      <th>llibvol</th>\n",
       "      <th>lcost</th>\n",
       "    </tr>\n",
       "  </thead>\n",
       "  <tbody>\n",
       "    <tr>\n",
       "      <th>24</th>\n",
       "      <td>133</td>\n",
       "      <td>NaN</td>\n",
       "      <td>10808.0</td>\n",
       "      <td>NaN</td>\n",
       "      <td>NaN</td>\n",
       "      <td>290.0</td>\n",
       "      <td>72.0</td>\n",
       "      <td>26.0</td>\n",
       "      <td>300.0</td>\n",
       "      <td>1</td>\n",
       "      <td>...</td>\n",
       "      <td>0</td>\n",
       "      <td>0</td>\n",
       "      <td>NaN</td>\n",
       "      <td>4.166667</td>\n",
       "      <td>0</td>\n",
       "      <td>0</td>\n",
       "      <td>0</td>\n",
       "      <td>0</td>\n",
       "      <td>5.669881</td>\n",
       "      <td>9.288042</td>\n",
       "    </tr>\n",
       "    <tr>\n",
       "      <th>39</th>\n",
       "      <td>89</td>\n",
       "      <td>32093.0</td>\n",
       "      <td>10353.0</td>\n",
       "      <td>NaN</td>\n",
       "      <td>NaN</td>\n",
       "      <td>192.0</td>\n",
       "      <td>58.0</td>\n",
       "      <td>74.0</td>\n",
       "      <td>200.0</td>\n",
       "      <td>0</td>\n",
       "      <td>...</td>\n",
       "      <td>1</td>\n",
       "      <td>0</td>\n",
       "      <td>10.376393</td>\n",
       "      <td>3.448276</td>\n",
       "      <td>0</td>\n",
       "      <td>0</td>\n",
       "      <td>0</td>\n",
       "      <td>0</td>\n",
       "      <td>5.257495</td>\n",
       "      <td>9.245031</td>\n",
       "    </tr>\n",
       "    <tr>\n",
       "      <th>89</th>\n",
       "      <td>11</td>\n",
       "      <td>56200.0</td>\n",
       "      <td>19740.0</td>\n",
       "      <td>NaN</td>\n",
       "      <td>NaN</td>\n",
       "      <td>888.0</td>\n",
       "      <td>105.0</td>\n",
       "      <td>150.0</td>\n",
       "      <td>430.0</td>\n",
       "      <td>0</td>\n",
       "      <td>...</td>\n",
       "      <td>1</td>\n",
       "      <td>0</td>\n",
       "      <td>10.936672</td>\n",
       "      <td>4.095238</td>\n",
       "      <td>0</td>\n",
       "      <td>1</td>\n",
       "      <td>0</td>\n",
       "      <td>0</td>\n",
       "      <td>6.788972</td>\n",
       "      <td>9.890402</td>\n",
       "    </tr>\n",
       "    <tr>\n",
       "      <th>123</th>\n",
       "      <td>146</td>\n",
       "      <td>30000.0</td>\n",
       "      <td>16585.0</td>\n",
       "      <td>NaN</td>\n",
       "      <td>NaN</td>\n",
       "      <td>316.0</td>\n",
       "      <td>83.0</td>\n",
       "      <td>85.0</td>\n",
       "      <td>217.0</td>\n",
       "      <td>0</td>\n",
       "      <td>...</td>\n",
       "      <td>0</td>\n",
       "      <td>0</td>\n",
       "      <td>10.308952</td>\n",
       "      <td>2.614458</td>\n",
       "      <td>0</td>\n",
       "      <td>0</td>\n",
       "      <td>0</td>\n",
       "      <td>0</td>\n",
       "      <td>5.755742</td>\n",
       "      <td>9.716254</td>\n",
       "    </tr>\n",
       "    <tr>\n",
       "      <th>127</th>\n",
       "      <td>117</td>\n",
       "      <td>29499.0</td>\n",
       "      <td>7716.0</td>\n",
       "      <td>NaN</td>\n",
       "      <td>NaN</td>\n",
       "      <td>345.0</td>\n",
       "      <td>NaN</td>\n",
       "      <td>95.0</td>\n",
       "      <td>169.0</td>\n",
       "      <td>0</td>\n",
       "      <td>...</td>\n",
       "      <td>0</td>\n",
       "      <td>0</td>\n",
       "      <td>10.292111</td>\n",
       "      <td>NaN</td>\n",
       "      <td>0</td>\n",
       "      <td>0</td>\n",
       "      <td>0</td>\n",
       "      <td>0</td>\n",
       "      <td>5.843544</td>\n",
       "      <td>8.951052</td>\n",
       "    </tr>\n",
       "    <tr>\n",
       "      <th>155</th>\n",
       "      <td>120</td>\n",
       "      <td>29800.0</td>\n",
       "      <td>12870.0</td>\n",
       "      <td>NaN</td>\n",
       "      <td>NaN</td>\n",
       "      <td>200.0</td>\n",
       "      <td>35.0</td>\n",
       "      <td>NaN</td>\n",
       "      <td>327.0</td>\n",
       "      <td>1</td>\n",
       "      <td>...</td>\n",
       "      <td>0</td>\n",
       "      <td>0</td>\n",
       "      <td>10.302263</td>\n",
       "      <td>9.342857</td>\n",
       "      <td>0</td>\n",
       "      <td>0</td>\n",
       "      <td>0</td>\n",
       "      <td>0</td>\n",
       "      <td>5.298317</td>\n",
       "      <td>9.462654</td>\n",
       "    </tr>\n",
       "  </tbody>\n",
       "</table>\n",
       "<p>6 rows × 21 columns</p>\n",
       "</div>"
      ],
      "text/plain": [
       "     rank   salary     cost  LSAT  GPA  libvol  faculty    age  clsize  north  \\\n",
       "24    133      NaN  10808.0   NaN  NaN   290.0     72.0   26.0   300.0      1   \n",
       "39     89  32093.0  10353.0   NaN  NaN   192.0     58.0   74.0   200.0      0   \n",
       "89     11  56200.0  19740.0   NaN  NaN   888.0    105.0  150.0   430.0      0   \n",
       "123   146  30000.0  16585.0   NaN  NaN   316.0     83.0   85.0   217.0      0   \n",
       "127   117  29499.0   7716.0   NaN  NaN   345.0      NaN   95.0   169.0      0   \n",
       "155   120  29800.0  12870.0   NaN  NaN   200.0     35.0    NaN   327.0      1   \n",
       "\n",
       "     ...  east  west    lsalary   studfac  top10  r11_25  r26_40  r41_60  \\\n",
       "24   ...     0     0        NaN  4.166667      0       0       0       0   \n",
       "39   ...     1     0  10.376393  3.448276      0       0       0       0   \n",
       "89   ...     1     0  10.936672  4.095238      0       1       0       0   \n",
       "123  ...     0     0  10.308952  2.614458      0       0       0       0   \n",
       "127  ...     0     0  10.292111       NaN      0       0       0       0   \n",
       "155  ...     0     0  10.302263  9.342857      0       0       0       0   \n",
       "\n",
       "      llibvol     lcost  \n",
       "24   5.669881  9.288042  \n",
       "39   5.257495  9.245031  \n",
       "89   6.788972  9.890402  \n",
       "123  5.755742  9.716254  \n",
       "127  5.843544  8.951052  \n",
       "155  5.298317  9.462654  \n",
       "\n",
       "[6 rows x 21 columns]"
      ]
     },
     "execution_count": 25,
     "metadata": {},
     "output_type": "execute_result"
    }
   ],
   "source": [
    "# find rows missing LSAT score\n",
    "lawsch85[last_pd.isna()]"
   ]
  },
  {
   "cell_type": "code",
   "execution_count": 28,
   "id": "ea518a32",
   "metadata": {},
   "outputs": [
    {
     "data": {
      "text/plain": [
       "rank        0\n",
       "salary      8\n",
       "cost        6\n",
       "LSAT        6\n",
       "GPA         7\n",
       "libvol      1\n",
       "faculty     4\n",
       "age        45\n",
       "clsize      3\n",
       "north       0\n",
       "south       0\n",
       "east        0\n",
       "west        0\n",
       "lsalary     8\n",
       "studfac     6\n",
       "top10       0\n",
       "r11_25      0\n",
       "r26_40      0\n",
       "r41_60      0\n",
       "llibvol     1\n",
       "lcost       6\n",
       "dtype: int64"
      ]
     },
     "execution_count": 28,
     "metadata": {},
     "output_type": "execute_result"
    }
   ],
   "source": [
    "# count missing entries in each column\n",
    "# since False is 0 and True is 1, the sum indicates the number of null values\n",
    "lawsch85.isna().sum()"
   ]
  },
  {
   "cell_type": "code",
   "execution_count": 31,
   "id": "53b2a399",
   "metadata": {},
   "outputs": [
    {
     "data": {
      "text/plain": [
       "0    90\n",
       "1    41\n",
       "2    17\n",
       "3     6\n",
       "4     2\n",
       "dtype: int64"
      ]
     },
     "execution_count": 31,
     "metadata": {},
     "output_type": "execute_result"
    }
   ],
   "source": [
    "# there are 90 full rows with zero null values\n",
    "lawsch85.isna().sum(axis = 1).value_counts()"
   ]
  },
  {
   "cell_type": "code",
   "execution_count": 34,
   "id": "717c9e14",
   "metadata": {},
   "outputs": [
    {
     "data": {
      "text/html": [
       "<table class=\"simpletable\">\n",
       "<caption>OLS Regression Results</caption>\n",
       "<tr>\n",
       "  <th>Dep. Variable:</th>     <td>np.log(salary)</td>  <th>  R-squared:         </th> <td>   0.671</td>\n",
       "</tr>\n",
       "<tr>\n",
       "  <th>Model:</th>                   <td>OLS</td>       <th>  Adj. R-squared:    </th> <td>   0.660</td>\n",
       "</tr>\n",
       "<tr>\n",
       "  <th>Method:</th>             <td>Least Squares</td>  <th>  F-statistic:       </th> <td>   61.81</td>\n",
       "</tr>\n",
       "<tr>\n",
       "  <th>Date:</th>             <td>Sun, 12 Jun 2022</td> <th>  Prob (F-statistic):</th> <td>7.00e-22</td>\n",
       "</tr>\n",
       "<tr>\n",
       "  <th>Time:</th>                 <td>18:16:21</td>     <th>  Log-Likelihood:    </th> <td>  44.636</td>\n",
       "</tr>\n",
       "<tr>\n",
       "  <th>No. Observations:</th>      <td>    95</td>      <th>  AIC:               </th> <td>  -81.27</td>\n",
       "</tr>\n",
       "<tr>\n",
       "  <th>Df Residuals:</th>          <td>    91</td>      <th>  BIC:               </th> <td>  -71.06</td>\n",
       "</tr>\n",
       "<tr>\n",
       "  <th>Df Model:</th>              <td>     3</td>      <th>                     </th>     <td> </td>   \n",
       "</tr>\n",
       "<tr>\n",
       "  <th>Covariance Type:</th>      <td>nonrobust</td>    <th>                     </th>     <td> </td>   \n",
       "</tr>\n",
       "</table>\n",
       "<table class=\"simpletable\">\n",
       "<tr>\n",
       "      <td></td>         <th>coef</th>     <th>std err</th>      <th>t</th>      <th>P>|t|</th>  <th>[0.025</th>    <th>0.975]</th>  \n",
       "</tr>\n",
       "<tr>\n",
       "  <th>Intercept</th> <td>    4.3842</td> <td>    0.678</td> <td>    6.465</td> <td> 0.000</td> <td>    3.037</td> <td>    5.731</td>\n",
       "</tr>\n",
       "<tr>\n",
       "  <th>LSAT</th>      <td>    0.0372</td> <td>    0.005</td> <td>    8.269</td> <td> 0.000</td> <td>    0.028</td> <td>    0.046</td>\n",
       "</tr>\n",
       "<tr>\n",
       "  <th>cost</th>      <td> 1.114e-05</td> <td> 4.32e-06</td> <td>    2.577</td> <td> 0.012</td> <td> 2.55e-06</td> <td> 1.97e-05</td>\n",
       "</tr>\n",
       "<tr>\n",
       "  <th>age</th>       <td>    0.0015</td> <td>    0.000</td> <td>    3.453</td> <td> 0.001</td> <td>    0.001</td> <td>    0.002</td>\n",
       "</tr>\n",
       "</table>\n",
       "<table class=\"simpletable\">\n",
       "<tr>\n",
       "  <th>Omnibus:</th>       <td> 1.893</td> <th>  Durbin-Watson:     </th> <td>   1.931</td>\n",
       "</tr>\n",
       "<tr>\n",
       "  <th>Prob(Omnibus):</th> <td> 0.388</td> <th>  Jarque-Bera (JB):  </th> <td>   1.428</td>\n",
       "</tr>\n",
       "<tr>\n",
       "  <th>Skew:</th>          <td> 0.014</td> <th>  Prob(JB):          </th> <td>   0.490</td>\n",
       "</tr>\n",
       "<tr>\n",
       "  <th>Kurtosis:</th>      <td> 3.600</td> <th>  Cond. No.          </th> <td>5.69e+05</td>\n",
       "</tr>\n",
       "</table><br/><br/>Notes:<br/>[1] Standard Errors assume that the covariance matrix of the errors is correctly specified.<br/>[2] The condition number is large, 5.69e+05. This might indicate that there are<br/>strong multicollinearity or other numerical problems."
      ],
      "text/plain": [
       "<class 'statsmodels.iolib.summary.Summary'>\n",
       "\"\"\"\n",
       "                            OLS Regression Results                            \n",
       "==============================================================================\n",
       "Dep. Variable:         np.log(salary)   R-squared:                       0.671\n",
       "Model:                            OLS   Adj. R-squared:                  0.660\n",
       "Method:                 Least Squares   F-statistic:                     61.81\n",
       "Date:                Sun, 12 Jun 2022   Prob (F-statistic):           7.00e-22\n",
       "Time:                        18:16:21   Log-Likelihood:                 44.636\n",
       "No. Observations:                  95   AIC:                            -81.27\n",
       "Df Residuals:                      91   BIC:                            -71.06\n",
       "Df Model:                           3                                         \n",
       "Covariance Type:            nonrobust                                         \n",
       "==============================================================================\n",
       "                 coef    std err          t      P>|t|      [0.025      0.975]\n",
       "------------------------------------------------------------------------------\n",
       "Intercept      4.3842      0.678      6.465      0.000       3.037       5.731\n",
       "LSAT           0.0372      0.005      8.269      0.000       0.028       0.046\n",
       "cost        1.114e-05   4.32e-06      2.577      0.012    2.55e-06    1.97e-05\n",
       "age            0.0015      0.000      3.453      0.001       0.001       0.002\n",
       "==============================================================================\n",
       "Omnibus:                        1.893   Durbin-Watson:                   1.931\n",
       "Prob(Omnibus):                  0.388   Jarque-Bera (JB):                1.428\n",
       "Skew:                           0.014   Prob(JB):                        0.490\n",
       "Kurtosis:                       3.600   Cond. No.                     5.69e+05\n",
       "==============================================================================\n",
       "\n",
       "Notes:\n",
       "[1] Standard Errors assume that the covariance matrix of the errors is correctly specified.\n",
       "[2] The condition number is large, 5.69e+05. This might indicate that there are\n",
       "strong multicollinearity or other numerical problems.\n",
       "\"\"\""
      ]
     },
     "execution_count": 34,
     "metadata": {},
     "output_type": "execute_result"
    }
   ],
   "source": [
    "# all that is important in script 9.8 is to show that the smf.ols() automatically removes null values\n",
    "n = lawsch85.shape[0]\n",
    "formula = \"np.log(salary) ~ LSAT + cost + age\"\n",
    "reg = smf.ols(formula = formula,\n",
    "       data = lawsch85)\n",
    "results = reg.fit()\n",
    "results.summary()"
   ]
  },
  {
   "cell_type": "markdown",
   "id": "60e6ed90",
   "metadata": {},
   "source": [
    "#### Notice that $n_{ols} = 95$"
   ]
  },
  {
   "cell_type": "code",
   "execution_count": 35,
   "id": "836de73d",
   "metadata": {},
   "outputs": [
    {
     "data": {
      "text/plain": [
       "95.0"
      ]
     },
     "execution_count": 35,
     "metadata": {},
     "output_type": "execute_result"
    }
   ],
   "source": [
    "n_ols = results.nobs\n",
    "n_ols"
   ]
  },
  {
   "cell_type": "markdown",
   "id": "1e7e1862",
   "metadata": {},
   "source": [
    "#### Moral of the story: make sure you know what your code is doing to your data!!!\n",
    "\n",
    "## 9.4. Outlying Observations"
   ]
  },
  {
   "cell_type": "code",
   "execution_count": 40,
   "id": "8ff6d300",
   "metadata": {},
   "outputs": [
    {
     "data": {
      "text/plain": [
       "array([ 4.55503342, -0.78527769,  0.26280619,  0.07469237,  0.31625632,\n",
       "       -0.55994021, -0.00587207,  0.72771837,  0.87822836, -1.8180394 ,\n",
       "       -0.75924574, -0.43123878, -0.57927819, -0.55716727,  0.02378544,\n",
       "       -0.55518453, -0.69742435, -0.07684442, -0.646037  ,  0.22939917,\n",
       "        0.88570162,  1.89264456,  0.14009092, -1.248099  , -0.22593424,\n",
       "        1.10940621, -0.54926455, -0.883769  ,  1.71445402, -0.95396201,\n",
       "       -0.48283331, -0.7665804 ])"
      ]
     },
     "execution_count": 40,
     "metadata": {},
     "output_type": "execute_result"
    }
   ],
   "source": [
    "rdchem = woo.dataWoo(\"rdchem\")\n",
    "\n",
    "# OLS regression\n",
    "formula = \"rdintens ~ sales + profmarg\"\n",
    "reg = smf.ols(formula = formula,\n",
    "             data = rdchem)\n",
    "results = reg.fit()\n",
    "\n",
    "studres = results.get_influence().resid_studentized_external\n",
    "studres\n"
   ]
  },
  {
   "cell_type": "code",
   "execution_count": 39,
   "id": "8bf0fcf9",
   "metadata": {},
   "outputs": [
    {
     "data": {
      "text/plain": [
       "(-1.8180393952811664, 4.555033421514247)"
      ]
     },
     "execution_count": 39,
     "metadata": {},
     "output_type": "execute_result"
    }
   ],
   "source": [
    "# display extreme values\n",
    "studres_max = np.max(studres)\n",
    "studres_min = np.min(studres)\n",
    "studres_min, studres_max"
   ]
  },
  {
   "cell_type": "code",
   "execution_count": 44,
   "id": "da0a42a5",
   "metadata": {},
   "outputs": [
    {
     "data": {
      "text/plain": [
       "Text(0.5, 0, 'Studentized Residuals')"
      ]
     },
     "execution_count": 44,
     "metadata": {},
     "output_type": "execute_result"
    },
    {
     "data": {
      "image/png": "[encoded data removed]",
      "text/plain": [
       "<Figure size 1440x720 with 1 Axes>"
      ]
     },
     "metadata": {
      "needs_background": "light"
     },
     "output_type": "display_data"
    }
   ],
   "source": [
    "plt.rcParams.update({\"font.size\":32})\n",
    "kde = sm.nonparametric.KDEUnivariate(studres)\n",
    "kde.fit()\n",
    "\n",
    "fig, ax = plt.subplots(figsize = (20, 10))\n",
    "ax.hist(studres, color = \"k\", alpha = .5, density = True)\n",
    "ax.plot(kde.support, kde.density, color = \"k\", linewidth = 3)\n",
    "ax.set_ylabel(\"Density\")\n",
    "ax.set_xlabel(\"Studentized Residuals\")\n"
   ]
  },
  {
   "cell_type": "markdown",
   "id": "076fca90",
   "metadata": {},
   "source": [
    "## 9.5. Least Absolute Deviations\n",
    "We can build an estimator that sums the absolute distance, rather than the squared distance of observations from the line. \n",
    "\n",
    "Using q = .5, we choose the 50\\% quantile which estimates using the median value."
   ]
  },
  {
   "cell_type": "code",
   "execution_count": 45,
   "id": "bc60afb1",
   "metadata": {},
   "outputs": [
    {
     "data": {
      "text/html": [
       "<div>\n",
       "<style scoped>\n",
       "    .dataframe tbody tr th:only-of-type {\n",
       "        vertical-align: middle;\n",
       "    }\n",
       "\n",
       "    .dataframe tbody tr th {\n",
       "        vertical-align: top;\n",
       "    }\n",
       "\n",
       "    .dataframe thead th {\n",
       "        text-align: right;\n",
       "    }\n",
       "</style>\n",
       "<table border=\"1\" class=\"dataframe\">\n",
       "  <thead>\n",
       "    <tr style=\"text-align: right;\">\n",
       "      <th></th>\n",
       "      <th>$\\beta $</th>\n",
       "      <th>$t$</th>\n",
       "      <th>$$P&gt;|t|$$</th>\n",
       "      <th>$SE$</th>\n",
       "    </tr>\n",
       "    <tr>\n",
       "      <th>$$r^2: 0.0761$$</th>\n",
       "      <th></th>\n",
       "      <th></th>\n",
       "      <th></th>\n",
       "      <th></th>\n",
       "    </tr>\n",
       "  </thead>\n",
       "  <tbody>\n",
       "    <tr>\n",
       "      <th>Intercept</th>\n",
       "      <td>2.6253</td>\n",
       "      <td>4.4835</td>\n",
       "      <td>0.0001</td>\n",
       "      <td>0.5855</td>\n",
       "    </tr>\n",
       "    <tr>\n",
       "      <th>I(sales / 1000)</th>\n",
       "      <td>0.0534</td>\n",
       "      <td>1.2111</td>\n",
       "      <td>0.2356</td>\n",
       "      <td>0.0441</td>\n",
       "    </tr>\n",
       "    <tr>\n",
       "      <th>profmarg</th>\n",
       "      <td>0.0446</td>\n",
       "      <td>0.9661</td>\n",
       "      <td>0.3420</td>\n",
       "      <td>0.0462</td>\n",
       "    </tr>\n",
       "  </tbody>\n",
       "</table>\n",
       "</div>"
      ],
      "text/plain": [
       "                 $\\beta $     $t$  $$P>|t|$$    $SE$\n",
       "$$r^2: 0.0761$$                                     \n",
       "Intercept          2.6253  4.4835     0.0001  0.5855\n",
       "I(sales / 1000)    0.0534  1.2111     0.2356  0.0441\n",
       "profmarg           0.0446  0.9661     0.3420  0.0462"
      ]
     },
     "execution_count": 45,
     "metadata": {},
     "output_type": "execute_result"
    }
   ],
   "source": [
    "formula = \"rdintens ~ I(sales / 1000) + profmarg\"\n",
    "reg_ols = smf.ols(formula = formula,\n",
    "                 data = rdchem)\n",
    "results_ols = reg_ols.fit()\n",
    "OLS_summary(results_ols)"
   ]
  },
  {
   "cell_type": "code",
   "execution_count": 46,
   "id": "4a44bafa",
   "metadata": {},
   "outputs": [
    {
     "data": {
      "text/html": [
       "<div>\n",
       "<style scoped>\n",
       "    .dataframe tbody tr th:only-of-type {\n",
       "        vertical-align: middle;\n",
       "    }\n",
       "\n",
       "    .dataframe tbody tr th {\n",
       "        vertical-align: top;\n",
       "    }\n",
       "\n",
       "    .dataframe thead th {\n",
       "        text-align: right;\n",
       "    }\n",
       "</style>\n",
       "<table border=\"1\" class=\"dataframe\">\n",
       "  <thead>\n",
       "    <tr style=\"text-align: right;\">\n",
       "      <th></th>\n",
       "      <th>$\\beta $</th>\n",
       "      <th>$t$</th>\n",
       "      <th>$$P&gt;|t|$$</th>\n",
       "      <th>$SE$</th>\n",
       "    </tr>\n",
       "    <tr>\n",
       "      <th>$$r^2: nan$$</th>\n",
       "      <th></th>\n",
       "      <th></th>\n",
       "      <th></th>\n",
       "      <th></th>\n",
       "    </tr>\n",
       "  </thead>\n",
       "  <tbody>\n",
       "    <tr>\n",
       "      <th>Intercept</th>\n",
       "      <td>1.6231</td>\n",
       "      <td>2.3148</td>\n",
       "      <td>0.0279</td>\n",
       "      <td>0.7012</td>\n",
       "    </tr>\n",
       "    <tr>\n",
       "      <th>I(sales / 1000)</th>\n",
       "      <td>0.0186</td>\n",
       "      <td>0.3529</td>\n",
       "      <td>0.7267</td>\n",
       "      <td>0.0528</td>\n",
       "    </tr>\n",
       "    <tr>\n",
       "      <th>profmarg</th>\n",
       "      <td>0.1179</td>\n",
       "      <td>2.1320</td>\n",
       "      <td>0.0416</td>\n",
       "      <td>0.0553</td>\n",
       "    </tr>\n",
       "  </tbody>\n",
       "</table>\n",
       "</div>"
      ],
      "text/plain": [
       "                 $\\beta $     $t$  $$P>|t|$$    $SE$\n",
       "$$r^2: nan$$                                        \n",
       "Intercept          1.6231  2.3148     0.0279  0.7012\n",
       "I(sales / 1000)    0.0186  0.3529     0.7267  0.0528\n",
       "profmarg           0.1179  2.1320     0.0416  0.0553"
      ]
     },
     "execution_count": 46,
     "metadata": {},
     "output_type": "execute_result"
    }
   ],
   "source": [
    "reg_lad = smf.quantreg(formula = formula,\n",
    "                      data = rdchem)\n",
    "results_lad = reg_lad.fit(q = .5)\n",
    "OLS_summary(results_lad)"
   ]
  }
 ],
 "metadata": {
  "kernelspec": {
   "display_name": "Python 3 (ipykernel)",
   "language": "python",
   "name": "python3"
  },
  "language_info": {
   "codemirror_mode": {
    "name": "ipython",
    "version": 3
   },
   "file_extension": ".py",
   "mimetype": "text/x-python",
   "name": "python",
   "nbconvert_exporter": "python",
   "pygments_lexer": "ipython3",
   "version": "3.9.12"
  }
 },
 "nbformat": 4,
 "nbformat_minor": 5
}
