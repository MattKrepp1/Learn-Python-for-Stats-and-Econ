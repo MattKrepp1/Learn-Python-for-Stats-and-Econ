{
 "cells": [
  {
   "cell_type": "markdown",
   "id": "b7456e62",
   "metadata": {},
   "source": [
    "# 17. Limited Dependent Variable Models and Sample Selection Corrections\n",
    "\n",
    "## 17.1 Binary Responses\n",
    "\n",
    "### 17.1.1 Linear Probability Models\n",
    "\n",
    "### Example 17.1: Married Women's Labor Force Participation"
   ]
  },
  {
   "cell_type": "code",
   "execution_count": 2,
   "id": "d60d40ea",
   "metadata": {},
   "outputs": [
    {
     "data": {
      "text/html": [
       "<div>\n",
       "<style scoped>\n",
       "    .dataframe tbody tr th:only-of-type {\n",
       "        vertical-align: middle;\n",
       "    }\n",
       "\n",
       "    .dataframe tbody tr th {\n",
       "        vertical-align: top;\n",
       "    }\n",
       "\n",
       "    .dataframe thead th {\n",
       "        text-align: right;\n",
       "    }\n",
       "</style>\n",
       "<table border=\"1\" class=\"dataframe\">\n",
       "  <thead>\n",
       "    <tr style=\"text-align: right;\">\n",
       "      <th></th>\n",
       "      <th>$\\beta $</th>\n",
       "      <th>$t$</th>\n",
       "      <th>$$P&gt;|t|$$</th>\n",
       "      <th>$SE$</th>\n",
       "    </tr>\n",
       "    <tr>\n",
       "      <th>$$r^2: 0.2642$$</th>\n",
       "      <th></th>\n",
       "      <th></th>\n",
       "      <th></th>\n",
       "      <th></th>\n",
       "    </tr>\n",
       "  </thead>\n",
       "  <tbody>\n",
       "    <tr>\n",
       "      <th>Intercept</th>\n",
       "      <td>0.5855</td>\n",
       "      <td>3.8125</td>\n",
       "      <td>0.0001</td>\n",
       "      <td>0.1536</td>\n",
       "    </tr>\n",
       "    <tr>\n",
       "      <th>nwifeinc</th>\n",
       "      <td>-0.0034</td>\n",
       "      <td>-2.1852</td>\n",
       "      <td>0.0289</td>\n",
       "      <td>0.0016</td>\n",
       "    </tr>\n",
       "    <tr>\n",
       "      <th>educ</th>\n",
       "      <td>0.0380</td>\n",
       "      <td>5.1766</td>\n",
       "      <td>0.0000</td>\n",
       "      <td>0.0073</td>\n",
       "    </tr>\n",
       "    <tr>\n",
       "      <th>exper</th>\n",
       "      <td>0.0395</td>\n",
       "      <td>6.6001</td>\n",
       "      <td>0.0000</td>\n",
       "      <td>0.0060</td>\n",
       "    </tr>\n",
       "    <tr>\n",
       "      <th>I(exper ** 2)</th>\n",
       "      <td>-0.0006</td>\n",
       "      <td>-2.9973</td>\n",
       "      <td>0.0027</td>\n",
       "      <td>0.0002</td>\n",
       "    </tr>\n",
       "    <tr>\n",
       "      <th>age</th>\n",
       "      <td>-0.0161</td>\n",
       "      <td>-6.6640</td>\n",
       "      <td>0.0000</td>\n",
       "      <td>0.0024</td>\n",
       "    </tr>\n",
       "    <tr>\n",
       "      <th>kidslt6</th>\n",
       "      <td>-0.2618</td>\n",
       "      <td>-8.1430</td>\n",
       "      <td>0.0000</td>\n",
       "      <td>0.0322</td>\n",
       "    </tr>\n",
       "    <tr>\n",
       "      <th>kidsge6</th>\n",
       "      <td>0.0130</td>\n",
       "      <td>0.9526</td>\n",
       "      <td>0.3408</td>\n",
       "      <td>0.0137</td>\n",
       "    </tr>\n",
       "  </tbody>\n",
       "</table>\n",
       "</div>"
      ],
      "text/plain": [
       "                 $\\beta $     $t$  $$P>|t|$$    $SE$\n",
       "$$r^2: 0.2642$$                                     \n",
       "Intercept          0.5855  3.8125     0.0001  0.1536\n",
       "nwifeinc          -0.0034 -2.1852     0.0289  0.0016\n",
       "educ               0.0380  5.1766     0.0000  0.0073\n",
       "exper              0.0395  6.6001     0.0000  0.0060\n",
       "I(exper ** 2)     -0.0006 -2.9973     0.0027  0.0002\n",
       "age               -0.0161 -6.6640     0.0000  0.0024\n",
       "kidslt6           -0.2618 -8.1430     0.0000  0.0322\n",
       "kidsge6            0.0130  0.9526     0.3408  0.0137"
      ]
     },
     "execution_count": 2,
     "metadata": {},
     "output_type": "execute_result"
    }
   ],
   "source": [
    "import wooldridge as woo\n",
    "import pandas as pd\n",
    "import statsmodels.formula.api as smf\n",
    "from supplementaryFunctions import *\n",
    "mroz = woo.dataWoo(\"mroz\")\n",
    "\n",
    "#estimate linear probability model\n",
    "formula = \"inlf ~ nwifeinc + educ + exper + I(exper**2) + age + kidslt6 + kidsge6\"\n",
    "reg_lin = smf.ols(formula = formula,\n",
    "                 data = mroz)\n",
    "results_lin = reg_lin.fit(cov_type = \"HC3\")\n",
    "OLS_summary(results_lin)"
   ]
  },
  {
   "cell_type": "markdown",
   "id": "a6df6d60",
   "metadata": {},
   "source": [
    "#### These beta estimates can generate nonsensical results. For example, if we just took the min and max values of the explanatory variables, we would generate the following predictions."
   ]
  },
  {
   "cell_type": "code",
   "execution_count": 14,
   "id": "14aee038",
   "metadata": {},
   "outputs": [
    {
     "data": {
      "text/html": [
       "<div>\n",
       "<style scoped>\n",
       "    .dataframe tbody tr th:only-of-type {\n",
       "        vertical-align: middle;\n",
       "    }\n",
       "\n",
       "    .dataframe tbody tr th {\n",
       "        vertical-align: top;\n",
       "    }\n",
       "\n",
       "    .dataframe thead th {\n",
       "        text-align: right;\n",
       "    }\n",
       "</style>\n",
       "<table border=\"1\" class=\"dataframe\">\n",
       "  <thead>\n",
       "    <tr style=\"text-align: right;\">\n",
       "      <th></th>\n",
       "      <th>nwifeinc</th>\n",
       "      <th>educ</th>\n",
       "      <th>exper</th>\n",
       "      <th>age</th>\n",
       "      <th>kidslt6</th>\n",
       "      <th>kidsge6</th>\n",
       "    </tr>\n",
       "  </thead>\n",
       "  <tbody>\n",
       "    <tr>\n",
       "      <th>min</th>\n",
       "      <td>-0.029057</td>\n",
       "      <td>5.0</td>\n",
       "      <td>0.0</td>\n",
       "      <td>30.0</td>\n",
       "      <td>0.0</td>\n",
       "      <td>0.0</td>\n",
       "    </tr>\n",
       "    <tr>\n",
       "      <th>max</th>\n",
       "      <td>96.000000</td>\n",
       "      <td>17.0</td>\n",
       "      <td>45.0</td>\n",
       "      <td>60.0</td>\n",
       "      <td>3.0</td>\n",
       "      <td>8.0</td>\n",
       "    </tr>\n",
       "  </tbody>\n",
       "</table>\n",
       "</div>"
      ],
      "text/plain": [
       "      nwifeinc  educ  exper   age  kidslt6  kidsge6\n",
       "min  -0.029057   5.0    0.0  30.0      0.0      0.0\n",
       "max  96.000000  17.0   45.0  60.0      3.0      8.0"
      ]
     },
     "execution_count": 14,
     "metadata": {},
     "output_type": "execute_result"
    }
   ],
   "source": [
    "reg_vars = [\"nwifeinc\", \"educ\", \"exper\", \"age\", \"kidslt6\", \"kidsge6\"]\n",
    "extreme = mroz.describe().loc[[\"min\", \"max\"], reg_vars]\n",
    "extreme"
   ]
  },
  {
   "cell_type": "code",
   "execution_count": 16,
   "id": "68aa0454",
   "metadata": {},
   "outputs": [
    {
     "data": {
      "text/plain": [
       "min    0.292871\n",
       "max   -0.172613\n",
       "dtype: float64"
      ]
     },
     "execution_count": 16,
     "metadata": {},
     "output_type": "execute_result"
    }
   ],
   "source": [
    "results_robust = reg_lin.fit(cov_type=\"HC3\")\n",
    "extreme_predictions = results_robust.predict(extreme)\n",
    "extreme_predictions"
   ]
  },
  {
   "cell_type": "code",
   "execution_count": null,
   "id": "f3f3672d",
   "metadata": {},
   "outputs": [],
   "source": []
  }
 ],
 "metadata": {
  "kernelspec": {
   "display_name": "Python 3 (ipykernel)",
   "language": "python",
   "name": "python3"
  },
  "language_info": {
   "codemirror_mode": {
    "name": "ipython",
    "version": 3
   },
   "file_extension": ".py",
   "mimetype": "text/x-python",
   "name": "python",
   "nbconvert_exporter": "python",
   "pygments_lexer": "ipython3",
   "version": "3.9.12"
  }
 },
 "nbformat": 4,
 "nbformat_minor": 5
}
