{
 "cells": [
  {
   "cell_type": "markdown",
   "metadata": {},
   "source": [
    "# Chapter 6: Importing, Cleaning, and Analyzing Data\n",
    "\n",
    "## Importing, Managing, and Analyzing Data\n",
    "\n",
    "| New Concepts | Description |\n",
    "| --- | --- |\n",
    "| _pandas_ methods (more) | *pd.read_excel()*, *pd.to_numeric()*, *pd.to_csv()* |\n",
    "\n",
    "We live in the age of data. With a little bit of searching and some idea of what you would like to investigate, you will be able to find data online. In the following exercise we will use data from the Index of Economic Freedom. Visit their [downloads page](http://www.heritage.org/index/download).\n",
    "\n",
    "Under the section titled 2017 Index of Economic Freedom, click the button titled Download Raw Data.\n",
    "\n",
    "<img src=\"https://raw.githubusercontent.com/jlcatonjr/Learn-Python-for-Stats-and-Econ/master/2017IndexOfEconomicFreedomDownloadPage.png\" alt=\"Heritage Economic Freedom Download Page\" title=\"Figure 6.1\" />\n",
    "<h3><center>Figure 6.1</center></h3>\n",
    "\n",
    "Download it to the same folder in which you have saved the py files that you are using this chapter. Save the data as a csv, rather than as an excel document.\n",
    "\n",
    "### Working with Data\n",
    "\n",
    "Once you have saved it, we will import the data using pandas library. We use DataFrame() frame function to build a data frame. Using from_csv we are able to import the csv as a data frame. This automatically imports the data using the elements that comprise the header as keys. The data frame works like a dictionary, but is structured like a spreadsheet when printed. The pandas library also has a number of functions that allows you to manipulate data contained in a data frame or series. We also import several other libraries, as well as stats – the stats.py file we saved in the same folder – as we will use these later."
   ]
  },
  {
   "cell_type": "code",
   "execution_count": 13,
   "metadata": {},
   "outputs": [],
   "source": [
    "#economicFreedomStats.py\n",
    "import pandas as pd\n",
    "import stats\n",
    "\n",
    "data = pd.read_excel(\"index2017_data.xlsx\", index_col = [1])"
   ]
  },
  {
   "cell_type": "markdown",
   "metadata": {},
   "source": [
    "If you use shape, you can check the number of rows and columns:"
   ]
  },
  {
   "cell_type": "code",
   "execution_count": 5,
   "metadata": {},
   "outputs": [
    {
     "data": {
      "text/plain": [
       "(186, 33)"
      ]
     },
     "execution_count": 5,
     "metadata": {},
     "output_type": "execute_result"
    }
   ],
   "source": [
    "data.shape"
   ]
  },
  {
   "cell_type": "markdown",
   "metadata": {},
   "source": [
    "Now that we have imported data, we need to clean the data. It is impossible to teach the basics of cleaning data in a short section. Your ability to clean data is dependent upon your ability to find solutions on the spot. This requires practice. Almost any data that you import will need to be cleaned. There will be missing values, string characters, etc… \n",
    "\n",
    "We will start by removing columns with data that will not be useful for this exercise. And we will only included row (i.e., countries) with data for every column. First, let's check the names of the DataFrame columns in the console. Enter:"
   ]
  },
  {
   "cell_type": "code",
   "execution_count": 8,
   "metadata": {},
   "outputs": [
    {
     "data": {
      "text/plain": [
       "Index(['World Rank', 'Region Rank', '2017 Score', 'Property Rights',\n",
       "       'Judical Effectiveness', 'Government Integrity', 'Tax Burden',\n",
       "       'Gov't Spending', 'Fiscal Health', 'Business Freedom', 'Labor Freedom',\n",
       "       'Monetary Freedom', 'Trade Freedom', 'Investment Freedom ',\n",
       "       'Financial Freedom', 'Tariff Rate (%)', 'Income Tax Rate (%)',\n",
       "       'Corporate Tax Rate (%)', 'Tax Burden % of GDP',\n",
       "       'Gov't Expenditure % of GDP ', 'Population (Millions)',\n",
       "       'GDP (Billions, PPP)', 'GDP Growth Rate (%)',\n",
       "       '5 Year GDP Growth Rate (%)', 'GDP per Capita (PPP)',\n",
       "       'Unemployment (%)', 'Inflation (%)', 'FDI Inflow (Millions)',\n",
       "       'Public Debt (% of GDP)'],\n",
       "      dtype='object')"
      ]
     },
     "execution_count": 8,
     "metadata": {},
     "output_type": "execute_result"
    }
   ],
   "source": [
    "data_for_stats.keys()"
   ]
  },
  {
   "cell_type": "markdown",
   "metadata": {},
   "source": [
    "Or:"
   ]
  },
  {
   "cell_type": "code",
   "execution_count": 9,
   "metadata": {},
   "outputs": [
    {
     "data": {
      "text/plain": [
       "Index(['World Rank', 'Region Rank', '2017 Score', 'Property Rights',\n",
       "       'Judical Effectiveness', 'Government Integrity', 'Tax Burden',\n",
       "       'Gov't Spending', 'Fiscal Health', 'Business Freedom', 'Labor Freedom',\n",
       "       'Monetary Freedom', 'Trade Freedom', 'Investment Freedom ',\n",
       "       'Financial Freedom', 'Tariff Rate (%)', 'Income Tax Rate (%)',\n",
       "       'Corporate Tax Rate (%)', 'Tax Burden % of GDP',\n",
       "       'Gov't Expenditure % of GDP ', 'Population (Millions)',\n",
       "       'GDP (Billions, PPP)', 'GDP Growth Rate (%)',\n",
       "       '5 Year GDP Growth Rate (%)', 'GDP per Capita (PPP)',\n",
       "       'Unemployment (%)', 'Inflation (%)', 'FDI Inflow (Millions)',\n",
       "       'Public Debt (% of GDP)'],\n",
       "      dtype='object')"
      ]
     },
     "execution_count": 9,
     "metadata": {},
     "output_type": "execute_result"
    }
   ],
   "source": [
    "data_for_stats.columns"
   ]
  },
  {
   "cell_type": "markdown",
   "metadata": {},
   "source": [
    "We will remove the _\"CountryID\"_, _\"Region\"_, _\"WEBNAME\"_, and _\"Country\"_ columns."
   ]
  },
  {
   "cell_type": "code",
   "execution_count": 7,
   "metadata": {},
   "outputs": [],
   "source": [
    "#economicFreedomStats.py\n",
    "# . . .\n",
    "\n",
    "# some columns are not needed for the purposes of this exercise\n",
    "# we will drop these columns\n",
    "skip_keys = [\"CountryID\", \"Region\", \"WEBNAME\", \"Country\"]\n",
    "data_for_stats = data.drop(skip_keys, axis = 1)\n",
    "# Drop rows that do not include observation for every category\n",
    "data_for_stats = data_for_stats.dropna(thresh = len(data_for_stats.keys()))"
   ]
  },
  {
   "cell_type": "markdown",
   "metadata": {},
   "source": [
    "Let's check the columns again"
   ]
  },
  {
   "cell_type": "markdown",
   "metadata": {},
   "source": [
    "Now the data is cleaned and ready to process. In the next chapter, we will compile regression statistics. For now, we will use the classes we created in the previous chapter to compile statistics. We will make three dictionaries. One dictionary will hold summary statistics that can be derived using only one variable. The other statistics that require two variables, correlation and covariance, will use separate dictionaries. We will use an instance of _Stats()_ to fill these dictionaries with summary statistics."
   ]
  },
  {
   "cell_type": "code",
   "execution_count": 14,
   "metadata": {},
   "outputs": [
    {
     "name": "stdout",
     "output_type": "stream",
     "text": [
      "You created an instance of stats()\n"
     ]
    }
   ],
   "source": [
    "#economicFreedomStats.py\n",
    "# . . . \n",
    "\n",
    "#Next we create dictionaries that will hold statistics for each variable\n",
    "# or pair of variables in the case of cov and corr. Once complete,\n",
    "# we will transform these into DataFrames\n",
    "stat = stats.stats()\n",
    "stats_dict = {}\n",
    "cov_dict = {}\n",
    "corr_dict = {}"
   ]
  },
  {
   "cell_type": "markdown",
   "metadata": {},
   "source": [
    "We are ready to fill the dictionaries with summary statistics. We will use two for-loops. The first for-loop will be used to fill the *stats_dict* with summary statistics requiring only one variable. The second for-loop, which is within the first for-loop, is used to create the corrDict and cov_dict. These latter two dictionaries are each a dictionary of dictionaries. These are called by entering the two variables whose correlation or covariance you would like to see. For example, if you enter *cov_dict[“2017 Score”][“Property Rights”]* after *cov_dict* has been constructed, this will call the covariance of these two variables. The two for-loops cycle through listof variables, thus calling every combination of variables (twice) to create a matrix of covariance and correlation values."
   ]
  },
  {
   "cell_type": "code",
   "execution_count": 17,
   "metadata": {},
   "outputs": [],
   "source": [
    "#economicFreedomStats.py\n",
    "# . . . \n",
    "\n",
    "for key1 in data_for_stats:\n",
    "    vec1 = data_for_stats[key1]\n",
    "    stats_dict[key1] = {}\n",
    "    stats_dict[key1][\"mean\"] = stat.mean(vec1)\n",
    "    stats_dict[key1][\"median\"] = stat.median(vec1)\n",
    "    stats_dict[key1][\"variance\"] = stat.variance(vec1)\n",
    "    stats_dict[key1][\"standard deviation\"] = stat.SD(vec1, sample = True)\n",
    "    stats_dict[key1][\"skewness\"] = stat.skewness(vec1, sample = True)\n",
    "    stats_dict[key1][\"kurtosis\"] = stat.kurtosis(vec1, sample = True)\n",
    "    cov_dict[key1] = {}\n",
    "    corr_dict[key1] = {}\n",
    "    for key2 in data_for_stats:\n",
    "        vec2 = data_for_stats[key2]\n",
    "        cov_dict[key1][key2] =stat.covariance(vec1, vec2, sample = True)\n",
    "        corr_dict[key1][key2] = stat.correlation(vec1, vec2)"
   ]
  },
  {
   "cell_type": "markdown",
   "metadata": {},
   "source": [
    "Finally, if we want to see these tables in a convenient format (i.e., Figure 6.2), we need to export the dictionaries to a csv. First, we convert the dictionaries into pandas data frames using _pd.DataFrame()_. Once the data frames are created, use the command _dataframe.to_csv(path)_ to create csv files in the desired location. In line 61, we also save a csv of the cleaned data for use in the next section. "
   ]
  },
  {
   "cell_type": "code",
   "execution_count": null,
   "metadata": {},
   "outputs": [],
   "source": [
    "#economicFreedomStats.py\n",
    "# . . . \n",
    "\n",
    "#convert stats, cov, and corr dictionaries to pandas DataFrames\n",
    "stats_DF = pd.DataFrame(stats_dict)\n",
    "cov_DF = pd.DataFrame(cov_dict).sort_index(axis = 1)\n",
    "corr_DF = pd.DataFrame(corr_dict).sort_index(axis = 1)\n",
    "\n",
    "#output DataFrames to CSV\n",
    "stats_DF.to_csv(\"econFreedomStatsByCategory.\")"
   ]
  }
 ],
 "metadata": {
  "kernelspec": {
   "display_name": "Python 3",
   "language": "python",
   "name": "python3"
  },
  "language_info": {
   "codemirror_mode": {
    "name": "ipython",
    "version": 3
   },
   "file_extension": ".py",
   "mimetype": "text/x-python",
   "name": "python",
   "nbconvert_exporter": "python",
   "pygments_lexer": "ipython3",
   "version": "3.7.3"
  }
 },
 "nbformat": 4,
 "nbformat_minor": 2
}
