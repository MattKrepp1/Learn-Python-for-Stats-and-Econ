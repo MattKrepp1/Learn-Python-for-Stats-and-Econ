{
 "cells": [
  {
   "cell_type": "markdown",
   "metadata": {},
   "source": [
    "# Chapter 6: Importing, Cleaning, and Analyzing Data\n",
    "\n",
    "## Importing, Managing, and Analyzing Data\n",
    "\n",
    "| New Concepts | Description |\n",
    "| --- | --- |\n",
    "| _pandas_ methods (more) | *pd.read_excel()*, *pd.to_numeric()*, *pd.to_csv()* |\n",
    "\n",
    "We live in the age of data. With a little bit of searching and some idea of what you would like to investigate, you will be able to find data online. In the following exercise we will use data from the Index of Economic Freedom. Visit their [downloads page](http://www.heritage.org/index/download).\n",
    "\n",
    "Under the section titled 2017 Index of Economic Freedom, click the button titled Download Raw Data.\n",
    "\n",
    "<img src=\"https://raw.githubusercontent.com/jlcatonjr/Learn-Python-for-Stats-and-Econ/master/Chapter%201/Figure%201.png\" alt=\"Alt text that describes the graphic\" title=\"Figure 1\" />\n",
    "<h3><center>Figure 1: Run Script</center></h3>"
   ]
  },
  {
   "cell_type": "code",
   "execution_count": null,
   "metadata": {},
   "outputs": [],
   "source": []
  }
 ],
 "metadata": {
  "kernelspec": {
   "display_name": "Python 3",
   "language": "python",
   "name": "python3"
  },
  "language_info": {
   "codemirror_mode": {
    "name": "ipython",
    "version": 3
   },
   "file_extension": ".py",
   "mimetype": "text/x-python",
   "name": "python",
   "nbconvert_exporter": "python",
   "pygments_lexer": "ipython3",
   "version": "3.7.3"
  }
 },
 "nbformat": 4,
 "nbformat_minor": 2
}
